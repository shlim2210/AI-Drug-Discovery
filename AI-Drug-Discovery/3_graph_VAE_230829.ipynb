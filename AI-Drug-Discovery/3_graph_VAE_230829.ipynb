{
  "cells": [
    {
      "cell_type": "markdown",
      "source": [
        "#### Colab Link\n",
        "    https://colab.research.google.com/drive/1xRLI0yjkePhzGk8flStg5p8Romidf6I-?usp=sharing\n",
        "\n",
        "#### Reference\n",
        "\n",
        "    1. Efficient learning of non-autoregressive graph variational autoencoders for molecular graph generation, 2019 ( https://jcheminf.biomedcentral.com/counter/pdf/10.1186/s13321-019-0396-x.pdf )\n",
        "        ✔ Variational Autoencoder를 포함하는 학습 방법을 사용하여 분자 그래프 생성의 전반적인 효율성과 성능 개선\n"
      ],
      "metadata": {
        "id": "FEKVDgRWp6Xt"
      }
    },
    {
      "cell_type": "code",
      "execution_count": null,
      "metadata": {
        "colab": {
          "base_uri": "https://localhost:8080/"
        },
        "id": "1laoLQDftBbS",
        "outputId": "472da899-2dd3-4c29-ffbe-c17b011226b3"
      },
      "outputs": [
        {
          "output_type": "stream",
          "name": "stdout",
          "text": [
            "Mounted at /content/drive\n"
          ]
        }
      ],
      "source": [
        "from google.colab import drive\n",
        "drive.mount('/content/drive', force_remount=True)"
      ]
    },
    {
      "cell_type": "code",
      "execution_count": null,
      "metadata": {
        "colab": {
          "base_uri": "https://localhost:8080/"
        },
        "id": "jzHQwKOJtIxA",
        "outputId": "f3062e24-befd-4ee6-e01f-5b3662ea9b26"
      },
      "outputs": [
        {
          "output_type": "stream",
          "name": "stdout",
          "text": [
            "Collecting wandb\n",
            "  Downloading wandb-0.15.9-py3-none-any.whl (2.1 MB)\n",
            "\u001b[2K     \u001b[90m━━━━━━━━━━━━━━━━━━━━━━━━━━━━━━━━━━━━━━━━\u001b[0m \u001b[32m2.1/2.1 MB\u001b[0m \u001b[31m14.9 MB/s\u001b[0m eta \u001b[36m0:00:00\u001b[0m\n",
            "\u001b[?25hRequirement already satisfied: Click!=8.0.0,>=7.1 in /usr/local/lib/python3.10/dist-packages (from wandb) (8.1.7)\n",
            "Collecting GitPython!=3.1.29,>=1.0.0 (from wandb)\n",
            "  Downloading GitPython-3.1.32-py3-none-any.whl (188 kB)\n",
            "\u001b[2K     \u001b[90m━━━━━━━━━━━━━━━━━━━━━━━━━━━━━━━━━━━━━━\u001b[0m \u001b[32m188.5/188.5 kB\u001b[0m \u001b[31m17.3 MB/s\u001b[0m eta \u001b[36m0:00:00\u001b[0m\n",
            "\u001b[?25hRequirement already satisfied: requests<3,>=2.0.0 in /usr/local/lib/python3.10/dist-packages (from wandb) (2.31.0)\n",
            "Requirement already satisfied: psutil>=5.0.0 in /usr/local/lib/python3.10/dist-packages (from wandb) (5.9.5)\n",
            "Collecting sentry-sdk>=1.0.0 (from wandb)\n",
            "  Downloading sentry_sdk-1.30.0-py2.py3-none-any.whl (218 kB)\n",
            "\u001b[2K     \u001b[90m━━━━━━━━━━━━━━━━━━━━━━━━━━━━━━━━━━━━━━\u001b[0m \u001b[32m218.8/218.8 kB\u001b[0m \u001b[31m18.0 MB/s\u001b[0m eta \u001b[36m0:00:00\u001b[0m\n",
            "\u001b[?25hCollecting docker-pycreds>=0.4.0 (from wandb)\n",
            "  Downloading docker_pycreds-0.4.0-py2.py3-none-any.whl (9.0 kB)\n",
            "Requirement already satisfied: PyYAML in /usr/local/lib/python3.10/dist-packages (from wandb) (6.0.1)\n",
            "Collecting pathtools (from wandb)\n",
            "  Downloading pathtools-0.1.2.tar.gz (11 kB)\n",
            "  Preparing metadata (setup.py) ... \u001b[?25l\u001b[?25hdone\n",
            "Collecting setproctitle (from wandb)\n",
            "  Downloading setproctitle-1.3.2-cp310-cp310-manylinux_2_5_x86_64.manylinux1_x86_64.manylinux_2_17_x86_64.manylinux2014_x86_64.whl (30 kB)\n",
            "Requirement already satisfied: setuptools in /usr/local/lib/python3.10/dist-packages (from wandb) (67.7.2)\n",
            "Requirement already satisfied: appdirs>=1.4.3 in /usr/local/lib/python3.10/dist-packages (from wandb) (1.4.4)\n",
            "Requirement already satisfied: protobuf!=4.21.0,<5,>=3.19.0 in /usr/local/lib/python3.10/dist-packages (from wandb) (3.20.3)\n",
            "Requirement already satisfied: six>=1.4.0 in /usr/local/lib/python3.10/dist-packages (from docker-pycreds>=0.4.0->wandb) (1.16.0)\n",
            "Collecting gitdb<5,>=4.0.1 (from GitPython!=3.1.29,>=1.0.0->wandb)\n",
            "  Downloading gitdb-4.0.10-py3-none-any.whl (62 kB)\n",
            "\u001b[2K     \u001b[90m━━━━━━━━━━━━━━━━━━━━━━━━━━━━━━━━━━━━━━━━\u001b[0m \u001b[32m62.7/62.7 kB\u001b[0m \u001b[31m9.7 MB/s\u001b[0m eta \u001b[36m0:00:00\u001b[0m\n",
            "\u001b[?25hRequirement already satisfied: charset-normalizer<4,>=2 in /usr/local/lib/python3.10/dist-packages (from requests<3,>=2.0.0->wandb) (3.2.0)\n",
            "Requirement already satisfied: idna<4,>=2.5 in /usr/local/lib/python3.10/dist-packages (from requests<3,>=2.0.0->wandb) (3.4)\n",
            "Requirement already satisfied: urllib3<3,>=1.21.1 in /usr/local/lib/python3.10/dist-packages (from requests<3,>=2.0.0->wandb) (2.0.4)\n",
            "Requirement already satisfied: certifi>=2017.4.17 in /usr/local/lib/python3.10/dist-packages (from requests<3,>=2.0.0->wandb) (2023.7.22)\n",
            "Collecting smmap<6,>=3.0.1 (from gitdb<5,>=4.0.1->GitPython!=3.1.29,>=1.0.0->wandb)\n",
            "  Downloading smmap-5.0.0-py3-none-any.whl (24 kB)\n",
            "Building wheels for collected packages: pathtools\n",
            "  Building wheel for pathtools (setup.py) ... \u001b[?25l\u001b[?25hdone\n",
            "  Created wheel for pathtools: filename=pathtools-0.1.2-py3-none-any.whl size=8791 sha256=87565be77b837a263bb9ca198734ac8515bf071f24284bbdeb09a71a1c7615d6\n",
            "  Stored in directory: /root/.cache/pip/wheels/e7/f3/22/152153d6eb222ee7a56ff8617d80ee5207207a8c00a7aab794\n",
            "Successfully built pathtools\n",
            "Installing collected packages: pathtools, smmap, setproctitle, sentry-sdk, docker-pycreds, gitdb, GitPython, wandb\n",
            "Successfully installed GitPython-3.1.32 docker-pycreds-0.4.0 gitdb-4.0.10 pathtools-0.1.2 sentry-sdk-1.30.0 setproctitle-1.3.2 smmap-5.0.0 wandb-0.15.9\n",
            "Collecting deepchem\n",
            "  Downloading deepchem-2.7.1-py3-none-any.whl (693 kB)\n",
            "\u001b[2K     \u001b[90m━━━━━━━━━━━━━━━━━━━━━━━━━━━━━━━━━━━━━━━\u001b[0m \u001b[32m693.2/693.2 kB\u001b[0m \u001b[31m9.9 MB/s\u001b[0m eta \u001b[36m0:00:00\u001b[0m\n",
            "\u001b[?25hRequirement already satisfied: joblib in /usr/local/lib/python3.10/dist-packages (from deepchem) (1.3.2)\n",
            "Requirement already satisfied: numpy>=1.21 in /usr/local/lib/python3.10/dist-packages (from deepchem) (1.23.5)\n",
            "Requirement already satisfied: pandas in /usr/local/lib/python3.10/dist-packages (from deepchem) (1.5.3)\n",
            "Requirement already satisfied: scikit-learn in /usr/local/lib/python3.10/dist-packages (from deepchem) (1.2.2)\n",
            "Collecting scipy<1.9 (from deepchem)\n",
            "  Downloading scipy-1.8.1-cp310-cp310-manylinux_2_17_x86_64.manylinux2014_x86_64.whl (42.2 MB)\n",
            "\u001b[2K     \u001b[90m━━━━━━━━━━━━━━━━━━━━━━━━━━━━━━━━━━━━━━━━\u001b[0m \u001b[32m42.2/42.2 MB\u001b[0m \u001b[31m42.4 MB/s\u001b[0m eta \u001b[36m0:00:00\u001b[0m\n",
            "\u001b[?25hCollecting rdkit (from deepchem)\n",
            "  Downloading rdkit-2023.3.3-cp310-cp310-manylinux_2_17_x86_64.manylinux2014_x86_64.whl (29.7 MB)\n",
            "\u001b[2K     \u001b[90m━━━━━━━━━━━━━━━━━━━━━━━━━━━━━━━━━━━━━━━━\u001b[0m \u001b[32m29.7/29.7 MB\u001b[0m \u001b[31m61.1 MB/s\u001b[0m eta \u001b[36m0:00:00\u001b[0m\n",
            "\u001b[?25hRequirement already satisfied: python-dateutil>=2.8.1 in /usr/local/lib/python3.10/dist-packages (from pandas->deepchem) (2.8.2)\n",
            "Requirement already satisfied: pytz>=2020.1 in /usr/local/lib/python3.10/dist-packages (from pandas->deepchem) (2023.3)\n",
            "Requirement already satisfied: Pillow in /usr/local/lib/python3.10/dist-packages (from rdkit->deepchem) (9.4.0)\n",
            "Requirement already satisfied: threadpoolctl>=2.0.0 in /usr/local/lib/python3.10/dist-packages (from scikit-learn->deepchem) (3.2.0)\n",
            "Requirement already satisfied: six>=1.5 in /usr/local/lib/python3.10/dist-packages (from python-dateutil>=2.8.1->pandas->deepchem) (1.16.0)\n",
            "Installing collected packages: scipy, rdkit, deepchem\n",
            "  Attempting uninstall: scipy\n",
            "    Found existing installation: scipy 1.10.1\n",
            "    Uninstalling scipy-1.10.1:\n",
            "      Successfully uninstalled scipy-1.10.1\n",
            "Successfully installed deepchem-2.7.1 rdkit-2023.3.3 scipy-1.8.1\n",
            "Requirement already satisfied: rdkit in /usr/local/lib/python3.10/dist-packages (2023.3.3)\n",
            "Requirement already satisfied: numpy in /usr/local/lib/python3.10/dist-packages (from rdkit) (1.23.5)\n",
            "Requirement already satisfied: Pillow in /usr/local/lib/python3.10/dist-packages (from rdkit) (9.4.0)\n"
          ]
        }
      ],
      "source": [
        "!pip install wandb\n",
        "!pip install deepchem\n",
        "!pip install rdkit"
      ]
    },
    {
      "cell_type": "code",
      "execution_count": null,
      "metadata": {
        "colab": {
          "base_uri": "https://localhost:8080/"
        },
        "id": "HlNSSU7FtL5h",
        "outputId": "2727b3dc-ef27-4397-ae39-7bedb596e46c"
      },
      "outputs": [
        {
          "output_type": "stream",
          "name": "stderr",
          "text": [
            "\u001b[34m\u001b[1mwandb\u001b[0m: \u001b[33mWARNING\u001b[0m W&B installed but not logged in.  Run `wandb login` or set the WANDB_API_KEY env variable.\n",
            "\u001b[34m\u001b[1mwandb\u001b[0m: \u001b[33mWARNING\u001b[0m W&B installed but not logged in.  Run `wandb login` or set the WANDB_API_KEY env variable.\n",
            "WARNING:deepchem.models.torch_models:Skipped loading modules with pytorch-geometric dependency, missing a dependency. No module named 'torch_geometric'\n",
            "WARNING:deepchem.models:Skipped loading modules with pytorch-geometric dependency, missing a dependency. cannot import name 'DMPNN' from 'deepchem.models.torch_models' (/usr/local/lib/python3.10/dist-packages/deepchem/models/torch_models/__init__.py)\n",
            "WARNING:deepchem.models:Skipped loading modules with pytorch-lightning dependency, missing a dependency. No module named 'pytorch_lightning'\n",
            "WARNING:deepchem.models:Skipped loading some Jax models, missing a dependency. No module named 'haiku'\n"
          ]
        },
        {
          "output_type": "stream",
          "name": "stdout",
          "text": [
            "Torch ver. : 2.0.1+cu118\n"
          ]
        }
      ],
      "source": [
        "import argparse\n",
        "import sys\n",
        "import yaml\n",
        "import json\n",
        "import os\n",
        "import joblib\n",
        "import networkx as nx\n",
        "import pickle as pkl\n",
        "from tqdm import tqdm\n",
        "from datetime import datetime\n",
        "import time\n",
        "import random\n",
        "import copy\n",
        "from collections import OrderedDict, defaultdict\n",
        "import warnings\n",
        "from prettytable import PrettyTable\n",
        "import wandb\n",
        "\n",
        "import numpy as np\n",
        "import pandas as pd\n",
        "%matplotlib inline\n",
        "import matplotlib.pyplot as plt\n",
        "\n",
        "from PIL import Image\n",
        "import rdkit\n",
        "import rdkit.Chem as Chem\n",
        "from rdkit.Chem import Draw, AllChem, Descriptors\n",
        "from rdkit.Chem.Crippen import MolLogP\n",
        "import deepchem as dc\n",
        "\n",
        "import torch\n",
        "import torch.nn as nn\n",
        "import torch.nn.functional as F\n",
        "from torch import optim\n",
        "from torch.optim.lr_scheduler import ReduceLROnPlateau\n",
        "from torch.nn.utils import clip_grad_norm_\n",
        "\n",
        "import torchvision\n",
        "import torchvision.transforms as transforms\n",
        "\n",
        "os.environ['TORCH'] = torch.__version__\n",
        "print(f'Torch ver. : {torch.__version__}')\n",
        "\n",
        "warnings.filterwarnings(\"ignore\")\n",
        "%config InlineBackend.figure_format = 'retina'"
      ]
    },
    {
      "cell_type": "code",
      "execution_count": null,
      "metadata": {
        "colab": {
          "base_uri": "https://localhost:8080/"
        },
        "id": "KNpslzJ7tU6k",
        "outputId": "7c09a161-f2b0-43fc-991a-d50dbeeabbca"
      },
      "outputs": [
        {
          "output_type": "stream",
          "name": "stdout",
          "text": [
            "\u001b[2K     \u001b[90m━━━━━━━━━━━━━━━━━━━━━━━━━━━━━━━━━━━━━━━━\u001b[0m \u001b[32m10.2/10.2 MB\u001b[0m \u001b[31m64.9 MB/s\u001b[0m eta \u001b[36m0:00:00\u001b[0m\n",
            "\u001b[2K     \u001b[90m━━━━━━━━━━━━━━━━━━━━━━━━━━━━━━━━━━━━━━━━\u001b[0m \u001b[32m4.8/4.8 MB\u001b[0m \u001b[31m65.8 MB/s\u001b[0m eta \u001b[36m0:00:00\u001b[0m\n",
            "\u001b[?25h  Installing build dependencies ... \u001b[?25l\u001b[?25hdone\n",
            "  Getting requirements to build wheel ... \u001b[?25l\u001b[?25hdone\n",
            "  Preparing metadata (pyproject.toml) ... \u001b[?25l\u001b[?25hdone\n",
            "  Building wheel for torch_geometric (pyproject.toml) ... \u001b[?25l\u001b[?25hdone\n"
          ]
        }
      ],
      "source": [
        "!pip install -q torch-scatter -f https://data.pyg.org/whl/torch-${TORCH}.html\n",
        "!pip install -q torch-sparse -f https://data.pyg.org/whl/torch-${TORCH}.html\n",
        "!pip install -q git+https://github.com/pyg-team/pytorch_geometric.git\n",
        "\n",
        "import torch_geometric\n",
        "from torch_geometric.data import Data\n",
        "from torch_geometric.utils import dropout, to_dense_adj, dense_to_sparse, remove_self_loops\n",
        "from torch_geometric.loader import DataLoader\n",
        "from torch_geometric.nn import GCNConv, GATConv, Set2Set, BatchNorm\n",
        "# global_mean_pool :  readout에서 각 노드의 node feature vector들이 남게 되는데, 이걸 하나의 feature로 표현하기 위해 사용\n",
        "from torch_geometric.nn import global_mean_pool, global_max_pool\n",
        "from torch_geometric.nn.conv import TransformerConv"
      ]
    },
    {
      "cell_type": "code",
      "execution_count": null,
      "metadata": {
        "id": "C5zrRLTA-m0O"
      },
      "outputs": [],
      "source": [
        "ENTITY = 'rossi22'\n",
        "TRAIN_PROJECT = 'GRAPH_VAE_TRAIN'\n",
        "\n",
        "DEFAULT_PARAMS = {\n",
        "    'device': torch.device(\"cuda:0\" if torch.cuda.is_available() else \"cpu\"),\n",
        "    'learning_rate': 5e-6,\n",
        "    'epochs': 30,\n",
        "    'period': 1,\n",
        "\n",
        "    'supported_edges': [\"SINGLE\", \"DOUBLE\", \"TRIPLE\", \"AROMATIC\"],\n",
        "    'supported_atoms':  ['C','N','O','F', 'None' ],\n",
        "    'atomic_numbers':[6, 7, 8, 9, -1],\n",
        "    'max_molecule_size': 12,\n",
        "    'en_hid_dim': 128,\n",
        "    'en_heads': 4,\n",
        "    'de_hid_dim': 512,\n",
        "    'edge_dim': 11,\n",
        "    'latent_dim': 256,\n",
        "    'n_en_layers': 4,\n",
        "    'n_de_layers': 4,\n",
        "    'disable_rdkit_warnings': True,\n",
        "    'batch_size': 128,\n",
        "    'create_beta': 100,\n",
        "    'equal_beta': 10,\n",
        "    'kl_beta': 1,\n",
        "\n",
        "    'use_scheduler': True,\n",
        "    'schd_factor': 0.5,\n",
        "    'schd_patience': 10,\n",
        "    'schd_min_lr': 1e-7,\n",
        "}\n",
        "\n",
        "if DEFAULT_PARAMS['disable_rdkit_warnings']:\n",
        "    rdkit.RDLogger.DisableLog('rdApp.*')"
      ]
    },
    {
      "cell_type": "code",
      "source": [
        "# edge의 정보를 dense adjacency matrix로 표현하는 함수\n",
        "def merge_edge(batch, supported_edges=DEFAULT_PARAMS['supported_edges'], max_molecule_size=DEFAULT_PARAMS['max_molecule_size'], isBatch=True) :\n",
        "    edge_index = batch.edge_index\n",
        "    edge_attr = batch.edge_attr\n",
        "    batch_idx = batch.batch\n",
        "    batch_size = len(batch)\n",
        "\n",
        "    edge_types_one_hot = edge_attr.float()[:, :len(supported_edges)]\n",
        "\n",
        "    edge_types_labeled = edge_types_one_hot.nonzero(as_tuple=False)\n",
        "    edge_types_labeled[:, 1] = edge_types_labeled[:, 1]+1\n",
        "\n",
        "    max_node_index = edge_index[1].max().item() + 1\n",
        "    sorting_weight = edge_index[0] * max_node_index + edge_index[1]\n",
        "    sorted_order = torch.argsort(sorting_weight)\n",
        "    edge_index = edge_index[:, sorted_order]\n",
        "    edge_types_labeled = edge_types_labeled[sorted_order]\n",
        "    edge_types_labeled = edge_types_labeled[:, 1].view(-1)\n",
        "\n",
        "    if not isBatch :\n",
        "        batch_size = 1\n",
        "        batch_edge_targets = torch.squeeze(to_dense_adj(edge_index, edge_attr=edge_types_labeled, max_num_nodes=max_molecule_size, batch_size=batch_size))\n",
        "    else :\n",
        "        batch_edge_targets = torch.squeeze(to_dense_adj(edge_index, batch=batch_idx, edge_attr=edge_types_labeled, max_num_nodes=max_molecule_size, batch_size=batch_size))\n",
        "    return batch_edge_targets\n",
        "\n",
        "def to_one_hot(x, options):\n",
        "    return torch.nn.functional.one_hot(x.long(), len(options))\n",
        "\n",
        "def get_graph_predictions(edge_logits, node_logits, graph_node_size, graph_edge_size, node_start_point, edge_start_point):\n",
        "    graph_node_logits = torch.squeeze(\n",
        "                    node_logits[node_start_point:node_start_point + graph_node_size]\n",
        "                    )\n",
        "\n",
        "    graph_edge_logits = torch.squeeze(\n",
        "                    edge_logits[edge_start_point:edge_start_point + graph_edge_size]\n",
        "                    )\n",
        "    return graph_node_logits, graph_edge_logits\n",
        "\n",
        "def get_graph_targets(node_targets, edge_targets, max_molecule_size=DEFAULT_PARAMS['max_molecule_size'], supported_atoms=DEFAULT_PARAMS['supported_atoms'], supported_edges=DEFAULT_PARAMS['supported_edges'], device=DEFAULT_PARAMS['device']):\n",
        "    # nodes\n",
        "    temp_node_size = max_molecule_size - node_targets.shape[0]\n",
        "    temp_tensor = torch.zeros([temp_node_size, len(supported_atoms)])\n",
        "    temp_tensor[:, -1] = 1.\n",
        "    graph_node_targets = torch.cat((node_targets, temp_tensor.to(device)))\n",
        "\n",
        "    # edges\n",
        "    size = edge_targets.shape[0]\n",
        "    triu_indices = torch.triu_indices(size, size, offset=1)\n",
        "    triu_mask = torch.squeeze(to_dense_adj(triu_indices)).bool()\n",
        "    graph_edge_targets = edge_targets[triu_mask]\n",
        "    graph_edge_targets = to_one_hot(graph_edge_targets, [\"None\"] + supported_edges).float()\n",
        "\n",
        "    # [max_node_dim, num_supported_atoms] / [max_edge_dim, num_supported_edges + 1]\n",
        "    return graph_node_targets, graph_edge_targets\n",
        "\n",
        "def triu_to_matrix(triu_values, num_nodes, device=DEFAULT_PARAMS['device']):\n",
        "    indices = torch.triu_indices(num_nodes, num_nodes, offset=1)\n",
        "    full_matrix = torch.zeros((num_nodes, num_nodes)).to(device)\n",
        "    full_matrix[indices[0], indices[1]] = triu_values\n",
        "    full_matrix = full_matrix+full_matrix.T\n",
        "    return full_matrix\n",
        "\n",
        "def squared_difference(input, target):\n",
        "    return (input - target) ** 2\n",
        "\n",
        "def create_mol(node_logits, triu_logits, params=DEFAULT_PARAMS, is_test=False):\n",
        "    node_matrix_shape = (params['max_molecule_size'], (len(params['supported_atoms'])))\n",
        "    edge_matrix_shape = (int( (params['max_molecule_size'] * (params['max_molecule_size'] - 1))/2 ), len(params['supported_edges']) + 1)\n",
        "\n",
        "    # Reshape node predictions\n",
        "    node_logits = node_logits.reshape(node_matrix_shape)\n",
        "    node_logits = torch.argmax(node_logits, dim=1)\n",
        "    node_types = torch.Tensor([params['atomic_numbers'][atom_arg] for atom_arg in node_logits if params['atomic_numbers'][atom_arg] != -1]).long()\n",
        "\n",
        "    # Reshape triu predictions\n",
        "    triu_logits = triu_logits.reshape(edge_matrix_shape)\n",
        "    triu_logits = torch.argmax(triu_logits, dim=1)\n",
        "    total_adj_matrix = triu_to_matrix(triu_logits.float(), params['max_molecule_size'])\n",
        "    adj_matrix = total_adj_matrix[:len(node_types), :len(node_types)]\n",
        "\n",
        "    size = adj_matrix.shape[0]\n",
        "    triu_indices = torch.triu_indices(size, size, offset=1)\n",
        "    triu_mask = torch.squeeze(to_dense_adj(triu_indices)).bool()\n",
        "    triu_matrix = adj_matrix[triu_mask]\n",
        "\n",
        "    mol = Chem.RWMol()\n",
        "    node_to_idx = {}\n",
        "    for i in range(len(node_types)):\n",
        "        a = Chem.Atom(int(node_types[i]))\n",
        "        molIdx = mol.AddAtom(a)\n",
        "        node_to_idx[i] = molIdx\n",
        "\n",
        "    num_nodes = len(node_types)\n",
        "    adjacency_matrix = triu_to_matrix(triu_matrix, num_nodes)\n",
        "\n",
        "    if is_test :\n",
        "        print(adjacency_matrix)\n",
        "\n",
        "    for ix, row in enumerate(adjacency_matrix):\n",
        "        for iy, bond in enumerate(row):\n",
        "            if iy <= ix:\n",
        "                continue\n",
        "\n",
        "            if bond == 0:\n",
        "                continue\n",
        "            else:\n",
        "                if bond == 1:\n",
        "                    bond_type = Chem.rdchem.BondType.SINGLE\n",
        "                elif bond == 2:\n",
        "                    bond_type = Chem.rdchem.BondType.DOUBLE\n",
        "                elif bond == 3:\n",
        "                    bond_type = Chem.rdchem.BondType.TRIPLE\n",
        "                elif bond == 4:\n",
        "                    bond_type = Chem.rdchem.BondType.AROMATIC\n",
        "                mol.AddBond(node_to_idx[ix], node_to_idx[iy], bond_type)\n",
        "\n",
        "    mol = mol.GetMol()\n",
        "\n",
        "    try:\n",
        "        Chem.SanitizeMol(mol)\n",
        "        smiles = Chem.MolToSmiles(mol, canonical=True)\n",
        "        res = 1 / params['create_beta']\n",
        "\n",
        "        if '.' in smiles:\n",
        "            raise ValueError(\"Invalid SMILES\")\n",
        "\n",
        "    except:\n",
        "        smiles = None\n",
        "        mol = None\n",
        "        res = 1.0\n",
        "\n",
        "    return res, smiles, mol\n",
        "\n",
        "\n",
        "def validation(data, params=DEFAULT_PARAMS, isBatch=True) :\n",
        "    success = 0\n",
        "    not_success = []\n",
        "\n",
        "    node_attr = data.x\n",
        "    edge_index = data.edge_index\n",
        "    edge_attr = data.edge_attr\n",
        "    batch_idx = data.batch\n",
        "\n",
        "    batch_node_targets = node_attr[:, :len(params['supported_atoms'])]\n",
        "    if isBatch :\n",
        "        batch_edge_targets = merge_edge(data)\n",
        "    else :\n",
        "        batch_edge_targets = merge_edge(data, isBatch=False)\n",
        "\n",
        "    graph_node_size = params['max_molecule_size'] * len(params['supported_atoms'])\n",
        "    graph_edge_size = int(params['max_molecule_size'] * (params['max_molecule_size']-1)/2) * len(params['supported_edges']+[\"None\"])\n",
        "\n",
        "    batch_target = []\n",
        "    batch_preds = []\n",
        "    node_start_point = 0\n",
        "    edge_start_point = 0\n",
        "\n",
        "    if isBatch :\n",
        "        for graph_idx in torch.unique(batch_idx) :\n",
        "            graph_mask = torch.eq(graph_idx, batch_idx)\n",
        "\n",
        "            graph_node_targets, graph_edge_targets = get_graph_targets( batch_node_targets[graph_mask], batch_edge_targets[graph_idx] )\n",
        "            res, smiles, mol = create_mol(graph_node_targets.view(-1), graph_edge_targets.view(-1), params, is_test=False)\n",
        "\n",
        "    else :\n",
        "        graph_node_targets, graph_edge_targets = get_graph_targets( batch_node_targets, batch_edge_targets )\n",
        "        res, smiles, mol = create_mol(graph_node_targets.view(-1), graph_edge_targets.view(-1), params, is_test=False)\n",
        "\n",
        "    if smiles != None :\n",
        "        return True\n",
        "    else :\n",
        "        return False"
      ],
      "metadata": {
        "id": "V4SEu0dMx9M8"
      },
      "execution_count": null,
      "outputs": []
    },
    {
      "cell_type": "code",
      "execution_count": null,
      "metadata": {
        "id": "v0KvNYzvvuLG"
      },
      "outputs": [],
      "source": [
        "def load_smiles(file_name, num_mol, max_molecule_size=DEFAULT_PARAMS['max_molecule_size'], supported_atoms=DEFAULT_PARAMS['supported_atoms']):\n",
        "    f = pkl.load(open(file_name, 'rb'))\n",
        "\n",
        "    smi_list = []\n",
        "    num_mol = min(num_mol, len(f))\n",
        "    for i in tqdm(range(num_mol), desc='Reading Data'):\n",
        "        smi = f[i].strip()\n",
        "        ex_mol = Chem.MolFromSmiles(smi)\n",
        "        atms = ex_mol.GetAtoms()\n",
        "\n",
        "        if Chem.MolFromSmiles(smi).GetNumAtoms() < max_molecule_size :\n",
        "\n",
        "            for atm in atms :\n",
        "                if atm not in supported_atoms :\n",
        "                    continue\n",
        "            else :\n",
        "                smi_list.append(smi)\n",
        "    return smi_list\n",
        "\n",
        "def featurizing(smi_list, max_molecule_size=DEFAULT_PARAMS['max_molecule_size']) :\n",
        "    featurizer = dc.feat.MolGraphConvFeaturizer(use_edges=True)\n",
        "    save_list = []\n",
        "\n",
        "    for ex_smi in tqdm(smi_list) :\n",
        "        ex_mol = Chem.MolFromSmiles(ex_smi)\n",
        "        f = featurizer.featurize(ex_smi)\n",
        "        f[0].kwargs = {}\n",
        "        data = f[0].to_pyg_graph()\n",
        "        data.smiles = ex_smi\n",
        "\n",
        "        atom_types = slice_atom_type_from_node_feats(data.x)\n",
        "        if (data.x.shape[0] < max_molecule_size) and len(atom_types) == data.x.shape[0] :\n",
        "            if validation(data, isBatch=False) :\n",
        "                save_list.append(data)\n",
        "\n",
        "    torch.save(save_list, os.path.join('.', f'data.pt'))\n",
        "    return save_list\n",
        "\n",
        "def slice_atom_type_from_node_feats(node_features, supported_atoms=DEFAULT_PARAMS['supported_atoms'], atomic_numbers=DEFAULT_PARAMS['atomic_numbers'], as_index=False):\n",
        "    atom_types_one_hot = node_features[:, :len(supported_atoms)]\n",
        "\n",
        "    if not as_index:\n",
        "        atom_numbers_dummy = torch.Tensor(atomic_numbers).repeat(atom_types_one_hot.shape[0], 1)\n",
        "        atom_types = torch.masked_select(atom_numbers_dummy, atom_types_one_hot.bool())\n",
        "    else:\n",
        "        atom_types = torch.argmax(atom_types_one_hot, dim=1)\n",
        "    return atom_types"
      ]
    },
    {
      "cell_type": "code",
      "execution_count": null,
      "metadata": {
        "colab": {
          "base_uri": "https://localhost:8080/"
        },
        "id": "lz8Rv1CWv4Dk",
        "outputId": "4d162d6d-fa86-499d-ea89-7e71ca93d693"
      },
      "outputs": [
        {
          "output_type": "stream",
          "name": "stderr",
          "text": [
            "Reading Data: 100%|██████████| 100000/100000 [00:15<00:00, 6538.55it/s]\n",
            "100%|██████████| 100000/100000 [08:22<00:00, 198.91it/s]\n"
          ]
        }
      ],
      "source": [
        "smi_list = load_smiles('/content/drive/MyDrive/Colab Notebooks/Python/Portfolio/dataset/QM9_smi.pkl', 100000)\n",
        "save_list = featurizing(smi_list)"
      ]
    },
    {
      "cell_type": "code",
      "execution_count": null,
      "metadata": {
        "id": "d48m8xZHgqoT",
        "colab": {
          "base_uri": "https://localhost:8080/"
        },
        "outputId": "15574c59-eb1f-4876-fd4d-87b6dc97cc07"
      },
      "outputs": [
        {
          "output_type": "stream",
          "name": "stdout",
          "text": [
            "89454 2354\n"
          ]
        }
      ],
      "source": [
        "train_size = int(len(save_list) * 9.5 // 10)\n",
        "val_size = (len(save_list)-train_size)//2\n",
        "print(train_size, val_size)"
      ]
    },
    {
      "cell_type": "code",
      "execution_count": null,
      "metadata": {
        "id": "0OJrracVyUqB",
        "colab": {
          "base_uri": "https://localhost:8080/"
        },
        "outputId": "22ab8f0c-de47-492d-b563-db6e7f8fba07"
      },
      "outputs": [
        {
          "output_type": "stream",
          "name": "stdout",
          "text": [
            "89454 2354 2355\n"
          ]
        }
      ],
      "source": [
        "def set_seed(seed_value):\n",
        "    torch.manual_seed(seed_value)\n",
        "    if torch.cuda.is_available():\n",
        "        torch.cuda.manual_seed(seed_value)\n",
        "        torch.cuda.manual_seed_all(seed_value)\n",
        "        torch.backends.cudnn.deterministic = True\n",
        "        torch.backends.cudnn.benchmark = False\n",
        "\n",
        "    np.random.seed(seed_value)\n",
        "    random.seed(seed_value)\n",
        "\n",
        "set_seed(52)\n",
        "random.shuffle(save_list)\n",
        "\n",
        "TRAIN_SET, VAL_SET, TEST_SET = save_list[:train_size], save_list[train_size:train_size+val_size], save_list[train_size+val_size:]\n",
        "DEFAULT_PARAMS['input_dim'] = TRAIN_SET[0].x.shape[1]\n",
        "print(len(TRAIN_SET), len(VAL_SET), len(TEST_SET))\n",
        "params = copy.copy(DEFAULT_PARAMS)\n",
        "\n",
        "train_dataloader = DataLoader(TRAIN_SET, batch_size=params['batch_size'], shuffle=True, drop_last = True)\n",
        "val_dataloader = DataLoader(VAL_SET, batch_size=params['batch_size'], shuffle=False, drop_last = True)\n",
        "test_dataloader = DataLoader(TEST_SET, batch_size=len(TEST_SET), shuffle=False, drop_last = True)"
      ]
    },
    {
      "cell_type": "code",
      "execution_count": null,
      "metadata": {
        "id": "lOdXeurjg858",
        "colab": {
          "base_uri": "https://localhost:8080/"
        },
        "outputId": "f5d2e5d7-f819-4d24-b6a7-a20c1fdb9341"
      },
      "outputs": [
        {
          "output_type": "stream",
          "name": "stdout",
          "text": [
            "Namespace(device=device(type='cuda', index=0), learning_rate=5e-06, epochs=30, period=1, supported_edges=['SINGLE', 'DOUBLE', 'TRIPLE', 'AROMATIC'], supported_atoms=['C', 'N', 'O', 'F', 'None'], atomic_numbers=[6, 7, 8, 9, -1], max_molecule_size=12, en_hid_dim=128, en_heads=4, de_hid_dim=512, edge_dim=11, latent_dim=256, n_en_layers=4, n_de_layers=4, disable_rdkit_warnings=True, batch_size=128, create_beta=100, equal_beta=10, kl_beta=1, use_scheduler=True, schd_factor=0.5, schd_patience=10, schd_min_lr=1e-07, input_dim=30)\n"
          ]
        }
      ],
      "source": [
        "parser = argparse.ArgumentParser()\n",
        "\n",
        "for key, value in params.items():\n",
        "    parser.add_argument('--' + key, default=value)\n",
        "\n",
        "args = parser.parse_args('')\n",
        "print(args)"
      ]
    },
    {
      "cell_type": "code",
      "source": [
        "# 하나의 epoch에 대한 train 및 validation\n",
        "def run_train(model, train_dataloader, val_dataloader, optimizer, device, params) :\n",
        "    epoch_train_loss = 0\n",
        "    epoch_val_loss = 0\n",
        "    total_cnt = 0\n",
        "\n",
        "    # train\n",
        "    model.train()\n",
        "    for batch in train_dataloader :\n",
        "        optimizer.zero_grad()\n",
        "\n",
        "        batch = batch.to(device)\n",
        "        node_logits, edge_logits, mu, logvar = model(batch)\n",
        "        kl_divergence = params['kl_beta'] * kl_loss(mu, logvar)\n",
        "        node_loss, edge_loss, _ = gvae_loss(batch, node_logits, edge_logits, params)\n",
        "        train_loss = node_loss + edge_loss + kl_divergence\n",
        "\n",
        "        train_loss.backward()\n",
        "        optimizer.step()\n",
        "\n",
        "        epoch_train_loss += train_loss.item()\n",
        "\n",
        "    # val\n",
        "    model.eval()\n",
        "    with torch.no_grad() :\n",
        "\n",
        "        for batch in val_dataloader :\n",
        "            batch = batch.to(device)\n",
        "            node_logits, edge_logits, mu, logvar = model(batch)\n",
        "            kl_divergence = params['kl_beta'] * kl_loss(mu, logvar)\n",
        "            node_loss, edge_loss, cnt = gvae_loss(batch, node_logits, edge_logits, params)\n",
        "            val_loss = node_loss + edge_loss + kl_divergence\n",
        "            epoch_val_loss += val_loss.item()\n",
        "            total_cnt += cnt\n",
        "\n",
        "    epoch_train_loss /= len(train_dataloader)\n",
        "    epoch_val_loss /= len(val_dataloader)\n",
        "\n",
        "    return epoch_train_loss, epoch_val_loss, total_cnt"
      ],
      "metadata": {
        "id": "9x6TGXAe1Hep"
      },
      "execution_count": null,
      "outputs": []
    },
    {
      "cell_type": "code",
      "execution_count": null,
      "metadata": {
        "id": "nKhYCBv_wJyt"
      },
      "outputs": [],
      "source": [
        "class GatedSkipConnection(nn.Module):\n",
        "\n",
        "    def __init__(self, in_dim, out_dim):\n",
        "        super(GatedSkipConnection, self).__init__()\n",
        "\n",
        "        self.in_dim = in_dim\n",
        "        self.out_dim = out_dim\n",
        "\n",
        "        self.linear = nn.Linear(in_dim, out_dim, bias=False)\n",
        "        self.linear_coef_in = nn.Linear(out_dim, out_dim)\n",
        "        self.linear_coef_out = nn.Linear(out_dim, out_dim)\n",
        "        self.sigmoid = nn.Sigmoid()\n",
        "\n",
        "    def forward(self, in_x, out_x):\n",
        "        if (self.in_dim != self.out_dim):\n",
        "            in_x = self.linear(in_x)\n",
        "        # z : 0 ~ 1 사이의 값\n",
        "        z = self.gate_coefficient(in_x, out_x)\n",
        "        out = torch.mul(z, out_x) + torch.mul(1.0-z, in_x)\n",
        "        return out\n",
        "\n",
        "    def gate_coefficient(self, in_x, out_x):\n",
        "        x1 = self.linear_coef_in(in_x)\n",
        "        x2 = self.linear_coef_out(out_x)\n",
        "        return self.sigmoid(x1+x2)\n",
        "\n",
        "\n",
        "class Encoder(nn.Module) :\n",
        "    def __init__(self, input_dim, en_hid_dim, latent_dim, en_heads, edge_dim, n_en_layers, device) :\n",
        "        super(Encoder, self).__init__()\n",
        "        self.input_dim = input_dim\n",
        "        self.en_hid_dim = en_hid_dim\n",
        "        self.latent_dim = latent_dim\n",
        "        self.en_heads = en_heads\n",
        "        self.edge_dim = edge_dim\n",
        "        self.n_en_layers = n_en_layers\n",
        "        self.device = device\n",
        "\n",
        "        self.en_conv_layers = nn.ModuleList([TransformerConv(\n",
        "                                            self.input_dim if i==0 else self.en_hid_dim,\n",
        "                                            self.en_hid_dim,\n",
        "                                            heads=self.en_heads,\n",
        "                                            concat=False,\n",
        "                                            beta=True,\n",
        "                                            edge_dim=self.edge_dim) for i in range(self.n_en_layers)])\n",
        "\n",
        "        self.en_bn_layers = nn.ModuleList([BatchNorm(self.en_hid_dim) for i in range(self.n_en_layers)])\n",
        "\n",
        "        # Latent transform layers\n",
        "        # output : [batch_size, encoder_embedding * 2]\n",
        "        self.pooling = Set2Set(self.en_hid_dim, processing_steps=2)\n",
        "\n",
        "        self.mu_transform = nn.Linear(self.en_hid_dim*2, self.latent_dim)\n",
        "        self.logvar_transform = nn.Linear(self.en_hid_dim*2, self.latent_dim)\n",
        "\n",
        "    def forward(self, x, edge_attr, edge_index, batch_index ) :\n",
        "\n",
        "        for (conv_layer, bn_layer) in zip(self.en_conv_layers, self.en_bn_layers) :\n",
        "            x = conv_layer(x, edge_index, edge_attr)\n",
        "            x = bn_layer(x).relu()\n",
        "\n",
        "        x = self.pooling(x, batch_index)\n",
        "\n",
        "        mu = self.mu_transform(x).relu()\n",
        "        logvar = self.logvar_transform(x).relu()\n",
        "\n",
        "        return mu, logvar\n",
        "\n",
        "\n",
        "class Decoder(nn.Module) :\n",
        "    def __init__(self, de_hid_dim, latent_dim, max_num_atoms, num_atom_types, num_edge_types, n_de_layers, device) :\n",
        "        super(Decoder, self).__init__()\n",
        "\n",
        "        self.de_hid_dim = de_hid_dim\n",
        "        self.latent_dim = latent_dim\n",
        "        self.max_num_atoms = max_num_atoms\n",
        "        self.num_atom_types = num_atom_types\n",
        "        self.num_edge_types = num_edge_types\n",
        "        self.n_de_layers = n_de_layers\n",
        "        self.device = device\n",
        "\n",
        "        self.latent_layer = nn.Linear(self.latent_dim, self.de_hid_dim)\n",
        "        self.decoder_layers =  nn.ModuleList([nn.Linear(\n",
        "                                            self.de_hid_dim,\n",
        "                                            self.de_hid_dim,\n",
        "                                            ) for i in range(self.n_de_layers)])\n",
        "        self.gsc = GatedSkipConnection(self.de_hid_dim, self.de_hid_dim)\n",
        "\n",
        "        self.atom_output_dim = self.max_num_atoms*(self.num_atom_types)\n",
        "        self.edge_output_dim = int(((self.max_num_atoms * (self.max_num_atoms - 1)) / 2) * (self.num_edge_types + 1))\n",
        "\n",
        "        self.atom_layer = nn.Linear(self.de_hid_dim, self.atom_output_dim)\n",
        "        self.bond_layer = nn.Linear(self.de_hid_dim, self.edge_output_dim)\n",
        "\n",
        "    def decode(self, graph_z) :\n",
        "        z = self.latent_layer(graph_z).relu()\n",
        "\n",
        "        for decode_layer in self.decoder_layers :\n",
        "            z_ = decode_layer(z).relu()\n",
        "            z = self.gsc(z, z_)\n",
        "\n",
        "        atom_logits = self.atom_layer(z)\n",
        "        edge_logits = self.bond_layer(z)\n",
        "\n",
        "        return atom_logits, edge_logits\n",
        "\n",
        "    def forward(self, z, batch_index) :\n",
        "        node_logits = []\n",
        "        triu_logits = []\n",
        "\n",
        "        for graph_id in torch.unique(batch_index):\n",
        "            graph_z = z[graph_id]\n",
        "            atom_logits, edge_logits = self.decode(graph_z)\n",
        "\n",
        "            node_logits.append(atom_logits)\n",
        "            triu_logits.append(edge_logits)\n",
        "\n",
        "        node_logits = torch.cat(node_logits)\n",
        "        triu_logits = torch.cat(triu_logits)\n",
        "        return node_logits, triu_logits\n",
        "\n",
        "class GVAE(nn.Module):\n",
        "    def __init__(self, args):\n",
        "        super(GVAE, self).__init__()\n",
        "\n",
        "        self.encoder = Encoder(args.input_dim, args.en_hid_dim, args.latent_dim, args.en_heads, args.edge_dim, args.n_en_layers, args.device)\n",
        "        self.decoder = Decoder(args.de_hid_dim, args.latent_dim, args.max_molecule_size, len(args.supported_atoms), len(args.supported_edges), args.n_de_layers, args.device)\n",
        "        self.latent_dim = args.latent_dim\n",
        "        self.device = args.device\n",
        "\n",
        "    def reparameterize(self, mean, log_var) :\n",
        "        eps = torch.randn(mean.size(0), self.latent_dim).to(self.device)\n",
        "        z = eps * torch.exp(log_var * .5) + mean\n",
        "        return z\n",
        "\n",
        "    def forward(self, data):\n",
        "        x, edge_attr, edge_index, batch_index = data.x.float(), data.edge_attr.float(), data.edge_index, data.batch\n",
        "\n",
        "        mu, logvar = self.encoder(x, edge_attr, edge_index, batch_index)\n",
        "        z = self.reparameterize(mu, logvar)\n",
        "\n",
        "        node_logits, triu_logits = self.decoder(z, batch_index)\n",
        "        return node_logits, triu_logits, mu, logvar\n"
      ]
    },
    {
      "cell_type": "code",
      "source": [
        "def kl_loss(mu=None, logstd=None):\n",
        "    MAX_LOGSTD = 10\n",
        "    logstd =  logstd.clamp(max=MAX_LOGSTD)\n",
        "    kl_div = -0.5 * torch.mean(torch.sum(1 + 2 * logstd - mu**2 - logstd.exp()**2, dim=1))\n",
        "    kl_div = kl_div.clamp(max=1000)\n",
        "    return kl_div\n",
        "\n",
        "def gvae_loss(batch, node_logits, edge_logits, params) :\n",
        "    node_attr = batch.x\n",
        "    edge_index = batch.edge_index\n",
        "    edge_attr = batch.edge_attr\n",
        "    batch_idx = batch.batch\n",
        "\n",
        "    total_cnt = 0\n",
        "    batch_node_targets = node_attr[:, :len(params['supported_atoms'])] # [batch_size, num_nodes, num_supported_atoms]\n",
        "    batch_edge_targets = merge_edge(batch) # [batch_size, max_node_dim, max_node_dim] (edge_index + edge_attr)\n",
        "\n",
        "    graph_node_size = params['max_molecule_size'] * len(params['supported_atoms'])\n",
        "    graph_edge_size = int(params['max_molecule_size'] * (params['max_molecule_size']-1)/2) * len(params['supported_edges']+[\"None\"])\n",
        "\n",
        "    batch_node_loss = []\n",
        "    batch_edge_loss = []\n",
        "    node_start_point = 0\n",
        "    edge_start_point = 0\n",
        "\n",
        "    for graph_idx in torch.unique(batch_idx) :\n",
        "        graph_mask = torch.eq(graph_idx, batch_idx)\n",
        "\n",
        "        # graph_node_targets : [max_node_dim, num_supported_atoms]  / graph_edge_targets : [max_edge_dim, num_supported_edges+1]\n",
        "        graph_node_targets, graph_edge_targets = get_graph_targets(batch_node_targets[graph_mask], batch_edge_targets[graph_idx])\n",
        "        # graph_node_preds : [max_node_dim * num_supported_atoms] / graph_edge_preds : [max_edge_dim * (num_supported_edges+1)]\n",
        "        graph_node_preds, graph_edge_preds = get_graph_predictions(edge_logits, node_logits, graph_node_size, graph_edge_size, node_start_point, edge_start_point)\n",
        "\n",
        "        node_start_point += graph_node_size\n",
        "        edge_start_point += graph_edge_size\n",
        "\n",
        "        node_loss, edge_loss, cnt = recon_loss(graph_node_targets, graph_node_preds, graph_edge_targets, graph_edge_preds, params)\n",
        "\n",
        "        batch_node_loss.append(node_loss)\n",
        "        batch_edge_loss.append(edge_loss)\n",
        "        total_cnt += cnt\n",
        "\n",
        "    num_graphs = torch.unique(batch_idx).shape[0]\n",
        "    batch_node_loss = torch.true_divide(sum(batch_node_loss),  num_graphs)\n",
        "    batch_edge_loss = torch.true_divide(sum(batch_edge_loss),  num_graphs)\n",
        "\n",
        "    return batch_node_loss, batch_edge_loss, total_cnt\n",
        "\n",
        "\n",
        "def recon_loss(node_targets, node_preds, edge_targets, edge_preds, params):\n",
        "    cnt = 0.0\n",
        "    res, smiles, _ = create_mol(node_preds, edge_preds, params)\n",
        "\n",
        "    graph_node_shape = (params['max_molecule_size'], len(params['supported_atoms']))\n",
        "    graph_edge_shape = (int(params['max_molecule_size'] * (params['max_molecule_size']-1)/2), len(params['supported_edges']+[\"None\"]))\n",
        "\n",
        "    # Reshape node predictions\n",
        "    node_preds_matrix = node_preds.reshape(graph_node_shape)\n",
        "    # Reshape triu predictions\n",
        "    edge_preds_matrix = edge_preds.reshape(graph_edge_shape)\n",
        "\n",
        "    node_preds_ohe = to_one_hot(node_preds_matrix.argmax(dim=-1), params['supported_atoms']).float()\n",
        "    node_targets_ohe = to_one_hot(node_targets.argmax(dim=-1), params['supported_atoms']).float()\n",
        "    edge_preds_ohe = to_one_hot(edge_preds_matrix.argmax(dim=-1), [\"None\"] + params['supported_edges']).float()\n",
        "    edge_targets_ohe = to_one_hot(edge_targets.argmax(dim=-1), [\"None\"] + params['supported_edges']).float()\n",
        "\n",
        "    node_loss = sum( sum( squared_difference(node_preds_matrix, node_targets) * (params['equal_beta']*squared_difference(node_preds_ohe, node_targets_ohe)+1.0) ) )\n",
        "    edge_loss = sum( sum( squared_difference(edge_preds_matrix, edge_targets) * (params['equal_beta']*squared_difference(edge_preds_ohe, edge_targets_ohe)+1.0) ) )\n",
        "\n",
        "    node_loss *= res/graph_node_shape[0]\n",
        "    edge_loss *= res/graph_edge_shape[0]\n",
        "\n",
        "    if smiles != None :\n",
        "        cnt = 1.0\n",
        "\n",
        "    return node_loss, edge_loss, cnt"
      ],
      "metadata": {
        "id": "70vFPGiVgaP0"
      },
      "execution_count": null,
      "outputs": []
    },
    {
      "cell_type": "code",
      "source": [
        "# 모델의 학습, 테스트, 파라미터 계산 및 저장, wandb artifact로부터 모델 불러오기를 수행하는 클래스\n",
        "class Trial() :\n",
        "    def __init__(self, model, optimizer, params, use_wb, scheduler=None) :\n",
        "        self.device = params['device']\n",
        "        self.model = model\n",
        "        self.optimizer = optimizer\n",
        "        self.scheduler = scheduler\n",
        "        self.params = params\n",
        "        self.use_wb = use_wb\n",
        "        self.model_path = '/content/drive/MyDrive/Colab Notebooks/Python/Portfolio/model/'\n",
        "        self.start_epoch = 1\n",
        "        self.run = None\n",
        "        self.report = None\n",
        "\n",
        "    # Wandb 세션 초기화\n",
        "    def wandb_init(self) :\n",
        "        if self.use_wb :\n",
        "            wandb.finish()\n",
        "\n",
        "            wandb_api = wandb.Api()\n",
        "            api_runs = wandb_api.runs(f'{ENTITY}/{TRAIN_PROJECT}')\n",
        "            run = wandb.init(project=TRAIN_PROJECT, name=f\"trial_{len(api_runs)+1}\")\n",
        "            report = wandb_api.run(f'{ENTITY}/{TRAIN_PROJECT}/{run.id}')\n",
        "\n",
        "            self.run, self.report = run, report\n",
        "\n",
        "    # 입력한 run_id에 해당하는 실행 정보를 불러옴\n",
        "    def wandb_load_run(self, run_id) :\n",
        "        if self.use_wb :\n",
        "            wandb_api = wandb.Api()\n",
        "            run = wandb.init(project=TRAIN_PROJECT, id=run_id, resume=True)\n",
        "            report = wandb_api.run(f'{ENTITY}/{TRAIN_PROJECT}/{run.id}')\n",
        "\n",
        "            self.run, self.report = run, report\n",
        "\n",
        "    # 모델의 학습, 최적화된 모델을 wandb 서버에 저장하는 메소드\n",
        "    def train(self, train_dataloader, val_dataloader, start_epoch=1) :\n",
        "        epochs = self.params['epochs']\n",
        "        period = self.params['period']\n",
        "        train_loss_list = []\n",
        "        val_loss_list = []\n",
        "        total_cnt_list = []\n",
        "\n",
        "        today = datetime.now()\n",
        "        date_str = today.strftime('%y%m%d')\n",
        "        best_model_name = f'{TRAIN_PROJECT}_best_model_{date_str}.pth'\n",
        "\n",
        "        # 가장 낮은 validation loss값을 기준으로 모델의 파라미터 저장\n",
        "        best_total_cnt = 0\n",
        "\n",
        "        for epoch in tqdm(range(start_epoch, epochs + 1)) :\n",
        "            epoch_train_loss, epoch_val_loss, total_cnt = run_train(self.model, train_dataloader, val_dataloader, self.optimizer, self.device, self.params)\n",
        "\n",
        "            train_loss_list.append(epoch_train_loss)\n",
        "            val_loss_list.append(epoch_val_loss)\n",
        "            total_cnt_list.append(total_cnt)\n",
        "\n",
        "            if self.params['use_scheduler'] and self.scheduler != None :\n",
        "                self.scheduler.step(epoch_val_loss)\n",
        "\n",
        "            if self.use_wb :\n",
        "                self.run.log({'epoch': epoch, 'epoch_train_loss': epoch_train_loss, 'epoch_val_loss': epoch_val_loss, 'total_cnt': total_cnt, 'best_total_cnt': best_total_cnt})\n",
        "\n",
        "                if best_total_cnt <= total_cnt :\n",
        "                    best_total_cnt = total_cnt\n",
        "                    torch.save({\n",
        "                    'epoch': epoch,\n",
        "                    'model_state_dict': self.model.state_dict(),\n",
        "                    'optimizer_state_dict': self.optimizer.state_dict(),\n",
        "                    'epoch_val_loss': epoch_val_loss,\n",
        "                    'total_cnt': best_total_cnt,\n",
        "                    }, f'{self.model_path}{best_model_name}')\n",
        "\n",
        "            if epoch == 1 or epoch % period == 0 :\n",
        "                print(f'{\"epoch\":>12} {epoch:<4} / {epochs:>4}  {\"[epoch_train_loss :\":>15} {epoch_train_loss:.5f}] {\"[epoch_val_loss :\":>12} {epoch_val_loss:.5f}] {\"[total_cnt :\":>10} {total_cnt} / {len(VAL_SET)}] {\"[lr :\":>8} {self.optimizer.param_groups[0][\"lr\"]:.8f}]')\n",
        "\n",
        "        return train_loss_list, val_loss_list, total_cnt_list\n",
        "\n",
        "    # 학습된 모델을 테스트하는 메소드\n",
        "    def test(self, test_dataloader) :\n",
        "        self.model.eval()\n",
        "        with torch.no_grad() :\n",
        "            batch = next(iter(test_dataloader))\n",
        "\n",
        "            batch = batch.to(self.device)\n",
        "            node_logits, edge_logits, mu, logvar = model(batch)\n",
        "            kl_divergence = params['kl_beta'] * kl_loss(mu, logvar)\n",
        "            node_loss, edge_loss, cnt = gvae_loss(batch, node_logits, edge_logits, params)\n",
        "            test_loss = node_loss + edge_loss + kl_divergence\n",
        "            test_loss = test_loss.detach().cpu().numpy()\n",
        "\n",
        "        if self.use_wb :\n",
        "            wandb_api = wandb.Api()\n",
        "            self.run.summary['test_loss'] = test_loss\n",
        "            self.run.summary['count'] = cnt\n",
        "            self.report = wandb_api.run(f'{ENTITY}/{TRAIN_PROJECT}/{self.run.id}')\n",
        "\n",
        "        return test_loss, cnt\n",
        "\n",
        "    def count_parameters(self) :\n",
        "        table = PrettyTable(['Modules', 'Parameters'])\n",
        "        total_params = 0\n",
        "\n",
        "        for name, parameter in self.model.named_parameters() :\n",
        "            if not parameter.requires_grad :\n",
        "                continue\n",
        "\n",
        "            param = parameter.numel()\n",
        "            table.add_row([name, param])\n",
        "            total_params += param\n",
        "\n",
        "        print(table)\n",
        "        print(f'Total Trainable Params : {total_params}')\n",
        "        return total_params\n",
        "\n",
        "    def upload(self, best_model_name) :\n",
        "\n",
        "        if self.use_wb :\n",
        "            wandb_api = wandb.Api()\n",
        "            self.report = wandb_api.run(f'{ENTITY}/{TRAIN_PROJECT}/{self.run.id}')\n",
        "\n",
        "            artifact = wandb.Artifact(best_model_name, type='model')\n",
        "            artifact.add_file(f'{self.model_path}{best_model_name}')\n",
        "\n",
        "            self.run.log_artifact(artifact)\n",
        "\n",
        "    # wandb에 저장한 모델의 파라미터를 불러오는 메소드.\n",
        "    def load_model(self, file_name, from_wandb=False) :\n",
        "        if from_wandb :\n",
        "            model_name = (file_name.split('/')[-1]).split(':')[0]\n",
        "\n",
        "            artifact = self.run.use_artifact(file_name, type='model')\n",
        "            artifact_dir = artifact.download()\n",
        "            artifact_state_dict = torch.load(os.path.join(artifact_dir, model_name))\n",
        "\n",
        "        else :\n",
        "            artifact_state_dict = torch.load(f'{self.model_path}{file_name}')\n",
        "\n",
        "        self.model = GVAE(self.params)\n",
        "        self.model.load_state_dict(artifact_state_dict['model_state_dict'])\n",
        "        self.model.to(self.device)\n",
        "\n",
        "        self.optimizer = torch.optim.Adam(self.model.parameters(), lr=self.params['learning_rate'])\n",
        "        self.optimizer.load_state_dict(artifact_state_dict['optimizer_state_dict'])\n",
        "\n",
        "        self.start_epoch = artifact_state_dict['epoch']\n",
        "\n",
        "    def create_mols(self, num_mols) :\n",
        "        smi_dict = defaultdict(int)\n",
        "\n",
        "        for i in range(num_mols) :\n",
        "            z = torch.randn(1, params['latent_dim']).to(args.device)\n",
        "            node_types = params['atomic_numbers']\n",
        "            dummy_batch_index = torch.Tensor([0]).int()\n",
        "            node_logits, triu_logits  = self.model.decoder(z, dummy_batch_index)\n",
        "            res, smiles, mol = create_mol(node_logits, triu_logits, params)\n",
        "\n",
        "            if res != 1 and not smi_dict[smiles] :\n",
        "                smi_dict[smiles] = 1\n",
        "\n",
        "        print(f'{len(smi_dict)} / {num_mols}')\n",
        "        return smi_dict\n"
      ],
      "metadata": {
        "id": "5R9Z58VDTjpc"
      },
      "execution_count": null,
      "outputs": []
    },
    {
      "cell_type": "code",
      "source": [
        "dir_path = '/content/drive/MyDrive/Colab Notebooks/jsons/'\n",
        "login_file_name = 'wandb.json'\n",
        "login_file_path = os.path.join(dir_path, login_file_name)\n",
        "\n",
        "with open(login_file_path, 'r') as f :\n",
        "    json_wandb = json.load(f)\n",
        "\n",
        "wandb.login(key=json_wandb['key'])\n",
        "time.sleep(5)"
      ],
      "metadata": {
        "colab": {
          "base_uri": "https://localhost:8080/"
        },
        "id": "1r_pPqN7chrQ",
        "outputId": "735197f0-7200-4ae5-91ee-1c6ad1441346"
      },
      "execution_count": null,
      "outputs": [
        {
          "output_type": "stream",
          "name": "stderr",
          "text": [
            "\u001b[34m\u001b[1mwandb\u001b[0m: W&B API key is configured. Use \u001b[1m`wandb login --relogin`\u001b[0m to force relogin\n",
            "\u001b[34m\u001b[1mwandb\u001b[0m: \u001b[33mWARNING\u001b[0m If you're specifying your api key in code, ensure this code is not shared publicly.\n",
            "\u001b[34m\u001b[1mwandb\u001b[0m: \u001b[33mWARNING\u001b[0m Consider setting the WANDB_API_KEY environment variable, or running `wandb login` from the command line.\n",
            "\u001b[34m\u001b[1mwandb\u001b[0m: Appending key for api.wandb.ai to your netrc file: /root/.netrc\n"
          ]
        }
      ]
    },
    {
      "cell_type": "code",
      "source": [
        "model = GVAE(args).to(params['device'])\n",
        "optimizer = torch.optim.Adam(model.parameters(), lr=params['learning_rate'])\n",
        "scheduler = ReduceLROnPlateau(optimizer, factor=params['schd_factor'], patience=params['schd_patience'], min_lr=params['schd_min_lr'])"
      ],
      "metadata": {
        "id": "HFS9KrUch8Aw"
      },
      "execution_count": null,
      "outputs": []
    },
    {
      "cell_type": "code",
      "source": [
        "trial = Trial(model=model, optimizer=optimizer, params=params, use_wb=True, scheduler=scheduler)\n",
        "trial.count_parameters()"
      ],
      "metadata": {
        "colab": {
          "base_uri": "https://localhost:8080/"
        },
        "id": "uLeXCsiBi9OZ",
        "outputId": "f439780a-ff6c-4fb7-a9b1-c962b1b83fc1"
      },
      "execution_count": null,
      "outputs": [
        {
          "output_type": "stream",
          "name": "stdout",
          "text": [
            "+-------------------------------------------+------------+\n",
            "|                  Modules                  | Parameters |\n",
            "+-------------------------------------------+------------+\n",
            "|  encoder.en_conv_layers.0.lin_key.weight  |   15360    |\n",
            "|   encoder.en_conv_layers.0.lin_key.bias   |    512     |\n",
            "| encoder.en_conv_layers.0.lin_query.weight |   15360    |\n",
            "|  encoder.en_conv_layers.0.lin_query.bias  |    512     |\n",
            "| encoder.en_conv_layers.0.lin_value.weight |   15360    |\n",
            "|  encoder.en_conv_layers.0.lin_value.bias  |    512     |\n",
            "|  encoder.en_conv_layers.0.lin_edge.weight |    5632    |\n",
            "|  encoder.en_conv_layers.0.lin_skip.weight |    3840    |\n",
            "|   encoder.en_conv_layers.0.lin_skip.bias  |    128     |\n",
            "|  encoder.en_conv_layers.0.lin_beta.weight |    384     |\n",
            "|  encoder.en_conv_layers.1.lin_key.weight  |   65536    |\n",
            "|   encoder.en_conv_layers.1.lin_key.bias   |    512     |\n",
            "| encoder.en_conv_layers.1.lin_query.weight |   65536    |\n",
            "|  encoder.en_conv_layers.1.lin_query.bias  |    512     |\n",
            "| encoder.en_conv_layers.1.lin_value.weight |   65536    |\n",
            "|  encoder.en_conv_layers.1.lin_value.bias  |    512     |\n",
            "|  encoder.en_conv_layers.1.lin_edge.weight |    5632    |\n",
            "|  encoder.en_conv_layers.1.lin_skip.weight |   16384    |\n",
            "|   encoder.en_conv_layers.1.lin_skip.bias  |    128     |\n",
            "|  encoder.en_conv_layers.1.lin_beta.weight |    384     |\n",
            "|  encoder.en_conv_layers.2.lin_key.weight  |   65536    |\n",
            "|   encoder.en_conv_layers.2.lin_key.bias   |    512     |\n",
            "| encoder.en_conv_layers.2.lin_query.weight |   65536    |\n",
            "|  encoder.en_conv_layers.2.lin_query.bias  |    512     |\n",
            "| encoder.en_conv_layers.2.lin_value.weight |   65536    |\n",
            "|  encoder.en_conv_layers.2.lin_value.bias  |    512     |\n",
            "|  encoder.en_conv_layers.2.lin_edge.weight |    5632    |\n",
            "|  encoder.en_conv_layers.2.lin_skip.weight |   16384    |\n",
            "|   encoder.en_conv_layers.2.lin_skip.bias  |    128     |\n",
            "|  encoder.en_conv_layers.2.lin_beta.weight |    384     |\n",
            "|  encoder.en_conv_layers.3.lin_key.weight  |   65536    |\n",
            "|   encoder.en_conv_layers.3.lin_key.bias   |    512     |\n",
            "| encoder.en_conv_layers.3.lin_query.weight |   65536    |\n",
            "|  encoder.en_conv_layers.3.lin_query.bias  |    512     |\n",
            "| encoder.en_conv_layers.3.lin_value.weight |   65536    |\n",
            "|  encoder.en_conv_layers.3.lin_value.bias  |    512     |\n",
            "|  encoder.en_conv_layers.3.lin_edge.weight |    5632    |\n",
            "|  encoder.en_conv_layers.3.lin_skip.weight |   16384    |\n",
            "|   encoder.en_conv_layers.3.lin_skip.bias  |    128     |\n",
            "|  encoder.en_conv_layers.3.lin_beta.weight |    384     |\n",
            "|    encoder.en_bn_layers.0.module.weight   |    128     |\n",
            "|     encoder.en_bn_layers.0.module.bias    |    128     |\n",
            "|    encoder.en_bn_layers.1.module.weight   |    128     |\n",
            "|     encoder.en_bn_layers.1.module.bias    |    128     |\n",
            "|    encoder.en_bn_layers.2.module.weight   |    128     |\n",
            "|     encoder.en_bn_layers.2.module.bias    |    128     |\n",
            "|    encoder.en_bn_layers.3.module.weight   |    128     |\n",
            "|     encoder.en_bn_layers.3.module.bias    |    128     |\n",
            "|     encoder.pooling.lstm.weight_ih_l0     |   131072   |\n",
            "|     encoder.pooling.lstm.weight_hh_l0     |   65536    |\n",
            "|      encoder.pooling.lstm.bias_ih_l0      |    512     |\n",
            "|      encoder.pooling.lstm.bias_hh_l0      |    512     |\n",
            "|        encoder.mu_transform.weight        |   65536    |\n",
            "|         encoder.mu_transform.bias         |    256     |\n",
            "|      encoder.logvar_transform.weight      |   65536    |\n",
            "|       encoder.logvar_transform.bias       |    256     |\n",
            "|        decoder.latent_layer.weight        |   131072   |\n",
            "|         decoder.latent_layer.bias         |    512     |\n",
            "|      decoder.decoder_layers.0.weight      |   262144   |\n",
            "|       decoder.decoder_layers.0.bias       |    512     |\n",
            "|      decoder.decoder_layers.1.weight      |   262144   |\n",
            "|       decoder.decoder_layers.1.bias       |    512     |\n",
            "|      decoder.decoder_layers.2.weight      |   262144   |\n",
            "|       decoder.decoder_layers.2.bias       |    512     |\n",
            "|      decoder.decoder_layers.3.weight      |   262144   |\n",
            "|       decoder.decoder_layers.3.bias       |    512     |\n",
            "|         decoder.gsc.linear.weight         |   262144   |\n",
            "|     decoder.gsc.linear_coef_in.weight     |   262144   |\n",
            "|      decoder.gsc.linear_coef_in.bias      |    512     |\n",
            "|     decoder.gsc.linear_coef_out.weight    |   262144   |\n",
            "|      decoder.gsc.linear_coef_out.bias     |    512     |\n",
            "|         decoder.atom_layer.weight         |   30720    |\n",
            "|          decoder.atom_layer.bias          |     60     |\n",
            "|         decoder.bond_layer.weight         |   168960   |\n",
            "|          decoder.bond_layer.bias          |    330     |\n",
            "+-------------------------------------------+------------+\n",
            "Total Trainable Params : 3219590\n"
          ]
        },
        {
          "output_type": "execute_result",
          "data": {
            "text/plain": [
              "3219590"
            ]
          },
          "metadata": {},
          "execution_count": 43
        }
      ]
    },
    {
      "cell_type": "code",
      "source": [
        "trial.wandb_init()\n",
        "train_loss_list, val_loss_list, total_cnt_list = trial.train(train_dataloader, val_dataloader)"
      ],
      "metadata": {
        "colab": {
          "base_uri": "https://localhost:8080/",
          "height": 674
        },
        "id": "H5LWW5DxjJuQ",
        "outputId": "26bdb883-8c28-40da-c96a-b3ae29caa8c7"
      },
      "execution_count": null,
      "outputs": [
        {
          "output_type": "display_data",
          "data": {
            "text/plain": [
              "<IPython.core.display.HTML object>"
            ],
            "text/html": [
              "Tracking run with wandb version 0.15.9"
            ]
          },
          "metadata": {}
        },
        {
          "output_type": "display_data",
          "data": {
            "text/plain": [
              "<IPython.core.display.HTML object>"
            ],
            "text/html": [
              "Run data is saved locally in <code>/content/wandb/run-20230829_161747-2gc8j0im</code>"
            ]
          },
          "metadata": {}
        },
        {
          "output_type": "display_data",
          "data": {
            "text/plain": [
              "<IPython.core.display.HTML object>"
            ],
            "text/html": [
              "Syncing run <strong><a href='https://wandb.ai/rossi22/GRAPH_VAE_TRAIN/runs/2gc8j0im' target=\"_blank\">trial_1</a></strong> to <a href='https://wandb.ai/rossi22/GRAPH_VAE_TRAIN' target=\"_blank\">Weights & Biases</a> (<a href='https://wandb.me/run' target=\"_blank\">docs</a>)<br/>"
            ]
          },
          "metadata": {}
        },
        {
          "output_type": "display_data",
          "data": {
            "text/plain": [
              "<IPython.core.display.HTML object>"
            ],
            "text/html": [
              " View project at <a href='https://wandb.ai/rossi22/GRAPH_VAE_TRAIN' target=\"_blank\">https://wandb.ai/rossi22/GRAPH_VAE_TRAIN</a>"
            ]
          },
          "metadata": {}
        },
        {
          "output_type": "display_data",
          "data": {
            "text/plain": [
              "<IPython.core.display.HTML object>"
            ],
            "text/html": [
              " View run at <a href='https://wandb.ai/rossi22/GRAPH_VAE_TRAIN/runs/2gc8j0im' target=\"_blank\">https://wandb.ai/rossi22/GRAPH_VAE_TRAIN/runs/2gc8j0im</a>"
            ]
          },
          "metadata": {}
        },
        {
          "output_type": "stream",
          "name": "stderr",
          "text": [
            "  3%|▎         | 1/30 [14:32<7:01:38, 872.37s/it]"
          ]
        },
        {
          "output_type": "stream",
          "name": "stdout",
          "text": [
            "       epoch 1    /   30  [epoch_train_loss : 10.68329] [epoch_val_loss : 4.24475] [total_cnt : 98.0 / 2354]    [lr : 0.00000500]\n"
          ]
        },
        {
          "output_type": "stream",
          "name": "stderr",
          "text": [
            "\r  7%|▋         | 2/30 [28:21<6:35:16, 847.03s/it]"
          ]
        },
        {
          "output_type": "stream",
          "name": "stdout",
          "text": [
            "       epoch 2    /   30  [epoch_train_loss : 3.81124] [epoch_val_loss : 3.60632] [total_cnt : 67.0 / 2354]    [lr : 0.00000500]\n"
          ]
        },
        {
          "output_type": "stream",
          "name": "stderr",
          "text": [
            "\r 10%|█         | 3/30 [42:11<6:17:33, 839.01s/it]"
          ]
        },
        {
          "output_type": "stream",
          "name": "stdout",
          "text": [
            "       epoch 3    /   30  [epoch_train_loss : 3.49757] [epoch_val_loss : 3.47866] [total_cnt : 73.0 / 2354]    [lr : 0.00000500]\n"
          ]
        },
        {
          "output_type": "stream",
          "name": "stderr",
          "text": [
            "\r 13%|█▎        | 4/30 [56:03<6:02:26, 836.42s/it]"
          ]
        },
        {
          "output_type": "stream",
          "name": "stdout",
          "text": [
            "       epoch 4    /   30  [epoch_train_loss : 3.42990] [epoch_val_loss : 3.44398] [total_cnt : 79.0 / 2354]    [lr : 0.00000500]\n"
          ]
        },
        {
          "output_type": "stream",
          "name": "stderr",
          "text": [
            "\r 17%|█▋        | 5/30 [1:09:48<5:46:47, 832.29s/it]"
          ]
        },
        {
          "output_type": "stream",
          "name": "stdout",
          "text": [
            "       epoch 5    /   30  [epoch_train_loss : 3.39878] [epoch_val_loss : 3.51438] [total_cnt : 68.0 / 2354]    [lr : 0.00000500]\n"
          ]
        },
        {
          "output_type": "stream",
          "name": "stderr",
          "text": [
            "\r 20%|██        | 6/30 [1:23:38<5:32:35, 831.49s/it]"
          ]
        },
        {
          "output_type": "stream",
          "name": "stdout",
          "text": [
            "       epoch 6    /   30  [epoch_train_loss : 3.38452] [epoch_val_loss : 3.46540] [total_cnt : 71.0 / 2354]    [lr : 0.00000500]\n"
          ]
        },
        {
          "output_type": "stream",
          "name": "stderr",
          "text": [
            "\r 23%|██▎       | 7/30 [1:37:24<5:18:01, 829.63s/it]"
          ]
        },
        {
          "output_type": "stream",
          "name": "stdout",
          "text": [
            "       epoch 7    /   30  [epoch_train_loss : 3.37250] [epoch_val_loss : 3.38515] [total_cnt : 82.0 / 2354]    [lr : 0.00000500]\n"
          ]
        },
        {
          "output_type": "stream",
          "name": "stderr",
          "text": [
            "\r 27%|██▋       | 8/30 [1:51:10<5:03:50, 828.64s/it]"
          ]
        },
        {
          "output_type": "stream",
          "name": "stdout",
          "text": [
            "       epoch 8    /   30  [epoch_train_loss : 3.36587] [epoch_val_loss : 3.34590] [total_cnt : 108.0 / 2354]    [lr : 0.00000500]\n"
          ]
        },
        {
          "output_type": "stream",
          "name": "stderr",
          "text": [
            "\r 30%|███       | 9/30 [2:04:51<4:49:10, 826.21s/it]"
          ]
        },
        {
          "output_type": "stream",
          "name": "stdout",
          "text": [
            "       epoch 9    /   30  [epoch_train_loss : 3.36130] [epoch_val_loss : 3.41495] [total_cnt : 83.0 / 2354]    [lr : 0.00000500]\n"
          ]
        },
        {
          "output_type": "stream",
          "name": "stderr",
          "text": [
            "\r 33%|███▎      | 10/30 [2:18:39<4:35:34, 826.70s/it]"
          ]
        },
        {
          "output_type": "stream",
          "name": "stdout",
          "text": [
            "       epoch 10   /   30  [epoch_train_loss : 3.35535] [epoch_val_loss : 3.59060] [total_cnt : 64.0 / 2354]    [lr : 0.00000500]\n"
          ]
        },
        {
          "output_type": "stream",
          "name": "stderr",
          "text": [
            "\r 37%|███▋      | 11/30 [2:32:31<4:22:19, 828.40s/it]"
          ]
        },
        {
          "output_type": "stream",
          "name": "stdout",
          "text": [
            "       epoch 11   /   30  [epoch_train_loss : 3.35223] [epoch_val_loss : 3.26076] [total_cnt : 115.0 / 2354]    [lr : 0.00000500]\n"
          ]
        },
        {
          "output_type": "stream",
          "name": "stderr",
          "text": [
            "\r 40%|████      | 12/30 [2:46:21<4:08:36, 828.67s/it]"
          ]
        },
        {
          "output_type": "stream",
          "name": "stdout",
          "text": [
            "       epoch 12   /   30  [epoch_train_loss : 3.35115] [epoch_val_loss : 3.34766] [total_cnt : 81.0 / 2354]    [lr : 0.00000500]\n"
          ]
        },
        {
          "output_type": "stream",
          "name": "stderr",
          "text": [
            "\r 43%|████▎     | 13/30 [3:00:11<3:54:55, 829.12s/it]"
          ]
        },
        {
          "output_type": "stream",
          "name": "stdout",
          "text": [
            "       epoch 13   /   30  [epoch_train_loss : 3.34970] [epoch_val_loss : 3.30518] [total_cnt : 107.0 / 2354]    [lr : 0.00000500]\n"
          ]
        },
        {
          "output_type": "stream",
          "name": "stderr",
          "text": [
            "\r 47%|████▋     | 14/30 [3:14:18<3:42:34, 834.67s/it]"
          ]
        },
        {
          "output_type": "stream",
          "name": "stdout",
          "text": [
            "       epoch 14   /   30  [epoch_train_loss : 3.34602] [epoch_val_loss : 3.24593] [total_cnt : 130.0 / 2354]    [lr : 0.00000500]\n"
          ]
        },
        {
          "output_type": "stream",
          "name": "stderr",
          "text": [
            "\r 50%|█████     | 15/30 [3:28:09<3:28:21, 833.46s/it]"
          ]
        },
        {
          "output_type": "stream",
          "name": "stdout",
          "text": [
            "       epoch 15   /   30  [epoch_train_loss : 3.34252] [epoch_val_loss : 3.46758] [total_cnt : 90.0 / 2354]    [lr : 0.00000500]\n"
          ]
        },
        {
          "output_type": "stream",
          "name": "stderr",
          "text": [
            "\r 53%|█████▎    | 16/30 [3:41:43<3:13:07, 827.66s/it]"
          ]
        },
        {
          "output_type": "stream",
          "name": "stdout",
          "text": [
            "       epoch 16   /   30  [epoch_train_loss : 3.34674] [epoch_val_loss : 3.32924] [total_cnt : 86.0 / 2354]    [lr : 0.00000500]\n"
          ]
        },
        {
          "output_type": "stream",
          "name": "stderr",
          "text": [
            "\r 57%|█████▋    | 17/30 [3:55:10<2:57:57, 821.32s/it]"
          ]
        },
        {
          "output_type": "stream",
          "name": "stdout",
          "text": [
            "       epoch 17   /   30  [epoch_train_loss : 3.33765] [epoch_val_loss : 3.20106] [total_cnt : 105.0 / 2354]    [lr : 0.00000500]\n"
          ]
        },
        {
          "output_type": "stream",
          "name": "stderr",
          "text": [
            "\r 60%|██████    | 18/30 [4:08:25<2:42:42, 813.51s/it]"
          ]
        },
        {
          "output_type": "stream",
          "name": "stdout",
          "text": [
            "       epoch 18   /   30  [epoch_train_loss : 3.33757] [epoch_val_loss : 3.19070] [total_cnt : 110.0 / 2354]    [lr : 0.00000500]\n"
          ]
        },
        {
          "output_type": "stream",
          "name": "stderr",
          "text": [
            "\r 63%|██████▎   | 19/30 [4:21:36<2:27:53, 806.68s/it]"
          ]
        },
        {
          "output_type": "stream",
          "name": "stdout",
          "text": [
            "       epoch 19   /   30  [epoch_train_loss : 3.33940] [epoch_val_loss : 3.33773] [total_cnt : 110.0 / 2354]    [lr : 0.00000500]\n"
          ]
        },
        {
          "output_type": "stream",
          "name": "stderr",
          "text": [
            "\r 67%|██████▋   | 20/30 [4:34:50<2:13:51, 803.11s/it]"
          ]
        },
        {
          "output_type": "stream",
          "name": "stdout",
          "text": [
            "       epoch 20   /   30  [epoch_train_loss : 3.33949] [epoch_val_loss : 3.51510] [total_cnt : 64.0 / 2354]    [lr : 0.00000500]\n"
          ]
        },
        {
          "output_type": "stream",
          "name": "stderr",
          "text": [
            "\r 70%|███████   | 21/30 [4:48:00<1:59:52, 799.12s/it]"
          ]
        },
        {
          "output_type": "stream",
          "name": "stdout",
          "text": [
            "       epoch 21   /   30  [epoch_train_loss : 3.34177] [epoch_val_loss : 3.33394] [total_cnt : 57.0 / 2354]    [lr : 0.00000500]\n"
          ]
        },
        {
          "output_type": "stream",
          "name": "stderr",
          "text": [
            "\r 73%|███████▎  | 22/30 [5:00:57<1:45:39, 792.41s/it]"
          ]
        },
        {
          "output_type": "stream",
          "name": "stdout",
          "text": [
            "       epoch 22   /   30  [epoch_train_loss : 3.33773] [epoch_val_loss : 3.34661] [total_cnt : 70.0 / 2354]    [lr : 0.00000500]\n"
          ]
        },
        {
          "output_type": "stream",
          "name": "stderr",
          "text": [
            "\r 77%|███████▋  | 23/30 [5:13:49<1:31:44, 786.40s/it]"
          ]
        },
        {
          "output_type": "stream",
          "name": "stdout",
          "text": [
            "       epoch 23   /   30  [epoch_train_loss : 3.33664] [epoch_val_loss : 3.50885] [total_cnt : 50.0 / 2354]    [lr : 0.00000500]\n"
          ]
        },
        {
          "output_type": "stream",
          "name": "stderr",
          "text": [
            "\r 80%|████████  | 24/30 [5:26:42<1:18:13, 782.32s/it]"
          ]
        },
        {
          "output_type": "stream",
          "name": "stdout",
          "text": [
            "       epoch 24   /   30  [epoch_train_loss : 3.33859] [epoch_val_loss : 3.10990] [total_cnt : 111.0 / 2354]    [lr : 0.00000500]\n"
          ]
        },
        {
          "output_type": "stream",
          "name": "stderr",
          "text": [
            "\r 83%|████████▎ | 25/30 [5:39:36<1:04:59, 779.81s/it]"
          ]
        },
        {
          "output_type": "stream",
          "name": "stdout",
          "text": [
            "       epoch 25   /   30  [epoch_train_loss : 3.33592] [epoch_val_loss : 3.31071] [total_cnt : 91.0 / 2354]    [lr : 0.00000500]\n"
          ]
        },
        {
          "output_type": "stream",
          "name": "stderr",
          "text": [
            "\r 87%|████████▋ | 26/30 [5:52:26<51:47, 776.82s/it]  "
          ]
        },
        {
          "output_type": "stream",
          "name": "stdout",
          "text": [
            "       epoch 26   /   30  [epoch_train_loss : 3.33939] [epoch_val_loss : 3.27714] [total_cnt : 94.0 / 2354]    [lr : 0.00000500]\n"
          ]
        },
        {
          "output_type": "stream",
          "name": "stderr",
          "text": [
            "\r 90%|█████████ | 27/30 [6:05:14<38:42, 774.30s/it]"
          ]
        },
        {
          "output_type": "stream",
          "name": "stdout",
          "text": [
            "       epoch 27   /   30  [epoch_train_loss : 3.33451] [epoch_val_loss : 3.39559] [total_cnt : 62.0 / 2354]    [lr : 0.00000500]\n"
          ]
        },
        {
          "output_type": "stream",
          "name": "stderr",
          "text": [
            "\r 93%|█████████▎| 28/30 [6:18:04<25:45, 772.85s/it]"
          ]
        },
        {
          "output_type": "stream",
          "name": "stdout",
          "text": [
            "       epoch 28   /   30  [epoch_train_loss : 3.33540] [epoch_val_loss : 3.19899] [total_cnt : 107.0 / 2354]    [lr : 0.00000500]\n"
          ]
        },
        {
          "output_type": "stream",
          "name": "stderr",
          "text": [
            "\r 97%|█████████▋| 29/30 [6:30:52<12:51, 771.51s/it]"
          ]
        },
        {
          "output_type": "stream",
          "name": "stdout",
          "text": [
            "       epoch 29   /   30  [epoch_train_loss : 3.33148] [epoch_val_loss : 3.50851] [total_cnt : 77.0 / 2354]    [lr : 0.00000500]\n"
          ]
        },
        {
          "output_type": "stream",
          "name": "stderr",
          "text": [
            "100%|██████████| 30/30 [6:43:41<00:00, 807.38s/it]"
          ]
        },
        {
          "output_type": "stream",
          "name": "stdout",
          "text": [
            "       epoch 30   /   30  [epoch_train_loss : 3.33009] [epoch_val_loss : 3.41528] [total_cnt : 57.0 / 2354]    [lr : 0.00000500]\n"
          ]
        },
        {
          "output_type": "stream",
          "name": "stderr",
          "text": [
            "\n"
          ]
        }
      ]
    },
    {
      "cell_type": "code",
      "source": [
        "created_mols = trial.create_mols(1000)\n",
        "created_mols"
      ],
      "metadata": {
        "colab": {
          "base_uri": "https://localhost:8080/"
        },
        "id": "KxzM24xTrX7D",
        "outputId": "56871d21-6f6b-4401-c598-a7c913b9508e"
      },
      "execution_count": null,
      "outputs": [
        {
          "output_type": "stream",
          "name": "stdout",
          "text": [
            "30 / 1000\n"
          ]
        },
        {
          "output_type": "execute_result",
          "data": {
            "text/plain": [
              "defaultdict(int,\n",
              "            {'CCCC(C)(CC)CC': 1,\n",
              "             'COON(C)C12C3C1N32': 1,\n",
              "             'CC12CC1C2(C)C(O)O': 1,\n",
              "             'CCCCC1(C)CC1O': 1,\n",
              "             'CCCCC(C)(C)CC': 1,\n",
              "             'CNC1(C)OOC2CC21': 1,\n",
              "             'CCC(C)(C)C1CC1N': 1,\n",
              "             'CC1CC(OO)OC1O': 1,\n",
              "             'COC1(C)CN1C(C)C': 1,\n",
              "             'C1CC23NC1(O2)C31CC1': 1,\n",
              "             'CC1CC2(C)C3CCC132': 1,\n",
              "             'CCCOC(CC)CO': 1,\n",
              "             'CCC1CC2CCC2C1': 1,\n",
              "             'CCC(C)CCCCN': 1,\n",
              "             'CC1C2OC2N(C)C1O': 1,\n",
              "             'CC1C2(C)CC3C2C31C': 1,\n",
              "             'CCOC1OCC1C': 1,\n",
              "             'CC(C)C(N)CCCO': 1,\n",
              "             'CCC(CC)(CC)OC': 1,\n",
              "             'CCCCONCCO': 1,\n",
              "             'CCC(O)(CN)C(C)C': 1,\n",
              "             'OCC1CCC12CCC2': 1,\n",
              "             'CCC1OC2CC1(C)C2': 1,\n",
              "             'CCC(C)COC(C)C': 1,\n",
              "             'CCC1C2CC1C21CC1': 1,\n",
              "             'CCC12C(O)C13OC23O': 1,\n",
              "             'CCC1CCCC1C': 1,\n",
              "             'CCC1C2CCC12CC': 1,\n",
              "             'CCOC(C)CCO': 1,\n",
              "             'CCOC1(OC)CC1C': 1})"
            ]
          },
          "metadata": {},
          "execution_count": 45
        }
      ]
    },
    {
      "cell_type": "code",
      "source": [
        "smi_list = list(created_mols)\n",
        "print(smi_list)"
      ],
      "metadata": {
        "colab": {
          "base_uri": "https://localhost:8080/"
        },
        "id": "wwfgq14bj3qS",
        "outputId": "5b20280e-864b-458b-fdec-11814d1931a9"
      },
      "execution_count": null,
      "outputs": [
        {
          "output_type": "stream",
          "name": "stdout",
          "text": [
            "['CCCC(C)(CC)CC', 'COON(C)C12C3C1N32', 'CC12CC1C2(C)C(O)O', 'CCCCC1(C)CC1O', 'CCCCC(C)(C)CC', 'CNC1(C)OOC2CC21', 'CCC(C)(C)C1CC1N', 'CC1CC(OO)OC1O', 'COC1(C)CN1C(C)C', 'C1CC23NC1(O2)C31CC1', 'CC1CC2(C)C3CCC132', 'CCCOC(CC)CO', 'CCC1CC2CCC2C1', 'CCC(C)CCCCN', 'CC1C2OC2N(C)C1O', 'CC1C2(C)CC3C2C31C', 'CCOC1OCC1C', 'CC(C)C(N)CCCO', 'CCC(CC)(CC)OC', 'CCCCONCCO', 'CCC(O)(CN)C(C)C', 'OCC1CCC12CCC2', 'CCC1OC2CC1(C)C2', 'CCC(C)COC(C)C', 'CCC1C2CC1C21CC1', 'CCC12C(O)C13OC23O', 'CCC1CCCC1C', 'CCC1C2CCC12CC', 'CCOC(C)CCO', 'CCOC1(OC)CC1C']\n"
          ]
        }
      ]
    },
    {
      "cell_type": "code",
      "source": [
        "for i, smiles in enumerate(smi_list) :\n",
        "    print(f'\\n{i} : {smiles}')\n",
        "    img = Draw.MolToImage(Chem.MolFromSmiles(smiles))\n",
        "    display(img)"
      ],
      "metadata": {
        "colab": {
          "base_uri": "https://localhost:8080/",
          "height": 1000
        },
        "id": "GqdGBbvEFogO",
        "outputId": "45d587cd-b4bd-4202-aec8-2fae21948660"
      },
      "execution_count": null,
      "outputs": [
        {
          "output_type": "stream",
          "name": "stdout",
          "text": [
            "\n",
            "0 : CCCC(C)(CC)CC\n"
          ]
        },
        {
          "output_type": "display_data",
          "data": {
            "text/plain": [
              "<PIL.PngImagePlugin.PngImageFile image mode=RGB size=300x300>"
            ],
            "image/png": "[encoded data removed]"
          },
          "metadata": {}
        },
        {
          "output_type": "stream",
          "name": "stdout",
          "text": [
            "\n",
            "1 : COON(C)C12C3C1N32\n"
          ]
        },
        {
          "output_type": "display_data",
          "data": {
            "text/plain": [
              "<PIL.PngImagePlugin.PngImageFile image mode=RGB size=300x300>"
            ],
            "image/png": "[encoded data removed]"
          },
          "metadata": {}
        },
        {
          "output_type": "stream",
          "name": "stdout",
          "text": [
            "\n",
            "2 : CC12CC1C2(C)C(O)O\n"
          ]
        },
        {
          "output_type": "display_data",
          "data": {
            "text/plain": [
              "<PIL.PngImagePlugin.PngImageFile image mode=RGB size=300x300>"
            ],
            "image/png": "[encoded data removed]"
          },
          "metadata": {}
        },
        {
          "output_type": "stream",
          "name": "stdout",
          "text": [
            "\n",
            "3 : CCCCC1(C)CC1O\n"
          ]
        },
        {
          "output_type": "display_data",
          "data": {
            "text/plain": [
              "<PIL.PngImagePlugin.PngImageFile image mode=RGB size=300x300>"
            ],
            "image/png": "[encoded data removed]"
          },
          "metadata": {}
        },
        {
          "output_type": "stream",
          "name": "stdout",
          "text": [
            "\n",
            "4 : CCCCC(C)(C)CC\n"
          ]
        },
        {
          "output_type": "display_data",
          "data": {
            "text/plain": [
              "<PIL.PngImagePlugin.PngImageFile image mode=RGB size=300x300>"
            ],
            "image/png": "[encoded data removed]"
          },
          "metadata": {}
        },
        {
          "output_type": "stream",
          "name": "stdout",
          "text": [
            "\n",
            "5 : CNC1(C)OOC2CC21\n"
          ]
        },
        {
          "output_type": "display_data",
          "data": {
            "text/plain": [
              "<PIL.PngImagePlugin.PngImageFile image mode=RGB size=300x300>"
            ],
            "image/png": "[encoded data removed]"
          },
          "metadata": {}
        },
        {
          "output_type": "stream",
          "name": "stdout",
          "text": [
            "\n",
            "6 : CCC(C)(C)C1CC1N\n"
          ]
        },
        {
          "output_type": "display_data",
          "data": {
            "text/plain": [
              "<PIL.PngImagePlugin.PngImageFile image mode=RGB size=300x300>"
            ],
            "image/png": "[encoded data removed]"
          },
          "metadata": {}
        },
        {
          "output_type": "stream",
          "name": "stdout",
          "text": [
            "\n",
            "7 : CC1CC(OO)OC1O\n"
          ]
        },
        {
          "output_type": "display_data",
          "data": {
            "text/plain": [
              "<PIL.PngImagePlugin.PngImageFile image mode=RGB size=300x300>"
            ],
            "image/png": "[encoded data removed]"
          },
          "metadata": {}
        },
        {
          "output_type": "stream",
          "name": "stdout",
          "text": [
            "\n",
            "8 : COC1(C)CN1C(C)C\n"
          ]
        },
        {
          "output_type": "display_data",
          "data": {
            "text/plain": [
              "<PIL.PngImagePlugin.PngImageFile image mode=RGB size=300x300>"
            ],
            "image/png": "[encoded data removed]"
          },
          "metadata": {}
        },
        {
          "output_type": "stream",
          "name": "stdout",
          "text": [
            "\n",
            "9 : C1CC23NC1(O2)C31CC1\n"
          ]
        },
        {
          "output_type": "display_data",
          "data": {
            "text/plain": [
              "<PIL.PngImagePlugin.PngImageFile image mode=RGB size=300x300>"
            ],
            "image/png": "[encoded data removed]"
          },
          "metadata": {}
        },
        {
          "output_type": "stream",
          "name": "stdout",
          "text": [
            "\n",
            "10 : CC1CC2(C)C3CCC132\n"
          ]
        },
        {
          "output_type": "display_data",
          "data": {
            "text/plain": [
              "<PIL.PngImagePlugin.PngImageFile image mode=RGB size=300x300>"
            ],
            "image/png": "[encoded data removed]"
          },
          "metadata": {}
        },
        {
          "output_type": "stream",
          "name": "stdout",
          "text": [
            "\n",
            "11 : CCCOC(CC)CO\n"
          ]
        },
        {
          "output_type": "display_data",
          "data": {
            "text/plain": [
              "<PIL.PngImagePlugin.PngImageFile image mode=RGB size=300x300>"
            ],
            "image/png": "[encoded data removed]"
          },
          "metadata": {}
        },
        {
          "output_type": "stream",
          "name": "stdout",
          "text": [
            "\n",
            "12 : CCC1CC2CCC2C1\n"
          ]
        },
        {
          "output_type": "display_data",
          "data": {
            "text/plain": [
              "<PIL.PngImagePlugin.PngImageFile image mode=RGB size=300x300>"
            ],
            "image/png": "[encoded data removed]"
          },
          "metadata": {}
        },
        {
          "output_type": "stream",
          "name": "stdout",
          "text": [
            "\n",
            "13 : CCC(C)CCCCN\n"
          ]
        },
        {
          "output_type": "display_data",
          "data": {
            "text/plain": [
              "<PIL.PngImagePlugin.PngImageFile image mode=RGB size=300x300>"
            ],
            "image/png": "[encoded data removed]"
          },
          "metadata": {}
        },
        {
          "output_type": "stream",
          "name": "stdout",
          "text": [
            "\n",
            "14 : CC1C2OC2N(C)C1O\n"
          ]
        },
        {
          "output_type": "display_data",
          "data": {
            "text/plain": [
              "<PIL.PngImagePlugin.PngImageFile image mode=RGB size=300x300>"
            ],
            "image/png": "[encoded data removed]"
          },
          "metadata": {}
        },
        {
          "output_type": "stream",
          "name": "stdout",
          "text": [
            "\n",
            "15 : CC1C2(C)CC3C2C31C\n"
          ]
        },
        {
          "output_type": "display_data",
          "data": {
            "text/plain": [
              "<PIL.PngImagePlugin.PngImageFile image mode=RGB size=300x300>"
            ],
            "image/png": "[encoded data removed]"
          },
          "metadata": {}
        },
        {
          "output_type": "stream",
          "name": "stdout",
          "text": [
            "\n",
            "16 : CCOC1OCC1C\n"
          ]
        },
        {
          "output_type": "display_data",
          "data": {
            "text/plain": [
              "<PIL.PngImagePlugin.PngImageFile image mode=RGB size=300x300>"
            ],
            "image/png": "[encoded data removed]"
          },
          "metadata": {}
        },
        {
          "output_type": "stream",
          "name": "stdout",
          "text": [
            "\n",
            "17 : CC(C)C(N)CCCO\n"
          ]
        },
        {
          "output_type": "display_data",
          "data": {
            "text/plain": [
              "<PIL.PngImagePlugin.PngImageFile image mode=RGB size=300x300>"
            ],
            "image/png": "[encoded data removed]"
          },
          "metadata": {}
        },
        {
          "output_type": "stream",
          "name": "stdout",
          "text": [
            "\n",
            "18 : CCC(CC)(CC)OC\n"
          ]
        },
        {
          "output_type": "display_data",
          "data": {
            "text/plain": [
              "<PIL.PngImagePlugin.PngImageFile image mode=RGB size=300x300>"
            ],
            "image/png": "[encoded data removed]"
          },
          "metadata": {}
        },
        {
          "output_type": "stream",
          "name": "stdout",
          "text": [
            "\n",
            "19 : CCCCONCCO\n"
          ]
        },
        {
          "output_type": "display_data",
          "data": {
            "text/plain": [
              "<PIL.PngImagePlugin.PngImageFile image mode=RGB size=300x300>"
            ],
            "image/png": "[encoded data removed]"
          },
          "metadata": {}
        },
        {
          "output_type": "stream",
          "name": "stdout",
          "text": [
            "\n",
            "20 : CCC(O)(CN)C(C)C\n"
          ]
        },
        {
          "output_type": "display_data",
          "data": {
            "text/plain": [
              "<PIL.PngImagePlugin.PngImageFile image mode=RGB size=300x300>"
            ],
            "image/png": "[encoded data removed]"
          },
          "metadata": {}
        },
        {
          "output_type": "stream",
          "name": "stdout",
          "text": [
            "\n",
            "21 : OCC1CCC12CCC2\n"
          ]
        },
        {
          "output_type": "display_data",
          "data": {
            "text/plain": [
              "<PIL.PngImagePlugin.PngImageFile image mode=RGB size=300x300>"
            ],
            "image/png": "[encoded data removed]"
          },
          "metadata": {}
        },
        {
          "output_type": "stream",
          "name": "stdout",
          "text": [
            "\n",
            "22 : CCC1OC2CC1(C)C2\n"
          ]
        },
        {
          "output_type": "display_data",
          "data": {
            "text/plain": [
              "<PIL.PngImagePlugin.PngImageFile image mode=RGB size=300x300>"
            ],
            "image/png": "[encoded data removed]"
          },
          "metadata": {}
        },
        {
          "output_type": "stream",
          "name": "stdout",
          "text": [
            "\n",
            "23 : CCC(C)COC(C)C\n"
          ]
        },
        {
          "output_type": "display_data",
          "data": {
            "text/plain": [
              "<PIL.PngImagePlugin.PngImageFile image mode=RGB size=300x300>"
            ],
            "image/png": "[encoded data removed]"
          },
          "metadata": {}
        },
        {
          "output_type": "stream",
          "name": "stdout",
          "text": [
            "\n",
            "24 : CCC1C2CC1C21CC1\n"
          ]
        },
        {
          "output_type": "display_data",
          "data": {
            "text/plain": [
              "<PIL.PngImagePlugin.PngImageFile image mode=RGB size=300x300>"
            ],
            "image/png": "[encoded data removed]"
          },
          "metadata": {}
        },
        {
          "output_type": "stream",
          "name": "stdout",
          "text": [
            "\n",
            "25 : CCC12C(O)C13OC23O\n"
          ]
        },
        {
          "output_type": "display_data",
          "data": {
            "text/plain": [
              "<PIL.PngImagePlugin.PngImageFile image mode=RGB size=300x300>"
            ],
            "image/png": "[encoded data removed]"
          },
          "metadata": {}
        },
        {
          "output_type": "stream",
          "name": "stdout",
          "text": [
            "\n",
            "26 : CCC1CCCC1C\n"
          ]
        },
        {
          "output_type": "display_data",
          "data": {
            "text/plain": [
              "<PIL.PngImagePlugin.PngImageFile image mode=RGB size=300x300>"
            ],
            "image/png": "[encoded data removed]"
          },
          "metadata": {}
        },
        {
          "output_type": "stream",
          "name": "stdout",
          "text": [
            "\n",
            "27 : CCC1C2CCC12CC\n"
          ]
        },
        {
          "output_type": "display_data",
          "data": {
            "text/plain": [
              "<PIL.PngImagePlugin.PngImageFile image mode=RGB size=300x300>"
            ],
            "image/png": "[encoded data removed]"
          },
          "metadata": {}
        },
        {
          "output_type": "stream",
          "name": "stdout",
          "text": [
            "\n",
            "28 : CCOC(C)CCO\n"
          ]
        },
        {
          "output_type": "display_data",
          "data": {
            "text/plain": [
              "<PIL.PngImagePlugin.PngImageFile image mode=RGB size=300x300>"
            ],
            "image/png": "[encoded data removed]"
          },
          "metadata": {}
        },
        {
          "output_type": "stream",
          "name": "stdout",
          "text": [
            "\n",
            "29 : CCOC1(OC)CC1C\n"
          ]
        },
        {
          "output_type": "display_data",
          "data": {
            "text/plain": [
              "<PIL.PngImagePlugin.PngImageFile image mode=RGB size=300x300>"
            ],
            "image/png": "[encoded data removed]"
          },
          "metadata": {}
        }
      ]
    },
    {
      "cell_type": "code",
      "source": [
        "wandb.finish()"
      ],
      "metadata": {
        "id": "x0IuMhNN6oAx",
        "colab": {
          "base_uri": "https://localhost:8080/",
          "height": 292
        },
        "outputId": "f06c50c7-2968-44ec-b9d8-58099540db8a"
      },
      "execution_count": null,
      "outputs": [
        {
          "output_type": "display_data",
          "data": {
            "text/plain": [
              "<IPython.core.display.HTML object>"
            ],
            "text/html": [
              "Waiting for W&B process to finish... <strong style=\"color:green\">(success).</strong>"
            ]
          },
          "metadata": {}
        },
        {
          "output_type": "display_data",
          "data": {
            "text/plain": [
              "<IPython.core.display.HTML object>"
            ],
            "text/html": [
              "<style>\n",
              "    table.wandb td:nth-child(1) { padding: 0 10px; text-align: left ; width: auto;} td:nth-child(2) {text-align: left ; width: 100%}\n",
              "    .wandb-row { display: flex; flex-direction: row; flex-wrap: wrap; justify-content: flex-start; width: 100% }\n",
              "    .wandb-col { display: flex; flex-direction: column; flex-basis: 100%; flex: 1; padding: 10px; }\n",
              "    </style>\n",
              "<div class=\"wandb-row\"><div class=\"wandb-col\"><h3>Run history:</h3><br/><table class=\"wandb\"><tr><td>best_total_cnt</td><td>▁▆▆▆▆▆▆▆▇▇▇▇▇▇████████████████</td></tr><tr><td>epoch</td><td>▁▁▁▂▂▂▂▃▃▃▃▄▄▄▄▅▅▅▅▆▆▆▆▇▇▇▇███</td></tr><tr><td>epoch_train_loss</td><td>█▁▁▁▁▁▁▁▁▁▁▁▁▁▁▁▁▁▁▁▁▁▁▁▁▁▁▁▁▁</td></tr><tr><td>epoch_val_loss</td><td>█▄▃▃▃▃▃▂▃▄▂▂▂▂▃▂▂▁▂▃▂▂▃▁▂▂▃▂▃▃</td></tr><tr><td>total_cnt</td><td>▅▂▃▄▃▃▄▆▄▂▇▄▆█▅▄▆▆▆▂▂▃▁▆▅▅▂▆▃▂</td></tr></table><br/></div><div class=\"wandb-col\"><h3>Run summary:</h3><br/><table class=\"wandb\"><tr><td>best_total_cnt</td><td>130.0</td></tr><tr><td>epoch</td><td>30</td></tr><tr><td>epoch_train_loss</td><td>3.33009</td></tr><tr><td>epoch_val_loss</td><td>3.41528</td></tr><tr><td>total_cnt</td><td>57.0</td></tr></table><br/></div></div>"
            ]
          },
          "metadata": {}
        },
        {
          "output_type": "display_data",
          "data": {
            "text/plain": [
              "<IPython.core.display.HTML object>"
            ],
            "text/html": [
              " View run <strong style=\"color:#cdcd00\">trial_1</strong> at: <a href='https://wandb.ai/rossi22/GRAPH_VAE_TRAIN/runs/2gc8j0im' target=\"_blank\">https://wandb.ai/rossi22/GRAPH_VAE_TRAIN/runs/2gc8j0im</a><br/>Synced 5 W&B file(s), 0 media file(s), 0 artifact file(s) and 0 other file(s)"
            ]
          },
          "metadata": {}
        },
        {
          "output_type": "display_data",
          "data": {
            "text/plain": [
              "<IPython.core.display.HTML object>"
            ],
            "text/html": [
              "Find logs at: <code>./wandb/run-20230829_161747-2gc8j0im/logs</code>"
            ]
          },
          "metadata": {}
        }
      ]
    },
    {
      "cell_type": "code",
      "source": [],
      "metadata": {
        "id": "F1U3sVfILLlr"
      },
      "execution_count": null,
      "outputs": []
    },
    {
      "cell_type": "code",
      "source": [],
      "metadata": {
        "id": "pl4-EaY_LLjT"
      },
      "execution_count": null,
      "outputs": []
    },
    {
      "cell_type": "code",
      "source": [],
      "metadata": {
        "id": "xGRKhFgcLLgC"
      },
      "execution_count": null,
      "outputs": []
    },
    {
      "cell_type": "code",
      "source": [],
      "metadata": {
        "id": "6bAIPy5eLLYS"
      },
      "execution_count": null,
      "outputs": []
    }
  ],
  "metadata": {
    "colab": {
      "provenance": [],
      "machine_shape": "hm",
      "gpuType": "T4"
    },
    "kernelspec": {
      "display_name": "Python 3",
      "name": "python3"
    },
    "language_info": {
      "name": "python"
    },
    "accelerator": "GPU"
  },
  "nbformat": 4,
  "nbformat_minor": 0
}