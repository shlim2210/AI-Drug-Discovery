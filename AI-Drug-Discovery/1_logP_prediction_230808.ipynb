{
  "cells": [
    {
      "cell_type": "markdown",
      "source": [
        "#### Colab Link\n",
        "\n",
        "    https://colab.research.google.com/drive/1Qu4i5YW0j2E9MJpuy70IWwrEOyNVWYPC?usp=sharing\n",
        "\n",
        "#### 참고자료\n",
        "    \n",
        "\n",
        "    https://www.youtube.com/watch?v=htTt4iPJqMg : Idea Factory KAIST / molecular property prediction\n",
        "    https://www.youtube.com/watch?v=Ye1nJY7VKGo : 이주용 교수님 / MLP를 이용한 HOMO-LUMO gap 예측 모델 개발"
      ],
      "metadata": {
        "id": "1f9fozY-jGQC"
      }
    },
    {
      "cell_type": "code",
      "execution_count": null,
      "metadata": {
        "id": "gFDtM1AJVH3T",
        "colab": {
          "base_uri": "https://localhost:8080/"
        },
        "outputId": "b52458b3-8ffe-4720-8d7d-15ce1b7c6a57"
      },
      "outputs": [
        {
          "output_type": "stream",
          "name": "stdout",
          "text": [
            "Mounted at /content/drive\n"
          ]
        }
      ],
      "source": [
        "from google.colab import drive\n",
        "drive.mount('/content/drive', force_remount=True)"
      ]
    },
    {
      "cell_type": "code",
      "execution_count": null,
      "metadata": {
        "id": "nMN5VqsTJ8Vo",
        "colab": {
          "base_uri": "https://localhost:8080/"
        },
        "outputId": "27a3b5a3-4fc0-4309-ef12-31a3e53145f2"
      },
      "outputs": [
        {
          "output_type": "stream",
          "name": "stdout",
          "text": [
            "Mon Aug 21 06:02:08 2023       \n",
            "+-----------------------------------------------------------------------------+\n",
            "| NVIDIA-SMI 525.105.17   Driver Version: 525.105.17   CUDA Version: 12.0     |\n",
            "|-------------------------------+----------------------+----------------------+\n",
            "| GPU  Name        Persistence-M| Bus-Id        Disp.A | Volatile Uncorr. ECC |\n",
            "| Fan  Temp  Perf  Pwr:Usage/Cap|         Memory-Usage | GPU-Util  Compute M. |\n",
            "|                               |                      |               MIG M. |\n",
            "|===============================+======================+======================|\n",
            "|   0  Tesla T4            Off  | 00000000:00:04.0 Off |                    0 |\n",
            "| N/A   43C    P8    10W /  70W |      0MiB / 15360MiB |      0%      Default |\n",
            "|                               |                      |                  N/A |\n",
            "+-------------------------------+----------------------+----------------------+\n",
            "                                                                               \n",
            "+-----------------------------------------------------------------------------+\n",
            "| Processes:                                                                  |\n",
            "|  GPU   GI   CI        PID   Type   Process name                  GPU Memory |\n",
            "|        ID   ID                                                   Usage      |\n",
            "|=============================================================================|\n",
            "|  No running processes found                                                 |\n",
            "+-----------------------------------------------------------------------------+\n"
          ]
        }
      ],
      "source": [
        "gpu_info = !nvidia-smi\n",
        "gpu_info = '\\n'.join(gpu_info)\n",
        "print(gpu_info)"
      ]
    },
    {
      "cell_type": "code",
      "execution_count": null,
      "metadata": {
        "id": "R2TKExHlIvlL",
        "colab": {
          "base_uri": "https://localhost:8080/"
        },
        "outputId": "a2994412-74d5-4b7a-94e7-8c9090fc0cce"
      },
      "outputs": [
        {
          "output_type": "stream",
          "name": "stdout",
          "text": [
            "Collecting wandb\n",
            "  Downloading wandb-0.15.8-py3-none-any.whl (2.1 MB)\n",
            "\u001b[2K     \u001b[90m━━━━━━━━━━━━━━━━━━━━━━━━━━━━━━━━━━━━━━━━\u001b[0m \u001b[32m2.1/2.1 MB\u001b[0m \u001b[31m26.2 MB/s\u001b[0m eta \u001b[36m0:00:00\u001b[0m\n",
            "\u001b[?25hRequirement already satisfied: Click!=8.0.0,>=7.1 in /usr/local/lib/python3.10/dist-packages (from wandb) (8.1.6)\n",
            "Collecting GitPython!=3.1.29,>=1.0.0 (from wandb)\n",
            "  Downloading GitPython-3.1.32-py3-none-any.whl (188 kB)\n",
            "\u001b[2K     \u001b[90m━━━━━━━━━━━━━━━━━━━━━━━━━━━━━━━━━━━━━━\u001b[0m \u001b[32m188.5/188.5 kB\u001b[0m \u001b[31m22.0 MB/s\u001b[0m eta \u001b[36m0:00:00\u001b[0m\n",
            "\u001b[?25hRequirement already satisfied: requests<3,>=2.0.0 in /usr/local/lib/python3.10/dist-packages (from wandb) (2.31.0)\n",
            "Requirement already satisfied: psutil>=5.0.0 in /usr/local/lib/python3.10/dist-packages (from wandb) (5.9.5)\n",
            "Collecting sentry-sdk>=1.0.0 (from wandb)\n",
            "  Downloading sentry_sdk-1.29.2-py2.py3-none-any.whl (215 kB)\n",
            "\u001b[2K     \u001b[90m━━━━━━━━━━━━━━━━━━━━━━━━━━━━━━━━━━━━━━\u001b[0m \u001b[32m215.6/215.6 kB\u001b[0m \u001b[31m18.9 MB/s\u001b[0m eta \u001b[36m0:00:00\u001b[0m\n",
            "\u001b[?25hCollecting docker-pycreds>=0.4.0 (from wandb)\n",
            "  Downloading docker_pycreds-0.4.0-py2.py3-none-any.whl (9.0 kB)\n",
            "Requirement already satisfied: PyYAML in /usr/local/lib/python3.10/dist-packages (from wandb) (6.0.1)\n",
            "Collecting pathtools (from wandb)\n",
            "  Downloading pathtools-0.1.2.tar.gz (11 kB)\n",
            "  Preparing metadata (setup.py) ... \u001b[?25l\u001b[?25hdone\n",
            "Collecting setproctitle (from wandb)\n",
            "  Downloading setproctitle-1.3.2-cp310-cp310-manylinux_2_5_x86_64.manylinux1_x86_64.manylinux_2_17_x86_64.manylinux2014_x86_64.whl (30 kB)\n",
            "Requirement already satisfied: setuptools in /usr/local/lib/python3.10/dist-packages (from wandb) (67.7.2)\n",
            "Requirement already satisfied: appdirs>=1.4.3 in /usr/local/lib/python3.10/dist-packages (from wandb) (1.4.4)\n",
            "Requirement already satisfied: protobuf!=4.21.0,<5,>=3.19.0 in /usr/local/lib/python3.10/dist-packages (from wandb) (3.20.3)\n",
            "Requirement already satisfied: six>=1.4.0 in /usr/local/lib/python3.10/dist-packages (from docker-pycreds>=0.4.0->wandb) (1.16.0)\n",
            "Collecting gitdb<5,>=4.0.1 (from GitPython!=3.1.29,>=1.0.0->wandb)\n",
            "  Downloading gitdb-4.0.10-py3-none-any.whl (62 kB)\n",
            "\u001b[2K     \u001b[90m━━━━━━━━━━━━━━━━━━━━━━━━━━━━━━━━━━━━━━━━\u001b[0m \u001b[32m62.7/62.7 kB\u001b[0m \u001b[31m7.1 MB/s\u001b[0m eta \u001b[36m0:00:00\u001b[0m\n",
            "\u001b[?25hRequirement already satisfied: charset-normalizer<4,>=2 in /usr/local/lib/python3.10/dist-packages (from requests<3,>=2.0.0->wandb) (3.2.0)\n",
            "Requirement already satisfied: idna<4,>=2.5 in /usr/local/lib/python3.10/dist-packages (from requests<3,>=2.0.0->wandb) (3.4)\n",
            "Requirement already satisfied: urllib3<3,>=1.21.1 in /usr/local/lib/python3.10/dist-packages (from requests<3,>=2.0.0->wandb) (2.0.4)\n",
            "Requirement already satisfied: certifi>=2017.4.17 in /usr/local/lib/python3.10/dist-packages (from requests<3,>=2.0.0->wandb) (2023.7.22)\n",
            "Collecting smmap<6,>=3.0.1 (from gitdb<5,>=4.0.1->GitPython!=3.1.29,>=1.0.0->wandb)\n",
            "  Downloading smmap-5.0.0-py3-none-any.whl (24 kB)\n",
            "Building wheels for collected packages: pathtools\n",
            "  Building wheel for pathtools (setup.py) ... \u001b[?25l\u001b[?25hdone\n",
            "  Created wheel for pathtools: filename=pathtools-0.1.2-py3-none-any.whl size=8791 sha256=f0869a8031c72d9097a37140095d8e868b99246264e7afbde03c6a44849a1132\n",
            "  Stored in directory: /root/.cache/pip/wheels/e7/f3/22/152153d6eb222ee7a56ff8617d80ee5207207a8c00a7aab794\n",
            "Successfully built pathtools\n",
            "Installing collected packages: pathtools, smmap, setproctitle, sentry-sdk, docker-pycreds, gitdb, GitPython, wandb\n",
            "Successfully installed GitPython-3.1.32 docker-pycreds-0.4.0 gitdb-4.0.10 pathtools-0.1.2 sentry-sdk-1.29.2 setproctitle-1.3.2 smmap-5.0.0 wandb-0.15.8\n",
            "Collecting deepchem\n",
            "  Downloading deepchem-2.7.1-py3-none-any.whl (693 kB)\n",
            "\u001b[2K     \u001b[90m━━━━━━━━━━━━━━━━━━━━━━━━━━━━━━━━━━━━━━\u001b[0m \u001b[32m693.2/693.2 kB\u001b[0m \u001b[31m11.7 MB/s\u001b[0m eta \u001b[36m0:00:00\u001b[0m\n",
            "\u001b[?25hRequirement already satisfied: joblib in /usr/local/lib/python3.10/dist-packages (from deepchem) (1.3.2)\n",
            "Requirement already satisfied: numpy>=1.21 in /usr/local/lib/python3.10/dist-packages (from deepchem) (1.23.5)\n",
            "Requirement already satisfied: pandas in /usr/local/lib/python3.10/dist-packages (from deepchem) (1.5.3)\n",
            "Requirement already satisfied: scikit-learn in /usr/local/lib/python3.10/dist-packages (from deepchem) (1.2.2)\n",
            "Collecting scipy<1.9 (from deepchem)\n",
            "  Downloading scipy-1.8.1-cp310-cp310-manylinux_2_17_x86_64.manylinux2014_x86_64.whl (42.2 MB)\n",
            "\u001b[2K     \u001b[90m━━━━━━━━━━━━━━━━━━━━━━━━━━━━━━━━━━━━━━━━\u001b[0m \u001b[32m42.2/42.2 MB\u001b[0m \u001b[31m41.7 MB/s\u001b[0m eta \u001b[36m0:00:00\u001b[0m\n",
            "\u001b[?25hCollecting rdkit (from deepchem)\n",
            "  Downloading rdkit-2023.3.3-cp310-cp310-manylinux_2_17_x86_64.manylinux2014_x86_64.whl (29.7 MB)\n",
            "\u001b[2K     \u001b[90m━━━━━━━━━━━━━━━━━━━━━━━━━━━━━━━━━━━━━━━━\u001b[0m \u001b[32m29.7/29.7 MB\u001b[0m \u001b[31m54.1 MB/s\u001b[0m eta \u001b[36m0:00:00\u001b[0m\n",
            "\u001b[?25hRequirement already satisfied: python-dateutil>=2.8.1 in /usr/local/lib/python3.10/dist-packages (from pandas->deepchem) (2.8.2)\n",
            "Requirement already satisfied: pytz>=2020.1 in /usr/local/lib/python3.10/dist-packages (from pandas->deepchem) (2023.3)\n",
            "Requirement already satisfied: Pillow in /usr/local/lib/python3.10/dist-packages (from rdkit->deepchem) (9.4.0)\n",
            "Requirement already satisfied: threadpoolctl>=2.0.0 in /usr/local/lib/python3.10/dist-packages (from scikit-learn->deepchem) (3.2.0)\n",
            "Requirement already satisfied: six>=1.5 in /usr/local/lib/python3.10/dist-packages (from python-dateutil>=2.8.1->pandas->deepchem) (1.16.0)\n",
            "Installing collected packages: scipy, rdkit, deepchem\n",
            "  Attempting uninstall: scipy\n",
            "    Found existing installation: scipy 1.10.1\n",
            "    Uninstalling scipy-1.10.1:\n",
            "      Successfully uninstalled scipy-1.10.1\n",
            "Successfully installed deepchem-2.7.1 rdkit-2023.3.3 scipy-1.8.1\n",
            "Requirement already satisfied: rdkit in /usr/local/lib/python3.10/dist-packages (2023.3.3)\n",
            "Requirement already satisfied: numpy in /usr/local/lib/python3.10/dist-packages (from rdkit) (1.23.5)\n",
            "Requirement already satisfied: Pillow in /usr/local/lib/python3.10/dist-packages (from rdkit) (9.4.0)\n"
          ]
        }
      ],
      "source": [
        "!pip install wandb\n",
        "!pip install deepchem\n",
        "!pip install rdkit"
      ]
    },
    {
      "cell_type": "code",
      "execution_count": null,
      "metadata": {
        "id": "P_QkzWb_EbZA",
        "colab": {
          "base_uri": "https://localhost:8080/"
        },
        "outputId": "ec27d650-062a-40fb-9e0a-c2f5c5da08a8"
      },
      "outputs": [
        {
          "output_type": "stream",
          "name": "stderr",
          "text": [
            "\u001b[34m\u001b[1mwandb\u001b[0m: \u001b[33mWARNING\u001b[0m W&B installed but not logged in.  Run `wandb login` or set the WANDB_API_KEY env variable.\n",
            "\u001b[34m\u001b[1mwandb\u001b[0m: \u001b[33mWARNING\u001b[0m W&B installed but not logged in.  Run `wandb login` or set the WANDB_API_KEY env variable.\n",
            "WARNING:deepchem.models.torch_models:Skipped loading modules with pytorch-geometric dependency, missing a dependency. No module named 'torch_geometric'\n",
            "WARNING:deepchem.models:Skipped loading modules with pytorch-geometric dependency, missing a dependency. cannot import name 'DMPNN' from 'deepchem.models.torch_models' (/usr/local/lib/python3.10/dist-packages/deepchem/models/torch_models/__init__.py)\n",
            "WARNING:deepchem.models:Skipped loading modules with pytorch-lightning dependency, missing a dependency. No module named 'pytorch_lightning'\n",
            "WARNING:deepchem.models:Skipped loading some Jax models, missing a dependency. No module named 'haiku'\n"
          ]
        },
        {
          "output_type": "stream",
          "name": "stdout",
          "text": [
            "Torch ver. : 2.0.1+cu118\n"
          ]
        }
      ],
      "source": [
        "import argparse\n",
        "import sys\n",
        "import yaml\n",
        "import json\n",
        "import os\n",
        "import joblib\n",
        "import networkx as nx\n",
        "import pickle as pkl\n",
        "from tqdm import tqdm\n",
        "from datetime import datetime, timedelta\n",
        "import time\n",
        "import random\n",
        "import copy\n",
        "from collections import defaultdict\n",
        "\n",
        "from prettytable import PrettyTable\n",
        "import wandb\n",
        "\n",
        "import numpy as np\n",
        "import pandas as pd\n",
        "%matplotlib inline\n",
        "import matplotlib.pyplot as plt\n",
        "import seaborn as sns\n",
        "sns.set(font_scale=1.5)\n",
        "\n",
        "import rdkit\n",
        "from rdkit.Chem import Draw, AllChem, Descriptors, Lipinski\n",
        "import deepchem as dc\n",
        "\n",
        "from sklearn.preprocessing import MinMaxScaler\n",
        "import torch\n",
        "import torch.nn as nn\n",
        "import torch.nn.functional as F\n",
        "from torch import optim\n",
        "from torch.optim.lr_scheduler import ReduceLROnPlateau\n",
        "from torch.nn.utils import clip_grad_norm_\n",
        "\n",
        "import torchvision\n",
        "import torchvision.transforms as transforms\n",
        "\n",
        "os.environ['TORCH'] = torch.__version__\n",
        "print(f'Torch ver. : {torch.__version__}')"
      ]
    },
    {
      "cell_type": "code",
      "execution_count": null,
      "metadata": {
        "colab": {
          "base_uri": "https://localhost:8080/"
        },
        "id": "svgfxS2IV1CN",
        "outputId": "460274d0-a4b7-4401-85f8-8e38fb73c58f"
      },
      "outputs": [
        {
          "output_type": "stream",
          "name": "stdout",
          "text": [
            "\u001b[2K     \u001b[90m━━━━━━━━━━━━━━━━━━━━━━━━━━━━━━━━━━━━━━━━\u001b[0m \u001b[32m10.2/10.2 MB\u001b[0m \u001b[31m53.2 MB/s\u001b[0m eta \u001b[36m0:00:00\u001b[0m\n",
            "\u001b[2K     \u001b[90m━━━━━━━━━━━━━━━━━━━━━━━━━━━━━━━━━━━━━━━━\u001b[0m \u001b[32m4.8/4.8 MB\u001b[0m \u001b[31m56.3 MB/s\u001b[0m eta \u001b[36m0:00:00\u001b[0m\n",
            "\u001b[?25h  Installing build dependencies ... \u001b[?25l\u001b[?25hdone\n",
            "  Getting requirements to build wheel ... \u001b[?25l\u001b[?25hdone\n",
            "  Preparing metadata (pyproject.toml) ... \u001b[?25l\u001b[?25hdone\n",
            "  Building wheel for torch_geometric (pyproject.toml) ... \u001b[?25l\u001b[?25hdone\n"
          ]
        }
      ],
      "source": [
        "!pip install -q torch-scatter -f https://data.pyg.org/whl/torch-${TORCH}.html\n",
        "!pip install -q torch-sparse -f https://data.pyg.org/whl/torch-${TORCH}.html\n",
        "!pip install -q git+https://github.com/pyg-team/pytorch_geometric.git\n",
        "\n",
        "import torch_geometric\n",
        "from torch_geometric.data import Data\n",
        "from torch_geometric.utils import dropout\n",
        "from torch_geometric.loader import DataLoader\n",
        "from torch_geometric.nn import GCNConv, GATConv\n",
        "from torch_geometric.nn import global_mean_pool # readout에서 각 노드의 node feature vector들이 남게 되는데, 이걸 하나의 feature로 표현하기 위해 사용"
      ]
    },
    {
      "cell_type": "code",
      "source": [
        "ENTITY = 'rossi22'\n",
        "TRAIN_PROJECT = 'GCN_LOGP_TRAIN'\n",
        "SWEEP_PROJECT = 'GCN_LOGP_SWEEP'\n",
        "\n",
        "\n",
        "DEFAULT_PARAMS = {\n",
        "    'device': torch.device(\"cuda:0\" if torch.cuda.is_available() else \"cpu\"),\n",
        "\n",
        "    'disable_rdkit_warnings': True,\n",
        "    'batch_size': 128,\n",
        "    'learning_rate': 0.001,\n",
        "    'epochs': 20,\n",
        "    'period': 1,\n",
        "\n",
        "    'n_block': 1,\n",
        "    'n_layer': 1,\n",
        "    'in_dim': 30,\n",
        "    'hidden_dim': 64,\n",
        "    'out_dim': 32,\n",
        "    'n_head': 1,\n",
        "    'use_bn': False,\n",
        "    'sc': None,\n",
        "\n",
        "    'gat_act': 'gelu',\n",
        "    'readout_act': 'gelu',\n",
        "    'gcnnet_act': 'gelu',\n",
        "\n",
        "    'use_scheduler': True,\n",
        "    'schd_factor': 0.5,\n",
        "    'schd_patience': 10,\n",
        "    'schd_min_lr': 5e-6,\n",
        "\n",
        "    'supported_atoms': { 'C', 'N', 'O', 'F', 'P', 'S', 'Cl', 'Br', 'I',}\n",
        "}\n",
        "\n",
        "ACTIVE_FUNCTION = {\n",
        "    'gelu': F.gelu,\n",
        "    'relu': F.relu,\n",
        "    'elu': F.elu,\n",
        "    'leaky_relu': F.leaky_relu,\n",
        "}\n",
        "\n",
        "# parser = argparse.ArgumentParser()\n",
        "\n",
        "# for key, value in DEFAULT_PARAMS.items():\n",
        "#     parser.add_argument('--' + key, default=value)\n",
        "\n",
        "# args = parser.parse_args('')\n",
        "# print(args)"
      ],
      "metadata": {
        "id": "nC0Qe2lSVIx8"
      },
      "execution_count": null,
      "outputs": []
    },
    {
      "cell_type": "markdown",
      "source": [
        "# data preprocessing"
      ],
      "metadata": {
        "id": "l1_1q1GTiLS9"
      }
    },
    {
      "cell_type": "code",
      "source": [
        "def load_smiles(file_name, num_mol, max_num_atoms=1000):\n",
        "    featurizer = dc.feat.MolGraphConvFeaturizer(use_edges=True)\n",
        "    file_pkl = pkl.load(open(file_name, 'rb'))\n",
        "    num_mol = min(len(file_pkl), num_mol)\n",
        "\n",
        "    data_list = []\n",
        "    y_list = []\n",
        "    for i in tqdm(range(num_mol), desc='Reading Data'):\n",
        "        smi = file_pkl[i].strip()\n",
        "        mol = rdkit.Chem.MolFromSmiles(smi)\n",
        "        atms = mol.GetAtoms()\n",
        "        f = featurizer.featurize(mol)\n",
        "\n",
        "        if f and mol.GetNumAtoms() < max_num_atoms :\n",
        "            for atm in atms :\n",
        "                if atm not in DEFAULT_PARAMS['supported_atoms'] :\n",
        "                    continue\n",
        "\n",
        "            else :\n",
        "                logp = Descriptors.MolLogP(mol)\n",
        "                f[0].kwargs = {}\n",
        "                data = f[0].to_pyg_graph()\n",
        "                data.smiles = smi\n",
        "                data.y = logp\n",
        "                data_list.append(data)\n",
        "\n",
        "                y_list.append(logp)\n",
        "    y_list = torch.Tensor(y_list)\n",
        "    return data_list, y_list\n",
        "\n",
        "file_path = '/content/drive/MyDrive/Colab Notebooks/Python/Portfolio/dataset/ZINC_smi.pkl'\n",
        "data_list, y_list = load_smiles(file_path, int(2e5))\n",
        "data_list, y_list"
      ],
      "metadata": {
        "colab": {
          "base_uri": "https://localhost:8080/"
        },
        "id": "pgmSqg3mOWJe",
        "outputId": "b3aabbe1-6f69-4b7f-c0c7-5f20bae729ac"
      },
      "execution_count": null,
      "outputs": [
        {
          "output_type": "stream",
          "name": "stderr",
          "text": [
            "Reading Data: 100%|██████████| 100000/100000 [20:19<00:00, 82.01it/s]\n"
          ]
        },
        {
          "output_type": "execute_result",
          "data": {
            "text/plain": [
              "([Data(x=[27, 30], edge_index=[2, 58], edge_attr=[58, 11], smiles='CC1=C(C(=O)N2CCCC2)C(S(=O)(=O)NC2=CC=C(Cl)C=C2F)=C(C)N1C', y=3.4712400000000017),\n",
              "  Data(x=[13, 30], edge_index=[2, 28], edge_attr=[28, 11], smiles='CC1CCC2=CC=C(Cl)C(Cl)=C2N1', y=3.740000000000002),\n",
              "  Data(x=[20, 30], edge_index=[2, 42], edge_attr=[42, 11], smiles='CC1=CC=CC(C=CC(=O)C2=C(O)C=C(C)OC2=O)=C1', y=2.858340000000001),\n",
              "  Data(x=[26, 30], edge_index=[2, 58], edge_attr=[58, 11], smiles='CCN(CC1=NC2=CC=CC=C2C(=O)[NH]1)CC1=C(Cl)C2=CC=CC=C2S1', y=4.8133000000000035),\n",
              "  Data(x=[28, 30], edge_index=[2, 60], edge_attr=[60, 11], smiles='CC1=CC2=C(C=C1C)[NH]C(=O)C(CCNC(=O)C1=CC=CC(C(F)(F)F)=C1)=C2', y=4.136240000000002),\n",
              "  Data(x=[33, 30], edge_index=[2, 72], edge_attr=[72, 11], smiles='CC(=O)C1=C(C)[NH]C(C(=O)C(C)N2N=C(C)C(S(=O)(=O)N3CCC4=CC=CC=C43)=C2C)=C1C', y=3.842780000000003),\n",
              "  Data(x=[32, 30], edge_index=[2, 68], edge_attr=[68, 11], smiles='CC(C)CNC(=O)NC1=CC=C(NC(=O)N2CCCC(C(=O)NCC3CCCO3)C2)C=C1', y=3.0032000000000014),\n",
              "  Data(x=[23, 30], edge_index=[2, 48], edge_attr=[48, 11], smiles='CC1=CC=CC(SC2CCN(C(=O)CCNS(C)(=O)=O)CC2)=C1', y=2.0174199999999995),\n",
              "  Data(x=[35, 30], edge_index=[2, 76], edge_attr=[76, 11], smiles='COC1=CC=C(N2CCN(CCCNC(=O)C3=CC=C(CS(=O)C4=CC=C(C)C=C4)O3)CC2)C=C1', y=3.8465200000000026),\n",
              "  Data(x=[17, 30], edge_index=[2, 36], edge_attr=[36, 11], smiles='C1=CC=C(CC[NH2+]C2CCCCCCC2)C=C1', y=2.905400000000001),\n",
              "  Data(x=[33, 30], edge_index=[2, 72], edge_attr=[72, 11], smiles='CCOC1=CC=C(NC2=NC(CC3=NN=C(SCC(=O)NCC4CCCO4)N3C)=CS2)C=C1', y=3.392000000000002),\n",
              "  Data(x=[30, 30], edge_index=[2, 64], edge_attr=[64, 11], smiles='CC(=O)NC1=CC=CC(NC(=O)C2=CC=CN(CC3=CC=CC([N+](=O)[O-])=C3)C2=O)=C1', y=3.015500000000001),\n",
              "  Data(x=[31, 30], edge_index=[2, 66], edge_attr=[66, 11], smiles='COC1=CC=CC=C1CNC(=O)C(=O)NCC(C1=CC=CS1)S(=O)(=O)C1=CC=CC=C1', y=2.704300000000001),\n",
              "  Data(x=[26, 30], edge_index=[2, 56], edge_attr=[56, 11], smiles='O=C(CNC1=CC=CC=C1N1CCC(O)CC1)NC1CCCCCCC1', y=3.2887000000000013),\n",
              "  Data(x=[36, 30], edge_index=[2, 80], edge_attr=[80, 11], smiles='COC1=CC=CC=C1NC(=O)C1=CC2=CC=CC=C2C=C1OCC(=O)NCC1=CC=C2OCOC2=C1', y=4.524600000000002),\n",
              "  Data(x=[23, 30], edge_index=[2, 48], edge_attr=[48, 11], smiles='CC(OCCCNC(=O)C1=CC=C(Br)C=C1F)C1=CC=CC=C1', y=4.4859000000000036),\n",
              "  Data(x=[28, 30], edge_index=[2, 62], edge_attr=[62, 11], smiles='CC1=CC=C(S(=O)(=O)NC2=CC=C3OC4=C(C(=O)CCC4)C3=C2)C=C1[N+](=O)[O-]', y=3.9692200000000026),\n",
              "  Data(x=[32, 30], edge_index=[2, 70], edge_attr=[70, 11], smiles='CS(=O)(=O)NCCC1=CC=C(C(=O)N2CCN(C(=O)C3COC4=CC=CC=C4O3)CC2)S1', y=0.9642000000000002),\n",
              "  Data(x=[19, 30], edge_index=[2, 40], edge_attr=[40, 11], smiles='CN(C)C(CNC(=O)CC1=CC=CS1)C1=CC=CS1', y=2.771200000000001),\n",
              "  Data(x=[25, 30], edge_index=[2, 54], edge_attr=[54, 11], smiles='COC1=CC=CC=C1CC(=O)N1CCOC(C2=CC=C(F)C(F)=C2)C1', y=3.1160000000000014),\n",
              "  Data(x=[20, 30], edge_index=[2, 42], edge_attr=[42, 11], smiles='OCC(O)C(O)C(O)C1=CN(O)C2=CC=CC=C2N1O', y=-0.9922000000000006),\n",
              "  Data(x=[20, 30], edge_index=[2, 44], edge_attr=[44, 11], smiles='CC1=NOC(CC(=O)N2CCN3CCNC(=O)C3C2)=C1', y=-0.8318799999999982),\n",
              "  Data(x=[27, 30], edge_index=[2, 58], edge_attr=[58, 11], smiles='O=C(C=CC1=CC=C([N+](=O)[O-])C=C1)OC1=CC=CC=C1CC1=CC=CC=C1', y=4.804400000000004),\n",
              "  Data(x=[27, 30], edge_index=[2, 58], edge_attr=[58, 11], smiles='CC1=CC=C(C2=NN=C(CCC(=O)OC(C)C(=O)NC3CCCC3)O2)C=C1', y=2.9681200000000016),\n",
              "  Data(x=[25, 30], edge_index=[2, 56], edge_attr=[56, 11], smiles='CC(C)C1=NC(C2CCCN2C(=O)C2CC2(F)C2=CC=CC=C2)=NO1', y=3.741400000000003),\n",
              "  Data(x=[21, 30], edge_index=[2, 46], edge_attr=[46, 11], smiles='COC1=CC=C(C2=C(C)N3C=C([N+](=O)[O-])C=CC3=N2)C=C1', y=3.2265200000000007),\n",
              "  Data(x=[27, 30], edge_index=[2, 60], edge_attr=[60, 11], smiles='CC1=CC=C(CN2CCCC2C2=CN=CC(NC3=CC=CC=N3)=N2)C=C1C', y=4.5691400000000035),\n",
              "  Data(x=[30, 30], edge_index=[2, 66], edge_attr=[66, 11], smiles='O=C(C1=CC=C(OC2=CC=CC=C2)C=C1)C1CCCN(C(=O)CN2CCOC2=O)C1', y=3.352400000000001),\n",
              "  Data(x=[25, 30], edge_index=[2, 54], edge_attr=[54, 11], smiles='CN(C(=O)C1=CC=C(N2CCCC2)C([N+](=O)[O-])=C1)C1CC[NH+](C)CC1', y=0.9440999999999999),\n",
              "  Data(x=[30, 30], edge_index=[2, 66], edge_attr=[66, 11], smiles='CCOC1=CC=C(NC(=O)C2=CC=C(CN3C(=O)CSC4=NC=CC=C43)C=C2)C=C1', y=4.371500000000004),\n",
              "  Data(x=[29, 30], edge_index=[2, 64], edge_attr=[64, 11], smiles='COC1=CC=C(CN2C(=O)NC(CC(=O)NC3=CC=C4[NH]C=CC4=C3)C2=O)C=C1', y=2.625700000000001),\n",
              "  Data(x=[35, 30], edge_index=[2, 78], edge_attr=[78, 11], smiles='CCOC(=O)C1=CC2=C(OCOC2)C(CSC2=NC3=CC=CC=C3C(=O)N2CC2=CC=CC=C2)=C1', y=4.780300000000004),\n",
              "  Data(x=[27, 30], edge_index=[2, 58], edge_attr=[58, 11], smiles='COC1=NC=CC=C1C[NH+]1CCC(C(=O)O)(N2C=CC(C(C)(C)C)=N2)CC1', y=1.2430000000000005),\n",
              "  Data(x=[32, 30], edge_index=[2, 74], edge_attr=[74, 11], smiles='COC1=CC=C(C2=NN3C(=NC2=O)C2=CC=C(F)C=C2N2C(=O)C4=CC=CC=C4C23)C=C1', y=3.6407000000000025),\n",
              "  Data(x=[23, 30], edge_index=[2, 50], edge_attr=[50, 11], smiles='O=C(CC[NH+]1CCCC1C1=CC=CO1)NCC1=CC=CC(Cl)=C1', y=2.3593),\n",
              "  Data(x=[35, 30], edge_index=[2, 78], edge_attr=[78, 11], smiles='COC1=CC=C(C2=C3OC4=C(O)C(O)=CC=C4C3=NC3=C2C(=O)[NH]N3C(C)C)C=C1OCC(=O)O', y=3.7551000000000023),\n",
              "  Data(x=[21, 30], edge_index=[2, 44], edge_attr=[44, 11], smiles='CSC1=NN=C(C(C)(C)C)C(=O)N1N=CC1CC=CCC1', y=2.847900000000001),\n",
              "  Data(x=[24, 30], edge_index=[2, 52], edge_attr=[52, 11], smiles='O=C(CN1CSCC1=O)NC1=CC=C(OC(F)F)C2=NC=CC=C12', y=2.3076),\n",
              "  Data(x=[33, 30], edge_index=[2, 72], edge_attr=[72, 11], smiles='CC1CN(CC2CCCN2C(=O)C2=CC=C(Cl)C(S(=O)(=O)N3CCCCCC3)=C2)CC(C)O1', y=3.6185000000000027),\n",
              "  Data(x=[21, 30], edge_index=[2, 44], edge_attr=[44, 11], smiles='CS(=O)CC1=CC=CC=C1NC1CCCC(C(F)(F)F)C1', y=4.098100000000003),\n",
              "  Data(x=[25, 30], edge_index=[2, 56], edge_attr=[56, 11], smiles='CC1=C(C=C2SC(=S)N(CC3=CC=CC=C3)C2=O)C2=CC=CC=C2[NH]1', y=4.877720000000004),\n",
              "  Data(x=[15, 30], edge_index=[2, 32], edge_attr=[32, 11], smiles='CC1=NC(N)=NC(NC2=CC=CC=C2)=N1', y=1.50582),\n",
              "  Data(x=[23, 30], edge_index=[2, 50], edge_attr=[50, 11], smiles='COCC(=O)NCC1CC[NH+](CC2=CC=C3OCCOC3=C2)C1', y=-0.3747999999999987),\n",
              "  Data(x=[24, 30], edge_index=[2, 50], edge_attr=[50, 11], smiles='CCCCOC1=CC=C(C(=O)NC2=CC=C(C)C=C2[N+](=O)[O-])C=C1', y=4.334420000000003),\n",
              "  Data(x=[30, 30], edge_index=[2, 68], edge_attr=[68, 11], smiles='COC1=CC2=C(C=C1OC)C(=O)C(C1C3=C(OC)C4=C(C=C3CCN1C)OCO4)C2', y=3.0253000000000014),\n",
              "  Data(x=[21, 30], edge_index=[2, 44], edge_attr=[44, 11], smiles='NC1=CC(C(=O)OCC(=O)C2=CC=CC=C2F)=CC=C1Cl', y=3.1010000000000018),\n",
              "  Data(x=[23, 30], edge_index=[2, 48], edge_attr=[48, 11], smiles='CCN(CC)CC(=O)NC1=CC=CC(S(=O)(=O)N2CCCC2)=C1', y=1.7514),\n",
              "  Data(x=[24, 30], edge_index=[2, 52], edge_attr=[52, 11], smiles='O=C(C[NH+]1CCCC1CCCO)N1CCC2=CC=C([N+](=O)[O-])C=C21', y=0.3037000000000005),\n",
              "  Data(x=[18, 30], edge_index=[2, 38], edge_attr=[38, 11], smiles='CNS(=O)(=O)C1=CC(C)=C2[NH]C(=O)C=C(C)C2=C1', y=1.0530400000000002),\n",
              "  Data(x=[27, 30], edge_index=[2, 58], edge_attr=[58, 11], smiles='CC(C1=CC=NC=C1)[NH+]1CCC(NC(=O)C2=CC=C(C(F)(F)F)N=C2)CC1', y=2.0337000000000005),\n",
              "  Data(x=[24, 30], edge_index=[2, 52], edge_attr=[52, 11], smiles='O=C(NC1=CC=C2OCOC2=C1)NC1=CC=C(Cl)C=C1C(F)(F)F', y=4.731500000000001),\n",
              "  Data(x=[20, 30], edge_index=[2, 44], edge_attr=[44, 11], smiles='CN1C(CNC(=O)C2=CC=C(Br)O2)=NC2=CC=CC=C21', y=2.8588000000000013),\n",
              "  Data(x=[20, 30], edge_index=[2, 44], edge_attr=[44, 11], smiles='CC1=C(C2=NN=C(SCC3=CC=C(F)C=C3)O2)C=CO1', y=4.069420000000002),\n",
              "  Data(x=[30, 30], edge_index=[2, 68], edge_attr=[68, 11], smiles='COC1=CC=C(CN2N=C3CC4(CC[NH+](CC5=NC=CS5)C4)CN3C(=O)C2=O)C=C1', y=-0.0502999999999989),\n",
              "  Data(x=[24, 30], edge_index=[2, 52], edge_attr=[52, 11], smiles='O=C(CN1C(=O)C2=CC(Cl)=C(Cl)C=C2C1=O)NCCC1=CC=CS1', y=3.009800000000002),\n",
              "  Data(x=[26, 30], edge_index=[2, 58], edge_attr=[58, 11], smiles='CC1CN(CC2=CC=C(C(=O)NC3=N[NH]C(C4CC4)=C3)C=C2)CC(C)O1', y=3.148600000000002),\n",
              "  Data(x=[33, 30], edge_index=[2, 70], edge_attr=[70, 11], smiles='COC1=CC=C(S(=O)(=O)NC(CC2=CC=CC=C2)C(=O)NCC2=CC=C(C)C=C2)C=C1OC', y=3.2182200000000014),\n",
              "  Data(x=[21, 30], edge_index=[2, 46], edge_attr=[46, 11], smiles='CC1=C(C(=O)N2CC[NH2+]CC2)N=NN1C1=CC=CC=C1Cl', y=0.24832000000000076),\n",
              "  Data(x=[24, 30], edge_index=[2, 50], edge_attr=[50, 11], smiles='COCCN1C(=O)SC(=CC2=CC=CC=C2OCC(=O)OC)C1=O', y=1.9211),\n",
              "  Data(x=[22, 30], edge_index=[2, 46], edge_attr=[46, 11], smiles='CN1C=C(C(=O)NC2CCN(CC(O)C(F)(F)F)CC2)C=N1', y=0.5374999999999996),\n",
              "  Data(x=[21, 30], edge_index=[2, 46], edge_attr=[46, 11], smiles='O=C1C2=CC=CC=C2CCC1C1=CC=C([N+](=O)[O-])C(Cl)=C1', y=4.1609000000000025),\n",
              "  Data(x=[25, 30], edge_index=[2, 54], edge_attr=[54, 11], smiles='CC1=NOC(C(=O)NC2=CC(S(=O)(=O)N3CCOCC3)=CC=C2C)=C1', y=1.5646399999999998),\n",
              "  Data(x=[29, 30], edge_index=[2, 62], edge_attr=[62, 11], smiles='CN(CC(=O)NC1=CC=C(Cl)C=C1)CN1C(=O)C(=O)N(CCC2=CC=CS2)C1=O', y=2.2627999999999995),\n",
              "  Data(x=[22, 30], edge_index=[2, 48], edge_attr=[48, 11], smiles='O=C(NCCCN1C=CC2=CC=CC=C21)C1=CC=CC=C1Br', y=4.223900000000003),\n",
              "  Data(x=[20, 30], edge_index=[2, 42], edge_attr=[42, 11], smiles='CCOC(=O)C1CCCCN1CC1=CC=C(F)C(Br)=C1', y=3.5058000000000025),\n",
              "  Data(x=[27, 30], edge_index=[2, 60], edge_attr=[60, 11], smiles='CC1=C(C)C2=CC=C(C(=O)N3CCC(O)(C[N+]4=C(C)[NH]C=C4)CC3)C=C2[NH]1', y=2.37606),\n",
              "  Data(x=[26, 30], edge_index=[2, 58], edge_attr=[58, 11], smiles='CC1=[NH+]C=CN1C1=CC=C(CNC(=O)C2=CC3=C(CCCCC3)S2)C=N1', y=3.2552200000000022),\n",
              "  Data(x=[27, 30], edge_index=[2, 60], edge_attr=[60, 11], smiles='O=S1(=O)CCC(CC2=NN=C(SCC3=NC(C4=CC=CC(Br)=C4)=NO3)O2)C1', y=3.151600000000002),\n",
              "  Data(x=[29, 30], edge_index=[2, 62], edge_attr=[62, 11], smiles='C#CCC(CC1=CN=C2N=C(N)N=C(N)C2=N1)(C(=O)O)C1=CC=C(C(=O)O)C=C1', y=0.8707999999999996),\n",
              "  Data(x=[19, 30], edge_index=[2, 40], edge_attr=[40, 11], smiles='FC(F)(F)CN1CCC(C[NH2+]CC2=CN=CS2)CC1', y=1.4807999999999997),\n",
              "  Data(x=[23, 30], edge_index=[2, 50], edge_attr=[50, 11], smiles='CC1=CC(C(=O)N2CCCC(C(=O)NC3=CC=CC=N3)C2)=NO1', y=1.86892),\n",
              "  Data(x=[29, 30], edge_index=[2, 64], edge_attr=[64, 11], smiles='O=C1C(O)=C(S(=O)(=O)C2=CC=CC=C2)C(C2=CC=CC=C2)N1C1=CC=C(Br)C=C1', y=4.7805000000000035),\n",
              "  Data(x=[25, 30], edge_index=[2, 52], edge_attr=[52, 11], smiles='CC1=CC(C)=CC(NC(=O)COC(=O)CCC(=O)C2=CC=CC=C2)=C1', y=3.448240000000002),\n",
              "  Data(x=[11, 30], edge_index=[2, 22], edge_attr=[22, 11], smiles='CNC(=O)C1=CC=NC(Br)=C1', y=1.2037),\n",
              "  Data(x=[23, 30], edge_index=[2, 48], edge_attr=[48, 11], smiles='CN(CC1CC[NH+](C)C1)C(=O)C(=O)NC1=CC=C(CC#N)C=C1', y=-0.31581999999999666),\n",
              "  Data(x=[18, 30], edge_index=[2, 38], edge_attr=[38, 11], smiles='CSCC1CCCN1C(=O)C1=CC(F)=CC=C1O', y=2.4989000000000012),\n",
              "  Data(x=[22, 30], edge_index=[2, 46], edge_attr=[46, 11], smiles='COC(=O)C1=CC=C(C)C(NS(=O)(=O)C2=CC=CC(F)=C2)=C1', y=2.721520000000001),\n",
              "  Data(x=[30, 30], edge_index=[2, 68], edge_attr=[68, 11], smiles='CN(CC1=CC=CC=N1)C(=O)C1=CC2=C(C3=CC=CC=C3N2C)N1C1=NC=CC=N1', y=3.5794000000000015),\n",
              "  Data(x=[24, 30], edge_index=[2, 52], edge_attr=[52, 11], smiles='O=C1CCC(C(=O)NCCC(C2=CC=CC=C2)C2=CC=CC=C2)O1', y=3.030400000000002),\n",
              "  Data(x=[29, 30], edge_index=[2, 64], edge_attr=[64, 11], smiles='O=C(NC1=CC=CC=C1C(F)(F)F)C1=C(N2C=CC=C2)N(C2=CC=CC=C2)N=C1', y=4.9341000000000035),\n",
              "  Data(x=[30, 30], edge_index=[2, 66], edge_attr=[66, 11], smiles='CC1=NOC2=NC=NC(N3CCCC(C(=O)NCCCN(C)C4=CC=CC=C4)C3)=C12', y=2.7853200000000014),\n",
              "  Data(x=[26, 30], edge_index=[2, 56], edge_attr=[56, 11], smiles='CC(C)C1=CC=CC(NC(=O)CN2C(=O)NC3(CCCCC3C)C2=O)=C1', y=3.249200000000002),\n",
              "  Data(x=[25, 30], edge_index=[2, 56], edge_attr=[56, 11], smiles='CC([NH2+]CC1=CC(C2=CC=CN=C2)=N[NH]1)C1=CC=C2OCCOC2=C1', y=2.0675),\n",
              "  Data(x=[24, 30], edge_index=[2, 52], edge_attr=[52, 11], smiles='COC1=CC=CC=C1C(=O)NCC(O)(C1=COC=C1)C1=CC=CS1', y=3.015600000000001),\n",
              "  Data(x=[22, 30], edge_index=[2, 48], edge_attr=[48, 11], smiles='O=C1C2=CC=CC=C2N=CN1CC(O)C[NH2+]C1CCCCC1', y=0.6534999999999995),\n",
              "  Data(x=[21, 30], edge_index=[2, 44], edge_attr=[44, 11], smiles='COC1=CC=C(S(=O)(=O)NCC2(O)CCOCC2)C=C1Cl', y=1.1683999999999994),\n",
              "  Data(x=[22, 30], edge_index=[2, 46], edge_attr=[46, 11], smiles='CC1=CC=C(C)C(NS(=O)(=O)CC2(OC(C)C)CCOC2)=C1', y=2.629240000000001),\n",
              "  Data(x=[26, 30], edge_index=[2, 58], edge_attr=[58, 11], smiles='O=C(O)C1(CC2=CC=CC=C2F)CCCN(C2=[NH+]C=NC3=C2C=C[NH]3)C1', y=2.4300000000000006),\n",
              "  Data(x=[23, 30], edge_index=[2, 50], edge_attr=[50, 11], smiles='CC(CC1=CC=CN=C1)NC(=O)N1CCC(C2=N[NH]C=N2)CC1', y=1.7199),\n",
              "  Data(x=[24, 30], edge_index=[2, 50], edge_attr=[50, 11], smiles='CC(C)(C)OC(=O)N1CC(OC2=CC=C(F)C(Cl)=C2)CC1C(=O)O', y=3.320500000000002),\n",
              "  Data(x=[24, 30], edge_index=[2, 52], edge_attr=[52, 11], smiles='CCN1C(SCC(=O)NC2=NN=C(C)S2)=NN=C1C1=CC=CN=C1', y=2.2507200000000003),\n",
              "  Data(x=[30, 30], edge_index=[2, 66], edge_attr=[66, 11], smiles='CC1=NC(C2CCN(C(=O)CO)CC2)=NC2=C1CCC(=O)N2CCC1=CC=CC=C1', y=2.005219999999999),\n",
              "  Data(x=[25, 30], edge_index=[2, 54], edge_attr=[54, 11], smiles='CC1=CC=CC(N2C(C)=NN=C2SCC(=O)NC2=CC=CC=C2C)=C1', y=3.9233600000000024),\n",
              "  Data(x=[24, 30], edge_index=[2, 50], edge_attr=[50, 11], smiles='CC(C)N(C(=O)CONC(=O)C1=CC=CC=C1Br)C1=CC=CC=C1', y=3.552100000000002),\n",
              "  Data(x=[21, 30], edge_index=[2, 44], edge_attr=[44, 11], smiles='CCC1=CC=CC=C1NC(=O)C(C)SC1=CC=C(C)C=C1', y=4.676720000000004),\n",
              "  Data(x=[28, 30], edge_index=[2, 62], edge_attr=[62, 11], smiles='CC(C)C1=NOC(C2CCCCN2C(=O)NC2=CC=CC(N3C=NN=C3)=C2)=N1', y=3.5328000000000017),\n",
              "  Data(x=[26, 30], edge_index=[2, 56], edge_attr=[56, 11], smiles='C[NH+]1CCCCC1C1=CC=CN=C1N(C(=O)OC(C)(C)C)C1CCCC1', y=3.5054000000000016),\n",
              "  Data(x=[23, 30], edge_index=[2, 50], edge_attr=[50, 11], smiles='CCSC1CCC(N(C)C(=O)NC2CCC3=C(O)C=CC=C32)C1', y=3.6951000000000027),\n",
              "  Data(x=[23, 30], edge_index=[2, 48], edge_attr=[48, 11], smiles='COC1=CC=CC=C1CNC(=O)C(=O)NCC1=CC=CC=C1Cl', y=2.2811999999999992),\n",
              "  Data(x=[23, 30], edge_index=[2, 52], edge_attr=[52, 11], smiles='CC(SC1=NN=C2CCCCCN21)C1=NN=C(C2=CC=CS2)O1', y=3.969300000000003),\n",
              "  Data(x=[26, 30], edge_index=[2, 56], edge_attr=[56, 11], smiles='CCC(NC(=O)CSC1=NN=CN1C1=CC=CC=C1)C1=CC=C(C)C=C1', y=3.9353200000000035),\n",
              "  Data(x=[23, 30], edge_index=[2, 50], edge_attr=[50, 11], smiles='FC(F)(F)C1=CC=C(CN2CCN(C3=CC=CC=C3)CC2)C=C1', y=4.027600000000002),\n",
              "  Data(x=[36, 30], edge_index=[2, 78], edge_attr=[78, 11], smiles='COC1=CC=C(C[NH+]2CCC3=CC(OC)=C(OC)C=C3C2C(C)NC(=O)C2=CC=C(OC)C=C2)C=C1', y=3.221800000000001),\n",
              "  Data(x=[31, 30], edge_index=[2, 68], edge_attr=[68, 11], smiles='CC1SC2=C(C(=O)N(C3=CC=C(Cl)C=C3)C(SCC(=O)NCC3=CC=CC=C3)=N2)C1C', y=4.892100000000004),\n",
              "  Data(x=[29, 30], edge_index=[2, 62], edge_attr=[62, 11], smiles='CCC(CC)N1C(COC2=CC=CC=C2Cl)=NN=C1SCC1=NC(N)=NC(N)=N1', y=3.5133),\n",
              "  Data(x=[30, 30], edge_index=[2, 66], edge_attr=[66, 11], smiles='CCC(C)NC(=O)C1COC2(CCN(C(=O)C3CC3)CC2)N1C(=O)C1=CC=CC=C1', y=2.1709999999999994),\n",
              "  Data(x=[27, 30], edge_index=[2, 60], edge_attr=[60, 11], smiles='CC(C)[NH+]1CCC2=NC3=CC=C(C(=O)N4CCOCC4)C=C3C(=O)N2CC1', y=-0.2816999999999976),\n",
              "  Data(x=[26, 30], edge_index=[2, 58], edge_attr=[58, 11], smiles='CC1=NN=NN1C(C(=O)N1CCC2(CC1)COC(=O)O2)C1=CC=CC=C1', y=1.0989199999999992),\n",
              "  Data(x=[23, 30], edge_index=[2, 50], edge_attr=[50, 11], smiles='CCN1C(=S)[NH]C2=CC(C(=O)N3CCCCC3C)=CC=C2C1=O', y=3.0935900000000016),\n",
              "  Data(x=[21, 30], edge_index=[2, 44], edge_attr=[44, 11], smiles='CCNC1=CC(C)=CC=C1NC(=O)CC1=C(C)ON=C1C', y=3.212860000000001),\n",
              "  Data(x=[28, 30], edge_index=[2, 60], edge_attr=[60, 11], smiles='CC1CCCN(S(=O)(=O)C2=CC=C(NS(=O)(=O)C=CC3=CC=CC=C3)C=C2)C1', y=3.5198000000000027),\n",
              "  Data(x=[28, 30], edge_index=[2, 62], edge_attr=[62, 11], smiles='CSC1=NN2C(=N1)NC(C)C(C(=O)NC1=CC=C(Cl)C=C1)C2C1=CC=CC=C1', y=4.311700000000003),\n",
              "  Data(x=[30, 30], edge_index=[2, 62], edge_attr=[62, 11], smiles='CCC(C(=O)NC(C)(C)C)N(CCC1=CC=CC=C1)C(=O)COC1=CC=C(Br)C=C1', y=4.592500000000005),\n",
              "  Data(x=[23, 30], edge_index=[2, 52], edge_attr=[52, 11], smiles='CC(O)C1=NC2=CC=CC=C2N1CC1=CSC(C2CCCO2)=N1', y=3.4459000000000017),\n",
              "  Data(x=[29, 30], edge_index=[2, 66], edge_attr=[66, 11], smiles='COC1=CC(C2C3=CC4=C(C=C3CC3COC(=O)C32)OCO4)=CC(OC)=C1OC', y=2.9183000000000003),\n",
              "  Data(x=[16, 30], edge_index=[2, 34], edge_attr=[34, 11], smiles='COC(=O)C12CCCC(C(N)=O)(CCC1)C2', y=1.3753999999999993),\n",
              "  Data(x=[31, 30], edge_index=[2, 70], edge_attr=[70, 11], smiles='COC1=CC2=C(C=C1OC)C1=NC=NC(SCC(=O)NC3=CC=C4CCCC4=C3)=C1[NH]2', y=4.347800000000002),\n",
              "  Data(x=[27, 30], edge_index=[2, 58], edge_attr=[58, 11], smiles='CCN1CC(NC(=O)NC2=CC=CN=C2OC2=CC=C(F)C=C2)C(OC)C1', y=2.853600000000001),\n",
              "  Data(x=[24, 30], edge_index=[2, 50], edge_attr=[50, 11], smiles='NC(=O)COC(=O)CC(NC(=O)C1=CC=CC=C1)C1=CC=CC=C1', y=1.5762999999999998),\n",
              "  Data(x=[24, 30], edge_index=[2, 52], edge_attr=[52, 11], smiles='COC1=CC(C2(C(=O)N(C)CC(C)C3=N[NH]N=N3)CC2)=CC=C1C', y=1.8104199999999993),\n",
              "  Data(x=[16, 30], edge_index=[2, 34], edge_attr=[34, 11], smiles='O=C1CC(C2=CC=CC(Cl)=C2)C(C(=O)O)N1', y=1.3966999999999996),\n",
              "  Data(x=[26, 30], edge_index=[2, 58], edge_attr=[58, 11], smiles='N#CC1=CC=CC=C1S(=O)(=O)N1CCCC2(CCC(=O)N(C3CC3)C2)C1', y=2.1139799999999997),\n",
              "  Data(x=[22, 30], edge_index=[2, 48], edge_attr=[48, 11], smiles='CC(C)N1C=CC(CN2C(=O)C=NC3=CC(F)=C(F)C=C32)=N1', y=2.500400000000001),\n",
              "  Data(x=[28, 30], edge_index=[2, 60], edge_attr=[60, 11], smiles='CC1=CC=C(NC(=O)CCC2=NC(C3=CC=CC(C(F)(F)F)=C3)=NO2)C=C1C', y=4.943540000000003),\n",
              "  Data(x=[35, 30], edge_index=[2, 78], edge_attr=[78, 11], smiles='CC1=CC=C(CNC(=O)C2=CC3=C(N=C4C(C)=CC=CN4C3=O)N(CC3=CC=NC=C3)C2=N)C=C1', y=3.1188100000000007),\n",
              "  Data(x=[21, 30], edge_index=[2, 44], edge_attr=[44, 11], smiles='O=C(NC1=CC=C(O)C(C(=O)O)=C1)C1=CC(Cl)=CC(Cl)=C1', y=3.6495000000000006),\n",
              "  Data(x=[23, 30], edge_index=[2, 48], edge_attr=[48, 11], smiles='C[NH+]1CCCC(O)(CC(=O)NCC2=CC=C(C(F)(F)F)C=C2)C1', y=0.7512999999999999),\n",
              "  Data(x=[29, 30], edge_index=[2, 64], edge_attr=[64, 11], smiles='CCCCN1C(=O)C(C(=O)OCC)C(C2=C(C)C=CS2)N2C1=NC1=CC=CC=C12', y=4.321620000000004),\n",
              "  Data(x=[24, 30], edge_index=[2, 54], edge_attr=[54, 11], smiles='FC1=CC=C(CC2=NN=C(N3CCC(C4=N[NH]C=N4)CC3)S2)C=C1', y=2.770100000000001),\n",
              "  Data(x=[32, 30], edge_index=[2, 68], edge_attr=[68, 11], smiles='CC1=CC=C(S(=O)(=O)N(CC(=O)NC2=CC=CC([N+](=O)[O-])=C2)C2=CC=C(Cl)C=C2C)C=C1', y=4.699040000000004),\n",
              "  Data(x=[29, 30], edge_index=[2, 64], edge_attr=[64, 11], smiles='CC1=NN(C2=CC(N3CCN(C(=O)C4=CC=CC(Cl)=C4)CC3)=NC(C)=N2)C(C)=C1', y=3.2033600000000018),\n",
              "  Data(x=[19, 30], edge_index=[2, 42], edge_attr=[42, 11], smiles='O=C(NC1=CN(C2CCOCC2)N=C1)C1CCOC1', y=1.2095999999999998),\n",
              "  Data(x=[24, 30], edge_index=[2, 54], edge_attr=[54, 11], smiles='COC1=CC=C(C2=NN=C3SCC(NC4=CC=CC=C4)=NN32)C=C1', y=3.3331000000000017),\n",
              "  Data(x=[31, 30], edge_index=[2, 66], edge_attr=[66, 11], smiles='C=CCOC1=CC=CC=C1C=C1C(=O)NC(=O)N(C2=CC(OC)=C(Cl)C=C2OC)C1=O', y=3.5884000000000027),\n",
              "  Data(x=[32, 30], edge_index=[2, 68], edge_attr=[68, 11], smiles='CCOC(=O)C1=C(COC2=CC=C(C(C)=O)C=C2)N(C)C(=O)NC1C1=CC=CC(Cl)=C1Cl', y=4.788300000000004),\n",
              "  Data(x=[21, 30], edge_index=[2, 46], edge_attr=[46, 11], smiles='CC1=NN(C)C(Cl)=C1CN(C)C1=CC=C2C=CC=CC2=C1', y=4.171520000000003),\n",
              "  Data(x=[32, 30], edge_index=[2, 70], edge_attr=[70, 11], smiles='CC(C)CNC(=O)C1=C(N)N(N=CC2=CC=CC([N+](=O)[O-])=C2)C2=NC3=CC=CC=C3N=C12', y=3.342900000000001),\n",
              "  Data(x=[19, 30], edge_index=[2, 42], edge_attr=[42, 11], smiles='O=C1N=C2CCCCC2=C(SCC2=CC=CC=C2)[NH]1', y=2.9410000000000007),\n",
              "  Data(x=[27, 30], edge_index=[2, 58], edge_attr=[58, 11], smiles='CCOC1=CC=C(NC(=O)C2=NOC(C)=C2)C=C1S(=O)(=O)N1CCCCC1', y=2.8086200000000012),\n",
              "  Data(x=[31, 30], edge_index=[2, 64], edge_attr=[64, 11], smiles='CCCN(CC1CC1)C(=O)COC(=O)C1=CC(OC)=C(OC)C=C1NC(=O)C(C)(C)C', y=3.493800000000002),\n",
              "  Data(x=[21, 30], edge_index=[2, 42], edge_attr=[42, 11], smiles='CCCCCNC1=NC=NC(NCCCCC)=C1[N+](=O)[O-]', y=3.589000000000002),\n",
              "  Data(x=[21, 30], edge_index=[2, 46], edge_attr=[46, 11], smiles='CC1=NOC(C)=C1CC[NH+]1CCC(OC2=CC=CC=N2)C1', y=0.9651399999999992),\n",
              "  Data(x=[29, 30], edge_index=[2, 60], edge_attr=[60, 11], smiles='CNC(=O)C(C)N(CC1=CC=CC=C1)C(=O)CN(C1=CC=C(Cl)C=C1)S(C)(=O)=O', y=2.2692999999999994),\n",
              "  Data(x=[30, 30], edge_index=[2, 66], edge_attr=[66, 11], smiles='CC1=CC(OC2=NC=CC=N2)=CC=C1NC(=O)C1=CN(C)N=C1C1=CC=CC=C1Cl', y=4.8835200000000025),\n",
              "  Data(x=[24, 30], edge_index=[2, 54], edge_attr=[54, 11], smiles='O=C(C1=CC=CO1)N1CCCC2(CCN(C(=O)C3(F)CCC3)C2)C1', y=2.626500000000001),\n",
              "  Data(x=[16, 30], edge_index=[2, 34], edge_attr=[34, 11], smiles='O=C(O)C1=NN(C2=CC=C(Cl)C(Cl)=C2)C=C1', y=2.8773),\n",
              "  Data(x=[20, 30], edge_index=[2, 42], edge_attr=[42, 11], smiles='O=[N+]([O-])C=CC1=CC=CC=C1OCC1=CC=C(F)C=C1', y=3.6521000000000026),\n",
              "  Data(x=[21, 30], edge_index=[2, 44], edge_attr=[44, 11], smiles='CC1=CC(C)=C(C(C)NC(=O)C2=CC=CC(F)=C2)C=C1C', y=4.241960000000003),\n",
              "  Data(x=[26, 30], edge_index=[2, 58], edge_attr=[58, 11], smiles='CC1=C(C(=O)N2CC[NH2+]CC2C(=O)N2CCOCC2)SC2=CC=CC=C12', y=0.4563200000000014),\n",
              "  Data(x=[28, 30], edge_index=[2, 60], edge_attr=[60, 11], smiles='COC1=CC=C(C(=O)NN2C(=O)C(=CC3=CC=CC([N+](=O)[O-])=C3)SC2=S)C=C1', y=3.1496000000000013),\n",
              "  Data(x=[35, 30], edge_index=[2, 76], edge_attr=[76, 11], smiles='CCOC(=O)C1C(CN2CCN(C3=CC(C)=CC=C3C)CC2)=NC(=O)NC1C1=CC=C(SC)C=C1', y=4.232140000000003),\n",
              "  Data(x=[22, 30], edge_index=[2, 46], edge_attr=[46, 11], smiles='CC(O)CN(C)S(=O)(=O)C1=CC=C(C2=CC=C(Br)C=C2)C=C1', y=3.1174000000000017),\n",
              "  Data(x=[30, 30], edge_index=[2, 64], edge_attr=[64, 11], smiles='C=CCN1C(=O)C(=CC2=CC=C(OS(=O)(=O)C3=CC=C(F)C=C3)C(OC)=C2)SC1=S', y=3.989200000000003),\n",
              "  Data(x=[26, 30], edge_index=[2, 58], edge_attr=[58, 11], smiles='NS(=O)(=O)C1=CC=C(N2N=C(C3=CC=NC=C3)N=C2C2CC[NH2+]C2)C=C1', y=0.02740000000000059),\n",
              "  Data(x=[18, 30], edge_index=[2, 38], edge_attr=[38, 11], smiles='CCSC1=NC2=C(C(=O)N(C)C(=O)N2C)N1CC', y=0.5655999999999994),\n",
              "  Data(x=[24, 30], edge_index=[2, 52], edge_attr=[52, 11], smiles='CC1=NN(C)C2=C1C=C(C(=O)NCCC[NH2+]CC1=CC=CN=C1)S2', y=1.2217200000000001),\n",
              "  Data(x=[24, 30], edge_index=[2, 52], edge_attr=[52, 11], smiles='CC1=CC=C2C=CC=C(OCC(=O)NC(C)C3=CC=CC=C3)C2=N1', y=3.7994200000000022),\n",
              "  Data(x=[23, 30], edge_index=[2, 52], edge_attr=[52, 11], smiles='[NH3+]C1C(=O)N(C2=CC=C3OCCOC3=C2)C1C1=CC=C(Cl)C=C1', y=1.8096000000000005),\n",
              "  Data(x=[26, 30], edge_index=[2, 58], edge_attr=[58, 11], smiles='COC1=CC(C2=NC(CN3C=C(CCO)C=N3)=C(C)O2)=CC2=C1OCO2', y=2.16692),\n",
              "  Data(x=[30, 30], edge_index=[2, 64], edge_attr=[64, 11], smiles='CCC(C)C1=CC=C(S(=O)(=O)NC2=CC=C(S(=O)(=O)N3CCN(C)CC3)C=C2)C=C1', y=2.937000000000001),\n",
              "  Data(x=[25, 30], edge_index=[2, 54], edge_attr=[54, 11], smiles='O=C(COC1=CC=C(F)C=C1)NCC1=CC=C(CN2C=CC=N2)C=C1', y=2.7657000000000007),\n",
              "  Data(x=[29, 30], edge_index=[2, 62], edge_attr=[62, 11], smiles='CCN(CC)C1=CC=C(CNC(=O)C2=C(S(=O)(=O)N3CCCCC3)C=CS2)C=N1', y=3.0939000000000014),\n",
              "  Data(x=[28, 30], edge_index=[2, 62], edge_attr=[62, 11], smiles='CC1=[NH+]C=CN1C1=CC=CC=C1CNC(=O)C1=CC=C(N2CCOCC2)C=C1', y=2.3664200000000006),\n",
              "  Data(x=[29, 30], edge_index=[2, 64], edge_attr=[64, 11], smiles='O=C(NCCSCC1=CC=CO1)C1=CC=C2C(=C1)S(=O)(=O)N=C1CCCCCN12', y=3.424000000000002),\n",
              "  Data(x=[30, 30], edge_index=[2, 64], edge_attr=[64, 11], smiles='CC1=CC=CC(NS(=O)(=O)C2=CC=C(C)C(C(=O)NC3=CC=CC=C3C(N)=O)=C2)=C1', y=3.455440000000001),\n",
              "  Data(x=[28, 30], edge_index=[2, 62], edge_attr=[62, 11], smiles='CC(CC(=O)N1CC(C2=CC=CC=C2)C2C1CCCCC[NH+]2C)N1C=CN=C1', y=2.2861000000000002),\n",
              "  Data(x=[30, 30], edge_index=[2, 64], edge_attr=[64, 11], smiles='CC1=CC=C(NC(=O)CN2C(=O)SC(=CC3=CC=C(N(C)C)C(Br)=C3)C2=O)C=C1C', y=4.806940000000004),\n",
              "  Data(x=[21, 30], edge_index=[2, 44], edge_attr=[44, 11], smiles='CC(NC(=O)CCN1CCCCCC1=O)C1=CCCCC1', y=2.784200000000001),\n",
              "  Data(x=[26, 30], edge_index=[2, 58], edge_attr=[58, 11], smiles='C[NH+]1CCCC2(C)C1CCCN2C(=O)COC1=NC=NC2=CC=CC=C12', y=1.0668000000000006),\n",
              "  Data(x=[25, 30], edge_index=[2, 52], edge_attr=[52, 11], smiles='CCOC(=O)C1=CC=CC(NS(=O)(=O)C2=CC=C(OC)C(CC)=C2)=C1', y=3.235100000000002),\n",
              "  Data(x=[25, 30], edge_index=[2, 56], edge_attr=[56, 11], smiles='CC1=NN2C(NC3C=CS(=O)(=O)C3)=CC(C3=CC=CC=C3)=NC2=C1C', y=2.7357400000000007),\n",
              "  Data(x=[25, 30], edge_index=[2, 54], edge_attr=[54, 11], smiles='CCOCC(=O)N1CCCCC1C1=NC=C(CC2=CC=C(Cl)C=C2)O1', y=4.008900000000003),\n",
              "  Data(x=[19, 30], edge_index=[2, 42], edge_attr=[42, 11], smiles='CC1=NN=C(NC(=O)C2=CC=CC3=CC=CC=C23)S1', y=3.2520200000000017),\n",
              "  Data(x=[23, 30], edge_index=[2, 52], edge_attr=[52, 11], smiles='NC1=NC(N2CCC3=C(C2)C2=CC=CC=C2[NH]3)=NC=C1[N+](=O)[O-]', y=2.0109999999999997),\n",
              "  Data(x=[20, 30], edge_index=[2, 42], edge_attr=[42, 11], smiles='CC(=O)C1=CC(C)=C(OC(=O)C2=CC=CC=C2)C(C)=C1', y=3.725240000000003),\n",
              "  Data(x=[30, 30], edge_index=[2, 66], edge_attr=[66, 11], smiles='O=C(NC1CC1)C1=CC=CC(OCC2CCCN(C(=O)C3=CC=C(F)C(F)=C3)C2)=C1', y=3.7882000000000033),\n",
              "  Data(x=[28, 30], edge_index=[2, 60], edge_attr=[60, 11], smiles='CCC1=CC=CC=C1N1CC(C(=O)OCC(=O)NC2=CC=CC=C2C)CC1=O', y=3.092220000000001),\n",
              "  Data(x=[25, 30], edge_index=[2, 56], edge_attr=[56, 11], smiles='CC1=CC=CC(N2N=CC3=C2CCCC3NC(=O)C2=CC=C[NH]2)=C1C', y=3.624640000000002),\n",
              "  Data(x=[34, 30], edge_index=[2, 74], edge_attr=[74, 11], smiles='C[NH+](C)CCN1C=CC2=CC(NC(=O)C3=NC=CN=C3C(=O)NCC3=CC=C(F)C=C3)=CC=C21', y=1.8972000000000009),\n",
              "  Data(x=[16, 30], edge_index=[2, 34], edge_attr=[34, 11], smiles='CN(C(=O)CCC1=CC=CO1)C1CCCC1', y=2.613200000000001),\n",
              "  Data(x=[23, 30], edge_index=[2, 46], edge_attr=[46, 11], smiles='CCOC1=CC=C(NC(=O)N(CC[NH+](C)C)CC(C)C)C=C1Cl', y=2.373100000000001),\n",
              "  Data(x=[29, 30], edge_index=[2, 64], edge_attr=[64, 11], smiles='N#CC1=C(N=CC2=CC=C(OCC(=O)N3CCOCC3)C=C2)SC2=C1CCCC2', y=3.486780000000003),\n",
              "  Data(x=[29, 30], edge_index=[2, 62], edge_attr=[62, 11], smiles='CN(C)CC(=O)N1CCC(CCC(=O)NC2CC[NH+](CC3=CC=CC=C3)C2)CC1', y=0.540400000000004),\n",
              "  Data(x=[28, 30], edge_index=[2, 62], edge_attr=[62, 11], smiles='COC1=CC=C(C[NH+]2CC3CCC(C2)N(C(=O)C2=C(C)N(C)N=C2C)C3)C=C1', y=1.365040000000001),\n",
              "  Data(x=[26, 30], edge_index=[2, 56], edge_attr=[56, 11], smiles='CCC1=NN(C2=CC=CC=C2Cl)C(CC)=C1C(=O)N1CCN(CC)CC1', y=3.428200000000002),\n",
              "  Data(x=[30, 30], edge_index=[2, 66], edge_attr=[66, 11], smiles='CC1CCCN(C(=O)C2=CC=C(NC(=O)CC3=C(O)N=C(N4CCCC4)S3)C=C2)C1', y=3.502200000000002),\n",
              "  Data(x=[22, 30], edge_index=[2, 50], edge_attr=[50, 11], smiles='C1=CC=C(C2=NC3=CC=CC=C3N=C2N2CC[NH2+]CC2)C=C1', y=1.6801999999999992),\n",
              "  Data(x=[24, 30], edge_index=[2, 50], edge_attr=[50, 11], smiles='CC(C)C(CNC(=O)C1=CC=CC(C(F)(F)F)=C1)N1CCOCC1', y=2.7920000000000016),\n",
              "  Data(x=[31, 30], edge_index=[2, 66], edge_attr=[66, 11], smiles='CCCN(C(=O)C1=CC=CC(F)=C1)C1(C(=O)NC2=CC=CC=C2)CC[NH+](CCC)CC1', y=3.1441000000000017),\n",
              "  Data(x=[23, 30], edge_index=[2, 50], edge_attr=[50, 11], smiles='NC(=O)CN1C=C2CCCC(NC(=O)C3=CC=CC(Cl)=C3)C2=N1', y=1.8291999999999988),\n",
              "  Data(x=[22, 30], edge_index=[2, 44], edge_attr=[44, 11], smiles='CS(=O)(=O)C1=CC=C(SCC(=O)OCCC#N)C([N+](=O)[O-])=C1', y=1.5472800000000002),\n",
              "  Data(x=[21, 30], edge_index=[2, 44], edge_attr=[44, 11], smiles='CCC(O)CN1CCN(C(=O)CCN2C=C(C)C=N2)CC1', y=0.4967199999999996),\n",
              "  Data(x=[24, 30], edge_index=[2, 50], edge_attr=[50, 11], smiles='CC(C)(C)OC(=O)NCC1CC[NH+](CC2=CC=C(C#N)C=C2)CC1', y=1.8778800000000004),\n",
              "  Data(x=[20, 30], edge_index=[2, 46], edge_attr=[46, 11], smiles='CC12C=CC(O1)C1C(=O)N(C3=CC=CC=C3Br)C(=O)C12', y=2.282),\n",
              "  Data(x=[15, 30], edge_index=[2, 34], edge_attr=[34, 11], smiles='CC1(C2=CC(N3CC[NH2+]CC3)=N[NH]2)CC1', y=-0.15539999999999887),\n",
              "  Data(x=[25, 30], edge_index=[2, 54], edge_attr=[54, 11], smiles='CCCCN1N=CN=C1C1CC(=O)N(C2=CC=C(OC(C)C)C=C2)C1', y=3.385900000000002),\n",
              "  Data(x=[30, 30], edge_index=[2, 66], edge_attr=[66, 11], smiles='CC1=CC(NC2=NC(C)=C(C)S2)=CC(C2CCN(S(=O)(=O)C3=C(C)ON=C3C)C2)=[NH+]1', y=3.4091000000000014),\n",
              "  Data(x=[35, 30], edge_index=[2, 78], edge_attr=[78, 11], smiles='COC1=CC(C2C3=C(OC4=CC(C)=C(C)C=C4C3=O)C(=O)N2CC2=CC=CO2)=CC(OC)=C1OC', y=4.774040000000004),\n",
              "  Data(x=[27, 30], edge_index=[2, 58], edge_attr=[58, 11], smiles='NC1=C(NC(=O)C2=CC=CO2)C(=O)[NH]C(SCC(=O)NC2CCCCC2)=N1', y=1.7383999999999995),\n",
              "  Data(x=[19, 30], edge_index=[2, 40], edge_attr=[40, 11], smiles='CC1C[NH+](CC(O)COC2=CC=CC=C2)CC(C)O1', y=0.11840000000000117),\n",
              "  Data(x=[22, 30], edge_index=[2, 48], edge_attr=[48, 11], smiles='CCC(=O)N1CCC([NH2+]C(C)C2=CC3=CC(Cl)=CC=C3O2)C1', y=2.7215000000000007),\n",
              "  Data(x=[17, 30], edge_index=[2, 36], edge_attr=[36, 11], smiles='CC([NH2+]CCC1CCOCC1)C1CCCOC1', y=1.1815999999999998),\n",
              "  Data(x=[30, 30], edge_index=[2, 66], edge_attr=[66, 11], smiles='COC1=CC=C(CNC(=O)C2CCCN(C3=NN=C4C=CC=C(C)N34)C2)C(OC)=C1', y=2.58772),\n",
              "  Data(x=[17, 30], edge_index=[2, 36], edge_attr=[36, 11], smiles='CC(=O)N1CCCC1C1=CC=NC(N(C)C)=N1', y=1.226),\n",
              "  Data(x=[26, 30], edge_index=[2, 56], edge_attr=[56, 11], smiles='CC1=CC(=O)C=C(C(=O)NC2CC[NH+](CC3=CC=CC(O)=C3)CC2)N1C', y=0.3766200000000006),\n",
              "  Data(x=[27, 30], edge_index=[2, 60], edge_attr=[60, 11], smiles='CCOC1=CC(C=C2NC(C3=C(Cl)C4=CC=CC=C4S3)OC2=O)=CC=C1O', y=4.845100000000004),\n",
              "  Data(x=[27, 30], edge_index=[2, 60], edge_attr=[60, 11], smiles='CC1=CC2=C(C3=CC=CC(C(=O)N4CCCC(C(N)=O)C4)=C3)N=CN=C2S1', y=3.00422),\n",
              "  Data(x=[29, 30], edge_index=[2, 64], edge_attr=[64, 11], smiles='O=C(NCCN1C=NC(C2CC2)=CC1=O)C1=CN=C(O)N(C2=CC=CC=C2)C1=O', y=0.8021999999999991),\n",
              "  Data(x=[23, 30], edge_index=[2, 50], edge_attr=[50, 11], smiles='O=C(NCCCN1C=CC2=CC=CC=C21)C1=CC(Br)=CC=C1F', y=4.363000000000002),\n",
              "  Data(x=[30, 30], edge_index=[2, 64], edge_attr=[64, 11], smiles='CCCC(=O)OCC(O)CN(CC1=CC=C(OC)C=C1)CC1=CC=C2OCOC2=C1', y=3.130300000000002),\n",
              "  Data(x=[23, 30], edge_index=[2, 48], edge_attr=[48, 11], smiles='CCC1=C(C)SC(NC(=O)CN2CC[NH+](CC(C)O)C(C)C2)=N1', y=-0.07777999999999774),\n",
              "  Data(x=[21, 30], edge_index=[2, 46], edge_attr=[46, 11], smiles='O=C(CCC1=CC=CN=C1)NC1CCCC2=CC=CC=C21', y=3.208000000000002),\n",
              "  Data(x=[27, 30], edge_index=[2, 60], edge_attr=[60, 11], smiles='CC1=NC(NC2=NN=C(C)S2)=CC(C2CCCN2C(=O)C2=CC=CC=C2)=N1', y=3.665840000000002),\n",
              "  Data(x=[32, 30], edge_index=[2, 70], edge_attr=[70, 11], smiles='COC1=CC=C(C2=NN(C3=C(C)ON=C3C)C(=O)C=C2)C=C1S(=O)(=O)NCC1CCCO1', y=1.97024),\n",
              "  Data(x=[27, 30], edge_index=[2, 58], edge_attr=[58, 11], smiles='COCCC(=O)N1CCC([NH+]2CCCC(C(=O)N3CCN(C)CC3)C2)CC1', y=-0.9171999999999942),\n",
              "  Data(x=[26, 30], edge_index=[2, 58], edge_attr=[58, 11], smiles='O=C1NN(C2=CC=CC(C(=O)N3CCOCC3)=C2)C(=O)C2CC=CCC12', y=1.1191999999999998),\n",
              "  Data(x=[25, 30], edge_index=[2, 54], edge_attr=[54, 11], smiles='CC1=CC=C(NC(=O)C(SC2=NN=NN2C)C2=CC=CC=C2)C=C1Cl', y=3.644020000000002),\n",
              "  Data(x=[34, 30], edge_index=[2, 76], edge_attr=[76, 11], smiles='CC1=CC(C)=CC(NC(=O)C2=C(N)N(N=CC3=CC=CC=C3O)C3=NC4=CC=CC=C4N=C23)=C1', y=4.6236400000000035),\n",
              "  Data(x=[24, 30], edge_index=[2, 50], edge_attr=[50, 11], smiles='C=CCNC(=O)C1CC=CCC1C(=O)NC1=CC=CC([N+](=O)[O-])=C1', y=2.4179000000000004),\n",
              "  Data(x=[30, 30], edge_index=[2, 64], edge_attr=[64, 11], smiles='CC1=CC=CC(N(C(C)C(=O)N(C)CC2=NC(C3=CC=CC=C3)=NO2)S(C)(=O)=O)=C1', y=2.8581200000000013),\n",
              "  Data(x=[22, 30], edge_index=[2, 48], edge_attr=[48, 11], smiles='CC1CN(CC2=CC=CC=C2)CC1[NH2+]CC1=CC=C(C#N)O1', y=1.7351799999999997),\n",
              "  Data(x=[20, 30], edge_index=[2, 44], edge_attr=[44, 11], smiles='CN1C=NN=C1SCC[NH2+]C1CCC2=CC=CC=C2C1', y=1.0281),\n",
              "  Data(x=[32, 30], edge_index=[2, 70], edge_attr=[70, 11], smiles='COC1=CC=CC(C2=NC(CN3C(=O)C4=C(C)C=C(C)N=C4N(C)C3=O)=C(C)O2)=C1OC', y=2.740960000000001),\n",
              "  Data(x=[21, 30], edge_index=[2, 46], edge_attr=[46, 11], smiles='NC(=O)C1=CN(CC2=NC3=CC=CC=C3N2C(F)F)N=N1', y=1.1701),\n",
              "  Data(x=[23, 30], edge_index=[2, 50], edge_attr=[50, 11], smiles='O=C(NC1=CC=C(Cl)C=C1C(F)(F)F)C1=C2N=CC=CN2N=C1', y=3.6538000000000013),\n",
              "  Data(x=[23, 30], edge_index=[2, 48], edge_attr=[48, 11], smiles='COC1=CC([N+](=O)[O-])=CC=C1NC(=O)NCCC1=CC=CC=C1', y=2.967600000000001),\n",
              "  Data(x=[29, 30], edge_index=[2, 64], edge_attr=[64, 11], smiles='CC1=CC=CC(N2CCN(C(=O)C3=CC=C(N4C(=O)CCS4(=O)=O)C=C3)CC2)=C1', y=2.02392),\n",
              "  Data(x=[26, 30], edge_index=[2, 56], edge_attr=[56, 11], smiles='CCCCNC(=O)C1=C2N=C(C)C(CC3=CC=C(C)C=C3)=C(C)N2N=C1', y=3.775260000000003),\n",
              "  Data(x=[23, 30], edge_index=[2, 50], edge_attr=[50, 11], smiles='CC1=NN(C2=CC=CC=C2)C(C)=C1C(=O)OC1CCCCC1=O', y=3.1576400000000016),\n",
              "  Data(x=[14, 30], edge_index=[2, 28], edge_attr=[28, 11], smiles='NC1=CC=C(SCC([NH3+])C(=O)O)C=C1', y=0.05599999999999983),\n",
              "  Data(x=[27, 30], edge_index=[2, 56], edge_attr=[56, 11], smiles='CNS(=O)(=O)C1=CC(NC(=O)CNC(=O)C2=CC=C(F)C=C2F)=CC=C1C', y=1.5498200000000002),\n",
              "  Data(x=[25, 30], edge_index=[2, 56], edge_attr=[56, 11], smiles='O=C(C(C1=CC=CC=C1)[NH+]1CCCC1C1=CC=CS1)N1CCOCC1', y=2.068),\n",
              "  Data(x=[15, 30], edge_index=[2, 32], edge_attr=[32, 11], smiles='COC(=O)C1(C)OC12COC(C(C)C)C2', y=1.1319999999999997),\n",
              "  Data(x=[24, 30], edge_index=[2, 52], edge_attr=[52, 11], smiles='CN1N=CC=C1C(=O)N1CCC(=O)N(CC2=CC=CC=C2F)CC1', y=1.4338999999999995),\n",
              "  Data(x=[23, 30], edge_index=[2, 52], edge_attr=[52, 11], smiles='CC1=C(CN(C)CC2=NC(=O)C3=C([NH]2)SC2=C3CCC2)SC=C1', y=3.475220000000002),\n",
              "  Data(x=[30, 30], edge_index=[2, 64], edge_attr=[64, 11], smiles='CCN(CC)C(=O)CN1C(=O)SC(=CC2=CC=C(OC)C3=CC=CC(OC)=C23)C1=O', y=3.761700000000003),\n",
              "  Data(x=[24, 30], edge_index=[2, 52], edge_attr=[52, 11], smiles='CC(C)=C1C2CCC1C(C(=O)NC1=CC=C(Br)C(C)=C1)C2C(=O)O', y=4.3892200000000035),\n",
              "  Data(x=[22, 30], edge_index=[2, 50], edge_attr=[50, 11], smiles='O=C(C1=CC=C2CCC3=C2C1=CC=C3)C(O)C1=CC=CC=C1', y=3.854700000000002),\n",
              "  Data(x=[30, 30], edge_index=[2, 64], edge_attr=[64, 11], smiles='CC1(C(=O)NCC2=CC=C(F)C=C2)CN(S(C)(=O)=O)CC(=O)N1C1=CC=CC(Cl)=C1', y=2.1624),\n",
              "  Data(x=[31, 30], edge_index=[2, 68], edge_attr=[68, 11], smiles='CCOC1=CC([N+](=O)[O-])=CC(C=NC2=CC=C(O)C(C3=NC4=CC=CC=C4O3)=C2)=C1O', y=4.963500000000004),\n",
              "  Data(x=[17, 30], edge_index=[2, 38], edge_attr=[38, 11], smiles='O=C1CC(NC2=CC=C3OCOC3=C2)C(=O)N1', y=0.24230000000000002),\n",
              "  Data(x=[32, 30], edge_index=[2, 72], edge_attr=[72, 11], smiles='O=C(NCCCNC1=CC=NC2=CC(Cl)=CC=C12)C1=CN2CCCC3=C2C(=CC=C3)C1=O', y=4.381300000000004),\n",
              "  Data(x=[30, 30], edge_index=[2, 66], edge_attr=[66, 11], smiles='O=C(C1=CC=C2C=CC=CC2=C1O)N1CCCN(S(=O)(=O)C2=CC=C(F)C=C2)CC1', y=3.221300000000002),\n",
              "  Data(x=[17, 30], edge_index=[2, 36], edge_attr=[36, 11], smiles='O=[N+]([O-])C1=CC=CN=C1N=NCC1=CC=CO1', y=2.8667000000000007),\n",
              "  Data(x=[28, 30], edge_index=[2, 60], edge_attr=[60, 11], smiles='CC1=CC=C(CNC(=O)C2(C)CCN(S(=O)(=O)C3=CC=C(F)C=C3)CC2)C=C1', y=3.2413200000000018),\n",
              "  Data(x=[22, 30], edge_index=[2, 46], edge_attr=[46, 11], smiles='CCN1C=CN=C1CN(C)C(C(=O)O)C1=CC=C(CO)C=C1', y=1.653),\n",
              "  Data(x=[27, 30], edge_index=[2, 56], edge_attr=[56, 11], smiles='COC1=CC=C(C)C=C1N(CC(=O)NC(C)C1=CC=C(F)C=C1)S(C)(=O)=O', y=2.7861200000000013),\n",
              "  Data(x=[28, 30], edge_index=[2, 62], edge_attr=[62, 11], smiles='O=C(COC1=CC=C2C=CC=CC2=C1)NC1=CC=C(CC2=CC=CC=N2)C=C1', y=4.843100000000004),\n",
              "  Data(x=[29, 30], edge_index=[2, 64], edge_attr=[64, 11], smiles='O=C1C=C(CC([NH2+]CC2=CC=NC=C2)C2=CC=C(F)C=C2)N=C(N2CCCC2)[NH]1', y=1.9515999999999998),\n",
              "  Data(x=[27, 30], edge_index=[2, 58], edge_attr=[58, 11], smiles='CC1=CC=C(C(=O)NC(C2=CC=CN=C2)C(F)(F)F)C=C1N1CCNC1=O', y=2.9530200000000013),\n",
              "  Data(x=[24, 30], edge_index=[2, 52], edge_attr=[52, 11], smiles='CC1=CC=C2[NH]C(=O)C(CN(C)CC[NH+]3CCCCC3C)=CC2=C1', y=1.7256199999999995),\n",
              "  Data(x=[30, 30], edge_index=[2, 66], edge_attr=[66, 11], smiles='N#CC1=CC=CC(NS(=O)(=O)C2=CC=C3C(=C2)CCN3C(=O)NC2CCCCC2)=C1', y=3.763880000000002),\n",
              "  Data(x=[28, 30], edge_index=[2, 60], edge_attr=[60, 11], smiles='CCC1=NN=C(NC(=O)CSC2=NN=C(CNC3=CC(Cl)=CC=C3Cl)N2C)S1', y=3.878700000000002),\n",
              "  Data(x=[29, 30], edge_index=[2, 64], edge_attr=[64, 11], smiles='CN(CC1=CC=CC=C1Cl)C(=O)C1=CC=C2C(=O)N(CC3CCCO3)C(=O)C2=C1', y=3.3872000000000018),\n",
              "  Data(x=[25, 30], edge_index=[2, 54], edge_attr=[54, 11], smiles='COC1=CC=C(Br)C=C1S(=O)(=O)NC1=CC=CC(N2CCCC2=O)=C1', y=3.385300000000001),\n",
              "  Data(x=[15, 30], edge_index=[2, 30], edge_attr=[30, 11], smiles='CCOC(=O)C(C)OC1=CC=CC(C)=C1', y=2.3254200000000003),\n",
              "  Data(x=[26, 30], edge_index=[2, 58], edge_attr=[58, 11], smiles='CC1=CC(C)=CC(N2N=CC3=C(N4CCN(CCO)CC4)N=CN=C32)=C1', y=1.5466399999999996),\n",
              "  Data(x=[33, 30], edge_index=[2, 74], edge_attr=[74, 11], smiles='CC1=CC=CC=C1N1C(CC2CCN(C(=O)C3=N[NH]C(C4=CC=CC=C4)=C3)CC2)=N[NH]C1=O', y=3.354020000000001),\n",
              "  Data(x=[20, 30], edge_index=[2, 44], edge_attr=[44, 11], smiles='CC1=C(CN2CCCC2C2=CC(C(C)C)=NO2)SC=C1', y=4.5050200000000045),\n",
              "  Data(x=[31, 30], edge_index=[2, 66], edge_attr=[66, 11], smiles='CC1=CC=C(S(=O)(=O)N(CC(=O)NCCCN2CCOCC2)C2=CC=CC=C2Cl)C=C1', y=2.682220000000002),\n",
              "  Data(x=[23, 30], edge_index=[2, 50], edge_attr=[50, 11], smiles='CCC(CO)[NH+]1CCN(C2=NN=C(CC3=CC=CC=C3)S2)CC1', y=0.6047000000000002),\n",
              "  Data(x=[26, 30], edge_index=[2, 58], edge_attr=[58, 11], smiles='COC(=O)C1=CC=C(N2CCN(CC3=NC(C4CC4)=NO3)C(C)C2)C=C1', y=2.4443),\n",
              "  Data(x=[20, 30], edge_index=[2, 42], edge_attr=[42, 11], smiles='CC(=O)NCCC[NH2+]C1CC(C2=CC=CC=C2)C1(C)C', y=1.6583000000000008),\n",
              "  Data(x=[20, 30], edge_index=[2, 42], edge_attr=[42, 11], smiles='CC(=O)NCCCOC(=O)C1CSC2=CC=CC=C2O1', y=1.6090999999999998),\n",
              "  Data(x=[23, 30], edge_index=[2, 50], edge_attr=[50, 11], smiles='COC1=CC=C(N=C2SC=C(C3=CC=CC=C3)N2CCO)C=C1', y=3.4499000000000013),\n",
              "  Data(x=[33, 30], edge_index=[2, 68], edge_attr=[68, 11], smiles='CCC(C(=O)NC1=CC=C(OC(F)(F)F)C=C1)N(C1=CC([N+](=O)[O-])=CC=C1OC)S(C)(=O)=O', y=3.6853000000000025),\n",
              "  Data(x=[20, 30], edge_index=[2, 42], edge_attr=[42, 11], smiles='CC(=O)N1CCC2=CC(S(=O)(=O)CCC(=O)O)=CC=C21', y=0.8439999999999999),\n",
              "  Data(x=[31, 30], edge_index=[2, 68], edge_attr=[68, 11], smiles='CN(C1=CC=CC=C1)S(=O)(=O)C1=CC=CC(NC(=O)CSC2=NC=NC3=C2C=CS3)=C1', y=4.247200000000003),\n",
              "  Data(x=[28, 30], edge_index=[2, 60], edge_attr=[60, 11], smiles='CC1=CC=CC(NC(=O)CSC2=NN=C(CC3=CC=C(Cl)C=C3)C(=O)N2N)=C1', y=2.6355199999999996),\n",
              "  Data(x=[19, 30], edge_index=[2, 40], edge_attr=[40, 11], smiles='CN(CC1=CC=CO1)S(=O)(=O)C1=CC(Br)=CC=C1Br', y=3.625300000000002),\n",
              "  Data(x=[25, 30], edge_index=[2, 56], edge_attr=[56, 11], smiles='CC1=NN(CC(=O)N2CCCC2C2=CC=CS2)C(=O)C2=CC=CC=C12', y=3.1301200000000016),\n",
              "  Data(x=[20, 30], edge_index=[2, 40], edge_attr=[40, 11], smiles='OCCOCC[NH+](CCOCCO)CC1=CC=CC=C1', y=-0.9106999999999963),\n",
              "  Data(x=[22, 30], edge_index=[2, 46], edge_attr=[46, 11], smiles='CC(C)C1=CC=C(S(=O)(=O)NC2=CC=C([N+](=O)[O-])C=C2)C=C1', y=3.519000000000002),\n",
              "  Data(x=[22, 30], edge_index=[2, 46], edge_attr=[46, 11], smiles='CCC(C#N)NC(=O)C(O)(C1=CC=CC=C1)C1=CC=CC=C1', y=2.3408800000000003),\n",
              "  Data(x=[20, 30], edge_index=[2, 42], edge_attr=[42, 11], smiles='CC1=CC=C(S(=O)(=O)N2CCCCC2C)C=C1C(=O)O', y=2.25632),\n",
              "  Data(x=[21, 30], edge_index=[2, 44], edge_attr=[44, 11], smiles='CC1=CC=C(C=CC(=O)NC2=CC=C(S(N)(=O)=O)C=C2)O1', y=1.8873199999999999),\n",
              "  Data(x=[21, 30], edge_index=[2, 46], edge_attr=[46, 11], smiles='O=C(CCC1=CC=CN=C1)N1CCCC(N2C=NC=N2)C1', y=1.4694),\n",
              "  Data(x=[21, 30], edge_index=[2, 46], edge_attr=[46, 11], smiles='CC1=CC=C(OC(C)C(=O)N2CCC3=CC=CC=C32)C=C1', y=3.3516200000000023),\n",
              "  Data(x=[23, 30], edge_index=[2, 50], edge_attr=[50, 11], smiles='CN1C=C([N+](=O)[O-])C(C(=O)NCC2=CC3=CC(Cl)=CC=C3[NH]2)=N1', y=2.393),\n",
              "  Data(x=[26, 30], edge_index=[2, 58], edge_attr=[58, 11], smiles='O=C(C1CCCC1)N1CC2C[NH+](CC3=CC=C(Cl)C=C3)CC2(C(=O)O)C1', y=1.4581000000000004),\n",
              "  Data(x=[23, 30], edge_index=[2, 50], edge_attr=[50, 11], smiles='CC1=C(C2=NN=C(SC3=CC=C([N+](=O)[O-])C=C3F)N2C)C=CO1', y=3.5820200000000018),\n",
              "  Data(x=[22, 30], edge_index=[2, 46], edge_attr=[46, 11], smiles='CC(C[NH2+]C1CCCCC1S(C)(=O)=O)C1=CC=C(F)C=C1F', y=1.9875000000000003),\n",
              "  Data(x=[17, 30], edge_index=[2, 36], edge_attr=[36, 11], smiles='CC(C)(C)NC(=O)NCC1CC2CC([NH3+])C2C1', y=0.7407000000000019),\n",
              "  Data(x=[24, 30], edge_index=[2, 50], edge_attr=[50, 11], smiles='CCC1=CC=CC=C1NC(=O)C(C)NC(=O)OCC1=CC=CC=C1', y=3.5024000000000015),\n",
              "  Data(x=[27, 30], edge_index=[2, 62], edge_attr=[62, 11], smiles='O=C1[NH]C(C[NH+]2CCCC(C3=NC4=CC=CC=C4O3)C2)=NC2=CC=CC=C12', y=2.0267999999999997),\n",
              "  Data(x=[23, 30], edge_index=[2, 50], edge_attr=[50, 11], smiles='CC1=CC=CC(N2CCN(CC3=NC(N)=NC(N)=N3)CC2)=C1C', y=0.9750399999999997),\n",
              "  Data(x=[31, 30], edge_index=[2, 68], edge_attr=[68, 11], smiles='O=C(CN1C(=O)C(=NNC2=CC=CC=C2[N+](=O)[O-])C2=CC=CC=C21)NC1=CC=CC=C1', y=3.396300000000001),\n",
              "  Data(x=[21, 30], edge_index=[2, 44], edge_attr=[44, 11], smiles='COC1=CC=CC=C1S(=O)(=O)NC1=C(C(=O)O)N(C)N=C1', y=0.9277000000000001),\n",
              "  Data(x=[27, 30], edge_index=[2, 60], edge_attr=[60, 11], smiles='C[NH+]1CCN(C2=NC(C(F)(F)F)=NC3=C2C=NN3CC2=CC=CC=C2)CC1', y=1.2280999999999997),\n",
              "  Data(x=[14, 30], edge_index=[2, 30], edge_attr=[30, 11], smiles='NC1=NN=C(C2=CC=CS2)C(=O)N1N', y=-0.3372000000000001),\n",
              "  Data(x=[32, 30], edge_index=[2, 68], edge_attr=[68, 11], smiles='CCCC1=NC(SCC(=O)NC2=CC(OC)=CC=C2OC)=C2C(=O)N(C)C(=O)N(C)C2=N1', y=1.7276999999999996),\n",
              "  Data(x=[24, 30], edge_index=[2, 52], edge_attr=[52, 11], smiles='COC(=O)C1=C(NC(=O)C2=CC=CC(F)=C2)SC=C1C1=CC=CS1', y=4.654600000000002),\n",
              "  Data(x=[26, 30], edge_index=[2, 58], edge_attr=[58, 11], smiles='COC1=CC=C2C=C(C(=O)NC3CC[NH+](CC4=CC=CC=C4)C3)[NH]C2=C1', y=1.7636999999999996),\n",
              "  Data(x=[29, 30], edge_index=[2, 64], edge_attr=[64, 11], smiles='COC1=CC=C(C2=CC(C(=O)NC3=CC=C(C)C=C3C3=N[NH]C(C)=C3)=N[NH]2)C=C1', y=4.344540000000001),\n",
              "  Data(x=[22, 30], edge_index=[2, 50], edge_attr=[50, 11], smiles='CC1=NN(C)C2=C1SC(N1CCCC(C[NH+]3CCCC3)C1)=N2', y=1.2333199999999997),\n",
              "  Data(x=[25, 30], edge_index=[2, 56], edge_attr=[56, 11], smiles='FC1=CC=C(C(CNC2=NC=NC3=C2N=C[NH]3)N2CCOCC2)C=C1', y=1.9773999999999998),\n",
              "  Data(x=[15, 30], edge_index=[2, 30], edge_attr=[30, 11], smiles='CCOC(=O)CCCC1=CC=CC(Br)=C1', y=3.334900000000002),\n",
              "  Data(x=[17, 30], edge_index=[2, 38], edge_attr=[38, 11], smiles='CC1=CC(CN2CCC3CCC(C2)[NH+]3C)=NO1', y=0.2344200000000008),\n",
              "  Data(x=[23, 30], edge_index=[2, 52], edge_attr=[52, 11], smiles='CC1=CC=C(C(=O)N2CCC3=CC4=CC=CC=C4N=C32)C=C1C', y=4.054540000000003),\n",
              "  Data(x=[31, 30], edge_index=[2, 66], edge_attr=[66, 11], smiles='CCOC1=CC=C(S(=O)(=O)N(C)C2=CC=C(OC(=O)C3=CC=C(C#N)C=C3)C=C2)C=C1', y=4.001280000000003),\n",
              "  Data(x=[26, 30], edge_index=[2, 56], edge_attr=[56, 11], smiles='O=C(NCCC1=CCCCC1)C1CC[NH+](CC2=CC=C(Cl)C=C2F)CC1', y=3.280700000000002),\n",
              "  Data(x=[20, 30], edge_index=[2, 42], edge_attr=[42, 11], smiles='COC(C)C1=CC=CC(C2=NC(C)=CC(C(=O)O)=N2)=C1', y=2.8576200000000007),\n",
              "  Data(x=[23, 30], edge_index=[2, 46], edge_attr=[46, 11], smiles='COC1=CC=CC(C(=O)CCCCCNC(=O)OC(C)(C)C)=C1', y=3.9630000000000027),\n",
              "  Data(x=[23, 30], edge_index=[2, 48], edge_attr=[48, 11], smiles='CCCC1=CC(=O)[NH]C(SCC(=O)NC2=C(C(N)=O)C=CS2)=N1', y=1.6136),\n",
              "  Data(x=[17, 30], edge_index=[2, 34], edge_attr=[34, 11], smiles='CCC1CN(C(=O)CCNS(C)(=O)=O)CCO1', y=-0.4368999999999985),\n",
              "  Data(x=[30, 30], edge_index=[2, 66], edge_attr=[66, 11], smiles='COC1=CC=C(CC(=O)NC2=NC(C3=C(C)N(C)C4=CC=C(OC)C=C34)=CS2)C=C1', y=4.808620000000004),\n",
              "  Data(x=[26, 30], edge_index=[2, 58], edge_attr=[58, 11], smiles='CC1=NN(C2=CC=CC(C[NH+]3CCCC(C4=N[NH]C(C)=N4)C3)=C2)C(C)=C1', y=1.87816),\n",
              "  Data(x=[31, 30], edge_index=[2, 70], edge_attr=[70, 11], smiles='CC1=NC2=NC(CC3=CC=CC(F)=C3)=NN2C(N2CCN(C3=CC=CC=C3F)CC2)=C1', y=3.628320000000002),\n",
              "  Data(x=[28, 30], edge_index=[2, 60], edge_attr=[60, 11], smiles='COCCN1CCN(C(=O)C2=CSC(NC(=O)C3=CC=C(Cl)C=C3Cl)=N2)CC1', y=3.1064000000000016),\n",
              "  Data(x=[25, 30], edge_index=[2, 54], edge_attr=[54, 11], smiles='O=[N+]([O-])C1=CC=CC=C1S(=O)(=O)N1CCN(C2=CC=CC(Cl)=C2)CC1', y=2.759100000000001),\n",
              "  Data(x=[24, 30], edge_index=[2, 52], edge_attr=[52, 11], smiles='COCC[NH+]1CC(NS(=O)(=O)N2CCCC2)C(C2=CC=CC=C2)C1', y=-0.3860999999999968),\n",
              "  Data(x=[28, 30], edge_index=[2, 60], edge_attr=[60, 11], smiles='CC1=C(CC(=O)NC2=CC=CC(NC(=O)CCC3=CC=CC=C3)=C2)C(=O)[NH][NH]1', y=2.7639199999999997),\n",
              "  Data(x=[27, 30], edge_index=[2, 60], edge_attr=[60, 11], smiles='CC1=CC(CC2=CC=CC=C2)=CC(C2CCCN(C(=O)C3CCCC3)C2)=N1', y=4.877020000000004),\n",
              "  Data(x=[24, 30], edge_index=[2, 50], edge_attr=[50, 11], smiles='CNS(=O)(=O)C1=CC=C(C)C(C(=O)NC(C)C2=CC=CC=C2F)=C1', y=2.533220000000001),\n",
              "  Data(x=[31, 30], edge_index=[2, 70], edge_attr=[70, 11], smiles='CC1=CC(C(=O)CSC2=NN=C(C3=CC=C4OCOC4=C3)O2)=C(C)N1C1=CC=CC=C1', y=4.847840000000004),\n",
              "  Data(x=[28, 30], edge_index=[2, 62], edge_attr=[62, 11], smiles='CC1=CC=C(NC(=O)CN2[NH][NH]C3=C2C(=O)N(C2=CC=CC(Cl)=C2)C3=O)C=C1', y=1.9806999999999992),\n",
              "  Data(x=[20, 30], edge_index=[2, 42], edge_attr=[42, 11], smiles='COC1=CC=CC(C=CC(=O)N2CC[NH+](C)CC2C)=C1', y=0.4538000000000004),\n",
              "  Data(x=[34, 30], edge_index=[2, 72], edge_attr=[72, 11], smiles='COC1=CC=C(OC(C)C(=O)NC2=CC=C(S(=O)(=O)NC3=CC=C(OC)C=C3OC)C=C2)C=C1', y=3.9192000000000027),\n",
              "  Data(x=[22, 30], edge_index=[2, 48], edge_attr=[48, 11], smiles='O=C(CN1CCC(NC2=CC=CC=C2)C1)NC1CCOCC1', y=1.4679999999999997),\n",
              "  Data(x=[31, 30], edge_index=[2, 70], edge_attr=[70, 11], smiles='O=C(NC1=CC(C2CC2)=NN1C1=NC2=C(CCCC2)C(=O)[NH]1)C1=CC=CC([N+](=O)[O-])=C1', y=2.872300000000001),\n",
              "  Data(x=[24, 30], edge_index=[2, 50], edge_attr=[50, 11], smiles='COC1CC(CC(=O)O)N(C(=O)CCC(=O)C2=C(C)SC(C)=C2)C1', y=2.4184400000000004),\n",
              "  Data(x=[19, 30], edge_index=[2, 42], edge_attr=[42, 11], smiles='CS(=O)(=O)N1CCC2(CN(CC3=CC=CC=C3)C2)C1', y=1.1538999999999997),\n",
              "  Data(x=[25, 30], edge_index=[2, 56], edge_attr=[56, 11], smiles='O=C(CN1CCC(O)(C2=CC=C3OCOC3=C2)CC1)NC1=NC=CS1', y=1.7938999999999998),\n",
              "  Data(x=[24, 30], edge_index=[2, 52], edge_attr=[52, 11], smiles='CS(=O)(=O)N1CCCC1C1=CN=CC(C2=CC=CC(C(=O)O)=C2)=N1', y=1.9383),\n",
              "  Data(x=[31, 30], edge_index=[2, 68], edge_attr=[68, 11], smiles='CCOC1=CC=C(C2=NN3C=CN(CCC(=O)NCC4=CC=CC=C4)C(=O)C3=C2)C=C1', y=3.268200000000002),\n",
              "  Data(x=[24, 30], edge_index=[2, 54], edge_attr=[54, 11], smiles='C[NH+]1CCOCC2(CC(CC3=NC(N4CCCC4)=NC=C3F)C2)C1', y=0.6997000000000004),\n",
              "  Data(x=[19, 30], edge_index=[2, 42], edge_attr=[42, 11], smiles='CC1=NC=CN1C1=NC=CN=C1C1CC[NH+](C)CC1', y=0.36281999999999975),\n",
              "  Data(x=[26, 30], edge_index=[2, 56], edge_attr=[56, 11], smiles='CNS(=O)(=O)C1=CC=C(NC(=O)C2=CC(C)=C(C3=CC=CC=C3)S2)C=C1', y=3.8839200000000025),\n",
              "  Data(x=[25, 30], edge_index=[2, 54], edge_attr=[54, 11], smiles='O=C(CCNC(=O)NC1=CC=CC2=CN=CC=C12)NC1CCCCC1', y=3.1953000000000014),\n",
              "  Data(x=[24, 30], edge_index=[2, 52], edge_attr=[52, 11], smiles='CC1=CC=C(C2COCCN2C(=O)C2=CC=C(C[NH+](C)C)C=C2)O1', y=1.4462199999999998),\n",
              "  Data(x=[23, 30], edge_index=[2, 48], edge_attr=[48, 11], smiles='NC1=NON=C1C(=O)NCCNC(=O)NC1=CC=C(F)C(Cl)=C1', y=0.9957999999999998),\n",
              "  Data(x=[26, 30], edge_index=[2, 56], edge_attr=[56, 11], smiles='CC1=CC=C(OCC(=O)C2=C[NH]C(C(=O)N3CCCC3)=C2)C([N+](=O)[O-])=C1', y=2.729020000000001),\n",
              "  Data(x=[23, 30], edge_index=[2, 50], edge_attr=[50, 11], smiles='CC1CCCC[NH+]1C1CN(CC2=CC=CC(OCC(N)=O)=C2)C1', y=0.19220000000000226),\n",
              "  Data(x=[25, 30], edge_index=[2, 52], edge_attr=[52, 11], smiles='CCN(CC(=O)NCC1=CC=C(F)C=C1)CC(=O)NC1=CC(C)=NO1', y=1.698919999999999),\n",
              "  Data(x=[20, 30], edge_index=[2, 44], edge_attr=[44, 11], smiles='O=C(C1=C(C2=CC=CS2)OC=N1)N1CCS(=O)(=O)CC1', y=1.2737),\n",
              "  Data(x=[28, 30], edge_index=[2, 62], edge_attr=[62, 11], smiles='CN1C(=O)C2=C(N=C(CN3CCOCC3)N2CCN2CCOCC2)N(C)C1=O', y=-1.4018999999999953),\n",
              "  Data(x=[30, 30], edge_index=[2, 64], edge_attr=[64, 11], smiles='COC(=O)C1=CC=CC=C1NC(=O)C1=C(C)NC(=O)NC1C1=CC(Br)=CC=C1OC', y=3.5109000000000012),\n",
              "  Data(x=[25, 30], edge_index=[2, 56], edge_attr=[56, 11], smiles='O=C(NC1CCN(C(=O)C2=CC=C3[NH]C=NC3=C2)CC1)C1=CC=CS1', y=2.6590000000000007),\n",
              "  Data(x=[24, 30], edge_index=[2, 52], edge_attr=[52, 11], smiles='N#CC1=CC=C(NCC2=CC=CC=C2C[NH+]2CCCC2CO)N=C1', y=1.1049799999999992),\n",
              "  Data(x=[28, 30], edge_index=[2, 64], edge_attr=[64, 11], smiles='O=C(C1=CC=C2N=C(CC3=CC=CC=C3F)OC2=C1)N1CC[NH+]2CCCC2C1', y=2.0608),\n",
              "  Data(x=[34, 30], edge_index=[2, 74], edge_attr=[74, 11], smiles='CC(C)(CNC(=O)C1=CC(S(=O)(=O)N2CCCCC2)=CC=C1N1CCOCC1)N1CCOCC1', y=1.5384000000000009),\n",
              "  Data(x=[19, 30], edge_index=[2, 42], edge_attr=[42, 11], smiles='CC1=C[NH]C(C2CCC[NH+](CC3=CN=CN3C)C2)=N1', y=0.4141199999999994),\n",
              "  Data(x=[28, 30], edge_index=[2, 60], edge_attr=[60, 11], smiles='CCN(CC1=CC=CC(F)=C1)C(=O)C1=CC=CC(S(=O)(=O)N2CCCCC2)=C1', y=3.662600000000003),\n",
              "  Data(x=[23, 30], edge_index=[2, 50], edge_attr=[50, 11], smiles='CC1=C(C(=O)NCC2CCCC(C)C2)N=NN1C1CC[NH2+]CC1', y=1.0409200000000003),\n",
              "  Data(x=[29, 30], edge_index=[2, 62], edge_attr=[62, 11], smiles='CC(=O)N1CCN(S(=O)(=O)C2=CC=CC(C(=O)NC3CCCC(C)C3C)=C2)CC1', y=2.0938999999999997),\n",
              "  Data(x=[30, 30], edge_index=[2, 66], edge_attr=[66, 11], smiles='CC(CNC(=O)C1=C(N2C=CC=C2)N(CC2=CC=CC(Cl)=C2)N=N1)C1=CC=CC=C1', y=4.304000000000003),\n",
              "  Data(x=[26, 30], edge_index=[2, 56], edge_attr=[56, 11], smiles='O=C(NC1CCC(OC2=CC=CC(F)=C2)C(O)C1O)C1=CC=C(F)C=C1', y=2.0263999999999998),\n",
              "  Data(x=[19, 30], edge_index=[2, 40], edge_attr=[40, 11], smiles='C[NH+]1CCN(CC2=CC=C(Br)C=C2)CC(C(N)=O)C1', y=-0.1190999999999986),\n",
              "  Data(x=[20, 30], edge_index=[2, 42], edge_attr=[42, 11], smiles='CCOC(=O)N1CCCC(C(=O)NC2=CC=CN=C2)C1', y=1.8885999999999998),\n",
              "  Data(x=[32, 30], edge_index=[2, 68], edge_attr=[68, 11], smiles='CCN(CC1=CC=CC(F)=C1)C(=O)C1=CC(=O)[NH]C2=CC=C(S(=O)(=O)N(CC)CC)C=C12', y=3.360000000000002),\n",
              "  Data(x=[31, 30], edge_index=[2, 68], edge_attr=[68, 11], smiles='CNC(=O)C1CN(C(=O)C2(C3=CC=CC=C3)CCOCC2)CCN1CC1=CC=CC=C1', y=2.1938000000000013),\n",
              "  Data(x=[34, 30], edge_index=[2, 72], edge_attr=[72, 11], smiles='CC[NH+](CC)CCNC(=O)C1CCN(S(=O)(=O)C2=C(C=CC3=CC=C(C)C=C3)ON=C2C)CC1', y=1.9034400000000011),\n",
              "  Data(x=[28, 30], edge_index=[2, 64], edge_attr=[64, 11], smiles='CC1=CN=C(C(=O)N2C3CC4(C)C(CCCC24)[NH2+]C3CC2=CC=CC=C2)C=N1', y=2.1152199999999994),\n",
              "  Data(x=[30, 30], edge_index=[2, 66], edge_attr=[66, 11], smiles='CC1=NN(C2=CC=CC(C(F)(F)F)=C2)C(C)=C1CC(=O)NC1=NN=C2C=CC=CN12', y=3.731840000000002),\n",
              "  Data(x=[24, 30], edge_index=[2, 50], edge_attr=[50, 11], smiles='C=CCNC(=O)CN1CCN(S(=O)(=O)C2=CC(Cl)=CC=C2Cl)CC1', y=1.6018999999999999),\n",
              "  Data(x=[24, 30], edge_index=[2, 52], edge_attr=[52, 11], smiles='COCCN1C=C(NC(=O)C2=CSC(C3=CC=CC=C3C)=N2)C=N1', y=3.2137200000000012),\n",
              "  Data(x=[23, 30], edge_index=[2, 50], edge_attr=[50, 11], smiles='O=C(CN(CC1=CC=CC=C1)C1=CC=CC=C1)NC1=N[NH]C=N1', y=2.45),\n",
              "  Data(x=[29, 30], edge_index=[2, 62], edge_attr=[62, 11], smiles='CCN(CC)S(=O)(=O)N1CCOC(C2=CC(C(=O)N(C)C)=C3C=CC=CC3=N2)C1', y=1.8964999999999996),\n",
              "  Data(x=[23, 30], edge_index=[2, 50], edge_attr=[50, 11], smiles='CC(=O)N1C2=CC=C(C(=O)CN3C=NC(C#N)=N3)C=C2CC1C', y=1.33018),\n",
              "  Data(x=[23, 30], edge_index=[2, 50], edge_attr=[50, 11], smiles='CC1=CC=C(NC(=O)C(C)N2CC3=CC=CC=C3C2=O)C=C1F', y=3.1171200000000017),\n",
              "  Data(x=[28, 30], edge_index=[2, 60], edge_attr=[60, 11], smiles='CNS(=O)(=O)C1=CC=C(S(=O)(=O)NC2=CC=CC=C2SC2=CC=CC=C2)C=C1', y=3.546700000000002),\n",
              "  Data(x=[30, 30], edge_index=[2, 66], edge_attr=[66, 11], smiles='CC1=CC=C(F)C=C1NC(=O)CSC1=NN=C(COC2=CC=C3C=CC=CC3=C2)O1', y=4.980120000000003),\n",
              "  Data(x=[27, 30], edge_index=[2, 60], edge_attr=[60, 11], smiles='N#CC1=CC=CC(NC(=O)C2=NN(C3=CC=C(F)C=C3)C3=C2CCCC3)=C1', y=4.014180000000002),\n",
              "  Data(x=[31, 30], edge_index=[2, 68], edge_attr=[68, 11], smiles='CCN(CC1=NC2=CC=CC=C2C(=O)[NH]1)C(=O)CN1C(=O)NC2(CCCCC2C)C1=O', y=1.7722999999999995),\n",
              "  Data(x=[25, 30], edge_index=[2, 54], edge_attr=[54, 11], smiles='CCCCOC1=CC=C(N2C(=O)CC([NH+]3CCC(C)CC3)C2=O)C=C1', y=1.8122),\n",
              "  Data(x=[20, 30], edge_index=[2, 42], edge_attr=[42, 11], smiles='COC1=CC=C(Cl)C=C1C[NH2+]CCCN1CCOCC1', y=1.1342999999999996),\n",
              "  Data(x=[29, 30], edge_index=[2, 64], edge_attr=[64, 11], smiles='CCC1=NN2C(O)=C(C(C3=CC=C(F)C(F)=C3)N3CCN(C(C)=O)CC3)SC2=N1', y=2.5905000000000005),\n",
              "  Data(x=[25, 30], edge_index=[2, 58], edge_attr=[58, 11], smiles='O=C1C2=C(C=CN1C1=CC=C(Cl)C=C1)N1C(=NC3=CC=CC=C31)N=C2', y=3.8400000000000025),\n",
              "  Data(x=[25, 30], edge_index=[2, 54], edge_attr=[54, 11], smiles='COC1=NN2C(CNC(=O)C(C)OC3=CC=CC=C3F)=NN=C2C=C1', y=1.3556999999999992),\n",
              "  Data(x=[25, 30], edge_index=[2, 52], edge_attr=[52, 11], smiles='CCOCC[NH+]1CCN(C2=CC(OC)=C([N+](=O)[O-])C=C2F)CC1CC', y=1.2625),\n",
              "  Data(x=[21, 30], edge_index=[2, 44], edge_attr=[44, 11], smiles='COC1=CC(OC)=C(OC)C=C1C[NH2+]C1CCCCC1C', y=2.3545),\n",
              "  Data(x=[35, 30], edge_index=[2, 80], edge_attr=[80, 11], smiles='COC1=CC=C(N2CCN(C(=O)C3C4=CC=CC=C4C(=O)N4CCC5=CC=CC=C5C34)CC2)C=C1', y=3.8808000000000034),\n",
              "  Data(x=[21, 30], edge_index=[2, 46], edge_attr=[46, 11], smiles='C[NH+]1CCC(C[NH2+]C2CCCSC2)(C2=CC=CC=C2)CC1', y=0.6919000000000024),\n",
              "  Data(x=[28, 30], edge_index=[2, 62], edge_attr=[62, 11], smiles='CCC1=CC=C(S(=O)(=O)N2CCC3(CCCN(C4=CC=C(C)N=N4)C3)C2)C=C1', y=3.028620000000002),\n",
              "  Data(x=[24, 30], edge_index=[2, 50], edge_attr=[50, 11], smiles='CCCCNC(=O)C1CN(C(=O)NCC)CC1C1=CC=CC(F)=C1', y=2.4869000000000003),\n",
              "  Data(x=[22, 30], edge_index=[2, 48], edge_attr=[48, 11], smiles='CC1=CN(C)C(C2CCC[NH+]2CC2=CC=CC(C(=O)O)=C2)=N1', y=1.3467199999999997),\n",
              "  Data(x=[33, 30], edge_index=[2, 74], edge_attr=[74, 11], smiles='CC1=CC=C(C2=NN=C(C3=CC=C(C(=O)NCCC4=CC=C5OCCOC5=C4)C=C3)O2)C=C1', y=4.455720000000004),\n",
              "  Data(x=[25, 30], edge_index=[2, 54], edge_attr=[54, 11], smiles='CC1=NN(CC2CCC[NH+](C(C)C(=O)NC3=NOC(C)=C3)C2)C(C)=N1', y=0.5134600000000018),\n",
              "  Data(x=[30, 30], edge_index=[2, 64], edge_attr=[64, 11], smiles='COC1=CC=C(N2CCN(CCCNC(=O)CNS(=O)(=O)C3=CC=CS3)CC2)C=C1', y=1.3635000000000002),\n",
              "  Data(x=[30, 30], edge_index=[2, 66], edge_attr=[66, 11], smiles='CC1=CC=C(C)C(NC(=O)CSC2=NC3=C(C=C(C)S3)C(=O)N2CC2=CC=CO2)=C1', y=4.755360000000003),\n",
              "  Data(x=[21, 30], edge_index=[2, 46], edge_attr=[46, 11], smiles='CC1=NN(C2=CC=CC=C2)C2=C1C(=O)C=C(C(F)(F)F)[NH]2', y=3.0410200000000014),\n",
              "  Data(x=[21, 30], edge_index=[2, 48], edge_attr=[48, 11], smiles='O=C1C2=CC=CC=C2C(=NO)C2=CC=C3C=CC=CC3=C12', y=3.610800000000002),\n",
              "  Data(x=[26, 30], edge_index=[2, 58], edge_attr=[58, 11], smiles='CC1=CC=C(S(=O)(=O)OCC2CC(=O)C3=C(C2)C2=CC=CC=C2[NH]3)C=C1', y=3.626920000000002),\n",
              "  Data(x=[22, 30], edge_index=[2, 48], edge_attr=[48, 11], smiles='CC1CCCN(C(=O)CNC2=CC=CC(N3C=NN=N3)=C2)C1', y=1.3326999999999996),\n",
              "  Data(x=[35, 30], edge_index=[2, 78], edge_attr=[78, 11], smiles='COC1=CC=CC(N2C(=O)CSC23C(=O)N(CC(=O)NCC2=CC=C(C)C=C2)C2=CC=CC=C23)=C1', y=3.599420000000002),\n",
              "  Data(x=[26, 30], edge_index=[2, 56], edge_attr=[56, 11], smiles='CCC1=NC2=CC=C(Br)C=C2C(=O)N1N=CC1=CC=CC(OC(C)C)=C1', y=4.390800000000003),\n",
              "  Data(x=[21, 30], edge_index=[2, 42], edge_attr=[42, 11], smiles='CCCCCCCCCCOC1OC(C)C(O)C(O)C1O', y=1.9712),\n",
              "  Data(x=[22, 30], edge_index=[2, 48], edge_attr=[48, 11], smiles='CC1=NOC(CC(=O)NCCN2C(C)=CC3=CC=CC=C32)=C1', y=2.6050400000000007),\n",
              "  Data(x=[30, 30], edge_index=[2, 64], edge_attr=[64, 11], smiles='CC1=CC=CC(C2=NOC(CN(C)C(=O)C(C)OC3=CC(C)=CC=C3C(C)C)=N2)=C1', y=4.902740000000005),\n",
              "  Data(x=[24, 30], edge_index=[2, 50], edge_attr=[50, 11], smiles='CCCC1=NN=C(NC(=O)CCC(=O)NC2=CC=CC=C2OC)S1', y=2.856600000000001),\n",
              "  Data(x=[27, 30], edge_index=[2, 54], edge_attr=[54, 11], smiles='COC(=O)C(CCS)NC(=O)C(CC1=CC=CC=C1)NC(=O)OC(C)(C)C', y=2.1000999999999994),\n",
              "  Data(x=[33, 30], edge_index=[2, 70], edge_attr=[70, 11], smiles='CSC1=CC=CC(N(CC2=CC=C(C(=O)NCCOCC3=CC=CC=C3)C=C2)S(C)(=O)=O)=C1', y=4.3213000000000035),\n",
              "  Data(x=[25, 30], edge_index=[2, 54], edge_attr=[54, 11], smiles='CC1=CC(S(=O)(=O)N2CCCC2C(=O)N2CCOCC2)=C(C)C=C1Cl', y=1.96874),\n",
              "  Data(x=[31, 30], edge_index=[2, 68], edge_attr=[68, 11], smiles='O=C(CN1CC(C(=O)N2CCOCC2)OC2=CC=CC=C21)NCCC1=CC=CC(Cl)=C1', y=2.1251000000000007),\n",
              "  Data(x=[27, 30], edge_index=[2, 60], edge_attr=[60, 11], smiles='COC1=CC=C(CNC(=O)N2CCC(C3=NC4=CC=CN=C4N3C)C2)C=C1', y=2.676000000000001),\n",
              "  Data(x=[24, 30], edge_index=[2, 52], edge_attr=[52, 11], smiles='CSCCN1CCN(CC2=C[NH]N=C2C2=CC(C)=CC=C2C)CC1', y=3.1741400000000013),\n",
              "  Data(x=[32, 30], edge_index=[2, 70], edge_attr=[70, 11], smiles='CNC(=O)CN1C2=CC=CC=C2C(=O)N(C)C1C1=CC=C(C2=CC=C(Cl)C=C2[N+](=O)[O-])O1', y=3.8450000000000024),\n",
              "  Data(x=[26, 30], edge_index=[2, 60], edge_attr=[60, 11], smiles='CN1C=C(C[NH+]2CCC3OC4C5=CC=CC=C5OC(C)(C)C4CC32)C=N1', y=1.8946999999999992),\n",
              "  Data(x=[23, 30], edge_index=[2, 52], edge_attr=[52, 11], smiles='C1=COC(CN2CC(OCC3=CC=NC=C3)C3OCCCC32)=C1', y=2.6232000000000006),\n",
              "  Data(x=[25, 30], edge_index=[2, 56], edge_attr=[56, 11], smiles='O=C1CCC2=CC(S(=O)(=O)NCC3=CC=CC=C3)=CC3=C2N1CCC3', y=2.390500000000001),\n",
              "  Data(x=[27, 30], edge_index=[2, 56], edge_attr=[56, 11], smiles='CC(C)C(NC(=O)C1=CC=C([N+](=O)[O-])C=C1Cl)C(=O)N(C)CC1=CSC=C1', y=3.7227000000000023),\n",
              "  Data(x=[25, 30], edge_index=[2, 56], edge_attr=[56, 11], smiles='COC1=CC=C2CCC3(CCN(CC4=CC=NC=C4)C3)NC(=O)C2=C1', y=2.4109),\n",
              "  Data(x=[31, 30], edge_index=[2, 68], edge_attr=[68, 11], smiles='CCOC1=CC=C(C2C(C(=O)C3=CC=C(C)C=C3)=C(O)C(=O)N2CC2=CC=CO2)C=C1', y=4.765220000000004),\n",
              "  Data(x=[19, 30], edge_index=[2, 40], edge_attr=[40, 11], smiles='CCC1=NN(C)C=C1C[NH2+]CC1=CC=C(C)C(Cl)=C1', y=2.2079200000000005),\n",
              "  Data(x=[32, 30], edge_index=[2, 68], edge_attr=[68, 11], smiles='CC(=O)C1CCCN(C(=O)C2=CC(NS(=O)(=O)N(C)C)=CC3=C2N(C)C(CC(C)C)=N3)C1', y=2.4313000000000002),\n",
              "  Data(x=[27, 30], edge_index=[2, 58], edge_attr=[58, 11], smiles='CC(=O)NC1=CC=C(OS(=O)(=O)C2=CC=CC([N+](=O)[O-])=C2)C2=CC=CC=C12', y=3.4741000000000017),\n",
              "  Data(x=[24, 30], edge_index=[2, 50], edge_attr=[50, 11], smiles='CC1=CC=CC(N(CC(=O)NC(C)C2=CC=CC=C2)S(C)(=O)=O)=C1', y=2.638420000000001),\n",
              "  Data(x=[28, 30], edge_index=[2, 60], edge_attr=[60, 11], smiles='CC(C)NS(=O)(=O)C1=CC=C(SC2=NC(C3=CC=CC=C3)=N[NH]2)C([N+](=O)[O-])=C1', y=3.2178000000000013),\n",
              "  Data(x=[20, 30], edge_index=[2, 44], edge_attr=[44, 11], smiles='COC(C(=O)O)C1=CC2=CC=CC3=C2N(CCC3)C1=O', y=1.7198),\n",
              "  Data(x=[21, 30], edge_index=[2, 44], edge_attr=[44, 11], smiles='COC1=CC=C(C[NH2+]C2CCN(S(C)(=O)=O)CC2C)C=C1', y=0.428600000000001),\n",
              "  Data(x=[25, 30], edge_index=[2, 54], edge_attr=[54, 11], smiles='CC(CN1CCCC1=O)NC(=O)N1CCCC1C=CC1=CC=CC=C1', y=2.8847000000000014),\n",
              "  Data(x=[33, 30], edge_index=[2, 72], edge_attr=[72, 11], smiles='CC1CCC[NH+](CCCNC(=O)CN2C(=O)C(=CC3=CC=CC=C3F)SC3=CC=CC=C32)C1', y=3.1266000000000034),\n",
              "  Data(x=[30, 30], edge_index=[2, 66], edge_attr=[66, 11], smiles='CCN1CCN(C(C2=CC=CC(OC)=C2OC)C2=NN=NN2CC2=CC=CO2)CC1', y=2.058499999999999),\n",
              "  Data(x=[22, 30], edge_index=[2, 50], edge_attr=[50, 11], smiles='O=C1C=C(CSC2=N[NH]C(C3=CC=CS3)=N2)N=C2SC=CN12', y=2.8949000000000007),\n",
              "  Data(x=[32, 30], edge_index=[2, 68], edge_attr=[68, 11], smiles='COC1=CC(C=C2SC(=S)N(NC(=O)C3=CC=CS3)C2=O)=CC=C1OCC(=O)OC(C)C', y=3.633300000000003),\n",
              "  Data(x=[32, 30], edge_index=[2, 72], edge_attr=[72, 11], smiles='COC1=CC=C(C2=C(NC3=CC=C(C(=O)N4CCCCC4)C=C3)N3C=CN=CC3=N2)C=C1', y=4.774600000000003),\n",
              "  Data(x=[30, 30], edge_index=[2, 64], edge_attr=[64, 11], smiles='CCCCN1C(SCC(=O)NC2=CC(OC)=CC(OC)=C2)=NN=C1C1=C(C)OC=C1', y=4.394620000000003),\n",
              "  Data(x=[28, 30], edge_index=[2, 62], edge_attr=[62, 11], smiles='COC1=CC=C(C2=CC(N3CCN(C(=O)C4=CC=CC=C4C)CC3)=N[NH]2)C=C1', y=3.3561200000000015),\n",
              "  Data(x=[29, 30], edge_index=[2, 60], edge_attr=[60, 11], smiles='COC1=CC=CC(N(C(C)C(=O)NC2=CC(OC)=C(Cl)C=C2OC)S(C)(=O)=O)=C1', y=3.1590000000000016),\n",
              "  Data(x=[18, 30], edge_index=[2, 40], edge_attr=[40, 11], smiles='COC1=CC=C(NC2=NC=NC3=C2N=C[NH]3)C=C1', y=2.1050999999999993),\n",
              "  Data(x=[29, 30], edge_index=[2, 64], edge_attr=[64, 11], smiles='CC1=CC=C(CCNC(=O)C2=C3CCCCCN3C(C3=CC=C(C)C=C3)=N2)C=C1', y=4.865840000000004),\n",
              "  Data(x=[18, 30], edge_index=[2, 38], edge_attr=[38, 11], smiles='O=C(O)CCC1CCCN(C(=O)C2=NSN=C2)C1', y=1.2551),\n",
              "  Data(x=[27, 30], edge_index=[2, 60], edge_attr=[60, 11], smiles='O=C(C1=N[NH]C(C2CCCCN2C(=O)C2=CC=CN=C2)=C1)N1CCOCC1', y=1.6445),\n",
              "  Data(x=[23, 30], edge_index=[2, 48], edge_attr=[48, 11], smiles='COCCC1(C(=O)O)CCC[NH+](CC2=CN=C(COC)N=C2)C1', y=-0.09079999999999755),\n",
              "  Data(x=[23, 30], edge_index=[2, 46], edge_attr=[46, 11], smiles='CC1=CC=C(NC(=S)NC(NC(=O)C(C)C)C(Cl)(Cl)Cl)C(C)=C1', y=4.058340000000002),\n",
              "  Data(x=[23, 30], edge_index=[2, 50], edge_attr=[50, 11], smiles='CC[NH+]1CCCC1CNC(=O)CC1(N2C=CC=C2)CCCCC1', y=1.7210000000000003),\n",
              "  Data(x=[31, 30], edge_index=[2, 66], edge_attr=[66, 11], smiles='CCOC1=CC=C(N2C(=O)CCS2(=O)=O)C=C1S(=O)(=O)NC1=CC=C(OC)C=C1OC', y=1.9698),\n",
              "  Data(x=[27, 30], edge_index=[2, 58], edge_attr=[58, 11], smiles='CC1=NOC(C)=C1CCC(=O)NC1=CC=CC(S(=O)(=O)N2CCCCC2)=C1', y=3.0373400000000013),\n",
              "  Data(x=[27, 30], edge_index=[2, 60], edge_attr=[60, 11], smiles='COC1=CC=C2C(=C1)C=C(C)C1=NN=C(SCC(=O)N3CCCC(C)C3)N12', y=3.5501200000000024),\n",
              "  Data(x=[31, 30], edge_index=[2, 68], edge_attr=[68, 11], smiles='O=C1NC2=CC(C(F)(F)F)=CC=C2SC1CC(=O)N1CCN(C2=CC=CC=C2O)CC1', y=3.562700000000002),\n",
              "  Data(x=[18, 30], edge_index=[2, 38], edge_attr=[38, 11], smiles='CC1(NC(=O)C2=N[NH]C(=O)C=C2)CCS(=O)(=O)C1', y=-0.9230999999999998),\n",
              "  Data(x=[29, 30], edge_index=[2, 64], edge_attr=[64, 11], smiles='CC1=CC=C(N2N=CC3=C2N=CN(CC(=O)NC2=CC=C(C)C=C2C)C3=O)C=C1', y=3.146160000000002),\n",
              "  Data(x=[24, 30], edge_index=[2, 52], edge_attr=[52, 11], smiles='O=C(CNC(=O)C1=CC=CO1)NC1CCC(C2=CC=CC=C2)CC1', y=2.852000000000001),\n",
              "  Data(x=[27, 30], edge_index=[2, 58], edge_attr=[58, 11], smiles='CC(C1=CC=CC=C1)N1C=C(C(=O)C2=CC(Br)=CC=C2O)C=C(C#N)C1=O', y=4.028380000000003),\n",
              "  Data(x=[25, 30], edge_index=[2, 52], edge_attr=[52, 11], smiles='CC(C)OC1=CC=CC(C(C)NC(=O)CN2C=CC(=O)N(C)C2=O)=C1', y=1.2115999999999998),\n",
              "  Data(x=[32, 30], edge_index=[2, 70], edge_attr=[70, 11], smiles='CC1=CC=C(S(=O)(=O)N2CCN(C3=CC(OC4=CC=C(F)C(F)=C4)=NC=N3)CC2C)C=C1', y=3.754920000000003),\n",
              "  Data(x=[28, 30], edge_index=[2, 62], edge_attr=[62, 11], smiles='CC1=C(CC(=O)N2CC3(C)CC2CC(C)(C)C3)C(=O)OC2=CC(O)=CC(O)=C12', y=3.4823200000000027),\n",
              "  Data(x=[25, 30], edge_index=[2, 54], edge_attr=[54, 11], smiles='O=C(O)C1=CC=C(C(=O)N2CCC(C(O)C3=CC=C(Cl)C=C3)CC2)S1', y=3.685500000000003),\n",
              "  Data(x=[18, 30], edge_index=[2, 40], edge_attr=[40, 11], smiles='O=C1C2=CC=NC=C2N=CN1CCOCC1CC1', y=1.2181),\n",
              "  Data(x=[25, 30], edge_index=[2, 54], edge_attr=[54, 11], smiles='COC1=CC=C(NC(=O)CN2C(=O)NC(C)(C3CC3)C2=O)C=C1OC', y=1.3627999999999993),\n",
              "  Data(x=[22, 30], edge_index=[2, 50], edge_attr=[50, 11], smiles='CC1=CC(C2CCCCN2CC2=NC3=CC=CC=C3[NH]2)=NO1', y=3.586520000000002),\n",
              "  Data(x=[30, 30], edge_index=[2, 64], edge_attr=[64, 11], smiles='CC1=CC=C(C)C(N(CC(=O)NCC2=CC=CC3=CC=CC=C23)S(=O)(=O)N(C)C)=C1', y=3.3858400000000017),\n",
              "  Data(x=[27, 30], edge_index=[2, 60], edge_attr=[60, 11], smiles='COC1=CC=CC(OCC2=NC3=CC=CC=C3N2CC2=CC=C(F)C=C2)=C1', y=4.811300000000004),\n",
              "  Data(x=[25, 30], edge_index=[2, 56], edge_attr=[56, 11], smiles='N#CC1(N2CCC3(CC2)OCCO3)CC[NH+](CC2=CC=CC=C2)CC1', y=0.9665800000000007),\n",
              "  Data(x=[23, 30], edge_index=[2, 52], edge_attr=[52, 11], smiles='OC1=CC=C(C2=NN3C(=NN=C3C3CCCCC3)SC2)C=C1O', y=3.0951000000000026),\n",
              "  Data(x=[25, 30], edge_index=[2, 54], edge_attr=[54, 11], smiles='CCS(=O)(=O)C1=CC=C(CC(=O)NC2=NN=C(C3=CC=CS3)O2)C=C1', y=2.772900000000001),\n",
              "  Data(x=[23, 30], edge_index=[2, 54], edge_attr=[54, 11], smiles='CCOC1=CC=C(N2C(=O)C3C4C=CC(C5CC45)C3C2=O)C=C1', y=2.642800000000001),\n",
              "  Data(x=[26, 30], edge_index=[2, 58], edge_attr=[58, 11], smiles='CC1=NN2C(=C1C1=CC=C(F)C=C1)N=NC1=C2C=CN(NC(N)=S)C1=O', y=1.3408199999999995),\n",
              "  Data(x=[28, 30], edge_index=[2, 62], edge_attr=[62, 11], smiles='CCCN1C(C[NH+]2CCC(C)CC2)=NC2=CC(NC(=O)C3=CC=CO3)=CC=C21', y=3.1064000000000007),\n",
              "  Data(x=[34, 30], edge_index=[2, 72], edge_attr=[72, 11], smiles='COC1=CC=C(CNC(=O)C(C)OC(=O)C2CCN(S(=O)(=O)C3=CC=C(C)C=C3C)CC2)C=C1', y=2.96084),\n",
              "  Data(x=[18, 30], edge_index=[2, 38], edge_attr=[38, 11], smiles='CNC(=O)C1CC2=CC(OC)=C(OC)C=C2C[NH2+]1', y=-0.5620999999999994),\n",
              "  Data(x=[19, 30], edge_index=[2, 42], edge_attr=[42, 11], smiles='COC1=CC=CC(N2C(=O)C3CCCCC3C2=O)=C1', y=2.3748000000000005),\n",
              "  Data(x=[12, 30], edge_index=[2, 24], edge_attr=[24, 11], smiles='O=C1[NH]C(C(F)F)=C(I)C(=O)[NH]1', y=0.6053999999999999),\n",
              "  Data(x=[32, 30], edge_index=[2, 68], edge_attr=[68, 11], smiles='CCOC(=O)CNC(=O)C1=C(C)C2=C(N=CN(CC(=O)NC3=CC=CC=C3OC)C2=O)S1', y=1.7066199999999996),\n",
              "  Data(x=[33, 30], edge_index=[2, 72], edge_attr=[72, 11], smiles='CCC1=CC=C(NS(=O)(=O)C2=CC(C3=NN(C4=C(C)ON=C4C)C(=O)C=C3)=CC=C2C)C=C1', y=4.1759600000000034),\n",
              "  Data(x=[17, 30], edge_index=[2, 38], edge_attr=[38, 11], smiles='C[NH+]1CCCCC1C(=O)N1CC2CCCC2C1', y=0.31210000000000027),\n",
              "  Data(x=[21, 30], edge_index=[2, 46], edge_attr=[46, 11], smiles='CCOCC1CN(CC(=O)N2CCCC2)CC2=CC=NN21', y=0.8986999999999998),\n",
              "  Data(x=[20, 30], edge_index=[2, 44], edge_attr=[44, 11], smiles='CN(C)C(=O)N1CC2CN(C3=CC=CC=C3)C(=O)C2C1', y=1.2628),\n",
              "  Data(x=[28, 30], edge_index=[2, 60], edge_attr=[60, 11], smiles='COC1=CC=CC=C1C=CCN1CCNC(=O)C1CC(=O)N1CCC(C)CC1', y=2.157399999999999),\n",
              "  Data(x=[21, 30], edge_index=[2, 48], edge_attr=[48, 11], smiles='C[NH+]1CCCC(C(=O)C2=CC=C3CCC4=C3C2=CC=C4)C1', y=2.0458),\n",
              "  Data(x=[27, 30], edge_index=[2, 60], edge_attr=[60, 11], smiles='O=C(NCC[NH+]1CCC(C2=CC=CC=C2)C1)C1=CC=C(N2C=NN=C2)N=C1', y=0.46450000000000036),\n",
              "  Data(x=[31, 30], edge_index=[2, 70], edge_attr=[70, 11], smiles='COC1=CC=CC=C1C[NH+]1CCC2=C(C1)C(=O)[NH]C(C1CCN(C(=O)C3CC3C)C1)=N2', y=0.8916000000000011),\n",
              "  Data(x=[25, 30], edge_index=[2, 54], edge_attr=[54, 11], smiles='CC1=CC=C(C)C(OC2=C(N)C=C(C#N)N2CC2=CC=C(F)C=C2)=C1', y=4.538520000000003),\n",
              "  Data(x=[27, 30], edge_index=[2, 58], edge_attr=[58, 11], smiles='O=C(NCCN1C(=O)SC(=CC2=CC=C(Cl)C=C2Cl)C1=O)C1=COCCO1', y=3.0341000000000014),\n",
              "  Data(x=[18, 30], edge_index=[2, 38], edge_attr=[38, 11], smiles='O=C(NC1(C(=O)O)CCCCC1)C1=CC=CC=C1', y=2.2039),\n",
              "  Data(x=[29, 30], edge_index=[2, 62], edge_attr=[62, 11], smiles='CN(C)S(=O)(=O)C1=CC=C2C(=C1)CCN2S(=O)(=O)C1=CC=C(C=CC(=O)O)C=C1', y=1.7861),\n",
              "  Data(x=[16, 30], edge_index=[2, 32], edge_attr=[32, 11], smiles='COC1=CC=CC(C=CC(=O)N(C)OC)=C1', y=1.7282),\n",
              "  Data(x=[31, 30], edge_index=[2, 66], edge_attr=[66, 11], smiles='CC(NS(=O)(=O)C1=CC=C(Cl)C=C1)C(=O)NC1=CC=C(Cl)C=C1C(=O)C1=CC=CC=C1', y=4.529900000000003),\n",
              "  Data(x=[28, 30], edge_index=[2, 60], edge_attr=[60, 11], smiles='COC1=CC=C(C=C2SC(=NN=CC3=CC=CC([N+](=O)[O-])=C3)NC2=O)C=C1Br', y=3.959900000000002),\n",
              "  Data(x=[29, 30], edge_index=[2, 66], edge_attr=[66, 11], smiles='O=C(CCN1C(=O)C2=CC=CC3=CC=CC(=C23)C1=O)NC1=CC=C2OCOC2=C1', y=3.1933000000000016),\n",
              "  Data(x=[18, 30], edge_index=[2, 36], edge_attr=[36, 11], smiles='COC1=CC=C(CS(=O)(=O)CCCC#N)C=C1F', y=2.05288),\n",
              "  Data(x=[21, 30], edge_index=[2, 44], edge_attr=[44, 11], smiles='CC(CN1CCOCC1)OC(=O)C1=CN=C(C(C)(C)C)S1', y=2.3180999999999994),\n",
              "  Data(x=[26, 30], edge_index=[2, 56], edge_attr=[56, 11], smiles='COC1=CC=C(C)C=C1S(=O)(=O)C1CS(=O)(=O)CC1NCC1CCCO1', y=0.7115199999999999),\n",
              "  Data(x=[30, 30], edge_index=[2, 64], edge_attr=[64, 11], smiles='CCOC1=CC=C(NS(=O)(=O)C2=CC(NC(=O)C3=C(C)ON=C3C)=CC=C2Cl)C=C1', y=4.396640000000003),\n",
              "  Data(x=[26, 30], edge_index=[2, 58], edge_attr=[58, 11], smiles='O=C(CN1C=NC2=C(SN=C2C2=CC=CC=C2)C1=O)NC1CCCCC1', y=2.9689000000000014),\n",
              "  Data(x=[20, 30], edge_index=[2, 42], edge_attr=[42, 11], smiles='CCC(CN1C=CN=C1)NC(=O)C1=CC(=O)C=C(C)O1', y=1.35332),\n",
              "  Data(x=[16, 30], edge_index=[2, 36], edge_attr=[36, 11], smiles='CC1=CC=C(C2(C3=CC=CC=C3)CO2)C=C1', y=3.2688200000000016),\n",
              "  Data(x=[18, 30], edge_index=[2, 38], edge_attr=[38, 11], smiles='CC(=O)C1=CC(C(=O)O)=CC=C1OC1CCCC1', y=2.908800000000001),\n",
              "  Data(x=[23, 30], edge_index=[2, 48], edge_attr=[48, 11], smiles='CC1=C(C)C(=O)N(CC(O)COC2=CC=CC=C2C(C)C)C=N1', y=2.423440000000001),\n",
              "  Data(x=[16, 30], edge_index=[2, 34], edge_attr=[34, 11], smiles='O=C1NCCOC2=C1C=C(Br)C=C2S(=O)O', y=1.1519000000000004),\n",
              "  Data(x=[17, 30], edge_index=[2, 36], edge_attr=[36, 11], smiles='CCCC[NH2+]CC1=CC=C(C2=CC=CC=C2)O1', y=2.810100000000001),\n",
              "  Data(x=[28, 30], edge_index=[2, 60], edge_attr=[60, 11], smiles='COC1=CC=CC(CNC(=O)C2=CSC(NC(=O)C3=CC=C(Cl)C(Cl)=C3)=N2)=C1', y=4.640800000000003),\n",
              "  Data(x=[27, 30], edge_index=[2, 58], edge_attr=[58, 11], smiles='COC1=CC=C(Br)C=C1C=NN=C1SC(C)C(=O)N1CC1=CC=C(F)C=C1', y=4.450800000000004),\n",
              "  Data(x=[29, 30], edge_index=[2, 62], edge_attr=[62, 11], smiles='CN(CCCNC(=O)C1CC[NH+](CC2=CC=C(Cl)C(Cl)=C2)CC1)C1=CC=CC=C1', y=3.4310000000000027),\n",
              "  Data(x=[24, 30], edge_index=[2, 52], edge_attr=[52, 11], smiles='CCC(CC)C1=CC=[N+](CC2=NC3=CC(Cl)=CC=C3C(=O)[NH]2)C=C1', y=3.8159000000000027),\n",
              "  Data(x=[33, 30], edge_index=[2, 70], edge_attr=[70, 11], smiles='COC1=CC=C([N+](=O)[O-])C=C1NC(=O)CN(C1=CC=CC(C)=C1)S(=O)(=O)C1=CC=C(Cl)C=C1', y=4.399220000000003),\n",
              "  Data(x=[17, 30], edge_index=[2, 36], edge_attr=[36, 11], smiles='COC1=CC=NC(NC(=O)C2CCC(C)O2)=C1', y=1.5961999999999996),\n",
              "  Data(x=[25, 30], edge_index=[2, 54], edge_attr=[54, 11], smiles='CC1=C(CC(=O)NC(C2=CC=C(F)C=C2F)C2CC(O)C2)C(=O)[NH][NH]1', y=1.4605199999999998),\n",
              "  Data(x=[35, 30], edge_index=[2, 74], edge_attr=[74, 11], smiles='CCC(C)(C(=O)NC1CCCCC1)N(C(=O)CNC(C)=O)C1=C(C)N(C)N(C2=CC=CC=C2)C1=O', y=2.5711199999999996),\n",
              "  Data(x=[24, 30], edge_index=[2, 50], edge_attr=[50, 11], smiles='N#CC1=C(F)C=CC=C1NCC1=CC=C(C(=O)NCC(N)=O)C=C1', y=1.52458),\n",
              "  Data(x=[25, 30], edge_index=[2, 56], edge_attr=[56, 11], smiles='CC1=CC(C(=O)OC2C3CCCOC3C2(C)C)=C2C(C)=NN(C)C2=N1', y=2.945540000000001),\n",
              "  Data(x=[31, 30], edge_index=[2, 68], edge_attr=[68, 11], smiles='CC1=CC=C(C2=CC(C(=O)N3CCCCC3C(=O)NCC3=CC=CN=C3)=NO2)C=C1C', y=3.6645400000000015),\n",
              "  Data(x=[23, 30], edge_index=[2, 50], edge_attr=[50, 11], smiles='CC1=CC(=O)OC2=CC(OCC[NH+]3CCCCC3CO)=CC=C12', y=0.9099200000000001),\n",
              "  Data(x=[20, 30], edge_index=[2, 44], edge_attr=[44, 11], smiles='CCC1CN2CCC1CC2CNS(=O)(=O)C1=CC=CS1', y=2.1468),\n",
              "  Data(x=[33, 30], edge_index=[2, 74], edge_attr=[74, 11], smiles='CC12CCC(=NOCC(=O)NCC3=CC=CC=N3)C=C1CCC1C2CCC2(C)C(O)CCC12', y=4.394100000000004),\n",
              "  Data(x=[24, 30], edge_index=[2, 54], edge_attr=[54, 11], smiles='CCOC1=CC=C(C2NC(=O)C3=C(N2)SC2=C3CC[NH+](C)C2)C=C1', y=1.5716999999999997),\n",
              "  Data(x=[29, 30], edge_index=[2, 62], edge_attr=[62, 11], smiles='COC1=CC(C=NNC(=N)C2NC3CCCCC3N(O)C2N)=CC([N+](=O)[O-])=C1O', y=0.46877000000000063),\n",
              "  Data(x=[21, 30], edge_index=[2, 46], edge_attr=[46, 11], smiles='COC1=CC=CC(C2C(C(C)=O)C(C)=NC3=NC=NN32)=C1', y=2.1872999999999996),\n",
              "  Data(x=[21, 30], edge_index=[2, 44], edge_attr=[44, 11], smiles='CC(C)CSC1=NN=C(NC(=O)COC2=CC=CC=C2)S1', y=3.303700000000002),\n",
              "  Data(x=[24, 30], edge_index=[2, 50], edge_attr=[50, 11], smiles='CCNC1=NC(NCC)=NC(N(C#N)CCOC2=CC=CC=C2)=N1', y=2.10168),\n",
              "  Data(x=[11, 30], edge_index=[2, 22], edge_attr=[22, 11], smiles='COC1=CC=C(C=O)C(Br)=N1', y=1.6652),\n",
              "  Data(x=[28, 30], edge_index=[2, 60], edge_attr=[60, 11], smiles='CCOC(=O)C1=C(C)[NH]C(C(=O)C(C)N2CCN(CC3=CSC=C3)CC2)=C1C', y=3.258740000000002),\n",
              "  Data(x=[24, 30], edge_index=[2, 50], edge_attr=[50, 11], smiles='C=CCN(CC=C)S(=O)(=O)C1=CC(C)=C2C(=C1)C(C)(C)C(=O)N2C', y=2.611720000000001),\n",
              "  Data(x=[21, 30], edge_index=[2, 46], edge_attr=[46, 11], smiles='CC[NH+]1CCCC2(CCC(=O)N(CCC3=CN=C[NH]3)C2)C1', y=0.25960000000000144),\n",
              "  Data(x=[21, 30], edge_index=[2, 44], edge_attr=[44, 11], smiles='COC1=CC=C(CCNC(=O)C=CC2=CC=C(Br)O2)C=C1', y=3.4228000000000014),\n",
              "  Data(x=[19, 30], edge_index=[2, 42], edge_attr=[42, 11], smiles='COC1=CC=C(N2C(=O)CSC3=CC=CC=C32)C=C1', y=3.465600000000002),\n",
              "  Data(x=[35, 30], edge_index=[2, 76], edge_attr=[76, 11], smiles='CC1=CC=C(C2=NN(CC(=O)N(C3=CC=CC=C3)C(C(=O)NC(C)(C)C)C3=CC=CS3)N=N2)C=C1', y=4.399220000000003),\n",
              "  Data(x=[32, 30], edge_index=[2, 72], edge_attr=[72, 11], smiles='COC1=CC=C2C=C(C3=N[NH]C=C3C[NH+]3CCCC(C(=O)C4=CC=CN=C4)C3)C=CC2=C1', y=3.311300000000002),\n",
              "  Data(x=[27, 30], edge_index=[2, 58], edge_attr=[58, 11], smiles='CCOC(=O)C1=C(NC(C)=O)SC2=C1CCC(SC1=CC=CC=C1)C2=NO', y=4.168600000000002),\n",
              "  Data(x=[27, 30], edge_index=[2, 62], edge_attr=[62, 11], smiles='C[NH+]1CCC2=C([NH]C3=CC=CC=C23)C12CCN(C(=O)C1=CC=CN=C1)CC2', y=1.7651999999999994),\n",
              "  Data(x=[28, 30], edge_index=[2, 64], edge_attr=[64, 11], smiles='CC1=CC2=C(C(=O)N3CCCC4(C3)C(=O)N(C)C3=CC=CC=C34)[NH]N=C2C=C1', y=3.021720000000001),\n",
              "  Data(x=[25, 30], edge_index=[2, 52], edge_attr=[52, 11], smiles='COC1=CC=C(Cl)C=C1C(=O)NCCCC1=CC=C(OC(C)C)C=C1', y=4.498400000000004),\n",
              "  Data(x=[20, 30], edge_index=[2, 42], edge_attr=[42, 11], smiles='CCC1=CC=CC(OC2CN(C(=O)C(N)C(C)O)C2)=C1', y=0.5467000000000002),\n",
              "  Data(x=[26, 30], edge_index=[2, 56], edge_attr=[56, 11], smiles='CCC(C)NC(=O)C1CCCN(C(=O)C2=CC(C3=CC=CC=N3)=N[NH]2)C1', y=2.2386),\n",
              "  Data(x=[32, 30], edge_index=[2, 68], edge_attr=[68, 11], smiles='FC(F)OC1=CC=C(NC(=S)N2CCN(C(=S)NC3=CC=C(OC(F)F)C=C3)CC2)C=C1', y=4.600800000000002),\n",
              "  Data(x=[27, 30], edge_index=[2, 60], edge_attr=[60, 11], smiles='CC(OC1=CC=CC=C1)C(=O)NCC1=NN(C2CCCC2)C2=C1COCC2', y=3.154600000000002),\n",
              "  Data(x=[27, 30], edge_index=[2, 58], edge_attr=[58, 11], smiles='CN(CC#N)CN1C(=O)NC(CC2=CC=CC=C2)(CC2=CC=CC=C2)C1=O', y=2.17528),\n",
              "  Data(x=[30, 30], edge_index=[2, 66], edge_attr=[66, 11], smiles='CN(C)CCN1C(=O)C(O)=C(C(=O)C2=CC3=CC=CC=C3O2)C1C1=CC=CC=C1F', y=3.711800000000001),\n",
              "  Data(x=[26, 30], edge_index=[2, 58], edge_attr=[58, 11], smiles='CC1=NN(CC2=N[NH]C(C(=O)NCC3=NC4=CC=CC=C4O3)=C2)C(C)=C1', y=2.3425399999999996),\n",
              "  Data(x=[27, 30], edge_index=[2, 60], edge_attr=[60, 11], smiles='CCC1=NC2=CC=CC=C2C(=O)N1CC(=O)NCC1=CC=C2OCOC2=C1', y=2.0039999999999996),\n",
              "  Data(x=[16, 30], edge_index=[2, 34], edge_attr=[34, 11], smiles='CC[NH+]1CCN(C2=CC=CC=C2OC)CC1', y=0.4200000000000004),\n",
              "  Data(x=[24, 30], edge_index=[2, 50], edge_attr=[50, 11], smiles='COC1=CC=CC(C(O)CNC(=O)C2CCCCC2C(F)(F)F)=C1', y=3.2135000000000016),\n",
              "  Data(x=[30, 30], edge_index=[2, 66], edge_attr=[66, 11], smiles='CC1=CC=C(C)C(C2=CSC(NC(=O)C3=CC=C(S(=O)(=O)N(C)C4CC4)C=C3)=N2)=C1', y=4.462140000000003),\n",
              "  Data(x=[23, 30], edge_index=[2, 50], edge_attr=[50, 11], smiles='COC1=CC=C(C=NN2C(C3=CC=C(C)C=C3)=N[NH]C2=S)C=C1', y=3.806910000000002),\n",
              "  Data(x=[19, 30], edge_index=[2, 42], edge_attr=[42, 11], smiles='CC1=NC(CC(=O)NC2COC3(CCCC3)C2)=CS1', y=2.211919999999999),\n",
              "  Data(x=[20, 30], edge_index=[2, 40], edge_attr=[40, 11], smiles='CCC(C)C(=O)C(C#N)C(=O)NCCC1=CC=CC=C1', y=2.1002799999999997),\n",
              "  Data(x=[30, 30], edge_index=[2, 66], edge_attr=[66, 11], smiles='O=C(CN1C(=O)N(CC2=CC=CC=N2)C(=O)C2=NC=CC=C21)NC1=CC=C(Cl)C=C1', y=2.2935999999999988),\n",
              "  Data(x=[23, 30], edge_index=[2, 48], edge_attr=[48, 11], smiles='COC1=CC(OC)=C(C=NOCC2=CC=CC=C2C#N)C=C1Br', y=3.8886800000000035),\n",
              "  Data(x=[29, 30], edge_index=[2, 64], edge_attr=[64, 11], smiles='COC1=CC=C(C(=O)C2=C(NC(=O)C3=C(C)N=NS3)C3=CC=CC=C3O2)C=C1Br', y=4.847120000000002),\n",
              "  Data(x=[25, 30], edge_index=[2, 54], edge_attr=[54, 11], smiles='CCOC1CC(NC(=O)C2=CN=CC3=CC=CC=C23)(C(=O)O)C1(C)C', y=2.623000000000001),\n",
              "  Data(x=[27, 30], edge_index=[2, 58], edge_attr=[58, 11], smiles='CN(C)C(C(=O)NCC1=CC=C(N2CCCC2=O)C=C1)C1=CC=CC=C1F', y=2.871600000000001),\n",
              "  Data(x=[28, 30], edge_index=[2, 62], edge_attr=[62, 11], smiles='O=C1C2=CC=CC=C2C(C2=CC=C(F)C=C2)=NN1C1=CC(Cl)=CC=C1[N+](=O)[O-]', y=4.753400000000003),\n",
              "  Data(x=[23, 30], edge_index=[2, 50], edge_attr=[50, 11], smiles='CCOC1=CC=C2C=C(CNC3=CC=C(C)C=C3)C(=O)[NH]C2=C1', y=3.8473200000000016),\n",
              "  Data(x=[22, 30], edge_index=[2, 50], edge_attr=[50, 11], smiles='O=C1NN=C(C2=CC=CC=C2)CC1C1=C[NH]C2=CC=CC=C12', y=3.175700000000001),\n",
              "  Data(x=[24, 30], edge_index=[2, 52], edge_attr=[52, 11], smiles='CCCC1=NC(C2CN(C(=O)CCCN3C=CC=N3)CCO2)=N[NH]1', y=1.3339999999999999),\n",
              "  Data(x=[22, 30], edge_index=[2, 48], edge_attr=[48, 11], smiles='CC1=CC=CC(NCC2CC[NH+](CCN3CCCC3=O)C2)=[NH+]1', y=-0.2517799999999974),\n",
              "  Data(x=[16, 30], edge_index=[2, 32], edge_attr=[32, 11], smiles='COC(=O)C(C)CN(C(=O)N(C)C)C1CC1', y=0.9414999999999996),\n",
              "  Data(x=[28, 30], edge_index=[2, 60], edge_attr=[60, 11], smiles='CC1=CC=C2C(=C1)OC(C)(C)CC2NC(=S)NC1=CC=C(C(=O)N(C)C)C=C1', y=4.285620000000002),\n",
              "  Data(x=[25, 30], edge_index=[2, 56], edge_attr=[56, 11], smiles='CC1=NC2=CC=C(NC(=O)CN3N=NN(C4=CC=CS4)C3=O)C=C2S1', y=2.0473199999999996),\n",
              "  Data(x=[28, 30], edge_index=[2, 60], edge_attr=[60, 11], smiles='O=C(O)CN1C(=O)NC(=CC2=CC(Br)=CC=C2OCC2=CC=CC=C2Cl)C1=O', y=3.658800000000002),\n",
              "  Data(x=[27, 30], edge_index=[2, 60], edge_attr=[60, 11], smiles='COC1=CC=CC(C2=CC=C(C(=O)N3CCNCC3C(=O)NC3CC3)O2)=C1', y=1.647799999999999),\n",
              "  Data(x=[18, 30], edge_index=[2, 38], edge_attr=[38, 11], smiles='[NH3+]CCC1=N[NH]C(=O)N1CC1=CC=C(Cl)C=C1Cl', y=0.7109000000000005),\n",
              "  Data(x=[20, 30], edge_index=[2, 44], edge_attr=[44, 11], smiles='CC1=CC=C(Cl)C(NC2=CC(Cl)=NC(CC3CC3)=N2)=C1', y=4.787920000000002),\n",
              "  Data(x=[24, 30], edge_index=[2, 52], edge_attr=[52, 11], smiles='CN(C)C1=NC(CCC2CCN(C(=O)C3=CC=NC=C3)CC2)=NO1', y=2.0156),\n",
              "  Data(x=[28, 30], edge_index=[2, 58], edge_attr=[58, 11], smiles='CC1=CC=C(Cl)C=C1N(C(C)C(=O)NC1=CC=CC=C1C(F)(F)F)S(C)(=O)=O', y=4.460420000000003),\n",
              "  Data(x=[27, 30], edge_index=[2, 60], edge_attr=[60, 11], smiles='CC1CC(C)C[NH+](CC2=NC(C3=CC=CN=C3OC3CCCCC3)=NO2)C1', y=2.903900000000001),\n",
              "  Data(x=[26, 30], edge_index=[2, 56], edge_attr=[56, 11], smiles='CC(=O)N1CC(C)SC2=CC=C(S(=O)(=O)NC3=CC=C(Br)C=C3F)C=C21', y=4.236100000000003),\n",
              "  Data(x=[15, 30], edge_index=[2, 32], edge_attr=[32, 11], smiles='O=C(O)C[NH+]1CCC(O)C(CC2CC2)C1', y=-0.8631999999999995),\n",
              "  Data(x=[28, 30], edge_index=[2, 60], edge_attr=[60, 11], smiles='O=C(NCC1CCN(C2=CC=C(F)C(F)=C2)C1)C1CCN(CC(F)(F)F)CC1', y=3.1816000000000013),\n",
              "  Data(x=[20, 30], edge_index=[2, 42], edge_attr=[42, 11], smiles='CC([NH2+]CC1=NC(N(C)C)=NO1)C(C)C1=CC=CC=C1', y=1.3911999999999995),\n",
              "  Data(x=[31, 30], edge_index=[2, 72], edge_attr=[72, 11], smiles='CC1=CC(C)=C2NC(=O)C3(C2=C1)C1C(=O)N(C2=CC=CC=C2Cl)C(=O)C1C1CCC[NH+]13', y=1.9709399999999997),\n",
              "  Data(x=[24, 30], edge_index=[2, 52], edge_attr=[52, 11], smiles='COC1=CC=C(C2=CC=CC(C(=O)NCC3CCOC3)=C2)C=C1F', y=3.2676000000000016),\n",
              "  Data(x=[26, 30], edge_index=[2, 58], edge_attr=[58, 11], smiles='CC1=NN2C(C)=CC(C(=O)NCC3=NC(CC4=CC=CS4)=NO3)=NC2=C1', y=2.31144),\n",
              "  Data(x=[26, 30], edge_index=[2, 58], edge_attr=[58, 11], smiles='COC1=CC=C2NC(=N[NH+]=C3CSC4=CC(OC)=CC=C4N3)CSC2=C1', y=2.2318),\n",
              "  Data(x=[18, 30], edge_index=[2, 40], edge_attr=[40, 11], smiles='OCCC1CN(CC2CC2)CC[NH+]1C1CCCC1', y=0.2905000000000013),\n",
              "  Data(x=[26, 30], edge_index=[2, 56], edge_attr=[56, 11], smiles='O=C(C1=CC=C(O)C(Cl)=C1)N1CCN(S(=O)(=O)N2CCCCCC2)CC1', y=1.9242000000000001),\n",
              "  Data(x=[20, 30], edge_index=[2, 40], edge_attr=[40, 11], smiles='CC1=CC=CC=C1CNC(=O)NCCC(=O)OC(C)C', y=2.1359199999999996),\n",
              "  Data(x=[26, 30], edge_index=[2, 56], edge_attr=[56, 11], smiles='COC1=CC=CC(C=C2CN(C)CC(=CC3=CC=CC(OC)=C3)C2=O)=C1', y=3.6853000000000025),\n",
              "  Data(x=[24, 30], edge_index=[2, 52], edge_attr=[52, 11], smiles='NS(=O)(=O)N1CCC(C(=O)OCC2=C(Cl)C3=CC=CC=C3S2)CC1', y=2.5134000000000016),\n",
              "  Data(x=[30, 30], edge_index=[2, 66], edge_attr=[66, 11], smiles='O=C(COC1=CC=C(F)C(Cl)=C1)N1CCC2=CC(S(=O)(=O)N3CCCCC3)=CC=C21', y=3.621800000000002),\n",
              "  Data(x=[25, 30], edge_index=[2, 54], edge_attr=[54, 11], smiles='CCN(CC)C(=O)COC1=CC=C2C3=C(CCCC3)C(=O)OC2=C1C', y=3.227420000000002),\n",
              "  Data(x=[24, 30], edge_index=[2, 52], edge_attr=[52, 11], smiles='CC1=C(C(=O)N2C=C(C(=O)O)C3=CC=CC=C32)C=CC=C1[N+](=O)[O-]', y=3.244620000000001),\n",
              "  Data(x=[22, 30], edge_index=[2, 46], edge_attr=[46, 11], smiles='CCC(NC(=O)CN1CCC[NH+](C)CC1)C1=CC(C)=CC=N1', y=0.17772000000000254),\n",
              "  Data(x=[20, 30], edge_index=[2, 42], edge_attr=[42, 11], smiles='NC(=O)C1CCN(CC(=O)NCC2=CC=C(Cl)S2)CC1', y=1.215),\n",
              "  Data(x=[23, 30], edge_index=[2, 50], edge_attr=[50, 11], smiles='CC1=CC=C(SCCNC(=S)NC2=CC=C3OCOC3=C2)C=C1', y=3.8024200000000024),\n",
              "  Data(x=[20, 30], edge_index=[2, 42], edge_attr=[42, 11], smiles='CCCC1C[NH+](CCCOC)CC1NC(=O)C1CCC1', y=0.6226000000000014),\n",
              "  Data(x=[27, 30], edge_index=[2, 58], edge_attr=[58, 11], smiles='CN(C1=CC=CC=C1)S(=O)(=O)C1=CC=CC(C(=O)NC2=CC=CC=C2Cl)=C1', y=4.417400000000003),\n",
              "  Data(x=[24, 30], edge_index=[2, 54], edge_attr=[54, 11], smiles='O=C(NC1=NC(C2=CC=C3OCCOC3=C2)=CS1)C1CC(O)C[NH2+]1', y=0.21639999999999987),\n",
              "  Data(x=[30, 30], edge_index=[2, 66], edge_attr=[66, 11], smiles='CCN1CCN(S(=O)(=O)C2=CC=C(NC(=O)C3CC4=CC(Cl)=CC=C4O3)C=C2)CC1', y=2.6084000000000005),\n",
              "  Data(x=[19, 30], edge_index=[2, 40], edge_attr=[40, 11], smiles='CC1CC1C(=O)NCC1=CC=C(OC(F)(F)F)C=C1', y=2.857400000000001),\n",
              "  Data(x=[32, 30], edge_index=[2, 70], edge_attr=[70, 11], smiles='COC(=O)C1=CC=C(N2CCOCC2)C(NC(=O)C2=C(Cl)C3=CC=CC([N+](=O)[O-])=C3S2)=C1', y=4.338400000000004),\n",
              "  Data(x=[16, 30], edge_index=[2, 34], edge_attr=[34, 11], smiles='O=C(NCCC1=CSC=C1)C(=O)NC1CC1', y=0.6853999999999996),\n",
              "  Data(x=[23, 30], edge_index=[2, 50], edge_attr=[50, 11], smiles='O=C(C1CCC[NH+]1CC(O)C1=CC=CC(F)=C1)N1CCSCC1', y=0.4818),\n",
              "  Data(x=[22, 30], edge_index=[2, 48], edge_attr=[48, 11], smiles='O=C(OCC1=CC2=CC=CC=C2N=C1Cl)C1(O)CCCCC1', y=3.6266000000000016),\n",
              "  Data(x=[15, 30], edge_index=[2, 30], edge_attr=[30, 11], smiles='CCOC(=O)CC(C(C)C)[NH+]1CCCC1', y=0.6429),\n",
              "  Data(x=[34, 30], edge_index=[2, 74], edge_attr=[74, 11], smiles='CN1C(=O)C(C(=O)CSC2=NC3=CC=CC=C3N2CCC#N)=C(N)N(CC2=CC=CC=C2)C1=O', y=2.4158800000000005),\n",
              "  Data(x=[21, 30], edge_index=[2, 46], edge_attr=[46, 11], smiles='FC(F)(F)C1=CC=NC(NC2CCC3(CC2)OCCO3)=N1', y=2.593),\n",
              "  Data(x=[27, 30], edge_index=[2, 60], edge_attr=[60, 11], smiles='CC1=NOC(C2=CC=C(S(=O)(=O)N3CCN(C(=O)C4=CC=CO4)CC3)S2)=C1', y=2.451220000000001),\n",
              "  Data(x=[23, 30], edge_index=[2, 50], edge_attr=[50, 11], smiles='CCC(=O)N=C1SC2CS(=O)(=O)CC2N1C1=CC(C)=CC=C1C', y=2.3148400000000002),\n",
              "  Data(x=[27, 30], edge_index=[2, 62], edge_attr=[62, 11], smiles='CC1=NN(C2=NC3=CC=CC=C3O2)C2=C1C(C1=CC=CC(Cl)=C1)CC(=O)N2', y=4.4494200000000035),\n",
              "  Data(x=[23, 30], edge_index=[2, 50], edge_attr=[50, 11], smiles='CN(C)S(=O)(=O)C1=CC=C(C(=O)NC2=NC3=C(CCC3)S2)C=C1', y=2.1344000000000003),\n",
              "  Data(x=[22, 30], edge_index=[2, 48], edge_attr=[48, 11], smiles='COC1=CC=CC=C1N1N=NC(C(=O)N2CCOCC2)=C1N', y=0.3304999999999999),\n",
              "  Data(x=[32, 30], edge_index=[2, 72], edge_attr=[72, 11], smiles='COC1=CC=C(C)C=C1NC(=O)C1=CN(C2=CC=C(C3=NOC(C4CC4)=N3)C=C2)N=C1C', y=4.677440000000003),\n",
              "  Data(x=[27, 30], edge_index=[2, 60], edge_attr=[60, 11], smiles='NC(=O)CC1=NN(C2CCCCC2)C(C[NH+]2CCC(C3=CC=CC=C3)C2)=N1', y=1.3835000000000002),\n",
              "  Data(x=[25, 30], edge_index=[2, 54], edge_attr=[54, 11], smiles='O=C(CC1=C(C2=CC=CC=C2)CCC1=O)NCC1=CC=C(C(=O)O)O1', y=2.8008000000000006),\n",
              "  Data(x=[26, 30], edge_index=[2, 58], edge_attr=[58, 11], smiles='CSC1=NC(C2=CC=CC(C)=C2)=NC2=C1CC1=C(CO)C=NC(C)=C1O2', y=4.066140000000003),\n",
              "  Data(x=[28, 30], edge_index=[2, 60], edge_attr=[60, 11], smiles='COC1=CC=C(CC2=NN=C(SCC(=O)NC3=CC(Cl)=CC=C3C)N2C)C=C1', y=4.107120000000003),\n",
              "  Data(x=[15, 30], edge_index=[2, 32], edge_attr=[32, 11], smiles='C=CC(=O)N1CC(C)OC2(CCOC2)C1', y=0.5788),\n",
              "  Data(x=[26, 30], edge_index=[2, 54], edge_attr=[54, 11], smiles='COC1=CC=C(Cl)C=C1NC(=O)C(=O)NCC1=CC=C(S(N)(=O)=O)C=C1', y=1.2509),\n",
              "  Data(x=[23, 30], edge_index=[2, 48], edge_attr=[48, 11], smiles='CC1=C(C(=O)O)SC(NC(=O)CN(C)C(C)C2=CC=NC=N2)=N1', y=1.5712199999999998),\n",
              "  Data(x=[16, 30], edge_index=[2, 34], edge_attr=[34, 11], smiles='OCC1(CC2=CC=CC(Cl)=C2)CCC[NH2+]C1', y=1.2183999999999997),\n",
              "  Data(x=[20, 30], edge_index=[2, 42], edge_attr=[42, 11], smiles='NC1=CC(C(F)(F)F)=CC=C1OCCC1=CC=CC=C1', y=3.9091000000000022),\n",
              "  Data(x=[23, 30], edge_index=[2, 50], edge_attr=[50, 11], smiles='CC([NH2+]CCCC1=CN(C)N=C1)C1=CC=C2OCCCOC2=C1', y=1.8385999999999998),\n",
              "  Data(x=[17, 30], edge_index=[2, 36], edge_attr=[36, 11], smiles='CC1=NOC(CN2CCN(S(N)(=O)=O)CC2)=C1', y=-0.6958799999999989),\n",
              "  Data(x=[16, 30], edge_index=[2, 34], edge_attr=[34, 11], smiles='CC(C)(C)C(=O)N1CCC2=CC=CC=C2C1', y=2.617400000000001),\n",
              "  Data(x=[31, 30], edge_index=[2, 70], edge_attr=[70, 11], smiles='O=C1NC(CC2=CN=C[NH]2)C(=O)N2CCN(CC3=CN(C4=CC=CC=C4Cl)N=C3)CC12', y=1.0027000000000001),\n",
              "  Data(x=[19, 30], edge_index=[2, 42], edge_attr=[42, 11], smiles='CC1=C(CNC(C)C2=CC=C3OCOC3=C2)C=NO1', y=2.562520000000001),\n",
              "  Data(x=[13, 30], edge_index=[2, 26], edge_attr=[26, 11], smiles='CC1=CC(SC(F)(F)F)=CC=C1O', y=3.3125200000000015),\n",
              "  Data(x=[33, 30], edge_index=[2, 74], edge_attr=[74, 11], smiles='CC1=CC(=O)N2N=C(CN3CCN(S(=O)(=O)C4=CC=C(C5CCCCC5)C=C4)CC3)SC2=N1', y=3.0136200000000013),\n",
              "  Data(x=[28, 30], edge_index=[2, 60], edge_attr=[60, 11], smiles='O=C(CCNC(=O)C1=CC=C(Cl)C=C1)NC1=CC=CC=C1OC1=CC=CC=C1', y=4.890900000000004),\n",
              "  Data(x=[24, 30], edge_index=[2, 50], edge_attr=[50, 11], smiles='COC(=O)CC(NS(=O)(=O)C1=CC(NC(C)=O)=CC=C1C)C1CC1', y=1.5734199999999992),\n",
              "  Data(x=[20, 30], edge_index=[2, 44], edge_attr=[44, 11], smiles='COC1=CC=C(C)C=C1C1=CSC(C2=CN=CC=N2)=N1', y=3.584120000000003),\n",
              "  Data(x=[23, 30], edge_index=[2, 50], edge_attr=[50, 11], smiles='CN(C(=O)C1CC(=O)N(C)C1C1=CC=CC(Cl)=C1)C1CC[NH2+]C1', y=0.6534999999999996),\n",
              "  Data(x=[23, 30], edge_index=[2, 50], edge_attr=[50, 11], smiles='O=[N+]([O-])C1=CC=C(C2=NOC(COC3=CC=CC=C3Cl)=N2)C=C1', y=3.877200000000002),\n",
              "  Data(x=[21, 30], edge_index=[2, 44], edge_attr=[44, 11], smiles='COC1=CC(C)=C(Cl)C=C1S(=O)(=O)NCC1=CC=CC=N1', y=2.530520000000001),\n",
              "  Data(x=[25, 30], edge_index=[2, 56], edge_attr=[56, 11], smiles='FC1=CC=C(C2=NC(CN3CCCC3C3=CC=CC(F)=C3)=CO2)C=C1', y=4.9569000000000045),\n",
              "  Data(x=[28, 30], edge_index=[2, 60], edge_attr=[60, 11], smiles='COC1=CC=C(C(NC(=O)C(C)C2=CC=CC=C2)C2=NC=CN2C)C=C1OC', y=3.446600000000002),\n",
              "  Data(x=[25, 30], edge_index=[2, 54], edge_attr=[54, 11], smiles='ClC1=CC=C(COC2=CC=CC=C2C[NH2+]CC2CC[NH2+]CC2)C(Cl)=C1', y=2.6092000000000004),\n",
              "  Data(x=[27, 30], edge_index=[2, 58], edge_attr=[58, 11], smiles='O=C(CCN1C(=O)SC(=CC2=CC=C(F)C=C2)C1=O)NC1=CC=C(O)C=C1', y=3.596400000000002),\n",
              "  Data(x=[30, 30], edge_index=[2, 66], edge_attr=[66, 11], smiles='CCC(=O)N1CCCC1C1CCC[NH+]1CC1=NN=C(C2=CC=CC=C2C(F)(F)F)O1', y=2.703700000000002),\n",
              "  Data(x=[32, 30], edge_index=[2, 70], edge_attr=[70, 11], smiles='COC1CCC(C(=O)NC(CC2=CC(=O)[NH]C(C3=CC=CN=C3)=N2)C2=CC=CC=C2)CC1', y=3.437100000000002),\n",
              "  Data(x=[17, 30], edge_index=[2, 36], edge_attr=[36, 11], smiles='CC[NH+]1CCCC1C1=CC=C(OC)C=C1OC', y=1.4434999999999996),\n",
              "  Data(x=[20, 30], edge_index=[2, 42], edge_attr=[42, 11], smiles='CC(C)(C)OC(=O)CC1(C)CCC2C1C(=O)OC2(C)C', y=3.086100000000002),\n",
              "  Data(x=[25, 30], edge_index=[2, 52], edge_attr=[52, 11], smiles='COC(=O)C1=CC=C(NC(=S)NC(=O)C2=CC=CC=C2[N+](=O)[O-])C=C1', y=2.5082000000000004),\n",
              "  Data(x=[28, 30], edge_index=[2, 64], edge_attr=[64, 11], smiles='O=C(CN1C2=CC=CC3=CC=CC(=C23)S1(=O)=O)NC1CCOC2=CC=CC=C21', y=2.988500000000001),\n",
              "  Data(x=[22, 30], edge_index=[2, 48], edge_attr=[48, 11], smiles='CC1=NN(CC(=O)N2C(C(=O)O)CC3CCCCC32)C(C)=C1', y=1.744239999999999),\n",
              "  Data(x=[24, 30], edge_index=[2, 52], edge_attr=[52, 11], smiles='CC1=CC(=O)C(C(=O)N2CCOC(C)C2)=NN1C1=CC=CC=C1Cl', y=2.0552199999999994),\n",
              "  Data(x=[34, 30], edge_index=[2, 76], edge_attr=[76, 11], smiles='COC1=CC=CC=C1N1C(=O)C2=C(SC3=C2CCN(C(C)=O)C3)N(CC2=CC=C(C)C=C2)C1=O', y=3.4838200000000024),\n",
              "  Data(x=[19, 30], edge_index=[2, 40], edge_attr=[40, 11], smiles='COCCN1C=NN=C1CNC(=O)C1=C(C)N=N[NH]1', y=-0.71898),\n",
              "  Data(x=[31, 30], edge_index=[2, 68], edge_attr=[68, 11], smiles='COC1=CC=C(C2C(C(=O)C3=CC=C(F)C=C3)=C(O)C(=O)N2C2=NN=CS2)C=C1OC', y=3.4773000000000014),\n",
              "  Data(x=[23, 30], edge_index=[2, 50], edge_attr=[50, 11], smiles='CC1=NOC(C)=C1CC(=O)NC1CCCCC1CC1=CC=CO1', y=3.344640000000002),\n",
              "  Data(x=[28, 30], edge_index=[2, 60], edge_attr=[60, 11], smiles='COC1=CC(C[NH2+]CC2CCCO2)=CC=C1OCC(=O)NC1=CC=C(C)C=C1', y=2.2635199999999998),\n",
              "  Data(x=[16, 30], edge_index=[2, 34], edge_attr=[34, 11], smiles='CCOCC1C[N+](=C(N)N)CC12CCCC2', y=0.499000000000001),\n",
              "  Data(x=[32, 30], edge_index=[2, 70], edge_attr=[70, 11], smiles='CCOC(=O)C1C(CN2CCC3=CC=CC=C32)=NC(=O)NC1C1=CC=CC=C1OC(F)F', y=3.7353000000000023),\n",
              "  Data(x=[30, 30], edge_index=[2, 66], edge_attr=[66, 11], smiles='COC1=CC=C(N2CC(C(=O)N3CCCCC3C3=CC=CN=C3)CC2=O)C(OC)=C1', y=3.2055000000000016),\n",
              "  Data(x=[19, 30], edge_index=[2, 40], edge_attr=[40, 11], smiles='NC(=O)C1=CC=CC(COC2=CC(Cl)=CC(Cl)=C2)=C1', y=3.6713000000000013),\n",
              "  Data(x=[28, 30], edge_index=[2, 62], edge_attr=[62, 11], smiles='CC1=CC=C(NC2=NC(C3CCCN3C(=O)C=CC3=CSC(C)=N3)=CS2)N=C1', y=4.731940000000004),\n",
              "  Data(x=[20, 30], edge_index=[2, 42], edge_attr=[42, 11], smiles='CC1=CC(C)=C(S(=O)(=O)NCC2=CC=CC=N2)C=C1C', y=2.485360000000001),\n",
              "  Data(x=[24, 30], edge_index=[2, 52], edge_attr=[52, 11], smiles='COC1=CC=CC(C2=C(C(=O)NCC3=CC=CC=C3Cl)SN=N2)=C1', y=3.797100000000002),\n",
              "  Data(x=[16, 30], edge_index=[2, 32], edge_attr=[32, 11], smiles='CCNC1=NC=C(C[NH2+]C(C)C(=O)O)C=N1', y=-0.555099999999999),\n",
              "  Data(x=[21, 30], edge_index=[2, 44], edge_attr=[44, 11], smiles='CCOC1=CC=C(CN(C)CC2(O)CCC[NH+](C)C2)C=C1', y=0.5567000000000011),\n",
              "  Data(x=[21, 30], edge_index=[2, 48], edge_attr=[48, 11], smiles='CC1=CC=C(Cl)C=C1N1C(=O)C2C3C=CC(C)(O3)C2C1=O', y=2.48132),\n",
              "  Data(x=[27, 30], edge_index=[2, 56], edge_attr=[56, 11], smiles='COC1=CC=CC=C1NC(=O)C(C)NC1=CC=C(C)C(S(=O)(=O)N(C)C)=C1', y=2.6930200000000006),\n",
              "  Data(x=[22, 30], edge_index=[2, 46], edge_attr=[46, 11], smiles='CCC(NS(=O)(=O)C1=CC=C(C)C=C1F)C1=NC=NN1CC', y=2.1751199999999997),\n",
              "  Data(x=[22, 30], edge_index=[2, 46], edge_attr=[46, 11], smiles='CCC1CCCC(NC(=O)N(C)CC2=NC=CN2C(F)F)C1', y=3.3884000000000025),\n",
              "  Data(x=[28, 30], edge_index=[2, 60], edge_attr=[60, 11], smiles='CC(=O)NC1(C)CC(C2=CC(C)=C(O)C(C(=O)O)=C2)OC2C(O)C(C)=CCC21', y=2.4507200000000005),\n",
              "  Data(x=[21, 30], edge_index=[2, 44], edge_attr=[44, 11], smiles='CC(C(=O)O)C(=O)NC1CCCN(C2=CC=CC=C2F)C1', y=1.6313999999999995),\n",
              "  Data(x=[28, 30], edge_index=[2, 58], edge_attr=[58, 11], smiles='CNS(=O)(=O)CC1=CC=CC=C1CNC(=O)NC(CC(C)C)C1=CC=CC=C1', y=3.322400000000002),\n",
              "  Data(x=[31, 30], edge_index=[2, 68], edge_attr=[68, 11], smiles='COC1=CC=C(C2=NN(C3=CC=CC=C3)C=C2C=C2C(=O)N(C)C(=O)N(C)C2=O)C=C1', y=2.981700000000001),\n",
              "  Data(x=[22, 30], edge_index=[2, 46], edge_attr=[46, 11], smiles='CCCCC1=NC(C)=C(C(=O)NC2(C(=O)O)CCCCC2)S1', y=3.311420000000002),\n",
              "  Data(x=[31, 30], edge_index=[2, 68], edge_attr=[68, 11], smiles='COC1=CC=C(NC(=O)CN2N=CN3N=C(C4=CC=C(Br)C=C4)C=C3C2=O)C(OC)=C1', y=2.976400000000001),\n",
              "  Data(x=[22, 30], edge_index=[2, 46], edge_attr=[46, 11], smiles='CC(NC(=O)CCC1=NC(C(C)(C)C)=NO1)C1=CC=CC=N1', y=2.5721000000000007),\n",
              "  Data(x=[20, 30], edge_index=[2, 42], edge_attr=[42, 11], smiles='O=C(O)CNC(=O)C1(C2=CC=CC(F)=C2)CCOCC1', y=1.0747),\n",
              "  Data(x=[15, 30], edge_index=[2, 30], edge_attr=[30, 11], smiles='NC1=CC(OC(F)F)=CC(C(F)(F)F)=C1', y=2.889000000000001),\n",
              "  Data(x=[25, 30], edge_index=[2, 54], edge_attr=[54, 11], smiles='CC(C(=O)N(C)CC1CC[NH+](CC2=CC=CC=C2)CC1)[NH+]1CCCC1', y=0.007100000000004103),\n",
              "  Data(x=[28, 30], edge_index=[2, 64], edge_attr=[64, 11], smiles='COC1=CC=CC(C2C3=C(NC4=C2C(=O)[NH]C(N)=N4)C2=CC=CC=C2C3=O)=C1', y=2.5257000000000005),\n",
              "  Data(x=[28, 30], edge_index=[2, 60], edge_attr=[60, 11], smiles='CSC1=CC=CC(NC(=O)NCCNC2=CC(N3CCOCC3)=[NH+]C(C)=N2)=C1', y=1.9962199999999997),\n",
              "  Data(x=[16, 30], edge_index=[2, 34], edge_attr=[34, 11], smiles='O=C(C[NH+]1CCCC1)NC1=CC=C(F)C=C1', y=0.44289999999999946),\n",
              "  Data(x=[22, 30], edge_index=[2, 46], edge_attr=[46, 11], smiles='CNC(=O)CC1CN(C(=O)C2=CC=C(C)[NH]C2=O)CC1OC', y=-0.09357999999999977),\n",
              "  Data(x=[20, 30], edge_index=[2, 44], edge_attr=[44, 11], smiles='FC1=CC=C2N=C(CNCC[NH+]3CCCC3)C=CC2=C1', y=1.1421999999999999),\n",
              "  Data(x=[25, 30], edge_index=[2, 56], edge_attr=[56, 11], smiles='CC1=C(C(=O)CSC2=CC=C3OCCCOC3=C2)C2=CC=CC=C2[NH]1', y=4.612620000000004),\n",
              "  Data(x=[22, 30], edge_index=[2, 46], edge_attr=[46, 11], smiles='CC1=CC=C(CNS(=O)(=O)C2=CC=C(CC(C)C)C=C2)C=C1', y=3.6720200000000025),\n",
              "  Data(x=[22, 30], edge_index=[2, 48], edge_attr=[48, 11], smiles='COC1=CC=CC(CN2CC(C3=NC(C)=NO3)CCC2=O)=C1', y=2.29282),\n",
              "  Data(x=[23, 30], edge_index=[2, 50], edge_attr=[50, 11], smiles='COC1CCCC(OC(=O)C2=CC=C(N3C=NC=N3)C=C2C)C1', y=2.690120000000001),\n",
              "  Data(x=[28, 30], edge_index=[2, 60], edge_attr=[60, 11], smiles='CCCCNC(=S)N(CC1=CC=CC=C1)CC1=CC2=CC=C(C)C=C2[NH]C1=O', y=4.513320000000003),\n",
              "  Data(x=[33, 30], edge_index=[2, 72], edge_attr=[72, 11], smiles='CC1=CC=C(S(=O)(=O)N(C)C2=CC=CC=C2C(=O)N2CC[NH+](CC3=CC=CC=C3)CC2)C=C1', y=2.36102),\n",
              "  Data(x=[25, 30], edge_index=[2, 54], edge_attr=[54, 11], smiles='CC1=CC=CC=C1CNS(=O)(=O)C1=CC=C(N2CCCCC2=O)C=C1', y=2.990420000000001),\n",
              "  Data(x=[18, 30], edge_index=[2, 36], edge_attr=[36, 11], smiles='CC1=CC(Br)=C(NC(=O)OCC(F)(F)F)C(Br)=C1', y=4.630820000000001),\n",
              "  Data(x=[24, 30], edge_index=[2, 52], edge_attr=[52, 11], smiles='N#CC1=CC=C(C[NH2+]CC(O)COC2=CC=C3OCOC3=C2)C=C1', y=0.7902799999999991),\n",
              "  Data(x=[21, 30], edge_index=[2, 46], edge_attr=[46, 11], smiles='O=C(NCC1CCC[NH+](CC2=C[NH]C=N2)C1)C1=CC=CO1', y=0.2276000000000009),\n",
              "  Data(x=[18, 30], edge_index=[2, 38], edge_attr=[38, 11], smiles='CCCCOCC(=O)N1CCCC2(CC[NH2+]C2)C1', y=0.37900000000000145),\n",
              "  Data(x=[24, 30], edge_index=[2, 54], edge_attr=[54, 11], smiles='C1=CN=C(NCCC2CN3N=CC=C3C[NH+](C3CCCC3)C2)N=C1', y=1.1326000000000003),\n",
              "  Data(x=[18, 30], edge_index=[2, 40], edge_attr=[40, 11], smiles='BrC1=CC=CC=C1C1=NOC(C2CC[NH2+]CC2)=N1', y=1.9399),\n",
              "  Data(x=[25, 30], edge_index=[2, 56], edge_attr=[56, 11], smiles='O=C(CC1=NOC2=CC=CC=C12)NC1=CC=C(N2C=CN=C2)C(Cl)=C1', y=3.8481000000000014),\n",
              "  Data(x=[27, 30], edge_index=[2, 58], edge_attr=[58, 11], smiles='COC1=CC(OC)=CC(C(=O)NCC2CCC[NH+](CC3=CN(C)N=C3)C2)=C1', y=0.6622000000000015),\n",
              "  Data(x=[33, 30], edge_index=[2, 70], edge_attr=[70, 11], smiles='CC(=O)NC1=CC=C(NC(=O)COC(=O)C2CC(=O)N(NC(=O)C3=CC=C(C)C=C3)C2)C=C1', y=1.628619999999999),\n",
              "  Data(x=[25, 30], edge_index=[2, 56], edge_attr=[56, 11], smiles='OC(CSC1=NN=C(NC2CCCCC2)S1)C1=CC=C2OCOC2=C1', y=3.837100000000002),\n",
              "  Data(x=[27, 30], edge_index=[2, 60], edge_attr=[60, 11], smiles='CC1=CC=CC=C1C[NH+]1CCCC(C2=NN(C)C(=O)N2C2=CC=CC=C2)C1', y=1.841919999999999),\n",
              "  Data(x=[25, 30], edge_index=[2, 54], edge_attr=[54, 11], smiles='N#CC1=CC=CN=C1SCC(=O)NC1=CC=CC=C1C1=CC=CC=C1', y=4.351080000000003),\n",
              "  Data(x=[30, 30], edge_index=[2, 64], edge_attr=[64, 11], smiles='CCOC1=CC=C(NC2=NC(N)=C([N+](=O)[O-])C(NC3=CC=C(OCC)C=C3)=N2)C=C1', y=4.251600000000002),\n",
              "  Data(x=[28, 30], edge_index=[2, 64], edge_attr=[64, 11], smiles='O=C1N(CC2CCC2)CCCC12CC[NH+](CC1=CC(C3=CC=CC=C3)=NO1)C2', y=2.5391000000000004),\n",
              "  Data(x=[23, 30], edge_index=[2, 50], edge_attr=[50, 11], smiles='CC1=C(C(=O)O)C=C(CN(C)C(=O)C2CC3=CC=CC=C3O2)O1', y=2.2483200000000005),\n",
              "  Data(x=[31, 30], edge_index=[2, 68], edge_attr=[68, 11], smiles='O=C1CCC2=CC(NC(=O)C3=CC=CC(=O)N3CCOC3=CC=CC=C3Cl)=CC=C2N1', y=3.7177000000000024),\n",
              "  Data(x=[23, 30], edge_index=[2, 48], edge_attr=[48, 11], smiles='COC1=NC(N2CCC(NS(=O)(=O)N(C)C)C(O)C2)=NC=C1F', y=-1.040099999999998),\n",
              "  Data(x=[24, 30], edge_index=[2, 52], edge_attr=[52, 11], smiles='CC(C1=CC=C(F)C=C1)N(C)C(=O)CC1=CSC(C2=CSC=C2)=N1', y=4.772800000000004),\n",
              "  Data(x=[30, 30], edge_index=[2, 66], edge_attr=[66, 11], smiles='CC1=CC=C(C2=NOC(C3=C(N)N(CC(=O)NC4=CC=C(C)C(Cl)=C4)N=N3)=N2)C=C1', y=3.4862400000000013),\n",
              "  Data(x=[16, 30], edge_index=[2, 32], edge_attr=[32, 11], smiles='CCNC(=O)NCC(C)(C)N1CCOCC1', y=0.41630000000000034),\n",
              "  Data(x=[19, 30], edge_index=[2, 40], edge_attr=[40, 11], smiles='COC(=O)C1=N[NH]C(C2=CC=C(OC)C(Br)=C2)=C1Br', y=3.3969000000000014),\n",
              "  Data(x=[24, 30], edge_index=[2, 50], edge_attr=[50, 11], smiles='CN1C=C(C(C)(O)CNC(=O)C=CC2=CC=C([N+](=O)[O-])C=C2)C=N1', y=1.3653999999999997),\n",
              "  Data(x=[35, 30], edge_index=[2, 78], edge_attr=[78, 11], smiles='COC1=CC=C(C2=NC3=CC=CC=C3O2)C=C1NC(=O)C1=CC([N+](=O)[O-])=CC=C1N1CCOCC1', y=4.500500000000004),\n",
              "  Data(x=[23, 30], edge_index=[2, 48], edge_attr=[48, 11], smiles='CC1=CC=C(SCCNC(=O)COC2=CC(C)=CC=C2C)C=C1', y=3.899160000000003),\n",
              "  Data(x=[24, 30], edge_index=[2, 52], edge_attr=[52, 11], smiles='CC(C)CC(NC(=O)C1CC(=O)N(C)C1)C1=NC2=CC=CC=C2[NH]1', y=2.2445999999999997),\n",
              "  Data(x=[29, 30], edge_index=[2, 62], edge_attr=[62, 11], smiles='C=CC[NH+](CC1=CC=C(F)C=C1)CC(O)(CN1C=NC=N1)C1=CC=C(F)C=C1F', y=1.854299999999999),\n",
              "  Data(x=[26, 30], edge_index=[2, 56], edge_attr=[56, 11], smiles='COC1=CC=C(C=C2OC3=CC(OCC(C)=O)=CC=C3C2=O)C=C1OC', y=3.2878000000000025),\n",
              "  Data(x=[34, 30], edge_index=[2, 72], edge_attr=[72, 11], smiles='CC(C(=O)NCC1CCCO1)N(CC1=CC=CC=C1)C(=O)CN(CC1=CC=CC=C1)S(C)(=O)=O', y=2.1606999999999994),\n",
              "  Data(x=[28, 30], edge_index=[2, 64], edge_attr=[64, 11], smiles='O=C(C1=CC(C2=CC=CS2)=N[NH]1)N1CCN(CC2=NC3=CC=CC=C3[NH]2)CC1', y=2.972500000000001),\n",
              "  Data(x=[26, 30], edge_index=[2, 56], edge_attr=[56, 11], smiles='CN(CC1=CC=CC=C1F)C(=O)COC(=O)C1=CC=C2CCCCC2=C1', y=3.5199000000000025),\n",
              "  Data(x=[22, 30], edge_index=[2, 48], edge_attr=[48, 11], smiles='CC1=NC(NCC2CCS(=O)(=O)CC2)=CC(C2CC([NH3+])C2)=N1', y=0.5096200000000002),\n",
              "  Data(x=[26, 30], edge_index=[2, 56], edge_attr=[56, 11], smiles='CCC(C)C(NC(=O)N1CCC(C2=NC3=CC=CC=C3S2)CC1)C(=O)O', y=3.6846000000000023),\n",
              "  Data(x=[24, 30], edge_index=[2, 50], edge_attr=[50, 11], smiles='CC1=CC(=O)[NH]C(NCCNC(=O)NCC2=NOC(C(C)C)=N2)=N1', y=0.4960200000000001),\n",
              "  Data(x=[30, 30], edge_index=[2, 66], edge_attr=[66, 11], smiles='CC1=CC=C(CNC(=O)CCCN2C(=O)CSC3=C2C(C)=NN3C2=CC=CC=C2)O1', y=3.617440000000003),\n",
              "  Data(x=[16, 30], edge_index=[2, 34], edge_attr=[34, 11], smiles='[NH3+]CC(C1=CC=CS1)S(=O)(=O)C1=CC=CS1', y=1.5665000000000002),\n",
              "  Data(x=[24, 30], edge_index=[2, 52], edge_attr=[52, 11], smiles='O=C(NC1C[NH+](CC2=CC=CC=C2)CCC1CO)C1=COCCC1', y=0.2628000000000006),\n",
              "  Data(x=[22, 30], edge_index=[2, 46], edge_attr=[46, 11], smiles='CNC(=O)C1=CC=C(CN(CCOC)CC2=CC=CO2)C=C1', y=2.2878000000000007),\n",
              "  Data(x=[22, 30], edge_index=[2, 48], edge_attr=[48, 11], smiles='CN1C=CC(C(=O)NC2=NC(C3=CC=CC=N3)=N[NH]2)=CC1=O', y=0.8176999999999999),\n",
              "  Data(x=[21, 30], edge_index=[2, 48], edge_attr=[48, 11], smiles='CC1=NOC(C23COCC2C[NH+](CC2=CSC(C)=N2)C3)=N1', y=0.12584000000000017),\n",
              "  Data(x=[33, 30], edge_index=[2, 74], edge_attr=[74, 11], smiles='CC1=CC(CC2=CC=CC=C2F)=CC(C2CN(C(=O)CN3C=NC4=CC=CC=C43)CCO2)=N1', y=4.069720000000003),\n",
              "  Data(x=[21, 30], edge_index=[2, 44], edge_attr=[44, 11], smiles='COC1=CC=C(CCNC(=S)NC2=CC=CC(Br)=C2)C=C1', y=3.9868000000000023),\n",
              "  Data(x=[28, 30], edge_index=[2, 60], edge_attr=[60, 11], smiles='CC1=CC=C(C(=O)N(CC(=O)NC2CCCC2)C2=CC=CC(C(F)(F)F)=C2)S1', y=4.780920000000004),\n",
              "  Data(x=[28, 30], edge_index=[2, 62], edge_attr=[62, 11], smiles='O=C(NCC1=CC=C(N2CCCCC2)C=C1)C1CCCN(C2=NC=CC=N2)C1', y=2.9997000000000016),\n",
              "  Data(x=[26, 30], edge_index=[2, 54], edge_attr=[54, 11], smiles='COC1=CC=C(OC)C(C(C)NC(=O)C(C)NC(=O)C2CCCCC2)=C1', y=2.966000000000001),\n",
              "  Data(x=[25, 30], edge_index=[2, 54], edge_attr=[54, 11], smiles='CC(=O)N1CCC(C(=O)N2CCCC(CCC3=CC=CC=C3)C2)CC1', y=3.1163000000000016),\n",
              "  Data(x=[19, 30], edge_index=[2, 44], edge_attr=[44, 11], smiles='C1CCC2C(C1)CCC[NH+]2CC1=NC(C2CC2)=NO1', y=1.6844999999999999),\n",
              "  Data(x=[21, 30], edge_index=[2, 46], edge_attr=[46, 11], smiles='CCNC(=O)N1CCCC1C1=NC2=CC=CC=C2N1CC', y=2.922600000000002),\n",
              "  Data(x=[30, 30], edge_index=[2, 66], edge_attr=[66, 11], smiles='COC1=CC=CC=C1CC1=CN=C(C2CCC[NH+](CC3=CC=C(C(=O)O)C=C3)C2)O1', y=2.9347000000000003),\n",
              "  Data(x=[25, 30], edge_index=[2, 54], edge_attr=[54, 11], smiles='COC1=CC=C(C2=CC(=NCC(=O)O)C3=CC(C)=CC(C)=C3O2)C=C1', y=3.7105400000000017),\n",
              "  Data(x=[28, 30], edge_index=[2, 60], edge_attr=[60, 11], smiles='CC1=CC=C(NS(=O)(=O)C2=CC=C(C(=O)NC3=NC=CC=C3O)C=C2)C=C1C', y=3.4571400000000017),\n",
              "  Data(x=[25, 30], edge_index=[2, 54], edge_attr=[54, 11], smiles='CN1CC[NH+](CC2CCN(C3=NC=C(C(F)(F)F)C=C3Cl)CC2)CC1', y=1.8004999999999995),\n",
              "  Data(x=[35, 30], edge_index=[2, 72], edge_attr=[72, 11], smiles='CCC(C(=O)NCC(C)C)N(CC1=CC=CC(OC)=C1)C(=O)COC1=CC=C([N+](=O)[O-])C(OC)=C1', y=3.570400000000002),\n",
              "  Data(x=[20, 30], edge_index=[2, 42], edge_attr=[42, 11], smiles='CCOC(=O)C1=C(C)NC(NC#N)=NC1C1=CC=CO1', y=1.18768),\n",
              "  Data(x=[30, 30], edge_index=[2, 62], edge_attr=[62, 11], smiles='CCC(C)C1=CC=C(C(NS(=O)(=O)C2=CC=C(OC)C(NC(C)=O)=C2)C(C)C)C=C1', y=4.842700000000004),\n",
              "  Data(x=[24, 30], edge_index=[2, 54], edge_attr=[54, 11], smiles='O=C(NCCCC1=NN=C2C=CC=CN12)C1=C2CCCCC2=NO1', y=1.9586999999999999),\n",
              "  Data(x=[24, 30], edge_index=[2, 54], edge_attr=[54, 11], smiles='CC1=CN(C)C(C2CCCN(C(=O)C3=C4C=CC=CC4=N[NH]3)C2)=N1', y=2.62462),\n",
              "  Data(x=[24, 30], edge_index=[2, 56], edge_attr=[56, 11], smiles='O=C1C2=CC=CC=C2NC2(C(=O)NC3=CC(F)=CC=C32)N1C1CC1', y=2.6609000000000007),\n",
              "  Data(x=[28, 30], edge_index=[2, 60], edge_attr=[60, 11], smiles='CCCCOC1=CC=C(C=C2C=C(C3=CC(OC)=CC=C3OC)OC2=O)C=C1', y=4.864000000000005),\n",
              "  Data(x=[25, 30], edge_index=[2, 54], edge_attr=[54, 11], smiles='CC1=CC=C(N2CC(C(=O)NC(C)C3=CC=CC=C3)CC2=O)C=C1C', y=3.5337400000000025),\n",
              "  Data(x=[21, 30], edge_index=[2, 44], edge_attr=[44, 11], smiles='CC(C(=O)NCC1=N[NH]C(C(C)(C)C)=C1)N1CCCC1=O', y=1.3342999999999992),\n",
              "  Data(x=[30, 30], edge_index=[2, 64], edge_attr=[64, 11], smiles='COC1=CC=C2C(COC(=O)C3=CC=C(CCNS(C)(=O)=O)C=C3)=CC(=O)OC2=C1', y=2.2503),\n",
              "  Data(x=[32, 30], edge_index=[2, 72], edge_attr=[72, 11], smiles='COC1=CC2=C(C=C1NC(=O)CSCC1=NN=NN1C1=CC=CC=C1)OC1=CC=CC=C12', y=4.442200000000003),\n",
              "  Data(x=[33, 30], edge_index=[2, 72], edge_attr=[72, 11], smiles='CCOC1=CC2=C(C=C1NC(=O)CSC1=NN=C(COC3=CC=C(F)C=C3)N1N)OC(C)C2', y=3.1629000000000005),\n",
              "  Data(x=[26, 30], edge_index=[2, 56], edge_attr=[56, 11], smiles='COCC1(C(=O)O)C(C2=CC=C(Cl)C=C2)C1S(=O)(=O)C1=CC=C(Cl)C=C1', y=3.650500000000002),\n",
              "  Data(x=[29, 30], edge_index=[2, 62], edge_attr=[62, 11], smiles='CCOC(=O)C1=C(C)N=C(NC(=O)CSC2=NC3=CC(C)=CC=C3C=C2CC)S1', y=4.778040000000003),\n",
              "  Data(x=[35, 30], edge_index=[2, 76], edge_attr=[76, 11], smiles='O=C(CN(C1=CC=CC([N+](=O)[O-])=C1)S(=O)(=O)C1=CC=CC=C1)NC1=CC=C(N2CCOCC2)C=C1', y=3.2654000000000023),\n",
              "  Data(x=[26, 30], edge_index=[2, 56], edge_attr=[56, 11], smiles='COC1=CC=CC=C1NC(=O)CSCC1=CC(=O)C2=CC(F)=CC=C2[NH]1', y=3.5477000000000016),\n",
              "  Data(x=[23, 30], edge_index=[2, 50], edge_attr=[50, 11], smiles='CC(C)NC(=O)C(C1=CC=CC=C1)N1CCC[NH+]2CCCC2C1', y=1.0053000000000007),\n",
              "  Data(x=[28, 30], edge_index=[2, 64], edge_attr=[64, 11], smiles='O=C(NC1CCCC2=C1[NH]C1=CC=CC=C21)C1=CC=C(CN2C=NN=N2)C=C1', y=3.0101000000000013),\n",
              "  Data(x=[25, 30], edge_index=[2, 54], edge_attr=[54, 11], smiles='CN(CCOC1=CC=CC=C1F)CC1=CC(=O)N2C=C(Cl)C=CC2=N1', y=2.9978000000000016),\n",
              "  Data(x=[26, 30], edge_index=[2, 58], edge_attr=[58, 11], smiles='CN1CC2(CCN(C(=O)C3=CC=C(C4=CC(N)=NC=N4)C=C3)C2)OC1=O', y=1.3924999999999996),\n",
              "  Data(x=[25, 30], edge_index=[2, 52], edge_attr=[52, 11], smiles='CCC(COC)NC(=O)C1=C(C2=CC=C(C(C)(C)C)C=C2)ON=C1C', y=4.102320000000003),\n",
              "  Data(x=[26, 30], edge_index=[2, 56], edge_attr=[56, 11], smiles='CC(C)C([NH2+]CC(=O)N(C)CC1=CC=CO1)C1=CC=C2OCCOC2=C1', y=1.9698999999999993),\n",
              "  Data(x=[26, 30], edge_index=[2, 56], edge_attr=[56, 11], smiles='C=C(C)CN1C(CCCNC(=O)CC2=CC=CC=C2)=NC2=CC=CC=C21', y=3.903900000000003),\n",
              "  Data(x=[34, 30], edge_index=[2, 74], edge_attr=[74, 11], smiles='O=C1NCCCC1NC(=O)C1CN(C(=O)N2CCOCC2)CCN1S(=O)(=O)C1=CC=C(F)C=C1', y=-0.6523999999999945),\n",
              "  Data(x=[22, 30], edge_index=[2, 46], edge_attr=[46, 11], smiles='CCC(OC1=CC=CC=C1)C(=O)NC1=CC=C(CC#N)C=C1', y=3.5487800000000016),\n",
              "  Data(x=[28, 30], edge_index=[2, 64], edge_attr=[64, 11], smiles='O=C(C[NH+]1CCC2=CC=CC=C2C1)N1CCCC1C1=CC=C2OCCOC2=C1', y=1.7624999999999995),\n",
              "  Data(x=[24, 30], edge_index=[2, 52], edge_attr=[52, 11], smiles='CC[NH+]1CCCC1CNC(=O)CCNC1=NC(Cl)=NC2=C1[NH]C=N2', y=-0.008299999999998975),\n",
              "  Data(x=[26, 30], edge_index=[2, 58], edge_attr=[58, 11], smiles='CN(C)C(=O)N1CC(NC(=O)C2=C[NH]N=C2N2C=NN=N2)C(C2CC2)C1', y=-0.4927999999999986),\n",
              "  Data(x=[34, 30], edge_index=[2, 74], edge_attr=[74, 11], smiles='CCOC(=O)C1=C(C)N=C2SC(=CC3=CC=C(OC)C=C3OC)C(=O)N2C1C1=CC=C(Cl)C=C1', y=3.4689000000000023),\n",
              "  Data(x=[17, 30], edge_index=[2, 36], edge_attr=[36, 11], smiles='CC(C)(C)OC(=O)N1CCCC2(CCOC2)C1', y=2.4240000000000004),\n",
              "  Data(x=[27, 30], edge_index=[2, 60], edge_attr=[60, 11], smiles='NC(=O)C1=CC(C2=CSC(CC3=CN4C=C(Cl)C=C(Cl)C4=N3)=N2)=CC=C1O', y=4.159900000000002),\n",
              "  Data(x=[32, 30], edge_index=[2, 72], edge_attr=[72, 11], smiles='CC1(C(=O)NCC2CCCO2)CN2C(=CC3=CC=CC=C32)C(=O)N1CC1=CC=CC(F)=C1', y=3.490300000000002),\n",
              "  Data(x=[33, 30], edge_index=[2, 74], edge_attr=[74, 11], smiles='CC1CCN(C2=CC3=C(C=C2NC(=O)C2=CC=C4OCOC4=C2)N(C)C(=O)C(=O)N3C)CC1', y=2.4544999999999995),\n",
              "  Data(x=[31, 30], edge_index=[2, 66], edge_attr=[66, 11], smiles='C=CCN1C(CC2=CC=C(OC)C=C2)=NN=C1SCC(=O)NC1=CC=CC=C1C(C)C', y=4.917700000000004),\n",
              "  Data(x=[26, 30], edge_index=[2, 56], edge_attr=[56, 11], smiles='COC1=CC=C(N2C(=O)[NH]C(C(=O)O)=C(C[NH+]3CCCC3)C2=O)C=C1Cl', y=0.06470000000000042),\n",
              "  Data(x=[25, 30], edge_index=[2, 56], edge_attr=[56, 11], smiles='CCCC1=NN=C(N2CC3C[NH+](C4CCOCC4)CC3(C(=O)O)C2)S1', y=0.07530000000000275),\n",
              "  Data(x=[20, 30], edge_index=[2, 46], edge_attr=[46, 11], smiles='CC1=CC2=CC(NC3=NC=NC4=C3C=CS4)=CC=C2[NH]1', y=4.224620000000002),\n",
              "  Data(x=[19, 30], edge_index=[2, 38], edge_attr=[38, 11], smiles='CCCCC[NH2+]CC1=CC(OC)=C(OC)C(OC)=C1', y=1.9659999999999995),\n",
              "  Data(x=[31, 30], edge_index=[2, 70], edge_attr=[70, 11], smiles='CCCC12CC(OC1=O)C1C(CC=C3CC4(CCC31C)OCCO4)C2(O)C=COCC', y=3.879100000000003),\n",
              "  Data(x=[21, 30], edge_index=[2, 44], edge_attr=[44, 11], smiles='CC(C)SC1=CC=CC(Cl)=C1CN(C)CC1=NC=NN1C', y=3.6010000000000018),\n",
              "  Data(x=[25, 30], edge_index=[2, 54], edge_attr=[54, 11], smiles='CCC1=CC2=CC=C(C)C(C)=C2N=C1SCC(=O)NCC1=CC=CO1', y=4.415540000000004),\n",
              "  Data(x=[19, 30], edge_index=[2, 42], edge_attr=[42, 11], smiles='FC1=CC=CC=C1CN1C=C(Br)C(N2C=NN=N2)=N1', y=1.8087),\n",
              "  Data(x=[22, 30], edge_index=[2, 48], edge_attr=[48, 11], smiles='C[NH+](CCC1=CC=NC=C1)CC1=CC=C(N2CCCC2)N=C1', y=1.3342000000000003),\n",
              "  Data(x=[22, 30], edge_index=[2, 44], edge_attr=[44, 11], smiles='CCCCCOC1=CC(C)=C(Cl)C=C1S(=O)(=O)N(CC)CC', y=4.247920000000003),\n",
              "  Data(x=[26, 30], edge_index=[2, 60], edge_attr=[60, 11], smiles='CN(CC1=NC2=CC=CC=C2[NH]1)C1=CC(C2CC([NH3+])C2)=NC(C2CC2)=N1', y=2.3545999999999996),\n",
              "  Data(x=[31, 30], edge_index=[2, 68], edge_attr=[68, 11], smiles='O=C(CSC1=NN=C(C2=CC=C([N+](=O)[O-])C=C2)N1C1=CC=CC=C1)OC1CCCCC1', y=4.810500000000004),\n",
              "  Data(x=[28, 30], edge_index=[2, 62], edge_attr=[62, 11], smiles='C=C(C)C1CC=C(C2OC34CCCCC3C(C#N)(C#N)C2(C#N)C(=N)O4)CC1', y=4.125310000000003),\n",
              "  Data(x=[27, 30], edge_index=[2, 60], edge_attr=[60, 11], smiles='CC[NH+]1CCN(C2=CC=C(NC(=O)C3=CSC(C4=CC=CS4)=N3)C=C2)CC1', y=2.848700000000002),\n",
              "  Data(x=[32, 30], edge_index=[2, 72], edge_attr=[72, 11], smiles='CN1C=CN=C1C(C1=CC=CC=C1)N1CC(=O)C(C2=NC(C3=CC=C(Cl)C=C3)=CS2)=C1N', y=4.498600000000003),\n",
              "  Data(x=[30, 30], edge_index=[2, 64], edge_attr=[64, 11], smiles='C=CCNC1=CC(N2CCN(C(=O)C3=CC=C(C(C)C)C=C3)CC2)=CC=C1[N+](=O)[O-]', y=4.278500000000004),\n",
              "  Data(x=[27, 30], edge_index=[2, 58], edge_attr=[58, 11], smiles='CC1=CC=C(C2C3=C([NH]C(=O)S3)SC(C(=O)O)C2(CC(=O)O)C(=O)O)C=C1', y=1.9813199999999997),\n",
              "  Data(x=[25, 30], edge_index=[2, 56], edge_attr=[56, 11], smiles='COC1=CC=C(C2=CN3N=C(C4=CC=CC(OC)=C4)C=C3N=C2)C=C1', y=4.0805000000000025),\n",
              "  Data(x=[23, 30], edge_index=[2, 50], edge_attr=[50, 11], smiles='CC1=CC(NC(=O)C(C)OC2=CC=C3C(=O)CCCC3=C2)=NO1', y=2.9080200000000014),\n",
              "  Data(x=[26, 30], edge_index=[2, 56], edge_attr=[56, 11], smiles='COCC1CCCCN1S(=O)(=O)C1=CC=CC(C(=O)N2CC[NH2+]CC2)=C1', y=-0.10459999999999692),\n",
              "  Data(x=[30, 30], edge_index=[2, 66], edge_attr=[66, 11], smiles='CC1=C(CN=NC2=NC(NC3=CC=C(F)C=C3)=NC(N(C)C)=N2)C2=CC=CC=C2[NH]1', y=4.893920000000003),\n",
              "  Data(x=[26, 30], edge_index=[2, 58], edge_attr=[58, 11], smiles='CC1=CC=C(N2CC(C(=O)NC3=CC=C4CCCC4=C3)CC2=O)C=C1C', y=3.7837400000000025),\n",
              "  Data(x=[25, 30], edge_index=[2, 52], edge_attr=[52, 11], smiles='COC1=CC=CC=C1CN(CC1=CC=CO1)CC(O)COC(C)(C)C', y=3.466400000000003),\n",
              "  Data(x=[27, 30], edge_index=[2, 58], edge_attr=[58, 11], smiles='CCNC(=O)C(C)[NH+]1CCC2(CCC(=O)N(CC3=CN=C(C)C=N3)C2)CC1', y=0.09712000000000254),\n",
              "  Data(x=[20, 30], edge_index=[2, 42], edge_attr=[42, 11], smiles='CC(C)CC(=O)NCC12CCCC=C1N(C)C(=O)CC2', y=2.4551000000000007),\n",
              "  Data(x=[24, 30], edge_index=[2, 52], edge_attr=[52, 11], smiles='CC(NS(=O)(=O)C1=CC(Cl)=CC=C1Cl)C1=CC=C2OCCOC2=C1', y=3.804100000000002),\n",
              "  Data(x=[31, 30], edge_index=[2, 68], edge_attr=[68, 11], smiles='CC(C)NC1=C2C(C(F)(F)F)=CC(C3CCN(C(=O)C4=CC=CC=N4)CC3)=NC2=N[NH]1', y=4.211800000000002),\n",
              "  Data(x=[21, 30], edge_index=[2, 46], edge_attr=[46, 11], smiles='O=C(C[N+]1=CC=C(C2=CC=CS2)N=C1)C1=CC=C(Cl)C=C1', y=3.6339000000000024),\n",
              "  Data(x=[25, 30], edge_index=[2, 54], edge_attr=[54, 11], smiles='CC1=CC=C(C(=O)N2CCN(C3=CC=C(C)C=C3C)C(=O)C2C)C=C1', y=3.4893600000000022),\n",
              "  Data(x=[21, 30], edge_index=[2, 46], edge_attr=[46, 11], smiles='CCC1=CC=C(C(=O)N2CC[NH+](C3CCCC3O)CC2)S1', y=0.5645999999999995),\n",
              "  Data(x=[26, 30], edge_index=[2, 54], edge_attr=[54, 11], smiles='CCC(NC(=O)CN(C)S(=O)(=O)C1=CC=CC=C1)C1=CC=C(OC)C=C1', y=2.5832000000000006),\n",
              "  Data(x=[26, 30], edge_index=[2, 54], edge_attr=[54, 11], smiles='CC[NH+](CC)CC1=CC=C(CNC(=O)C2=CC=C(NC(C)=O)C=C2)C=C1', y=1.9996999999999996),\n",
              "  Data(x=[31, 30], edge_index=[2, 68], edge_attr=[68, 11], smiles='COC1=CC=C(C(CNC(=O)C2=NOC(C3=CC=C(C)C=C3)=C2)[NH+]2CCCCC2)C=C1', y=3.198520000000002),\n",
              "  Data(x=[30, 30], edge_index=[2, 66], edge_attr=[66, 11], smiles='O=C(NCCC1=CC=CS1)C1=CN(C2CCCC2)C=C(C(=O)N2CCCCC2)C1=O', y=3.6235000000000026),\n",
              "  Data(x=[16, 30], edge_index=[2, 32], edge_attr=[32, 11], smiles='C=C(C)CNC(=S)NN1C(C)CCCC1C', y=2.2045000000000003),\n",
              "  Data(x=[28, 30], edge_index=[2, 60], edge_attr=[60, 11], smiles='C=CCN1C(=O)C(O)=C(C(=O)C2=CC=CC=C2)C1C1=CC=C(OC)C=C1OC', y=3.4681000000000024),\n",
              "  Data(x=[25, 30], edge_index=[2, 54], edge_attr=[54, 11], smiles='CC[NH+](CC)CCNC1=NC=NC2=C1C=NN2C1=CC=C(C)C(Cl)=C1', y=2.1139200000000002),\n",
              "  Data(x=[25, 30], edge_index=[2, 52], edge_attr=[52, 11], smiles='CCOCCN(CC1=NN=NN1C1=CC=CC=C1)CC(C)C(=O)OC', y=1.3098999999999994),\n",
              "  Data(x=[19, 30], edge_index=[2, 40], edge_attr=[40, 11], smiles='CCOC(=O)C1=C(NC2=CC=C(C)C(C)=C2)SN=N1', y=3.075240000000001),\n",
              "  Data(x=[29, 30], edge_index=[2, 64], edge_attr=[64, 11], smiles='CC1=CC=C(C)C(S(=O)(=O)NC2=CC=C(Cl)C(C3=NN=C4CCCCCN43)=C2)=C1', y=4.7425400000000035),\n",
              "  Data(x=[20, 30], edge_index=[2, 42], edge_attr=[42, 11], smiles='CN(C)C1=NC=CC=C1C(=O)NCC1=CC=CC(Br)=C1', y=2.8401000000000014),\n",
              "  Data(x=[20, 30], edge_index=[2, 44], edge_attr=[44, 11], smiles='CCN1C(SCC2=CC=CC=C2)=NN=C1C1=CC=CO1', y=3.8503000000000025),\n",
              "  Data(x=[32, 30], edge_index=[2, 72], edge_attr=[72, 11], smiles='CC1=C(C(=O)N2CCCCC2)N=NN1C1=CC=CC2=C1CCN(CC1=CC=C(F)C=C1)C2', y=3.8992200000000032),\n",
              "  Data(x=[27, 30], edge_index=[2, 58], edge_attr=[58, 11], smiles='CC1=CC2=C(C=C1C)C(CC(=O)OCC(=O)NC1CCCC(C)C1C)=CO2', y=4.076240000000003),\n",
              "  Data(x=[32, 30], edge_index=[2, 68], edge_attr=[68, 11], smiles='COC1=CC(C[NH+](C)CC2(O)CCCN(C3=NC=CC=N3)C2)=CC=C1OCCC[NH+](C)C', y=-0.5551999999999946),\n",
              "  Data(x=[20, 30], edge_index=[2, 44], edge_attr=[44, 11], smiles='O=C1CCCN1CC(=O)N(CC1=CC=NC=C1)C1CC1', y=1.1949999999999992),\n",
              "  Data(x=[24, 30], edge_index=[2, 52], edge_attr=[52, 11], smiles='CCNC1=NC(NCC2=CC=C(Br)C=C2)=CC(C2=CC=NC=C2)=N1', y=4.345000000000003),\n",
              "  Data(x=[27, 30], edge_index=[2, 60], edge_attr=[60, 11], smiles='CN1C=CC=C1C(=O)N1CCCC2(CCC(=O)N(CC3=CC=NC=C3)C2)C1', y=2.4651000000000005),\n",
              "  Data(x=[22, 30], edge_index=[2, 46], edge_attr=[46, 11], smiles='CCOC(=O)C(=O)NC1=C(N2CCCCC2)C(=O)N(C)N=C1', y=0.27220000000000044),\n",
              "  Data(x=[21, 30], edge_index=[2, 46], edge_attr=[46, 11], smiles='CC(CC1=CC=CC=C1F)[NH2+]C1CCOC2(CCSC2)C1', y=2.3748000000000005),\n",
              "  Data(x=[24, 30], edge_index=[2, 52], edge_attr=[52, 11], smiles='O=C(NC1=CC=CC=C1C(=O)NC1CCCCC1)C1=CC=CC=C1', y=4.001400000000003),\n",
              "  Data(x=[29, 30], edge_index=[2, 64], edge_attr=[64, 11], smiles='CC(C(=O)OCC(=O)NC1=NC2=CC=CC=C2S1)N1C(=O)C2=CC=CC=C2C1=O', y=2.4627),\n",
              "  Data(x=[16, 30], edge_index=[2, 32], edge_attr=[32, 11], smiles='CSCC(CCO)NC(=O)C1=CC(Br)=C[NH]1', y=1.6209999999999998),\n",
              "  Data(x=[31, 30], edge_index=[2, 66], edge_attr=[66, 11], smiles='COC1=CC=C(C(CNC(=O)CNC(=O)CC2=CC=CC3=CC=CC=C23)[NH+](C)C)C=C1', y=1.5091),\n",
              "  Data(x=[29, 30], edge_index=[2, 64], edge_attr=[64, 11], smiles='CN1C=C(NC(=O)NCCC[NH+]2CCC3=CC=CC=C3C2)C2=CC=CC=C2C1=O', y=1.6913000000000002),\n",
              "  Data(x=[27, 30], edge_index=[2, 62], edge_attr=[62, 11], smiles='COC1CCCN(C(=O)C2=CN=C(C34CC5CC(CC(C5)C3)C4)[NH]C2=O)C1', y=2.4887000000000006),\n",
              "  Data(x=[25, 30], edge_index=[2, 58], edge_attr=[58, 11], smiles='O=C(C1CC1)N1CC2CC(C1)C1=C(C3=CC=CC=C3)C=CC(=O)N1C2', y=2.8710000000000013),\n",
              "  Data(x=[30, 30], edge_index=[2, 68], edge_attr=[68, 11], smiles='COC1=CC=C(CC2=NC(N3CCN(C)CC3)=C3C4=C(CCC4)SC3=N2)C=C1OC', y=3.5398000000000023),\n",
              "  Data(x=[29, 30], edge_index=[2, 64], edge_attr=[64, 11], smiles='COC1=CC=C2C=C(CN(C)C(=O)CC3SC4=CC=CC=C4NC3=O)C=CC2=C1', y=4.309900000000003),\n",
              "  Data(x=[25, 30], edge_index=[2, 54], edge_attr=[54, 11], smiles='CC1CCCN(C2=CC=C(CNC(=O)C3=CC=C(Cl)C=C3F)C=C2)C1', y=4.645400000000004),\n",
              "  Data(x=[22, 30], edge_index=[2, 46], edge_attr=[46, 11], smiles='CCOC1=CC(C)=C(Cl)C=C1S(=O)(=O)N1CC(C)OC(C)C1', y=2.8450200000000017),\n",
              "  Data(x=[24, 30], edge_index=[2, 52], edge_attr=[52, 11], smiles='CC(C)OC(=O)C1=CC=C(CSC2=NC3=C(CCC3)C(=O)[NH]2)C=C1', y=3.116100000000001),\n",
              "  Data(x=[18, 30], edge_index=[2, 38], edge_attr=[38, 11], smiles='COC1CCN(C(=O)NC2=CC=CC=C2F)CC1', y=2.468400000000001),\n",
              "  Data(x=[21, 30], edge_index=[2, 46], edge_attr=[46, 11], smiles='NC(=O)C1=CC(C2CCN(C(=O)C3=CC=CS3)CC2)=N[NH]1', y=1.5898999999999999),\n",
              "  Data(x=[21, 30], edge_index=[2, 46], edge_attr=[46, 11], smiles='CC1=CC(OC2=CC=CC=C2F)=NC(C2CCCCN2)=N1', y=3.5310200000000016),\n",
              "  Data(x=[21, 30], edge_index=[2, 44], edge_attr=[44, 11], smiles='CC1=CC=C(C(=O)NC(=S)NC2=CC=C(I)C=C2C)C=C1', y=4.034840000000002),\n",
              "  Data(x=[24, 30], edge_index=[2, 52], edge_attr=[52, 11], smiles='CC1=NC(CC(=O)NCC(C2=CC=C(F)C=C2)N2CCCC2)=CS1', y=3.0864200000000013),\n",
              "  Data(x=[17, 30], edge_index=[2, 36], edge_attr=[36, 11], smiles='O=C(O)CN(C(=O)C1=CC=CC=C1Cl)C1CC1', y=2.0292000000000003),\n",
              "  Data(x=[24, 30], edge_index=[2, 50], edge_attr=[50, 11], smiles='CCCS(=O)(=O)NC1CCN(C(=O)NC2=CC=C(Cl)C(Cl)=C2)CC1', y=3.3191000000000015),\n",
              "  Data(x=[33, 30], edge_index=[2, 72], edge_attr=[72, 11], smiles='CC(=O)C1=CC=C(N2C(=O)CC(N3CCN(S(=O)(=O)C4=CC=C(C)C=C4C)CC3)C2=O)C=C1', y=2.1444400000000003),\n",
              "  Data(x=[14, 30], edge_index=[2, 28], edge_attr=[28, 11], smiles='CCOP(=O)(OCC)C1CCCCN1', y=2.3521),\n",
              "  Data(x=[21, 30], edge_index=[2, 46], edge_attr=[46, 11], smiles='CC1=CC(NC(=O)N2CCN3CCCCC3C2)=CC=C1Br', y=3.459520000000002),\n",
              "  Data(x=[20, 30], edge_index=[2, 42], edge_attr=[42, 11], smiles='CC1=NC(Cl)=C(Cl)N1CC(=O)NC1=CN(C(C)C)N=N1', y=2.3094199999999994),\n",
              "  Data(x=[22, 30], edge_index=[2, 46], edge_attr=[46, 11], smiles='CC(C)OCC(O)CN1CC[NH+](CCC2=CC=CC=N2)CC1', y=-0.3894999999999973),\n",
              "  Data(x=[30, 30], edge_index=[2, 66], edge_attr=[66, 11], smiles='CC1=CC(F)=CC=C1NC(=O)C1CCN(C(=O)C2=CC(C3=CC=NC=C3)=N[NH]2)CC1', y=3.410120000000001),\n",
              "  Data(x=[22, 30], edge_index=[2, 46], edge_attr=[46, 11], smiles='CC1=C(O)C=CC(NS(=O)(=O)C2=CC=C([N+](=O)[O-])C=C2)=C1C', y=2.7180400000000002),\n",
              "  Data(x=[30, 30], edge_index=[2, 66], edge_attr=[66, 11], smiles='CC1=CC(S(=O)(=O)N2CCC3=CC=CC=C32)=CC=C1OCC(=O)NC1CCCCC1', y=3.5741200000000024),\n",
              "  Data(x=[30, 30], edge_index=[2, 66], edge_attr=[66, 11], smiles='O=C(C1=CC=C(F)C=C1)C1=CC=CC=C1C(=O)N1CCN(C2=CC=CC=C2O)CC1', y=3.724700000000002),\n",
              "  Data(x=[29, 30], edge_index=[2, 64], edge_attr=[64, 11], smiles='CC1=CC(C)=CC(N2C(SCC(=O)NC3=NOC(C)=C3)=NC3=C(SCC3)C2=O)=C1', y=3.5247600000000014),\n",
              "  Data(x=[28, 30], edge_index=[2, 62], edge_attr=[62, 11], smiles='CCCCCCSC1=NC(=O)C2=C3C=CC=CC3=NC(C3=CC=CN=C3)N2N1', y=2.5381),\n",
              "  Data(x=[24, 30], edge_index=[2, 50], edge_attr=[50, 11], smiles='CC[NH+](CC)C(CNS(=O)(=O)C1=CC=CN=C1)CC1=CC=CC=C1', y=0.8959000000000017),\n",
              "  Data(x=[33, 30], edge_index=[2, 70], edge_attr=[70, 11], smiles='CC1=CC=C(N(C(C)C(=O)NC2=CC=C(S(=O)(=O)N3CCCCC3)C=C2)S(C)(=O)=O)C=C1C', y=3.2712400000000024),\n",
              "  Data(x=[25, 30], edge_index=[2, 56], edge_attr=[56, 11], smiles='O=C1OC(C2=CC=C(Br)C=C2)=NC1=CC1=COC2=CC=CC=C2C1=O', y=3.900000000000002),\n",
              "  Data(x=[27, 30], edge_index=[2, 60], edge_attr=[60, 11], smiles='FC1=CC=CC(CC2=CC=C(C3CCCC[NH+]3CC3=CC=CN=C3)C=N2)=C1', y=3.5166000000000013),\n",
              "  Data(x=[33, 30], edge_index=[2, 74], edge_attr=[74, 11], smiles='O=C(CC1=CC=CS1)N1CCC2(CC1)CC2C(=O)N1CCN(CC=CC2=CC=CC=C2)CC1', y=3.776900000000003),\n",
              "  Data(x=[24, 30], edge_index=[2, 50], edge_attr=[50, 11], smiles='COC1=CC=C(S(=O)(=O)N2CCCC(C(=O)NCCCO)C2)C=C1', y=0.5945000000000001),\n",
              "  Data(x=[24, 30], edge_index=[2, 54], edge_attr=[54, 11], smiles='O=C(NC1=C(C2CC2)[NH]N=C1C1=CC=CC(F)=C1)C1CCCCC1', y=4.612000000000004),\n",
              "  Data(x=[25, 30], edge_index=[2, 54], edge_attr=[54, 11], smiles='CCC(OC)C(=O)N1CCOC2=C(O)C=C(C3=CC=CN=C3)C=C2C1', y=2.600200000000001),\n",
              "  Data(x=[28, 30], edge_index=[2, 60], edge_attr=[60, 11], smiles='CC(C)C1=[NH+]C=CN1CCCNC(=O)C1=CC=C(N2CCCC(CO)C2)N=C1', y=1.8493999999999997),\n",
              "  Data(x=[18, 30], edge_index=[2, 36], edge_attr=[36, 11], smiles='COC1=CC=C(S(=O)(=O)NC(C)C(C)C)C=C1F', y=2.1571),\n",
              "  Data(x=[25, 30], edge_index=[2, 56], edge_attr=[56, 11], smiles='O=C1C2=CC=CC=C2C(C2=CC=C(Cl)C=C2)=NN1CN1CCOCC1', y=3.0066000000000015),\n",
              "  Data(x=[26, 30], edge_index=[2, 56], edge_attr=[56, 11], smiles='COC1=CC=C(C2=NSC(NC(=O)C3=C(Cl)N(C)N=C3C(C)C)=N2)C=C1', y=3.976300000000002),\n",
              "  Data(x=[22, 30], edge_index=[2, 46], edge_attr=[46, 11], smiles='CCN(CC)C(=O)C1=CC=C(NC(=O)C2=CC=CC=C2)C=C1', y=3.4209000000000014),\n",
              "  Data(x=[31, 30], edge_index=[2, 68], edge_attr=[68, 11], smiles='CC1=CC=CC=C1N1C(=O)C(=CC2=CC=CN2C2=CC=CC(C(=O)O)=C2)C(=O)NC1=S', y=3.315220000000001),\n",
              "  Data(x=[29, 30], edge_index=[2, 62], edge_attr=[62, 11], smiles='COC(=O)CC1CCN(C(=O)CC2NC(=O)N(CC3=CC=CC=C3Cl)C2=O)CC1', y=1.9521999999999997),\n",
              "  Data(x=[23, 30], edge_index=[2, 52], edge_attr=[52, 11], smiles='O=C(NC1=CC=CC(Cl)=C1)C1=CC2=CC=C3C=CC=NC3=C2[NH]1', y=4.621800000000002),\n",
              "  Data(x=[28, 30], edge_index=[2, 58], edge_attr=[58, 11], smiles='CCC(=O)N(CC1=CC=CC(Cl)=C1)C(CC1=CC=CC=C1)C(=O)NC(C)CC', y=4.604600000000003),\n",
              "  Data(x=[18, 30], edge_index=[2, 36], edge_attr=[36, 11], smiles='CCNS(=O)(=O)C1=CC(C(C)C)=C(OC)C=C1C', y=2.4252200000000004),\n",
              "  Data(x=[24, 30], edge_index=[2, 52], edge_attr=[52, 11], smiles='COC1=CC=CC=C1C1=N[NH]C(C(=O)N(C)CCC2=NOC=N2)=C1', y=1.783),\n",
              "  Data(x=[26, 30], edge_index=[2, 56], edge_attr=[56, 11], smiles='COC1=CC(OC)=CC(C(=O)NC2=CC=C(N3CCCCC3C)C=C2)=C1', y=4.334900000000004),\n",
              "  Data(x=[28, 30], edge_index=[2, 60], edge_attr=[60, 11], smiles='CC1=CC(C2=CC=C(C(=O)N(C)CC[NH+](C)C)C=C2)=NC(C2=CC=CC=C2)=N1', y=2.33552),\n",
              "  Data(x=[26, 30], edge_index=[2, 58], edge_attr=[58, 11], smiles='O=C(NCC1=C(O)C=CC2=C1CCCC2)C1=CC=CC(N2C=NC=N2)=C1', y=2.7817000000000007),\n",
              "  Data(x=[22, 30], edge_index=[2, 46], edge_attr=[46, 11], smiles='CC(=O)N(CC1=NOC(C)=N1)C1CCN(CCS(C)(=O)=O)C1', y=-0.15457999999999839),\n",
              "  Data(x=[29, 30], edge_index=[2, 62], edge_attr=[62, 11], smiles='CCCC(=O)NC1=NC2=CC=C(NC(=S)NC(=O)C3=CC=C(CC)C=C3)C=C2S1', y=4.7241000000000035),\n",
              "  Data(x=[19, 30], edge_index=[2, 40], edge_attr=[40, 11], smiles='COC1=CC=NC(N2CCC(NS(C)(=O)=O)CC2)=N1', y=0.0031999999999998696),\n",
              "  Data(x=[22, 30], edge_index=[2, 46], edge_attr=[46, 11], smiles='CN1CC(C(=O)O)OC2(CCN(C(=O)OC(C)(C)C)CC2)C1', y=1.1712999999999996),\n",
              "  Data(x=[27, 30], edge_index=[2, 60], edge_attr=[60, 11], smiles='O=C(NCC1CCCO1)C1=CC=CC=C1C1=NC=C(C2=CC=C(Cl)C=C2)O1', y=4.570800000000004),\n",
              "  Data(x=[27, 30], edge_index=[2, 60], edge_attr=[60, 11], smiles='CN1C(CN2CCCC2)=NN=C1C1CCCN(C(=O)CCN2C=CN=C2)C1', y=1.4036999999999997),\n",
              "  Data(x=[24, 30], edge_index=[2, 54], edge_attr=[54, 11], smiles='COC1=CC=C2C=C(C3CN(CC4=NC=CS4)CCO3)C=CC2=C1', y=3.8784000000000027),\n",
              "  Data(x=[27, 30], edge_index=[2, 58], edge_attr=[58, 11], smiles='CNC(=O)C1(CC2=CC(C3=CC=CC=C3)=NO2)CC[NH+](CC(=O)N(C)C)C1', y=-0.006699999999998374),\n",
              "  Data(x=[24, 30], edge_index=[2, 50], edge_attr=[50, 11], smiles='CC(C)(C)OC(=O)NC1CCC(NC(=O)C2=CC=CC=C2Cl)CC1', y=3.905700000000003),\n",
              "  Data(x=[21, 30], edge_index=[2, 46], edge_attr=[46, 11], smiles='COCC1CN(C(=O)C2=CC=NC=C2)CC2=NC=CN2C1', y=1.1966999999999997),\n",
              "  Data(x=[33, 30], edge_index=[2, 74], edge_attr=[74, 11], smiles='CCC1=NC(CN2C(=O)COC3=CC(S(=O)(=O)N4CCC5=CC=CC=C5C4)=C(C)C=C32)=NO1', y=2.6130200000000006),\n",
              "  Data(x=[22, 30], edge_index=[2, 52], edge_attr=[52, 11], smiles='C1=CC=C2C(=C1)SC1=NN=C(SCC3=CN4C=CSC4=N3)N12', y=3.945500000000002),\n",
              "  Data(x=[34, 30], edge_index=[2, 76], edge_attr=[76, 11], smiles='CC1=CC(C2C(C3=CC=CC=N3)NC(=S)N2CC2CCCO2)=C(C)N1C1=CC=CC=C1C(=O)O', y=4.338840000000003),\n",
              "  Data(x=[25, 30], edge_index=[2, 54], edge_attr=[54, 11], smiles='CC(=O)N1CCC2=CC=C(NC(=O)COC3=CC=C(F)C=C3)C=C2C1', y=2.7478000000000016),\n",
              "  Data(x=[32, 30], edge_index=[2, 68], edge_attr=[68, 11], smiles='CC(C)C(NC(=O)C(C1=CC=CC=C1)C1=CC=CC=C1)C(=O)OCC(=O)C1=CC=CC=C1', y=4.385400000000004),\n",
              "  Data(x=[16, 30], edge_index=[2, 32], edge_attr=[32, 11], smiles='COC1=CC=C(CC(C)(C[NH3+])C(=O)O)C=C1', y=0.5705000000000006),\n",
              "  Data(x=[24, 30], edge_index=[2, 52], edge_attr=[52, 11], smiles='O=C(COC1=CC=C2CCCCC2=C1)NCCSC1=CC=CC=C1', y=3.8527000000000022),\n",
              "  Data(x=[18, 30], edge_index=[2, 38], edge_attr=[38, 11], smiles='CN1C=C(NC(=O)CSC2=CC=CC(Br)=C2)C=N1', y=2.913400000000001),\n",
              "  Data(x=[25, 30], edge_index=[2, 54], edge_attr=[54, 11], smiles='CC(NC(=O)NC(C)C1=CC=CC(N2CCCC2)=C1)C1=CC=NC=C1', y=3.803200000000003),\n",
              "  Data(x=[27, 30], edge_index=[2, 60], edge_attr=[60, 11], smiles='O=C(O)CN1C=CC(C2CCCN(C(=O)CC3=CC=C4OCOC4=C3)C2)=N1', y=1.6451000000000002),\n",
              "  Data(x=[24, 30], edge_index=[2, 52], edge_attr=[52, 11], smiles='COC1CN(C(=O)CN2C=CC=N2)CCC1CC1=CC=CC(F)=C1', y=2.128399999999999),\n",
              "  Data(x=[25, 30], edge_index=[2, 54], edge_attr=[54, 11], smiles='CCCOCC(=O)N1CCCC(N2CCN(C3=CC=CC=C3)CC2)C1', y=2.2261999999999995),\n",
              "  Data(x=[28, 30], edge_index=[2, 62], edge_attr=[62, 11], smiles='CC(=O)N1CCN(C2=CC=C(NC(=O)C3=C(Cl)C4=CC=CC=C4S3)C=C2)CC1', y=4.475500000000004),\n",
              "  Data(x=[26, 30], edge_index=[2, 56], edge_attr=[56, 11], smiles='CCOC(=O)C1=CC=C(NC2SC(=O)N(CC3=CC=CC=C3)C2=O)C=C1', y=3.496900000000002),\n",
              "  Data(x=[31, 30], edge_index=[2, 70], edge_attr=[70, 11], smiles='COC1=CC(Cl)=C(C)C=C1NC(=O)C1=CC2=CC3=C4C(=C2OC1=N)CCCN4CCC3', y=4.833790000000004),\n",
              "  Data(x=[31, 30], edge_index=[2, 70], edge_attr=[70, 11], smiles='CC1=C(C2=NN=C(SC(C)C(=O)N3CCC4=CC=CC=C43)N2C2=CC=CC=C2)C=CO1', y=4.905620000000004),\n",
              "  Data(x=[27, 30], edge_index=[2, 60], edge_attr=[60, 11], smiles='O=C(NC1=CC(F)=CC(F)=C1)C1CCCCN1C(=O)C1=NOC(C2CC2)=C1', y=3.4636000000000022),\n",
              "  Data(x=[21, 30], edge_index=[2, 46], edge_attr=[46, 11], smiles='CC1=C(C(=O)NCC2CCOC2)N=C(C2=CC=CC=C2)O1', y=2.4163200000000007),\n",
              "  Data(x=[31, 30], edge_index=[2, 68], edge_attr=[68, 11], smiles='C=CCN1CC(C(=O)NCC2CCC(C3=NN=C(C4=CC=C(C)N=C4)O3)CC2)CC1=O', y=2.8645200000000006),\n",
              "  Data(x=[26, 30], edge_index=[2, 58], edge_attr=[58, 11], smiles='CN(CC1CCCCO1)C(=O)C1=CC=CC(C2=CC=C3[NH]C=NC3=C2)=C1', y=3.871000000000002),\n",
              "  Data(x=[21, 30], edge_index=[2, 42], edge_attr=[42, 11], smiles='COC1=NC(N(C)C)=NC(N(C#N)C(C)C(=O)N(C)C)=N1', y=-0.28961999999999977),\n",
              "  Data(x=[19, 30], edge_index=[2, 38], edge_attr=[38, 11], smiles='CC(NC(CO)C(C)C)=C1C(=O)CC(C)(C)CC1=O', y=1.8251),\n",
              "  Data(x=[22, 30], edge_index=[2, 48], edge_attr=[48, 11], smiles='CC(=O)N1CC2(CCN(CC3=NC=C[NH]3)CC2)CC1C(=O)O', y=0.6972999999999998),\n",
              "  Data(x=[33, 30], edge_index=[2, 72], edge_attr=[72, 11], smiles='CC(=O)C1=CC=C(NC(=O)CN2C(=O)N(CC3=CC=C(C)C=C3)C(=O)C3=CC=CC=C32)C=C1', y=3.361220000000002),\n",
              "  Data(x=[24, 30], edge_index=[2, 50], edge_attr=[50, 11], smiles='CC1=CC=C(C(CNC(=O)COC2=CC=C(F)C=C2)[NH+](C)C)C=C1', y=1.5149199999999996),\n",
              "  Data(x=[22, 30], edge_index=[2, 46], edge_attr=[46, 11], smiles='CC(C(=O)NC1=NC=CC=N1)N(C)CC1=NC=CN1C(F)F', y=1.5271999999999997),\n",
              "  Data(x=[21, 30], edge_index=[2, 44], edge_attr=[44, 11], smiles='CC1=CN(CC(C)[NH2+]CCOC2=CC=C(C#N)C=C2)N=C1', y=1.0940999999999992),\n",
              "  Data(x=[20, 30], edge_index=[2, 44], edge_attr=[44, 11], smiles='CN1C=CC(C[NH+]2CCCC(CC3=CC=CC=N3)C2)=N1', y=0.8526999999999991),\n",
              "  Data(x=[23, 30], edge_index=[2, 50], edge_attr=[50, 11], smiles='CC(O)CN1CCN(CC2=NN(C3=CC=CC=C3)N=C2)CC1C', y=1.1541999999999994),\n",
              "  Data(x=[30, 30], edge_index=[2, 62], edge_attr=[62, 11], smiles='CCCN(CC(=O)NC1=CC=C(F)C(F)=C1F)CC(=O)N1CCN(S(C)(=O)=O)CC1', y=0.8582000000000005),\n",
              "  Data(x=[32, 30], edge_index=[2, 72], edge_attr=[72, 11], smiles='CC(=O)N1CCN2C(C3=CN(C)N=C3)=CN=C2C12CCN(C(=O)C1=CN=C(C)C=N1)CC2', y=1.3756199999999996),\n",
              "  Data(x=[18, 30], edge_index=[2, 38], edge_attr=[38, 11], smiles='CC(=O)C1=C(C)NC(=S)NC1C1=CC=C(O)C=C1', y=1.7739999999999998),\n",
              "  Data(x=[31, 30], edge_index=[2, 66], edge_attr=[66, 11], smiles='CC(OC(=O)C1=CC=C(Cl)C(S(=O)(=O)N2CCOCC2)=C1)C(=O)NC1=CC=CN=C1Cl', y=2.5933),\n",
              "  Data(x=[27, 30], edge_index=[2, 60], edge_attr=[60, 11], smiles='CC1=CC=C(CNC(=O)CC2=C3[NH]C=CC=C3C(=O)N2C2=CC=CC=C2)O1', y=3.0307200000000014),\n",
              "  Data(x=[27, 30], edge_index=[2, 58], edge_attr=[58, 11], smiles='CC1=NN(C)C(C)=C1CN(C)C(=O)NC1CC(=O)N(C2=CC=C(F)C=C2)C1', y=2.1229399999999994),\n",
              "  Data(x=[28, 30], edge_index=[2, 66], edge_attr=[66, 11], smiles='COC(=O)C1=C(C)C2=C(N=CN3N=C(CC45CC6CC(CC(C6)C4)C5)N=C23)S1', y=4.1929200000000035),\n",
              "  Data(x=[27, 30], edge_index=[2, 62], edge_attr=[62, 11], smiles='COCCN1C(=O)C2C3CCC[NH+]3C3(C(=O)NC4=CC=C(F)C=C43)C2C1=O', y=-0.718399999999997),\n",
              "  Data(x=[24, 30], edge_index=[2, 52], edge_attr=[52, 11], smiles='O=C(NC1=CC=CC(NC(=O)C2=CC=NC=C2)=N1)C1=CC=NC=C1', y=2.3762),\n",
              "  Data(x=[31, 30], edge_index=[2, 68], edge_attr=[68, 11], smiles='COC1=CC=C(OC)C(C2CC(C3=C(O)[NH]C(=O)N(CC4=CC=CC=C4)C3=O)=NN2)=C1', y=1.7464),\n",
              "  Data(x=[19, 30], edge_index=[2, 40], edge_attr=[40, 11], smiles='CC(C)N=C1NN=C(C2=CC=CC([N+](=O)[O-])=C2)CS1', y=2.3997),\n",
              "  Data(x=[26, 30], edge_index=[2, 56], edge_attr=[56, 11], smiles='CC1=CC=C(OC2(C(=O)NC(C)C3=CC=CC(C)=N3)CC[NH2+]CC2)C=N1', y=1.4456399999999994),\n",
              "  Data(x=[25, 30], edge_index=[2, 54], edge_attr=[54, 11], smiles='CC1=CC=C(C)C(NC(=O)N2CCCC2C[NH+]2CC(C)OC(C)C2)=C1', y=1.9918399999999996),\n",
              "  Data(x=[25, 30], edge_index=[2, 54], edge_attr=[54, 11], smiles='CC(C)(C)C1=NN=C2SC(SCC(=O)C3=CC=C(Br)C=C3)=NN2C1=O', y=3.581000000000002),\n",
              "  Data(x=[26, 30], edge_index=[2, 58], edge_attr=[58, 11], smiles='O=C(C1=CN(CC2CCCO2)N=N1)N1CCN(C2CCCCC2)C(=O)C1', y=1.0742),\n",
              "  Data(x=[34, 30], edge_index=[2, 76], edge_attr=[76, 11], smiles='O=C(NC1CC[NH+](CC2=CC=CC=C2)CC1)C1=NN2C(C(F)(F)F)=CC(C3=CC=CO3)=NC2=N1', y=2.3804000000000007),\n",
              "  Data(x=[16, 30], edge_index=[2, 32], edge_attr=[32, 11], smiles='CCC(C(N)=O)[NH+](C)CC1CCCCC1O', y=-0.6838999999999984),\n",
              "  Data(x=[24, 30], edge_index=[2, 52], edge_attr=[52, 11], smiles='CC([NH2+]CC1(C2=CC=CC=C2)CCCC1)C1=CC=C(S(C)=O)C=C1', y=3.5604000000000022),\n",
              "  Data(x=[19, 30], edge_index=[2, 40], edge_attr=[40, 11], smiles='CC1=CC(NC(=O)CC[NH2+]CCN2C=CC=N2)=NO1', y=-0.2282799999999996),\n",
              "  Data(x=[22, 30], edge_index=[2, 50], edge_attr=[50, 11], smiles='C=CC1CN2CCC1CC2C1=C(CCO)C2=CC=CC=C2[NH]1', y=3.271600000000001),\n",
              "  Data(x=[23, 30], edge_index=[2, 48], edge_attr=[48, 11], smiles='CC(C)=CCCN1CCN(C(=O)CN(C)C)C2CS(=O)(=O)CC21', y=0.21410000000000218),\n",
              "  Data(x=[23, 30], edge_index=[2, 48], edge_attr=[48, 11], smiles='COC1=CC=C(OCCCNC2=C([N+](=O)[O-])C(C)=NN2C)C=C1', y=2.52632),\n",
              "  Data(x=[30, 30], edge_index=[2, 66], edge_attr=[66, 11], smiles='CC(=O)NC1=CC=C(C(=O)NCCC23CCCCC2C2=C([NH]C(=O)[NH]C2=O)O3)C=N1', y=1.0254999999999996),\n",
              "  Data(x=[22, 30], edge_index=[2, 48], edge_attr=[48, 11], smiles='O=C(C=CC1=CC=CC=C1)N1CCOC(C2=CC=NC=C2)C1', y=2.6949000000000014),\n",
              "  Data(x=[28, 30], edge_index=[2, 60], edge_attr=[60, 11], smiles='CC(C(=O)NC1=CC=CC=C1F)N1CCN(S(=O)(=O)C2=CC=C(Cl)C=C2)CC1', y=2.8126000000000015),\n",
              "  Data(x=[17, 30], edge_index=[2, 36], edge_attr=[36, 11], smiles='CC(CC1=CC=CC=C1)=NN1CCN(C)CC1', y=1.8524),\n",
              "  Data(x=[29, 30], edge_index=[2, 64], edge_attr=[64, 11], smiles='O=C(C1CCCCC1)N1CCCC2(CC=CCN(CC3=CC=C(F)C=C3)C2=O)C1', y=4.303300000000004),\n",
              "  Data(x=[21, 30], edge_index=[2, 46], edge_attr=[46, 11], smiles='COC1=C(C=O)C(O)=CC2=C1C(=O)C1=CC=CC=C1C2=O', y=1.9887),\n",
              "  Data(x=[22, 30], edge_index=[2, 46], edge_attr=[46, 11], smiles='CCOC(=O)CC1=NN=C(CCNC2=CC=C(CC)C=C2)[NH]1', y=2.1272999999999995),\n",
              "  Data(x=[15, 30], edge_index=[2, 34], edge_attr=[34, 11], smiles='FC1=CC=C2OCC3(COCCN3)C2=C1', y=1.0332),\n",
              "  Data(x=[28, 30], edge_index=[2, 62], edge_attr=[62, 11], smiles='CC(=O)C1=C(C)N(C)C2=C(C(=O)C3=CC=CC=C23)C1C1=CC=CC([N+](=O)[O-])=C1', y=4.094400000000003),\n",
              "  Data(x=[24, 30], edge_index=[2, 50], edge_attr=[50, 11], smiles='CN(CC[NH+](C)C1CCCCC1)C(=O)C1=CC([N+](=O)[O-])=CN=C1N', y=0.4914000000000015),\n",
              "  Data(x=[22, 30], edge_index=[2, 48], edge_attr=[48, 11], smiles='OCC1CCC[NH+]1CC(O)COC1=CC=C2C=CC=CC2=C1', y=0.6191000000000004),\n",
              "  Data(x=[30, 30], edge_index=[2, 66], edge_attr=[66, 11], smiles='CC1=NC(C(=O)NC(C)C(=O)NC(C)C2=CC=CC=C2)=CC2=C1[NH]C1=CC=CC=C12', y=4.020220000000002),\n",
              "  Data(x=[30, 30], edge_index=[2, 64], edge_attr=[64, 11], smiles='CCOC(=O)C1=CC=CC(NC(=O)C2CCN(S(=O)(=O)C3=CC=C(C)C=C3)CC2)=C1', y=3.211120000000002),\n",
              "  Data(x=[17, 30], edge_index=[2, 36], edge_attr=[36, 11], smiles='COC(=O)C1=C(C)N=C(N2C(=O)CCC2=O)S1', y=0.89152),\n",
              "  Data(x=[18, 30], edge_index=[2, 38], edge_attr=[38, 11], smiles='CC1CCCN(CC(=O)NC(C)C2=CC=CS2)C1', y=2.6572000000000013),\n",
              "  Data(x=[22, 30], edge_index=[2, 46], edge_attr=[46, 11], smiles='CCOC(=O)N1CCC(NC(=O)C2=C(F)C=CC=C2F)CC1', y=2.3155),\n",
              "  Data(x=[31, 30], edge_index=[2, 68], edge_attr=[68, 11], smiles='O=C(NCCC[NH+]1CCCC1)C1=CC=C(NC2=CC=NC(C3=CC=CC(F)=C3)=N2)C=C1', y=2.8249000000000013),\n",
              "  Data(x=[31, 30], edge_index=[2, 64], edge_attr=[64, 11], smiles='CCCOC(=O)C1=CC=C(NC(=O)COC(=O)CCC(=O)NC2=CC=CC(C)=C2)C=C1', y=3.4624200000000016),\n",
              "  Data(x=[26, 30], edge_index=[2, 56], edge_attr=[56, 11], smiles='C=CCOC1=CC=CC=C1CN1CC[NH+](CC2=CC=CS2)C(CCO)C1', y=1.9646),\n",
              "  Data(x=[21, 30], edge_index=[2, 42], edge_attr=[42, 11], smiles='CC(C)C(NC(=O)C1=CC=C(Cl)C=C1)C(=O)NCC(N)=O', y=0.6959000000000002),\n",
              "  Data(x=[31, 30], edge_index=[2, 68], edge_attr=[68, 11], smiles='CC1=CC=C(C2=NN=C(SCC(=O)NC3=CC=C(O)C=C3)N2C2=CC=CC=C2)C=C1C', y=4.987540000000003),\n",
              "  Data(x=[33, 30], edge_index=[2, 72], edge_attr=[72, 11], smiles='C=CCN1C(CC2=CSC(NC(=O)C3CC(=O)N(C4=CC=CC=C4OCC)C3)=N2)=N[NH]C1=S', y=3.5642900000000015),\n",
              "  Data(x=[34, 30], edge_index=[2, 74], edge_attr=[74, 11], smiles='COC1=CC=C(NS(=O)(=O)C2=CC=C3OC(SC(C(=O)N(C)C)C4=CC=CC=C4)=NC3=C2)C=C1', y=4.558800000000003),\n",
              "  Data(x=[28, 30], edge_index=[2, 62], edge_attr=[62, 11], smiles='O=C(NCC1=CC=C(S(=O)(=O)N2CCOCC2)C=C1)C1=N[NH]C2=CC=CC=C12', y=1.5137999999999994),\n",
              "  Data(x=[31, 30], edge_index=[2, 68], edge_attr=[68, 11], smiles='CN(C)C1=NC=C(C2=CC=CC(C(F)(F)F)=C2)C(C2CCCN2CC2=CC=CN=C2)=N1', y=4.960500000000005),\n",
              "  Data(x=[25, 30], edge_index=[2, 54], edge_attr=[54, 11], smiles='O=[N+]([O-])C(C(Cl)=C(Cl)Br)=C(N1CCOCC1)N1N=NC2=CC=CC=C21', y=3.207900000000002),\n",
              "  Data(x=[32, 30], edge_index=[2, 66], edge_attr=[66, 11], smiles='COC(=O)C1=CC(NC(=O)C(C)NS(=O)(=O)C2=CC(C)=CC=C2OC)=CC(C(=O)OC)=C1', y=1.8823199999999995),\n",
              "  Data(x=[25, 30], edge_index=[2, 56], edge_attr=[56, 11], smiles='CC1=CN2C=C(C(=O)NC3CCCN(C4=NC=CC=N4)C3)C=CC2=N1', y=1.8315199999999998),\n",
              "  Data(x=[20, 30], edge_index=[2, 42], edge_attr=[42, 11], smiles='CC(CN(C)CC1=CN=C2C=CC=CC2=C1)C(F)(F)F', y=3.865000000000003),\n",
              "  Data(x=[30, 30], edge_index=[2, 66], edge_attr=[66, 11], smiles='CC1=CC=C(C(=O)NCC(C2=CC=CO2)N2CCN(C3=CC=C(F)C=C3)CC2)C=C1', y=4.020420000000003),\n",
              "  Data(x=[23, 30], edge_index=[2, 48], edge_attr=[48, 11], smiles='CC1=CC=C(C(C(=O)N(C)CC2=CC=CC(O)=C2)N(C)C)C=C1', y=2.961920000000001),\n",
              "  Data(x=[30, 30], edge_index=[2, 66], edge_attr=[66, 11], smiles='CC(=O)N1CCN(C2=CC=C(CNC(=O)C3CC3C3=CC=C(Cl)C(Cl)=C3)C=C2)CC1', y=4.081800000000003),\n",
              "  Data(x=[22, 30], edge_index=[2, 46], edge_attr=[46, 11], smiles='CS(=O)(=O)C1CCN(C(=O)NCCOCC2=CC=CC=C2)C1', y=1.0317000000000003),\n",
              "  Data(x=[32, 30], edge_index=[2, 70], edge_attr=[70, 11], smiles='C[NH+](C)CC(=O)N1CCN(C(=O)C2=CC(C3=CC=C(Cl)C=C3)=NN2C2=CC=CC=C2)CC1', y=1.6216),\n",
              "  Data(x=[21, 30], edge_index=[2, 44], edge_attr=[44, 11], smiles='O=C(CC1=CC=CC=C1C(F)(F)F)NC1(C(=O)O)CCC1', y=2.3714000000000004),\n",
              "  Data(x=[17, 30], edge_index=[2, 34], edge_attr=[34, 11], smiles='CCCCOC1=CC=C(C=NNC(N)=S)C=C1', y=2.0326000000000004),\n",
              "  Data(x=[19, 30], edge_index=[2, 38], edge_attr=[38, 11], smiles='CC(C)CC(NC(N)=O)C(=O)NC1CCC(C)CC1', y=1.7643),\n",
              "  Data(x=[23, 30], edge_index=[2, 48], edge_attr=[48, 11], smiles='O=C(NCC(O)C1=CC=CC(Cl)=C1)C1=CC=CC=C1C(F)(F)F', y=3.8222000000000014),\n",
              "  Data(x=[23, 30], edge_index=[2, 50], edge_attr=[50, 11], smiles='COCCOC1=CC=C(C(=O)NC2=CC3=N[NH]N=C3C=C2)C=C1', y=2.2354000000000003),\n",
              "  Data(x=[25, 30], edge_index=[2, 56], edge_attr=[56, 11], smiles='O=C(CC1CC2C[NH+](CCC3=CC=CC=C3)CC2O1)N1CCOCC1', y=0.1502000000000021),\n",
              "  Data(x=[25, 30], edge_index=[2, 54], edge_attr=[54, 11], smiles='CCC1=CC=C(OCC(=O)NC2=CC=C(F)C=C2)C(N2C=NN=C2)=C1', y=2.986300000000001),\n",
              "  Data(x=[20, 30], edge_index=[2, 44], edge_attr=[44, 11], smiles='CC1=CC=C(C(C)(O)C2=NC3=CC=CC=C3S2)C(C)=C1', y=4.168940000000003),\n",
              "  Data(x=[15, 30], edge_index=[2, 34], edge_attr=[34, 11], smiles='CC1=CN2C(C3=CC=CN=C3)=NN=C2S1', y=2.16122),\n",
              "  Data(x=[18, 30], edge_index=[2, 38], edge_attr=[38, 11], smiles='CC1=CC=CC(C(=O)NC(C)C2=CC=C(C)O2)=N1', y=2.782440000000001),\n",
              "  Data(x=[34, 30], edge_index=[2, 74], edge_attr=[74, 11], smiles='CC1(O)CC(=O)C(C(=O)NC2=CC=CC=C2)C(C2=CC=C(F)C=C2)C1C(=O)NC1=CC=CC=C1', y=4.142900000000003),\n",
              "  Data(x=[21, 30], edge_index=[2, 44], edge_attr=[44, 11], smiles='CC1=CC=CC=C1C(=O)NC(=S)NC1=NC=C(I)C=C1C', y=3.4298400000000013),\n",
              "  Data(x=[27, 30], edge_index=[2, 60], edge_attr=[60, 11], smiles='CC(C1=CC=C(C2=CC=CC=C2CN2CC[NH2+]CC2)C=C1)[NH+]1CCOCC1', y=0.7087000000000019),\n",
              "  Data(x=[25, 30], edge_index=[2, 52], edge_attr=[52, 11], smiles='CC(=O)C1=CC=CC(OC(C)C(=O)NCCCN2N=C(C)C=C2C)=C1', y=2.6763400000000006),\n",
              "  Data(x=[26, 30], edge_index=[2, 56], edge_attr=[56, 11], smiles='O=C(CN1C(CCCO)=NC2=CC=CC=C21)NCCC1=CC=C(Cl)C=C1', y=2.9735000000000014),\n",
              "  Data(x=[22, 30], edge_index=[2, 46], edge_attr=[46, 11], smiles='CS(=O)(=O)NC1=CC=CC=C1C(=O)NC1=CC=CC(Cl)=C1Cl', y=3.6172000000000013),\n",
              "  Data(x=[31, 30], edge_index=[2, 68], edge_attr=[68, 11], smiles='COCCCN1C(SCC(=O)NC2=CC=C(F)C=C2)=NC2=C(SC3=CC=CC=C32)C1=O', y=4.517600000000004),\n",
              "  Data(x=[33, 30], edge_index=[2, 72], edge_attr=[72, 11], smiles='CC(C)N1CCNC(=O)C1CC(=O)NCC1=CC=CC(C2=NN(C)C=C2C2=CC=NC=C2)=C1', y=2.3642000000000003),\n",
              "  Data(x=[32, 30], edge_index=[2, 68], edge_attr=[68, 11], smiles='COC1=CC=C(S(=O)(=O)N2CCOCC2)C=C1CCC(=O)NCCOC1=CC=CC(C)=C1', y=2.1523199999999996),\n",
              "  Data(x=[27, 30], edge_index=[2, 60], edge_attr=[60, 11], smiles='CC1=CC=C(C2=CC(CNC(=O)N3CC4C(=O)N(C)C(=O)C4C3)=NO2)C=C1', y=1.4062199999999996),\n",
              "  Data(x=[28, 30], edge_index=[2, 62], edge_attr=[62, 11], smiles='CN1C(SCC(=O)C2=CC=C(C3=CC=CC=C3)C=C2)=NN=C1C1=CC=NC=C1', y=4.5191000000000034),\n",
              "  Data(x=[23, 30], edge_index=[2, 52], edge_attr=[52, 11], smiles='COC1=CC=C(C2CC(C3=CC=CC=C3)NC3=NN=NN32)C=C1', y=2.8280000000000003),\n",
              "  Data(x=[30, 30], edge_index=[2, 66], edge_attr=[66, 11], smiles='CC1=C(C2=CC=CC=C2)C(=O)C2=CC=C(OC(C)C(=O)NCC3=CC=CO3)C=C2O1', y=4.445120000000003),\n",
              "  Data(x=[31, 30], edge_index=[2, 68], edge_attr=[68, 11], smiles='O=C(CSC1=NS(=O)(=O)C2=CC=CC=C2N1CC1=CC=CC=C1)NC1=CC=CC=C1F', y=4.262500000000003),\n",
              "  Data(x=[22, 30], edge_index=[2, 48], edge_attr=[48, 11], smiles='O=C(C1=CC=CC(Cl)=C1)N1CCCN(CC2=CN=C[NH]2)CC1', y=2.4112),\n",
              "  Data(x=[19, 30], edge_index=[2, 40], edge_attr=[40, 11], smiles='CN(C(=O)CN)C1CC[NH+](CC2=CC=CC=C2)CC1', y=-0.34899999999999753),\n",
              "  Data(x=[25, 30], edge_index=[2, 52], edge_attr=[52, 11], smiles='CC1=CC(NC(=O)C2=CC=CC=C2CC(C)C)=CC=C1C(=O)N(C)C', y=4.147620000000003),\n",
              "  Data(x=[29, 30], edge_index=[2, 64], edge_attr=[64, 11], smiles='CC1=NN(CC(=O)N2CCCC2C2=CC=C(C(=O)N3CCOCC3)C=N2)C(C)=C1', y=1.7310399999999997),\n",
              "  Data(x=[17, 30], edge_index=[2, 34], edge_attr=[34, 11], smiles='FC(F)OC1=CC(OC(F)(F)F)=CC(Cl)=C1Cl', y=4.4934),\n",
              "  Data(x=[26, 30], edge_index=[2, 56], edge_attr=[56, 11], smiles='CC(=O)NC1=CC=CC2=C1C=CN2CC(=O)NC(CO)C1=CC=CC=C1', y=2.4495000000000005),\n",
              "  Data(x=[32, 30], edge_index=[2, 68], edge_attr=[68, 11], smiles='C=CCN(CC1=CC=C(C(=O)NCCC2=CC=CC=C2)C=C1)S(=O)(=O)C1=CC=C(C)C=C1', y=4.344420000000004),\n",
              "  Data(x=[27, 30], edge_index=[2, 60], edge_attr=[60, 11], smiles='O=C(NC(CO)C1=CC=CN=C1)C1=CC(CN2C=CC3=CC=CC=C32)=N[NH]1', y=2.2711),\n",
              "  Data(x=[24, 30], edge_index=[2, 52], edge_attr=[52, 11], smiles='CC1=NOC(COC2CCCN(C(=O)C3=C(F)C=CC=C3F)C2)=N1', y=2.477620000000001),\n",
              "  Data(x=[21, 30], edge_index=[2, 44], edge_attr=[44, 11], smiles='CC(=O)NC1=CC=C(SC2=CC=CC=C2CC(=O)O)C=C1', y=3.423300000000001),\n",
              "  Data(x=[27, 30], edge_index=[2, 58], edge_attr=[58, 11], smiles='C[NH+](CC(=O)N(CC1=CC=NC=C1)CC1CCCO1)CC1=CC=C(F)C=C1', y=1.4432000000000003),\n",
              "  Data(x=[23, 30], edge_index=[2, 50], edge_attr=[50, 11], smiles='COC1=CC=C(C(C)(O)C2CCC[NH+]2CC2=CC(C)=NO2)C=C1', y=1.4466199999999994),\n",
              "  Data(x=[27, 30], edge_index=[2, 60], edge_attr=[60, 11], smiles='CCC1=NC=C(CN2CCC3(CC2)CC(C2=CC=CC=C2)C(=O)N3C)C=N1', y=3.0195000000000016),\n",
              "  Data(x=[21, 30], edge_index=[2, 44], edge_attr=[44, 11], smiles='COC(=O)C(C)SCC1=NN=C(CC2=CC=CC=C2C)O1', y=2.7635200000000006),\n",
              "  Data(x=[29, 30], edge_index=[2, 64], edge_attr=[64, 11], smiles='CC1=NC=CN1C1=CC=C(NC(=O)C2CCCN2C(=O)CCC2=CC=CO2)C=C1', y=3.336020000000002),\n",
              "  Data(x=[33, 30], edge_index=[2, 72], edge_attr=[72, 11], smiles='CCOC1=CC(C[NH+]2CCC3(CC2)CC3C(=O)NCC2=CC=CC(C(F)(F)F)=C2)=CC=C1O', y=3.311100000000003),\n",
              "  Data(x=[27, 30], edge_index=[2, 58], edge_attr=[58, 11], smiles='CSC1=CC=CC(CNC(=O)N2CCCN(CC3=CC=C(F)C=C3)CC2)=C1', y=3.965100000000003),\n",
              "  Data(x=[24, 30], edge_index=[2, 50], edge_attr=[50, 11], smiles='CC1=N[NH]C(C)=C1CCC[NH+](C)C1CCN(C(=O)OC(C)C)CC1', y=1.4832400000000006),\n",
              "  Data(x=[23, 30], edge_index=[2, 50], edge_attr=[50, 11], smiles='COC1=CC=CC(C2=CN=C(NCC3=CC=CC(Cl)=C3)N2C)=C1', y=4.361200000000004),\n",
              "  Data(x=[18, 30], edge_index=[2, 38], edge_attr=[38, 11], smiles='O=C(NC1=CC=C(F)C(F)=C1)C1=CC=CC(F)=C1', y=3.356200000000001),\n",
              "  Data(x=[27, 30], edge_index=[2, 60], edge_attr=[60, 11], smiles='CC1CCN(C(=O)C(C)N2N=NC(C3=CC=CC=C3)=N2)C(C2=CC=CO2)C1', y=3.4939000000000027),\n",
              "  Data(x=[26, 30], edge_index=[2, 58], edge_attr=[58, 11], smiles='CC1=C(C)OC(C[NH+]2CCC3(CC2)CC(CN2CCC(F)(F)CC2)O3)=C1', y=2.33394),\n",
              "  Data(x=[31, 30], edge_index=[2, 66], edge_attr=[66, 11], smiles='COC(=O)C1=CC=CC(NC(=O)C2CCCN(S(=O)(=O)CCCC3=CC=CC=C3)C2)=C1', y=3.0863000000000014),\n",
              "  Data(x=[33, 30], edge_index=[2, 74], edge_attr=[74, 11], smiles='CCC1=NN2C(=C1C1=CC=CC=C1)N=CC1=C2C=CN(C(CC2=CC=CC=C2)C(=O)O)C1=O', y=4.142000000000003),\n",
              "  Data(x=[27, 30], edge_index=[2, 62], edge_attr=[62, 11], smiles='CC1CC2=CC(Br)=CC=C2N1C(=O)C1=CN=C2SC3=C(CCCC3)N2C1=O', y=3.9887000000000024),\n",
              "  Data(x=[25, 30], edge_index=[2, 56], edge_attr=[56, 11], smiles='CC1=CC=C(N2N=CC3=C2N=CN(CC2=CC=CC=C2)C3=O)C(C)=C1', y=3.247340000000002),\n",
              "  Data(x=[29, 30], edge_index=[2, 64], edge_attr=[64, 11], smiles='CC1CC2=CC(S(N)(=O)=O)=CC=C2N1C(=O)CN1CC=C(C2=CC=CC=C2)CC1', y=2.4009),\n",
              "  Data(x=[30, 30], edge_index=[2, 66], edge_attr=[66, 11], smiles='CCCN1C(=O)NC(=CC2=CN(CC3=CC=CC(C(=O)O)=C3)C3=CC=CC=C23)C1=O', y=3.690500000000003),\n",
              "  Data(x=[23, 30], edge_index=[2, 52], edge_attr=[52, 11], smiles='C1=CC=C(N2C=CC(C[NH+]3CCCC3CN3C=NC=N3)=N2)C=C1', y=0.7112999999999994),\n",
              "  Data(x=[16, 30], edge_index=[2, 34], edge_attr=[34, 11], smiles='[NH3+]CC(C1=CC=CC(F)=C1)N1CCOCC1', y=0.44089999999999985),\n",
              "  Data(x=[28, 30], edge_index=[2, 60], edge_attr=[60, 11], smiles='CC1=CC=C(F)C=C1NC(=O)CN1C(C2=CC=CC=C2)=NC=C(C(N)=O)C1=O', y=2.095419999999999),\n",
              "  Data(x=[28, 30], edge_index=[2, 60], edge_attr=[60, 11], smiles='CC1=CC=C(C(C)C)C(OCC(O)CN2C=NC3=C2C(=O)N(C)C(=O)N3C)=C1', y=1.3054199999999996),\n",
              "  Data(x=[23, 30], edge_index=[2, 52], edge_attr=[52, 11], smiles='CC1=CC=CC(C2CC(C3=CC=CC=C3Cl)NC3=NC=NN32)=C1', y=4.3862200000000025),\n",
              "  Data(x=[25, 30], edge_index=[2, 54], edge_attr=[54, 11], smiles='CCC1=CC2=CC(C)=C(C)C=C2N=C1SCC(=O)NC1=NOC(C)=C1', y=4.441260000000003),\n",
              "  Data(x=[19, 30], edge_index=[2, 40], edge_attr=[40, 11], smiles='CC1=C(C([NH2+]CC(C)C)C(=O)O)C2=CC=CC=C2[NH]1', y=1.8214199999999992),\n",
              "  Data(x=[23, 30], edge_index=[2, 50], edge_attr=[50, 11], smiles='CCC(C)N1C(SCC(=O)NC2CC2)=NC2=CC=CC=C2C1=O', y=2.738200000000001),\n",
              "  Data(x=[23, 30], edge_index=[2, 50], edge_attr=[50, 11], smiles='COC1=CC=CC(C2CC(O)C[NH+]2CC2=CC=CC(C#N)=C2)=C1', y=1.4576799999999996),\n",
              "  ...],\n",
              " tensor([3.4712, 3.7400, 2.8583,  ..., 3.0879, 3.9247, 4.8126]))"
            ]
          },
          "metadata": {},
          "execution_count": 7
        }
      ]
    },
    {
      "cell_type": "code",
      "execution_count": null,
      "metadata": {
        "id": "u8iozsQxeL9E"
      },
      "outputs": [],
      "source": [
        "# # print(f'edge_index.shape : {edge_index.shape}') # 공유결합 개수         [2, 결합 개수]\n",
        "# print(f'x.shape : {x.shape}')                   # 원자 속성(node_attr)  [원자 개수, 속성 개수]\n",
        "# print(f'edge_attr.shape : {edge_attr.shape}')   # 공유결합 종류         [결합 개수, 결합 종류]\n",
        "# print(f'use_pos : {pos}')                       # 3D 좌표 사용 여부\n",
        "# print(f'edge_weight.shape : {edge_weight.shape}')   # 공유결합 가중치   [결합 개수]"
      ]
    },
    {
      "cell_type": "code",
      "execution_count": null,
      "metadata": {
        "colab": {
          "base_uri": "https://localhost:8080/"
        },
        "id": "tEn22GaCeiJj",
        "outputId": "2aa83afa-3a9e-4519-9bfc-a68e6e9e75bb"
      },
      "outputs": [
        {
          "output_type": "stream",
          "name": "stdout",
          "text": [
            "data size : 100000\n",
            "<bound method BaseData.keys of Data(x=[27, 30], edge_index=[2, 58], edge_attr=[58, 11], smiles='CC1=C(C(=O)N2CCCC2)C(S(=O)(=O)NC2=CC=C(Cl)C=C2F)=C(C)N1C', y=3.4712400000000017)>\n",
            "30\n"
          ]
        }
      ],
      "source": [
        "print(f'data size : {len(data_list)}')\n",
        "data = data_list[0]\n",
        "print(data.keys)\n",
        "print(data.num_node_features)\n",
        "\n",
        "torch.save(data_list, f'/content/drive/MyDrive/Colab Notebooks/Python/Portfolio/dataset/ZINC_data_list.pt')"
      ]
    },
    {
      "cell_type": "markdown",
      "source": [
        "# load dataset"
      ],
      "metadata": {
        "id": "_4XgXLxoMJoJ"
      }
    },
    {
      "cell_type": "code",
      "source": [
        "data_list = torch.load('/content/drive/MyDrive/Colab Notebooks/Python/Portfolio/dataset/ZINC_data_list.pt')\n",
        "data_list"
      ],
      "metadata": {
        "colab": {
          "base_uri": "https://localhost:8080/"
        },
        "id": "epG2F4kC0qaI",
        "outputId": "b21212c7-b6fc-42fb-e530-9df52cb55186"
      },
      "execution_count": null,
      "outputs": [
        {
          "output_type": "execute_result",
          "data": {
            "text/plain": [
              "[Data(x=[27, 30], edge_index=[2, 58], edge_attr=[58, 11], smiles='CC1=C(C(=O)N2CCCC2)C(S(=O)(=O)NC2=CC=C(Cl)C=C2F)=C(C)N1C', y=3.4712400000000017),\n",
              " Data(x=[13, 30], edge_index=[2, 28], edge_attr=[28, 11], smiles='CC1CCC2=CC=C(Cl)C(Cl)=C2N1', y=3.740000000000002),\n",
              " Data(x=[20, 30], edge_index=[2, 42], edge_attr=[42, 11], smiles='CC1=CC=CC(C=CC(=O)C2=C(O)C=C(C)OC2=O)=C1', y=2.858340000000001),\n",
              " Data(x=[26, 30], edge_index=[2, 58], edge_attr=[58, 11], smiles='CCN(CC1=NC2=CC=CC=C2C(=O)[NH]1)CC1=C(Cl)C2=CC=CC=C2S1', y=4.8133000000000035),\n",
              " Data(x=[28, 30], edge_index=[2, 60], edge_attr=[60, 11], smiles='CC1=CC2=C(C=C1C)[NH]C(=O)C(CCNC(=O)C1=CC=CC(C(F)(F)F)=C1)=C2', y=4.136240000000002),\n",
              " Data(x=[33, 30], edge_index=[2, 72], edge_attr=[72, 11], smiles='CC(=O)C1=C(C)[NH]C(C(=O)C(C)N2N=C(C)C(S(=O)(=O)N3CCC4=CC=CC=C43)=C2C)=C1C', y=3.842780000000003),\n",
              " Data(x=[32, 30], edge_index=[2, 68], edge_attr=[68, 11], smiles='CC(C)CNC(=O)NC1=CC=C(NC(=O)N2CCCC(C(=O)NCC3CCCO3)C2)C=C1', y=3.0032000000000014),\n",
              " Data(x=[23, 30], edge_index=[2, 48], edge_attr=[48, 11], smiles='CC1=CC=CC(SC2CCN(C(=O)CCNS(C)(=O)=O)CC2)=C1', y=2.0174199999999995),\n",
              " Data(x=[35, 30], edge_index=[2, 76], edge_attr=[76, 11], smiles='COC1=CC=C(N2CCN(CCCNC(=O)C3=CC=C(CS(=O)C4=CC=C(C)C=C4)O3)CC2)C=C1', y=3.8465200000000026),\n",
              " Data(x=[17, 30], edge_index=[2, 36], edge_attr=[36, 11], smiles='C1=CC=C(CC[NH2+]C2CCCCCCC2)C=C1', y=2.905400000000001),\n",
              " Data(x=[33, 30], edge_index=[2, 72], edge_attr=[72, 11], smiles='CCOC1=CC=C(NC2=NC(CC3=NN=C(SCC(=O)NCC4CCCO4)N3C)=CS2)C=C1', y=3.392000000000002),\n",
              " Data(x=[30, 30], edge_index=[2, 64], edge_attr=[64, 11], smiles='CC(=O)NC1=CC=CC(NC(=O)C2=CC=CN(CC3=CC=CC([N+](=O)[O-])=C3)C2=O)=C1', y=3.015500000000001),\n",
              " Data(x=[31, 30], edge_index=[2, 66], edge_attr=[66, 11], smiles='COC1=CC=CC=C1CNC(=O)C(=O)NCC(C1=CC=CS1)S(=O)(=O)C1=CC=CC=C1', y=2.704300000000001),\n",
              " Data(x=[26, 30], edge_index=[2, 56], edge_attr=[56, 11], smiles='O=C(CNC1=CC=CC=C1N1CCC(O)CC1)NC1CCCCCCC1', y=3.2887000000000013),\n",
              " Data(x=[36, 30], edge_index=[2, 80], edge_attr=[80, 11], smiles='COC1=CC=CC=C1NC(=O)C1=CC2=CC=CC=C2C=C1OCC(=O)NCC1=CC=C2OCOC2=C1', y=4.524600000000002),\n",
              " Data(x=[23, 30], edge_index=[2, 48], edge_attr=[48, 11], smiles='CC(OCCCNC(=O)C1=CC=C(Br)C=C1F)C1=CC=CC=C1', y=4.4859000000000036),\n",
              " Data(x=[28, 30], edge_index=[2, 62], edge_attr=[62, 11], smiles='CC1=CC=C(S(=O)(=O)NC2=CC=C3OC4=C(C(=O)CCC4)C3=C2)C=C1[N+](=O)[O-]', y=3.9692200000000026),\n",
              " Data(x=[32, 30], edge_index=[2, 70], edge_attr=[70, 11], smiles='CS(=O)(=O)NCCC1=CC=C(C(=O)N2CCN(C(=O)C3COC4=CC=CC=C4O3)CC2)S1', y=0.9642000000000002),\n",
              " Data(x=[19, 30], edge_index=[2, 40], edge_attr=[40, 11], smiles='CN(C)C(CNC(=O)CC1=CC=CS1)C1=CC=CS1', y=2.771200000000001),\n",
              " Data(x=[25, 30], edge_index=[2, 54], edge_attr=[54, 11], smiles='COC1=CC=CC=C1CC(=O)N1CCOC(C2=CC=C(F)C(F)=C2)C1', y=3.1160000000000014),\n",
              " Data(x=[20, 30], edge_index=[2, 42], edge_attr=[42, 11], smiles='OCC(O)C(O)C(O)C1=CN(O)C2=CC=CC=C2N1O', y=-0.9922000000000006),\n",
              " Data(x=[20, 30], edge_index=[2, 44], edge_attr=[44, 11], smiles='CC1=NOC(CC(=O)N2CCN3CCNC(=O)C3C2)=C1', y=-0.8318799999999982),\n",
              " Data(x=[27, 30], edge_index=[2, 58], edge_attr=[58, 11], smiles='O=C(C=CC1=CC=C([N+](=O)[O-])C=C1)OC1=CC=CC=C1CC1=CC=CC=C1', y=4.804400000000004),\n",
              " Data(x=[27, 30], edge_index=[2, 58], edge_attr=[58, 11], smiles='CC1=CC=C(C2=NN=C(CCC(=O)OC(C)C(=O)NC3CCCC3)O2)C=C1', y=2.9681200000000016),\n",
              " Data(x=[25, 30], edge_index=[2, 56], edge_attr=[56, 11], smiles='CC(C)C1=NC(C2CCCN2C(=O)C2CC2(F)C2=CC=CC=C2)=NO1', y=3.741400000000003),\n",
              " Data(x=[21, 30], edge_index=[2, 46], edge_attr=[46, 11], smiles='COC1=CC=C(C2=C(C)N3C=C([N+](=O)[O-])C=CC3=N2)C=C1', y=3.2265200000000007),\n",
              " Data(x=[27, 30], edge_index=[2, 60], edge_attr=[60, 11], smiles='CC1=CC=C(CN2CCCC2C2=CN=CC(NC3=CC=CC=N3)=N2)C=C1C', y=4.5691400000000035),\n",
              " Data(x=[30, 30], edge_index=[2, 66], edge_attr=[66, 11], smiles='O=C(C1=CC=C(OC2=CC=CC=C2)C=C1)C1CCCN(C(=O)CN2CCOC2=O)C1', y=3.352400000000001),\n",
              " Data(x=[25, 30], edge_index=[2, 54], edge_attr=[54, 11], smiles='CN(C(=O)C1=CC=C(N2CCCC2)C([N+](=O)[O-])=C1)C1CC[NH+](C)CC1', y=0.9440999999999999),\n",
              " Data(x=[30, 30], edge_index=[2, 66], edge_attr=[66, 11], smiles='CCOC1=CC=C(NC(=O)C2=CC=C(CN3C(=O)CSC4=NC=CC=C43)C=C2)C=C1', y=4.371500000000004),\n",
              " Data(x=[29, 30], edge_index=[2, 64], edge_attr=[64, 11], smiles='COC1=CC=C(CN2C(=O)NC(CC(=O)NC3=CC=C4[NH]C=CC4=C3)C2=O)C=C1', y=2.625700000000001),\n",
              " Data(x=[35, 30], edge_index=[2, 78], edge_attr=[78, 11], smiles='CCOC(=O)C1=CC2=C(OCOC2)C(CSC2=NC3=CC=CC=C3C(=O)N2CC2=CC=CC=C2)=C1', y=4.780300000000004),\n",
              " Data(x=[27, 30], edge_index=[2, 58], edge_attr=[58, 11], smiles='COC1=NC=CC=C1C[NH+]1CCC(C(=O)O)(N2C=CC(C(C)(C)C)=N2)CC1', y=1.2430000000000005),\n",
              " Data(x=[32, 30], edge_index=[2, 74], edge_attr=[74, 11], smiles='COC1=CC=C(C2=NN3C(=NC2=O)C2=CC=C(F)C=C2N2C(=O)C4=CC=CC=C4C23)C=C1', y=3.6407000000000025),\n",
              " Data(x=[23, 30], edge_index=[2, 50], edge_attr=[50, 11], smiles='O=C(CC[NH+]1CCCC1C1=CC=CO1)NCC1=CC=CC(Cl)=C1', y=2.3593),\n",
              " Data(x=[35, 30], edge_index=[2, 78], edge_attr=[78, 11], smiles='COC1=CC=C(C2=C3OC4=C(O)C(O)=CC=C4C3=NC3=C2C(=O)[NH]N3C(C)C)C=C1OCC(=O)O', y=3.7551000000000023),\n",
              " Data(x=[21, 30], edge_index=[2, 44], edge_attr=[44, 11], smiles='CSC1=NN=C(C(C)(C)C)C(=O)N1N=CC1CC=CCC1', y=2.847900000000001),\n",
              " Data(x=[24, 30], edge_index=[2, 52], edge_attr=[52, 11], smiles='O=C(CN1CSCC1=O)NC1=CC=C(OC(F)F)C2=NC=CC=C12', y=2.3076),\n",
              " Data(x=[33, 30], edge_index=[2, 72], edge_attr=[72, 11], smiles='CC1CN(CC2CCCN2C(=O)C2=CC=C(Cl)C(S(=O)(=O)N3CCCCCC3)=C2)CC(C)O1', y=3.6185000000000027),\n",
              " Data(x=[21, 30], edge_index=[2, 44], edge_attr=[44, 11], smiles='CS(=O)CC1=CC=CC=C1NC1CCCC(C(F)(F)F)C1', y=4.098100000000003),\n",
              " Data(x=[25, 30], edge_index=[2, 56], edge_attr=[56, 11], smiles='CC1=C(C=C2SC(=S)N(CC3=CC=CC=C3)C2=O)C2=CC=CC=C2[NH]1', y=4.877720000000004),\n",
              " Data(x=[15, 30], edge_index=[2, 32], edge_attr=[32, 11], smiles='CC1=NC(N)=NC(NC2=CC=CC=C2)=N1', y=1.50582),\n",
              " Data(x=[23, 30], edge_index=[2, 50], edge_attr=[50, 11], smiles='COCC(=O)NCC1CC[NH+](CC2=CC=C3OCCOC3=C2)C1', y=-0.3747999999999987),\n",
              " Data(x=[24, 30], edge_index=[2, 50], edge_attr=[50, 11], smiles='CCCCOC1=CC=C(C(=O)NC2=CC=C(C)C=C2[N+](=O)[O-])C=C1', y=4.334420000000003),\n",
              " Data(x=[30, 30], edge_index=[2, 68], edge_attr=[68, 11], smiles='COC1=CC2=C(C=C1OC)C(=O)C(C1C3=C(OC)C4=C(C=C3CCN1C)OCO4)C2', y=3.0253000000000014),\n",
              " Data(x=[21, 30], edge_index=[2, 44], edge_attr=[44, 11], smiles='NC1=CC(C(=O)OCC(=O)C2=CC=CC=C2F)=CC=C1Cl', y=3.1010000000000018),\n",
              " Data(x=[23, 30], edge_index=[2, 48], edge_attr=[48, 11], smiles='CCN(CC)CC(=O)NC1=CC=CC(S(=O)(=O)N2CCCC2)=C1', y=1.7514),\n",
              " Data(x=[24, 30], edge_index=[2, 52], edge_attr=[52, 11], smiles='O=C(C[NH+]1CCCC1CCCO)N1CCC2=CC=C([N+](=O)[O-])C=C21', y=0.3037000000000005),\n",
              " Data(x=[18, 30], edge_index=[2, 38], edge_attr=[38, 11], smiles='CNS(=O)(=O)C1=CC(C)=C2[NH]C(=O)C=C(C)C2=C1', y=1.0530400000000002),\n",
              " Data(x=[27, 30], edge_index=[2, 58], edge_attr=[58, 11], smiles='CC(C1=CC=NC=C1)[NH+]1CCC(NC(=O)C2=CC=C(C(F)(F)F)N=C2)CC1', y=2.0337000000000005),\n",
              " Data(x=[24, 30], edge_index=[2, 52], edge_attr=[52, 11], smiles='O=C(NC1=CC=C2OCOC2=C1)NC1=CC=C(Cl)C=C1C(F)(F)F', y=4.731500000000001),\n",
              " Data(x=[20, 30], edge_index=[2, 44], edge_attr=[44, 11], smiles='CN1C(CNC(=O)C2=CC=C(Br)O2)=NC2=CC=CC=C21', y=2.8588000000000013),\n",
              " Data(x=[20, 30], edge_index=[2, 44], edge_attr=[44, 11], smiles='CC1=C(C2=NN=C(SCC3=CC=C(F)C=C3)O2)C=CO1', y=4.069420000000002),\n",
              " Data(x=[30, 30], edge_index=[2, 68], edge_attr=[68, 11], smiles='COC1=CC=C(CN2N=C3CC4(CC[NH+](CC5=NC=CS5)C4)CN3C(=O)C2=O)C=C1', y=-0.0502999999999989),\n",
              " Data(x=[24, 30], edge_index=[2, 52], edge_attr=[52, 11], smiles='O=C(CN1C(=O)C2=CC(Cl)=C(Cl)C=C2C1=O)NCCC1=CC=CS1', y=3.009800000000002),\n",
              " Data(x=[26, 30], edge_index=[2, 58], edge_attr=[58, 11], smiles='CC1CN(CC2=CC=C(C(=O)NC3=N[NH]C(C4CC4)=C3)C=C2)CC(C)O1', y=3.148600000000002),\n",
              " Data(x=[33, 30], edge_index=[2, 70], edge_attr=[70, 11], smiles='COC1=CC=C(S(=O)(=O)NC(CC2=CC=CC=C2)C(=O)NCC2=CC=C(C)C=C2)C=C1OC', y=3.2182200000000014),\n",
              " Data(x=[21, 30], edge_index=[2, 46], edge_attr=[46, 11], smiles='CC1=C(C(=O)N2CC[NH2+]CC2)N=NN1C1=CC=CC=C1Cl', y=0.24832000000000076),\n",
              " Data(x=[24, 30], edge_index=[2, 50], edge_attr=[50, 11], smiles='COCCN1C(=O)SC(=CC2=CC=CC=C2OCC(=O)OC)C1=O', y=1.9211),\n",
              " Data(x=[22, 30], edge_index=[2, 46], edge_attr=[46, 11], smiles='CN1C=C(C(=O)NC2CCN(CC(O)C(F)(F)F)CC2)C=N1', y=0.5374999999999996),\n",
              " Data(x=[21, 30], edge_index=[2, 46], edge_attr=[46, 11], smiles='O=C1C2=CC=CC=C2CCC1C1=CC=C([N+](=O)[O-])C(Cl)=C1', y=4.1609000000000025),\n",
              " Data(x=[25, 30], edge_index=[2, 54], edge_attr=[54, 11], smiles='CC1=NOC(C(=O)NC2=CC(S(=O)(=O)N3CCOCC3)=CC=C2C)=C1', y=1.5646399999999998),\n",
              " Data(x=[29, 30], edge_index=[2, 62], edge_attr=[62, 11], smiles='CN(CC(=O)NC1=CC=C(Cl)C=C1)CN1C(=O)C(=O)N(CCC2=CC=CS2)C1=O', y=2.2627999999999995),\n",
              " Data(x=[22, 30], edge_index=[2, 48], edge_attr=[48, 11], smiles='O=C(NCCCN1C=CC2=CC=CC=C21)C1=CC=CC=C1Br', y=4.223900000000003),\n",
              " Data(x=[20, 30], edge_index=[2, 42], edge_attr=[42, 11], smiles='CCOC(=O)C1CCCCN1CC1=CC=C(F)C(Br)=C1', y=3.5058000000000025),\n",
              " Data(x=[27, 30], edge_index=[2, 60], edge_attr=[60, 11], smiles='CC1=C(C)C2=CC=C(C(=O)N3CCC(O)(C[N+]4=C(C)[NH]C=C4)CC3)C=C2[NH]1', y=2.37606),\n",
              " Data(x=[26, 30], edge_index=[2, 58], edge_attr=[58, 11], smiles='CC1=[NH+]C=CN1C1=CC=C(CNC(=O)C2=CC3=C(CCCCC3)S2)C=N1', y=3.2552200000000022),\n",
              " Data(x=[27, 30], edge_index=[2, 60], edge_attr=[60, 11], smiles='O=S1(=O)CCC(CC2=NN=C(SCC3=NC(C4=CC=CC(Br)=C4)=NO3)O2)C1', y=3.151600000000002),\n",
              " Data(x=[29, 30], edge_index=[2, 62], edge_attr=[62, 11], smiles='C#CCC(CC1=CN=C2N=C(N)N=C(N)C2=N1)(C(=O)O)C1=CC=C(C(=O)O)C=C1', y=0.8707999999999996),\n",
              " Data(x=[19, 30], edge_index=[2, 40], edge_attr=[40, 11], smiles='FC(F)(F)CN1CCC(C[NH2+]CC2=CN=CS2)CC1', y=1.4807999999999997),\n",
              " Data(x=[23, 30], edge_index=[2, 50], edge_attr=[50, 11], smiles='CC1=CC(C(=O)N2CCCC(C(=O)NC3=CC=CC=N3)C2)=NO1', y=1.86892),\n",
              " Data(x=[29, 30], edge_index=[2, 64], edge_attr=[64, 11], smiles='O=C1C(O)=C(S(=O)(=O)C2=CC=CC=C2)C(C2=CC=CC=C2)N1C1=CC=C(Br)C=C1', y=4.7805000000000035),\n",
              " Data(x=[25, 30], edge_index=[2, 52], edge_attr=[52, 11], smiles='CC1=CC(C)=CC(NC(=O)COC(=O)CCC(=O)C2=CC=CC=C2)=C1', y=3.448240000000002),\n",
              " Data(x=[11, 30], edge_index=[2, 22], edge_attr=[22, 11], smiles='CNC(=O)C1=CC=NC(Br)=C1', y=1.2037),\n",
              " Data(x=[23, 30], edge_index=[2, 48], edge_attr=[48, 11], smiles='CN(CC1CC[NH+](C)C1)C(=O)C(=O)NC1=CC=C(CC#N)C=C1', y=-0.31581999999999666),\n",
              " Data(x=[18, 30], edge_index=[2, 38], edge_attr=[38, 11], smiles='CSCC1CCCN1C(=O)C1=CC(F)=CC=C1O', y=2.4989000000000012),\n",
              " Data(x=[22, 30], edge_index=[2, 46], edge_attr=[46, 11], smiles='COC(=O)C1=CC=C(C)C(NS(=O)(=O)C2=CC=CC(F)=C2)=C1', y=2.721520000000001),\n",
              " Data(x=[30, 30], edge_index=[2, 68], edge_attr=[68, 11], smiles='CN(CC1=CC=CC=N1)C(=O)C1=CC2=C(C3=CC=CC=C3N2C)N1C1=NC=CC=N1', y=3.5794000000000015),\n",
              " Data(x=[24, 30], edge_index=[2, 52], edge_attr=[52, 11], smiles='O=C1CCC(C(=O)NCCC(C2=CC=CC=C2)C2=CC=CC=C2)O1', y=3.030400000000002),\n",
              " Data(x=[29, 30], edge_index=[2, 64], edge_attr=[64, 11], smiles='O=C(NC1=CC=CC=C1C(F)(F)F)C1=C(N2C=CC=C2)N(C2=CC=CC=C2)N=C1', y=4.9341000000000035),\n",
              " Data(x=[30, 30], edge_index=[2, 66], edge_attr=[66, 11], smiles='CC1=NOC2=NC=NC(N3CCCC(C(=O)NCCCN(C)C4=CC=CC=C4)C3)=C12', y=2.7853200000000014),\n",
              " Data(x=[26, 30], edge_index=[2, 56], edge_attr=[56, 11], smiles='CC(C)C1=CC=CC(NC(=O)CN2C(=O)NC3(CCCCC3C)C2=O)=C1', y=3.249200000000002),\n",
              " Data(x=[25, 30], edge_index=[2, 56], edge_attr=[56, 11], smiles='CC([NH2+]CC1=CC(C2=CC=CN=C2)=N[NH]1)C1=CC=C2OCCOC2=C1', y=2.0675),\n",
              " Data(x=[24, 30], edge_index=[2, 52], edge_attr=[52, 11], smiles='COC1=CC=CC=C1C(=O)NCC(O)(C1=COC=C1)C1=CC=CS1', y=3.015600000000001),\n",
              " Data(x=[22, 30], edge_index=[2, 48], edge_attr=[48, 11], smiles='O=C1C2=CC=CC=C2N=CN1CC(O)C[NH2+]C1CCCCC1', y=0.6534999999999995),\n",
              " Data(x=[21, 30], edge_index=[2, 44], edge_attr=[44, 11], smiles='COC1=CC=C(S(=O)(=O)NCC2(O)CCOCC2)C=C1Cl', y=1.1683999999999994),\n",
              " Data(x=[22, 30], edge_index=[2, 46], edge_attr=[46, 11], smiles='CC1=CC=C(C)C(NS(=O)(=O)CC2(OC(C)C)CCOC2)=C1', y=2.629240000000001),\n",
              " Data(x=[26, 30], edge_index=[2, 58], edge_attr=[58, 11], smiles='O=C(O)C1(CC2=CC=CC=C2F)CCCN(C2=[NH+]C=NC3=C2C=C[NH]3)C1', y=2.4300000000000006),\n",
              " Data(x=[23, 30], edge_index=[2, 50], edge_attr=[50, 11], smiles='CC(CC1=CC=CN=C1)NC(=O)N1CCC(C2=N[NH]C=N2)CC1', y=1.7199),\n",
              " Data(x=[24, 30], edge_index=[2, 50], edge_attr=[50, 11], smiles='CC(C)(C)OC(=O)N1CC(OC2=CC=C(F)C(Cl)=C2)CC1C(=O)O', y=3.320500000000002),\n",
              " Data(x=[24, 30], edge_index=[2, 52], edge_attr=[52, 11], smiles='CCN1C(SCC(=O)NC2=NN=C(C)S2)=NN=C1C1=CC=CN=C1', y=2.2507200000000003),\n",
              " Data(x=[30, 30], edge_index=[2, 66], edge_attr=[66, 11], smiles='CC1=NC(C2CCN(C(=O)CO)CC2)=NC2=C1CCC(=O)N2CCC1=CC=CC=C1', y=2.005219999999999),\n",
              " Data(x=[25, 30], edge_index=[2, 54], edge_attr=[54, 11], smiles='CC1=CC=CC(N2C(C)=NN=C2SCC(=O)NC2=CC=CC=C2C)=C1', y=3.9233600000000024),\n",
              " Data(x=[24, 30], edge_index=[2, 50], edge_attr=[50, 11], smiles='CC(C)N(C(=O)CONC(=O)C1=CC=CC=C1Br)C1=CC=CC=C1', y=3.552100000000002),\n",
              " Data(x=[21, 30], edge_index=[2, 44], edge_attr=[44, 11], smiles='CCC1=CC=CC=C1NC(=O)C(C)SC1=CC=C(C)C=C1', y=4.676720000000004),\n",
              " Data(x=[28, 30], edge_index=[2, 62], edge_attr=[62, 11], smiles='CC(C)C1=NOC(C2CCCCN2C(=O)NC2=CC=CC(N3C=NN=C3)=C2)=N1', y=3.5328000000000017),\n",
              " Data(x=[26, 30], edge_index=[2, 56], edge_attr=[56, 11], smiles='C[NH+]1CCCCC1C1=CC=CN=C1N(C(=O)OC(C)(C)C)C1CCCC1', y=3.5054000000000016),\n",
              " Data(x=[23, 30], edge_index=[2, 50], edge_attr=[50, 11], smiles='CCSC1CCC(N(C)C(=O)NC2CCC3=C(O)C=CC=C32)C1', y=3.6951000000000027),\n",
              " Data(x=[23, 30], edge_index=[2, 48], edge_attr=[48, 11], smiles='COC1=CC=CC=C1CNC(=O)C(=O)NCC1=CC=CC=C1Cl', y=2.2811999999999992),\n",
              " Data(x=[23, 30], edge_index=[2, 52], edge_attr=[52, 11], smiles='CC(SC1=NN=C2CCCCCN21)C1=NN=C(C2=CC=CS2)O1', y=3.969300000000003),\n",
              " Data(x=[26, 30], edge_index=[2, 56], edge_attr=[56, 11], smiles='CCC(NC(=O)CSC1=NN=CN1C1=CC=CC=C1)C1=CC=C(C)C=C1', y=3.9353200000000035),\n",
              " Data(x=[23, 30], edge_index=[2, 50], edge_attr=[50, 11], smiles='FC(F)(F)C1=CC=C(CN2CCN(C3=CC=CC=C3)CC2)C=C1', y=4.027600000000002),\n",
              " Data(x=[36, 30], edge_index=[2, 78], edge_attr=[78, 11], smiles='COC1=CC=C(C[NH+]2CCC3=CC(OC)=C(OC)C=C3C2C(C)NC(=O)C2=CC=C(OC)C=C2)C=C1', y=3.221800000000001),\n",
              " Data(x=[31, 30], edge_index=[2, 68], edge_attr=[68, 11], smiles='CC1SC2=C(C(=O)N(C3=CC=C(Cl)C=C3)C(SCC(=O)NCC3=CC=CC=C3)=N2)C1C', y=4.892100000000004),\n",
              " Data(x=[29, 30], edge_index=[2, 62], edge_attr=[62, 11], smiles='CCC(CC)N1C(COC2=CC=CC=C2Cl)=NN=C1SCC1=NC(N)=NC(N)=N1', y=3.5133),\n",
              " Data(x=[30, 30], edge_index=[2, 66], edge_attr=[66, 11], smiles='CCC(C)NC(=O)C1COC2(CCN(C(=O)C3CC3)CC2)N1C(=O)C1=CC=CC=C1', y=2.1709999999999994),\n",
              " Data(x=[27, 30], edge_index=[2, 60], edge_attr=[60, 11], smiles='CC(C)[NH+]1CCC2=NC3=CC=C(C(=O)N4CCOCC4)C=C3C(=O)N2CC1', y=-0.2816999999999976),\n",
              " Data(x=[26, 30], edge_index=[2, 58], edge_attr=[58, 11], smiles='CC1=NN=NN1C(C(=O)N1CCC2(CC1)COC(=O)O2)C1=CC=CC=C1', y=1.0989199999999992),\n",
              " Data(x=[23, 30], edge_index=[2, 50], edge_attr=[50, 11], smiles='CCN1C(=S)[NH]C2=CC(C(=O)N3CCCCC3C)=CC=C2C1=O', y=3.0935900000000016),\n",
              " Data(x=[21, 30], edge_index=[2, 44], edge_attr=[44, 11], smiles='CCNC1=CC(C)=CC=C1NC(=O)CC1=C(C)ON=C1C', y=3.212860000000001),\n",
              " Data(x=[28, 30], edge_index=[2, 60], edge_attr=[60, 11], smiles='CC1CCCN(S(=O)(=O)C2=CC=C(NS(=O)(=O)C=CC3=CC=CC=C3)C=C2)C1', y=3.5198000000000027),\n",
              " Data(x=[28, 30], edge_index=[2, 62], edge_attr=[62, 11], smiles='CSC1=NN2C(=N1)NC(C)C(C(=O)NC1=CC=C(Cl)C=C1)C2C1=CC=CC=C1', y=4.311700000000003),\n",
              " Data(x=[30, 30], edge_index=[2, 62], edge_attr=[62, 11], smiles='CCC(C(=O)NC(C)(C)C)N(CCC1=CC=CC=C1)C(=O)COC1=CC=C(Br)C=C1', y=4.592500000000005),\n",
              " Data(x=[23, 30], edge_index=[2, 52], edge_attr=[52, 11], smiles='CC(O)C1=NC2=CC=CC=C2N1CC1=CSC(C2CCCO2)=N1', y=3.4459000000000017),\n",
              " Data(x=[29, 30], edge_index=[2, 66], edge_attr=[66, 11], smiles='COC1=CC(C2C3=CC4=C(C=C3CC3COC(=O)C32)OCO4)=CC(OC)=C1OC', y=2.9183000000000003),\n",
              " Data(x=[16, 30], edge_index=[2, 34], edge_attr=[34, 11], smiles='COC(=O)C12CCCC(C(N)=O)(CCC1)C2', y=1.3753999999999993),\n",
              " Data(x=[31, 30], edge_index=[2, 70], edge_attr=[70, 11], smiles='COC1=CC2=C(C=C1OC)C1=NC=NC(SCC(=O)NC3=CC=C4CCCC4=C3)=C1[NH]2', y=4.347800000000002),\n",
              " Data(x=[27, 30], edge_index=[2, 58], edge_attr=[58, 11], smiles='CCN1CC(NC(=O)NC2=CC=CN=C2OC2=CC=C(F)C=C2)C(OC)C1', y=2.853600000000001),\n",
              " Data(x=[24, 30], edge_index=[2, 50], edge_attr=[50, 11], smiles='NC(=O)COC(=O)CC(NC(=O)C1=CC=CC=C1)C1=CC=CC=C1', y=1.5762999999999998),\n",
              " Data(x=[24, 30], edge_index=[2, 52], edge_attr=[52, 11], smiles='COC1=CC(C2(C(=O)N(C)CC(C)C3=N[NH]N=N3)CC2)=CC=C1C', y=1.8104199999999993),\n",
              " Data(x=[16, 30], edge_index=[2, 34], edge_attr=[34, 11], smiles='O=C1CC(C2=CC=CC(Cl)=C2)C(C(=O)O)N1', y=1.3966999999999996),\n",
              " Data(x=[26, 30], edge_index=[2, 58], edge_attr=[58, 11], smiles='N#CC1=CC=CC=C1S(=O)(=O)N1CCCC2(CCC(=O)N(C3CC3)C2)C1', y=2.1139799999999997),\n",
              " Data(x=[22, 30], edge_index=[2, 48], edge_attr=[48, 11], smiles='CC(C)N1C=CC(CN2C(=O)C=NC3=CC(F)=C(F)C=C32)=N1', y=2.500400000000001),\n",
              " Data(x=[28, 30], edge_index=[2, 60], edge_attr=[60, 11], smiles='CC1=CC=C(NC(=O)CCC2=NC(C3=CC=CC(C(F)(F)F)=C3)=NO2)C=C1C', y=4.943540000000003),\n",
              " Data(x=[35, 30], edge_index=[2, 78], edge_attr=[78, 11], smiles='CC1=CC=C(CNC(=O)C2=CC3=C(N=C4C(C)=CC=CN4C3=O)N(CC3=CC=NC=C3)C2=N)C=C1', y=3.1188100000000007),\n",
              " Data(x=[21, 30], edge_index=[2, 44], edge_attr=[44, 11], smiles='O=C(NC1=CC=C(O)C(C(=O)O)=C1)C1=CC(Cl)=CC(Cl)=C1', y=3.6495000000000006),\n",
              " Data(x=[23, 30], edge_index=[2, 48], edge_attr=[48, 11], smiles='C[NH+]1CCCC(O)(CC(=O)NCC2=CC=C(C(F)(F)F)C=C2)C1', y=0.7512999999999999),\n",
              " Data(x=[29, 30], edge_index=[2, 64], edge_attr=[64, 11], smiles='CCCCN1C(=O)C(C(=O)OCC)C(C2=C(C)C=CS2)N2C1=NC1=CC=CC=C12', y=4.321620000000004),\n",
              " Data(x=[24, 30], edge_index=[2, 54], edge_attr=[54, 11], smiles='FC1=CC=C(CC2=NN=C(N3CCC(C4=N[NH]C=N4)CC3)S2)C=C1', y=2.770100000000001),\n",
              " Data(x=[32, 30], edge_index=[2, 68], edge_attr=[68, 11], smiles='CC1=CC=C(S(=O)(=O)N(CC(=O)NC2=CC=CC([N+](=O)[O-])=C2)C2=CC=C(Cl)C=C2C)C=C1', y=4.699040000000004),\n",
              " Data(x=[29, 30], edge_index=[2, 64], edge_attr=[64, 11], smiles='CC1=NN(C2=CC(N3CCN(C(=O)C4=CC=CC(Cl)=C4)CC3)=NC(C)=N2)C(C)=C1', y=3.2033600000000018),\n",
              " Data(x=[19, 30], edge_index=[2, 42], edge_attr=[42, 11], smiles='O=C(NC1=CN(C2CCOCC2)N=C1)C1CCOC1', y=1.2095999999999998),\n",
              " Data(x=[24, 30], edge_index=[2, 54], edge_attr=[54, 11], smiles='COC1=CC=C(C2=NN=C3SCC(NC4=CC=CC=C4)=NN32)C=C1', y=3.3331000000000017),\n",
              " Data(x=[31, 30], edge_index=[2, 66], edge_attr=[66, 11], smiles='C=CCOC1=CC=CC=C1C=C1C(=O)NC(=O)N(C2=CC(OC)=C(Cl)C=C2OC)C1=O', y=3.5884000000000027),\n",
              " Data(x=[32, 30], edge_index=[2, 68], edge_attr=[68, 11], smiles='CCOC(=O)C1=C(COC2=CC=C(C(C)=O)C=C2)N(C)C(=O)NC1C1=CC=CC(Cl)=C1Cl', y=4.788300000000004),\n",
              " Data(x=[21, 30], edge_index=[2, 46], edge_attr=[46, 11], smiles='CC1=NN(C)C(Cl)=C1CN(C)C1=CC=C2C=CC=CC2=C1', y=4.171520000000003),\n",
              " Data(x=[32, 30], edge_index=[2, 70], edge_attr=[70, 11], smiles='CC(C)CNC(=O)C1=C(N)N(N=CC2=CC=CC([N+](=O)[O-])=C2)C2=NC3=CC=CC=C3N=C12', y=3.342900000000001),\n",
              " Data(x=[19, 30], edge_index=[2, 42], edge_attr=[42, 11], smiles='O=C1N=C2CCCCC2=C(SCC2=CC=CC=C2)[NH]1', y=2.9410000000000007),\n",
              " Data(x=[27, 30], edge_index=[2, 58], edge_attr=[58, 11], smiles='CCOC1=CC=C(NC(=O)C2=NOC(C)=C2)C=C1S(=O)(=O)N1CCCCC1', y=2.8086200000000012),\n",
              " Data(x=[31, 30], edge_index=[2, 64], edge_attr=[64, 11], smiles='CCCN(CC1CC1)C(=O)COC(=O)C1=CC(OC)=C(OC)C=C1NC(=O)C(C)(C)C', y=3.493800000000002),\n",
              " Data(x=[21, 30], edge_index=[2, 42], edge_attr=[42, 11], smiles='CCCCCNC1=NC=NC(NCCCCC)=C1[N+](=O)[O-]', y=3.589000000000002),\n",
              " Data(x=[21, 30], edge_index=[2, 46], edge_attr=[46, 11], smiles='CC1=NOC(C)=C1CC[NH+]1CCC(OC2=CC=CC=N2)C1', y=0.9651399999999992),\n",
              " Data(x=[29, 30], edge_index=[2, 60], edge_attr=[60, 11], smiles='CNC(=O)C(C)N(CC1=CC=CC=C1)C(=O)CN(C1=CC=C(Cl)C=C1)S(C)(=O)=O', y=2.2692999999999994),\n",
              " Data(x=[30, 30], edge_index=[2, 66], edge_attr=[66, 11], smiles='CC1=CC(OC2=NC=CC=N2)=CC=C1NC(=O)C1=CN(C)N=C1C1=CC=CC=C1Cl', y=4.8835200000000025),\n",
              " Data(x=[24, 30], edge_index=[2, 54], edge_attr=[54, 11], smiles='O=C(C1=CC=CO1)N1CCCC2(CCN(C(=O)C3(F)CCC3)C2)C1', y=2.626500000000001),\n",
              " Data(x=[16, 30], edge_index=[2, 34], edge_attr=[34, 11], smiles='O=C(O)C1=NN(C2=CC=C(Cl)C(Cl)=C2)C=C1', y=2.8773),\n",
              " Data(x=[20, 30], edge_index=[2, 42], edge_attr=[42, 11], smiles='O=[N+]([O-])C=CC1=CC=CC=C1OCC1=CC=C(F)C=C1', y=3.6521000000000026),\n",
              " Data(x=[21, 30], edge_index=[2, 44], edge_attr=[44, 11], smiles='CC1=CC(C)=C(C(C)NC(=O)C2=CC=CC(F)=C2)C=C1C', y=4.241960000000003),\n",
              " Data(x=[26, 30], edge_index=[2, 58], edge_attr=[58, 11], smiles='CC1=C(C(=O)N2CC[NH2+]CC2C(=O)N2CCOCC2)SC2=CC=CC=C12', y=0.4563200000000014),\n",
              " Data(x=[28, 30], edge_index=[2, 60], edge_attr=[60, 11], smiles='COC1=CC=C(C(=O)NN2C(=O)C(=CC3=CC=CC([N+](=O)[O-])=C3)SC2=S)C=C1', y=3.1496000000000013),\n",
              " Data(x=[35, 30], edge_index=[2, 76], edge_attr=[76, 11], smiles='CCOC(=O)C1C(CN2CCN(C3=CC(C)=CC=C3C)CC2)=NC(=O)NC1C1=CC=C(SC)C=C1', y=4.232140000000003),\n",
              " Data(x=[22, 30], edge_index=[2, 46], edge_attr=[46, 11], smiles='CC(O)CN(C)S(=O)(=O)C1=CC=C(C2=CC=C(Br)C=C2)C=C1', y=3.1174000000000017),\n",
              " Data(x=[30, 30], edge_index=[2, 64], edge_attr=[64, 11], smiles='C=CCN1C(=O)C(=CC2=CC=C(OS(=O)(=O)C3=CC=C(F)C=C3)C(OC)=C2)SC1=S', y=3.989200000000003),\n",
              " Data(x=[26, 30], edge_index=[2, 58], edge_attr=[58, 11], smiles='NS(=O)(=O)C1=CC=C(N2N=C(C3=CC=NC=C3)N=C2C2CC[NH2+]C2)C=C1', y=0.02740000000000059),\n",
              " Data(x=[18, 30], edge_index=[2, 38], edge_attr=[38, 11], smiles='CCSC1=NC2=C(C(=O)N(C)C(=O)N2C)N1CC', y=0.5655999999999994),\n",
              " Data(x=[24, 30], edge_index=[2, 52], edge_attr=[52, 11], smiles='CC1=NN(C)C2=C1C=C(C(=O)NCCC[NH2+]CC1=CC=CN=C1)S2', y=1.2217200000000001),\n",
              " Data(x=[24, 30], edge_index=[2, 52], edge_attr=[52, 11], smiles='CC1=CC=C2C=CC=C(OCC(=O)NC(C)C3=CC=CC=C3)C2=N1', y=3.7994200000000022),\n",
              " Data(x=[23, 30], edge_index=[2, 52], edge_attr=[52, 11], smiles='[NH3+]C1C(=O)N(C2=CC=C3OCCOC3=C2)C1C1=CC=C(Cl)C=C1', y=1.8096000000000005),\n",
              " Data(x=[26, 30], edge_index=[2, 58], edge_attr=[58, 11], smiles='COC1=CC(C2=NC(CN3C=C(CCO)C=N3)=C(C)O2)=CC2=C1OCO2', y=2.16692),\n",
              " Data(x=[30, 30], edge_index=[2, 64], edge_attr=[64, 11], smiles='CCC(C)C1=CC=C(S(=O)(=O)NC2=CC=C(S(=O)(=O)N3CCN(C)CC3)C=C2)C=C1', y=2.937000000000001),\n",
              " Data(x=[25, 30], edge_index=[2, 54], edge_attr=[54, 11], smiles='O=C(COC1=CC=C(F)C=C1)NCC1=CC=C(CN2C=CC=N2)C=C1', y=2.7657000000000007),\n",
              " Data(x=[29, 30], edge_index=[2, 62], edge_attr=[62, 11], smiles='CCN(CC)C1=CC=C(CNC(=O)C2=C(S(=O)(=O)N3CCCCC3)C=CS2)C=N1', y=3.0939000000000014),\n",
              " Data(x=[28, 30], edge_index=[2, 62], edge_attr=[62, 11], smiles='CC1=[NH+]C=CN1C1=CC=CC=C1CNC(=O)C1=CC=C(N2CCOCC2)C=C1', y=2.3664200000000006),\n",
              " Data(x=[29, 30], edge_index=[2, 64], edge_attr=[64, 11], smiles='O=C(NCCSCC1=CC=CO1)C1=CC=C2C(=C1)S(=O)(=O)N=C1CCCCCN12', y=3.424000000000002),\n",
              " Data(x=[30, 30], edge_index=[2, 64], edge_attr=[64, 11], smiles='CC1=CC=CC(NS(=O)(=O)C2=CC=C(C)C(C(=O)NC3=CC=CC=C3C(N)=O)=C2)=C1', y=3.455440000000001),\n",
              " Data(x=[28, 30], edge_index=[2, 62], edge_attr=[62, 11], smiles='CC(CC(=O)N1CC(C2=CC=CC=C2)C2C1CCCCC[NH+]2C)N1C=CN=C1', y=2.2861000000000002),\n",
              " Data(x=[30, 30], edge_index=[2, 64], edge_attr=[64, 11], smiles='CC1=CC=C(NC(=O)CN2C(=O)SC(=CC3=CC=C(N(C)C)C(Br)=C3)C2=O)C=C1C', y=4.806940000000004),\n",
              " Data(x=[21, 30], edge_index=[2, 44], edge_attr=[44, 11], smiles='CC(NC(=O)CCN1CCCCCC1=O)C1=CCCCC1', y=2.784200000000001),\n",
              " Data(x=[26, 30], edge_index=[2, 58], edge_attr=[58, 11], smiles='C[NH+]1CCCC2(C)C1CCCN2C(=O)COC1=NC=NC2=CC=CC=C12', y=1.0668000000000006),\n",
              " Data(x=[25, 30], edge_index=[2, 52], edge_attr=[52, 11], smiles='CCOC(=O)C1=CC=CC(NS(=O)(=O)C2=CC=C(OC)C(CC)=C2)=C1', y=3.235100000000002),\n",
              " Data(x=[25, 30], edge_index=[2, 56], edge_attr=[56, 11], smiles='CC1=NN2C(NC3C=CS(=O)(=O)C3)=CC(C3=CC=CC=C3)=NC2=C1C', y=2.7357400000000007),\n",
              " Data(x=[25, 30], edge_index=[2, 54], edge_attr=[54, 11], smiles='CCOCC(=O)N1CCCCC1C1=NC=C(CC2=CC=C(Cl)C=C2)O1', y=4.008900000000003),\n",
              " Data(x=[19, 30], edge_index=[2, 42], edge_attr=[42, 11], smiles='CC1=NN=C(NC(=O)C2=CC=CC3=CC=CC=C23)S1', y=3.2520200000000017),\n",
              " Data(x=[23, 30], edge_index=[2, 52], edge_attr=[52, 11], smiles='NC1=NC(N2CCC3=C(C2)C2=CC=CC=C2[NH]3)=NC=C1[N+](=O)[O-]', y=2.0109999999999997),\n",
              " Data(x=[20, 30], edge_index=[2, 42], edge_attr=[42, 11], smiles='CC(=O)C1=CC(C)=C(OC(=O)C2=CC=CC=C2)C(C)=C1', y=3.725240000000003),\n",
              " Data(x=[30, 30], edge_index=[2, 66], edge_attr=[66, 11], smiles='O=C(NC1CC1)C1=CC=CC(OCC2CCCN(C(=O)C3=CC=C(F)C(F)=C3)C2)=C1', y=3.7882000000000033),\n",
              " Data(x=[28, 30], edge_index=[2, 60], edge_attr=[60, 11], smiles='CCC1=CC=CC=C1N1CC(C(=O)OCC(=O)NC2=CC=CC=C2C)CC1=O', y=3.092220000000001),\n",
              " Data(x=[25, 30], edge_index=[2, 56], edge_attr=[56, 11], smiles='CC1=CC=CC(N2N=CC3=C2CCCC3NC(=O)C2=CC=C[NH]2)=C1C', y=3.624640000000002),\n",
              " Data(x=[34, 30], edge_index=[2, 74], edge_attr=[74, 11], smiles='C[NH+](C)CCN1C=CC2=CC(NC(=O)C3=NC=CN=C3C(=O)NCC3=CC=C(F)C=C3)=CC=C21', y=1.8972000000000009),\n",
              " Data(x=[16, 30], edge_index=[2, 34], edge_attr=[34, 11], smiles='CN(C(=O)CCC1=CC=CO1)C1CCCC1', y=2.613200000000001),\n",
              " Data(x=[23, 30], edge_index=[2, 46], edge_attr=[46, 11], smiles='CCOC1=CC=C(NC(=O)N(CC[NH+](C)C)CC(C)C)C=C1Cl', y=2.373100000000001),\n",
              " Data(x=[29, 30], edge_index=[2, 64], edge_attr=[64, 11], smiles='N#CC1=C(N=CC2=CC=C(OCC(=O)N3CCOCC3)C=C2)SC2=C1CCCC2', y=3.486780000000003),\n",
              " Data(x=[29, 30], edge_index=[2, 62], edge_attr=[62, 11], smiles='CN(C)CC(=O)N1CCC(CCC(=O)NC2CC[NH+](CC3=CC=CC=C3)C2)CC1', y=0.540400000000004),\n",
              " Data(x=[28, 30], edge_index=[2, 62], edge_attr=[62, 11], smiles='COC1=CC=C(C[NH+]2CC3CCC(C2)N(C(=O)C2=C(C)N(C)N=C2C)C3)C=C1', y=1.365040000000001),\n",
              " Data(x=[26, 30], edge_index=[2, 56], edge_attr=[56, 11], smiles='CCC1=NN(C2=CC=CC=C2Cl)C(CC)=C1C(=O)N1CCN(CC)CC1', y=3.428200000000002),\n",
              " Data(x=[30, 30], edge_index=[2, 66], edge_attr=[66, 11], smiles='CC1CCCN(C(=O)C2=CC=C(NC(=O)CC3=C(O)N=C(N4CCCC4)S3)C=C2)C1', y=3.502200000000002),\n",
              " Data(x=[22, 30], edge_index=[2, 50], edge_attr=[50, 11], smiles='C1=CC=C(C2=NC3=CC=CC=C3N=C2N2CC[NH2+]CC2)C=C1', y=1.6801999999999992),\n",
              " Data(x=[24, 30], edge_index=[2, 50], edge_attr=[50, 11], smiles='CC(C)C(CNC(=O)C1=CC=CC(C(F)(F)F)=C1)N1CCOCC1', y=2.7920000000000016),\n",
              " Data(x=[31, 30], edge_index=[2, 66], edge_attr=[66, 11], smiles='CCCN(C(=O)C1=CC=CC(F)=C1)C1(C(=O)NC2=CC=CC=C2)CC[NH+](CCC)CC1', y=3.1441000000000017),\n",
              " Data(x=[23, 30], edge_index=[2, 50], edge_attr=[50, 11], smiles='NC(=O)CN1C=C2CCCC(NC(=O)C3=CC=CC(Cl)=C3)C2=N1', y=1.8291999999999988),\n",
              " Data(x=[22, 30], edge_index=[2, 44], edge_attr=[44, 11], smiles='CS(=O)(=O)C1=CC=C(SCC(=O)OCCC#N)C([N+](=O)[O-])=C1', y=1.5472800000000002),\n",
              " Data(x=[21, 30], edge_index=[2, 44], edge_attr=[44, 11], smiles='CCC(O)CN1CCN(C(=O)CCN2C=C(C)C=N2)CC1', y=0.4967199999999996),\n",
              " Data(x=[24, 30], edge_index=[2, 50], edge_attr=[50, 11], smiles='CC(C)(C)OC(=O)NCC1CC[NH+](CC2=CC=C(C#N)C=C2)CC1', y=1.8778800000000004),\n",
              " Data(x=[20, 30], edge_index=[2, 46], edge_attr=[46, 11], smiles='CC12C=CC(O1)C1C(=O)N(C3=CC=CC=C3Br)C(=O)C12', y=2.282),\n",
              " Data(x=[15, 30], edge_index=[2, 34], edge_attr=[34, 11], smiles='CC1(C2=CC(N3CC[NH2+]CC3)=N[NH]2)CC1', y=-0.15539999999999887),\n",
              " Data(x=[25, 30], edge_index=[2, 54], edge_attr=[54, 11], smiles='CCCCN1N=CN=C1C1CC(=O)N(C2=CC=C(OC(C)C)C=C2)C1', y=3.385900000000002),\n",
              " Data(x=[30, 30], edge_index=[2, 66], edge_attr=[66, 11], smiles='CC1=CC(NC2=NC(C)=C(C)S2)=CC(C2CCN(S(=O)(=O)C3=C(C)ON=C3C)C2)=[NH+]1', y=3.4091000000000014),\n",
              " Data(x=[35, 30], edge_index=[2, 78], edge_attr=[78, 11], smiles='COC1=CC(C2C3=C(OC4=CC(C)=C(C)C=C4C3=O)C(=O)N2CC2=CC=CO2)=CC(OC)=C1OC', y=4.774040000000004),\n",
              " Data(x=[27, 30], edge_index=[2, 58], edge_attr=[58, 11], smiles='NC1=C(NC(=O)C2=CC=CO2)C(=O)[NH]C(SCC(=O)NC2CCCCC2)=N1', y=1.7383999999999995),\n",
              " Data(x=[19, 30], edge_index=[2, 40], edge_attr=[40, 11], smiles='CC1C[NH+](CC(O)COC2=CC=CC=C2)CC(C)O1', y=0.11840000000000117),\n",
              " Data(x=[22, 30], edge_index=[2, 48], edge_attr=[48, 11], smiles='CCC(=O)N1CCC([NH2+]C(C)C2=CC3=CC(Cl)=CC=C3O2)C1', y=2.7215000000000007),\n",
              " Data(x=[17, 30], edge_index=[2, 36], edge_attr=[36, 11], smiles='CC([NH2+]CCC1CCOCC1)C1CCCOC1', y=1.1815999999999998),\n",
              " Data(x=[30, 30], edge_index=[2, 66], edge_attr=[66, 11], smiles='COC1=CC=C(CNC(=O)C2CCCN(C3=NN=C4C=CC=C(C)N34)C2)C(OC)=C1', y=2.58772),\n",
              " Data(x=[17, 30], edge_index=[2, 36], edge_attr=[36, 11], smiles='CC(=O)N1CCCC1C1=CC=NC(N(C)C)=N1', y=1.226),\n",
              " Data(x=[26, 30], edge_index=[2, 56], edge_attr=[56, 11], smiles='CC1=CC(=O)C=C(C(=O)NC2CC[NH+](CC3=CC=CC(O)=C3)CC2)N1C', y=0.3766200000000006),\n",
              " Data(x=[27, 30], edge_index=[2, 60], edge_attr=[60, 11], smiles='CCOC1=CC(C=C2NC(C3=C(Cl)C4=CC=CC=C4S3)OC2=O)=CC=C1O', y=4.845100000000004),\n",
              " Data(x=[27, 30], edge_index=[2, 60], edge_attr=[60, 11], smiles='CC1=CC2=C(C3=CC=CC(C(=O)N4CCCC(C(N)=O)C4)=C3)N=CN=C2S1', y=3.00422),\n",
              " Data(x=[29, 30], edge_index=[2, 64], edge_attr=[64, 11], smiles='O=C(NCCN1C=NC(C2CC2)=CC1=O)C1=CN=C(O)N(C2=CC=CC=C2)C1=O', y=0.8021999999999991),\n",
              " Data(x=[23, 30], edge_index=[2, 50], edge_attr=[50, 11], smiles='O=C(NCCCN1C=CC2=CC=CC=C21)C1=CC(Br)=CC=C1F', y=4.363000000000002),\n",
              " Data(x=[30, 30], edge_index=[2, 64], edge_attr=[64, 11], smiles='CCCC(=O)OCC(O)CN(CC1=CC=C(OC)C=C1)CC1=CC=C2OCOC2=C1', y=3.130300000000002),\n",
              " Data(x=[23, 30], edge_index=[2, 48], edge_attr=[48, 11], smiles='CCC1=C(C)SC(NC(=O)CN2CC[NH+](CC(C)O)C(C)C2)=N1', y=-0.07777999999999774),\n",
              " Data(x=[21, 30], edge_index=[2, 46], edge_attr=[46, 11], smiles='O=C(CCC1=CC=CN=C1)NC1CCCC2=CC=CC=C21', y=3.208000000000002),\n",
              " Data(x=[27, 30], edge_index=[2, 60], edge_attr=[60, 11], smiles='CC1=NC(NC2=NN=C(C)S2)=CC(C2CCCN2C(=O)C2=CC=CC=C2)=N1', y=3.665840000000002),\n",
              " Data(x=[32, 30], edge_index=[2, 70], edge_attr=[70, 11], smiles='COC1=CC=C(C2=NN(C3=C(C)ON=C3C)C(=O)C=C2)C=C1S(=O)(=O)NCC1CCCO1', y=1.97024),\n",
              " Data(x=[27, 30], edge_index=[2, 58], edge_attr=[58, 11], smiles='COCCC(=O)N1CCC([NH+]2CCCC(C(=O)N3CCN(C)CC3)C2)CC1', y=-0.9171999999999942),\n",
              " Data(x=[26, 30], edge_index=[2, 58], edge_attr=[58, 11], smiles='O=C1NN(C2=CC=CC(C(=O)N3CCOCC3)=C2)C(=O)C2CC=CCC12', y=1.1191999999999998),\n",
              " Data(x=[25, 30], edge_index=[2, 54], edge_attr=[54, 11], smiles='CC1=CC=C(NC(=O)C(SC2=NN=NN2C)C2=CC=CC=C2)C=C1Cl', y=3.644020000000002),\n",
              " Data(x=[34, 30], edge_index=[2, 76], edge_attr=[76, 11], smiles='CC1=CC(C)=CC(NC(=O)C2=C(N)N(N=CC3=CC=CC=C3O)C3=NC4=CC=CC=C4N=C23)=C1', y=4.6236400000000035),\n",
              " Data(x=[24, 30], edge_index=[2, 50], edge_attr=[50, 11], smiles='C=CCNC(=O)C1CC=CCC1C(=O)NC1=CC=CC([N+](=O)[O-])=C1', y=2.4179000000000004),\n",
              " Data(x=[30, 30], edge_index=[2, 64], edge_attr=[64, 11], smiles='CC1=CC=CC(N(C(C)C(=O)N(C)CC2=NC(C3=CC=CC=C3)=NO2)S(C)(=O)=O)=C1', y=2.8581200000000013),\n",
              " Data(x=[22, 30], edge_index=[2, 48], edge_attr=[48, 11], smiles='CC1CN(CC2=CC=CC=C2)CC1[NH2+]CC1=CC=C(C#N)O1', y=1.7351799999999997),\n",
              " Data(x=[20, 30], edge_index=[2, 44], edge_attr=[44, 11], smiles='CN1C=NN=C1SCC[NH2+]C1CCC2=CC=CC=C2C1', y=1.0281),\n",
              " Data(x=[32, 30], edge_index=[2, 70], edge_attr=[70, 11], smiles='COC1=CC=CC(C2=NC(CN3C(=O)C4=C(C)C=C(C)N=C4N(C)C3=O)=C(C)O2)=C1OC', y=2.740960000000001),\n",
              " Data(x=[21, 30], edge_index=[2, 46], edge_attr=[46, 11], smiles='NC(=O)C1=CN(CC2=NC3=CC=CC=C3N2C(F)F)N=N1', y=1.1701),\n",
              " Data(x=[23, 30], edge_index=[2, 50], edge_attr=[50, 11], smiles='O=C(NC1=CC=C(Cl)C=C1C(F)(F)F)C1=C2N=CC=CN2N=C1', y=3.6538000000000013),\n",
              " Data(x=[23, 30], edge_index=[2, 48], edge_attr=[48, 11], smiles='COC1=CC([N+](=O)[O-])=CC=C1NC(=O)NCCC1=CC=CC=C1', y=2.967600000000001),\n",
              " Data(x=[29, 30], edge_index=[2, 64], edge_attr=[64, 11], smiles='CC1=CC=CC(N2CCN(C(=O)C3=CC=C(N4C(=O)CCS4(=O)=O)C=C3)CC2)=C1', y=2.02392),\n",
              " Data(x=[26, 30], edge_index=[2, 56], edge_attr=[56, 11], smiles='CCCCNC(=O)C1=C2N=C(C)C(CC3=CC=C(C)C=C3)=C(C)N2N=C1', y=3.775260000000003),\n",
              " Data(x=[23, 30], edge_index=[2, 50], edge_attr=[50, 11], smiles='CC1=NN(C2=CC=CC=C2)C(C)=C1C(=O)OC1CCCCC1=O', y=3.1576400000000016),\n",
              " Data(x=[14, 30], edge_index=[2, 28], edge_attr=[28, 11], smiles='NC1=CC=C(SCC([NH3+])C(=O)O)C=C1', y=0.05599999999999983),\n",
              " Data(x=[27, 30], edge_index=[2, 56], edge_attr=[56, 11], smiles='CNS(=O)(=O)C1=CC(NC(=O)CNC(=O)C2=CC=C(F)C=C2F)=CC=C1C', y=1.5498200000000002),\n",
              " Data(x=[25, 30], edge_index=[2, 56], edge_attr=[56, 11], smiles='O=C(C(C1=CC=CC=C1)[NH+]1CCCC1C1=CC=CS1)N1CCOCC1', y=2.068),\n",
              " Data(x=[15, 30], edge_index=[2, 32], edge_attr=[32, 11], smiles='COC(=O)C1(C)OC12COC(C(C)C)C2', y=1.1319999999999997),\n",
              " Data(x=[24, 30], edge_index=[2, 52], edge_attr=[52, 11], smiles='CN1N=CC=C1C(=O)N1CCC(=O)N(CC2=CC=CC=C2F)CC1', y=1.4338999999999995),\n",
              " Data(x=[23, 30], edge_index=[2, 52], edge_attr=[52, 11], smiles='CC1=C(CN(C)CC2=NC(=O)C3=C([NH]2)SC2=C3CCC2)SC=C1', y=3.475220000000002),\n",
              " Data(x=[30, 30], edge_index=[2, 64], edge_attr=[64, 11], smiles='CCN(CC)C(=O)CN1C(=O)SC(=CC2=CC=C(OC)C3=CC=CC(OC)=C23)C1=O', y=3.761700000000003),\n",
              " Data(x=[24, 30], edge_index=[2, 52], edge_attr=[52, 11], smiles='CC(C)=C1C2CCC1C(C(=O)NC1=CC=C(Br)C(C)=C1)C2C(=O)O', y=4.3892200000000035),\n",
              " Data(x=[22, 30], edge_index=[2, 50], edge_attr=[50, 11], smiles='O=C(C1=CC=C2CCC3=C2C1=CC=C3)C(O)C1=CC=CC=C1', y=3.854700000000002),\n",
              " Data(x=[30, 30], edge_index=[2, 64], edge_attr=[64, 11], smiles='CC1(C(=O)NCC2=CC=C(F)C=C2)CN(S(C)(=O)=O)CC(=O)N1C1=CC=CC(Cl)=C1', y=2.1624),\n",
              " Data(x=[31, 30], edge_index=[2, 68], edge_attr=[68, 11], smiles='CCOC1=CC([N+](=O)[O-])=CC(C=NC2=CC=C(O)C(C3=NC4=CC=CC=C4O3)=C2)=C1O', y=4.963500000000004),\n",
              " Data(x=[17, 30], edge_index=[2, 38], edge_attr=[38, 11], smiles='O=C1CC(NC2=CC=C3OCOC3=C2)C(=O)N1', y=0.24230000000000002),\n",
              " Data(x=[32, 30], edge_index=[2, 72], edge_attr=[72, 11], smiles='O=C(NCCCNC1=CC=NC2=CC(Cl)=CC=C12)C1=CN2CCCC3=C2C(=CC=C3)C1=O', y=4.381300000000004),\n",
              " Data(x=[30, 30], edge_index=[2, 66], edge_attr=[66, 11], smiles='O=C(C1=CC=C2C=CC=CC2=C1O)N1CCCN(S(=O)(=O)C2=CC=C(F)C=C2)CC1', y=3.221300000000002),\n",
              " Data(x=[17, 30], edge_index=[2, 36], edge_attr=[36, 11], smiles='O=[N+]([O-])C1=CC=CN=C1N=NCC1=CC=CO1', y=2.8667000000000007),\n",
              " Data(x=[28, 30], edge_index=[2, 60], edge_attr=[60, 11], smiles='CC1=CC=C(CNC(=O)C2(C)CCN(S(=O)(=O)C3=CC=C(F)C=C3)CC2)C=C1', y=3.2413200000000018),\n",
              " Data(x=[22, 30], edge_index=[2, 46], edge_attr=[46, 11], smiles='CCN1C=CN=C1CN(C)C(C(=O)O)C1=CC=C(CO)C=C1', y=1.653),\n",
              " Data(x=[27, 30], edge_index=[2, 56], edge_attr=[56, 11], smiles='COC1=CC=C(C)C=C1N(CC(=O)NC(C)C1=CC=C(F)C=C1)S(C)(=O)=O', y=2.7861200000000013),\n",
              " Data(x=[28, 30], edge_index=[2, 62], edge_attr=[62, 11], smiles='O=C(COC1=CC=C2C=CC=CC2=C1)NC1=CC=C(CC2=CC=CC=N2)C=C1', y=4.843100000000004),\n",
              " Data(x=[29, 30], edge_index=[2, 64], edge_attr=[64, 11], smiles='O=C1C=C(CC([NH2+]CC2=CC=NC=C2)C2=CC=C(F)C=C2)N=C(N2CCCC2)[NH]1', y=1.9515999999999998),\n",
              " Data(x=[27, 30], edge_index=[2, 58], edge_attr=[58, 11], smiles='CC1=CC=C(C(=O)NC(C2=CC=CN=C2)C(F)(F)F)C=C1N1CCNC1=O', y=2.9530200000000013),\n",
              " Data(x=[24, 30], edge_index=[2, 52], edge_attr=[52, 11], smiles='CC1=CC=C2[NH]C(=O)C(CN(C)CC[NH+]3CCCCC3C)=CC2=C1', y=1.7256199999999995),\n",
              " Data(x=[30, 30], edge_index=[2, 66], edge_attr=[66, 11], smiles='N#CC1=CC=CC(NS(=O)(=O)C2=CC=C3C(=C2)CCN3C(=O)NC2CCCCC2)=C1', y=3.763880000000002),\n",
              " Data(x=[28, 30], edge_index=[2, 60], edge_attr=[60, 11], smiles='CCC1=NN=C(NC(=O)CSC2=NN=C(CNC3=CC(Cl)=CC=C3Cl)N2C)S1', y=3.878700000000002),\n",
              " Data(x=[29, 30], edge_index=[2, 64], edge_attr=[64, 11], smiles='CN(CC1=CC=CC=C1Cl)C(=O)C1=CC=C2C(=O)N(CC3CCCO3)C(=O)C2=C1', y=3.3872000000000018),\n",
              " Data(x=[25, 30], edge_index=[2, 54], edge_attr=[54, 11], smiles='COC1=CC=C(Br)C=C1S(=O)(=O)NC1=CC=CC(N2CCCC2=O)=C1', y=3.385300000000001),\n",
              " Data(x=[15, 30], edge_index=[2, 30], edge_attr=[30, 11], smiles='CCOC(=O)C(C)OC1=CC=CC(C)=C1', y=2.3254200000000003),\n",
              " Data(x=[26, 30], edge_index=[2, 58], edge_attr=[58, 11], smiles='CC1=CC(C)=CC(N2N=CC3=C(N4CCN(CCO)CC4)N=CN=C32)=C1', y=1.5466399999999996),\n",
              " Data(x=[33, 30], edge_index=[2, 74], edge_attr=[74, 11], smiles='CC1=CC=CC=C1N1C(CC2CCN(C(=O)C3=N[NH]C(C4=CC=CC=C4)=C3)CC2)=N[NH]C1=O', y=3.354020000000001),\n",
              " Data(x=[20, 30], edge_index=[2, 44], edge_attr=[44, 11], smiles='CC1=C(CN2CCCC2C2=CC(C(C)C)=NO2)SC=C1', y=4.5050200000000045),\n",
              " Data(x=[31, 30], edge_index=[2, 66], edge_attr=[66, 11], smiles='CC1=CC=C(S(=O)(=O)N(CC(=O)NCCCN2CCOCC2)C2=CC=CC=C2Cl)C=C1', y=2.682220000000002),\n",
              " Data(x=[23, 30], edge_index=[2, 50], edge_attr=[50, 11], smiles='CCC(CO)[NH+]1CCN(C2=NN=C(CC3=CC=CC=C3)S2)CC1', y=0.6047000000000002),\n",
              " Data(x=[26, 30], edge_index=[2, 58], edge_attr=[58, 11], smiles='COC(=O)C1=CC=C(N2CCN(CC3=NC(C4CC4)=NO3)C(C)C2)C=C1', y=2.4443),\n",
              " Data(x=[20, 30], edge_index=[2, 42], edge_attr=[42, 11], smiles='CC(=O)NCCC[NH2+]C1CC(C2=CC=CC=C2)C1(C)C', y=1.6583000000000008),\n",
              " Data(x=[20, 30], edge_index=[2, 42], edge_attr=[42, 11], smiles='CC(=O)NCCCOC(=O)C1CSC2=CC=CC=C2O1', y=1.6090999999999998),\n",
              " Data(x=[23, 30], edge_index=[2, 50], edge_attr=[50, 11], smiles='COC1=CC=C(N=C2SC=C(C3=CC=CC=C3)N2CCO)C=C1', y=3.4499000000000013),\n",
              " Data(x=[33, 30], edge_index=[2, 68], edge_attr=[68, 11], smiles='CCC(C(=O)NC1=CC=C(OC(F)(F)F)C=C1)N(C1=CC([N+](=O)[O-])=CC=C1OC)S(C)(=O)=O', y=3.6853000000000025),\n",
              " Data(x=[20, 30], edge_index=[2, 42], edge_attr=[42, 11], smiles='CC(=O)N1CCC2=CC(S(=O)(=O)CCC(=O)O)=CC=C21', y=0.8439999999999999),\n",
              " Data(x=[31, 30], edge_index=[2, 68], edge_attr=[68, 11], smiles='CN(C1=CC=CC=C1)S(=O)(=O)C1=CC=CC(NC(=O)CSC2=NC=NC3=C2C=CS3)=C1', y=4.247200000000003),\n",
              " Data(x=[28, 30], edge_index=[2, 60], edge_attr=[60, 11], smiles='CC1=CC=CC(NC(=O)CSC2=NN=C(CC3=CC=C(Cl)C=C3)C(=O)N2N)=C1', y=2.6355199999999996),\n",
              " Data(x=[19, 30], edge_index=[2, 40], edge_attr=[40, 11], smiles='CN(CC1=CC=CO1)S(=O)(=O)C1=CC(Br)=CC=C1Br', y=3.625300000000002),\n",
              " Data(x=[25, 30], edge_index=[2, 56], edge_attr=[56, 11], smiles='CC1=NN(CC(=O)N2CCCC2C2=CC=CS2)C(=O)C2=CC=CC=C12', y=3.1301200000000016),\n",
              " Data(x=[20, 30], edge_index=[2, 40], edge_attr=[40, 11], smiles='OCCOCC[NH+](CCOCCO)CC1=CC=CC=C1', y=-0.9106999999999963),\n",
              " Data(x=[22, 30], edge_index=[2, 46], edge_attr=[46, 11], smiles='CC(C)C1=CC=C(S(=O)(=O)NC2=CC=C([N+](=O)[O-])C=C2)C=C1', y=3.519000000000002),\n",
              " Data(x=[22, 30], edge_index=[2, 46], edge_attr=[46, 11], smiles='CCC(C#N)NC(=O)C(O)(C1=CC=CC=C1)C1=CC=CC=C1', y=2.3408800000000003),\n",
              " Data(x=[20, 30], edge_index=[2, 42], edge_attr=[42, 11], smiles='CC1=CC=C(S(=O)(=O)N2CCCCC2C)C=C1C(=O)O', y=2.25632),\n",
              " Data(x=[21, 30], edge_index=[2, 44], edge_attr=[44, 11], smiles='CC1=CC=C(C=CC(=O)NC2=CC=C(S(N)(=O)=O)C=C2)O1', y=1.8873199999999999),\n",
              " Data(x=[21, 30], edge_index=[2, 46], edge_attr=[46, 11], smiles='O=C(CCC1=CC=CN=C1)N1CCCC(N2C=NC=N2)C1', y=1.4694),\n",
              " Data(x=[21, 30], edge_index=[2, 46], edge_attr=[46, 11], smiles='CC1=CC=C(OC(C)C(=O)N2CCC3=CC=CC=C32)C=C1', y=3.3516200000000023),\n",
              " Data(x=[23, 30], edge_index=[2, 50], edge_attr=[50, 11], smiles='CN1C=C([N+](=O)[O-])C(C(=O)NCC2=CC3=CC(Cl)=CC=C3[NH]2)=N1', y=2.393),\n",
              " Data(x=[26, 30], edge_index=[2, 58], edge_attr=[58, 11], smiles='O=C(C1CCCC1)N1CC2C[NH+](CC3=CC=C(Cl)C=C3)CC2(C(=O)O)C1', y=1.4581000000000004),\n",
              " Data(x=[23, 30], edge_index=[2, 50], edge_attr=[50, 11], smiles='CC1=C(C2=NN=C(SC3=CC=C([N+](=O)[O-])C=C3F)N2C)C=CO1', y=3.5820200000000018),\n",
              " Data(x=[22, 30], edge_index=[2, 46], edge_attr=[46, 11], smiles='CC(C[NH2+]C1CCCCC1S(C)(=O)=O)C1=CC=C(F)C=C1F', y=1.9875000000000003),\n",
              " Data(x=[17, 30], edge_index=[2, 36], edge_attr=[36, 11], smiles='CC(C)(C)NC(=O)NCC1CC2CC([NH3+])C2C1', y=0.7407000000000019),\n",
              " Data(x=[24, 30], edge_index=[2, 50], edge_attr=[50, 11], smiles='CCC1=CC=CC=C1NC(=O)C(C)NC(=O)OCC1=CC=CC=C1', y=3.5024000000000015),\n",
              " Data(x=[27, 30], edge_index=[2, 62], edge_attr=[62, 11], smiles='O=C1[NH]C(C[NH+]2CCCC(C3=NC4=CC=CC=C4O3)C2)=NC2=CC=CC=C12', y=2.0267999999999997),\n",
              " Data(x=[23, 30], edge_index=[2, 50], edge_attr=[50, 11], smiles='CC1=CC=CC(N2CCN(CC3=NC(N)=NC(N)=N3)CC2)=C1C', y=0.9750399999999997),\n",
              " Data(x=[31, 30], edge_index=[2, 68], edge_attr=[68, 11], smiles='O=C(CN1C(=O)C(=NNC2=CC=CC=C2[N+](=O)[O-])C2=CC=CC=C21)NC1=CC=CC=C1', y=3.396300000000001),\n",
              " Data(x=[21, 30], edge_index=[2, 44], edge_attr=[44, 11], smiles='COC1=CC=CC=C1S(=O)(=O)NC1=C(C(=O)O)N(C)N=C1', y=0.9277000000000001),\n",
              " Data(x=[27, 30], edge_index=[2, 60], edge_attr=[60, 11], smiles='C[NH+]1CCN(C2=NC(C(F)(F)F)=NC3=C2C=NN3CC2=CC=CC=C2)CC1', y=1.2280999999999997),\n",
              " Data(x=[14, 30], edge_index=[2, 30], edge_attr=[30, 11], smiles='NC1=NN=C(C2=CC=CS2)C(=O)N1N', y=-0.3372000000000001),\n",
              " Data(x=[32, 30], edge_index=[2, 68], edge_attr=[68, 11], smiles='CCCC1=NC(SCC(=O)NC2=CC(OC)=CC=C2OC)=C2C(=O)N(C)C(=O)N(C)C2=N1', y=1.7276999999999996),\n",
              " Data(x=[24, 30], edge_index=[2, 52], edge_attr=[52, 11], smiles='COC(=O)C1=C(NC(=O)C2=CC=CC(F)=C2)SC=C1C1=CC=CS1', y=4.654600000000002),\n",
              " Data(x=[26, 30], edge_index=[2, 58], edge_attr=[58, 11], smiles='COC1=CC=C2C=C(C(=O)NC3CC[NH+](CC4=CC=CC=C4)C3)[NH]C2=C1', y=1.7636999999999996),\n",
              " Data(x=[29, 30], edge_index=[2, 64], edge_attr=[64, 11], smiles='COC1=CC=C(C2=CC(C(=O)NC3=CC=C(C)C=C3C3=N[NH]C(C)=C3)=N[NH]2)C=C1', y=4.344540000000001),\n",
              " Data(x=[22, 30], edge_index=[2, 50], edge_attr=[50, 11], smiles='CC1=NN(C)C2=C1SC(N1CCCC(C[NH+]3CCCC3)C1)=N2', y=1.2333199999999997),\n",
              " Data(x=[25, 30], edge_index=[2, 56], edge_attr=[56, 11], smiles='FC1=CC=C(C(CNC2=NC=NC3=C2N=C[NH]3)N2CCOCC2)C=C1', y=1.9773999999999998),\n",
              " Data(x=[15, 30], edge_index=[2, 30], edge_attr=[30, 11], smiles='CCOC(=O)CCCC1=CC=CC(Br)=C1', y=3.334900000000002),\n",
              " Data(x=[17, 30], edge_index=[2, 38], edge_attr=[38, 11], smiles='CC1=CC(CN2CCC3CCC(C2)[NH+]3C)=NO1', y=0.2344200000000008),\n",
              " Data(x=[23, 30], edge_index=[2, 52], edge_attr=[52, 11], smiles='CC1=CC=C(C(=O)N2CCC3=CC4=CC=CC=C4N=C32)C=C1C', y=4.054540000000003),\n",
              " Data(x=[31, 30], edge_index=[2, 66], edge_attr=[66, 11], smiles='CCOC1=CC=C(S(=O)(=O)N(C)C2=CC=C(OC(=O)C3=CC=C(C#N)C=C3)C=C2)C=C1', y=4.001280000000003),\n",
              " Data(x=[26, 30], edge_index=[2, 56], edge_attr=[56, 11], smiles='O=C(NCCC1=CCCCC1)C1CC[NH+](CC2=CC=C(Cl)C=C2F)CC1', y=3.280700000000002),\n",
              " Data(x=[20, 30], edge_index=[2, 42], edge_attr=[42, 11], smiles='COC(C)C1=CC=CC(C2=NC(C)=CC(C(=O)O)=N2)=C1', y=2.8576200000000007),\n",
              " Data(x=[23, 30], edge_index=[2, 46], edge_attr=[46, 11], smiles='COC1=CC=CC(C(=O)CCCCCNC(=O)OC(C)(C)C)=C1', y=3.9630000000000027),\n",
              " Data(x=[23, 30], edge_index=[2, 48], edge_attr=[48, 11], smiles='CCCC1=CC(=O)[NH]C(SCC(=O)NC2=C(C(N)=O)C=CS2)=N1', y=1.6136),\n",
              " Data(x=[17, 30], edge_index=[2, 34], edge_attr=[34, 11], smiles='CCC1CN(C(=O)CCNS(C)(=O)=O)CCO1', y=-0.4368999999999985),\n",
              " Data(x=[30, 30], edge_index=[2, 66], edge_attr=[66, 11], smiles='COC1=CC=C(CC(=O)NC2=NC(C3=C(C)N(C)C4=CC=C(OC)C=C34)=CS2)C=C1', y=4.808620000000004),\n",
              " Data(x=[26, 30], edge_index=[2, 58], edge_attr=[58, 11], smiles='CC1=NN(C2=CC=CC(C[NH+]3CCCC(C4=N[NH]C(C)=N4)C3)=C2)C(C)=C1', y=1.87816),\n",
              " Data(x=[31, 30], edge_index=[2, 70], edge_attr=[70, 11], smiles='CC1=NC2=NC(CC3=CC=CC(F)=C3)=NN2C(N2CCN(C3=CC=CC=C3F)CC2)=C1', y=3.628320000000002),\n",
              " Data(x=[28, 30], edge_index=[2, 60], edge_attr=[60, 11], smiles='COCCN1CCN(C(=O)C2=CSC(NC(=O)C3=CC=C(Cl)C=C3Cl)=N2)CC1', y=3.1064000000000016),\n",
              " Data(x=[25, 30], edge_index=[2, 54], edge_attr=[54, 11], smiles='O=[N+]([O-])C1=CC=CC=C1S(=O)(=O)N1CCN(C2=CC=CC(Cl)=C2)CC1', y=2.759100000000001),\n",
              " Data(x=[24, 30], edge_index=[2, 52], edge_attr=[52, 11], smiles='COCC[NH+]1CC(NS(=O)(=O)N2CCCC2)C(C2=CC=CC=C2)C1', y=-0.3860999999999968),\n",
              " Data(x=[28, 30], edge_index=[2, 60], edge_attr=[60, 11], smiles='CC1=C(CC(=O)NC2=CC=CC(NC(=O)CCC3=CC=CC=C3)=C2)C(=O)[NH][NH]1', y=2.7639199999999997),\n",
              " Data(x=[27, 30], edge_index=[2, 60], edge_attr=[60, 11], smiles='CC1=CC(CC2=CC=CC=C2)=CC(C2CCCN(C(=O)C3CCCC3)C2)=N1', y=4.877020000000004),\n",
              " Data(x=[24, 30], edge_index=[2, 50], edge_attr=[50, 11], smiles='CNS(=O)(=O)C1=CC=C(C)C(C(=O)NC(C)C2=CC=CC=C2F)=C1', y=2.533220000000001),\n",
              " Data(x=[31, 30], edge_index=[2, 70], edge_attr=[70, 11], smiles='CC1=CC(C(=O)CSC2=NN=C(C3=CC=C4OCOC4=C3)O2)=C(C)N1C1=CC=CC=C1', y=4.847840000000004),\n",
              " Data(x=[28, 30], edge_index=[2, 62], edge_attr=[62, 11], smiles='CC1=CC=C(NC(=O)CN2[NH][NH]C3=C2C(=O)N(C2=CC=CC(Cl)=C2)C3=O)C=C1', y=1.9806999999999992),\n",
              " Data(x=[20, 30], edge_index=[2, 42], edge_attr=[42, 11], smiles='COC1=CC=CC(C=CC(=O)N2CC[NH+](C)CC2C)=C1', y=0.4538000000000004),\n",
              " Data(x=[34, 30], edge_index=[2, 72], edge_attr=[72, 11], smiles='COC1=CC=C(OC(C)C(=O)NC2=CC=C(S(=O)(=O)NC3=CC=C(OC)C=C3OC)C=C2)C=C1', y=3.9192000000000027),\n",
              " Data(x=[22, 30], edge_index=[2, 48], edge_attr=[48, 11], smiles='O=C(CN1CCC(NC2=CC=CC=C2)C1)NC1CCOCC1', y=1.4679999999999997),\n",
              " Data(x=[31, 30], edge_index=[2, 70], edge_attr=[70, 11], smiles='O=C(NC1=CC(C2CC2)=NN1C1=NC2=C(CCCC2)C(=O)[NH]1)C1=CC=CC([N+](=O)[O-])=C1', y=2.872300000000001),\n",
              " Data(x=[24, 30], edge_index=[2, 50], edge_attr=[50, 11], smiles='COC1CC(CC(=O)O)N(C(=O)CCC(=O)C2=C(C)SC(C)=C2)C1', y=2.4184400000000004),\n",
              " Data(x=[19, 30], edge_index=[2, 42], edge_attr=[42, 11], smiles='CS(=O)(=O)N1CCC2(CN(CC3=CC=CC=C3)C2)C1', y=1.1538999999999997),\n",
              " Data(x=[25, 30], edge_index=[2, 56], edge_attr=[56, 11], smiles='O=C(CN1CCC(O)(C2=CC=C3OCOC3=C2)CC1)NC1=NC=CS1', y=1.7938999999999998),\n",
              " Data(x=[24, 30], edge_index=[2, 52], edge_attr=[52, 11], smiles='CS(=O)(=O)N1CCCC1C1=CN=CC(C2=CC=CC(C(=O)O)=C2)=N1', y=1.9383),\n",
              " Data(x=[31, 30], edge_index=[2, 68], edge_attr=[68, 11], smiles='CCOC1=CC=C(C2=NN3C=CN(CCC(=O)NCC4=CC=CC=C4)C(=O)C3=C2)C=C1', y=3.268200000000002),\n",
              " Data(x=[24, 30], edge_index=[2, 54], edge_attr=[54, 11], smiles='C[NH+]1CCOCC2(CC(CC3=NC(N4CCCC4)=NC=C3F)C2)C1', y=0.6997000000000004),\n",
              " Data(x=[19, 30], edge_index=[2, 42], edge_attr=[42, 11], smiles='CC1=NC=CN1C1=NC=CN=C1C1CC[NH+](C)CC1', y=0.36281999999999975),\n",
              " Data(x=[26, 30], edge_index=[2, 56], edge_attr=[56, 11], smiles='CNS(=O)(=O)C1=CC=C(NC(=O)C2=CC(C)=C(C3=CC=CC=C3)S2)C=C1', y=3.8839200000000025),\n",
              " Data(x=[25, 30], edge_index=[2, 54], edge_attr=[54, 11], smiles='O=C(CCNC(=O)NC1=CC=CC2=CN=CC=C12)NC1CCCCC1', y=3.1953000000000014),\n",
              " Data(x=[24, 30], edge_index=[2, 52], edge_attr=[52, 11], smiles='CC1=CC=C(C2COCCN2C(=O)C2=CC=C(C[NH+](C)C)C=C2)O1', y=1.4462199999999998),\n",
              " Data(x=[23, 30], edge_index=[2, 48], edge_attr=[48, 11], smiles='NC1=NON=C1C(=O)NCCNC(=O)NC1=CC=C(F)C(Cl)=C1', y=0.9957999999999998),\n",
              " Data(x=[26, 30], edge_index=[2, 56], edge_attr=[56, 11], smiles='CC1=CC=C(OCC(=O)C2=C[NH]C(C(=O)N3CCCC3)=C2)C([N+](=O)[O-])=C1', y=2.729020000000001),\n",
              " Data(x=[23, 30], edge_index=[2, 50], edge_attr=[50, 11], smiles='CC1CCCC[NH+]1C1CN(CC2=CC=CC(OCC(N)=O)=C2)C1', y=0.19220000000000226),\n",
              " Data(x=[25, 30], edge_index=[2, 52], edge_attr=[52, 11], smiles='CCN(CC(=O)NCC1=CC=C(F)C=C1)CC(=O)NC1=CC(C)=NO1', y=1.698919999999999),\n",
              " Data(x=[20, 30], edge_index=[2, 44], edge_attr=[44, 11], smiles='O=C(C1=C(C2=CC=CS2)OC=N1)N1CCS(=O)(=O)CC1', y=1.2737),\n",
              " Data(x=[28, 30], edge_index=[2, 62], edge_attr=[62, 11], smiles='CN1C(=O)C2=C(N=C(CN3CCOCC3)N2CCN2CCOCC2)N(C)C1=O', y=-1.4018999999999953),\n",
              " Data(x=[30, 30], edge_index=[2, 64], edge_attr=[64, 11], smiles='COC(=O)C1=CC=CC=C1NC(=O)C1=C(C)NC(=O)NC1C1=CC(Br)=CC=C1OC', y=3.5109000000000012),\n",
              " Data(x=[25, 30], edge_index=[2, 56], edge_attr=[56, 11], smiles='O=C(NC1CCN(C(=O)C2=CC=C3[NH]C=NC3=C2)CC1)C1=CC=CS1', y=2.6590000000000007),\n",
              " Data(x=[24, 30], edge_index=[2, 52], edge_attr=[52, 11], smiles='N#CC1=CC=C(NCC2=CC=CC=C2C[NH+]2CCCC2CO)N=C1', y=1.1049799999999992),\n",
              " Data(x=[28, 30], edge_index=[2, 64], edge_attr=[64, 11], smiles='O=C(C1=CC=C2N=C(CC3=CC=CC=C3F)OC2=C1)N1CC[NH+]2CCCC2C1', y=2.0608),\n",
              " Data(x=[34, 30], edge_index=[2, 74], edge_attr=[74, 11], smiles='CC(C)(CNC(=O)C1=CC(S(=O)(=O)N2CCCCC2)=CC=C1N1CCOCC1)N1CCOCC1', y=1.5384000000000009),\n",
              " Data(x=[19, 30], edge_index=[2, 42], edge_attr=[42, 11], smiles='CC1=C[NH]C(C2CCC[NH+](CC3=CN=CN3C)C2)=N1', y=0.4141199999999994),\n",
              " Data(x=[28, 30], edge_index=[2, 60], edge_attr=[60, 11], smiles='CCN(CC1=CC=CC(F)=C1)C(=O)C1=CC=CC(S(=O)(=O)N2CCCCC2)=C1', y=3.662600000000003),\n",
              " Data(x=[23, 30], edge_index=[2, 50], edge_attr=[50, 11], smiles='CC1=C(C(=O)NCC2CCCC(C)C2)N=NN1C1CC[NH2+]CC1', y=1.0409200000000003),\n",
              " Data(x=[29, 30], edge_index=[2, 62], edge_attr=[62, 11], smiles='CC(=O)N1CCN(S(=O)(=O)C2=CC=CC(C(=O)NC3CCCC(C)C3C)=C2)CC1', y=2.0938999999999997),\n",
              " Data(x=[30, 30], edge_index=[2, 66], edge_attr=[66, 11], smiles='CC(CNC(=O)C1=C(N2C=CC=C2)N(CC2=CC=CC(Cl)=C2)N=N1)C1=CC=CC=C1', y=4.304000000000003),\n",
              " Data(x=[26, 30], edge_index=[2, 56], edge_attr=[56, 11], smiles='O=C(NC1CCC(OC2=CC=CC(F)=C2)C(O)C1O)C1=CC=C(F)C=C1', y=2.0263999999999998),\n",
              " Data(x=[19, 30], edge_index=[2, 40], edge_attr=[40, 11], smiles='C[NH+]1CCN(CC2=CC=C(Br)C=C2)CC(C(N)=O)C1', y=-0.1190999999999986),\n",
              " Data(x=[20, 30], edge_index=[2, 42], edge_attr=[42, 11], smiles='CCOC(=O)N1CCCC(C(=O)NC2=CC=CN=C2)C1', y=1.8885999999999998),\n",
              " Data(x=[32, 30], edge_index=[2, 68], edge_attr=[68, 11], smiles='CCN(CC1=CC=CC(F)=C1)C(=O)C1=CC(=O)[NH]C2=CC=C(S(=O)(=O)N(CC)CC)C=C12', y=3.360000000000002),\n",
              " Data(x=[31, 30], edge_index=[2, 68], edge_attr=[68, 11], smiles='CNC(=O)C1CN(C(=O)C2(C3=CC=CC=C3)CCOCC2)CCN1CC1=CC=CC=C1', y=2.1938000000000013),\n",
              " Data(x=[34, 30], edge_index=[2, 72], edge_attr=[72, 11], smiles='CC[NH+](CC)CCNC(=O)C1CCN(S(=O)(=O)C2=C(C=CC3=CC=C(C)C=C3)ON=C2C)CC1', y=1.9034400000000011),\n",
              " Data(x=[28, 30], edge_index=[2, 64], edge_attr=[64, 11], smiles='CC1=CN=C(C(=O)N2C3CC4(C)C(CCCC24)[NH2+]C3CC2=CC=CC=C2)C=N1', y=2.1152199999999994),\n",
              " Data(x=[30, 30], edge_index=[2, 66], edge_attr=[66, 11], smiles='CC1=NN(C2=CC=CC(C(F)(F)F)=C2)C(C)=C1CC(=O)NC1=NN=C2C=CC=CN12', y=3.731840000000002),\n",
              " Data(x=[24, 30], edge_index=[2, 50], edge_attr=[50, 11], smiles='C=CCNC(=O)CN1CCN(S(=O)(=O)C2=CC(Cl)=CC=C2Cl)CC1', y=1.6018999999999999),\n",
              " Data(x=[24, 30], edge_index=[2, 52], edge_attr=[52, 11], smiles='COCCN1C=C(NC(=O)C2=CSC(C3=CC=CC=C3C)=N2)C=N1', y=3.2137200000000012),\n",
              " Data(x=[23, 30], edge_index=[2, 50], edge_attr=[50, 11], smiles='O=C(CN(CC1=CC=CC=C1)C1=CC=CC=C1)NC1=N[NH]C=N1', y=2.45),\n",
              " Data(x=[29, 30], edge_index=[2, 62], edge_attr=[62, 11], smiles='CCN(CC)S(=O)(=O)N1CCOC(C2=CC(C(=O)N(C)C)=C3C=CC=CC3=N2)C1', y=1.8964999999999996),\n",
              " Data(x=[23, 30], edge_index=[2, 50], edge_attr=[50, 11], smiles='CC(=O)N1C2=CC=C(C(=O)CN3C=NC(C#N)=N3)C=C2CC1C', y=1.33018),\n",
              " Data(x=[23, 30], edge_index=[2, 50], edge_attr=[50, 11], smiles='CC1=CC=C(NC(=O)C(C)N2CC3=CC=CC=C3C2=O)C=C1F', y=3.1171200000000017),\n",
              " Data(x=[28, 30], edge_index=[2, 60], edge_attr=[60, 11], smiles='CNS(=O)(=O)C1=CC=C(S(=O)(=O)NC2=CC=CC=C2SC2=CC=CC=C2)C=C1', y=3.546700000000002),\n",
              " Data(x=[30, 30], edge_index=[2, 66], edge_attr=[66, 11], smiles='CC1=CC=C(F)C=C1NC(=O)CSC1=NN=C(COC2=CC=C3C=CC=CC3=C2)O1', y=4.980120000000003),\n",
              " Data(x=[27, 30], edge_index=[2, 60], edge_attr=[60, 11], smiles='N#CC1=CC=CC(NC(=O)C2=NN(C3=CC=C(F)C=C3)C3=C2CCCC3)=C1', y=4.014180000000002),\n",
              " Data(x=[31, 30], edge_index=[2, 68], edge_attr=[68, 11], smiles='CCN(CC1=NC2=CC=CC=C2C(=O)[NH]1)C(=O)CN1C(=O)NC2(CCCCC2C)C1=O', y=1.7722999999999995),\n",
              " Data(x=[25, 30], edge_index=[2, 54], edge_attr=[54, 11], smiles='CCCCOC1=CC=C(N2C(=O)CC([NH+]3CCC(C)CC3)C2=O)C=C1', y=1.8122),\n",
              " Data(x=[20, 30], edge_index=[2, 42], edge_attr=[42, 11], smiles='COC1=CC=C(Cl)C=C1C[NH2+]CCCN1CCOCC1', y=1.1342999999999996),\n",
              " Data(x=[29, 30], edge_index=[2, 64], edge_attr=[64, 11], smiles='CCC1=NN2C(O)=C(C(C3=CC=C(F)C(F)=C3)N3CCN(C(C)=O)CC3)SC2=N1', y=2.5905000000000005),\n",
              " Data(x=[25, 30], edge_index=[2, 58], edge_attr=[58, 11], smiles='O=C1C2=C(C=CN1C1=CC=C(Cl)C=C1)N1C(=NC3=CC=CC=C31)N=C2', y=3.8400000000000025),\n",
              " Data(x=[25, 30], edge_index=[2, 54], edge_attr=[54, 11], smiles='COC1=NN2C(CNC(=O)C(C)OC3=CC=CC=C3F)=NN=C2C=C1', y=1.3556999999999992),\n",
              " Data(x=[25, 30], edge_index=[2, 52], edge_attr=[52, 11], smiles='CCOCC[NH+]1CCN(C2=CC(OC)=C([N+](=O)[O-])C=C2F)CC1CC', y=1.2625),\n",
              " Data(x=[21, 30], edge_index=[2, 44], edge_attr=[44, 11], smiles='COC1=CC(OC)=C(OC)C=C1C[NH2+]C1CCCCC1C', y=2.3545),\n",
              " Data(x=[35, 30], edge_index=[2, 80], edge_attr=[80, 11], smiles='COC1=CC=C(N2CCN(C(=O)C3C4=CC=CC=C4C(=O)N4CCC5=CC=CC=C5C34)CC2)C=C1', y=3.8808000000000034),\n",
              " Data(x=[21, 30], edge_index=[2, 46], edge_attr=[46, 11], smiles='C[NH+]1CCC(C[NH2+]C2CCCSC2)(C2=CC=CC=C2)CC1', y=0.6919000000000024),\n",
              " Data(x=[28, 30], edge_index=[2, 62], edge_attr=[62, 11], smiles='CCC1=CC=C(S(=O)(=O)N2CCC3(CCCN(C4=CC=C(C)N=N4)C3)C2)C=C1', y=3.028620000000002),\n",
              " Data(x=[24, 30], edge_index=[2, 50], edge_attr=[50, 11], smiles='CCCCNC(=O)C1CN(C(=O)NCC)CC1C1=CC=CC(F)=C1', y=2.4869000000000003),\n",
              " Data(x=[22, 30], edge_index=[2, 48], edge_attr=[48, 11], smiles='CC1=CN(C)C(C2CCC[NH+]2CC2=CC=CC(C(=O)O)=C2)=N1', y=1.3467199999999997),\n",
              " Data(x=[33, 30], edge_index=[2, 74], edge_attr=[74, 11], smiles='CC1=CC=C(C2=NN=C(C3=CC=C(C(=O)NCCC4=CC=C5OCCOC5=C4)C=C3)O2)C=C1', y=4.455720000000004),\n",
              " Data(x=[25, 30], edge_index=[2, 54], edge_attr=[54, 11], smiles='CC1=NN(CC2CCC[NH+](C(C)C(=O)NC3=NOC(C)=C3)C2)C(C)=N1', y=0.5134600000000018),\n",
              " Data(x=[30, 30], edge_index=[2, 64], edge_attr=[64, 11], smiles='COC1=CC=C(N2CCN(CCCNC(=O)CNS(=O)(=O)C3=CC=CS3)CC2)C=C1', y=1.3635000000000002),\n",
              " Data(x=[30, 30], edge_index=[2, 66], edge_attr=[66, 11], smiles='CC1=CC=C(C)C(NC(=O)CSC2=NC3=C(C=C(C)S3)C(=O)N2CC2=CC=CO2)=C1', y=4.755360000000003),\n",
              " Data(x=[21, 30], edge_index=[2, 46], edge_attr=[46, 11], smiles='CC1=NN(C2=CC=CC=C2)C2=C1C(=O)C=C(C(F)(F)F)[NH]2', y=3.0410200000000014),\n",
              " Data(x=[21, 30], edge_index=[2, 48], edge_attr=[48, 11], smiles='O=C1C2=CC=CC=C2C(=NO)C2=CC=C3C=CC=CC3=C12', y=3.610800000000002),\n",
              " Data(x=[26, 30], edge_index=[2, 58], edge_attr=[58, 11], smiles='CC1=CC=C(S(=O)(=O)OCC2CC(=O)C3=C(C2)C2=CC=CC=C2[NH]3)C=C1', y=3.626920000000002),\n",
              " Data(x=[22, 30], edge_index=[2, 48], edge_attr=[48, 11], smiles='CC1CCCN(C(=O)CNC2=CC=CC(N3C=NN=N3)=C2)C1', y=1.3326999999999996),\n",
              " Data(x=[35, 30], edge_index=[2, 78], edge_attr=[78, 11], smiles='COC1=CC=CC(N2C(=O)CSC23C(=O)N(CC(=O)NCC2=CC=C(C)C=C2)C2=CC=CC=C23)=C1', y=3.599420000000002),\n",
              " Data(x=[26, 30], edge_index=[2, 56], edge_attr=[56, 11], smiles='CCC1=NC2=CC=C(Br)C=C2C(=O)N1N=CC1=CC=CC(OC(C)C)=C1', y=4.390800000000003),\n",
              " Data(x=[21, 30], edge_index=[2, 42], edge_attr=[42, 11], smiles='CCCCCCCCCCOC1OC(C)C(O)C(O)C1O', y=1.9712),\n",
              " Data(x=[22, 30], edge_index=[2, 48], edge_attr=[48, 11], smiles='CC1=NOC(CC(=O)NCCN2C(C)=CC3=CC=CC=C32)=C1', y=2.6050400000000007),\n",
              " Data(x=[30, 30], edge_index=[2, 64], edge_attr=[64, 11], smiles='CC1=CC=CC(C2=NOC(CN(C)C(=O)C(C)OC3=CC(C)=CC=C3C(C)C)=N2)=C1', y=4.902740000000005),\n",
              " Data(x=[24, 30], edge_index=[2, 50], edge_attr=[50, 11], smiles='CCCC1=NN=C(NC(=O)CCC(=O)NC2=CC=CC=C2OC)S1', y=2.856600000000001),\n",
              " Data(x=[27, 30], edge_index=[2, 54], edge_attr=[54, 11], smiles='COC(=O)C(CCS)NC(=O)C(CC1=CC=CC=C1)NC(=O)OC(C)(C)C', y=2.1000999999999994),\n",
              " Data(x=[33, 30], edge_index=[2, 70], edge_attr=[70, 11], smiles='CSC1=CC=CC(N(CC2=CC=C(C(=O)NCCOCC3=CC=CC=C3)C=C2)S(C)(=O)=O)=C1', y=4.3213000000000035),\n",
              " Data(x=[25, 30], edge_index=[2, 54], edge_attr=[54, 11], smiles='CC1=CC(S(=O)(=O)N2CCCC2C(=O)N2CCOCC2)=C(C)C=C1Cl', y=1.96874),\n",
              " Data(x=[31, 30], edge_index=[2, 68], edge_attr=[68, 11], smiles='O=C(CN1CC(C(=O)N2CCOCC2)OC2=CC=CC=C21)NCCC1=CC=CC(Cl)=C1', y=2.1251000000000007),\n",
              " Data(x=[27, 30], edge_index=[2, 60], edge_attr=[60, 11], smiles='COC1=CC=C(CNC(=O)N2CCC(C3=NC4=CC=CN=C4N3C)C2)C=C1', y=2.676000000000001),\n",
              " Data(x=[24, 30], edge_index=[2, 52], edge_attr=[52, 11], smiles='CSCCN1CCN(CC2=C[NH]N=C2C2=CC(C)=CC=C2C)CC1', y=3.1741400000000013),\n",
              " Data(x=[32, 30], edge_index=[2, 70], edge_attr=[70, 11], smiles='CNC(=O)CN1C2=CC=CC=C2C(=O)N(C)C1C1=CC=C(C2=CC=C(Cl)C=C2[N+](=O)[O-])O1', y=3.8450000000000024),\n",
              " Data(x=[26, 30], edge_index=[2, 60], edge_attr=[60, 11], smiles='CN1C=C(C[NH+]2CCC3OC4C5=CC=CC=C5OC(C)(C)C4CC32)C=N1', y=1.8946999999999992),\n",
              " Data(x=[23, 30], edge_index=[2, 52], edge_attr=[52, 11], smiles='C1=COC(CN2CC(OCC3=CC=NC=C3)C3OCCCC32)=C1', y=2.6232000000000006),\n",
              " Data(x=[25, 30], edge_index=[2, 56], edge_attr=[56, 11], smiles='O=C1CCC2=CC(S(=O)(=O)NCC3=CC=CC=C3)=CC3=C2N1CCC3', y=2.390500000000001),\n",
              " Data(x=[27, 30], edge_index=[2, 56], edge_attr=[56, 11], smiles='CC(C)C(NC(=O)C1=CC=C([N+](=O)[O-])C=C1Cl)C(=O)N(C)CC1=CSC=C1', y=3.7227000000000023),\n",
              " Data(x=[25, 30], edge_index=[2, 56], edge_attr=[56, 11], smiles='COC1=CC=C2CCC3(CCN(CC4=CC=NC=C4)C3)NC(=O)C2=C1', y=2.4109),\n",
              " Data(x=[31, 30], edge_index=[2, 68], edge_attr=[68, 11], smiles='CCOC1=CC=C(C2C(C(=O)C3=CC=C(C)C=C3)=C(O)C(=O)N2CC2=CC=CO2)C=C1', y=4.765220000000004),\n",
              " Data(x=[19, 30], edge_index=[2, 40], edge_attr=[40, 11], smiles='CCC1=NN(C)C=C1C[NH2+]CC1=CC=C(C)C(Cl)=C1', y=2.2079200000000005),\n",
              " Data(x=[32, 30], edge_index=[2, 68], edge_attr=[68, 11], smiles='CC(=O)C1CCCN(C(=O)C2=CC(NS(=O)(=O)N(C)C)=CC3=C2N(C)C(CC(C)C)=N3)C1', y=2.4313000000000002),\n",
              " Data(x=[27, 30], edge_index=[2, 58], edge_attr=[58, 11], smiles='CC(=O)NC1=CC=C(OS(=O)(=O)C2=CC=CC([N+](=O)[O-])=C2)C2=CC=CC=C12', y=3.4741000000000017),\n",
              " Data(x=[24, 30], edge_index=[2, 50], edge_attr=[50, 11], smiles='CC1=CC=CC(N(CC(=O)NC(C)C2=CC=CC=C2)S(C)(=O)=O)=C1', y=2.638420000000001),\n",
              " Data(x=[28, 30], edge_index=[2, 60], edge_attr=[60, 11], smiles='CC(C)NS(=O)(=O)C1=CC=C(SC2=NC(C3=CC=CC=C3)=N[NH]2)C([N+](=O)[O-])=C1', y=3.2178000000000013),\n",
              " Data(x=[20, 30], edge_index=[2, 44], edge_attr=[44, 11], smiles='COC(C(=O)O)C1=CC2=CC=CC3=C2N(CCC3)C1=O', y=1.7198),\n",
              " Data(x=[21, 30], edge_index=[2, 44], edge_attr=[44, 11], smiles='COC1=CC=C(C[NH2+]C2CCN(S(C)(=O)=O)CC2C)C=C1', y=0.428600000000001),\n",
              " Data(x=[25, 30], edge_index=[2, 54], edge_attr=[54, 11], smiles='CC(CN1CCCC1=O)NC(=O)N1CCCC1C=CC1=CC=CC=C1', y=2.8847000000000014),\n",
              " Data(x=[33, 30], edge_index=[2, 72], edge_attr=[72, 11], smiles='CC1CCC[NH+](CCCNC(=O)CN2C(=O)C(=CC3=CC=CC=C3F)SC3=CC=CC=C32)C1', y=3.1266000000000034),\n",
              " Data(x=[30, 30], edge_index=[2, 66], edge_attr=[66, 11], smiles='CCN1CCN(C(C2=CC=CC(OC)=C2OC)C2=NN=NN2CC2=CC=CO2)CC1', y=2.058499999999999),\n",
              " Data(x=[22, 30], edge_index=[2, 50], edge_attr=[50, 11], smiles='O=C1C=C(CSC2=N[NH]C(C3=CC=CS3)=N2)N=C2SC=CN12', y=2.8949000000000007),\n",
              " Data(x=[32, 30], edge_index=[2, 68], edge_attr=[68, 11], smiles='COC1=CC(C=C2SC(=S)N(NC(=O)C3=CC=CS3)C2=O)=CC=C1OCC(=O)OC(C)C', y=3.633300000000003),\n",
              " Data(x=[32, 30], edge_index=[2, 72], edge_attr=[72, 11], smiles='COC1=CC=C(C2=C(NC3=CC=C(C(=O)N4CCCCC4)C=C3)N3C=CN=CC3=N2)C=C1', y=4.774600000000003),\n",
              " Data(x=[30, 30], edge_index=[2, 64], edge_attr=[64, 11], smiles='CCCCN1C(SCC(=O)NC2=CC(OC)=CC(OC)=C2)=NN=C1C1=C(C)OC=C1', y=4.394620000000003),\n",
              " Data(x=[28, 30], edge_index=[2, 62], edge_attr=[62, 11], smiles='COC1=CC=C(C2=CC(N3CCN(C(=O)C4=CC=CC=C4C)CC3)=N[NH]2)C=C1', y=3.3561200000000015),\n",
              " Data(x=[29, 30], edge_index=[2, 60], edge_attr=[60, 11], smiles='COC1=CC=CC(N(C(C)C(=O)NC2=CC(OC)=C(Cl)C=C2OC)S(C)(=O)=O)=C1', y=3.1590000000000016),\n",
              " Data(x=[18, 30], edge_index=[2, 40], edge_attr=[40, 11], smiles='COC1=CC=C(NC2=NC=NC3=C2N=C[NH]3)C=C1', y=2.1050999999999993),\n",
              " Data(x=[29, 30], edge_index=[2, 64], edge_attr=[64, 11], smiles='CC1=CC=C(CCNC(=O)C2=C3CCCCCN3C(C3=CC=C(C)C=C3)=N2)C=C1', y=4.865840000000004),\n",
              " Data(x=[18, 30], edge_index=[2, 38], edge_attr=[38, 11], smiles='O=C(O)CCC1CCCN(C(=O)C2=NSN=C2)C1', y=1.2551),\n",
              " Data(x=[27, 30], edge_index=[2, 60], edge_attr=[60, 11], smiles='O=C(C1=N[NH]C(C2CCCCN2C(=O)C2=CC=CN=C2)=C1)N1CCOCC1', y=1.6445),\n",
              " Data(x=[23, 30], edge_index=[2, 48], edge_attr=[48, 11], smiles='COCCC1(C(=O)O)CCC[NH+](CC2=CN=C(COC)N=C2)C1', y=-0.09079999999999755),\n",
              " Data(x=[23, 30], edge_index=[2, 46], edge_attr=[46, 11], smiles='CC1=CC=C(NC(=S)NC(NC(=O)C(C)C)C(Cl)(Cl)Cl)C(C)=C1', y=4.058340000000002),\n",
              " Data(x=[23, 30], edge_index=[2, 50], edge_attr=[50, 11], smiles='CC[NH+]1CCCC1CNC(=O)CC1(N2C=CC=C2)CCCCC1', y=1.7210000000000003),\n",
              " Data(x=[31, 30], edge_index=[2, 66], edge_attr=[66, 11], smiles='CCOC1=CC=C(N2C(=O)CCS2(=O)=O)C=C1S(=O)(=O)NC1=CC=C(OC)C=C1OC', y=1.9698),\n",
              " Data(x=[27, 30], edge_index=[2, 58], edge_attr=[58, 11], smiles='CC1=NOC(C)=C1CCC(=O)NC1=CC=CC(S(=O)(=O)N2CCCCC2)=C1', y=3.0373400000000013),\n",
              " Data(x=[27, 30], edge_index=[2, 60], edge_attr=[60, 11], smiles='COC1=CC=C2C(=C1)C=C(C)C1=NN=C(SCC(=O)N3CCCC(C)C3)N12', y=3.5501200000000024),\n",
              " Data(x=[31, 30], edge_index=[2, 68], edge_attr=[68, 11], smiles='O=C1NC2=CC(C(F)(F)F)=CC=C2SC1CC(=O)N1CCN(C2=CC=CC=C2O)CC1', y=3.562700000000002),\n",
              " Data(x=[18, 30], edge_index=[2, 38], edge_attr=[38, 11], smiles='CC1(NC(=O)C2=N[NH]C(=O)C=C2)CCS(=O)(=O)C1', y=-0.9230999999999998),\n",
              " Data(x=[29, 30], edge_index=[2, 64], edge_attr=[64, 11], smiles='CC1=CC=C(N2N=CC3=C2N=CN(CC(=O)NC2=CC=C(C)C=C2C)C3=O)C=C1', y=3.146160000000002),\n",
              " Data(x=[24, 30], edge_index=[2, 52], edge_attr=[52, 11], smiles='O=C(CNC(=O)C1=CC=CO1)NC1CCC(C2=CC=CC=C2)CC1', y=2.852000000000001),\n",
              " Data(x=[27, 30], edge_index=[2, 58], edge_attr=[58, 11], smiles='CC(C1=CC=CC=C1)N1C=C(C(=O)C2=CC(Br)=CC=C2O)C=C(C#N)C1=O', y=4.028380000000003),\n",
              " Data(x=[25, 30], edge_index=[2, 52], edge_attr=[52, 11], smiles='CC(C)OC1=CC=CC(C(C)NC(=O)CN2C=CC(=O)N(C)C2=O)=C1', y=1.2115999999999998),\n",
              " Data(x=[32, 30], edge_index=[2, 70], edge_attr=[70, 11], smiles='CC1=CC=C(S(=O)(=O)N2CCN(C3=CC(OC4=CC=C(F)C(F)=C4)=NC=N3)CC2C)C=C1', y=3.754920000000003),\n",
              " Data(x=[28, 30], edge_index=[2, 62], edge_attr=[62, 11], smiles='CC1=C(CC(=O)N2CC3(C)CC2CC(C)(C)C3)C(=O)OC2=CC(O)=CC(O)=C12', y=3.4823200000000027),\n",
              " Data(x=[25, 30], edge_index=[2, 54], edge_attr=[54, 11], smiles='O=C(O)C1=CC=C(C(=O)N2CCC(C(O)C3=CC=C(Cl)C=C3)CC2)S1', y=3.685500000000003),\n",
              " Data(x=[18, 30], edge_index=[2, 40], edge_attr=[40, 11], smiles='O=C1C2=CC=NC=C2N=CN1CCOCC1CC1', y=1.2181),\n",
              " Data(x=[25, 30], edge_index=[2, 54], edge_attr=[54, 11], smiles='COC1=CC=C(NC(=O)CN2C(=O)NC(C)(C3CC3)C2=O)C=C1OC', y=1.3627999999999993),\n",
              " Data(x=[22, 30], edge_index=[2, 50], edge_attr=[50, 11], smiles='CC1=CC(C2CCCCN2CC2=NC3=CC=CC=C3[NH]2)=NO1', y=3.586520000000002),\n",
              " Data(x=[30, 30], edge_index=[2, 64], edge_attr=[64, 11], smiles='CC1=CC=C(C)C(N(CC(=O)NCC2=CC=CC3=CC=CC=C23)S(=O)(=O)N(C)C)=C1', y=3.3858400000000017),\n",
              " Data(x=[27, 30], edge_index=[2, 60], edge_attr=[60, 11], smiles='COC1=CC=CC(OCC2=NC3=CC=CC=C3N2CC2=CC=C(F)C=C2)=C1', y=4.811300000000004),\n",
              " Data(x=[25, 30], edge_index=[2, 56], edge_attr=[56, 11], smiles='N#CC1(N2CCC3(CC2)OCCO3)CC[NH+](CC2=CC=CC=C2)CC1', y=0.9665800000000007),\n",
              " Data(x=[23, 30], edge_index=[2, 52], edge_attr=[52, 11], smiles='OC1=CC=C(C2=NN3C(=NN=C3C3CCCCC3)SC2)C=C1O', y=3.0951000000000026),\n",
              " Data(x=[25, 30], edge_index=[2, 54], edge_attr=[54, 11], smiles='CCS(=O)(=O)C1=CC=C(CC(=O)NC2=NN=C(C3=CC=CS3)O2)C=C1', y=2.772900000000001),\n",
              " Data(x=[23, 30], edge_index=[2, 54], edge_attr=[54, 11], smiles='CCOC1=CC=C(N2C(=O)C3C4C=CC(C5CC45)C3C2=O)C=C1', y=2.642800000000001),\n",
              " Data(x=[26, 30], edge_index=[2, 58], edge_attr=[58, 11], smiles='CC1=NN2C(=C1C1=CC=C(F)C=C1)N=NC1=C2C=CN(NC(N)=S)C1=O', y=1.3408199999999995),\n",
              " Data(x=[28, 30], edge_index=[2, 62], edge_attr=[62, 11], smiles='CCCN1C(C[NH+]2CCC(C)CC2)=NC2=CC(NC(=O)C3=CC=CO3)=CC=C21', y=3.1064000000000007),\n",
              " Data(x=[34, 30], edge_index=[2, 72], edge_attr=[72, 11], smiles='COC1=CC=C(CNC(=O)C(C)OC(=O)C2CCN(S(=O)(=O)C3=CC=C(C)C=C3C)CC2)C=C1', y=2.96084),\n",
              " Data(x=[18, 30], edge_index=[2, 38], edge_attr=[38, 11], smiles='CNC(=O)C1CC2=CC(OC)=C(OC)C=C2C[NH2+]1', y=-0.5620999999999994),\n",
              " Data(x=[19, 30], edge_index=[2, 42], edge_attr=[42, 11], smiles='COC1=CC=CC(N2C(=O)C3CCCCC3C2=O)=C1', y=2.3748000000000005),\n",
              " Data(x=[12, 30], edge_index=[2, 24], edge_attr=[24, 11], smiles='O=C1[NH]C(C(F)F)=C(I)C(=O)[NH]1', y=0.6053999999999999),\n",
              " Data(x=[32, 30], edge_index=[2, 68], edge_attr=[68, 11], smiles='CCOC(=O)CNC(=O)C1=C(C)C2=C(N=CN(CC(=O)NC3=CC=CC=C3OC)C2=O)S1', y=1.7066199999999996),\n",
              " Data(x=[33, 30], edge_index=[2, 72], edge_attr=[72, 11], smiles='CCC1=CC=C(NS(=O)(=O)C2=CC(C3=NN(C4=C(C)ON=C4C)C(=O)C=C3)=CC=C2C)C=C1', y=4.1759600000000034),\n",
              " Data(x=[17, 30], edge_index=[2, 38], edge_attr=[38, 11], smiles='C[NH+]1CCCCC1C(=O)N1CC2CCCC2C1', y=0.31210000000000027),\n",
              " Data(x=[21, 30], edge_index=[2, 46], edge_attr=[46, 11], smiles='CCOCC1CN(CC(=O)N2CCCC2)CC2=CC=NN21', y=0.8986999999999998),\n",
              " Data(x=[20, 30], edge_index=[2, 44], edge_attr=[44, 11], smiles='CN(C)C(=O)N1CC2CN(C3=CC=CC=C3)C(=O)C2C1', y=1.2628),\n",
              " Data(x=[28, 30], edge_index=[2, 60], edge_attr=[60, 11], smiles='COC1=CC=CC=C1C=CCN1CCNC(=O)C1CC(=O)N1CCC(C)CC1', y=2.157399999999999),\n",
              " Data(x=[21, 30], edge_index=[2, 48], edge_attr=[48, 11], smiles='C[NH+]1CCCC(C(=O)C2=CC=C3CCC4=C3C2=CC=C4)C1', y=2.0458),\n",
              " Data(x=[27, 30], edge_index=[2, 60], edge_attr=[60, 11], smiles='O=C(NCC[NH+]1CCC(C2=CC=CC=C2)C1)C1=CC=C(N2C=NN=C2)N=C1', y=0.46450000000000036),\n",
              " Data(x=[31, 30], edge_index=[2, 70], edge_attr=[70, 11], smiles='COC1=CC=CC=C1C[NH+]1CCC2=C(C1)C(=O)[NH]C(C1CCN(C(=O)C3CC3C)C1)=N2', y=0.8916000000000011),\n",
              " Data(x=[25, 30], edge_index=[2, 54], edge_attr=[54, 11], smiles='CC1=CC=C(C)C(OC2=C(N)C=C(C#N)N2CC2=CC=C(F)C=C2)=C1', y=4.538520000000003),\n",
              " Data(x=[27, 30], edge_index=[2, 58], edge_attr=[58, 11], smiles='O=C(NCCN1C(=O)SC(=CC2=CC=C(Cl)C=C2Cl)C1=O)C1=COCCO1', y=3.0341000000000014),\n",
              " Data(x=[18, 30], edge_index=[2, 38], edge_attr=[38, 11], smiles='O=C(NC1(C(=O)O)CCCCC1)C1=CC=CC=C1', y=2.2039),\n",
              " Data(x=[29, 30], edge_index=[2, 62], edge_attr=[62, 11], smiles='CN(C)S(=O)(=O)C1=CC=C2C(=C1)CCN2S(=O)(=O)C1=CC=C(C=CC(=O)O)C=C1', y=1.7861),\n",
              " Data(x=[16, 30], edge_index=[2, 32], edge_attr=[32, 11], smiles='COC1=CC=CC(C=CC(=O)N(C)OC)=C1', y=1.7282),\n",
              " Data(x=[31, 30], edge_index=[2, 66], edge_attr=[66, 11], smiles='CC(NS(=O)(=O)C1=CC=C(Cl)C=C1)C(=O)NC1=CC=C(Cl)C=C1C(=O)C1=CC=CC=C1', y=4.529900000000003),\n",
              " Data(x=[28, 30], edge_index=[2, 60], edge_attr=[60, 11], smiles='COC1=CC=C(C=C2SC(=NN=CC3=CC=CC([N+](=O)[O-])=C3)NC2=O)C=C1Br', y=3.959900000000002),\n",
              " Data(x=[29, 30], edge_index=[2, 66], edge_attr=[66, 11], smiles='O=C(CCN1C(=O)C2=CC=CC3=CC=CC(=C23)C1=O)NC1=CC=C2OCOC2=C1', y=3.1933000000000016),\n",
              " Data(x=[18, 30], edge_index=[2, 36], edge_attr=[36, 11], smiles='COC1=CC=C(CS(=O)(=O)CCCC#N)C=C1F', y=2.05288),\n",
              " Data(x=[21, 30], edge_index=[2, 44], edge_attr=[44, 11], smiles='CC(CN1CCOCC1)OC(=O)C1=CN=C(C(C)(C)C)S1', y=2.3180999999999994),\n",
              " Data(x=[26, 30], edge_index=[2, 56], edge_attr=[56, 11], smiles='COC1=CC=C(C)C=C1S(=O)(=O)C1CS(=O)(=O)CC1NCC1CCCO1', y=0.7115199999999999),\n",
              " Data(x=[30, 30], edge_index=[2, 64], edge_attr=[64, 11], smiles='CCOC1=CC=C(NS(=O)(=O)C2=CC(NC(=O)C3=C(C)ON=C3C)=CC=C2Cl)C=C1', y=4.396640000000003),\n",
              " Data(x=[26, 30], edge_index=[2, 58], edge_attr=[58, 11], smiles='O=C(CN1C=NC2=C(SN=C2C2=CC=CC=C2)C1=O)NC1CCCCC1', y=2.9689000000000014),\n",
              " Data(x=[20, 30], edge_index=[2, 42], edge_attr=[42, 11], smiles='CCC(CN1C=CN=C1)NC(=O)C1=CC(=O)C=C(C)O1', y=1.35332),\n",
              " Data(x=[16, 30], edge_index=[2, 36], edge_attr=[36, 11], smiles='CC1=CC=C(C2(C3=CC=CC=C3)CO2)C=C1', y=3.2688200000000016),\n",
              " Data(x=[18, 30], edge_index=[2, 38], edge_attr=[38, 11], smiles='CC(=O)C1=CC(C(=O)O)=CC=C1OC1CCCC1', y=2.908800000000001),\n",
              " Data(x=[23, 30], edge_index=[2, 48], edge_attr=[48, 11], smiles='CC1=C(C)C(=O)N(CC(O)COC2=CC=CC=C2C(C)C)C=N1', y=2.423440000000001),\n",
              " Data(x=[16, 30], edge_index=[2, 34], edge_attr=[34, 11], smiles='O=C1NCCOC2=C1C=C(Br)C=C2S(=O)O', y=1.1519000000000004),\n",
              " Data(x=[17, 30], edge_index=[2, 36], edge_attr=[36, 11], smiles='CCCC[NH2+]CC1=CC=C(C2=CC=CC=C2)O1', y=2.810100000000001),\n",
              " Data(x=[28, 30], edge_index=[2, 60], edge_attr=[60, 11], smiles='COC1=CC=CC(CNC(=O)C2=CSC(NC(=O)C3=CC=C(Cl)C(Cl)=C3)=N2)=C1', y=4.640800000000003),\n",
              " Data(x=[27, 30], edge_index=[2, 58], edge_attr=[58, 11], smiles='COC1=CC=C(Br)C=C1C=NN=C1SC(C)C(=O)N1CC1=CC=C(F)C=C1', y=4.450800000000004),\n",
              " Data(x=[29, 30], edge_index=[2, 62], edge_attr=[62, 11], smiles='CN(CCCNC(=O)C1CC[NH+](CC2=CC=C(Cl)C(Cl)=C2)CC1)C1=CC=CC=C1', y=3.4310000000000027),\n",
              " Data(x=[24, 30], edge_index=[2, 52], edge_attr=[52, 11], smiles='CCC(CC)C1=CC=[N+](CC2=NC3=CC(Cl)=CC=C3C(=O)[NH]2)C=C1', y=3.8159000000000027),\n",
              " Data(x=[33, 30], edge_index=[2, 70], edge_attr=[70, 11], smiles='COC1=CC=C([N+](=O)[O-])C=C1NC(=O)CN(C1=CC=CC(C)=C1)S(=O)(=O)C1=CC=C(Cl)C=C1', y=4.399220000000003),\n",
              " Data(x=[17, 30], edge_index=[2, 36], edge_attr=[36, 11], smiles='COC1=CC=NC(NC(=O)C2CCC(C)O2)=C1', y=1.5961999999999996),\n",
              " Data(x=[25, 30], edge_index=[2, 54], edge_attr=[54, 11], smiles='CC1=C(CC(=O)NC(C2=CC=C(F)C=C2F)C2CC(O)C2)C(=O)[NH][NH]1', y=1.4605199999999998),\n",
              " Data(x=[35, 30], edge_index=[2, 74], edge_attr=[74, 11], smiles='CCC(C)(C(=O)NC1CCCCC1)N(C(=O)CNC(C)=O)C1=C(C)N(C)N(C2=CC=CC=C2)C1=O', y=2.5711199999999996),\n",
              " Data(x=[24, 30], edge_index=[2, 50], edge_attr=[50, 11], smiles='N#CC1=C(F)C=CC=C1NCC1=CC=C(C(=O)NCC(N)=O)C=C1', y=1.52458),\n",
              " Data(x=[25, 30], edge_index=[2, 56], edge_attr=[56, 11], smiles='CC1=CC(C(=O)OC2C3CCCOC3C2(C)C)=C2C(C)=NN(C)C2=N1', y=2.945540000000001),\n",
              " Data(x=[31, 30], edge_index=[2, 68], edge_attr=[68, 11], smiles='CC1=CC=C(C2=CC(C(=O)N3CCCCC3C(=O)NCC3=CC=CN=C3)=NO2)C=C1C', y=3.6645400000000015),\n",
              " Data(x=[23, 30], edge_index=[2, 50], edge_attr=[50, 11], smiles='CC1=CC(=O)OC2=CC(OCC[NH+]3CCCCC3CO)=CC=C12', y=0.9099200000000001),\n",
              " Data(x=[20, 30], edge_index=[2, 44], edge_attr=[44, 11], smiles='CCC1CN2CCC1CC2CNS(=O)(=O)C1=CC=CS1', y=2.1468),\n",
              " Data(x=[33, 30], edge_index=[2, 74], edge_attr=[74, 11], smiles='CC12CCC(=NOCC(=O)NCC3=CC=CC=N3)C=C1CCC1C2CCC2(C)C(O)CCC12', y=4.394100000000004),\n",
              " Data(x=[24, 30], edge_index=[2, 54], edge_attr=[54, 11], smiles='CCOC1=CC=C(C2NC(=O)C3=C(N2)SC2=C3CC[NH+](C)C2)C=C1', y=1.5716999999999997),\n",
              " Data(x=[29, 30], edge_index=[2, 62], edge_attr=[62, 11], smiles='COC1=CC(C=NNC(=N)C2NC3CCCCC3N(O)C2N)=CC([N+](=O)[O-])=C1O', y=0.46877000000000063),\n",
              " Data(x=[21, 30], edge_index=[2, 46], edge_attr=[46, 11], smiles='COC1=CC=CC(C2C(C(C)=O)C(C)=NC3=NC=NN32)=C1', y=2.1872999999999996),\n",
              " Data(x=[21, 30], edge_index=[2, 44], edge_attr=[44, 11], smiles='CC(C)CSC1=NN=C(NC(=O)COC2=CC=CC=C2)S1', y=3.303700000000002),\n",
              " Data(x=[24, 30], edge_index=[2, 50], edge_attr=[50, 11], smiles='CCNC1=NC(NCC)=NC(N(C#N)CCOC2=CC=CC=C2)=N1', y=2.10168),\n",
              " Data(x=[11, 30], edge_index=[2, 22], edge_attr=[22, 11], smiles='COC1=CC=C(C=O)C(Br)=N1', y=1.6652),\n",
              " Data(x=[28, 30], edge_index=[2, 60], edge_attr=[60, 11], smiles='CCOC(=O)C1=C(C)[NH]C(C(=O)C(C)N2CCN(CC3=CSC=C3)CC2)=C1C', y=3.258740000000002),\n",
              " Data(x=[24, 30], edge_index=[2, 50], edge_attr=[50, 11], smiles='C=CCN(CC=C)S(=O)(=O)C1=CC(C)=C2C(=C1)C(C)(C)C(=O)N2C', y=2.611720000000001),\n",
              " Data(x=[21, 30], edge_index=[2, 46], edge_attr=[46, 11], smiles='CC[NH+]1CCCC2(CCC(=O)N(CCC3=CN=C[NH]3)C2)C1', y=0.25960000000000144),\n",
              " Data(x=[21, 30], edge_index=[2, 44], edge_attr=[44, 11], smiles='COC1=CC=C(CCNC(=O)C=CC2=CC=C(Br)O2)C=C1', y=3.4228000000000014),\n",
              " Data(x=[19, 30], edge_index=[2, 42], edge_attr=[42, 11], smiles='COC1=CC=C(N2C(=O)CSC3=CC=CC=C32)C=C1', y=3.465600000000002),\n",
              " Data(x=[35, 30], edge_index=[2, 76], edge_attr=[76, 11], smiles='CC1=CC=C(C2=NN(CC(=O)N(C3=CC=CC=C3)C(C(=O)NC(C)(C)C)C3=CC=CS3)N=N2)C=C1', y=4.399220000000003),\n",
              " Data(x=[32, 30], edge_index=[2, 72], edge_attr=[72, 11], smiles='COC1=CC=C2C=C(C3=N[NH]C=C3C[NH+]3CCCC(C(=O)C4=CC=CN=C4)C3)C=CC2=C1', y=3.311300000000002),\n",
              " Data(x=[27, 30], edge_index=[2, 58], edge_attr=[58, 11], smiles='CCOC(=O)C1=C(NC(C)=O)SC2=C1CCC(SC1=CC=CC=C1)C2=NO', y=4.168600000000002),\n",
              " Data(x=[27, 30], edge_index=[2, 62], edge_attr=[62, 11], smiles='C[NH+]1CCC2=C([NH]C3=CC=CC=C23)C12CCN(C(=O)C1=CC=CN=C1)CC2', y=1.7651999999999994),\n",
              " Data(x=[28, 30], edge_index=[2, 64], edge_attr=[64, 11], smiles='CC1=CC2=C(C(=O)N3CCCC4(C3)C(=O)N(C)C3=CC=CC=C34)[NH]N=C2C=C1', y=3.021720000000001),\n",
              " Data(x=[25, 30], edge_index=[2, 52], edge_attr=[52, 11], smiles='COC1=CC=C(Cl)C=C1C(=O)NCCCC1=CC=C(OC(C)C)C=C1', y=4.498400000000004),\n",
              " Data(x=[20, 30], edge_index=[2, 42], edge_attr=[42, 11], smiles='CCC1=CC=CC(OC2CN(C(=O)C(N)C(C)O)C2)=C1', y=0.5467000000000002),\n",
              " Data(x=[26, 30], edge_index=[2, 56], edge_attr=[56, 11], smiles='CCC(C)NC(=O)C1CCCN(C(=O)C2=CC(C3=CC=CC=N3)=N[NH]2)C1', y=2.2386),\n",
              " Data(x=[32, 30], edge_index=[2, 68], edge_attr=[68, 11], smiles='FC(F)OC1=CC=C(NC(=S)N2CCN(C(=S)NC3=CC=C(OC(F)F)C=C3)CC2)C=C1', y=4.600800000000002),\n",
              " Data(x=[27, 30], edge_index=[2, 60], edge_attr=[60, 11], smiles='CC(OC1=CC=CC=C1)C(=O)NCC1=NN(C2CCCC2)C2=C1COCC2', y=3.154600000000002),\n",
              " Data(x=[27, 30], edge_index=[2, 58], edge_attr=[58, 11], smiles='CN(CC#N)CN1C(=O)NC(CC2=CC=CC=C2)(CC2=CC=CC=C2)C1=O', y=2.17528),\n",
              " Data(x=[30, 30], edge_index=[2, 66], edge_attr=[66, 11], smiles='CN(C)CCN1C(=O)C(O)=C(C(=O)C2=CC3=CC=CC=C3O2)C1C1=CC=CC=C1F', y=3.711800000000001),\n",
              " Data(x=[26, 30], edge_index=[2, 58], edge_attr=[58, 11], smiles='CC1=NN(CC2=N[NH]C(C(=O)NCC3=NC4=CC=CC=C4O3)=C2)C(C)=C1', y=2.3425399999999996),\n",
              " Data(x=[27, 30], edge_index=[2, 60], edge_attr=[60, 11], smiles='CCC1=NC2=CC=CC=C2C(=O)N1CC(=O)NCC1=CC=C2OCOC2=C1', y=2.0039999999999996),\n",
              " Data(x=[16, 30], edge_index=[2, 34], edge_attr=[34, 11], smiles='CC[NH+]1CCN(C2=CC=CC=C2OC)CC1', y=0.4200000000000004),\n",
              " Data(x=[24, 30], edge_index=[2, 50], edge_attr=[50, 11], smiles='COC1=CC=CC(C(O)CNC(=O)C2CCCCC2C(F)(F)F)=C1', y=3.2135000000000016),\n",
              " Data(x=[30, 30], edge_index=[2, 66], edge_attr=[66, 11], smiles='CC1=CC=C(C)C(C2=CSC(NC(=O)C3=CC=C(S(=O)(=O)N(C)C4CC4)C=C3)=N2)=C1', y=4.462140000000003),\n",
              " Data(x=[23, 30], edge_index=[2, 50], edge_attr=[50, 11], smiles='COC1=CC=C(C=NN2C(C3=CC=C(C)C=C3)=N[NH]C2=S)C=C1', y=3.806910000000002),\n",
              " Data(x=[19, 30], edge_index=[2, 42], edge_attr=[42, 11], smiles='CC1=NC(CC(=O)NC2COC3(CCCC3)C2)=CS1', y=2.211919999999999),\n",
              " Data(x=[20, 30], edge_index=[2, 40], edge_attr=[40, 11], smiles='CCC(C)C(=O)C(C#N)C(=O)NCCC1=CC=CC=C1', y=2.1002799999999997),\n",
              " Data(x=[30, 30], edge_index=[2, 66], edge_attr=[66, 11], smiles='O=C(CN1C(=O)N(CC2=CC=CC=N2)C(=O)C2=NC=CC=C21)NC1=CC=C(Cl)C=C1', y=2.2935999999999988),\n",
              " Data(x=[23, 30], edge_index=[2, 48], edge_attr=[48, 11], smiles='COC1=CC(OC)=C(C=NOCC2=CC=CC=C2C#N)C=C1Br', y=3.8886800000000035),\n",
              " Data(x=[29, 30], edge_index=[2, 64], edge_attr=[64, 11], smiles='COC1=CC=C(C(=O)C2=C(NC(=O)C3=C(C)N=NS3)C3=CC=CC=C3O2)C=C1Br', y=4.847120000000002),\n",
              " Data(x=[25, 30], edge_index=[2, 54], edge_attr=[54, 11], smiles='CCOC1CC(NC(=O)C2=CN=CC3=CC=CC=C23)(C(=O)O)C1(C)C', y=2.623000000000001),\n",
              " Data(x=[27, 30], edge_index=[2, 58], edge_attr=[58, 11], smiles='CN(C)C(C(=O)NCC1=CC=C(N2CCCC2=O)C=C1)C1=CC=CC=C1F', y=2.871600000000001),\n",
              " Data(x=[28, 30], edge_index=[2, 62], edge_attr=[62, 11], smiles='O=C1C2=CC=CC=C2C(C2=CC=C(F)C=C2)=NN1C1=CC(Cl)=CC=C1[N+](=O)[O-]', y=4.753400000000003),\n",
              " Data(x=[23, 30], edge_index=[2, 50], edge_attr=[50, 11], smiles='CCOC1=CC=C2C=C(CNC3=CC=C(C)C=C3)C(=O)[NH]C2=C1', y=3.8473200000000016),\n",
              " Data(x=[22, 30], edge_index=[2, 50], edge_attr=[50, 11], smiles='O=C1NN=C(C2=CC=CC=C2)CC1C1=C[NH]C2=CC=CC=C12', y=3.175700000000001),\n",
              " Data(x=[24, 30], edge_index=[2, 52], edge_attr=[52, 11], smiles='CCCC1=NC(C2CN(C(=O)CCCN3C=CC=N3)CCO2)=N[NH]1', y=1.3339999999999999),\n",
              " Data(x=[22, 30], edge_index=[2, 48], edge_attr=[48, 11], smiles='CC1=CC=CC(NCC2CC[NH+](CCN3CCCC3=O)C2)=[NH+]1', y=-0.2517799999999974),\n",
              " Data(x=[16, 30], edge_index=[2, 32], edge_attr=[32, 11], smiles='COC(=O)C(C)CN(C(=O)N(C)C)C1CC1', y=0.9414999999999996),\n",
              " Data(x=[28, 30], edge_index=[2, 60], edge_attr=[60, 11], smiles='CC1=CC=C2C(=C1)OC(C)(C)CC2NC(=S)NC1=CC=C(C(=O)N(C)C)C=C1', y=4.285620000000002),\n",
              " Data(x=[25, 30], edge_index=[2, 56], edge_attr=[56, 11], smiles='CC1=NC2=CC=C(NC(=O)CN3N=NN(C4=CC=CS4)C3=O)C=C2S1', y=2.0473199999999996),\n",
              " Data(x=[28, 30], edge_index=[2, 60], edge_attr=[60, 11], smiles='O=C(O)CN1C(=O)NC(=CC2=CC(Br)=CC=C2OCC2=CC=CC=C2Cl)C1=O', y=3.658800000000002),\n",
              " Data(x=[27, 30], edge_index=[2, 60], edge_attr=[60, 11], smiles='COC1=CC=CC(C2=CC=C(C(=O)N3CCNCC3C(=O)NC3CC3)O2)=C1', y=1.647799999999999),\n",
              " Data(x=[18, 30], edge_index=[2, 38], edge_attr=[38, 11], smiles='[NH3+]CCC1=N[NH]C(=O)N1CC1=CC=C(Cl)C=C1Cl', y=0.7109000000000005),\n",
              " Data(x=[20, 30], edge_index=[2, 44], edge_attr=[44, 11], smiles='CC1=CC=C(Cl)C(NC2=CC(Cl)=NC(CC3CC3)=N2)=C1', y=4.787920000000002),\n",
              " Data(x=[24, 30], edge_index=[2, 52], edge_attr=[52, 11], smiles='CN(C)C1=NC(CCC2CCN(C(=O)C3=CC=NC=C3)CC2)=NO1', y=2.0156),\n",
              " Data(x=[28, 30], edge_index=[2, 58], edge_attr=[58, 11], smiles='CC1=CC=C(Cl)C=C1N(C(C)C(=O)NC1=CC=CC=C1C(F)(F)F)S(C)(=O)=O', y=4.460420000000003),\n",
              " Data(x=[27, 30], edge_index=[2, 60], edge_attr=[60, 11], smiles='CC1CC(C)C[NH+](CC2=NC(C3=CC=CN=C3OC3CCCCC3)=NO2)C1', y=2.903900000000001),\n",
              " Data(x=[26, 30], edge_index=[2, 56], edge_attr=[56, 11], smiles='CC(=O)N1CC(C)SC2=CC=C(S(=O)(=O)NC3=CC=C(Br)C=C3F)C=C21', y=4.236100000000003),\n",
              " Data(x=[15, 30], edge_index=[2, 32], edge_attr=[32, 11], smiles='O=C(O)C[NH+]1CCC(O)C(CC2CC2)C1', y=-0.8631999999999995),\n",
              " Data(x=[28, 30], edge_index=[2, 60], edge_attr=[60, 11], smiles='O=C(NCC1CCN(C2=CC=C(F)C(F)=C2)C1)C1CCN(CC(F)(F)F)CC1', y=3.1816000000000013),\n",
              " Data(x=[20, 30], edge_index=[2, 42], edge_attr=[42, 11], smiles='CC([NH2+]CC1=NC(N(C)C)=NO1)C(C)C1=CC=CC=C1', y=1.3911999999999995),\n",
              " Data(x=[31, 30], edge_index=[2, 72], edge_attr=[72, 11], smiles='CC1=CC(C)=C2NC(=O)C3(C2=C1)C1C(=O)N(C2=CC=CC=C2Cl)C(=O)C1C1CCC[NH+]13', y=1.9709399999999997),\n",
              " Data(x=[24, 30], edge_index=[2, 52], edge_attr=[52, 11], smiles='COC1=CC=C(C2=CC=CC(C(=O)NCC3CCOC3)=C2)C=C1F', y=3.2676000000000016),\n",
              " Data(x=[26, 30], edge_index=[2, 58], edge_attr=[58, 11], smiles='CC1=NN2C(C)=CC(C(=O)NCC3=NC(CC4=CC=CS4)=NO3)=NC2=C1', y=2.31144),\n",
              " Data(x=[26, 30], edge_index=[2, 58], edge_attr=[58, 11], smiles='COC1=CC=C2NC(=N[NH+]=C3CSC4=CC(OC)=CC=C4N3)CSC2=C1', y=2.2318),\n",
              " Data(x=[18, 30], edge_index=[2, 40], edge_attr=[40, 11], smiles='OCCC1CN(CC2CC2)CC[NH+]1C1CCCC1', y=0.2905000000000013),\n",
              " Data(x=[26, 30], edge_index=[2, 56], edge_attr=[56, 11], smiles='O=C(C1=CC=C(O)C(Cl)=C1)N1CCN(S(=O)(=O)N2CCCCCC2)CC1', y=1.9242000000000001),\n",
              " Data(x=[20, 30], edge_index=[2, 40], edge_attr=[40, 11], smiles='CC1=CC=CC=C1CNC(=O)NCCC(=O)OC(C)C', y=2.1359199999999996),\n",
              " Data(x=[26, 30], edge_index=[2, 56], edge_attr=[56, 11], smiles='COC1=CC=CC(C=C2CN(C)CC(=CC3=CC=CC(OC)=C3)C2=O)=C1', y=3.6853000000000025),\n",
              " Data(x=[24, 30], edge_index=[2, 52], edge_attr=[52, 11], smiles='NS(=O)(=O)N1CCC(C(=O)OCC2=C(Cl)C3=CC=CC=C3S2)CC1', y=2.5134000000000016),\n",
              " Data(x=[30, 30], edge_index=[2, 66], edge_attr=[66, 11], smiles='O=C(COC1=CC=C(F)C(Cl)=C1)N1CCC2=CC(S(=O)(=O)N3CCCCC3)=CC=C21', y=3.621800000000002),\n",
              " Data(x=[25, 30], edge_index=[2, 54], edge_attr=[54, 11], smiles='CCN(CC)C(=O)COC1=CC=C2C3=C(CCCC3)C(=O)OC2=C1C', y=3.227420000000002),\n",
              " Data(x=[24, 30], edge_index=[2, 52], edge_attr=[52, 11], smiles='CC1=C(C(=O)N2C=C(C(=O)O)C3=CC=CC=C32)C=CC=C1[N+](=O)[O-]', y=3.244620000000001),\n",
              " Data(x=[22, 30], edge_index=[2, 46], edge_attr=[46, 11], smiles='CCC(NC(=O)CN1CCC[NH+](C)CC1)C1=CC(C)=CC=N1', y=0.17772000000000254),\n",
              " Data(x=[20, 30], edge_index=[2, 42], edge_attr=[42, 11], smiles='NC(=O)C1CCN(CC(=O)NCC2=CC=C(Cl)S2)CC1', y=1.215),\n",
              " Data(x=[23, 30], edge_index=[2, 50], edge_attr=[50, 11], smiles='CC1=CC=C(SCCNC(=S)NC2=CC=C3OCOC3=C2)C=C1', y=3.8024200000000024),\n",
              " Data(x=[20, 30], edge_index=[2, 42], edge_attr=[42, 11], smiles='CCCC1C[NH+](CCCOC)CC1NC(=O)C1CCC1', y=0.6226000000000014),\n",
              " Data(x=[27, 30], edge_index=[2, 58], edge_attr=[58, 11], smiles='CN(C1=CC=CC=C1)S(=O)(=O)C1=CC=CC(C(=O)NC2=CC=CC=C2Cl)=C1', y=4.417400000000003),\n",
              " Data(x=[24, 30], edge_index=[2, 54], edge_attr=[54, 11], smiles='O=C(NC1=NC(C2=CC=C3OCCOC3=C2)=CS1)C1CC(O)C[NH2+]1', y=0.21639999999999987),\n",
              " Data(x=[30, 30], edge_index=[2, 66], edge_attr=[66, 11], smiles='CCN1CCN(S(=O)(=O)C2=CC=C(NC(=O)C3CC4=CC(Cl)=CC=C4O3)C=C2)CC1', y=2.6084000000000005),\n",
              " Data(x=[19, 30], edge_index=[2, 40], edge_attr=[40, 11], smiles='CC1CC1C(=O)NCC1=CC=C(OC(F)(F)F)C=C1', y=2.857400000000001),\n",
              " Data(x=[32, 30], edge_index=[2, 70], edge_attr=[70, 11], smiles='COC(=O)C1=CC=C(N2CCOCC2)C(NC(=O)C2=C(Cl)C3=CC=CC([N+](=O)[O-])=C3S2)=C1', y=4.338400000000004),\n",
              " Data(x=[16, 30], edge_index=[2, 34], edge_attr=[34, 11], smiles='O=C(NCCC1=CSC=C1)C(=O)NC1CC1', y=0.6853999999999996),\n",
              " Data(x=[23, 30], edge_index=[2, 50], edge_attr=[50, 11], smiles='O=C(C1CCC[NH+]1CC(O)C1=CC=CC(F)=C1)N1CCSCC1', y=0.4818),\n",
              " Data(x=[22, 30], edge_index=[2, 48], edge_attr=[48, 11], smiles='O=C(OCC1=CC2=CC=CC=C2N=C1Cl)C1(O)CCCCC1', y=3.6266000000000016),\n",
              " Data(x=[15, 30], edge_index=[2, 30], edge_attr=[30, 11], smiles='CCOC(=O)CC(C(C)C)[NH+]1CCCC1', y=0.6429),\n",
              " Data(x=[34, 30], edge_index=[2, 74], edge_attr=[74, 11], smiles='CN1C(=O)C(C(=O)CSC2=NC3=CC=CC=C3N2CCC#N)=C(N)N(CC2=CC=CC=C2)C1=O', y=2.4158800000000005),\n",
              " Data(x=[21, 30], edge_index=[2, 46], edge_attr=[46, 11], smiles='FC(F)(F)C1=CC=NC(NC2CCC3(CC2)OCCO3)=N1', y=2.593),\n",
              " Data(x=[27, 30], edge_index=[2, 60], edge_attr=[60, 11], smiles='CC1=NOC(C2=CC=C(S(=O)(=O)N3CCN(C(=O)C4=CC=CO4)CC3)S2)=C1', y=2.451220000000001),\n",
              " Data(x=[23, 30], edge_index=[2, 50], edge_attr=[50, 11], smiles='CCC(=O)N=C1SC2CS(=O)(=O)CC2N1C1=CC(C)=CC=C1C', y=2.3148400000000002),\n",
              " Data(x=[27, 30], edge_index=[2, 62], edge_attr=[62, 11], smiles='CC1=NN(C2=NC3=CC=CC=C3O2)C2=C1C(C1=CC=CC(Cl)=C1)CC(=O)N2', y=4.4494200000000035),\n",
              " Data(x=[23, 30], edge_index=[2, 50], edge_attr=[50, 11], smiles='CN(C)S(=O)(=O)C1=CC=C(C(=O)NC2=NC3=C(CCC3)S2)C=C1', y=2.1344000000000003),\n",
              " Data(x=[22, 30], edge_index=[2, 48], edge_attr=[48, 11], smiles='COC1=CC=CC=C1N1N=NC(C(=O)N2CCOCC2)=C1N', y=0.3304999999999999),\n",
              " Data(x=[32, 30], edge_index=[2, 72], edge_attr=[72, 11], smiles='COC1=CC=C(C)C=C1NC(=O)C1=CN(C2=CC=C(C3=NOC(C4CC4)=N3)C=C2)N=C1C', y=4.677440000000003),\n",
              " Data(x=[27, 30], edge_index=[2, 60], edge_attr=[60, 11], smiles='NC(=O)CC1=NN(C2CCCCC2)C(C[NH+]2CCC(C3=CC=CC=C3)C2)=N1', y=1.3835000000000002),\n",
              " Data(x=[25, 30], edge_index=[2, 54], edge_attr=[54, 11], smiles='O=C(CC1=C(C2=CC=CC=C2)CCC1=O)NCC1=CC=C(C(=O)O)O1', y=2.8008000000000006),\n",
              " Data(x=[26, 30], edge_index=[2, 58], edge_attr=[58, 11], smiles='CSC1=NC(C2=CC=CC(C)=C2)=NC2=C1CC1=C(CO)C=NC(C)=C1O2', y=4.066140000000003),\n",
              " Data(x=[28, 30], edge_index=[2, 60], edge_attr=[60, 11], smiles='COC1=CC=C(CC2=NN=C(SCC(=O)NC3=CC(Cl)=CC=C3C)N2C)C=C1', y=4.107120000000003),\n",
              " Data(x=[15, 30], edge_index=[2, 32], edge_attr=[32, 11], smiles='C=CC(=O)N1CC(C)OC2(CCOC2)C1', y=0.5788),\n",
              " Data(x=[26, 30], edge_index=[2, 54], edge_attr=[54, 11], smiles='COC1=CC=C(Cl)C=C1NC(=O)C(=O)NCC1=CC=C(S(N)(=O)=O)C=C1', y=1.2509),\n",
              " Data(x=[23, 30], edge_index=[2, 48], edge_attr=[48, 11], smiles='CC1=C(C(=O)O)SC(NC(=O)CN(C)C(C)C2=CC=NC=N2)=N1', y=1.5712199999999998),\n",
              " Data(x=[16, 30], edge_index=[2, 34], edge_attr=[34, 11], smiles='OCC1(CC2=CC=CC(Cl)=C2)CCC[NH2+]C1', y=1.2183999999999997),\n",
              " Data(x=[20, 30], edge_index=[2, 42], edge_attr=[42, 11], smiles='NC1=CC(C(F)(F)F)=CC=C1OCCC1=CC=CC=C1', y=3.9091000000000022),\n",
              " Data(x=[23, 30], edge_index=[2, 50], edge_attr=[50, 11], smiles='CC([NH2+]CCCC1=CN(C)N=C1)C1=CC=C2OCCCOC2=C1', y=1.8385999999999998),\n",
              " Data(x=[17, 30], edge_index=[2, 36], edge_attr=[36, 11], smiles='CC1=NOC(CN2CCN(S(N)(=O)=O)CC2)=C1', y=-0.6958799999999989),\n",
              " Data(x=[16, 30], edge_index=[2, 34], edge_attr=[34, 11], smiles='CC(C)(C)C(=O)N1CCC2=CC=CC=C2C1', y=2.617400000000001),\n",
              " Data(x=[31, 30], edge_index=[2, 70], edge_attr=[70, 11], smiles='O=C1NC(CC2=CN=C[NH]2)C(=O)N2CCN(CC3=CN(C4=CC=CC=C4Cl)N=C3)CC12', y=1.0027000000000001),\n",
              " Data(x=[19, 30], edge_index=[2, 42], edge_attr=[42, 11], smiles='CC1=C(CNC(C)C2=CC=C3OCOC3=C2)C=NO1', y=2.562520000000001),\n",
              " Data(x=[13, 30], edge_index=[2, 26], edge_attr=[26, 11], smiles='CC1=CC(SC(F)(F)F)=CC=C1O', y=3.3125200000000015),\n",
              " Data(x=[33, 30], edge_index=[2, 74], edge_attr=[74, 11], smiles='CC1=CC(=O)N2N=C(CN3CCN(S(=O)(=O)C4=CC=C(C5CCCCC5)C=C4)CC3)SC2=N1', y=3.0136200000000013),\n",
              " Data(x=[28, 30], edge_index=[2, 60], edge_attr=[60, 11], smiles='O=C(CCNC(=O)C1=CC=C(Cl)C=C1)NC1=CC=CC=C1OC1=CC=CC=C1', y=4.890900000000004),\n",
              " Data(x=[24, 30], edge_index=[2, 50], edge_attr=[50, 11], smiles='COC(=O)CC(NS(=O)(=O)C1=CC(NC(C)=O)=CC=C1C)C1CC1', y=1.5734199999999992),\n",
              " Data(x=[20, 30], edge_index=[2, 44], edge_attr=[44, 11], smiles='COC1=CC=C(C)C=C1C1=CSC(C2=CN=CC=N2)=N1', y=3.584120000000003),\n",
              " Data(x=[23, 30], edge_index=[2, 50], edge_attr=[50, 11], smiles='CN(C(=O)C1CC(=O)N(C)C1C1=CC=CC(Cl)=C1)C1CC[NH2+]C1', y=0.6534999999999996),\n",
              " Data(x=[23, 30], edge_index=[2, 50], edge_attr=[50, 11], smiles='O=[N+]([O-])C1=CC=C(C2=NOC(COC3=CC=CC=C3Cl)=N2)C=C1', y=3.877200000000002),\n",
              " Data(x=[21, 30], edge_index=[2, 44], edge_attr=[44, 11], smiles='COC1=CC(C)=C(Cl)C=C1S(=O)(=O)NCC1=CC=CC=N1', y=2.530520000000001),\n",
              " Data(x=[25, 30], edge_index=[2, 56], edge_attr=[56, 11], smiles='FC1=CC=C(C2=NC(CN3CCCC3C3=CC=CC(F)=C3)=CO2)C=C1', y=4.9569000000000045),\n",
              " Data(x=[28, 30], edge_index=[2, 60], edge_attr=[60, 11], smiles='COC1=CC=C(C(NC(=O)C(C)C2=CC=CC=C2)C2=NC=CN2C)C=C1OC', y=3.446600000000002),\n",
              " Data(x=[25, 30], edge_index=[2, 54], edge_attr=[54, 11], smiles='ClC1=CC=C(COC2=CC=CC=C2C[NH2+]CC2CC[NH2+]CC2)C(Cl)=C1', y=2.6092000000000004),\n",
              " Data(x=[27, 30], edge_index=[2, 58], edge_attr=[58, 11], smiles='O=C(CCN1C(=O)SC(=CC2=CC=C(F)C=C2)C1=O)NC1=CC=C(O)C=C1', y=3.596400000000002),\n",
              " Data(x=[30, 30], edge_index=[2, 66], edge_attr=[66, 11], smiles='CCC(=O)N1CCCC1C1CCC[NH+]1CC1=NN=C(C2=CC=CC=C2C(F)(F)F)O1', y=2.703700000000002),\n",
              " Data(x=[32, 30], edge_index=[2, 70], edge_attr=[70, 11], smiles='COC1CCC(C(=O)NC(CC2=CC(=O)[NH]C(C3=CC=CN=C3)=N2)C2=CC=CC=C2)CC1', y=3.437100000000002),\n",
              " Data(x=[17, 30], edge_index=[2, 36], edge_attr=[36, 11], smiles='CC[NH+]1CCCC1C1=CC=C(OC)C=C1OC', y=1.4434999999999996),\n",
              " Data(x=[20, 30], edge_index=[2, 42], edge_attr=[42, 11], smiles='CC(C)(C)OC(=O)CC1(C)CCC2C1C(=O)OC2(C)C', y=3.086100000000002),\n",
              " Data(x=[25, 30], edge_index=[2, 52], edge_attr=[52, 11], smiles='COC(=O)C1=CC=C(NC(=S)NC(=O)C2=CC=CC=C2[N+](=O)[O-])C=C1', y=2.5082000000000004),\n",
              " Data(x=[28, 30], edge_index=[2, 64], edge_attr=[64, 11], smiles='O=C(CN1C2=CC=CC3=CC=CC(=C23)S1(=O)=O)NC1CCOC2=CC=CC=C21', y=2.988500000000001),\n",
              " Data(x=[22, 30], edge_index=[2, 48], edge_attr=[48, 11], smiles='CC1=NN(CC(=O)N2C(C(=O)O)CC3CCCCC32)C(C)=C1', y=1.744239999999999),\n",
              " Data(x=[24, 30], edge_index=[2, 52], edge_attr=[52, 11], smiles='CC1=CC(=O)C(C(=O)N2CCOC(C)C2)=NN1C1=CC=CC=C1Cl', y=2.0552199999999994),\n",
              " Data(x=[34, 30], edge_index=[2, 76], edge_attr=[76, 11], smiles='COC1=CC=CC=C1N1C(=O)C2=C(SC3=C2CCN(C(C)=O)C3)N(CC2=CC=C(C)C=C2)C1=O', y=3.4838200000000024),\n",
              " Data(x=[19, 30], edge_index=[2, 40], edge_attr=[40, 11], smiles='COCCN1C=NN=C1CNC(=O)C1=C(C)N=N[NH]1', y=-0.71898),\n",
              " Data(x=[31, 30], edge_index=[2, 68], edge_attr=[68, 11], smiles='COC1=CC=C(C2C(C(=O)C3=CC=C(F)C=C3)=C(O)C(=O)N2C2=NN=CS2)C=C1OC', y=3.4773000000000014),\n",
              " Data(x=[23, 30], edge_index=[2, 50], edge_attr=[50, 11], smiles='CC1=NOC(C)=C1CC(=O)NC1CCCCC1CC1=CC=CO1', y=3.344640000000002),\n",
              " Data(x=[28, 30], edge_index=[2, 60], edge_attr=[60, 11], smiles='COC1=CC(C[NH2+]CC2CCCO2)=CC=C1OCC(=O)NC1=CC=C(C)C=C1', y=2.2635199999999998),\n",
              " Data(x=[16, 30], edge_index=[2, 34], edge_attr=[34, 11], smiles='CCOCC1C[N+](=C(N)N)CC12CCCC2', y=0.499000000000001),\n",
              " Data(x=[32, 30], edge_index=[2, 70], edge_attr=[70, 11], smiles='CCOC(=O)C1C(CN2CCC3=CC=CC=C32)=NC(=O)NC1C1=CC=CC=C1OC(F)F', y=3.7353000000000023),\n",
              " Data(x=[30, 30], edge_index=[2, 66], edge_attr=[66, 11], smiles='COC1=CC=C(N2CC(C(=O)N3CCCCC3C3=CC=CN=C3)CC2=O)C(OC)=C1', y=3.2055000000000016),\n",
              " Data(x=[19, 30], edge_index=[2, 40], edge_attr=[40, 11], smiles='NC(=O)C1=CC=CC(COC2=CC(Cl)=CC(Cl)=C2)=C1', y=3.6713000000000013),\n",
              " Data(x=[28, 30], edge_index=[2, 62], edge_attr=[62, 11], smiles='CC1=CC=C(NC2=NC(C3CCCN3C(=O)C=CC3=CSC(C)=N3)=CS2)N=C1', y=4.731940000000004),\n",
              " Data(x=[20, 30], edge_index=[2, 42], edge_attr=[42, 11], smiles='CC1=CC(C)=C(S(=O)(=O)NCC2=CC=CC=N2)C=C1C', y=2.485360000000001),\n",
              " Data(x=[24, 30], edge_index=[2, 52], edge_attr=[52, 11], smiles='COC1=CC=CC(C2=C(C(=O)NCC3=CC=CC=C3Cl)SN=N2)=C1', y=3.797100000000002),\n",
              " Data(x=[16, 30], edge_index=[2, 32], edge_attr=[32, 11], smiles='CCNC1=NC=C(C[NH2+]C(C)C(=O)O)C=N1', y=-0.555099999999999),\n",
              " Data(x=[21, 30], edge_index=[2, 44], edge_attr=[44, 11], smiles='CCOC1=CC=C(CN(C)CC2(O)CCC[NH+](C)C2)C=C1', y=0.5567000000000011),\n",
              " Data(x=[21, 30], edge_index=[2, 48], edge_attr=[48, 11], smiles='CC1=CC=C(Cl)C=C1N1C(=O)C2C3C=CC(C)(O3)C2C1=O', y=2.48132),\n",
              " Data(x=[27, 30], edge_index=[2, 56], edge_attr=[56, 11], smiles='COC1=CC=CC=C1NC(=O)C(C)NC1=CC=C(C)C(S(=O)(=O)N(C)C)=C1', y=2.6930200000000006),\n",
              " Data(x=[22, 30], edge_index=[2, 46], edge_attr=[46, 11], smiles='CCC(NS(=O)(=O)C1=CC=C(C)C=C1F)C1=NC=NN1CC', y=2.1751199999999997),\n",
              " Data(x=[22, 30], edge_index=[2, 46], edge_attr=[46, 11], smiles='CCC1CCCC(NC(=O)N(C)CC2=NC=CN2C(F)F)C1', y=3.3884000000000025),\n",
              " Data(x=[28, 30], edge_index=[2, 60], edge_attr=[60, 11], smiles='CC(=O)NC1(C)CC(C2=CC(C)=C(O)C(C(=O)O)=C2)OC2C(O)C(C)=CCC21', y=2.4507200000000005),\n",
              " Data(x=[21, 30], edge_index=[2, 44], edge_attr=[44, 11], smiles='CC(C(=O)O)C(=O)NC1CCCN(C2=CC=CC=C2F)C1', y=1.6313999999999995),\n",
              " Data(x=[28, 30], edge_index=[2, 58], edge_attr=[58, 11], smiles='CNS(=O)(=O)CC1=CC=CC=C1CNC(=O)NC(CC(C)C)C1=CC=CC=C1', y=3.322400000000002),\n",
              " Data(x=[31, 30], edge_index=[2, 68], edge_attr=[68, 11], smiles='COC1=CC=C(C2=NN(C3=CC=CC=C3)C=C2C=C2C(=O)N(C)C(=O)N(C)C2=O)C=C1', y=2.981700000000001),\n",
              " Data(x=[22, 30], edge_index=[2, 46], edge_attr=[46, 11], smiles='CCCCC1=NC(C)=C(C(=O)NC2(C(=O)O)CCCCC2)S1', y=3.311420000000002),\n",
              " Data(x=[31, 30], edge_index=[2, 68], edge_attr=[68, 11], smiles='COC1=CC=C(NC(=O)CN2N=CN3N=C(C4=CC=C(Br)C=C4)C=C3C2=O)C(OC)=C1', y=2.976400000000001),\n",
              " Data(x=[22, 30], edge_index=[2, 46], edge_attr=[46, 11], smiles='CC(NC(=O)CCC1=NC(C(C)(C)C)=NO1)C1=CC=CC=N1', y=2.5721000000000007),\n",
              " Data(x=[20, 30], edge_index=[2, 42], edge_attr=[42, 11], smiles='O=C(O)CNC(=O)C1(C2=CC=CC(F)=C2)CCOCC1', y=1.0747),\n",
              " Data(x=[15, 30], edge_index=[2, 30], edge_attr=[30, 11], smiles='NC1=CC(OC(F)F)=CC(C(F)(F)F)=C1', y=2.889000000000001),\n",
              " Data(x=[25, 30], edge_index=[2, 54], edge_attr=[54, 11], smiles='CC(C(=O)N(C)CC1CC[NH+](CC2=CC=CC=C2)CC1)[NH+]1CCCC1', y=0.007100000000004103),\n",
              " Data(x=[28, 30], edge_index=[2, 64], edge_attr=[64, 11], smiles='COC1=CC=CC(C2C3=C(NC4=C2C(=O)[NH]C(N)=N4)C2=CC=CC=C2C3=O)=C1', y=2.5257000000000005),\n",
              " Data(x=[28, 30], edge_index=[2, 60], edge_attr=[60, 11], smiles='CSC1=CC=CC(NC(=O)NCCNC2=CC(N3CCOCC3)=[NH+]C(C)=N2)=C1', y=1.9962199999999997),\n",
              " Data(x=[16, 30], edge_index=[2, 34], edge_attr=[34, 11], smiles='O=C(C[NH+]1CCCC1)NC1=CC=C(F)C=C1', y=0.44289999999999946),\n",
              " Data(x=[22, 30], edge_index=[2, 46], edge_attr=[46, 11], smiles='CNC(=O)CC1CN(C(=O)C2=CC=C(C)[NH]C2=O)CC1OC', y=-0.09357999999999977),\n",
              " Data(x=[20, 30], edge_index=[2, 44], edge_attr=[44, 11], smiles='FC1=CC=C2N=C(CNCC[NH+]3CCCC3)C=CC2=C1', y=1.1421999999999999),\n",
              " Data(x=[25, 30], edge_index=[2, 56], edge_attr=[56, 11], smiles='CC1=C(C(=O)CSC2=CC=C3OCCCOC3=C2)C2=CC=CC=C2[NH]1', y=4.612620000000004),\n",
              " Data(x=[22, 30], edge_index=[2, 46], edge_attr=[46, 11], smiles='CC1=CC=C(CNS(=O)(=O)C2=CC=C(CC(C)C)C=C2)C=C1', y=3.6720200000000025),\n",
              " Data(x=[22, 30], edge_index=[2, 48], edge_attr=[48, 11], smiles='COC1=CC=CC(CN2CC(C3=NC(C)=NO3)CCC2=O)=C1', y=2.29282),\n",
              " Data(x=[23, 30], edge_index=[2, 50], edge_attr=[50, 11], smiles='COC1CCCC(OC(=O)C2=CC=C(N3C=NC=N3)C=C2C)C1', y=2.690120000000001),\n",
              " Data(x=[28, 30], edge_index=[2, 60], edge_attr=[60, 11], smiles='CCCCNC(=S)N(CC1=CC=CC=C1)CC1=CC2=CC=C(C)C=C2[NH]C1=O', y=4.513320000000003),\n",
              " Data(x=[33, 30], edge_index=[2, 72], edge_attr=[72, 11], smiles='CC1=CC=C(S(=O)(=O)N(C)C2=CC=CC=C2C(=O)N2CC[NH+](CC3=CC=CC=C3)CC2)C=C1', y=2.36102),\n",
              " Data(x=[25, 30], edge_index=[2, 54], edge_attr=[54, 11], smiles='CC1=CC=CC=C1CNS(=O)(=O)C1=CC=C(N2CCCCC2=O)C=C1', y=2.990420000000001),\n",
              " Data(x=[18, 30], edge_index=[2, 36], edge_attr=[36, 11], smiles='CC1=CC(Br)=C(NC(=O)OCC(F)(F)F)C(Br)=C1', y=4.630820000000001),\n",
              " Data(x=[24, 30], edge_index=[2, 52], edge_attr=[52, 11], smiles='N#CC1=CC=C(C[NH2+]CC(O)COC2=CC=C3OCOC3=C2)C=C1', y=0.7902799999999991),\n",
              " Data(x=[21, 30], edge_index=[2, 46], edge_attr=[46, 11], smiles='O=C(NCC1CCC[NH+](CC2=C[NH]C=N2)C1)C1=CC=CO1', y=0.2276000000000009),\n",
              " Data(x=[18, 30], edge_index=[2, 38], edge_attr=[38, 11], smiles='CCCCOCC(=O)N1CCCC2(CC[NH2+]C2)C1', y=0.37900000000000145),\n",
              " Data(x=[24, 30], edge_index=[2, 54], edge_attr=[54, 11], smiles='C1=CN=C(NCCC2CN3N=CC=C3C[NH+](C3CCCC3)C2)N=C1', y=1.1326000000000003),\n",
              " Data(x=[18, 30], edge_index=[2, 40], edge_attr=[40, 11], smiles='BrC1=CC=CC=C1C1=NOC(C2CC[NH2+]CC2)=N1', y=1.9399),\n",
              " Data(x=[25, 30], edge_index=[2, 56], edge_attr=[56, 11], smiles='O=C(CC1=NOC2=CC=CC=C12)NC1=CC=C(N2C=CN=C2)C(Cl)=C1', y=3.8481000000000014),\n",
              " Data(x=[27, 30], edge_index=[2, 58], edge_attr=[58, 11], smiles='COC1=CC(OC)=CC(C(=O)NCC2CCC[NH+](CC3=CN(C)N=C3)C2)=C1', y=0.6622000000000015),\n",
              " Data(x=[33, 30], edge_index=[2, 70], edge_attr=[70, 11], smiles='CC(=O)NC1=CC=C(NC(=O)COC(=O)C2CC(=O)N(NC(=O)C3=CC=C(C)C=C3)C2)C=C1', y=1.628619999999999),\n",
              " Data(x=[25, 30], edge_index=[2, 56], edge_attr=[56, 11], smiles='OC(CSC1=NN=C(NC2CCCCC2)S1)C1=CC=C2OCOC2=C1', y=3.837100000000002),\n",
              " Data(x=[27, 30], edge_index=[2, 60], edge_attr=[60, 11], smiles='CC1=CC=CC=C1C[NH+]1CCCC(C2=NN(C)C(=O)N2C2=CC=CC=C2)C1', y=1.841919999999999),\n",
              " Data(x=[25, 30], edge_index=[2, 54], edge_attr=[54, 11], smiles='N#CC1=CC=CN=C1SCC(=O)NC1=CC=CC=C1C1=CC=CC=C1', y=4.351080000000003),\n",
              " Data(x=[30, 30], edge_index=[2, 64], edge_attr=[64, 11], smiles='CCOC1=CC=C(NC2=NC(N)=C([N+](=O)[O-])C(NC3=CC=C(OCC)C=C3)=N2)C=C1', y=4.251600000000002),\n",
              " Data(x=[28, 30], edge_index=[2, 64], edge_attr=[64, 11], smiles='O=C1N(CC2CCC2)CCCC12CC[NH+](CC1=CC(C3=CC=CC=C3)=NO1)C2', y=2.5391000000000004),\n",
              " Data(x=[23, 30], edge_index=[2, 50], edge_attr=[50, 11], smiles='CC1=C(C(=O)O)C=C(CN(C)C(=O)C2CC3=CC=CC=C3O2)O1', y=2.2483200000000005),\n",
              " Data(x=[31, 30], edge_index=[2, 68], edge_attr=[68, 11], smiles='O=C1CCC2=CC(NC(=O)C3=CC=CC(=O)N3CCOC3=CC=CC=C3Cl)=CC=C2N1', y=3.7177000000000024),\n",
              " Data(x=[23, 30], edge_index=[2, 48], edge_attr=[48, 11], smiles='COC1=NC(N2CCC(NS(=O)(=O)N(C)C)C(O)C2)=NC=C1F', y=-1.040099999999998),\n",
              " Data(x=[24, 30], edge_index=[2, 52], edge_attr=[52, 11], smiles='CC(C1=CC=C(F)C=C1)N(C)C(=O)CC1=CSC(C2=CSC=C2)=N1', y=4.772800000000004),\n",
              " Data(x=[30, 30], edge_index=[2, 66], edge_attr=[66, 11], smiles='CC1=CC=C(C2=NOC(C3=C(N)N(CC(=O)NC4=CC=C(C)C(Cl)=C4)N=N3)=N2)C=C1', y=3.4862400000000013),\n",
              " Data(x=[16, 30], edge_index=[2, 32], edge_attr=[32, 11], smiles='CCNC(=O)NCC(C)(C)N1CCOCC1', y=0.41630000000000034),\n",
              " Data(x=[19, 30], edge_index=[2, 40], edge_attr=[40, 11], smiles='COC(=O)C1=N[NH]C(C2=CC=C(OC)C(Br)=C2)=C1Br', y=3.3969000000000014),\n",
              " Data(x=[24, 30], edge_index=[2, 50], edge_attr=[50, 11], smiles='CN1C=C(C(C)(O)CNC(=O)C=CC2=CC=C([N+](=O)[O-])C=C2)C=N1', y=1.3653999999999997),\n",
              " Data(x=[35, 30], edge_index=[2, 78], edge_attr=[78, 11], smiles='COC1=CC=C(C2=NC3=CC=CC=C3O2)C=C1NC(=O)C1=CC([N+](=O)[O-])=CC=C1N1CCOCC1', y=4.500500000000004),\n",
              " Data(x=[23, 30], edge_index=[2, 48], edge_attr=[48, 11], smiles='CC1=CC=C(SCCNC(=O)COC2=CC(C)=CC=C2C)C=C1', y=3.899160000000003),\n",
              " Data(x=[24, 30], edge_index=[2, 52], edge_attr=[52, 11], smiles='CC(C)CC(NC(=O)C1CC(=O)N(C)C1)C1=NC2=CC=CC=C2[NH]1', y=2.2445999999999997),\n",
              " Data(x=[29, 30], edge_index=[2, 62], edge_attr=[62, 11], smiles='C=CC[NH+](CC1=CC=C(F)C=C1)CC(O)(CN1C=NC=N1)C1=CC=C(F)C=C1F', y=1.854299999999999),\n",
              " Data(x=[26, 30], edge_index=[2, 56], edge_attr=[56, 11], smiles='COC1=CC=C(C=C2OC3=CC(OCC(C)=O)=CC=C3C2=O)C=C1OC', y=3.2878000000000025),\n",
              " Data(x=[34, 30], edge_index=[2, 72], edge_attr=[72, 11], smiles='CC(C(=O)NCC1CCCO1)N(CC1=CC=CC=C1)C(=O)CN(CC1=CC=CC=C1)S(C)(=O)=O', y=2.1606999999999994),\n",
              " Data(x=[28, 30], edge_index=[2, 64], edge_attr=[64, 11], smiles='O=C(C1=CC(C2=CC=CS2)=N[NH]1)N1CCN(CC2=NC3=CC=CC=C3[NH]2)CC1', y=2.972500000000001),\n",
              " Data(x=[26, 30], edge_index=[2, 56], edge_attr=[56, 11], smiles='CN(CC1=CC=CC=C1F)C(=O)COC(=O)C1=CC=C2CCCCC2=C1', y=3.5199000000000025),\n",
              " Data(x=[22, 30], edge_index=[2, 48], edge_attr=[48, 11], smiles='CC1=NC(NCC2CCS(=O)(=O)CC2)=CC(C2CC([NH3+])C2)=N1', y=0.5096200000000002),\n",
              " Data(x=[26, 30], edge_index=[2, 56], edge_attr=[56, 11], smiles='CCC(C)C(NC(=O)N1CCC(C2=NC3=CC=CC=C3S2)CC1)C(=O)O', y=3.6846000000000023),\n",
              " Data(x=[24, 30], edge_index=[2, 50], edge_attr=[50, 11], smiles='CC1=CC(=O)[NH]C(NCCNC(=O)NCC2=NOC(C(C)C)=N2)=N1', y=0.4960200000000001),\n",
              " Data(x=[30, 30], edge_index=[2, 66], edge_attr=[66, 11], smiles='CC1=CC=C(CNC(=O)CCCN2C(=O)CSC3=C2C(C)=NN3C2=CC=CC=C2)O1', y=3.617440000000003),\n",
              " Data(x=[16, 30], edge_index=[2, 34], edge_attr=[34, 11], smiles='[NH3+]CC(C1=CC=CS1)S(=O)(=O)C1=CC=CS1', y=1.5665000000000002),\n",
              " Data(x=[24, 30], edge_index=[2, 52], edge_attr=[52, 11], smiles='O=C(NC1C[NH+](CC2=CC=CC=C2)CCC1CO)C1=COCCC1', y=0.2628000000000006),\n",
              " Data(x=[22, 30], edge_index=[2, 46], edge_attr=[46, 11], smiles='CNC(=O)C1=CC=C(CN(CCOC)CC2=CC=CO2)C=C1', y=2.2878000000000007),\n",
              " Data(x=[22, 30], edge_index=[2, 48], edge_attr=[48, 11], smiles='CN1C=CC(C(=O)NC2=NC(C3=CC=CC=N3)=N[NH]2)=CC1=O', y=0.8176999999999999),\n",
              " Data(x=[21, 30], edge_index=[2, 48], edge_attr=[48, 11], smiles='CC1=NOC(C23COCC2C[NH+](CC2=CSC(C)=N2)C3)=N1', y=0.12584000000000017),\n",
              " Data(x=[33, 30], edge_index=[2, 74], edge_attr=[74, 11], smiles='CC1=CC(CC2=CC=CC=C2F)=CC(C2CN(C(=O)CN3C=NC4=CC=CC=C43)CCO2)=N1', y=4.069720000000003),\n",
              " Data(x=[21, 30], edge_index=[2, 44], edge_attr=[44, 11], smiles='COC1=CC=C(CCNC(=S)NC2=CC=CC(Br)=C2)C=C1', y=3.9868000000000023),\n",
              " Data(x=[28, 30], edge_index=[2, 60], edge_attr=[60, 11], smiles='CC1=CC=C(C(=O)N(CC(=O)NC2CCCC2)C2=CC=CC(C(F)(F)F)=C2)S1', y=4.780920000000004),\n",
              " Data(x=[28, 30], edge_index=[2, 62], edge_attr=[62, 11], smiles='O=C(NCC1=CC=C(N2CCCCC2)C=C1)C1CCCN(C2=NC=CC=N2)C1', y=2.9997000000000016),\n",
              " Data(x=[26, 30], edge_index=[2, 54], edge_attr=[54, 11], smiles='COC1=CC=C(OC)C(C(C)NC(=O)C(C)NC(=O)C2CCCCC2)=C1', y=2.966000000000001),\n",
              " Data(x=[25, 30], edge_index=[2, 54], edge_attr=[54, 11], smiles='CC(=O)N1CCC(C(=O)N2CCCC(CCC3=CC=CC=C3)C2)CC1', y=3.1163000000000016),\n",
              " Data(x=[19, 30], edge_index=[2, 44], edge_attr=[44, 11], smiles='C1CCC2C(C1)CCC[NH+]2CC1=NC(C2CC2)=NO1', y=1.6844999999999999),\n",
              " Data(x=[21, 30], edge_index=[2, 46], edge_attr=[46, 11], smiles='CCNC(=O)N1CCCC1C1=NC2=CC=CC=C2N1CC', y=2.922600000000002),\n",
              " Data(x=[30, 30], edge_index=[2, 66], edge_attr=[66, 11], smiles='COC1=CC=CC=C1CC1=CN=C(C2CCC[NH+](CC3=CC=C(C(=O)O)C=C3)C2)O1', y=2.9347000000000003),\n",
              " Data(x=[25, 30], edge_index=[2, 54], edge_attr=[54, 11], smiles='COC1=CC=C(C2=CC(=NCC(=O)O)C3=CC(C)=CC(C)=C3O2)C=C1', y=3.7105400000000017),\n",
              " Data(x=[28, 30], edge_index=[2, 60], edge_attr=[60, 11], smiles='CC1=CC=C(NS(=O)(=O)C2=CC=C(C(=O)NC3=NC=CC=C3O)C=C2)C=C1C', y=3.4571400000000017),\n",
              " Data(x=[25, 30], edge_index=[2, 54], edge_attr=[54, 11], smiles='CN1CC[NH+](CC2CCN(C3=NC=C(C(F)(F)F)C=C3Cl)CC2)CC1', y=1.8004999999999995),\n",
              " Data(x=[35, 30], edge_index=[2, 72], edge_attr=[72, 11], smiles='CCC(C(=O)NCC(C)C)N(CC1=CC=CC(OC)=C1)C(=O)COC1=CC=C([N+](=O)[O-])C(OC)=C1', y=3.570400000000002),\n",
              " Data(x=[20, 30], edge_index=[2, 42], edge_attr=[42, 11], smiles='CCOC(=O)C1=C(C)NC(NC#N)=NC1C1=CC=CO1', y=1.18768),\n",
              " Data(x=[30, 30], edge_index=[2, 62], edge_attr=[62, 11], smiles='CCC(C)C1=CC=C(C(NS(=O)(=O)C2=CC=C(OC)C(NC(C)=O)=C2)C(C)C)C=C1', y=4.842700000000004),\n",
              " Data(x=[24, 30], edge_index=[2, 54], edge_attr=[54, 11], smiles='O=C(NCCCC1=NN=C2C=CC=CN12)C1=C2CCCCC2=NO1', y=1.9586999999999999),\n",
              " Data(x=[24, 30], edge_index=[2, 54], edge_attr=[54, 11], smiles='CC1=CN(C)C(C2CCCN(C(=O)C3=C4C=CC=CC4=N[NH]3)C2)=N1', y=2.62462),\n",
              " Data(x=[24, 30], edge_index=[2, 56], edge_attr=[56, 11], smiles='O=C1C2=CC=CC=C2NC2(C(=O)NC3=CC(F)=CC=C32)N1C1CC1', y=2.6609000000000007),\n",
              " Data(x=[28, 30], edge_index=[2, 60], edge_attr=[60, 11], smiles='CCCCOC1=CC=C(C=C2C=C(C3=CC(OC)=CC=C3OC)OC2=O)C=C1', y=4.864000000000005),\n",
              " Data(x=[25, 30], edge_index=[2, 54], edge_attr=[54, 11], smiles='CC1=CC=C(N2CC(C(=O)NC(C)C3=CC=CC=C3)CC2=O)C=C1C', y=3.5337400000000025),\n",
              " Data(x=[21, 30], edge_index=[2, 44], edge_attr=[44, 11], smiles='CC(C(=O)NCC1=N[NH]C(C(C)(C)C)=C1)N1CCCC1=O', y=1.3342999999999992),\n",
              " Data(x=[30, 30], edge_index=[2, 64], edge_attr=[64, 11], smiles='COC1=CC=C2C(COC(=O)C3=CC=C(CCNS(C)(=O)=O)C=C3)=CC(=O)OC2=C1', y=2.2503),\n",
              " Data(x=[32, 30], edge_index=[2, 72], edge_attr=[72, 11], smiles='COC1=CC2=C(C=C1NC(=O)CSCC1=NN=NN1C1=CC=CC=C1)OC1=CC=CC=C12', y=4.442200000000003),\n",
              " Data(x=[33, 30], edge_index=[2, 72], edge_attr=[72, 11], smiles='CCOC1=CC2=C(C=C1NC(=O)CSC1=NN=C(COC3=CC=C(F)C=C3)N1N)OC(C)C2', y=3.1629000000000005),\n",
              " Data(x=[26, 30], edge_index=[2, 56], edge_attr=[56, 11], smiles='COCC1(C(=O)O)C(C2=CC=C(Cl)C=C2)C1S(=O)(=O)C1=CC=C(Cl)C=C1', y=3.650500000000002),\n",
              " Data(x=[29, 30], edge_index=[2, 62], edge_attr=[62, 11], smiles='CCOC(=O)C1=C(C)N=C(NC(=O)CSC2=NC3=CC(C)=CC=C3C=C2CC)S1', y=4.778040000000003),\n",
              " Data(x=[35, 30], edge_index=[2, 76], edge_attr=[76, 11], smiles='O=C(CN(C1=CC=CC([N+](=O)[O-])=C1)S(=O)(=O)C1=CC=CC=C1)NC1=CC=C(N2CCOCC2)C=C1', y=3.2654000000000023),\n",
              " Data(x=[26, 30], edge_index=[2, 56], edge_attr=[56, 11], smiles='COC1=CC=CC=C1NC(=O)CSCC1=CC(=O)C2=CC(F)=CC=C2[NH]1', y=3.5477000000000016),\n",
              " Data(x=[23, 30], edge_index=[2, 50], edge_attr=[50, 11], smiles='CC(C)NC(=O)C(C1=CC=CC=C1)N1CCC[NH+]2CCCC2C1', y=1.0053000000000007),\n",
              " Data(x=[28, 30], edge_index=[2, 64], edge_attr=[64, 11], smiles='O=C(NC1CCCC2=C1[NH]C1=CC=CC=C21)C1=CC=C(CN2C=NN=N2)C=C1', y=3.0101000000000013),\n",
              " Data(x=[25, 30], edge_index=[2, 54], edge_attr=[54, 11], smiles='CN(CCOC1=CC=CC=C1F)CC1=CC(=O)N2C=C(Cl)C=CC2=N1', y=2.9978000000000016),\n",
              " Data(x=[26, 30], edge_index=[2, 58], edge_attr=[58, 11], smiles='CN1CC2(CCN(C(=O)C3=CC=C(C4=CC(N)=NC=N4)C=C3)C2)OC1=O', y=1.3924999999999996),\n",
              " Data(x=[25, 30], edge_index=[2, 52], edge_attr=[52, 11], smiles='CCC(COC)NC(=O)C1=C(C2=CC=C(C(C)(C)C)C=C2)ON=C1C', y=4.102320000000003),\n",
              " Data(x=[26, 30], edge_index=[2, 56], edge_attr=[56, 11], smiles='CC(C)C([NH2+]CC(=O)N(C)CC1=CC=CO1)C1=CC=C2OCCOC2=C1', y=1.9698999999999993),\n",
              " Data(x=[26, 30], edge_index=[2, 56], edge_attr=[56, 11], smiles='C=C(C)CN1C(CCCNC(=O)CC2=CC=CC=C2)=NC2=CC=CC=C21', y=3.903900000000003),\n",
              " Data(x=[34, 30], edge_index=[2, 74], edge_attr=[74, 11], smiles='O=C1NCCCC1NC(=O)C1CN(C(=O)N2CCOCC2)CCN1S(=O)(=O)C1=CC=C(F)C=C1', y=-0.6523999999999945),\n",
              " Data(x=[22, 30], edge_index=[2, 46], edge_attr=[46, 11], smiles='CCC(OC1=CC=CC=C1)C(=O)NC1=CC=C(CC#N)C=C1', y=3.5487800000000016),\n",
              " Data(x=[28, 30], edge_index=[2, 64], edge_attr=[64, 11], smiles='O=C(C[NH+]1CCC2=CC=CC=C2C1)N1CCCC1C1=CC=C2OCCOC2=C1', y=1.7624999999999995),\n",
              " Data(x=[24, 30], edge_index=[2, 52], edge_attr=[52, 11], smiles='CC[NH+]1CCCC1CNC(=O)CCNC1=NC(Cl)=NC2=C1[NH]C=N2', y=-0.008299999999998975),\n",
              " Data(x=[26, 30], edge_index=[2, 58], edge_attr=[58, 11], smiles='CN(C)C(=O)N1CC(NC(=O)C2=C[NH]N=C2N2C=NN=N2)C(C2CC2)C1', y=-0.4927999999999986),\n",
              " Data(x=[34, 30], edge_index=[2, 74], edge_attr=[74, 11], smiles='CCOC(=O)C1=C(C)N=C2SC(=CC3=CC=C(OC)C=C3OC)C(=O)N2C1C1=CC=C(Cl)C=C1', y=3.4689000000000023),\n",
              " Data(x=[17, 30], edge_index=[2, 36], edge_attr=[36, 11], smiles='CC(C)(C)OC(=O)N1CCCC2(CCOC2)C1', y=2.4240000000000004),\n",
              " Data(x=[27, 30], edge_index=[2, 60], edge_attr=[60, 11], smiles='NC(=O)C1=CC(C2=CSC(CC3=CN4C=C(Cl)C=C(Cl)C4=N3)=N2)=CC=C1O', y=4.159900000000002),\n",
              " Data(x=[32, 30], edge_index=[2, 72], edge_attr=[72, 11], smiles='CC1(C(=O)NCC2CCCO2)CN2C(=CC3=CC=CC=C32)C(=O)N1CC1=CC=CC(F)=C1', y=3.490300000000002),\n",
              " Data(x=[33, 30], edge_index=[2, 74], edge_attr=[74, 11], smiles='CC1CCN(C2=CC3=C(C=C2NC(=O)C2=CC=C4OCOC4=C2)N(C)C(=O)C(=O)N3C)CC1', y=2.4544999999999995),\n",
              " Data(x=[31, 30], edge_index=[2, 66], edge_attr=[66, 11], smiles='C=CCN1C(CC2=CC=C(OC)C=C2)=NN=C1SCC(=O)NC1=CC=CC=C1C(C)C', y=4.917700000000004),\n",
              " Data(x=[26, 30], edge_index=[2, 56], edge_attr=[56, 11], smiles='COC1=CC=C(N2C(=O)[NH]C(C(=O)O)=C(C[NH+]3CCCC3)C2=O)C=C1Cl', y=0.06470000000000042),\n",
              " Data(x=[25, 30], edge_index=[2, 56], edge_attr=[56, 11], smiles='CCCC1=NN=C(N2CC3C[NH+](C4CCOCC4)CC3(C(=O)O)C2)S1', y=0.07530000000000275),\n",
              " Data(x=[20, 30], edge_index=[2, 46], edge_attr=[46, 11], smiles='CC1=CC2=CC(NC3=NC=NC4=C3C=CS4)=CC=C2[NH]1', y=4.224620000000002),\n",
              " Data(x=[19, 30], edge_index=[2, 38], edge_attr=[38, 11], smiles='CCCCC[NH2+]CC1=CC(OC)=C(OC)C(OC)=C1', y=1.9659999999999995),\n",
              " Data(x=[31, 30], edge_index=[2, 70], edge_attr=[70, 11], smiles='CCCC12CC(OC1=O)C1C(CC=C3CC4(CCC31C)OCCO4)C2(O)C=COCC', y=3.879100000000003),\n",
              " Data(x=[21, 30], edge_index=[2, 44], edge_attr=[44, 11], smiles='CC(C)SC1=CC=CC(Cl)=C1CN(C)CC1=NC=NN1C', y=3.6010000000000018),\n",
              " Data(x=[25, 30], edge_index=[2, 54], edge_attr=[54, 11], smiles='CCC1=CC2=CC=C(C)C(C)=C2N=C1SCC(=O)NCC1=CC=CO1', y=4.415540000000004),\n",
              " Data(x=[19, 30], edge_index=[2, 42], edge_attr=[42, 11], smiles='FC1=CC=CC=C1CN1C=C(Br)C(N2C=NN=N2)=N1', y=1.8087),\n",
              " Data(x=[22, 30], edge_index=[2, 48], edge_attr=[48, 11], smiles='C[NH+](CCC1=CC=NC=C1)CC1=CC=C(N2CCCC2)N=C1', y=1.3342000000000003),\n",
              " Data(x=[22, 30], edge_index=[2, 44], edge_attr=[44, 11], smiles='CCCCCOC1=CC(C)=C(Cl)C=C1S(=O)(=O)N(CC)CC', y=4.247920000000003),\n",
              " Data(x=[26, 30], edge_index=[2, 60], edge_attr=[60, 11], smiles='CN(CC1=NC2=CC=CC=C2[NH]1)C1=CC(C2CC([NH3+])C2)=NC(C2CC2)=N1', y=2.3545999999999996),\n",
              " Data(x=[31, 30], edge_index=[2, 68], edge_attr=[68, 11], smiles='O=C(CSC1=NN=C(C2=CC=C([N+](=O)[O-])C=C2)N1C1=CC=CC=C1)OC1CCCCC1', y=4.810500000000004),\n",
              " Data(x=[28, 30], edge_index=[2, 62], edge_attr=[62, 11], smiles='C=C(C)C1CC=C(C2OC34CCCCC3C(C#N)(C#N)C2(C#N)C(=N)O4)CC1', y=4.125310000000003),\n",
              " Data(x=[27, 30], edge_index=[2, 60], edge_attr=[60, 11], smiles='CC[NH+]1CCN(C2=CC=C(NC(=O)C3=CSC(C4=CC=CS4)=N3)C=C2)CC1', y=2.848700000000002),\n",
              " Data(x=[32, 30], edge_index=[2, 72], edge_attr=[72, 11], smiles='CN1C=CN=C1C(C1=CC=CC=C1)N1CC(=O)C(C2=NC(C3=CC=C(Cl)C=C3)=CS2)=C1N', y=4.498600000000003),\n",
              " Data(x=[30, 30], edge_index=[2, 64], edge_attr=[64, 11], smiles='C=CCNC1=CC(N2CCN(C(=O)C3=CC=C(C(C)C)C=C3)CC2)=CC=C1[N+](=O)[O-]', y=4.278500000000004),\n",
              " Data(x=[27, 30], edge_index=[2, 58], edge_attr=[58, 11], smiles='CC1=CC=C(C2C3=C([NH]C(=O)S3)SC(C(=O)O)C2(CC(=O)O)C(=O)O)C=C1', y=1.9813199999999997),\n",
              " Data(x=[25, 30], edge_index=[2, 56], edge_attr=[56, 11], smiles='COC1=CC=C(C2=CN3N=C(C4=CC=CC(OC)=C4)C=C3N=C2)C=C1', y=4.0805000000000025),\n",
              " Data(x=[23, 30], edge_index=[2, 50], edge_attr=[50, 11], smiles='CC1=CC(NC(=O)C(C)OC2=CC=C3C(=O)CCCC3=C2)=NO1', y=2.9080200000000014),\n",
              " Data(x=[26, 30], edge_index=[2, 56], edge_attr=[56, 11], smiles='COCC1CCCCN1S(=O)(=O)C1=CC=CC(C(=O)N2CC[NH2+]CC2)=C1', y=-0.10459999999999692),\n",
              " Data(x=[30, 30], edge_index=[2, 66], edge_attr=[66, 11], smiles='CC1=C(CN=NC2=NC(NC3=CC=C(F)C=C3)=NC(N(C)C)=N2)C2=CC=CC=C2[NH]1', y=4.893920000000003),\n",
              " Data(x=[26, 30], edge_index=[2, 58], edge_attr=[58, 11], smiles='CC1=CC=C(N2CC(C(=O)NC3=CC=C4CCCC4=C3)CC2=O)C=C1C', y=3.7837400000000025),\n",
              " Data(x=[25, 30], edge_index=[2, 52], edge_attr=[52, 11], smiles='COC1=CC=CC=C1CN(CC1=CC=CO1)CC(O)COC(C)(C)C', y=3.466400000000003),\n",
              " Data(x=[27, 30], edge_index=[2, 58], edge_attr=[58, 11], smiles='CCNC(=O)C(C)[NH+]1CCC2(CCC(=O)N(CC3=CN=C(C)C=N3)C2)CC1', y=0.09712000000000254),\n",
              " Data(x=[20, 30], edge_index=[2, 42], edge_attr=[42, 11], smiles='CC(C)CC(=O)NCC12CCCC=C1N(C)C(=O)CC2', y=2.4551000000000007),\n",
              " Data(x=[24, 30], edge_index=[2, 52], edge_attr=[52, 11], smiles='CC(NS(=O)(=O)C1=CC(Cl)=CC=C1Cl)C1=CC=C2OCCOC2=C1', y=3.804100000000002),\n",
              " Data(x=[31, 30], edge_index=[2, 68], edge_attr=[68, 11], smiles='CC(C)NC1=C2C(C(F)(F)F)=CC(C3CCN(C(=O)C4=CC=CC=N4)CC3)=NC2=N[NH]1', y=4.211800000000002),\n",
              " Data(x=[21, 30], edge_index=[2, 46], edge_attr=[46, 11], smiles='O=C(C[N+]1=CC=C(C2=CC=CS2)N=C1)C1=CC=C(Cl)C=C1', y=3.6339000000000024),\n",
              " Data(x=[25, 30], edge_index=[2, 54], edge_attr=[54, 11], smiles='CC1=CC=C(C(=O)N2CCN(C3=CC=C(C)C=C3C)C(=O)C2C)C=C1', y=3.4893600000000022),\n",
              " Data(x=[21, 30], edge_index=[2, 46], edge_attr=[46, 11], smiles='CCC1=CC=C(C(=O)N2CC[NH+](C3CCCC3O)CC2)S1', y=0.5645999999999995),\n",
              " Data(x=[26, 30], edge_index=[2, 54], edge_attr=[54, 11], smiles='CCC(NC(=O)CN(C)S(=O)(=O)C1=CC=CC=C1)C1=CC=C(OC)C=C1', y=2.5832000000000006),\n",
              " Data(x=[26, 30], edge_index=[2, 54], edge_attr=[54, 11], smiles='CC[NH+](CC)CC1=CC=C(CNC(=O)C2=CC=C(NC(C)=O)C=C2)C=C1', y=1.9996999999999996),\n",
              " Data(x=[31, 30], edge_index=[2, 68], edge_attr=[68, 11], smiles='COC1=CC=C(C(CNC(=O)C2=NOC(C3=CC=C(C)C=C3)=C2)[NH+]2CCCCC2)C=C1', y=3.198520000000002),\n",
              " Data(x=[30, 30], edge_index=[2, 66], edge_attr=[66, 11], smiles='O=C(NCCC1=CC=CS1)C1=CN(C2CCCC2)C=C(C(=O)N2CCCCC2)C1=O', y=3.6235000000000026),\n",
              " Data(x=[16, 30], edge_index=[2, 32], edge_attr=[32, 11], smiles='C=C(C)CNC(=S)NN1C(C)CCCC1C', y=2.2045000000000003),\n",
              " Data(x=[28, 30], edge_index=[2, 60], edge_attr=[60, 11], smiles='C=CCN1C(=O)C(O)=C(C(=O)C2=CC=CC=C2)C1C1=CC=C(OC)C=C1OC', y=3.4681000000000024),\n",
              " Data(x=[25, 30], edge_index=[2, 54], edge_attr=[54, 11], smiles='CC[NH+](CC)CCNC1=NC=NC2=C1C=NN2C1=CC=C(C)C(Cl)=C1', y=2.1139200000000002),\n",
              " Data(x=[25, 30], edge_index=[2, 52], edge_attr=[52, 11], smiles='CCOCCN(CC1=NN=NN1C1=CC=CC=C1)CC(C)C(=O)OC', y=1.3098999999999994),\n",
              " Data(x=[19, 30], edge_index=[2, 40], edge_attr=[40, 11], smiles='CCOC(=O)C1=C(NC2=CC=C(C)C(C)=C2)SN=N1', y=3.075240000000001),\n",
              " Data(x=[29, 30], edge_index=[2, 64], edge_attr=[64, 11], smiles='CC1=CC=C(C)C(S(=O)(=O)NC2=CC=C(Cl)C(C3=NN=C4CCCCCN43)=C2)=C1', y=4.7425400000000035),\n",
              " Data(x=[20, 30], edge_index=[2, 42], edge_attr=[42, 11], smiles='CN(C)C1=NC=CC=C1C(=O)NCC1=CC=CC(Br)=C1', y=2.8401000000000014),\n",
              " Data(x=[20, 30], edge_index=[2, 44], edge_attr=[44, 11], smiles='CCN1C(SCC2=CC=CC=C2)=NN=C1C1=CC=CO1', y=3.8503000000000025),\n",
              " Data(x=[32, 30], edge_index=[2, 72], edge_attr=[72, 11], smiles='CC1=C(C(=O)N2CCCCC2)N=NN1C1=CC=CC2=C1CCN(CC1=CC=C(F)C=C1)C2', y=3.8992200000000032),\n",
              " Data(x=[27, 30], edge_index=[2, 58], edge_attr=[58, 11], smiles='CC1=CC2=C(C=C1C)C(CC(=O)OCC(=O)NC1CCCC(C)C1C)=CO2', y=4.076240000000003),\n",
              " Data(x=[32, 30], edge_index=[2, 68], edge_attr=[68, 11], smiles='COC1=CC(C[NH+](C)CC2(O)CCCN(C3=NC=CC=N3)C2)=CC=C1OCCC[NH+](C)C', y=-0.5551999999999946),\n",
              " Data(x=[20, 30], edge_index=[2, 44], edge_attr=[44, 11], smiles='O=C1CCCN1CC(=O)N(CC1=CC=NC=C1)C1CC1', y=1.1949999999999992),\n",
              " Data(x=[24, 30], edge_index=[2, 52], edge_attr=[52, 11], smiles='CCNC1=NC(NCC2=CC=C(Br)C=C2)=CC(C2=CC=NC=C2)=N1', y=4.345000000000003),\n",
              " Data(x=[27, 30], edge_index=[2, 60], edge_attr=[60, 11], smiles='CN1C=CC=C1C(=O)N1CCCC2(CCC(=O)N(CC3=CC=NC=C3)C2)C1', y=2.4651000000000005),\n",
              " Data(x=[22, 30], edge_index=[2, 46], edge_attr=[46, 11], smiles='CCOC(=O)C(=O)NC1=C(N2CCCCC2)C(=O)N(C)N=C1', y=0.27220000000000044),\n",
              " Data(x=[21, 30], edge_index=[2, 46], edge_attr=[46, 11], smiles='CC(CC1=CC=CC=C1F)[NH2+]C1CCOC2(CCSC2)C1', y=2.3748000000000005),\n",
              " Data(x=[24, 30], edge_index=[2, 52], edge_attr=[52, 11], smiles='O=C(NC1=CC=CC=C1C(=O)NC1CCCCC1)C1=CC=CC=C1', y=4.001400000000003),\n",
              " Data(x=[29, 30], edge_index=[2, 64], edge_attr=[64, 11], smiles='CC(C(=O)OCC(=O)NC1=NC2=CC=CC=C2S1)N1C(=O)C2=CC=CC=C2C1=O', y=2.4627),\n",
              " Data(x=[16, 30], edge_index=[2, 32], edge_attr=[32, 11], smiles='CSCC(CCO)NC(=O)C1=CC(Br)=C[NH]1', y=1.6209999999999998),\n",
              " Data(x=[31, 30], edge_index=[2, 66], edge_attr=[66, 11], smiles='COC1=CC=C(C(CNC(=O)CNC(=O)CC2=CC=CC3=CC=CC=C23)[NH+](C)C)C=C1', y=1.5091),\n",
              " Data(x=[29, 30], edge_index=[2, 64], edge_attr=[64, 11], smiles='CN1C=C(NC(=O)NCCC[NH+]2CCC3=CC=CC=C3C2)C2=CC=CC=C2C1=O', y=1.6913000000000002),\n",
              " Data(x=[27, 30], edge_index=[2, 62], edge_attr=[62, 11], smiles='COC1CCCN(C(=O)C2=CN=C(C34CC5CC(CC(C5)C3)C4)[NH]C2=O)C1', y=2.4887000000000006),\n",
              " Data(x=[25, 30], edge_index=[2, 58], edge_attr=[58, 11], smiles='O=C(C1CC1)N1CC2CC(C1)C1=C(C3=CC=CC=C3)C=CC(=O)N1C2', y=2.8710000000000013),\n",
              " Data(x=[30, 30], edge_index=[2, 68], edge_attr=[68, 11], smiles='COC1=CC=C(CC2=NC(N3CCN(C)CC3)=C3C4=C(CCC4)SC3=N2)C=C1OC', y=3.5398000000000023),\n",
              " Data(x=[29, 30], edge_index=[2, 64], edge_attr=[64, 11], smiles='COC1=CC=C2C=C(CN(C)C(=O)CC3SC4=CC=CC=C4NC3=O)C=CC2=C1', y=4.309900000000003),\n",
              " Data(x=[25, 30], edge_index=[2, 54], edge_attr=[54, 11], smiles='CC1CCCN(C2=CC=C(CNC(=O)C3=CC=C(Cl)C=C3F)C=C2)C1', y=4.645400000000004),\n",
              " Data(x=[22, 30], edge_index=[2, 46], edge_attr=[46, 11], smiles='CCOC1=CC(C)=C(Cl)C=C1S(=O)(=O)N1CC(C)OC(C)C1', y=2.8450200000000017),\n",
              " Data(x=[24, 30], edge_index=[2, 52], edge_attr=[52, 11], smiles='CC(C)OC(=O)C1=CC=C(CSC2=NC3=C(CCC3)C(=O)[NH]2)C=C1', y=3.116100000000001),\n",
              " Data(x=[18, 30], edge_index=[2, 38], edge_attr=[38, 11], smiles='COC1CCN(C(=O)NC2=CC=CC=C2F)CC1', y=2.468400000000001),\n",
              " Data(x=[21, 30], edge_index=[2, 46], edge_attr=[46, 11], smiles='NC(=O)C1=CC(C2CCN(C(=O)C3=CC=CS3)CC2)=N[NH]1', y=1.5898999999999999),\n",
              " Data(x=[21, 30], edge_index=[2, 46], edge_attr=[46, 11], smiles='CC1=CC(OC2=CC=CC=C2F)=NC(C2CCCCN2)=N1', y=3.5310200000000016),\n",
              " Data(x=[21, 30], edge_index=[2, 44], edge_attr=[44, 11], smiles='CC1=CC=C(C(=O)NC(=S)NC2=CC=C(I)C=C2C)C=C1', y=4.034840000000002),\n",
              " Data(x=[24, 30], edge_index=[2, 52], edge_attr=[52, 11], smiles='CC1=NC(CC(=O)NCC(C2=CC=C(F)C=C2)N2CCCC2)=CS1', y=3.0864200000000013),\n",
              " Data(x=[17, 30], edge_index=[2, 36], edge_attr=[36, 11], smiles='O=C(O)CN(C(=O)C1=CC=CC=C1Cl)C1CC1', y=2.0292000000000003),\n",
              " Data(x=[24, 30], edge_index=[2, 50], edge_attr=[50, 11], smiles='CCCS(=O)(=O)NC1CCN(C(=O)NC2=CC=C(Cl)C(Cl)=C2)CC1', y=3.3191000000000015),\n",
              " Data(x=[33, 30], edge_index=[2, 72], edge_attr=[72, 11], smiles='CC(=O)C1=CC=C(N2C(=O)CC(N3CCN(S(=O)(=O)C4=CC=C(C)C=C4C)CC3)C2=O)C=C1', y=2.1444400000000003),\n",
              " Data(x=[14, 30], edge_index=[2, 28], edge_attr=[28, 11], smiles='CCOP(=O)(OCC)C1CCCCN1', y=2.3521),\n",
              " Data(x=[21, 30], edge_index=[2, 46], edge_attr=[46, 11], smiles='CC1=CC(NC(=O)N2CCN3CCCCC3C2)=CC=C1Br', y=3.459520000000002),\n",
              " Data(x=[20, 30], edge_index=[2, 42], edge_attr=[42, 11], smiles='CC1=NC(Cl)=C(Cl)N1CC(=O)NC1=CN(C(C)C)N=N1', y=2.3094199999999994),\n",
              " Data(x=[22, 30], edge_index=[2, 46], edge_attr=[46, 11], smiles='CC(C)OCC(O)CN1CC[NH+](CCC2=CC=CC=N2)CC1', y=-0.3894999999999973),\n",
              " Data(x=[30, 30], edge_index=[2, 66], edge_attr=[66, 11], smiles='CC1=CC(F)=CC=C1NC(=O)C1CCN(C(=O)C2=CC(C3=CC=NC=C3)=N[NH]2)CC1', y=3.410120000000001),\n",
              " Data(x=[22, 30], edge_index=[2, 46], edge_attr=[46, 11], smiles='CC1=C(O)C=CC(NS(=O)(=O)C2=CC=C([N+](=O)[O-])C=C2)=C1C', y=2.7180400000000002),\n",
              " Data(x=[30, 30], edge_index=[2, 66], edge_attr=[66, 11], smiles='CC1=CC(S(=O)(=O)N2CCC3=CC=CC=C32)=CC=C1OCC(=O)NC1CCCCC1', y=3.5741200000000024),\n",
              " Data(x=[30, 30], edge_index=[2, 66], edge_attr=[66, 11], smiles='O=C(C1=CC=C(F)C=C1)C1=CC=CC=C1C(=O)N1CCN(C2=CC=CC=C2O)CC1', y=3.724700000000002),\n",
              " Data(x=[29, 30], edge_index=[2, 64], edge_attr=[64, 11], smiles='CC1=CC(C)=CC(N2C(SCC(=O)NC3=NOC(C)=C3)=NC3=C(SCC3)C2=O)=C1', y=3.5247600000000014),\n",
              " Data(x=[28, 30], edge_index=[2, 62], edge_attr=[62, 11], smiles='CCCCCCSC1=NC(=O)C2=C3C=CC=CC3=NC(C3=CC=CN=C3)N2N1', y=2.5381),\n",
              " Data(x=[24, 30], edge_index=[2, 50], edge_attr=[50, 11], smiles='CC[NH+](CC)C(CNS(=O)(=O)C1=CC=CN=C1)CC1=CC=CC=C1', y=0.8959000000000017),\n",
              " Data(x=[33, 30], edge_index=[2, 70], edge_attr=[70, 11], smiles='CC1=CC=C(N(C(C)C(=O)NC2=CC=C(S(=O)(=O)N3CCCCC3)C=C2)S(C)(=O)=O)C=C1C', y=3.2712400000000024),\n",
              " Data(x=[25, 30], edge_index=[2, 56], edge_attr=[56, 11], smiles='O=C1OC(C2=CC=C(Br)C=C2)=NC1=CC1=COC2=CC=CC=C2C1=O', y=3.900000000000002),\n",
              " Data(x=[27, 30], edge_index=[2, 60], edge_attr=[60, 11], smiles='FC1=CC=CC(CC2=CC=C(C3CCCC[NH+]3CC3=CC=CN=C3)C=N2)=C1', y=3.5166000000000013),\n",
              " Data(x=[33, 30], edge_index=[2, 74], edge_attr=[74, 11], smiles='O=C(CC1=CC=CS1)N1CCC2(CC1)CC2C(=O)N1CCN(CC=CC2=CC=CC=C2)CC1', y=3.776900000000003),\n",
              " Data(x=[24, 30], edge_index=[2, 50], edge_attr=[50, 11], smiles='COC1=CC=C(S(=O)(=O)N2CCCC(C(=O)NCCCO)C2)C=C1', y=0.5945000000000001),\n",
              " Data(x=[24, 30], edge_index=[2, 54], edge_attr=[54, 11], smiles='O=C(NC1=C(C2CC2)[NH]N=C1C1=CC=CC(F)=C1)C1CCCCC1', y=4.612000000000004),\n",
              " Data(x=[25, 30], edge_index=[2, 54], edge_attr=[54, 11], smiles='CCC(OC)C(=O)N1CCOC2=C(O)C=C(C3=CC=CN=C3)C=C2C1', y=2.600200000000001),\n",
              " Data(x=[28, 30], edge_index=[2, 60], edge_attr=[60, 11], smiles='CC(C)C1=[NH+]C=CN1CCCNC(=O)C1=CC=C(N2CCCC(CO)C2)N=C1', y=1.8493999999999997),\n",
              " Data(x=[18, 30], edge_index=[2, 36], edge_attr=[36, 11], smiles='COC1=CC=C(S(=O)(=O)NC(C)C(C)C)C=C1F', y=2.1571),\n",
              " Data(x=[25, 30], edge_index=[2, 56], edge_attr=[56, 11], smiles='O=C1C2=CC=CC=C2C(C2=CC=C(Cl)C=C2)=NN1CN1CCOCC1', y=3.0066000000000015),\n",
              " Data(x=[26, 30], edge_index=[2, 56], edge_attr=[56, 11], smiles='COC1=CC=C(C2=NSC(NC(=O)C3=C(Cl)N(C)N=C3C(C)C)=N2)C=C1', y=3.976300000000002),\n",
              " Data(x=[22, 30], edge_index=[2, 46], edge_attr=[46, 11], smiles='CCN(CC)C(=O)C1=CC=C(NC(=O)C2=CC=CC=C2)C=C1', y=3.4209000000000014),\n",
              " Data(x=[31, 30], edge_index=[2, 68], edge_attr=[68, 11], smiles='CC1=CC=CC=C1N1C(=O)C(=CC2=CC=CN2C2=CC=CC(C(=O)O)=C2)C(=O)NC1=S', y=3.315220000000001),\n",
              " Data(x=[29, 30], edge_index=[2, 62], edge_attr=[62, 11], smiles='COC(=O)CC1CCN(C(=O)CC2NC(=O)N(CC3=CC=CC=C3Cl)C2=O)CC1', y=1.9521999999999997),\n",
              " Data(x=[23, 30], edge_index=[2, 52], edge_attr=[52, 11], smiles='O=C(NC1=CC=CC(Cl)=C1)C1=CC2=CC=C3C=CC=NC3=C2[NH]1', y=4.621800000000002),\n",
              " Data(x=[28, 30], edge_index=[2, 58], edge_attr=[58, 11], smiles='CCC(=O)N(CC1=CC=CC(Cl)=C1)C(CC1=CC=CC=C1)C(=O)NC(C)CC', y=4.604600000000003),\n",
              " Data(x=[18, 30], edge_index=[2, 36], edge_attr=[36, 11], smiles='CCNS(=O)(=O)C1=CC(C(C)C)=C(OC)C=C1C', y=2.4252200000000004),\n",
              " Data(x=[24, 30], edge_index=[2, 52], edge_attr=[52, 11], smiles='COC1=CC=CC=C1C1=N[NH]C(C(=O)N(C)CCC2=NOC=N2)=C1', y=1.783),\n",
              " Data(x=[26, 30], edge_index=[2, 56], edge_attr=[56, 11], smiles='COC1=CC(OC)=CC(C(=O)NC2=CC=C(N3CCCCC3C)C=C2)=C1', y=4.334900000000004),\n",
              " Data(x=[28, 30], edge_index=[2, 60], edge_attr=[60, 11], smiles='CC1=CC(C2=CC=C(C(=O)N(C)CC[NH+](C)C)C=C2)=NC(C2=CC=CC=C2)=N1', y=2.33552),\n",
              " Data(x=[26, 30], edge_index=[2, 58], edge_attr=[58, 11], smiles='O=C(NCC1=C(O)C=CC2=C1CCCC2)C1=CC=CC(N2C=NC=N2)=C1', y=2.7817000000000007),\n",
              " Data(x=[22, 30], edge_index=[2, 46], edge_attr=[46, 11], smiles='CC(=O)N(CC1=NOC(C)=N1)C1CCN(CCS(C)(=O)=O)C1', y=-0.15457999999999839),\n",
              " Data(x=[29, 30], edge_index=[2, 62], edge_attr=[62, 11], smiles='CCCC(=O)NC1=NC2=CC=C(NC(=S)NC(=O)C3=CC=C(CC)C=C3)C=C2S1', y=4.7241000000000035),\n",
              " Data(x=[19, 30], edge_index=[2, 40], edge_attr=[40, 11], smiles='COC1=CC=NC(N2CCC(NS(C)(=O)=O)CC2)=N1', y=0.0031999999999998696),\n",
              " Data(x=[22, 30], edge_index=[2, 46], edge_attr=[46, 11], smiles='CN1CC(C(=O)O)OC2(CCN(C(=O)OC(C)(C)C)CC2)C1', y=1.1712999999999996),\n",
              " Data(x=[27, 30], edge_index=[2, 60], edge_attr=[60, 11], smiles='O=C(NCC1CCCO1)C1=CC=CC=C1C1=NC=C(C2=CC=C(Cl)C=C2)O1', y=4.570800000000004),\n",
              " Data(x=[27, 30], edge_index=[2, 60], edge_attr=[60, 11], smiles='CN1C(CN2CCCC2)=NN=C1C1CCCN(C(=O)CCN2C=CN=C2)C1', y=1.4036999999999997),\n",
              " Data(x=[24, 30], edge_index=[2, 54], edge_attr=[54, 11], smiles='COC1=CC=C2C=C(C3CN(CC4=NC=CS4)CCO3)C=CC2=C1', y=3.8784000000000027),\n",
              " Data(x=[27, 30], edge_index=[2, 58], edge_attr=[58, 11], smiles='CNC(=O)C1(CC2=CC(C3=CC=CC=C3)=NO2)CC[NH+](CC(=O)N(C)C)C1', y=-0.006699999999998374),\n",
              " Data(x=[24, 30], edge_index=[2, 50], edge_attr=[50, 11], smiles='CC(C)(C)OC(=O)NC1CCC(NC(=O)C2=CC=CC=C2Cl)CC1', y=3.905700000000003),\n",
              " Data(x=[21, 30], edge_index=[2, 46], edge_attr=[46, 11], smiles='COCC1CN(C(=O)C2=CC=NC=C2)CC2=NC=CN2C1', y=1.1966999999999997),\n",
              " Data(x=[33, 30], edge_index=[2, 74], edge_attr=[74, 11], smiles='CCC1=NC(CN2C(=O)COC3=CC(S(=O)(=O)N4CCC5=CC=CC=C5C4)=C(C)C=C32)=NO1', y=2.6130200000000006),\n",
              " Data(x=[22, 30], edge_index=[2, 52], edge_attr=[52, 11], smiles='C1=CC=C2C(=C1)SC1=NN=C(SCC3=CN4C=CSC4=N3)N12', y=3.945500000000002),\n",
              " Data(x=[34, 30], edge_index=[2, 76], edge_attr=[76, 11], smiles='CC1=CC(C2C(C3=CC=CC=N3)NC(=S)N2CC2CCCO2)=C(C)N1C1=CC=CC=C1C(=O)O', y=4.338840000000003),\n",
              " Data(x=[25, 30], edge_index=[2, 54], edge_attr=[54, 11], smiles='CC(=O)N1CCC2=CC=C(NC(=O)COC3=CC=C(F)C=C3)C=C2C1', y=2.7478000000000016),\n",
              " Data(x=[32, 30], edge_index=[2, 68], edge_attr=[68, 11], smiles='CC(C)C(NC(=O)C(C1=CC=CC=C1)C1=CC=CC=C1)C(=O)OCC(=O)C1=CC=CC=C1', y=4.385400000000004),\n",
              " Data(x=[16, 30], edge_index=[2, 32], edge_attr=[32, 11], smiles='COC1=CC=C(CC(C)(C[NH3+])C(=O)O)C=C1', y=0.5705000000000006),\n",
              " Data(x=[24, 30], edge_index=[2, 52], edge_attr=[52, 11], smiles='O=C(COC1=CC=C2CCCCC2=C1)NCCSC1=CC=CC=C1', y=3.8527000000000022),\n",
              " Data(x=[18, 30], edge_index=[2, 38], edge_attr=[38, 11], smiles='CN1C=C(NC(=O)CSC2=CC=CC(Br)=C2)C=N1', y=2.913400000000001),\n",
              " Data(x=[25, 30], edge_index=[2, 54], edge_attr=[54, 11], smiles='CC(NC(=O)NC(C)C1=CC=CC(N2CCCC2)=C1)C1=CC=NC=C1', y=3.803200000000003),\n",
              " Data(x=[27, 30], edge_index=[2, 60], edge_attr=[60, 11], smiles='O=C(O)CN1C=CC(C2CCCN(C(=O)CC3=CC=C4OCOC4=C3)C2)=N1', y=1.6451000000000002),\n",
              " Data(x=[24, 30], edge_index=[2, 52], edge_attr=[52, 11], smiles='COC1CN(C(=O)CN2C=CC=N2)CCC1CC1=CC=CC(F)=C1', y=2.128399999999999),\n",
              " Data(x=[25, 30], edge_index=[2, 54], edge_attr=[54, 11], smiles='CCCOCC(=O)N1CCCC(N2CCN(C3=CC=CC=C3)CC2)C1', y=2.2261999999999995),\n",
              " Data(x=[28, 30], edge_index=[2, 62], edge_attr=[62, 11], smiles='CC(=O)N1CCN(C2=CC=C(NC(=O)C3=C(Cl)C4=CC=CC=C4S3)C=C2)CC1', y=4.475500000000004),\n",
              " Data(x=[26, 30], edge_index=[2, 56], edge_attr=[56, 11], smiles='CCOC(=O)C1=CC=C(NC2SC(=O)N(CC3=CC=CC=C3)C2=O)C=C1', y=3.496900000000002),\n",
              " Data(x=[31, 30], edge_index=[2, 70], edge_attr=[70, 11], smiles='COC1=CC(Cl)=C(C)C=C1NC(=O)C1=CC2=CC3=C4C(=C2OC1=N)CCCN4CCC3', y=4.833790000000004),\n",
              " Data(x=[31, 30], edge_index=[2, 70], edge_attr=[70, 11], smiles='CC1=C(C2=NN=C(SC(C)C(=O)N3CCC4=CC=CC=C43)N2C2=CC=CC=C2)C=CO1', y=4.905620000000004),\n",
              " Data(x=[27, 30], edge_index=[2, 60], edge_attr=[60, 11], smiles='O=C(NC1=CC(F)=CC(F)=C1)C1CCCCN1C(=O)C1=NOC(C2CC2)=C1', y=3.4636000000000022),\n",
              " Data(x=[21, 30], edge_index=[2, 46], edge_attr=[46, 11], smiles='CC1=C(C(=O)NCC2CCOC2)N=C(C2=CC=CC=C2)O1', y=2.4163200000000007),\n",
              " Data(x=[31, 30], edge_index=[2, 68], edge_attr=[68, 11], smiles='C=CCN1CC(C(=O)NCC2CCC(C3=NN=C(C4=CC=C(C)N=C4)O3)CC2)CC1=O', y=2.8645200000000006),\n",
              " Data(x=[26, 30], edge_index=[2, 58], edge_attr=[58, 11], smiles='CN(CC1CCCCO1)C(=O)C1=CC=CC(C2=CC=C3[NH]C=NC3=C2)=C1', y=3.871000000000002),\n",
              " Data(x=[21, 30], edge_index=[2, 42], edge_attr=[42, 11], smiles='COC1=NC(N(C)C)=NC(N(C#N)C(C)C(=O)N(C)C)=N1', y=-0.28961999999999977),\n",
              " Data(x=[19, 30], edge_index=[2, 38], edge_attr=[38, 11], smiles='CC(NC(CO)C(C)C)=C1C(=O)CC(C)(C)CC1=O', y=1.8251),\n",
              " Data(x=[22, 30], edge_index=[2, 48], edge_attr=[48, 11], smiles='CC(=O)N1CC2(CCN(CC3=NC=C[NH]3)CC2)CC1C(=O)O', y=0.6972999999999998),\n",
              " Data(x=[33, 30], edge_index=[2, 72], edge_attr=[72, 11], smiles='CC(=O)C1=CC=C(NC(=O)CN2C(=O)N(CC3=CC=C(C)C=C3)C(=O)C3=CC=CC=C32)C=C1', y=3.361220000000002),\n",
              " Data(x=[24, 30], edge_index=[2, 50], edge_attr=[50, 11], smiles='CC1=CC=C(C(CNC(=O)COC2=CC=C(F)C=C2)[NH+](C)C)C=C1', y=1.5149199999999996),\n",
              " Data(x=[22, 30], edge_index=[2, 46], edge_attr=[46, 11], smiles='CC(C(=O)NC1=NC=CC=N1)N(C)CC1=NC=CN1C(F)F', y=1.5271999999999997),\n",
              " Data(x=[21, 30], edge_index=[2, 44], edge_attr=[44, 11], smiles='CC1=CN(CC(C)[NH2+]CCOC2=CC=C(C#N)C=C2)N=C1', y=1.0940999999999992),\n",
              " Data(x=[20, 30], edge_index=[2, 44], edge_attr=[44, 11], smiles='CN1C=CC(C[NH+]2CCCC(CC3=CC=CC=N3)C2)=N1', y=0.8526999999999991),\n",
              " Data(x=[23, 30], edge_index=[2, 50], edge_attr=[50, 11], smiles='CC(O)CN1CCN(CC2=NN(C3=CC=CC=C3)N=C2)CC1C', y=1.1541999999999994),\n",
              " Data(x=[30, 30], edge_index=[2, 62], edge_attr=[62, 11], smiles='CCCN(CC(=O)NC1=CC=C(F)C(F)=C1F)CC(=O)N1CCN(S(C)(=O)=O)CC1', y=0.8582000000000005),\n",
              " Data(x=[32, 30], edge_index=[2, 72], edge_attr=[72, 11], smiles='CC(=O)N1CCN2C(C3=CN(C)N=C3)=CN=C2C12CCN(C(=O)C1=CN=C(C)C=N1)CC2', y=1.3756199999999996),\n",
              " Data(x=[18, 30], edge_index=[2, 38], edge_attr=[38, 11], smiles='CC(=O)C1=C(C)NC(=S)NC1C1=CC=C(O)C=C1', y=1.7739999999999998),\n",
              " Data(x=[31, 30], edge_index=[2, 66], edge_attr=[66, 11], smiles='CC(OC(=O)C1=CC=C(Cl)C(S(=O)(=O)N2CCOCC2)=C1)C(=O)NC1=CC=CN=C1Cl', y=2.5933),\n",
              " Data(x=[27, 30], edge_index=[2, 60], edge_attr=[60, 11], smiles='CC1=CC=C(CNC(=O)CC2=C3[NH]C=CC=C3C(=O)N2C2=CC=CC=C2)O1', y=3.0307200000000014),\n",
              " Data(x=[27, 30], edge_index=[2, 58], edge_attr=[58, 11], smiles='CC1=NN(C)C(C)=C1CN(C)C(=O)NC1CC(=O)N(C2=CC=C(F)C=C2)C1', y=2.1229399999999994),\n",
              " Data(x=[28, 30], edge_index=[2, 66], edge_attr=[66, 11], smiles='COC(=O)C1=C(C)C2=C(N=CN3N=C(CC45CC6CC(CC(C6)C4)C5)N=C23)S1', y=4.1929200000000035),\n",
              " Data(x=[27, 30], edge_index=[2, 62], edge_attr=[62, 11], smiles='COCCN1C(=O)C2C3CCC[NH+]3C3(C(=O)NC4=CC=C(F)C=C43)C2C1=O', y=-0.718399999999997),\n",
              " Data(x=[24, 30], edge_index=[2, 52], edge_attr=[52, 11], smiles='O=C(NC1=CC=CC(NC(=O)C2=CC=NC=C2)=N1)C1=CC=NC=C1', y=2.3762),\n",
              " Data(x=[31, 30], edge_index=[2, 68], edge_attr=[68, 11], smiles='COC1=CC=C(OC)C(C2CC(C3=C(O)[NH]C(=O)N(CC4=CC=CC=C4)C3=O)=NN2)=C1', y=1.7464),\n",
              " Data(x=[19, 30], edge_index=[2, 40], edge_attr=[40, 11], smiles='CC(C)N=C1NN=C(C2=CC=CC([N+](=O)[O-])=C2)CS1', y=2.3997),\n",
              " Data(x=[26, 30], edge_index=[2, 56], edge_attr=[56, 11], smiles='CC1=CC=C(OC2(C(=O)NC(C)C3=CC=CC(C)=N3)CC[NH2+]CC2)C=N1', y=1.4456399999999994),\n",
              " Data(x=[25, 30], edge_index=[2, 54], edge_attr=[54, 11], smiles='CC1=CC=C(C)C(NC(=O)N2CCCC2C[NH+]2CC(C)OC(C)C2)=C1', y=1.9918399999999996),\n",
              " Data(x=[25, 30], edge_index=[2, 54], edge_attr=[54, 11], smiles='CC(C)(C)C1=NN=C2SC(SCC(=O)C3=CC=C(Br)C=C3)=NN2C1=O', y=3.581000000000002),\n",
              " Data(x=[26, 30], edge_index=[2, 58], edge_attr=[58, 11], smiles='O=C(C1=CN(CC2CCCO2)N=N1)N1CCN(C2CCCCC2)C(=O)C1', y=1.0742),\n",
              " Data(x=[34, 30], edge_index=[2, 76], edge_attr=[76, 11], smiles='O=C(NC1CC[NH+](CC2=CC=CC=C2)CC1)C1=NN2C(C(F)(F)F)=CC(C3=CC=CO3)=NC2=N1', y=2.3804000000000007),\n",
              " Data(x=[16, 30], edge_index=[2, 32], edge_attr=[32, 11], smiles='CCC(C(N)=O)[NH+](C)CC1CCCCC1O', y=-0.6838999999999984),\n",
              " Data(x=[24, 30], edge_index=[2, 52], edge_attr=[52, 11], smiles='CC([NH2+]CC1(C2=CC=CC=C2)CCCC1)C1=CC=C(S(C)=O)C=C1', y=3.5604000000000022),\n",
              " Data(x=[19, 30], edge_index=[2, 40], edge_attr=[40, 11], smiles='CC1=CC(NC(=O)CC[NH2+]CCN2C=CC=N2)=NO1', y=-0.2282799999999996),\n",
              " Data(x=[22, 30], edge_index=[2, 50], edge_attr=[50, 11], smiles='C=CC1CN2CCC1CC2C1=C(CCO)C2=CC=CC=C2[NH]1', y=3.271600000000001),\n",
              " Data(x=[23, 30], edge_index=[2, 48], edge_attr=[48, 11], smiles='CC(C)=CCCN1CCN(C(=O)CN(C)C)C2CS(=O)(=O)CC21', y=0.21410000000000218),\n",
              " Data(x=[23, 30], edge_index=[2, 48], edge_attr=[48, 11], smiles='COC1=CC=C(OCCCNC2=C([N+](=O)[O-])C(C)=NN2C)C=C1', y=2.52632),\n",
              " Data(x=[30, 30], edge_index=[2, 66], edge_attr=[66, 11], smiles='CC(=O)NC1=CC=C(C(=O)NCCC23CCCCC2C2=C([NH]C(=O)[NH]C2=O)O3)C=N1', y=1.0254999999999996),\n",
              " Data(x=[22, 30], edge_index=[2, 48], edge_attr=[48, 11], smiles='O=C(C=CC1=CC=CC=C1)N1CCOC(C2=CC=NC=C2)C1', y=2.6949000000000014),\n",
              " Data(x=[28, 30], edge_index=[2, 60], edge_attr=[60, 11], smiles='CC(C(=O)NC1=CC=CC=C1F)N1CCN(S(=O)(=O)C2=CC=C(Cl)C=C2)CC1', y=2.8126000000000015),\n",
              " Data(x=[17, 30], edge_index=[2, 36], edge_attr=[36, 11], smiles='CC(CC1=CC=CC=C1)=NN1CCN(C)CC1', y=1.8524),\n",
              " Data(x=[29, 30], edge_index=[2, 64], edge_attr=[64, 11], smiles='O=C(C1CCCCC1)N1CCCC2(CC=CCN(CC3=CC=C(F)C=C3)C2=O)C1', y=4.303300000000004),\n",
              " Data(x=[21, 30], edge_index=[2, 46], edge_attr=[46, 11], smiles='COC1=C(C=O)C(O)=CC2=C1C(=O)C1=CC=CC=C1C2=O', y=1.9887),\n",
              " Data(x=[22, 30], edge_index=[2, 46], edge_attr=[46, 11], smiles='CCOC(=O)CC1=NN=C(CCNC2=CC=C(CC)C=C2)[NH]1', y=2.1272999999999995),\n",
              " Data(x=[15, 30], edge_index=[2, 34], edge_attr=[34, 11], smiles='FC1=CC=C2OCC3(COCCN3)C2=C1', y=1.0332),\n",
              " Data(x=[28, 30], edge_index=[2, 62], edge_attr=[62, 11], smiles='CC(=O)C1=C(C)N(C)C2=C(C(=O)C3=CC=CC=C23)C1C1=CC=CC([N+](=O)[O-])=C1', y=4.094400000000003),\n",
              " Data(x=[24, 30], edge_index=[2, 50], edge_attr=[50, 11], smiles='CN(CC[NH+](C)C1CCCCC1)C(=O)C1=CC([N+](=O)[O-])=CN=C1N', y=0.4914000000000015),\n",
              " Data(x=[22, 30], edge_index=[2, 48], edge_attr=[48, 11], smiles='OCC1CCC[NH+]1CC(O)COC1=CC=C2C=CC=CC2=C1', y=0.6191000000000004),\n",
              " Data(x=[30, 30], edge_index=[2, 66], edge_attr=[66, 11], smiles='CC1=NC(C(=O)NC(C)C(=O)NC(C)C2=CC=CC=C2)=CC2=C1[NH]C1=CC=CC=C12', y=4.020220000000002),\n",
              " Data(x=[30, 30], edge_index=[2, 64], edge_attr=[64, 11], smiles='CCOC(=O)C1=CC=CC(NC(=O)C2CCN(S(=O)(=O)C3=CC=C(C)C=C3)CC2)=C1', y=3.211120000000002),\n",
              " Data(x=[17, 30], edge_index=[2, 36], edge_attr=[36, 11], smiles='COC(=O)C1=C(C)N=C(N2C(=O)CCC2=O)S1', y=0.89152),\n",
              " Data(x=[18, 30], edge_index=[2, 38], edge_attr=[38, 11], smiles='CC1CCCN(CC(=O)NC(C)C2=CC=CS2)C1', y=2.6572000000000013),\n",
              " Data(x=[22, 30], edge_index=[2, 46], edge_attr=[46, 11], smiles='CCOC(=O)N1CCC(NC(=O)C2=C(F)C=CC=C2F)CC1', y=2.3155),\n",
              " Data(x=[31, 30], edge_index=[2, 68], edge_attr=[68, 11], smiles='O=C(NCCC[NH+]1CCCC1)C1=CC=C(NC2=CC=NC(C3=CC=CC(F)=C3)=N2)C=C1', y=2.8249000000000013),\n",
              " Data(x=[31, 30], edge_index=[2, 64], edge_attr=[64, 11], smiles='CCCOC(=O)C1=CC=C(NC(=O)COC(=O)CCC(=O)NC2=CC=CC(C)=C2)C=C1', y=3.4624200000000016),\n",
              " Data(x=[26, 30], edge_index=[2, 56], edge_attr=[56, 11], smiles='C=CCOC1=CC=CC=C1CN1CC[NH+](CC2=CC=CS2)C(CCO)C1', y=1.9646),\n",
              " Data(x=[21, 30], edge_index=[2, 42], edge_attr=[42, 11], smiles='CC(C)C(NC(=O)C1=CC=C(Cl)C=C1)C(=O)NCC(N)=O', y=0.6959000000000002),\n",
              " Data(x=[31, 30], edge_index=[2, 68], edge_attr=[68, 11], smiles='CC1=CC=C(C2=NN=C(SCC(=O)NC3=CC=C(O)C=C3)N2C2=CC=CC=C2)C=C1C', y=4.987540000000003),\n",
              " Data(x=[33, 30], edge_index=[2, 72], edge_attr=[72, 11], smiles='C=CCN1C(CC2=CSC(NC(=O)C3CC(=O)N(C4=CC=CC=C4OCC)C3)=N2)=N[NH]C1=S', y=3.5642900000000015),\n",
              " Data(x=[34, 30], edge_index=[2, 74], edge_attr=[74, 11], smiles='COC1=CC=C(NS(=O)(=O)C2=CC=C3OC(SC(C(=O)N(C)C)C4=CC=CC=C4)=NC3=C2)C=C1', y=4.558800000000003),\n",
              " Data(x=[28, 30], edge_index=[2, 62], edge_attr=[62, 11], smiles='O=C(NCC1=CC=C(S(=O)(=O)N2CCOCC2)C=C1)C1=N[NH]C2=CC=CC=C12', y=1.5137999999999994),\n",
              " Data(x=[31, 30], edge_index=[2, 68], edge_attr=[68, 11], smiles='CN(C)C1=NC=C(C2=CC=CC(C(F)(F)F)=C2)C(C2CCCN2CC2=CC=CN=C2)=N1', y=4.960500000000005),\n",
              " Data(x=[25, 30], edge_index=[2, 54], edge_attr=[54, 11], smiles='O=[N+]([O-])C(C(Cl)=C(Cl)Br)=C(N1CCOCC1)N1N=NC2=CC=CC=C21', y=3.207900000000002),\n",
              " Data(x=[32, 30], edge_index=[2, 66], edge_attr=[66, 11], smiles='COC(=O)C1=CC(NC(=O)C(C)NS(=O)(=O)C2=CC(C)=CC=C2OC)=CC(C(=O)OC)=C1', y=1.8823199999999995),\n",
              " Data(x=[25, 30], edge_index=[2, 56], edge_attr=[56, 11], smiles='CC1=CN2C=C(C(=O)NC3CCCN(C4=NC=CC=N4)C3)C=CC2=N1', y=1.8315199999999998),\n",
              " Data(x=[20, 30], edge_index=[2, 42], edge_attr=[42, 11], smiles='CC(CN(C)CC1=CN=C2C=CC=CC2=C1)C(F)(F)F', y=3.865000000000003),\n",
              " Data(x=[30, 30], edge_index=[2, 66], edge_attr=[66, 11], smiles='CC1=CC=C(C(=O)NCC(C2=CC=CO2)N2CCN(C3=CC=C(F)C=C3)CC2)C=C1', y=4.020420000000003),\n",
              " Data(x=[23, 30], edge_index=[2, 48], edge_attr=[48, 11], smiles='CC1=CC=C(C(C(=O)N(C)CC2=CC=CC(O)=C2)N(C)C)C=C1', y=2.961920000000001),\n",
              " Data(x=[30, 30], edge_index=[2, 66], edge_attr=[66, 11], smiles='CC(=O)N1CCN(C2=CC=C(CNC(=O)C3CC3C3=CC=C(Cl)C(Cl)=C3)C=C2)CC1', y=4.081800000000003),\n",
              " Data(x=[22, 30], edge_index=[2, 46], edge_attr=[46, 11], smiles='CS(=O)(=O)C1CCN(C(=O)NCCOCC2=CC=CC=C2)C1', y=1.0317000000000003),\n",
              " Data(x=[32, 30], edge_index=[2, 70], edge_attr=[70, 11], smiles='C[NH+](C)CC(=O)N1CCN(C(=O)C2=CC(C3=CC=C(Cl)C=C3)=NN2C2=CC=CC=C2)CC1', y=1.6216),\n",
              " Data(x=[21, 30], edge_index=[2, 44], edge_attr=[44, 11], smiles='O=C(CC1=CC=CC=C1C(F)(F)F)NC1(C(=O)O)CCC1', y=2.3714000000000004),\n",
              " Data(x=[17, 30], edge_index=[2, 34], edge_attr=[34, 11], smiles='CCCCOC1=CC=C(C=NNC(N)=S)C=C1', y=2.0326000000000004),\n",
              " Data(x=[19, 30], edge_index=[2, 38], edge_attr=[38, 11], smiles='CC(C)CC(NC(N)=O)C(=O)NC1CCC(C)CC1', y=1.7643),\n",
              " Data(x=[23, 30], edge_index=[2, 48], edge_attr=[48, 11], smiles='O=C(NCC(O)C1=CC=CC(Cl)=C1)C1=CC=CC=C1C(F)(F)F', y=3.8222000000000014),\n",
              " Data(x=[23, 30], edge_index=[2, 50], edge_attr=[50, 11], smiles='COCCOC1=CC=C(C(=O)NC2=CC3=N[NH]N=C3C=C2)C=C1', y=2.2354000000000003),\n",
              " Data(x=[25, 30], edge_index=[2, 56], edge_attr=[56, 11], smiles='O=C(CC1CC2C[NH+](CCC3=CC=CC=C3)CC2O1)N1CCOCC1', y=0.1502000000000021),\n",
              " Data(x=[25, 30], edge_index=[2, 54], edge_attr=[54, 11], smiles='CCC1=CC=C(OCC(=O)NC2=CC=C(F)C=C2)C(N2C=NN=C2)=C1', y=2.986300000000001),\n",
              " Data(x=[20, 30], edge_index=[2, 44], edge_attr=[44, 11], smiles='CC1=CC=C(C(C)(O)C2=NC3=CC=CC=C3S2)C(C)=C1', y=4.168940000000003),\n",
              " Data(x=[15, 30], edge_index=[2, 34], edge_attr=[34, 11], smiles='CC1=CN2C(C3=CC=CN=C3)=NN=C2S1', y=2.16122),\n",
              " Data(x=[18, 30], edge_index=[2, 38], edge_attr=[38, 11], smiles='CC1=CC=CC(C(=O)NC(C)C2=CC=C(C)O2)=N1', y=2.782440000000001),\n",
              " Data(x=[34, 30], edge_index=[2, 74], edge_attr=[74, 11], smiles='CC1(O)CC(=O)C(C(=O)NC2=CC=CC=C2)C(C2=CC=C(F)C=C2)C1C(=O)NC1=CC=CC=C1', y=4.142900000000003),\n",
              " Data(x=[21, 30], edge_index=[2, 44], edge_attr=[44, 11], smiles='CC1=CC=CC=C1C(=O)NC(=S)NC1=NC=C(I)C=C1C', y=3.4298400000000013),\n",
              " Data(x=[27, 30], edge_index=[2, 60], edge_attr=[60, 11], smiles='CC(C1=CC=C(C2=CC=CC=C2CN2CC[NH2+]CC2)C=C1)[NH+]1CCOCC1', y=0.7087000000000019),\n",
              " Data(x=[25, 30], edge_index=[2, 52], edge_attr=[52, 11], smiles='CC(=O)C1=CC=CC(OC(C)C(=O)NCCCN2N=C(C)C=C2C)=C1', y=2.6763400000000006),\n",
              " Data(x=[26, 30], edge_index=[2, 56], edge_attr=[56, 11], smiles='O=C(CN1C(CCCO)=NC2=CC=CC=C21)NCCC1=CC=C(Cl)C=C1', y=2.9735000000000014),\n",
              " Data(x=[22, 30], edge_index=[2, 46], edge_attr=[46, 11], smiles='CS(=O)(=O)NC1=CC=CC=C1C(=O)NC1=CC=CC(Cl)=C1Cl', y=3.6172000000000013),\n",
              " Data(x=[31, 30], edge_index=[2, 68], edge_attr=[68, 11], smiles='COCCCN1C(SCC(=O)NC2=CC=C(F)C=C2)=NC2=C(SC3=CC=CC=C32)C1=O', y=4.517600000000004),\n",
              " Data(x=[33, 30], edge_index=[2, 72], edge_attr=[72, 11], smiles='CC(C)N1CCNC(=O)C1CC(=O)NCC1=CC=CC(C2=NN(C)C=C2C2=CC=NC=C2)=C1', y=2.3642000000000003),\n",
              " Data(x=[32, 30], edge_index=[2, 68], edge_attr=[68, 11], smiles='COC1=CC=C(S(=O)(=O)N2CCOCC2)C=C1CCC(=O)NCCOC1=CC=CC(C)=C1', y=2.1523199999999996),\n",
              " Data(x=[27, 30], edge_index=[2, 60], edge_attr=[60, 11], smiles='CC1=CC=C(C2=CC(CNC(=O)N3CC4C(=O)N(C)C(=O)C4C3)=NO2)C=C1', y=1.4062199999999996),\n",
              " Data(x=[28, 30], edge_index=[2, 62], edge_attr=[62, 11], smiles='CN1C(SCC(=O)C2=CC=C(C3=CC=CC=C3)C=C2)=NN=C1C1=CC=NC=C1', y=4.5191000000000034),\n",
              " Data(x=[23, 30], edge_index=[2, 52], edge_attr=[52, 11], smiles='COC1=CC=C(C2CC(C3=CC=CC=C3)NC3=NN=NN32)C=C1', y=2.8280000000000003),\n",
              " Data(x=[30, 30], edge_index=[2, 66], edge_attr=[66, 11], smiles='CC1=C(C2=CC=CC=C2)C(=O)C2=CC=C(OC(C)C(=O)NCC3=CC=CO3)C=C2O1', y=4.445120000000003),\n",
              " Data(x=[31, 30], edge_index=[2, 68], edge_attr=[68, 11], smiles='O=C(CSC1=NS(=O)(=O)C2=CC=CC=C2N1CC1=CC=CC=C1)NC1=CC=CC=C1F', y=4.262500000000003),\n",
              " Data(x=[22, 30], edge_index=[2, 48], edge_attr=[48, 11], smiles='O=C(C1=CC=CC(Cl)=C1)N1CCCN(CC2=CN=C[NH]2)CC1', y=2.4112),\n",
              " Data(x=[19, 30], edge_index=[2, 40], edge_attr=[40, 11], smiles='CN(C(=O)CN)C1CC[NH+](CC2=CC=CC=C2)CC1', y=-0.34899999999999753),\n",
              " Data(x=[25, 30], edge_index=[2, 52], edge_attr=[52, 11], smiles='CC1=CC(NC(=O)C2=CC=CC=C2CC(C)C)=CC=C1C(=O)N(C)C', y=4.147620000000003),\n",
              " Data(x=[29, 30], edge_index=[2, 64], edge_attr=[64, 11], smiles='CC1=NN(CC(=O)N2CCCC2C2=CC=C(C(=O)N3CCOCC3)C=N2)C(C)=C1', y=1.7310399999999997),\n",
              " Data(x=[17, 30], edge_index=[2, 34], edge_attr=[34, 11], smiles='FC(F)OC1=CC(OC(F)(F)F)=CC(Cl)=C1Cl', y=4.4934),\n",
              " Data(x=[26, 30], edge_index=[2, 56], edge_attr=[56, 11], smiles='CC(=O)NC1=CC=CC2=C1C=CN2CC(=O)NC(CO)C1=CC=CC=C1', y=2.4495000000000005),\n",
              " Data(x=[32, 30], edge_index=[2, 68], edge_attr=[68, 11], smiles='C=CCN(CC1=CC=C(C(=O)NCCC2=CC=CC=C2)C=C1)S(=O)(=O)C1=CC=C(C)C=C1', y=4.344420000000004),\n",
              " Data(x=[27, 30], edge_index=[2, 60], edge_attr=[60, 11], smiles='O=C(NC(CO)C1=CC=CN=C1)C1=CC(CN2C=CC3=CC=CC=C32)=N[NH]1', y=2.2711),\n",
              " Data(x=[24, 30], edge_index=[2, 52], edge_attr=[52, 11], smiles='CC1=NOC(COC2CCCN(C(=O)C3=C(F)C=CC=C3F)C2)=N1', y=2.477620000000001),\n",
              " Data(x=[21, 30], edge_index=[2, 44], edge_attr=[44, 11], smiles='CC(=O)NC1=CC=C(SC2=CC=CC=C2CC(=O)O)C=C1', y=3.423300000000001),\n",
              " Data(x=[27, 30], edge_index=[2, 58], edge_attr=[58, 11], smiles='C[NH+](CC(=O)N(CC1=CC=NC=C1)CC1CCCO1)CC1=CC=C(F)C=C1', y=1.4432000000000003),\n",
              " Data(x=[23, 30], edge_index=[2, 50], edge_attr=[50, 11], smiles='COC1=CC=C(C(C)(O)C2CCC[NH+]2CC2=CC(C)=NO2)C=C1', y=1.4466199999999994),\n",
              " Data(x=[27, 30], edge_index=[2, 60], edge_attr=[60, 11], smiles='CCC1=NC=C(CN2CCC3(CC2)CC(C2=CC=CC=C2)C(=O)N3C)C=N1', y=3.0195000000000016),\n",
              " Data(x=[21, 30], edge_index=[2, 44], edge_attr=[44, 11], smiles='COC(=O)C(C)SCC1=NN=C(CC2=CC=CC=C2C)O1', y=2.7635200000000006),\n",
              " Data(x=[29, 30], edge_index=[2, 64], edge_attr=[64, 11], smiles='CC1=NC=CN1C1=CC=C(NC(=O)C2CCCN2C(=O)CCC2=CC=CO2)C=C1', y=3.336020000000002),\n",
              " Data(x=[33, 30], edge_index=[2, 72], edge_attr=[72, 11], smiles='CCOC1=CC(C[NH+]2CCC3(CC2)CC3C(=O)NCC2=CC=CC(C(F)(F)F)=C2)=CC=C1O', y=3.311100000000003),\n",
              " Data(x=[27, 30], edge_index=[2, 58], edge_attr=[58, 11], smiles='CSC1=CC=CC(CNC(=O)N2CCCN(CC3=CC=C(F)C=C3)CC2)=C1', y=3.965100000000003),\n",
              " Data(x=[24, 30], edge_index=[2, 50], edge_attr=[50, 11], smiles='CC1=N[NH]C(C)=C1CCC[NH+](C)C1CCN(C(=O)OC(C)C)CC1', y=1.4832400000000006),\n",
              " Data(x=[23, 30], edge_index=[2, 50], edge_attr=[50, 11], smiles='COC1=CC=CC(C2=CN=C(NCC3=CC=CC(Cl)=C3)N2C)=C1', y=4.361200000000004),\n",
              " Data(x=[18, 30], edge_index=[2, 38], edge_attr=[38, 11], smiles='O=C(NC1=CC=C(F)C(F)=C1)C1=CC=CC(F)=C1', y=3.356200000000001),\n",
              " Data(x=[27, 30], edge_index=[2, 60], edge_attr=[60, 11], smiles='CC1CCN(C(=O)C(C)N2N=NC(C3=CC=CC=C3)=N2)C(C2=CC=CO2)C1', y=3.4939000000000027),\n",
              " Data(x=[26, 30], edge_index=[2, 58], edge_attr=[58, 11], smiles='CC1=C(C)OC(C[NH+]2CCC3(CC2)CC(CN2CCC(F)(F)CC2)O3)=C1', y=2.33394),\n",
              " Data(x=[31, 30], edge_index=[2, 66], edge_attr=[66, 11], smiles='COC(=O)C1=CC=CC(NC(=O)C2CCCN(S(=O)(=O)CCCC3=CC=CC=C3)C2)=C1', y=3.0863000000000014),\n",
              " Data(x=[33, 30], edge_index=[2, 74], edge_attr=[74, 11], smiles='CCC1=NN2C(=C1C1=CC=CC=C1)N=CC1=C2C=CN(C(CC2=CC=CC=C2)C(=O)O)C1=O', y=4.142000000000003),\n",
              " Data(x=[27, 30], edge_index=[2, 62], edge_attr=[62, 11], smiles='CC1CC2=CC(Br)=CC=C2N1C(=O)C1=CN=C2SC3=C(CCCC3)N2C1=O', y=3.9887000000000024),\n",
              " Data(x=[25, 30], edge_index=[2, 56], edge_attr=[56, 11], smiles='CC1=CC=C(N2N=CC3=C2N=CN(CC2=CC=CC=C2)C3=O)C(C)=C1', y=3.247340000000002),\n",
              " Data(x=[29, 30], edge_index=[2, 64], edge_attr=[64, 11], smiles='CC1CC2=CC(S(N)(=O)=O)=CC=C2N1C(=O)CN1CC=C(C2=CC=CC=C2)CC1', y=2.4009),\n",
              " Data(x=[30, 30], edge_index=[2, 66], edge_attr=[66, 11], smiles='CCCN1C(=O)NC(=CC2=CN(CC3=CC=CC(C(=O)O)=C3)C3=CC=CC=C23)C1=O', y=3.690500000000003),\n",
              " Data(x=[23, 30], edge_index=[2, 52], edge_attr=[52, 11], smiles='C1=CC=C(N2C=CC(C[NH+]3CCCC3CN3C=NC=N3)=N2)C=C1', y=0.7112999999999994),\n",
              " Data(x=[16, 30], edge_index=[2, 34], edge_attr=[34, 11], smiles='[NH3+]CC(C1=CC=CC(F)=C1)N1CCOCC1', y=0.44089999999999985),\n",
              " Data(x=[28, 30], edge_index=[2, 60], edge_attr=[60, 11], smiles='CC1=CC=C(F)C=C1NC(=O)CN1C(C2=CC=CC=C2)=NC=C(C(N)=O)C1=O', y=2.095419999999999),\n",
              " Data(x=[28, 30], edge_index=[2, 60], edge_attr=[60, 11], smiles='CC1=CC=C(C(C)C)C(OCC(O)CN2C=NC3=C2C(=O)N(C)C(=O)N3C)=C1', y=1.3054199999999996),\n",
              " Data(x=[23, 30], edge_index=[2, 52], edge_attr=[52, 11], smiles='CC1=CC=CC(C2CC(C3=CC=CC=C3Cl)NC3=NC=NN32)=C1', y=4.3862200000000025),\n",
              " Data(x=[25, 30], edge_index=[2, 54], edge_attr=[54, 11], smiles='CCC1=CC2=CC(C)=C(C)C=C2N=C1SCC(=O)NC1=NOC(C)=C1', y=4.441260000000003),\n",
              " Data(x=[19, 30], edge_index=[2, 40], edge_attr=[40, 11], smiles='CC1=C(C([NH2+]CC(C)C)C(=O)O)C2=CC=CC=C2[NH]1', y=1.8214199999999992),\n",
              " Data(x=[23, 30], edge_index=[2, 50], edge_attr=[50, 11], smiles='CCC(C)N1C(SCC(=O)NC2CC2)=NC2=CC=CC=C2C1=O', y=2.738200000000001),\n",
              " Data(x=[23, 30], edge_index=[2, 50], edge_attr=[50, 11], smiles='COC1=CC=CC(C2CC(O)C[NH+]2CC2=CC=CC(C#N)=C2)=C1', y=1.4576799999999996),\n",
              " ...]"
            ]
          },
          "metadata": {},
          "execution_count": 7
        }
      ]
    },
    {
      "cell_type": "code",
      "source": [
        "train_size = int(len(data_list) * 9.5 // 10)\n",
        "val_size = (len(data_list)-train_size)//2\n",
        "print(train_size, val_size)"
      ],
      "metadata": {
        "colab": {
          "base_uri": "https://localhost:8080/"
        },
        "id": "vDQEqleOdSfj",
        "outputId": "f0cfc3ba-e9ea-463f-dea5-81539159a111"
      },
      "execution_count": null,
      "outputs": [
        {
          "output_type": "stream",
          "name": "stdout",
          "text": [
            "95000 2500\n"
          ]
        }
      ]
    },
    {
      "cell_type": "code",
      "execution_count": null,
      "metadata": {
        "colab": {
          "base_uri": "https://localhost:8080/"
        },
        "id": "XYTWrzMALJpw",
        "outputId": "14a73b37-017a-4167-c142-5b69f7dc1853"
      },
      "outputs": [
        {
          "output_type": "stream",
          "name": "stdout",
          "text": [
            "95000 2500 2500\n"
          ]
        }
      ],
      "source": [
        "random.seed(52)\n",
        "random.shuffle(data_list)\n",
        "\n",
        "TRAIN_SET, VAL_SET, TEST_SET = data_list[:train_size], data_list[train_size:train_size+val_size], data_list[train_size+val_size:]\n",
        "print(len(TRAIN_SET), len(VAL_SET), len(TEST_SET))"
      ]
    },
    {
      "cell_type": "code",
      "execution_count": null,
      "metadata": {
        "id": "6AQaniXS2tLQ"
      },
      "outputs": [],
      "source": [
        "# coefficient z를 학습해서, z와 1-z의 비율로 섞어주는 것.\n",
        "# z : x와 f(x)의 중요도를 학습하여 더 중요한 값의 비중을 나타냄 (0~1)\n",
        "class GatedSkipConnection(nn.Module):\n",
        "\n",
        "    def __init__(self, in_dim, out_dim):\n",
        "        super(GatedSkipConnection, self).__init__()\n",
        "\n",
        "        self.in_dim = in_dim\n",
        "        self.out_dim = out_dim\n",
        "\n",
        "        self.linear = nn.Linear(in_dim, out_dim, bias=False)\n",
        "        self.linear_coef_in = nn.Linear(out_dim, out_dim)\n",
        "        self.linear_coef_out = nn.Linear(out_dim, out_dim)\n",
        "        self.sigmoid = nn.Sigmoid()\n",
        "\n",
        "    def forward(self, in_x, out_x):\n",
        "        if (self.in_dim != self.out_dim):\n",
        "            in_x = self.linear(in_x)\n",
        "        # z : 0 ~ 1 사이의 값\n",
        "        z = self.gate_coefficient(in_x, out_x)\n",
        "        out = torch.mul(z, out_x) + torch.mul(1.0-z, in_x)\n",
        "        return out\n",
        "\n",
        "    def gate_coefficient(self, in_x, out_x):\n",
        "        x1 = self.linear_coef_in(in_x)\n",
        "        x2 = self.linear_coef_out(out_x)\n",
        "        return self.sigmoid(x1+x2)\n",
        "\n",
        "\n",
        "# https://pytorch-geometric.readthedocs.io/en/latest/modules/nn.html\n",
        "class GraphAttention(torch.nn.Module) :\n",
        "    def __init__(self, n_layer, in_dim, hidden_dim, out_dim, n_head, act=None, use_bn=True) :\n",
        "        super(GraphAttention, self).__init__()\n",
        "\n",
        "        self.gat_layers = nn.ModuleList()\n",
        "        self.bn_layers = nn.ModuleList()\n",
        "        self.act = act\n",
        "        self.use_bn = use_bn\n",
        "\n",
        "        for i in range(n_layer) :\n",
        "            self.gat_layers.append(GATConv(\n",
        "                                        in_dim if i==0 else hidden_dim,\n",
        "                                        out_dim if i==n_layer-1 else hidden_dim,\n",
        "                                        n_head=n_head\n",
        "                                        ))\n",
        "\n",
        "            self.bn_layers.append(nn.BatchNorm1d(out_dim if i==n_layer-1 else hidden_dim))\n",
        "\n",
        "    def forward(self, x, edge_index, edge_attr) :\n",
        "        for (gat_layer, bn_layer) in zip(self.gat_layers, self.bn_layers) :\n",
        "            x = gat_layer(x, edge_index, edge_attr)\n",
        "\n",
        "            if self.use_bn :\n",
        "                x = bn_layer(x)\n",
        "\n",
        "            if self.act != None :\n",
        "                x = self.act(x)\n",
        "\n",
        "        return x\n",
        "\n",
        "class ReadOut(nn.Module) :\n",
        "    def __init__(self, in_dim, out_dim, act=None) :\n",
        "        super(ReadOut, self).__init__()\n",
        "\n",
        "        self.in_dim = in_dim\n",
        "        self.out_dim = out_dim\n",
        "\n",
        "        self.linear = nn.Linear(self.in_dim, self.out_dim)\n",
        "        self.readout = nn.Linear(self.out_dim, 1)\n",
        "        self.act = act\n",
        "\n",
        "    def forward(self, x, batch) :\n",
        "        # global_mean_pool : 전체의 node feature의 평균값을 취함( [batch_size, hidden_channels] )\n",
        "        x = global_mean_pool(x, batch)\n",
        "        x = self.linear(x)\n",
        "        if self.act != None :\n",
        "            x = self.act(x)\n",
        "        x = self.readout(x)\n",
        "        return x\n",
        "\n",
        "\n",
        "class GCNNet(nn.Module) :\n",
        "    def __init__(self, args) :\n",
        "        super(GCNNet, self).__init__()\n",
        "\n",
        "        self.gat_blocks = nn.ModuleList()\n",
        "        self.gsc_blocks = nn.ModuleList()\n",
        "\n",
        "        for i in range(args['n_block']) :\n",
        "            self.gat_blocks.append(GraphAttention(\n",
        "                                        n_layer = args['n_layer'],\n",
        "                                        in_dim = args['in_dim'] if i==0 else args['hidden_dim'],\n",
        "                                        hidden_dim = args['hidden_dim'],\n",
        "                                        out_dim = args['hidden_dim'],\n",
        "                                        n_head = args['n_head'],\n",
        "                                        act = ACTIVE_FUNCTION[args['gat_act']] if args.get('gat_act') != None else None,\n",
        "                                        use_bn = args['use_bn'],\n",
        "                                    ))\n",
        "\n",
        "            self.gsc_blocks.append(GatedSkipConnection(\n",
        "                                                        in_dim = args['in_dim'] if i==0 else args['hidden_dim'],\n",
        "                                                        out_dim = args['hidden_dim']\n",
        "                                    ))\n",
        "\n",
        "        self.readout = ReadOut(\n",
        "            in_dim = args['hidden_dim'],\n",
        "            out_dim = args['out_dim'],\n",
        "            act = ACTIVE_FUNCTION[args['readout_act']] if args.get('readout_act') != None else None\n",
        "        )\n",
        "\n",
        "        self.act = ACTIVE_FUNCTION[args['gcnnet_act']] if args.get('gcnnet_act') != None else None\n",
        "        self.sc = args['sc']\n",
        "\n",
        "    def forward(self, data) :\n",
        "        x, edge_index, edge_attr, batch, edge_weight = data.x, data.edge_index, data.edge_attr, data.batch, data.edge_weight\n",
        "        for (gat_block, gsc_block) in zip(self.gat_blocks, self.gsc_blocks) :\n",
        "            tmp = x\n",
        "            x = gat_block(x, edge_index, edge_attr)\n",
        "\n",
        "            if self.sc == 'gsc' :\n",
        "                x = gsc_block(tmp, x)\n",
        "\n",
        "            if self.act != None :\n",
        "                x = self.act(x)\n",
        "\n",
        "        x = self.readout(x, batch)\n",
        "\n",
        "        return x"
      ]
    },
    {
      "cell_type": "code",
      "source": [
        "# 하나의 epoch에 대한 train 및 validation\n",
        "def run_train(model, train_dataloader, val_dataloader, loss_fn, optimizer, device) :\n",
        "    epoch_train_loss = 0\n",
        "    epoch_val_loss = 0\n",
        "\n",
        "    # train\n",
        "    model.train()\n",
        "    for batch in train_dataloader :\n",
        "        optimizer.zero_grad()\n",
        "\n",
        "        X = batch.to(device)\n",
        "        y = batch.y.view(-1, 1)\n",
        "        pred = model(X)\n",
        "        train_loss = loss_fn(pred, y)\n",
        "\n",
        "        train_loss.backward()\n",
        "        clip_grad_norm_(model.parameters(), 0.9)\n",
        "\n",
        "        optimizer.step()\n",
        "\n",
        "        epoch_train_loss += train_loss.item()\n",
        "\n",
        "    # val\n",
        "    model.eval()\n",
        "    with torch.no_grad() :\n",
        "        for batch in val_dataloader :\n",
        "            X = batch.to(device)\n",
        "            y = batch.y.view(-1, 1)\n",
        "\n",
        "            pred = model(X)\n",
        "            val_loss = loss_fn(pred, y)\n",
        "\n",
        "            epoch_val_loss += val_loss.item()\n",
        "\n",
        "    epoch_train_loss /= len(train_dataloader)\n",
        "    epoch_val_loss /= len(val_dataloader)\n",
        "\n",
        "    return epoch_train_loss, epoch_val_loss"
      ],
      "metadata": {
        "id": "9x6TGXAe1Hep"
      },
      "execution_count": null,
      "outputs": []
    },
    {
      "cell_type": "code",
      "source": [
        "# 하이퍼파라미터 최적화를 위해 wandb sweep을 설정 및 실행하는 클래스\n",
        "class SweepSetting() :\n",
        "    def __init__(self, sweep_setting, name) :\n",
        "        wandb_api = wandb.Api()\n",
        "        sweep_setting['name'] = name\n",
        "\n",
        "        self.device = DEFAULT_PARAMS['device']\n",
        "        self.sweep_id = wandb.sweep(sweep=sweep_setting, project=SWEEP_PROJECT)\n",
        "        self.count = sweep_setting['count']\n",
        "        self.sweep_output = None\n",
        "        self.best_run = None\n",
        "\n",
        "    def copy_params(self, run) :\n",
        "        params = copy.copy(OPT_PARAMS)\n",
        "        args = run.config\n",
        "\n",
        "        def load_config(elem) :\n",
        "            if args.get(elem) :\n",
        "                return args[elem]\n",
        "            else :\n",
        "                return params[elem]\n",
        "\n",
        "        for key, value in params.items() :\n",
        "            params[key] = load_config(key)\n",
        "            if key == 'gat_act' :\n",
        "                params['readout_act'] = load_config(key)\n",
        "                params['gcnnet_act'] = load_config(key)\n",
        "\n",
        "        return params\n",
        "\n",
        "    # hyperparameter를 sweep 설정에 따라 변경해가며 최적화된 hyperparameter value를 산출하는 메소드\n",
        "    def sweep_callback(self) :\n",
        "        with wandb.init() as run :\n",
        "            params = self.copy_params(run)\n",
        "            print(f'params : {params}')\n",
        "\n",
        "            train_dataloader = DataLoader(TRAIN_SET, batch_size=params['batch_size'], shuffle=False, drop_last = True)\n",
        "            val_dataloader = DataLoader(VAL_SET, batch_size=params['batch_size'], shuffle=False, drop_last = True)\n",
        "\n",
        "            model = GCNNet(params).to(self.device)\n",
        "\n",
        "            optimizer = torch.optim.Adam(model.parameters(), lr=params['learning_rate'])\n",
        "            criterion = torch.nn.MSELoss()\n",
        "            scheduler = ReduceLROnPlateau(optimizer, factor=params['schd_factor'], patience=params['schd_patience'], min_lr=params['schd_min_lr'])\n",
        "\n",
        "            epochs = params['epochs']\n",
        "\n",
        "            for epoch in tqdm(range(1, epochs + 1)) :\n",
        "                train_loss, val_loss = run_train(model, train_dataloader, val_dataloader, criterion, optimizer, self.device)\n",
        "\n",
        "                wandb.log({'epoch': epoch, 'train_loss': train_loss, 'val_loss': val_loss})\n",
        "\n",
        "                if params['use_scheduler'] :\n",
        "                    scheduler.step(val_loss)\n",
        "\n",
        "        wandb.finish()\n",
        "        print('='*150)\n",
        "\n",
        "    # 스윕 실행\n",
        "    def start_agent(self) :\n",
        "        wandb.agent(self.sweep_id, project=SWEEP_PROJECT, function=self.sweep_callback, count=self.count)\n",
        "\n",
        "    # 스윕 결과로부터 최적화된 hyperparameter 반환\n",
        "    def get_best_params(self) :\n",
        "        wandb_api = wandb.Api()\n",
        "        self.sweep_output = wandb_api.sweep(f'{ENTITY}/{SWEEP_PROJECT}/{self.sweep_id}')\n",
        "        self.best_run = sorted(self.sweep_output.runs, key=lambda r: r.summary.get('val_loss', float('inf')))[0]\n",
        "\n",
        "        temp = json.loads(self.best_run.json_config)\n",
        "        best_params = copy.copy(OPT_PARAMS)\n",
        "\n",
        "        for key, value in temp.items() :\n",
        "            if key == 'gat_act' :\n",
        "                best_params['gat_act'] = temp['gat_act']['value']\n",
        "                best_params['readout_act'] = temp['gat_act']['value']\n",
        "                best_params['gcnnet_act'] = temp['gat_act']['value']\n",
        "\n",
        "            elif key == 'readout_act' or key == 'gcnnet_act' :\n",
        "                continue\n",
        "\n",
        "            else :\n",
        "                best_params[key] = temp[key]['value']\n",
        "\n",
        "        return best_params"
      ],
      "metadata": {
        "id": "5Sy8tKkZ1Kla"
      },
      "execution_count": null,
      "outputs": []
    },
    {
      "cell_type": "code",
      "execution_count": null,
      "metadata": {
        "id": "LGhEmnbM4LM1"
      },
      "outputs": [],
      "source": [
        "# 모델의 학습, 테스트, 파라미터 계산 및 저장, wandb artifact로부터 모델 불러오기를 수행하는 클래스\n",
        "class Trial() :\n",
        "    def __init__(self, model, loss_fn, optimizer, params, use_wb, scheduler=None) :\n",
        "        self.device = params['device']\n",
        "        self.model = model\n",
        "        self.loss_fn = loss_fn\n",
        "        self.optimizer = optimizer\n",
        "        self.scheduler = scheduler\n",
        "        self.params = params\n",
        "        self.use_wb = use_wb\n",
        "        self.model_path = '/content/drive/MyDrive/Colab Notebooks/Python/Portfolio/model/'\n",
        "        self.run = None\n",
        "        self.report = None\n",
        "\n",
        "    # Wandb 세션 초기화\n",
        "    def wandb_init(self) :\n",
        "        if self.use_wb :\n",
        "            wandb.finish()\n",
        "\n",
        "            wandb_api = wandb.Api()\n",
        "            api_runs = wandb_api.runs(f'{ENTITY}/{TRAIN_PROJECT}')\n",
        "            run = wandb.init(project=TRAIN_PROJECT, name=f\"trial_{len(api_runs)+1}\")\n",
        "            report = wandb_api.run(f'{ENTITY}/{TRAIN_PROJECT}/{run.id}')\n",
        "\n",
        "            self.run, self.report = run, report\n",
        "\n",
        "    # 입력한 run_id에 해당하는 실행 정보를 불러옴\n",
        "    def wandb_load_run(self, run_id) :\n",
        "        if self.use_wb :\n",
        "            wandb_api = wandb.Api()\n",
        "            run = wandb.init(project=TRAIN_PROJECT, id=run_id, resume=True)\n",
        "            report = wandb_api.run(f'{ENTITY}/{TRAIN_PROJECT}/{run.id}')\n",
        "\n",
        "            self.run, self.report = run, report\n",
        "\n",
        "    # 모델의 학습, 최적화된 모델을 wandb 서버에 저장하는 메소드\n",
        "    def train(self, train_dataloader, val_dataloader) :\n",
        "\n",
        "        self.wandb_init()\n",
        "        epochs = self.params['epochs']\n",
        "        period = self.params['period']\n",
        "        train_loss_list = []\n",
        "        val_loss_list = []\n",
        "\n",
        "        today = datetime.now()\n",
        "        date_str = today.strftime('%y%m%d')\n",
        "        best_model_name = f'{TRAIN_PROJECT}_best_model_{date_str}.pth'\n",
        "\n",
        "        # 가장 낮은 validation loss값을 기준으로 모델의 파라미터 저장\n",
        "        best_val_loss = float('inf')\n",
        "\n",
        "        for epoch in tqdm(range(1, epochs + 1)) :\n",
        "            epoch_train_loss, epoch_val_loss = run_train(self.model, train_dataloader, val_dataloader, self.loss_fn, self.optimizer, self.device )\n",
        "\n",
        "            train_loss_list.append(epoch_train_loss)\n",
        "            val_loss_list.append(epoch_val_loss)\n",
        "\n",
        "            if self.params['use_scheduler'] and self.scheduler != None :\n",
        "                self.scheduler.step(epoch_val_loss)\n",
        "\n",
        "            if self.use_wb :\n",
        "                self.run.log({'epoch': epoch, 'train_loss': epoch_train_loss, 'val_loss': epoch_val_loss})\n",
        "\n",
        "                if epoch_val_loss < best_val_loss :\n",
        "                    best_val_loss = epoch_val_loss\n",
        "                    torch.save({\n",
        "                    'epoch': epoch,\n",
        "                    'model_state_dict': self.model.state_dict(),\n",
        "                    'optimizer_state_dict': self.optimizer.state_dict(),\n",
        "                    'loss': epoch_val_loss,\n",
        "                    }, f'{self.model_path}{best_model_name}')\n",
        "\n",
        "            if epoch == 1 or epoch % period == 0 :\n",
        "                print(f'{\"epoch\":>12} {epoch:<4} / {epochs:>4}  {\"[train_loss :\":>15} {epoch_train_loss:.5f}] {\"[val_loss :\":>12} {epoch_val_loss:.5f}] {\"[lr :\":>8} {self.optimizer.param_groups[0][\"lr\"]:.8f}]')\n",
        "\n",
        "        return train_loss_list, val_loss_list\n",
        "\n",
        "    # 학습된 모델을 테스트하는 메소드\n",
        "    def test(self, test_dataloader) :\n",
        "\n",
        "        self.model.eval()\n",
        "        with torch.no_grad() :\n",
        "            batch = next(iter(test_dataloader))\n",
        "            X = batch.to(self.device)\n",
        "            y = batch.y.view(-1, 1)\n",
        "\n",
        "            pred = self.model(X)\n",
        "            test_loss = self.loss_fn(pred, y)\n",
        "\n",
        "            pred = pred.detach().cpu().numpy()\n",
        "            y = y.detach().cpu().numpy()\n",
        "\n",
        "        if self.use_wb :\n",
        "            wandb_api = wandb.Api()\n",
        "            self.run.summary['test_loss'] = test_loss\n",
        "            self.run.summary['y'] = y\n",
        "            self.run.summary['pred'] = pred\n",
        "\n",
        "            self.report = wandb_api.run(f'{ENTITY}/{TRAIN_PROJECT}/{self.run.id}')\n",
        "\n",
        "        return test_loss, y, pred\n",
        "\n",
        "    def count_parameters(self) :\n",
        "        table = PrettyTable(['Modules', 'Parameters'])\n",
        "        total_params = 0\n",
        "\n",
        "        for name, parameter in self.model.named_parameters() :\n",
        "            if not parameter.requires_grad :\n",
        "                continue\n",
        "\n",
        "            param = parameter.numel()\n",
        "            table.add_row([name, param])\n",
        "            total_params += param\n",
        "\n",
        "        print(table)\n",
        "        print(f'Total Trainable Params : {total_params}')\n",
        "        return total_params\n",
        "\n",
        "    def upload(self, best_model_name) :\n",
        "\n",
        "        if self.use_wb :\n",
        "            wandb_api = wandb.Api()\n",
        "            self.report = wandb_api.run(f'{ENTITY}/{TRAIN_PROJECT}/{self.run.id}')\n",
        "\n",
        "            artifact = wandb.Artifact(best_model_name, type='model')\n",
        "            artifact.add_file(f'{self.model_path}{best_model_name}')\n",
        "\n",
        "            self.run.log_artifact(artifact)\n",
        "\n",
        "    # wandb에 저장한 모델의 파라미터를 불러오는 메소드.\n",
        "    def load_model(self, file_name, from_wandb=False) :\n",
        "        if from_wandb :\n",
        "            model_name = (file_name.split('/')[-1]).split(':')[0]\n",
        "\n",
        "            artifact = self.run.use_artifact(file_name, type='model')\n",
        "            artifact_dir = artifact.download()\n",
        "            artifact_state_dict = torch.load(os.path.join(artifact_dir, model_name))\n",
        "\n",
        "        else :\n",
        "            artifact_state_dict = torch.load(f'{self.model_path}{file_name}')\n",
        "\n",
        "        self.model = GCNNet(self.params)\n",
        "        self.model.load_state_dict(artifact_state_dict['model_state_dict'])\n",
        "        self.model.to(self.device)\n",
        "\n",
        "        self.optimizer = torch.optim.Adam(self.model.parameters(), lr=self.params['learning_rate'])\n",
        "        self.optimizer.load_state_dict(artifact_state_dict['optimizer_state_dict'])"
      ]
    },
    {
      "cell_type": "code",
      "execution_count": null,
      "metadata": {
        "id": "c_Q2Dp7yV3zU"
      },
      "outputs": [],
      "source": [
        "\n",
        "# 해당 실행의 train_loss와 val_loss를 비교하는 그래프 출력\n",
        "def loss_graph(train_loss_list, val_loss_list) :\n",
        "    epoch_range = range(len(val_loss_list))\n",
        "    plt.plot(epoch_range, train_loss_list, label='Train Loss')\n",
        "    plt.plot(epoch_range, val_loss_list, label='Val Loss')\n",
        "\n",
        "    plt.title('Loss Curves')\n",
        "    plt.ylabel('Loss')\n",
        "    plt.xlabel('Epochs')\n",
        "    plt.legend()\n",
        "\n",
        "# 계산 값과 모델의 예측값을 산점도로 비교하는 그래프 출력\n",
        "def plot_prediction(y_list, pred_list) :\n",
        "    result = y_list.reshape(-1)\n",
        "    prediction = pred_list.reshape(-1)\n",
        "\n",
        "    print(np.corrcoef(result, prediction))\n",
        "\n",
        "    plt.figure(figsize=(6,6))\n",
        "    plt.scatter(result, prediction, marker = '.')\n",
        "    plt.plot(range(-10, 10), range(-10, 10), 'r--')\n",
        "    plt.xlabel(\"logP\", fontsize='xx-large')\n",
        "    plt.ylabel(\"Prediction\", fontsize='xx-large')\n",
        "    plt.xlim(-3, 6)\n",
        "    plt.ylim(-3, 6)"
      ]
    },
    {
      "cell_type": "code",
      "source": [
        "OPT_PARAMS = copy.copy(DEFAULT_PARAMS)"
      ],
      "metadata": {
        "id": "LJGAe5T-NycF"
      },
      "execution_count": null,
      "outputs": []
    },
    {
      "cell_type": "markdown",
      "source": [
        "# Run Sweep"
      ],
      "metadata": {
        "id": "ZB0RaHS_w4EU"
      }
    },
    {
      "cell_type": "code",
      "execution_count": null,
      "metadata": {
        "colab": {
          "base_uri": "https://localhost:8080/"
        },
        "id": "aWhF1xWdO_Jq",
        "outputId": "612a5d48-a406-4205-b63a-32b7e4c51153"
      },
      "outputs": [
        {
          "output_type": "stream",
          "name": "stderr",
          "text": [
            "\u001b[34m\u001b[1mwandb\u001b[0m: W&B API key is configured. Use \u001b[1m`wandb login --relogin`\u001b[0m to force relogin\n",
            "\u001b[34m\u001b[1mwandb\u001b[0m: \u001b[33mWARNING\u001b[0m If you're specifying your api key in code, ensure this code is not shared publicly.\n",
            "\u001b[34m\u001b[1mwandb\u001b[0m: \u001b[33mWARNING\u001b[0m Consider setting the WANDB_API_KEY environment variable, or running `wandb login` from the command line.\n",
            "\u001b[34m\u001b[1mwandb\u001b[0m: Appending key for api.wandb.ai to your netrc file: /root/.netrc\n"
          ]
        }
      ],
      "source": [
        "dir_path = '/content/drive/MyDrive/Colab Notebooks/jsons/'\n",
        "login_file_name = 'wandb.json'\n",
        "login_file_path = os.path.join(dir_path, login_file_name)\n",
        "\n",
        "with open(login_file_path, 'r') as f :\n",
        "    json_wandb = json.load(f)\n",
        "\n",
        "wandb.login(key=json_wandb['key'])\n",
        "time.sleep(5)"
      ]
    },
    {
      "cell_type": "code",
      "execution_count": null,
      "metadata": {
        "id": "zUDXxl1aItl3",
        "colab": {
          "base_uri": "https://localhost:8080/"
        },
        "outputId": "52b83374-dfe4-4801-d69b-4959cbc4f94b"
      },
      "outputs": [
        {
          "output_type": "stream",
          "name": "stdout",
          "text": [
            "['1_bn_sc.yaml', '2_activation_function.yaml', '3_trans_dims.yaml', '4_learning_rate.yaml']\n"
          ]
        }
      ],
      "source": [
        "# List all files in the directory\n",
        "yaml_files = sorted(os.listdir(os.path.join(dir_path, 'GCN_LOGP')))\n",
        "list_sweep = []\n",
        "print(yaml_files)"
      ]
    },
    {
      "cell_type": "code",
      "execution_count": null,
      "metadata": {
        "colab": {
          "base_uri": "https://localhost:8080/",
          "height": 1000,
          "referenced_widgets": [
            "6d4469e4f2fc4dbf926fd14b2ec5d899",
            "c484b8a5951440c690d589f23814c25c",
            "1181f3af169549cf849b3881137ad340",
            "a13d81e1eb9b43e088d44c69aa9da710",
            "e47772777f5c4fe49ab0ebbd868f5860",
            "a914dbe2bbfe478fbce9b9b3399cdc12",
            "6ad5edbaebf8499daa9d1af3d87a3959",
            "a493cc3d9b434f4b90c0a82f83510c92",
            "8efa1104c2cc40d39933e5c0635b14aa",
            "86b4022b1c984dcfbc07286a7a96038e",
            "b44a3d3903ed4ee9b34d08b97f520733",
            "e59ad38404fc4476a3d5b036a7751e8a",
            "fa67028a39d04bd9bc003f6364618526",
            "7567b523801249ce8ca4a3c40fbb85d2",
            "33b91c8847744abcb89330d803c576cf",
            "d1d419aacbb64d52ae65a98d09b9c333",
            "11c30a72f52f44abad216eff5ba4d816",
            "dbdc10f0167f4f1581ad3363ba010282",
            "f9ecd9c04ede49daa21b86a126e5faad",
            "dc2c9ad35b4e4c75bb36a2b318c9997c",
            "d606ff930c51425e9eb031eb75bf151d",
            "addb05c9ace94338bca7808f3ab70f55",
            "a464faefb6e842708efc162224ebc0f7",
            "4f6c2294e04c45f48e08500db5569e94",
            "afd71cd513a74453b719142b280bcd11",
            "1d0467a44e8a4001a87727acb8563395",
            "744205305ca0430ca8f50372b22653a8",
            "90dad7cdc4074f8b8141713fa53d8c52",
            "6b8edde1044040faaeaaf8720853b2e8",
            "629d783f19054fb49a702a45461870dd",
            "872877894c714040ac70b8596cb11ec5",
            "fdc08cb58fb741d49854dd13917c06ca"
          ]
        },
        "id": "JTwfXNTrWU8M",
        "outputId": "43948055-5366-47da-b2f9-3d65e9910c93"
      },
      "outputs": [
        {
          "output_type": "stream",
          "name": "stdout",
          "text": [
            "\n",
            "====================================================================== Condition 1 ======================================================================\n",
            "\n",
            "------------------------------------------------------------------------------------------------------------------------------------------------------\n"
          ]
        },
        {
          "output_type": "stream",
          "name": "stderr",
          "text": [
            "\u001b[34m\u001b[1mwandb\u001b[0m: \u001b[33mWARNING\u001b[0m Malformed sweep config detected! This may cause your sweep to behave in unexpected ways.\n",
            "\u001b[34m\u001b[1mwandb\u001b[0m: \u001b[33mWARNING\u001b[0m To avoid this, please fix the sweep config schema violations below:\n",
            "\u001b[34m\u001b[1mwandb\u001b[0m: \u001b[33mWARNING\u001b[0m   Violation 1. Additional properties are not allowed ('count' was unexpected)\n"
          ]
        },
        {
          "output_type": "stream",
          "name": "stdout",
          "text": [
            "Create sweep with ID: v5j1lhd9\n",
            "Sweep URL: https://wandb.ai/rossi22/GCN_LOGP_SWEEP/sweeps/v5j1lhd9\n"
          ]
        },
        {
          "output_type": "stream",
          "name": "stderr",
          "text": [
            "\u001b[34m\u001b[1mwandb\u001b[0m: Agent Starting Run: d71z4b4u with config:\n",
            "\u001b[34m\u001b[1mwandb\u001b[0m: \tsc: gsc\n",
            "\u001b[34m\u001b[1mwandb\u001b[0m: \tuse_bn: True\n",
            "\u001b[34m\u001b[1mwandb\u001b[0m: Currently logged in as: \u001b[33mrossi22\u001b[0m. Use \u001b[1m`wandb login --relogin`\u001b[0m to force relogin\n"
          ]
        },
        {
          "output_type": "display_data",
          "data": {
            "text/plain": [
              "<IPython.core.display.HTML object>"
            ],
            "text/html": [
              "Tracking run with wandb version 0.15.8"
            ]
          },
          "metadata": {}
        },
        {
          "output_type": "display_data",
          "data": {
            "text/plain": [
              "<IPython.core.display.HTML object>"
            ],
            "text/html": [
              "Run data is saved locally in <code>/content/wandb/run-20230809_100459-d71z4b4u</code>"
            ]
          },
          "metadata": {}
        },
        {
          "output_type": "display_data",
          "data": {
            "text/plain": [
              "<IPython.core.display.HTML object>"
            ],
            "text/html": [
              "Syncing run <strong><a href='https://wandb.ai/rossi22/GCN_LOGP_SWEEP/runs/d71z4b4u' target=\"_blank\">eager-sweep-1</a></strong> to <a href='https://wandb.ai/rossi22/GCN_LOGP_SWEEP' target=\"_blank\">Weights & Biases</a> (<a href='https://wandb.me/run' target=\"_blank\">docs</a>)<br/>Sweep page: <a href='https://wandb.ai/rossi22/GCN_LOGP_SWEEP/sweeps/v5j1lhd9' target=\"_blank\">https://wandb.ai/rossi22/GCN_LOGP_SWEEP/sweeps/v5j1lhd9</a>"
            ]
          },
          "metadata": {}
        },
        {
          "output_type": "display_data",
          "data": {
            "text/plain": [
              "<IPython.core.display.HTML object>"
            ],
            "text/html": [
              " View project at <a href='https://wandb.ai/rossi22/GCN_LOGP_SWEEP' target=\"_blank\">https://wandb.ai/rossi22/GCN_LOGP_SWEEP</a>"
            ]
          },
          "metadata": {}
        },
        {
          "output_type": "display_data",
          "data": {
            "text/plain": [
              "<IPython.core.display.HTML object>"
            ],
            "text/html": [
              " View sweep at <a href='https://wandb.ai/rossi22/GCN_LOGP_SWEEP/sweeps/v5j1lhd9' target=\"_blank\">https://wandb.ai/rossi22/GCN_LOGP_SWEEP/sweeps/v5j1lhd9</a>"
            ]
          },
          "metadata": {}
        },
        {
          "output_type": "display_data",
          "data": {
            "text/plain": [
              "<IPython.core.display.HTML object>"
            ],
            "text/html": [
              " View run at <a href='https://wandb.ai/rossi22/GCN_LOGP_SWEEP/runs/d71z4b4u' target=\"_blank\">https://wandb.ai/rossi22/GCN_LOGP_SWEEP/runs/d71z4b4u</a>"
            ]
          },
          "metadata": {}
        },
        {
          "output_type": "stream",
          "name": "stdout",
          "text": [
            "hparams : {'device': device(type='cuda', index=0), 'disable_rdkit_warnings': True, 'batch_size': 128, 'learning_rate': 0.001, 'epochs': 20, 'period': 1, 'n_block': 1, 'n_layer': 1, 'in_dim': 30, 'hidden_dim': 64, 'out_dim': 32, 'n_head': 1, 'use_bn': True, 'sc': 'gsc', 'gat_act': 'gelu', 'readout_act': 'gelu', 'gcnnet_act': 'gelu', 'use_scheduler': True, 'schd_factor': 0.5, 'schd_patience': 10, 'schd_min_lr': 5e-06, 'supported_atoms': {'C', 'P', 'O', 'Br', 'F', 'N', 'I', 'S', 'Cl'}}\n"
          ]
        },
        {
          "output_type": "stream",
          "name": "stderr",
          "text": [
            "100%|██████████| 20/20 [02:51<00:00,  8.60s/it]\n"
          ]
        },
        {
          "output_type": "display_data",
          "data": {
            "text/plain": [
              "<IPython.core.display.HTML object>"
            ],
            "text/html": [
              "Waiting for W&B process to finish... <strong style=\"color:green\">(success).</strong>"
            ]
          },
          "metadata": {}
        },
        {
          "output_type": "display_data",
          "data": {
            "text/plain": [
              "<IPython.core.display.HTML object>"
            ],
            "text/html": [
              "<style>\n",
              "    table.wandb td:nth-child(1) { padding: 0 10px; text-align: left ; width: auto;} td:nth-child(2) {text-align: left ; width: 100%}\n",
              "    .wandb-row { display: flex; flex-direction: row; flex-wrap: wrap; justify-content: flex-start; width: 100% }\n",
              "    .wandb-col { display: flex; flex-direction: column; flex-basis: 100%; flex: 1; padding: 10px; }\n",
              "    </style>\n",
              "<div class=\"wandb-row\"><div class=\"wandb-col\"><h3>Run history:</h3><br/><table class=\"wandb\"><tr><td>epoch</td><td>▁▁▂▂▂▃▃▄▄▄▅▅▅▆▆▇▇▇██</td></tr><tr><td>train_loss</td><td>█▂▂▂▂▂▂▂▁▁▁▁▁▁▁▁▁▁▁▁</td></tr><tr><td>val_loss</td><td>▆█▄▄▄▅▃▃▃▂▂▂▂▂▁▂▁▁▁▁</td></tr></table><br/></div><div class=\"wandb-col\"><h3>Run summary:</h3><br/><table class=\"wandb\"><tr><td>epoch</td><td>20</td></tr><tr><td>train_loss</td><td>0.12028</td></tr><tr><td>val_loss</td><td>0.13146</td></tr></table><br/></div></div>"
            ]
          },
          "metadata": {}
        },
        {
          "output_type": "display_data",
          "data": {
            "text/plain": [
              "<IPython.core.display.HTML object>"
            ],
            "text/html": [
              " View run <strong style=\"color:#cdcd00\">eager-sweep-1</strong> at: <a href='https://wandb.ai/rossi22/GCN_LOGP_SWEEP/runs/d71z4b4u' target=\"_blank\">https://wandb.ai/rossi22/GCN_LOGP_SWEEP/runs/d71z4b4u</a><br/>Synced 5 W&B file(s), 0 media file(s), 0 artifact file(s) and 0 other file(s)"
            ]
          },
          "metadata": {}
        },
        {
          "output_type": "display_data",
          "data": {
            "text/plain": [
              "<IPython.core.display.HTML object>"
            ],
            "text/html": [
              "Find logs at: <code>./wandb/run-20230809_100459-d71z4b4u/logs</code>"
            ]
          },
          "metadata": {}
        },
        {
          "output_type": "stream",
          "name": "stdout",
          "text": [
            "======================================================================================================================================================\n"
          ]
        },
        {
          "output_type": "stream",
          "name": "stderr",
          "text": [
            "\u001b[34m\u001b[1mwandb\u001b[0m: Agent Starting Run: lootyu5v with config:\n",
            "\u001b[34m\u001b[1mwandb\u001b[0m: \tsc: gsc\n",
            "\u001b[34m\u001b[1mwandb\u001b[0m: \tuse_bn: False\n"
          ]
        },
        {
          "output_type": "display_data",
          "data": {
            "text/plain": [
              "<IPython.core.display.HTML object>"
            ],
            "text/html": [
              "Tracking run with wandb version 0.15.8"
            ]
          },
          "metadata": {}
        },
        {
          "output_type": "display_data",
          "data": {
            "text/plain": [
              "<IPython.core.display.HTML object>"
            ],
            "text/html": [
              "Run data is saved locally in <code>/content/wandb/run-20230809_100816-lootyu5v</code>"
            ]
          },
          "metadata": {}
        },
        {
          "output_type": "display_data",
          "data": {
            "text/plain": [
              "<IPython.core.display.HTML object>"
            ],
            "text/html": [
              "Syncing run <strong><a href='https://wandb.ai/rossi22/GCN_LOGP_SWEEP/runs/lootyu5v' target=\"_blank\">wild-sweep-2</a></strong> to <a href='https://wandb.ai/rossi22/GCN_LOGP_SWEEP' target=\"_blank\">Weights & Biases</a> (<a href='https://wandb.me/run' target=\"_blank\">docs</a>)<br/>Sweep page: <a href='https://wandb.ai/rossi22/GCN_LOGP_SWEEP/sweeps/v5j1lhd9' target=\"_blank\">https://wandb.ai/rossi22/GCN_LOGP_SWEEP/sweeps/v5j1lhd9</a>"
            ]
          },
          "metadata": {}
        },
        {
          "output_type": "display_data",
          "data": {
            "text/plain": [
              "<IPython.core.display.HTML object>"
            ],
            "text/html": [
              " View project at <a href='https://wandb.ai/rossi22/GCN_LOGP_SWEEP' target=\"_blank\">https://wandb.ai/rossi22/GCN_LOGP_SWEEP</a>"
            ]
          },
          "metadata": {}
        },
        {
          "output_type": "display_data",
          "data": {
            "text/plain": [
              "<IPython.core.display.HTML object>"
            ],
            "text/html": [
              " View sweep at <a href='https://wandb.ai/rossi22/GCN_LOGP_SWEEP/sweeps/v5j1lhd9' target=\"_blank\">https://wandb.ai/rossi22/GCN_LOGP_SWEEP/sweeps/v5j1lhd9</a>"
            ]
          },
          "metadata": {}
        },
        {
          "output_type": "display_data",
          "data": {
            "text/plain": [
              "<IPython.core.display.HTML object>"
            ],
            "text/html": [
              " View run at <a href='https://wandb.ai/rossi22/GCN_LOGP_SWEEP/runs/lootyu5v' target=\"_blank\">https://wandb.ai/rossi22/GCN_LOGP_SWEEP/runs/lootyu5v</a>"
            ]
          },
          "metadata": {}
        },
        {
          "output_type": "stream",
          "name": "stdout",
          "text": [
            "hparams : {'device': device(type='cuda', index=0), 'disable_rdkit_warnings': True, 'batch_size': 128, 'learning_rate': 0.001, 'epochs': 20, 'period': 1, 'n_block': 1, 'n_layer': 1, 'in_dim': 30, 'hidden_dim': 64, 'out_dim': 32, 'n_head': 1, 'use_bn': False, 'sc': 'gsc', 'gat_act': 'gelu', 'readout_act': 'gelu', 'gcnnet_act': 'gelu', 'use_scheduler': True, 'schd_factor': 0.5, 'schd_patience': 10, 'schd_min_lr': 5e-06, 'supported_atoms': {'C', 'P', 'O', 'Br', 'F', 'N', 'I', 'S', 'Cl'}}\n"
          ]
        },
        {
          "output_type": "stream",
          "name": "stderr",
          "text": [
            "100%|██████████| 20/20 [02:46<00:00,  8.32s/it]\n"
          ]
        },
        {
          "output_type": "display_data",
          "data": {
            "text/plain": [
              "<IPython.core.display.HTML object>"
            ],
            "text/html": [
              "Waiting for W&B process to finish... <strong style=\"color:green\">(success).</strong>"
            ]
          },
          "metadata": {}
        },
        {
          "output_type": "display_data",
          "data": {
            "text/plain": [
              "<IPython.core.display.HTML object>"
            ],
            "text/html": [
              "<style>\n",
              "    table.wandb td:nth-child(1) { padding: 0 10px; text-align: left ; width: auto;} td:nth-child(2) {text-align: left ; width: 100%}\n",
              "    .wandb-row { display: flex; flex-direction: row; flex-wrap: wrap; justify-content: flex-start; width: 100% }\n",
              "    .wandb-col { display: flex; flex-direction: column; flex-basis: 100%; flex: 1; padding: 10px; }\n",
              "    </style>\n",
              "<div class=\"wandb-row\"><div class=\"wandb-col\"><h3>Run history:</h3><br/><table class=\"wandb\"><tr><td>epoch</td><td>▁▁▂▂▂▃▃▄▄▄▅▅▅▆▆▇▇▇██</td></tr><tr><td>train_loss</td><td>█▂▂▂▁▁▁▁▁▁▁▁▁▁▁▁▁▁▁▁</td></tr><tr><td>val_loss</td><td>█▆▇▅▅▄▃▃▃▂▂▂▂▂▁▁▂▁▁▁</td></tr></table><br/></div><div class=\"wandb-col\"><h3>Run summary:</h3><br/><table class=\"wandb\"><tr><td>epoch</td><td>20</td></tr><tr><td>train_loss</td><td>0.16419</td></tr><tr><td>val_loss</td><td>0.1705</td></tr></table><br/></div></div>"
            ]
          },
          "metadata": {}
        },
        {
          "output_type": "display_data",
          "data": {
            "text/plain": [
              "<IPython.core.display.HTML object>"
            ],
            "text/html": [
              " View run <strong style=\"color:#cdcd00\">wild-sweep-2</strong> at: <a href='https://wandb.ai/rossi22/GCN_LOGP_SWEEP/runs/lootyu5v' target=\"_blank\">https://wandb.ai/rossi22/GCN_LOGP_SWEEP/runs/lootyu5v</a><br/>Synced 5 W&B file(s), 0 media file(s), 0 artifact file(s) and 0 other file(s)"
            ]
          },
          "metadata": {}
        },
        {
          "output_type": "display_data",
          "data": {
            "text/plain": [
              "<IPython.core.display.HTML object>"
            ],
            "text/html": [
              "Find logs at: <code>./wandb/run-20230809_100816-lootyu5v/logs</code>"
            ]
          },
          "metadata": {}
        },
        {
          "output_type": "stream",
          "name": "stdout",
          "text": [
            "======================================================================================================================================================\n"
          ]
        },
        {
          "output_type": "stream",
          "name": "stderr",
          "text": [
            "\u001b[34m\u001b[1mwandb\u001b[0m: Agent Starting Run: xdkj5d0s with config:\n",
            "\u001b[34m\u001b[1mwandb\u001b[0m: \tsc: None\n",
            "\u001b[34m\u001b[1mwandb\u001b[0m: \tuse_bn: True\n"
          ]
        },
        {
          "output_type": "display_data",
          "data": {
            "text/plain": [
              "<IPython.core.display.HTML object>"
            ],
            "text/html": [
              "Tracking run with wandb version 0.15.8"
            ]
          },
          "metadata": {}
        },
        {
          "output_type": "display_data",
          "data": {
            "text/plain": [
              "<IPython.core.display.HTML object>"
            ],
            "text/html": [
              "Run data is saved locally in <code>/content/wandb/run-20230809_101126-xdkj5d0s</code>"
            ]
          },
          "metadata": {}
        },
        {
          "output_type": "display_data",
          "data": {
            "text/plain": [
              "<IPython.core.display.HTML object>"
            ],
            "text/html": [
              "Syncing run <strong><a href='https://wandb.ai/rossi22/GCN_LOGP_SWEEP/runs/xdkj5d0s' target=\"_blank\">dashing-sweep-3</a></strong> to <a href='https://wandb.ai/rossi22/GCN_LOGP_SWEEP' target=\"_blank\">Weights & Biases</a> (<a href='https://wandb.me/run' target=\"_blank\">docs</a>)<br/>Sweep page: <a href='https://wandb.ai/rossi22/GCN_LOGP_SWEEP/sweeps/v5j1lhd9' target=\"_blank\">https://wandb.ai/rossi22/GCN_LOGP_SWEEP/sweeps/v5j1lhd9</a>"
            ]
          },
          "metadata": {}
        },
        {
          "output_type": "display_data",
          "data": {
            "text/plain": [
              "<IPython.core.display.HTML object>"
            ],
            "text/html": [
              " View project at <a href='https://wandb.ai/rossi22/GCN_LOGP_SWEEP' target=\"_blank\">https://wandb.ai/rossi22/GCN_LOGP_SWEEP</a>"
            ]
          },
          "metadata": {}
        },
        {
          "output_type": "display_data",
          "data": {
            "text/plain": [
              "<IPython.core.display.HTML object>"
            ],
            "text/html": [
              " View sweep at <a href='https://wandb.ai/rossi22/GCN_LOGP_SWEEP/sweeps/v5j1lhd9' target=\"_blank\">https://wandb.ai/rossi22/GCN_LOGP_SWEEP/sweeps/v5j1lhd9</a>"
            ]
          },
          "metadata": {}
        },
        {
          "output_type": "display_data",
          "data": {
            "text/plain": [
              "<IPython.core.display.HTML object>"
            ],
            "text/html": [
              " View run at <a href='https://wandb.ai/rossi22/GCN_LOGP_SWEEP/runs/xdkj5d0s' target=\"_blank\">https://wandb.ai/rossi22/GCN_LOGP_SWEEP/runs/xdkj5d0s</a>"
            ]
          },
          "metadata": {}
        },
        {
          "output_type": "stream",
          "name": "stdout",
          "text": [
            "hparams : {'device': device(type='cuda', index=0), 'disable_rdkit_warnings': True, 'batch_size': 128, 'learning_rate': 0.001, 'epochs': 20, 'period': 1, 'n_block': 1, 'n_layer': 1, 'in_dim': 30, 'hidden_dim': 64, 'out_dim': 32, 'n_head': 1, 'use_bn': True, 'sc': 'None', 'gat_act': 'gelu', 'readout_act': 'gelu', 'gcnnet_act': 'gelu', 'use_scheduler': True, 'schd_factor': 0.5, 'schd_patience': 10, 'schd_min_lr': 5e-06, 'supported_atoms': {'C', 'P', 'O', 'Br', 'F', 'N', 'I', 'S', 'Cl'}}\n"
          ]
        },
        {
          "output_type": "stream",
          "name": "stderr",
          "text": [
            "100%|██████████| 20/20 [02:32<00:00,  7.64s/it]\n"
          ]
        },
        {
          "output_type": "display_data",
          "data": {
            "text/plain": [
              "<IPython.core.display.HTML object>"
            ],
            "text/html": [
              "Waiting for W&B process to finish... <strong style=\"color:green\">(success).</strong>"
            ]
          },
          "metadata": {}
        },
        {
          "output_type": "display_data",
          "data": {
            "text/plain": [
              "<IPython.core.display.HTML object>"
            ],
            "text/html": [
              "<style>\n",
              "    table.wandb td:nth-child(1) { padding: 0 10px; text-align: left ; width: auto;} td:nth-child(2) {text-align: left ; width: 100%}\n",
              "    .wandb-row { display: flex; flex-direction: row; flex-wrap: wrap; justify-content: flex-start; width: 100% }\n",
              "    .wandb-col { display: flex; flex-direction: column; flex-basis: 100%; flex: 1; padding: 10px; }\n",
              "    </style>\n",
              "<div class=\"wandb-row\"><div class=\"wandb-col\"><h3>Run history:</h3><br/><table class=\"wandb\"><tr><td>epoch</td><td>▁▁▂▂▂▃▃▄▄▄▅▅▅▆▆▇▇▇██</td></tr><tr><td>train_loss</td><td>█▂▂▂▂▂▂▁▁▁▁▁▁▁▁▁▁▁▁▁</td></tr><tr><td>val_loss</td><td>▆▅▄▄▃▃▃▂▂▃▃▆▂█▃▁▁▂▁▁</td></tr></table><br/></div><div class=\"wandb-col\"><h3>Run summary:</h3><br/><table class=\"wandb\"><tr><td>epoch</td><td>20</td></tr><tr><td>train_loss</td><td>0.16941</td></tr><tr><td>val_loss</td><td>0.16355</td></tr></table><br/></div></div>"
            ]
          },
          "metadata": {}
        },
        {
          "output_type": "display_data",
          "data": {
            "text/plain": [
              "<IPython.core.display.HTML object>"
            ],
            "text/html": [
              " View run <strong style=\"color:#cdcd00\">dashing-sweep-3</strong> at: <a href='https://wandb.ai/rossi22/GCN_LOGP_SWEEP/runs/xdkj5d0s' target=\"_blank\">https://wandb.ai/rossi22/GCN_LOGP_SWEEP/runs/xdkj5d0s</a><br/>Synced 5 W&B file(s), 0 media file(s), 0 artifact file(s) and 0 other file(s)"
            ]
          },
          "metadata": {}
        },
        {
          "output_type": "display_data",
          "data": {
            "text/plain": [
              "<IPython.core.display.HTML object>"
            ],
            "text/html": [
              "Find logs at: <code>./wandb/run-20230809_101126-xdkj5d0s/logs</code>"
            ]
          },
          "metadata": {}
        },
        {
          "output_type": "stream",
          "name": "stdout",
          "text": [
            "======================================================================================================================================================\n"
          ]
        },
        {
          "output_type": "stream",
          "name": "stderr",
          "text": [
            "\u001b[34m\u001b[1mwandb\u001b[0m: Agent Starting Run: pmcaagiz with config:\n",
            "\u001b[34m\u001b[1mwandb\u001b[0m: \tsc: None\n",
            "\u001b[34m\u001b[1mwandb\u001b[0m: \tuse_bn: False\n"
          ]
        },
        {
          "output_type": "display_data",
          "data": {
            "text/plain": [
              "<IPython.core.display.HTML object>"
            ],
            "text/html": [
              "Tracking run with wandb version 0.15.8"
            ]
          },
          "metadata": {}
        },
        {
          "output_type": "display_data",
          "data": {
            "text/plain": [
              "<IPython.core.display.HTML object>"
            ],
            "text/html": [
              "Run data is saved locally in <code>/content/wandb/run-20230809_101421-pmcaagiz</code>"
            ]
          },
          "metadata": {}
        },
        {
          "output_type": "display_data",
          "data": {
            "text/plain": [
              "<IPython.core.display.HTML object>"
            ],
            "text/html": [
              "Syncing run <strong><a href='https://wandb.ai/rossi22/GCN_LOGP_SWEEP/runs/pmcaagiz' target=\"_blank\">stoic-sweep-4</a></strong> to <a href='https://wandb.ai/rossi22/GCN_LOGP_SWEEP' target=\"_blank\">Weights & Biases</a> (<a href='https://wandb.me/run' target=\"_blank\">docs</a>)<br/>Sweep page: <a href='https://wandb.ai/rossi22/GCN_LOGP_SWEEP/sweeps/v5j1lhd9' target=\"_blank\">https://wandb.ai/rossi22/GCN_LOGP_SWEEP/sweeps/v5j1lhd9</a>"
            ]
          },
          "metadata": {}
        },
        {
          "output_type": "display_data",
          "data": {
            "text/plain": [
              "<IPython.core.display.HTML object>"
            ],
            "text/html": [
              " View project at <a href='https://wandb.ai/rossi22/GCN_LOGP_SWEEP' target=\"_blank\">https://wandb.ai/rossi22/GCN_LOGP_SWEEP</a>"
            ]
          },
          "metadata": {}
        },
        {
          "output_type": "display_data",
          "data": {
            "text/plain": [
              "<IPython.core.display.HTML object>"
            ],
            "text/html": [
              " View sweep at <a href='https://wandb.ai/rossi22/GCN_LOGP_SWEEP/sweeps/v5j1lhd9' target=\"_blank\">https://wandb.ai/rossi22/GCN_LOGP_SWEEP/sweeps/v5j1lhd9</a>"
            ]
          },
          "metadata": {}
        },
        {
          "output_type": "display_data",
          "data": {
            "text/plain": [
              "<IPython.core.display.HTML object>"
            ],
            "text/html": [
              " View run at <a href='https://wandb.ai/rossi22/GCN_LOGP_SWEEP/runs/pmcaagiz' target=\"_blank\">https://wandb.ai/rossi22/GCN_LOGP_SWEEP/runs/pmcaagiz</a>"
            ]
          },
          "metadata": {}
        },
        {
          "output_type": "stream",
          "name": "stdout",
          "text": [
            "hparams : {'device': device(type='cuda', index=0), 'disable_rdkit_warnings': True, 'batch_size': 128, 'learning_rate': 0.001, 'epochs': 20, 'period': 1, 'n_block': 1, 'n_layer': 1, 'in_dim': 30, 'hidden_dim': 64, 'out_dim': 32, 'n_head': 1, 'use_bn': False, 'sc': 'None', 'gat_act': 'gelu', 'readout_act': 'gelu', 'gcnnet_act': 'gelu', 'use_scheduler': True, 'schd_factor': 0.5, 'schd_patience': 10, 'schd_min_lr': 5e-06, 'supported_atoms': {'C', 'P', 'O', 'Br', 'F', 'N', 'I', 'S', 'Cl'}}\n"
          ]
        },
        {
          "output_type": "stream",
          "name": "stderr",
          "text": [
            "100%|██████████| 20/20 [02:30<00:00,  7.54s/it]\n"
          ]
        },
        {
          "output_type": "display_data",
          "data": {
            "text/plain": [
              "<IPython.core.display.HTML object>"
            ],
            "text/html": [
              "Waiting for W&B process to finish... <strong style=\"color:green\">(success).</strong>"
            ]
          },
          "metadata": {}
        },
        {
          "output_type": "display_data",
          "data": {
            "text/plain": [
              "VBox(children=(Label(value='0.001 MB of 0.001 MB uploaded (0.000 MB deduped)\\r'), FloatProgress(value=1.0, max…"
            ],
            "application/vnd.jupyter.widget-view+json": {
              "version_major": 2,
              "version_minor": 0,
              "model_id": "6d4469e4f2fc4dbf926fd14b2ec5d899"
            }
          },
          "metadata": {}
        },
        {
          "output_type": "display_data",
          "data": {
            "text/plain": [
              "<IPython.core.display.HTML object>"
            ],
            "text/html": [
              "<style>\n",
              "    table.wandb td:nth-child(1) { padding: 0 10px; text-align: left ; width: auto;} td:nth-child(2) {text-align: left ; width: 100%}\n",
              "    .wandb-row { display: flex; flex-direction: row; flex-wrap: wrap; justify-content: flex-start; width: 100% }\n",
              "    .wandb-col { display: flex; flex-direction: column; flex-basis: 100%; flex: 1; padding: 10px; }\n",
              "    </style>\n",
              "<div class=\"wandb-row\"><div class=\"wandb-col\"><h3>Run history:</h3><br/><table class=\"wandb\"><tr><td>epoch</td><td>▁▁▂▂▂▃▃▄▄▄▅▅▅▆▆▇▇▇██</td></tr><tr><td>train_loss</td><td>█▂▂▁▁▁▁▁▁▁▁▁▁▁▁▁▁▁▁▁</td></tr><tr><td>val_loss</td><td>█▆▅▄▄▃▃▃▃▂▂▃▂▂▂▂▁▁▁▁</td></tr></table><br/></div><div class=\"wandb-col\"><h3>Run summary:</h3><br/><table class=\"wandb\"><tr><td>epoch</td><td>20</td></tr><tr><td>train_loss</td><td>0.1988</td></tr><tr><td>val_loss</td><td>0.19857</td></tr></table><br/></div></div>"
            ]
          },
          "metadata": {}
        },
        {
          "output_type": "display_data",
          "data": {
            "text/plain": [
              "<IPython.core.display.HTML object>"
            ],
            "text/html": [
              " View run <strong style=\"color:#cdcd00\">stoic-sweep-4</strong> at: <a href='https://wandb.ai/rossi22/GCN_LOGP_SWEEP/runs/pmcaagiz' target=\"_blank\">https://wandb.ai/rossi22/GCN_LOGP_SWEEP/runs/pmcaagiz</a><br/>Synced 5 W&B file(s), 0 media file(s), 0 artifact file(s) and 0 other file(s)"
            ]
          },
          "metadata": {}
        },
        {
          "output_type": "display_data",
          "data": {
            "text/plain": [
              "<IPython.core.display.HTML object>"
            ],
            "text/html": [
              "Find logs at: <code>./wandb/run-20230809_101421-pmcaagiz/logs</code>"
            ]
          },
          "metadata": {}
        },
        {
          "output_type": "stream",
          "name": "stdout",
          "text": [
            "======================================================================================================================================================\n",
            "\n",
            "best hyperparameters : {'device': device(type='cuda', index=0), 'disable_rdkit_warnings': True, 'batch_size': 128, 'learning_rate': 0.001, 'epochs': 20, 'period': 1, 'n_block': 1, 'n_layer': 1, 'in_dim': 30, 'hidden_dim': 64, 'out_dim': 32, 'n_head': 1, 'use_bn': True, 'sc': 'gsc', 'gat_act': 'gelu', 'readout_act': 'gelu', 'gcnnet_act': 'gelu', 'use_scheduler': True, 'schd_factor': 0.5, 'schd_patience': 10, 'schd_min_lr': 5e-06, 'supported_atoms': {'C', 'P', 'O', 'Br', 'F', 'N', 'I', 'S', 'Cl'}}\n",
            "\n",
            "------------------------------------------------------------------------------------------------------------------------------------------------------\n",
            "\n",
            "====================================================================== Condition 2 ======================================================================\n",
            "\n",
            "------------------------------------------------------------------------------------------------------------------------------------------------------\n"
          ]
        },
        {
          "output_type": "stream",
          "name": "stderr",
          "text": [
            "\u001b[34m\u001b[1mwandb\u001b[0m: \u001b[33mWARNING\u001b[0m Malformed sweep config detected! This may cause your sweep to behave in unexpected ways.\n",
            "\u001b[34m\u001b[1mwandb\u001b[0m: \u001b[33mWARNING\u001b[0m To avoid this, please fix the sweep config schema violations below:\n",
            "\u001b[34m\u001b[1mwandb\u001b[0m: \u001b[33mWARNING\u001b[0m   Violation 1. Additional properties are not allowed ('count' was unexpected)\n"
          ]
        },
        {
          "output_type": "stream",
          "name": "stdout",
          "text": [
            "Create sweep with ID: grmhllxe\n",
            "Sweep URL: https://wandb.ai/rossi22/GCN_LOGP_SWEEP/sweeps/grmhllxe\n"
          ]
        },
        {
          "output_type": "stream",
          "name": "stderr",
          "text": [
            "\u001b[34m\u001b[1mwandb\u001b[0m: Agent Starting Run: 4t5qbqmn with config:\n",
            "\u001b[34m\u001b[1mwandb\u001b[0m: \tgat_act: gelu\n"
          ]
        },
        {
          "output_type": "display_data",
          "data": {
            "text/plain": [
              "<IPython.core.display.HTML object>"
            ],
            "text/html": [
              "Tracking run with wandb version 0.15.8"
            ]
          },
          "metadata": {}
        },
        {
          "output_type": "display_data",
          "data": {
            "text/plain": [
              "<IPython.core.display.HTML object>"
            ],
            "text/html": [
              "Run data is saved locally in <code>/content/wandb/run-20230809_101711-4t5qbqmn</code>"
            ]
          },
          "metadata": {}
        },
        {
          "output_type": "display_data",
          "data": {
            "text/plain": [
              "<IPython.core.display.HTML object>"
            ],
            "text/html": [
              "Syncing run <strong><a href='https://wandb.ai/rossi22/GCN_LOGP_SWEEP/runs/4t5qbqmn' target=\"_blank\">toasty-sweep-1</a></strong> to <a href='https://wandb.ai/rossi22/GCN_LOGP_SWEEP' target=\"_blank\">Weights & Biases</a> (<a href='https://wandb.me/run' target=\"_blank\">docs</a>)<br/>Sweep page: <a href='https://wandb.ai/rossi22/GCN_LOGP_SWEEP/sweeps/grmhllxe' target=\"_blank\">https://wandb.ai/rossi22/GCN_LOGP_SWEEP/sweeps/grmhllxe</a>"
            ]
          },
          "metadata": {}
        },
        {
          "output_type": "display_data",
          "data": {
            "text/plain": [
              "<IPython.core.display.HTML object>"
            ],
            "text/html": [
              " View project at <a href='https://wandb.ai/rossi22/GCN_LOGP_SWEEP' target=\"_blank\">https://wandb.ai/rossi22/GCN_LOGP_SWEEP</a>"
            ]
          },
          "metadata": {}
        },
        {
          "output_type": "display_data",
          "data": {
            "text/plain": [
              "<IPython.core.display.HTML object>"
            ],
            "text/html": [
              " View sweep at <a href='https://wandb.ai/rossi22/GCN_LOGP_SWEEP/sweeps/grmhllxe' target=\"_blank\">https://wandb.ai/rossi22/GCN_LOGP_SWEEP/sweeps/grmhllxe</a>"
            ]
          },
          "metadata": {}
        },
        {
          "output_type": "display_data",
          "data": {
            "text/plain": [
              "<IPython.core.display.HTML object>"
            ],
            "text/html": [
              " View run at <a href='https://wandb.ai/rossi22/GCN_LOGP_SWEEP/runs/4t5qbqmn' target=\"_blank\">https://wandb.ai/rossi22/GCN_LOGP_SWEEP/runs/4t5qbqmn</a>"
            ]
          },
          "metadata": {}
        },
        {
          "output_type": "stream",
          "name": "stdout",
          "text": [
            "hparams : {'device': device(type='cuda', index=0), 'disable_rdkit_warnings': True, 'batch_size': 128, 'learning_rate': 0.001, 'epochs': 20, 'period': 1, 'n_block': 1, 'n_layer': 1, 'in_dim': 30, 'hidden_dim': 64, 'out_dim': 32, 'n_head': 1, 'use_bn': True, 'sc': 'gsc', 'gat_act': 'gelu', 'readout_act': 'gelu', 'gcnnet_act': 'gelu', 'use_scheduler': True, 'schd_factor': 0.5, 'schd_patience': 10, 'schd_min_lr': 5e-06, 'supported_atoms': {'C', 'P', 'O', 'Br', 'F', 'N', 'I', 'S', 'Cl'}}\n"
          ]
        },
        {
          "output_type": "stream",
          "name": "stderr",
          "text": [
            "100%|██████████| 20/20 [02:49<00:00,  8.49s/it]\n"
          ]
        },
        {
          "output_type": "display_data",
          "data": {
            "text/plain": [
              "<IPython.core.display.HTML object>"
            ],
            "text/html": [
              "Waiting for W&B process to finish... <strong style=\"color:green\">(success).</strong>"
            ]
          },
          "metadata": {}
        },
        {
          "output_type": "display_data",
          "data": {
            "text/plain": [
              "VBox(children=(Label(value='0.001 MB of 0.003 MB uploaded (0.000 MB deduped)\\r'), FloatProgress(value=0.505102…"
            ],
            "application/vnd.jupyter.widget-view+json": {
              "version_major": 2,
              "version_minor": 0,
              "model_id": "8efa1104c2cc40d39933e5c0635b14aa"
            }
          },
          "metadata": {}
        },
        {
          "output_type": "display_data",
          "data": {
            "text/plain": [
              "<IPython.core.display.HTML object>"
            ],
            "text/html": [
              "<style>\n",
              "    table.wandb td:nth-child(1) { padding: 0 10px; text-align: left ; width: auto;} td:nth-child(2) {text-align: left ; width: 100%}\n",
              "    .wandb-row { display: flex; flex-direction: row; flex-wrap: wrap; justify-content: flex-start; width: 100% }\n",
              "    .wandb-col { display: flex; flex-direction: column; flex-basis: 100%; flex: 1; padding: 10px; }\n",
              "    </style>\n",
              "<div class=\"wandb-row\"><div class=\"wandb-col\"><h3>Run history:</h3><br/><table class=\"wandb\"><tr><td>epoch</td><td>▁▁▂▂▂▃▃▄▄▄▅▅▅▆▆▇▇▇██</td></tr><tr><td>train_loss</td><td>█▂▂▂▂▂▁▁▁▁▁▁▁▁▁▁▁▁▁▁</td></tr><tr><td>val_loss</td><td>█▆▇▅▄▃▃▃▅▂▂▂▃▂▂▁▁▁▂▁</td></tr></table><br/></div><div class=\"wandb-col\"><h3>Run summary:</h3><br/><table class=\"wandb\"><tr><td>epoch</td><td>20</td></tr><tr><td>train_loss</td><td>0.12663</td></tr><tr><td>val_loss</td><td>0.13166</td></tr></table><br/></div></div>"
            ]
          },
          "metadata": {}
        },
        {
          "output_type": "display_data",
          "data": {
            "text/plain": [
              "<IPython.core.display.HTML object>"
            ],
            "text/html": [
              " View run <strong style=\"color:#cdcd00\">toasty-sweep-1</strong> at: <a href='https://wandb.ai/rossi22/GCN_LOGP_SWEEP/runs/4t5qbqmn' target=\"_blank\">https://wandb.ai/rossi22/GCN_LOGP_SWEEP/runs/4t5qbqmn</a><br/>Synced 5 W&B file(s), 0 media file(s), 0 artifact file(s) and 0 other file(s)"
            ]
          },
          "metadata": {}
        },
        {
          "output_type": "display_data",
          "data": {
            "text/plain": [
              "<IPython.core.display.HTML object>"
            ],
            "text/html": [
              "Find logs at: <code>./wandb/run-20230809_101711-4t5qbqmn/logs</code>"
            ]
          },
          "metadata": {}
        },
        {
          "output_type": "stream",
          "name": "stdout",
          "text": [
            "======================================================================================================================================================\n"
          ]
        },
        {
          "output_type": "stream",
          "name": "stderr",
          "text": [
            "\u001b[34m\u001b[1mwandb\u001b[0m: Agent Starting Run: 6x5o4iqc with config:\n",
            "\u001b[34m\u001b[1mwandb\u001b[0m: \tgat_act: relu\n"
          ]
        },
        {
          "output_type": "display_data",
          "data": {
            "text/plain": [
              "<IPython.core.display.HTML object>"
            ],
            "text/html": [
              "Tracking run with wandb version 0.15.8"
            ]
          },
          "metadata": {}
        },
        {
          "output_type": "display_data",
          "data": {
            "text/plain": [
              "<IPython.core.display.HTML object>"
            ],
            "text/html": [
              "Run data is saved locally in <code>/content/wandb/run-20230809_102022-6x5o4iqc</code>"
            ]
          },
          "metadata": {}
        },
        {
          "output_type": "display_data",
          "data": {
            "text/plain": [
              "<IPython.core.display.HTML object>"
            ],
            "text/html": [
              "Syncing run <strong><a href='https://wandb.ai/rossi22/GCN_LOGP_SWEEP/runs/6x5o4iqc' target=\"_blank\">restful-sweep-2</a></strong> to <a href='https://wandb.ai/rossi22/GCN_LOGP_SWEEP' target=\"_blank\">Weights & Biases</a> (<a href='https://wandb.me/run' target=\"_blank\">docs</a>)<br/>Sweep page: <a href='https://wandb.ai/rossi22/GCN_LOGP_SWEEP/sweeps/grmhllxe' target=\"_blank\">https://wandb.ai/rossi22/GCN_LOGP_SWEEP/sweeps/grmhllxe</a>"
            ]
          },
          "metadata": {}
        },
        {
          "output_type": "display_data",
          "data": {
            "text/plain": [
              "<IPython.core.display.HTML object>"
            ],
            "text/html": [
              " View project at <a href='https://wandb.ai/rossi22/GCN_LOGP_SWEEP' target=\"_blank\">https://wandb.ai/rossi22/GCN_LOGP_SWEEP</a>"
            ]
          },
          "metadata": {}
        },
        {
          "output_type": "display_data",
          "data": {
            "text/plain": [
              "<IPython.core.display.HTML object>"
            ],
            "text/html": [
              " View sweep at <a href='https://wandb.ai/rossi22/GCN_LOGP_SWEEP/sweeps/grmhllxe' target=\"_blank\">https://wandb.ai/rossi22/GCN_LOGP_SWEEP/sweeps/grmhllxe</a>"
            ]
          },
          "metadata": {}
        },
        {
          "output_type": "display_data",
          "data": {
            "text/plain": [
              "<IPython.core.display.HTML object>"
            ],
            "text/html": [
              " View run at <a href='https://wandb.ai/rossi22/GCN_LOGP_SWEEP/runs/6x5o4iqc' target=\"_blank\">https://wandb.ai/rossi22/GCN_LOGP_SWEEP/runs/6x5o4iqc</a>"
            ]
          },
          "metadata": {}
        },
        {
          "output_type": "stream",
          "name": "stdout",
          "text": [
            "hparams : {'device': device(type='cuda', index=0), 'disable_rdkit_warnings': True, 'batch_size': 128, 'learning_rate': 0.001, 'epochs': 20, 'period': 1, 'n_block': 1, 'n_layer': 1, 'in_dim': 30, 'hidden_dim': 64, 'out_dim': 32, 'n_head': 1, 'use_bn': True, 'sc': 'gsc', 'gat_act': 'relu', 'readout_act': 'relu', 'gcnnet_act': 'relu', 'use_scheduler': True, 'schd_factor': 0.5, 'schd_patience': 10, 'schd_min_lr': 5e-06, 'supported_atoms': {'C', 'P', 'O', 'Br', 'F', 'N', 'I', 'S', 'Cl'}}\n"
          ]
        },
        {
          "output_type": "stream",
          "name": "stderr",
          "text": [
            "100%|██████████| 20/20 [02:47<00:00,  8.38s/it]\n"
          ]
        },
        {
          "output_type": "display_data",
          "data": {
            "text/plain": [
              "<IPython.core.display.HTML object>"
            ],
            "text/html": [
              "Waiting for W&B process to finish... <strong style=\"color:green\">(success).</strong>"
            ]
          },
          "metadata": {}
        },
        {
          "output_type": "display_data",
          "data": {
            "text/plain": [
              "<IPython.core.display.HTML object>"
            ],
            "text/html": [
              "<style>\n",
              "    table.wandb td:nth-child(1) { padding: 0 10px; text-align: left ; width: auto;} td:nth-child(2) {text-align: left ; width: 100%}\n",
              "    .wandb-row { display: flex; flex-direction: row; flex-wrap: wrap; justify-content: flex-start; width: 100% }\n",
              "    .wandb-col { display: flex; flex-direction: column; flex-basis: 100%; flex: 1; padding: 10px; }\n",
              "    </style>\n",
              "<div class=\"wandb-row\"><div class=\"wandb-col\"><h3>Run history:</h3><br/><table class=\"wandb\"><tr><td>epoch</td><td>▁▁▂▂▂▃▃▄▄▄▅▅▅▆▆▇▇▇██</td></tr><tr><td>train_loss</td><td>█▂▂▂▂▂▁▁▁▁▁▁▁▁▁▁▁▁▁▁</td></tr><tr><td>val_loss</td><td>▇▇█▅▄▃▃▅▂▃▃▂▂▁▃▁▂▁▁▁</td></tr></table><br/></div><div class=\"wandb-col\"><h3>Run summary:</h3><br/><table class=\"wandb\"><tr><td>epoch</td><td>20</td></tr><tr><td>train_loss</td><td>0.1303</td></tr><tr><td>val_loss</td><td>0.13364</td></tr></table><br/></div></div>"
            ]
          },
          "metadata": {}
        },
        {
          "output_type": "display_data",
          "data": {
            "text/plain": [
              "<IPython.core.display.HTML object>"
            ],
            "text/html": [
              " View run <strong style=\"color:#cdcd00\">restful-sweep-2</strong> at: <a href='https://wandb.ai/rossi22/GCN_LOGP_SWEEP/runs/6x5o4iqc' target=\"_blank\">https://wandb.ai/rossi22/GCN_LOGP_SWEEP/runs/6x5o4iqc</a><br/>Synced 5 W&B file(s), 0 media file(s), 0 artifact file(s) and 0 other file(s)"
            ]
          },
          "metadata": {}
        },
        {
          "output_type": "display_data",
          "data": {
            "text/plain": [
              "<IPython.core.display.HTML object>"
            ],
            "text/html": [
              "Find logs at: <code>./wandb/run-20230809_102022-6x5o4iqc/logs</code>"
            ]
          },
          "metadata": {}
        },
        {
          "output_type": "stream",
          "name": "stdout",
          "text": [
            "======================================================================================================================================================\n"
          ]
        },
        {
          "output_type": "stream",
          "name": "stderr",
          "text": [
            "\u001b[34m\u001b[1mwandb\u001b[0m: Agent Starting Run: 91dwh55r with config:\n",
            "\u001b[34m\u001b[1mwandb\u001b[0m: \tgat_act: elu\n"
          ]
        },
        {
          "output_type": "display_data",
          "data": {
            "text/plain": [
              "<IPython.core.display.HTML object>"
            ],
            "text/html": [
              "Tracking run with wandb version 0.15.8"
            ]
          },
          "metadata": {}
        },
        {
          "output_type": "display_data",
          "data": {
            "text/plain": [
              "<IPython.core.display.HTML object>"
            ],
            "text/html": [
              "Run data is saved locally in <code>/content/wandb/run-20230809_102333-91dwh55r</code>"
            ]
          },
          "metadata": {}
        },
        {
          "output_type": "display_data",
          "data": {
            "text/plain": [
              "<IPython.core.display.HTML object>"
            ],
            "text/html": [
              "Syncing run <strong><a href='https://wandb.ai/rossi22/GCN_LOGP_SWEEP/runs/91dwh55r' target=\"_blank\">olive-sweep-3</a></strong> to <a href='https://wandb.ai/rossi22/GCN_LOGP_SWEEP' target=\"_blank\">Weights & Biases</a> (<a href='https://wandb.me/run' target=\"_blank\">docs</a>)<br/>Sweep page: <a href='https://wandb.ai/rossi22/GCN_LOGP_SWEEP/sweeps/grmhllxe' target=\"_blank\">https://wandb.ai/rossi22/GCN_LOGP_SWEEP/sweeps/grmhllxe</a>"
            ]
          },
          "metadata": {}
        },
        {
          "output_type": "display_data",
          "data": {
            "text/plain": [
              "<IPython.core.display.HTML object>"
            ],
            "text/html": [
              " View project at <a href='https://wandb.ai/rossi22/GCN_LOGP_SWEEP' target=\"_blank\">https://wandb.ai/rossi22/GCN_LOGP_SWEEP</a>"
            ]
          },
          "metadata": {}
        },
        {
          "output_type": "display_data",
          "data": {
            "text/plain": [
              "<IPython.core.display.HTML object>"
            ],
            "text/html": [
              " View sweep at <a href='https://wandb.ai/rossi22/GCN_LOGP_SWEEP/sweeps/grmhllxe' target=\"_blank\">https://wandb.ai/rossi22/GCN_LOGP_SWEEP/sweeps/grmhllxe</a>"
            ]
          },
          "metadata": {}
        },
        {
          "output_type": "display_data",
          "data": {
            "text/plain": [
              "<IPython.core.display.HTML object>"
            ],
            "text/html": [
              " View run at <a href='https://wandb.ai/rossi22/GCN_LOGP_SWEEP/runs/91dwh55r' target=\"_blank\">https://wandb.ai/rossi22/GCN_LOGP_SWEEP/runs/91dwh55r</a>"
            ]
          },
          "metadata": {}
        },
        {
          "output_type": "stream",
          "name": "stdout",
          "text": [
            "hparams : {'device': device(type='cuda', index=0), 'disable_rdkit_warnings': True, 'batch_size': 128, 'learning_rate': 0.001, 'epochs': 20, 'period': 1, 'n_block': 1, 'n_layer': 1, 'in_dim': 30, 'hidden_dim': 64, 'out_dim': 32, 'n_head': 1, 'use_bn': True, 'sc': 'gsc', 'gat_act': 'elu', 'readout_act': 'elu', 'gcnnet_act': 'elu', 'use_scheduler': True, 'schd_factor': 0.5, 'schd_patience': 10, 'schd_min_lr': 5e-06, 'supported_atoms': {'C', 'P', 'O', 'Br', 'F', 'N', 'I', 'S', 'Cl'}}\n"
          ]
        },
        {
          "output_type": "stream",
          "name": "stderr",
          "text": [
            "100%|██████████| 20/20 [02:46<00:00,  8.30s/it]\n"
          ]
        },
        {
          "output_type": "display_data",
          "data": {
            "text/plain": [
              "<IPython.core.display.HTML object>"
            ],
            "text/html": [
              "Waiting for W&B process to finish... <strong style=\"color:green\">(success).</strong>"
            ]
          },
          "metadata": {}
        },
        {
          "output_type": "display_data",
          "data": {
            "text/plain": [
              "<IPython.core.display.HTML object>"
            ],
            "text/html": [
              "<style>\n",
              "    table.wandb td:nth-child(1) { padding: 0 10px; text-align: left ; width: auto;} td:nth-child(2) {text-align: left ; width: 100%}\n",
              "    .wandb-row { display: flex; flex-direction: row; flex-wrap: wrap; justify-content: flex-start; width: 100% }\n",
              "    .wandb-col { display: flex; flex-direction: column; flex-basis: 100%; flex: 1; padding: 10px; }\n",
              "    </style>\n",
              "<div class=\"wandb-row\"><div class=\"wandb-col\"><h3>Run history:</h3><br/><table class=\"wandb\"><tr><td>epoch</td><td>▁▁▂▂▂▃▃▄▄▄▅▅▅▆▆▇▇▇██</td></tr><tr><td>train_loss</td><td>█▃▂▂▂▂▂▂▂▁▁▁▁▁▁▁▁▁▁▁</td></tr><tr><td>val_loss</td><td>██▅▅▅▄▄▃▃▂▂▂▂▂▂▂▁▁▁▁</td></tr></table><br/></div><div class=\"wandb-col\"><h3>Run summary:</h3><br/><table class=\"wandb\"><tr><td>epoch</td><td>20</td></tr><tr><td>train_loss</td><td>0.12715</td></tr><tr><td>val_loss</td><td>0.1339</td></tr></table><br/></div></div>"
            ]
          },
          "metadata": {}
        },
        {
          "output_type": "display_data",
          "data": {
            "text/plain": [
              "<IPython.core.display.HTML object>"
            ],
            "text/html": [
              " View run <strong style=\"color:#cdcd00\">olive-sweep-3</strong> at: <a href='https://wandb.ai/rossi22/GCN_LOGP_SWEEP/runs/91dwh55r' target=\"_blank\">https://wandb.ai/rossi22/GCN_LOGP_SWEEP/runs/91dwh55r</a><br/>Synced 5 W&B file(s), 0 media file(s), 0 artifact file(s) and 0 other file(s)"
            ]
          },
          "metadata": {}
        },
        {
          "output_type": "display_data",
          "data": {
            "text/plain": [
              "<IPython.core.display.HTML object>"
            ],
            "text/html": [
              "Find logs at: <code>./wandb/run-20230809_102333-91dwh55r/logs</code>"
            ]
          },
          "metadata": {}
        },
        {
          "output_type": "stream",
          "name": "stdout",
          "text": [
            "======================================================================================================================================================\n"
          ]
        },
        {
          "output_type": "stream",
          "name": "stderr",
          "text": [
            "\u001b[34m\u001b[1mwandb\u001b[0m: Agent Starting Run: cxptxok3 with config:\n",
            "\u001b[34m\u001b[1mwandb\u001b[0m: \tgat_act: leaky_relu\n"
          ]
        },
        {
          "output_type": "display_data",
          "data": {
            "text/plain": [
              "<IPython.core.display.HTML object>"
            ],
            "text/html": [
              "Tracking run with wandb version 0.15.8"
            ]
          },
          "metadata": {}
        },
        {
          "output_type": "display_data",
          "data": {
            "text/plain": [
              "<IPython.core.display.HTML object>"
            ],
            "text/html": [
              "Run data is saved locally in <code>/content/wandb/run-20230809_102638-cxptxok3</code>"
            ]
          },
          "metadata": {}
        },
        {
          "output_type": "display_data",
          "data": {
            "text/plain": [
              "<IPython.core.display.HTML object>"
            ],
            "text/html": [
              "Syncing run <strong><a href='https://wandb.ai/rossi22/GCN_LOGP_SWEEP/runs/cxptxok3' target=\"_blank\">dauntless-sweep-4</a></strong> to <a href='https://wandb.ai/rossi22/GCN_LOGP_SWEEP' target=\"_blank\">Weights & Biases</a> (<a href='https://wandb.me/run' target=\"_blank\">docs</a>)<br/>Sweep page: <a href='https://wandb.ai/rossi22/GCN_LOGP_SWEEP/sweeps/grmhllxe' target=\"_blank\">https://wandb.ai/rossi22/GCN_LOGP_SWEEP/sweeps/grmhllxe</a>"
            ]
          },
          "metadata": {}
        },
        {
          "output_type": "display_data",
          "data": {
            "text/plain": [
              "<IPython.core.display.HTML object>"
            ],
            "text/html": [
              " View project at <a href='https://wandb.ai/rossi22/GCN_LOGP_SWEEP' target=\"_blank\">https://wandb.ai/rossi22/GCN_LOGP_SWEEP</a>"
            ]
          },
          "metadata": {}
        },
        {
          "output_type": "display_data",
          "data": {
            "text/plain": [
              "<IPython.core.display.HTML object>"
            ],
            "text/html": [
              " View sweep at <a href='https://wandb.ai/rossi22/GCN_LOGP_SWEEP/sweeps/grmhllxe' target=\"_blank\">https://wandb.ai/rossi22/GCN_LOGP_SWEEP/sweeps/grmhllxe</a>"
            ]
          },
          "metadata": {}
        },
        {
          "output_type": "display_data",
          "data": {
            "text/plain": [
              "<IPython.core.display.HTML object>"
            ],
            "text/html": [
              " View run at <a href='https://wandb.ai/rossi22/GCN_LOGP_SWEEP/runs/cxptxok3' target=\"_blank\">https://wandb.ai/rossi22/GCN_LOGP_SWEEP/runs/cxptxok3</a>"
            ]
          },
          "metadata": {}
        },
        {
          "output_type": "stream",
          "name": "stdout",
          "text": [
            "hparams : {'device': device(type='cuda', index=0), 'disable_rdkit_warnings': True, 'batch_size': 128, 'learning_rate': 0.001, 'epochs': 20, 'period': 1, 'n_block': 1, 'n_layer': 1, 'in_dim': 30, 'hidden_dim': 64, 'out_dim': 32, 'n_head': 1, 'use_bn': True, 'sc': 'gsc', 'gat_act': 'leaky_relu', 'readout_act': 'leaky_relu', 'gcnnet_act': 'leaky_relu', 'use_scheduler': True, 'schd_factor': 0.5, 'schd_patience': 10, 'schd_min_lr': 5e-06, 'supported_atoms': {'C', 'P', 'O', 'Br', 'F', 'N', 'I', 'S', 'Cl'}}\n"
          ]
        },
        {
          "output_type": "stream",
          "name": "stderr",
          "text": [
            "100%|██████████| 20/20 [02:46<00:00,  8.33s/it]\n"
          ]
        },
        {
          "output_type": "display_data",
          "data": {
            "text/plain": [
              "<IPython.core.display.HTML object>"
            ],
            "text/html": [
              "Waiting for W&B process to finish... <strong style=\"color:green\">(success).</strong>"
            ]
          },
          "metadata": {}
        },
        {
          "output_type": "display_data",
          "data": {
            "text/plain": [
              "<IPython.core.display.HTML object>"
            ],
            "text/html": [
              "<style>\n",
              "    table.wandb td:nth-child(1) { padding: 0 10px; text-align: left ; width: auto;} td:nth-child(2) {text-align: left ; width: 100%}\n",
              "    .wandb-row { display: flex; flex-direction: row; flex-wrap: wrap; justify-content: flex-start; width: 100% }\n",
              "    .wandb-col { display: flex; flex-direction: column; flex-basis: 100%; flex: 1; padding: 10px; }\n",
              "    </style>\n",
              "<div class=\"wandb-row\"><div class=\"wandb-col\"><h3>Run history:</h3><br/><table class=\"wandb\"><tr><td>epoch</td><td>▁▁▂▂▂▃▃▄▄▄▅▅▅▆▆▇▇▇██</td></tr><tr><td>train_loss</td><td>█▂▂▂▂▂▂▁▁▁▁▁▁▁▁▁▁▁▁▁</td></tr><tr><td>val_loss</td><td>█▆▆▄▄▃▆▂▂▂▂▂▂▃▂▂▁▂▁▁</td></tr></table><br/></div><div class=\"wandb-col\"><h3>Run summary:</h3><br/><table class=\"wandb\"><tr><td>epoch</td><td>20</td></tr><tr><td>train_loss</td><td>0.13532</td></tr><tr><td>val_loss</td><td>0.13761</td></tr></table><br/></div></div>"
            ]
          },
          "metadata": {}
        },
        {
          "output_type": "display_data",
          "data": {
            "text/plain": [
              "<IPython.core.display.HTML object>"
            ],
            "text/html": [
              " View run <strong style=\"color:#cdcd00\">dauntless-sweep-4</strong> at: <a href='https://wandb.ai/rossi22/GCN_LOGP_SWEEP/runs/cxptxok3' target=\"_blank\">https://wandb.ai/rossi22/GCN_LOGP_SWEEP/runs/cxptxok3</a><br/>Synced 5 W&B file(s), 0 media file(s), 0 artifact file(s) and 0 other file(s)"
            ]
          },
          "metadata": {}
        },
        {
          "output_type": "display_data",
          "data": {
            "text/plain": [
              "<IPython.core.display.HTML object>"
            ],
            "text/html": [
              "Find logs at: <code>./wandb/run-20230809_102638-cxptxok3/logs</code>"
            ]
          },
          "metadata": {}
        },
        {
          "output_type": "stream",
          "name": "stdout",
          "text": [
            "======================================================================================================================================================\n",
            "\n",
            "best hyperparameters : {'device': device(type='cuda', index=0), 'disable_rdkit_warnings': True, 'batch_size': 128, 'learning_rate': 0.001, 'epochs': 20, 'period': 1, 'n_block': 1, 'n_layer': 1, 'in_dim': 30, 'hidden_dim': 64, 'out_dim': 32, 'n_head': 1, 'use_bn': True, 'sc': 'gsc', 'gat_act': 'gelu', 'readout_act': 'gelu', 'gcnnet_act': 'gelu', 'use_scheduler': True, 'schd_factor': 0.5, 'schd_patience': 10, 'schd_min_lr': 5e-06, 'supported_atoms': {'C', 'P', 'O', 'Br', 'F', 'N', 'I', 'S', 'Cl'}}\n",
            "\n",
            "------------------------------------------------------------------------------------------------------------------------------------------------------\n",
            "\n",
            "====================================================================== Condition 3 ======================================================================\n",
            "\n",
            "------------------------------------------------------------------------------------------------------------------------------------------------------\n"
          ]
        },
        {
          "output_type": "stream",
          "name": "stderr",
          "text": [
            "\u001b[34m\u001b[1mwandb\u001b[0m: \u001b[33mWARNING\u001b[0m Malformed sweep config detected! This may cause your sweep to behave in unexpected ways.\n",
            "\u001b[34m\u001b[1mwandb\u001b[0m: \u001b[33mWARNING\u001b[0m To avoid this, please fix the sweep config schema violations below:\n",
            "\u001b[34m\u001b[1mwandb\u001b[0m: \u001b[33mWARNING\u001b[0m   Violation 1. Additional properties are not allowed ('count' was unexpected)\n"
          ]
        },
        {
          "output_type": "stream",
          "name": "stdout",
          "text": [
            "Create sweep with ID: 76kd77r9\n",
            "Sweep URL: https://wandb.ai/rossi22/GCN_LOGP_SWEEP/sweeps/76kd77r9\n"
          ]
        },
        {
          "output_type": "stream",
          "name": "stderr",
          "text": [
            "\u001b[34m\u001b[1mwandb\u001b[0m: Agent Starting Run: ddyw8uzm with config:\n",
            "\u001b[34m\u001b[1mwandb\u001b[0m: \thidden_dim: 128\n",
            "\u001b[34m\u001b[1mwandb\u001b[0m: \tn_block: 3\n",
            "\u001b[34m\u001b[1mwandb\u001b[0m: \tn_head: 1\n",
            "\u001b[34m\u001b[1mwandb\u001b[0m: \tn_layer: 3\n",
            "\u001b[34m\u001b[1mwandb\u001b[0m: \tout_dim: 128\n"
          ]
        },
        {
          "output_type": "display_data",
          "data": {
            "text/plain": [
              "<IPython.core.display.HTML object>"
            ],
            "text/html": [
              "Tracking run with wandb version 0.15.8"
            ]
          },
          "metadata": {}
        },
        {
          "output_type": "display_data",
          "data": {
            "text/plain": [
              "<IPython.core.display.HTML object>"
            ],
            "text/html": [
              "Run data is saved locally in <code>/content/wandb/run-20230809_102945-ddyw8uzm</code>"
            ]
          },
          "metadata": {}
        },
        {
          "output_type": "display_data",
          "data": {
            "text/plain": [
              "<IPython.core.display.HTML object>"
            ],
            "text/html": [
              "Syncing run <strong><a href='https://wandb.ai/rossi22/GCN_LOGP_SWEEP/runs/ddyw8uzm' target=\"_blank\">iconic-sweep-1</a></strong> to <a href='https://wandb.ai/rossi22/GCN_LOGP_SWEEP' target=\"_blank\">Weights & Biases</a> (<a href='https://wandb.me/run' target=\"_blank\">docs</a>)<br/>Sweep page: <a href='https://wandb.ai/rossi22/GCN_LOGP_SWEEP/sweeps/76kd77r9' target=\"_blank\">https://wandb.ai/rossi22/GCN_LOGP_SWEEP/sweeps/76kd77r9</a>"
            ]
          },
          "metadata": {}
        },
        {
          "output_type": "display_data",
          "data": {
            "text/plain": [
              "<IPython.core.display.HTML object>"
            ],
            "text/html": [
              " View project at <a href='https://wandb.ai/rossi22/GCN_LOGP_SWEEP' target=\"_blank\">https://wandb.ai/rossi22/GCN_LOGP_SWEEP</a>"
            ]
          },
          "metadata": {}
        },
        {
          "output_type": "display_data",
          "data": {
            "text/plain": [
              "<IPython.core.display.HTML object>"
            ],
            "text/html": [
              " View sweep at <a href='https://wandb.ai/rossi22/GCN_LOGP_SWEEP/sweeps/76kd77r9' target=\"_blank\">https://wandb.ai/rossi22/GCN_LOGP_SWEEP/sweeps/76kd77r9</a>"
            ]
          },
          "metadata": {}
        },
        {
          "output_type": "display_data",
          "data": {
            "text/plain": [
              "<IPython.core.display.HTML object>"
            ],
            "text/html": [
              " View run at <a href='https://wandb.ai/rossi22/GCN_LOGP_SWEEP/runs/ddyw8uzm' target=\"_blank\">https://wandb.ai/rossi22/GCN_LOGP_SWEEP/runs/ddyw8uzm</a>"
            ]
          },
          "metadata": {}
        },
        {
          "output_type": "stream",
          "name": "stdout",
          "text": [
            "hparams : {'device': device(type='cuda', index=0), 'disable_rdkit_warnings': True, 'batch_size': 128, 'learning_rate': 0.001, 'epochs': 20, 'period': 1, 'n_block': 3, 'n_layer': 3, 'in_dim': 30, 'hidden_dim': 128, 'out_dim': 128, 'n_head': 1, 'use_bn': True, 'sc': 'gsc', 'gat_act': 'gelu', 'readout_act': 'gelu', 'gcnnet_act': 'gelu', 'use_scheduler': True, 'schd_factor': 0.5, 'schd_patience': 10, 'schd_min_lr': 5e-06, 'supported_atoms': {'C', 'P', 'O', 'Br', 'F', 'N', 'I', 'S', 'Cl'}}\n"
          ]
        },
        {
          "output_type": "stream",
          "name": "stderr",
          "text": [
            "100%|██████████| 20/20 [07:37<00:00, 22.88s/it]\n"
          ]
        },
        {
          "output_type": "display_data",
          "data": {
            "text/plain": [
              "<IPython.core.display.HTML object>"
            ],
            "text/html": [
              "Waiting for W&B process to finish... <strong style=\"color:green\">(success).</strong>"
            ]
          },
          "metadata": {}
        },
        {
          "output_type": "display_data",
          "data": {
            "text/plain": [
              "VBox(children=(Label(value='0.001 MB of 0.001 MB uploaded (0.000 MB deduped)\\r'), FloatProgress(value=1.0, max…"
            ],
            "application/vnd.jupyter.widget-view+json": {
              "version_major": 2,
              "version_minor": 0,
              "model_id": "11c30a72f52f44abad216eff5ba4d816"
            }
          },
          "metadata": {}
        },
        {
          "output_type": "display_data",
          "data": {
            "text/plain": [
              "<IPython.core.display.HTML object>"
            ],
            "text/html": [
              "<style>\n",
              "    table.wandb td:nth-child(1) { padding: 0 10px; text-align: left ; width: auto;} td:nth-child(2) {text-align: left ; width: 100%}\n",
              "    .wandb-row { display: flex; flex-direction: row; flex-wrap: wrap; justify-content: flex-start; width: 100% }\n",
              "    .wandb-col { display: flex; flex-direction: column; flex-basis: 100%; flex: 1; padding: 10px; }\n",
              "    </style>\n",
              "<div class=\"wandb-row\"><div class=\"wandb-col\"><h3>Run history:</h3><br/><table class=\"wandb\"><tr><td>epoch</td><td>▁▁▂▂▂▃▃▄▄▄▅▅▅▆▆▇▇▇██</td></tr><tr><td>train_loss</td><td>█▄▃▃▃▂▂▂▂▂▁▁▁▁▁▁▁▁▁▁</td></tr><tr><td>val_loss</td><td>█▆▅▄▆▃▃▃▃▂▂▂▂▁▁▁▁▁▁▁</td></tr></table><br/></div><div class=\"wandb-col\"><h3>Run summary:</h3><br/><table class=\"wandb\"><tr><td>epoch</td><td>20</td></tr><tr><td>train_loss</td><td>0.03309</td></tr><tr><td>val_loss</td><td>0.03568</td></tr></table><br/></div></div>"
            ]
          },
          "metadata": {}
        },
        {
          "output_type": "display_data",
          "data": {
            "text/plain": [
              "<IPython.core.display.HTML object>"
            ],
            "text/html": [
              " View run <strong style=\"color:#cdcd00\">iconic-sweep-1</strong> at: <a href='https://wandb.ai/rossi22/GCN_LOGP_SWEEP/runs/ddyw8uzm' target=\"_blank\">https://wandb.ai/rossi22/GCN_LOGP_SWEEP/runs/ddyw8uzm</a><br/>Synced 5 W&B file(s), 0 media file(s), 0 artifact file(s) and 0 other file(s)"
            ]
          },
          "metadata": {}
        },
        {
          "output_type": "display_data",
          "data": {
            "text/plain": [
              "<IPython.core.display.HTML object>"
            ],
            "text/html": [
              "Find logs at: <code>./wandb/run-20230809_102945-ddyw8uzm/logs</code>"
            ]
          },
          "metadata": {}
        },
        {
          "output_type": "stream",
          "name": "stdout",
          "text": [
            "======================================================================================================================================================\n"
          ]
        },
        {
          "output_type": "stream",
          "name": "stderr",
          "text": [
            "\u001b[34m\u001b[1mwandb\u001b[0m: Agent Starting Run: g4pikb44 with config:\n",
            "\u001b[34m\u001b[1mwandb\u001b[0m: \thidden_dim: 128\n",
            "\u001b[34m\u001b[1mwandb\u001b[0m: \tn_block: 1\n",
            "\u001b[34m\u001b[1mwandb\u001b[0m: \tn_head: 2\n",
            "\u001b[34m\u001b[1mwandb\u001b[0m: \tn_layer: 1\n",
            "\u001b[34m\u001b[1mwandb\u001b[0m: \tout_dim: 128\n"
          ]
        },
        {
          "output_type": "display_data",
          "data": {
            "text/plain": [
              "<IPython.core.display.HTML object>"
            ],
            "text/html": [
              "Tracking run with wandb version 0.15.8"
            ]
          },
          "metadata": {}
        },
        {
          "output_type": "display_data",
          "data": {
            "text/plain": [
              "<IPython.core.display.HTML object>"
            ],
            "text/html": [
              "Run data is saved locally in <code>/content/wandb/run-20230809_103745-g4pikb44</code>"
            ]
          },
          "metadata": {}
        },
        {
          "output_type": "display_data",
          "data": {
            "text/plain": [
              "<IPython.core.display.HTML object>"
            ],
            "text/html": [
              "Syncing run <strong><a href='https://wandb.ai/rossi22/GCN_LOGP_SWEEP/runs/g4pikb44' target=\"_blank\">generous-sweep-2</a></strong> to <a href='https://wandb.ai/rossi22/GCN_LOGP_SWEEP' target=\"_blank\">Weights & Biases</a> (<a href='https://wandb.me/run' target=\"_blank\">docs</a>)<br/>Sweep page: <a href='https://wandb.ai/rossi22/GCN_LOGP_SWEEP/sweeps/76kd77r9' target=\"_blank\">https://wandb.ai/rossi22/GCN_LOGP_SWEEP/sweeps/76kd77r9</a>"
            ]
          },
          "metadata": {}
        },
        {
          "output_type": "display_data",
          "data": {
            "text/plain": [
              "<IPython.core.display.HTML object>"
            ],
            "text/html": [
              " View project at <a href='https://wandb.ai/rossi22/GCN_LOGP_SWEEP' target=\"_blank\">https://wandb.ai/rossi22/GCN_LOGP_SWEEP</a>"
            ]
          },
          "metadata": {}
        },
        {
          "output_type": "display_data",
          "data": {
            "text/plain": [
              "<IPython.core.display.HTML object>"
            ],
            "text/html": [
              " View sweep at <a href='https://wandb.ai/rossi22/GCN_LOGP_SWEEP/sweeps/76kd77r9' target=\"_blank\">https://wandb.ai/rossi22/GCN_LOGP_SWEEP/sweeps/76kd77r9</a>"
            ]
          },
          "metadata": {}
        },
        {
          "output_type": "display_data",
          "data": {
            "text/plain": [
              "<IPython.core.display.HTML object>"
            ],
            "text/html": [
              " View run at <a href='https://wandb.ai/rossi22/GCN_LOGP_SWEEP/runs/g4pikb44' target=\"_blank\">https://wandb.ai/rossi22/GCN_LOGP_SWEEP/runs/g4pikb44</a>"
            ]
          },
          "metadata": {}
        },
        {
          "output_type": "stream",
          "name": "stdout",
          "text": [
            "hparams : {'device': device(type='cuda', index=0), 'disable_rdkit_warnings': True, 'batch_size': 128, 'learning_rate': 0.001, 'epochs': 20, 'period': 1, 'n_block': 1, 'n_layer': 1, 'in_dim': 30, 'hidden_dim': 128, 'out_dim': 128, 'n_head': 2, 'use_bn': True, 'sc': 'gsc', 'gat_act': 'gelu', 'readout_act': 'gelu', 'gcnnet_act': 'gelu', 'use_scheduler': True, 'schd_factor': 0.5, 'schd_patience': 10, 'schd_min_lr': 5e-06, 'supported_atoms': {'C', 'P', 'O', 'Br', 'F', 'N', 'I', 'S', 'Cl'}}\n"
          ]
        },
        {
          "output_type": "stream",
          "name": "stderr",
          "text": [
            "100%|██████████| 20/20 [02:50<00:00,  8.51s/it]\n"
          ]
        },
        {
          "output_type": "display_data",
          "data": {
            "text/plain": [
              "<IPython.core.display.HTML object>"
            ],
            "text/html": [
              "Waiting for W&B process to finish... <strong style=\"color:green\">(success).</strong>"
            ]
          },
          "metadata": {}
        },
        {
          "output_type": "display_data",
          "data": {
            "text/plain": [
              "<IPython.core.display.HTML object>"
            ],
            "text/html": [
              "<style>\n",
              "    table.wandb td:nth-child(1) { padding: 0 10px; text-align: left ; width: auto;} td:nth-child(2) {text-align: left ; width: 100%}\n",
              "    .wandb-row { display: flex; flex-direction: row; flex-wrap: wrap; justify-content: flex-start; width: 100% }\n",
              "    .wandb-col { display: flex; flex-direction: column; flex-basis: 100%; flex: 1; padding: 10px; }\n",
              "    </style>\n",
              "<div class=\"wandb-row\"><div class=\"wandb-col\"><h3>Run history:</h3><br/><table class=\"wandb\"><tr><td>epoch</td><td>▁▁▂▂▂▃▃▄▄▄▅▅▅▆▆▇▇▇██</td></tr><tr><td>train_loss</td><td>█▃▃▂▂▂▂▂▂▂▁▁▁▁▁▁▁▁▁▁</td></tr><tr><td>val_loss</td><td>█▆▅▆▄▅▄▃▅▃▂▂▂▂▂▃▁▂▁▁</td></tr></table><br/></div><div class=\"wandb-col\"><h3>Run summary:</h3><br/><table class=\"wandb\"><tr><td>epoch</td><td>20</td></tr><tr><td>train_loss</td><td>0.08664</td></tr><tr><td>val_loss</td><td>0.08135</td></tr></table><br/></div></div>"
            ]
          },
          "metadata": {}
        },
        {
          "output_type": "display_data",
          "data": {
            "text/plain": [
              "<IPython.core.display.HTML object>"
            ],
            "text/html": [
              " View run <strong style=\"color:#cdcd00\">generous-sweep-2</strong> at: <a href='https://wandb.ai/rossi22/GCN_LOGP_SWEEP/runs/g4pikb44' target=\"_blank\">https://wandb.ai/rossi22/GCN_LOGP_SWEEP/runs/g4pikb44</a><br/>Synced 5 W&B file(s), 0 media file(s), 0 artifact file(s) and 0 other file(s)"
            ]
          },
          "metadata": {}
        },
        {
          "output_type": "display_data",
          "data": {
            "text/plain": [
              "<IPython.core.display.HTML object>"
            ],
            "text/html": [
              "Find logs at: <code>./wandb/run-20230809_103745-g4pikb44/logs</code>"
            ]
          },
          "metadata": {}
        },
        {
          "output_type": "stream",
          "name": "stdout",
          "text": [
            "======================================================================================================================================================\n"
          ]
        },
        {
          "output_type": "stream",
          "name": "stderr",
          "text": [
            "\u001b[34m\u001b[1mwandb\u001b[0m: Agent Starting Run: fqt7neje with config:\n",
            "\u001b[34m\u001b[1mwandb\u001b[0m: \thidden_dim: 128\n",
            "\u001b[34m\u001b[1mwandb\u001b[0m: \tn_block: 1\n",
            "\u001b[34m\u001b[1mwandb\u001b[0m: \tn_head: 4\n",
            "\u001b[34m\u001b[1mwandb\u001b[0m: \tn_layer: 3\n",
            "\u001b[34m\u001b[1mwandb\u001b[0m: \tout_dim: 32\n"
          ]
        },
        {
          "output_type": "display_data",
          "data": {
            "text/plain": [
              "<IPython.core.display.HTML object>"
            ],
            "text/html": [
              "Tracking run with wandb version 0.15.8"
            ]
          },
          "metadata": {}
        },
        {
          "output_type": "display_data",
          "data": {
            "text/plain": [
              "<IPython.core.display.HTML object>"
            ],
            "text/html": [
              "Run data is saved locally in <code>/content/wandb/run-20230809_104056-fqt7neje</code>"
            ]
          },
          "metadata": {}
        },
        {
          "output_type": "display_data",
          "data": {
            "text/plain": [
              "<IPython.core.display.HTML object>"
            ],
            "text/html": [
              "Syncing run <strong><a href='https://wandb.ai/rossi22/GCN_LOGP_SWEEP/runs/fqt7neje' target=\"_blank\">fearless-sweep-3</a></strong> to <a href='https://wandb.ai/rossi22/GCN_LOGP_SWEEP' target=\"_blank\">Weights & Biases</a> (<a href='https://wandb.me/run' target=\"_blank\">docs</a>)<br/>Sweep page: <a href='https://wandb.ai/rossi22/GCN_LOGP_SWEEP/sweeps/76kd77r9' target=\"_blank\">https://wandb.ai/rossi22/GCN_LOGP_SWEEP/sweeps/76kd77r9</a>"
            ]
          },
          "metadata": {}
        },
        {
          "output_type": "display_data",
          "data": {
            "text/plain": [
              "<IPython.core.display.HTML object>"
            ],
            "text/html": [
              " View project at <a href='https://wandb.ai/rossi22/GCN_LOGP_SWEEP' target=\"_blank\">https://wandb.ai/rossi22/GCN_LOGP_SWEEP</a>"
            ]
          },
          "metadata": {}
        },
        {
          "output_type": "display_data",
          "data": {
            "text/plain": [
              "<IPython.core.display.HTML object>"
            ],
            "text/html": [
              " View sweep at <a href='https://wandb.ai/rossi22/GCN_LOGP_SWEEP/sweeps/76kd77r9' target=\"_blank\">https://wandb.ai/rossi22/GCN_LOGP_SWEEP/sweeps/76kd77r9</a>"
            ]
          },
          "metadata": {}
        },
        {
          "output_type": "display_data",
          "data": {
            "text/plain": [
              "<IPython.core.display.HTML object>"
            ],
            "text/html": [
              " View run at <a href='https://wandb.ai/rossi22/GCN_LOGP_SWEEP/runs/fqt7neje' target=\"_blank\">https://wandb.ai/rossi22/GCN_LOGP_SWEEP/runs/fqt7neje</a>"
            ]
          },
          "metadata": {}
        },
        {
          "output_type": "stream",
          "name": "stdout",
          "text": [
            "hparams : {'device': device(type='cuda', index=0), 'disable_rdkit_warnings': True, 'batch_size': 128, 'learning_rate': 0.001, 'epochs': 20, 'period': 1, 'n_block': 1, 'n_layer': 3, 'in_dim': 30, 'hidden_dim': 128, 'out_dim': 32, 'n_head': 4, 'use_bn': True, 'sc': 'gsc', 'gat_act': 'gelu', 'readout_act': 'gelu', 'gcnnet_act': 'gelu', 'use_scheduler': True, 'schd_factor': 0.5, 'schd_patience': 10, 'schd_min_lr': 5e-06, 'supported_atoms': {'C', 'P', 'O', 'Br', 'F', 'N', 'I', 'S', 'Cl'}}\n"
          ]
        },
        {
          "output_type": "stream",
          "name": "stderr",
          "text": [
            "100%|██████████| 20/20 [03:58<00:00, 11.93s/it]\n"
          ]
        },
        {
          "output_type": "display_data",
          "data": {
            "text/plain": [
              "<IPython.core.display.HTML object>"
            ],
            "text/html": [
              "Waiting for W&B process to finish... <strong style=\"color:green\">(success).</strong>"
            ]
          },
          "metadata": {}
        },
        {
          "output_type": "display_data",
          "data": {
            "text/plain": [
              "<IPython.core.display.HTML object>"
            ],
            "text/html": [
              "<style>\n",
              "    table.wandb td:nth-child(1) { padding: 0 10px; text-align: left ; width: auto;} td:nth-child(2) {text-align: left ; width: 100%}\n",
              "    .wandb-row { display: flex; flex-direction: row; flex-wrap: wrap; justify-content: flex-start; width: 100% }\n",
              "    .wandb-col { display: flex; flex-direction: column; flex-basis: 100%; flex: 1; padding: 10px; }\n",
              "    </style>\n",
              "<div class=\"wandb-row\"><div class=\"wandb-col\"><h3>Run history:</h3><br/><table class=\"wandb\"><tr><td>epoch</td><td>▁▁▂▂▂▃▃▄▄▄▅▅▅▆▆▇▇▇██</td></tr><tr><td>train_loss</td><td>█▃▃▂▂▂▂▂▂▂▁▁▁▁▁▁▁▁▁▁</td></tr><tr><td>val_loss</td><td>█▆▆▃▃▃▃▅▃▃▂▂▂▂▂▂▁▁▁▁</td></tr></table><br/></div><div class=\"wandb-col\"><h3>Run summary:</h3><br/><table class=\"wandb\"><tr><td>epoch</td><td>20</td></tr><tr><td>train_loss</td><td>0.07962</td></tr><tr><td>val_loss</td><td>0.08873</td></tr></table><br/></div></div>"
            ]
          },
          "metadata": {}
        },
        {
          "output_type": "display_data",
          "data": {
            "text/plain": [
              "<IPython.core.display.HTML object>"
            ],
            "text/html": [
              " View run <strong style=\"color:#cdcd00\">fearless-sweep-3</strong> at: <a href='https://wandb.ai/rossi22/GCN_LOGP_SWEEP/runs/fqt7neje' target=\"_blank\">https://wandb.ai/rossi22/GCN_LOGP_SWEEP/runs/fqt7neje</a><br/>Synced 5 W&B file(s), 0 media file(s), 0 artifact file(s) and 0 other file(s)"
            ]
          },
          "metadata": {}
        },
        {
          "output_type": "display_data",
          "data": {
            "text/plain": [
              "<IPython.core.display.HTML object>"
            ],
            "text/html": [
              "Find logs at: <code>./wandb/run-20230809_104056-fqt7neje/logs</code>"
            ]
          },
          "metadata": {}
        },
        {
          "output_type": "stream",
          "name": "stdout",
          "text": [
            "======================================================================================================================================================\n"
          ]
        },
        {
          "output_type": "stream",
          "name": "stderr",
          "text": [
            "\u001b[34m\u001b[1mwandb\u001b[0m: Agent Starting Run: v19dws2x with config:\n",
            "\u001b[34m\u001b[1mwandb\u001b[0m: \thidden_dim: 64\n",
            "\u001b[34m\u001b[1mwandb\u001b[0m: \tn_block: 1\n",
            "\u001b[34m\u001b[1mwandb\u001b[0m: \tn_head: 2\n",
            "\u001b[34m\u001b[1mwandb\u001b[0m: \tn_layer: 1\n",
            "\u001b[34m\u001b[1mwandb\u001b[0m: \tout_dim: 32\n"
          ]
        },
        {
          "output_type": "display_data",
          "data": {
            "text/plain": [
              "<IPython.core.display.HTML object>"
            ],
            "text/html": [
              "Tracking run with wandb version 0.15.8"
            ]
          },
          "metadata": {}
        },
        {
          "output_type": "display_data",
          "data": {
            "text/plain": [
              "<IPython.core.display.HTML object>"
            ],
            "text/html": [
              "Run data is saved locally in <code>/content/wandb/run-20230809_104517-v19dws2x</code>"
            ]
          },
          "metadata": {}
        },
        {
          "output_type": "display_data",
          "data": {
            "text/plain": [
              "<IPython.core.display.HTML object>"
            ],
            "text/html": [
              "Syncing run <strong><a href='https://wandb.ai/rossi22/GCN_LOGP_SWEEP/runs/v19dws2x' target=\"_blank\">frosty-sweep-4</a></strong> to <a href='https://wandb.ai/rossi22/GCN_LOGP_SWEEP' target=\"_blank\">Weights & Biases</a> (<a href='https://wandb.me/run' target=\"_blank\">docs</a>)<br/>Sweep page: <a href='https://wandb.ai/rossi22/GCN_LOGP_SWEEP/sweeps/76kd77r9' target=\"_blank\">https://wandb.ai/rossi22/GCN_LOGP_SWEEP/sweeps/76kd77r9</a>"
            ]
          },
          "metadata": {}
        },
        {
          "output_type": "display_data",
          "data": {
            "text/plain": [
              "<IPython.core.display.HTML object>"
            ],
            "text/html": [
              " View project at <a href='https://wandb.ai/rossi22/GCN_LOGP_SWEEP' target=\"_blank\">https://wandb.ai/rossi22/GCN_LOGP_SWEEP</a>"
            ]
          },
          "metadata": {}
        },
        {
          "output_type": "display_data",
          "data": {
            "text/plain": [
              "<IPython.core.display.HTML object>"
            ],
            "text/html": [
              " View sweep at <a href='https://wandb.ai/rossi22/GCN_LOGP_SWEEP/sweeps/76kd77r9' target=\"_blank\">https://wandb.ai/rossi22/GCN_LOGP_SWEEP/sweeps/76kd77r9</a>"
            ]
          },
          "metadata": {}
        },
        {
          "output_type": "display_data",
          "data": {
            "text/plain": [
              "<IPython.core.display.HTML object>"
            ],
            "text/html": [
              " View run at <a href='https://wandb.ai/rossi22/GCN_LOGP_SWEEP/runs/v19dws2x' target=\"_blank\">https://wandb.ai/rossi22/GCN_LOGP_SWEEP/runs/v19dws2x</a>"
            ]
          },
          "metadata": {}
        },
        {
          "output_type": "stream",
          "name": "stdout",
          "text": [
            "hparams : {'device': device(type='cuda', index=0), 'disable_rdkit_warnings': True, 'batch_size': 128, 'learning_rate': 0.001, 'epochs': 20, 'period': 1, 'n_block': 1, 'n_layer': 1, 'in_dim': 30, 'hidden_dim': 64, 'out_dim': 32, 'n_head': 2, 'use_bn': True, 'sc': 'gsc', 'gat_act': 'gelu', 'readout_act': 'gelu', 'gcnnet_act': 'gelu', 'use_scheduler': True, 'schd_factor': 0.5, 'schd_patience': 10, 'schd_min_lr': 5e-06, 'supported_atoms': {'C', 'P', 'O', 'Br', 'F', 'N', 'I', 'S', 'Cl'}}\n"
          ]
        },
        {
          "output_type": "stream",
          "name": "stderr",
          "text": [
            "100%|██████████| 20/20 [02:50<00:00,  8.51s/it]\n"
          ]
        },
        {
          "output_type": "display_data",
          "data": {
            "text/plain": [
              "<IPython.core.display.HTML object>"
            ],
            "text/html": [
              "Waiting for W&B process to finish... <strong style=\"color:green\">(success).</strong>"
            ]
          },
          "metadata": {}
        },
        {
          "output_type": "display_data",
          "data": {
            "text/plain": [
              "<IPython.core.display.HTML object>"
            ],
            "text/html": [
              "<style>\n",
              "    table.wandb td:nth-child(1) { padding: 0 10px; text-align: left ; width: auto;} td:nth-child(2) {text-align: left ; width: 100%}\n",
              "    .wandb-row { display: flex; flex-direction: row; flex-wrap: wrap; justify-content: flex-start; width: 100% }\n",
              "    .wandb-col { display: flex; flex-direction: column; flex-basis: 100%; flex: 1; padding: 10px; }\n",
              "    </style>\n",
              "<div class=\"wandb-row\"><div class=\"wandb-col\"><h3>Run history:</h3><br/><table class=\"wandb\"><tr><td>epoch</td><td>▁▁▂▂▂▃▃▄▄▄▅▅▅▆▆▇▇▇██</td></tr><tr><td>train_loss</td><td>█▂▂▂▂▂▂▁▁▁▁▁▁▁▁▁▁▁▁▁</td></tr><tr><td>val_loss</td><td>█▆▅▄▄▃▃▃▂▆▂▂▂▂▂▂▂▁▁▁</td></tr></table><br/></div><div class=\"wandb-col\"><h3>Run summary:</h3><br/><table class=\"wandb\"><tr><td>epoch</td><td>20</td></tr><tr><td>train_loss</td><td>0.12488</td></tr><tr><td>val_loss</td><td>0.12944</td></tr></table><br/></div></div>"
            ]
          },
          "metadata": {}
        },
        {
          "output_type": "display_data",
          "data": {
            "text/plain": [
              "<IPython.core.display.HTML object>"
            ],
            "text/html": [
              " View run <strong style=\"color:#cdcd00\">frosty-sweep-4</strong> at: <a href='https://wandb.ai/rossi22/GCN_LOGP_SWEEP/runs/v19dws2x' target=\"_blank\">https://wandb.ai/rossi22/GCN_LOGP_SWEEP/runs/v19dws2x</a><br/>Synced 5 W&B file(s), 0 media file(s), 0 artifact file(s) and 0 other file(s)"
            ]
          },
          "metadata": {}
        },
        {
          "output_type": "display_data",
          "data": {
            "text/plain": [
              "<IPython.core.display.HTML object>"
            ],
            "text/html": [
              "Find logs at: <code>./wandb/run-20230809_104517-v19dws2x/logs</code>"
            ]
          },
          "metadata": {}
        },
        {
          "output_type": "stream",
          "name": "stdout",
          "text": [
            "======================================================================================================================================================\n"
          ]
        },
        {
          "output_type": "stream",
          "name": "stderr",
          "text": [
            "\u001b[34m\u001b[1mwandb\u001b[0m: Agent Starting Run: z5q05geg with config:\n",
            "\u001b[34m\u001b[1mwandb\u001b[0m: \thidden_dim: 128\n",
            "\u001b[34m\u001b[1mwandb\u001b[0m: \tn_block: 1\n",
            "\u001b[34m\u001b[1mwandb\u001b[0m: \tn_head: 4\n",
            "\u001b[34m\u001b[1mwandb\u001b[0m: \tn_layer: 2\n",
            "\u001b[34m\u001b[1mwandb\u001b[0m: \tout_dim: 32\n"
          ]
        },
        {
          "output_type": "display_data",
          "data": {
            "text/plain": [
              "VBox(children=(Label(value='Waiting for wandb.init()...\\r'), FloatProgress(value=0.016668717666667967, max=1.0…"
            ],
            "application/vnd.jupyter.widget-view+json": {
              "version_major": 2,
              "version_minor": 0,
              "model_id": "afd71cd513a74453b719142b280bcd11"
            }
          },
          "metadata": {}
        },
        {
          "output_type": "display_data",
          "data": {
            "text/plain": [
              "<IPython.core.display.HTML object>"
            ],
            "text/html": [
              "Tracking run with wandb version 0.15.8"
            ]
          },
          "metadata": {}
        },
        {
          "output_type": "display_data",
          "data": {
            "text/plain": [
              "<IPython.core.display.HTML object>"
            ],
            "text/html": [
              "Run data is saved locally in <code>/content/wandb/run-20230809_104829-z5q05geg</code>"
            ]
          },
          "metadata": {}
        },
        {
          "output_type": "display_data",
          "data": {
            "text/plain": [
              "<IPython.core.display.HTML object>"
            ],
            "text/html": [
              "Syncing run <strong><a href='https://wandb.ai/rossi22/GCN_LOGP_SWEEP/runs/z5q05geg' target=\"_blank\">zesty-sweep-5</a></strong> to <a href='https://wandb.ai/rossi22/GCN_LOGP_SWEEP' target=\"_blank\">Weights & Biases</a> (<a href='https://wandb.me/run' target=\"_blank\">docs</a>)<br/>Sweep page: <a href='https://wandb.ai/rossi22/GCN_LOGP_SWEEP/sweeps/76kd77r9' target=\"_blank\">https://wandb.ai/rossi22/GCN_LOGP_SWEEP/sweeps/76kd77r9</a>"
            ]
          },
          "metadata": {}
        },
        {
          "output_type": "display_data",
          "data": {
            "text/plain": [
              "<IPython.core.display.HTML object>"
            ],
            "text/html": [
              " View project at <a href='https://wandb.ai/rossi22/GCN_LOGP_SWEEP' target=\"_blank\">https://wandb.ai/rossi22/GCN_LOGP_SWEEP</a>"
            ]
          },
          "metadata": {}
        },
        {
          "output_type": "display_data",
          "data": {
            "text/plain": [
              "<IPython.core.display.HTML object>"
            ],
            "text/html": [
              " View sweep at <a href='https://wandb.ai/rossi22/GCN_LOGP_SWEEP/sweeps/76kd77r9' target=\"_blank\">https://wandb.ai/rossi22/GCN_LOGP_SWEEP/sweeps/76kd77r9</a>"
            ]
          },
          "metadata": {}
        },
        {
          "output_type": "display_data",
          "data": {
            "text/plain": [
              "<IPython.core.display.HTML object>"
            ],
            "text/html": [
              " View run at <a href='https://wandb.ai/rossi22/GCN_LOGP_SWEEP/runs/z5q05geg' target=\"_blank\">https://wandb.ai/rossi22/GCN_LOGP_SWEEP/runs/z5q05geg</a>"
            ]
          },
          "metadata": {}
        },
        {
          "output_type": "stream",
          "name": "stdout",
          "text": [
            "hparams : {'device': device(type='cuda', index=0), 'disable_rdkit_warnings': True, 'batch_size': 128, 'learning_rate': 0.001, 'epochs': 20, 'period': 1, 'n_block': 1, 'n_layer': 2, 'in_dim': 30, 'hidden_dim': 128, 'out_dim': 32, 'n_head': 4, 'use_bn': True, 'sc': 'gsc', 'gat_act': 'gelu', 'readout_act': 'gelu', 'gcnnet_act': 'gelu', 'use_scheduler': True, 'schd_factor': 0.5, 'schd_patience': 10, 'schd_min_lr': 5e-06, 'supported_atoms': {'C', 'P', 'O', 'Br', 'F', 'N', 'I', 'S', 'Cl'}}\n"
          ]
        },
        {
          "output_type": "stream",
          "name": "stderr",
          "text": [
            "100%|██████████| 20/20 [03:22<00:00, 10.14s/it]\n"
          ]
        },
        {
          "output_type": "display_data",
          "data": {
            "text/plain": [
              "<IPython.core.display.HTML object>"
            ],
            "text/html": [
              "Waiting for W&B process to finish... <strong style=\"color:green\">(success).</strong>"
            ]
          },
          "metadata": {}
        },
        {
          "output_type": "display_data",
          "data": {
            "text/plain": [
              "<IPython.core.display.HTML object>"
            ],
            "text/html": [
              "<style>\n",
              "    table.wandb td:nth-child(1) { padding: 0 10px; text-align: left ; width: auto;} td:nth-child(2) {text-align: left ; width: 100%}\n",
              "    .wandb-row { display: flex; flex-direction: row; flex-wrap: wrap; justify-content: flex-start; width: 100% }\n",
              "    .wandb-col { display: flex; flex-direction: column; flex-basis: 100%; flex: 1; padding: 10px; }\n",
              "    </style>\n",
              "<div class=\"wandb-row\"><div class=\"wandb-col\"><h3>Run history:</h3><br/><table class=\"wandb\"><tr><td>epoch</td><td>▁▁▂▂▂▃▃▄▄▄▅▅▅▆▆▇▇▇██</td></tr><tr><td>train_loss</td><td>█▃▃▂▂▂▂▂▂▁▁▁▁▁▁▁▁▁▁▁</td></tr><tr><td>val_loss</td><td>▆█▄▄▃▃▃▃▂▂▂▂▂▂▁▁▁▁▁▁</td></tr></table><br/></div><div class=\"wandb-col\"><h3>Run summary:</h3><br/><table class=\"wandb\"><tr><td>epoch</td><td>20</td></tr><tr><td>train_loss</td><td>0.08668</td></tr><tr><td>val_loss</td><td>0.08925</td></tr></table><br/></div></div>"
            ]
          },
          "metadata": {}
        },
        {
          "output_type": "display_data",
          "data": {
            "text/plain": [
              "<IPython.core.display.HTML object>"
            ],
            "text/html": [
              " View run <strong style=\"color:#cdcd00\">zesty-sweep-5</strong> at: <a href='https://wandb.ai/rossi22/GCN_LOGP_SWEEP/runs/z5q05geg' target=\"_blank\">https://wandb.ai/rossi22/GCN_LOGP_SWEEP/runs/z5q05geg</a><br/>Synced 5 W&B file(s), 0 media file(s), 0 artifact file(s) and 0 other file(s)"
            ]
          },
          "metadata": {}
        },
        {
          "output_type": "display_data",
          "data": {
            "text/plain": [
              "<IPython.core.display.HTML object>"
            ],
            "text/html": [
              "Find logs at: <code>./wandb/run-20230809_104829-z5q05geg/logs</code>"
            ]
          },
          "metadata": {}
        },
        {
          "output_type": "stream",
          "name": "stdout",
          "text": [
            "======================================================================================================================================================\n"
          ]
        },
        {
          "output_type": "stream",
          "name": "stderr",
          "text": [
            "\u001b[34m\u001b[1mwandb\u001b[0m: Agent Starting Run: vi1fsdks with config:\n",
            "\u001b[34m\u001b[1mwandb\u001b[0m: \thidden_dim: 64\n",
            "\u001b[34m\u001b[1mwandb\u001b[0m: \tn_block: 2\n",
            "\u001b[34m\u001b[1mwandb\u001b[0m: \tn_head: 4\n",
            "\u001b[34m\u001b[1mwandb\u001b[0m: \tn_layer: 1\n",
            "\u001b[34m\u001b[1mwandb\u001b[0m: \tout_dim: 64\n"
          ]
        },
        {
          "output_type": "display_data",
          "data": {
            "text/plain": [
              "<IPython.core.display.HTML object>"
            ],
            "text/html": [
              "Tracking run with wandb version 0.15.8"
            ]
          },
          "metadata": {}
        },
        {
          "output_type": "display_data",
          "data": {
            "text/plain": [
              "<IPython.core.display.HTML object>"
            ],
            "text/html": [
              "Run data is saved locally in <code>/content/wandb/run-20230809_105215-vi1fsdks</code>"
            ]
          },
          "metadata": {}
        },
        {
          "output_type": "display_data",
          "data": {
            "text/plain": [
              "<IPython.core.display.HTML object>"
            ],
            "text/html": [
              "Syncing run <strong><a href='https://wandb.ai/rossi22/GCN_LOGP_SWEEP/runs/vi1fsdks' target=\"_blank\">golden-sweep-6</a></strong> to <a href='https://wandb.ai/rossi22/GCN_LOGP_SWEEP' target=\"_blank\">Weights & Biases</a> (<a href='https://wandb.me/run' target=\"_blank\">docs</a>)<br/>Sweep page: <a href='https://wandb.ai/rossi22/GCN_LOGP_SWEEP/sweeps/76kd77r9' target=\"_blank\">https://wandb.ai/rossi22/GCN_LOGP_SWEEP/sweeps/76kd77r9</a>"
            ]
          },
          "metadata": {}
        },
        {
          "output_type": "display_data",
          "data": {
            "text/plain": [
              "<IPython.core.display.HTML object>"
            ],
            "text/html": [
              " View project at <a href='https://wandb.ai/rossi22/GCN_LOGP_SWEEP' target=\"_blank\">https://wandb.ai/rossi22/GCN_LOGP_SWEEP</a>"
            ]
          },
          "metadata": {}
        },
        {
          "output_type": "display_data",
          "data": {
            "text/plain": [
              "<IPython.core.display.HTML object>"
            ],
            "text/html": [
              " View sweep at <a href='https://wandb.ai/rossi22/GCN_LOGP_SWEEP/sweeps/76kd77r9' target=\"_blank\">https://wandb.ai/rossi22/GCN_LOGP_SWEEP/sweeps/76kd77r9</a>"
            ]
          },
          "metadata": {}
        },
        {
          "output_type": "display_data",
          "data": {
            "text/plain": [
              "<IPython.core.display.HTML object>"
            ],
            "text/html": [
              " View run at <a href='https://wandb.ai/rossi22/GCN_LOGP_SWEEP/runs/vi1fsdks' target=\"_blank\">https://wandb.ai/rossi22/GCN_LOGP_SWEEP/runs/vi1fsdks</a>"
            ]
          },
          "metadata": {}
        },
        {
          "output_type": "stream",
          "name": "stdout",
          "text": [
            "hparams : {'device': device(type='cuda', index=0), 'disable_rdkit_warnings': True, 'batch_size': 128, 'learning_rate': 0.001, 'epochs': 20, 'period': 1, 'n_block': 2, 'n_layer': 1, 'in_dim': 30, 'hidden_dim': 64, 'out_dim': 64, 'n_head': 4, 'use_bn': True, 'sc': 'gsc', 'gat_act': 'gelu', 'readout_act': 'gelu', 'gcnnet_act': 'gelu', 'use_scheduler': True, 'schd_factor': 0.5, 'schd_patience': 10, 'schd_min_lr': 5e-06, 'supported_atoms': {'C', 'P', 'O', 'Br', 'F', 'N', 'I', 'S', 'Cl'}}\n"
          ]
        },
        {
          "output_type": "stream",
          "name": "stderr",
          "text": [
            "100%|██████████| 20/20 [03:36<00:00, 10.81s/it]\n"
          ]
        },
        {
          "output_type": "display_data",
          "data": {
            "text/plain": [
              "<IPython.core.display.HTML object>"
            ],
            "text/html": [
              "Waiting for W&B process to finish... <strong style=\"color:green\">(success).</strong>"
            ]
          },
          "metadata": {}
        },
        {
          "output_type": "display_data",
          "data": {
            "text/plain": [
              "<IPython.core.display.HTML object>"
            ],
            "text/html": [
              "<style>\n",
              "    table.wandb td:nth-child(1) { padding: 0 10px; text-align: left ; width: auto;} td:nth-child(2) {text-align: left ; width: 100%}\n",
              "    .wandb-row { display: flex; flex-direction: row; flex-wrap: wrap; justify-content: flex-start; width: 100% }\n",
              "    .wandb-col { display: flex; flex-direction: column; flex-basis: 100%; flex: 1; padding: 10px; }\n",
              "    </style>\n",
              "<div class=\"wandb-row\"><div class=\"wandb-col\"><h3>Run history:</h3><br/><table class=\"wandb\"><tr><td>epoch</td><td>▁▁▂▂▂▃▃▄▄▄▅▅▅▆▆▇▇▇██</td></tr><tr><td>train_loss</td><td>█▃▂▂▂▂▂▂▂▁▁▁▁▁▁▁▁▁▁▁</td></tr><tr><td>val_loss</td><td>█▆▆▅▄▃▃▄▃▂▂▂▂▁▂▁▁▁▁▁</td></tr></table><br/></div><div class=\"wandb-col\"><h3>Run summary:</h3><br/><table class=\"wandb\"><tr><td>epoch</td><td>20</td></tr><tr><td>train_loss</td><td>0.09089</td></tr><tr><td>val_loss</td><td>0.09823</td></tr></table><br/></div></div>"
            ]
          },
          "metadata": {}
        },
        {
          "output_type": "display_data",
          "data": {
            "text/plain": [
              "<IPython.core.display.HTML object>"
            ],
            "text/html": [
              " View run <strong style=\"color:#cdcd00\">golden-sweep-6</strong> at: <a href='https://wandb.ai/rossi22/GCN_LOGP_SWEEP/runs/vi1fsdks' target=\"_blank\">https://wandb.ai/rossi22/GCN_LOGP_SWEEP/runs/vi1fsdks</a><br/>Synced 5 W&B file(s), 0 media file(s), 0 artifact file(s) and 0 other file(s)"
            ]
          },
          "metadata": {}
        },
        {
          "output_type": "display_data",
          "data": {
            "text/plain": [
              "<IPython.core.display.HTML object>"
            ],
            "text/html": [
              "Find logs at: <code>./wandb/run-20230809_105215-vi1fsdks/logs</code>"
            ]
          },
          "metadata": {}
        },
        {
          "output_type": "stream",
          "name": "stdout",
          "text": [
            "======================================================================================================================================================\n"
          ]
        },
        {
          "output_type": "stream",
          "name": "stderr",
          "text": [
            "\u001b[34m\u001b[1mwandb\u001b[0m: Agent Starting Run: qnb4rvwl with config:\n",
            "\u001b[34m\u001b[1mwandb\u001b[0m: \thidden_dim: 128\n",
            "\u001b[34m\u001b[1mwandb\u001b[0m: \tn_block: 3\n",
            "\u001b[34m\u001b[1mwandb\u001b[0m: \tn_head: 4\n",
            "\u001b[34m\u001b[1mwandb\u001b[0m: \tn_layer: 2\n",
            "\u001b[34m\u001b[1mwandb\u001b[0m: \tout_dim: 64\n"
          ]
        },
        {
          "output_type": "display_data",
          "data": {
            "text/plain": [
              "<IPython.core.display.HTML object>"
            ],
            "text/html": [
              "Tracking run with wandb version 0.15.8"
            ]
          },
          "metadata": {}
        },
        {
          "output_type": "display_data",
          "data": {
            "text/plain": [
              "<IPython.core.display.HTML object>"
            ],
            "text/html": [
              "Run data is saved locally in <code>/content/wandb/run-20230809_105612-qnb4rvwl</code>"
            ]
          },
          "metadata": {}
        },
        {
          "output_type": "display_data",
          "data": {
            "text/plain": [
              "<IPython.core.display.HTML object>"
            ],
            "text/html": [
              "Syncing run <strong><a href='https://wandb.ai/rossi22/GCN_LOGP_SWEEP/runs/qnb4rvwl' target=\"_blank\">hardy-sweep-7</a></strong> to <a href='https://wandb.ai/rossi22/GCN_LOGP_SWEEP' target=\"_blank\">Weights & Biases</a> (<a href='https://wandb.me/run' target=\"_blank\">docs</a>)<br/>Sweep page: <a href='https://wandb.ai/rossi22/GCN_LOGP_SWEEP/sweeps/76kd77r9' target=\"_blank\">https://wandb.ai/rossi22/GCN_LOGP_SWEEP/sweeps/76kd77r9</a>"
            ]
          },
          "metadata": {}
        },
        {
          "output_type": "display_data",
          "data": {
            "text/plain": [
              "<IPython.core.display.HTML object>"
            ],
            "text/html": [
              " View project at <a href='https://wandb.ai/rossi22/GCN_LOGP_SWEEP' target=\"_blank\">https://wandb.ai/rossi22/GCN_LOGP_SWEEP</a>"
            ]
          },
          "metadata": {}
        },
        {
          "output_type": "display_data",
          "data": {
            "text/plain": [
              "<IPython.core.display.HTML object>"
            ],
            "text/html": [
              " View sweep at <a href='https://wandb.ai/rossi22/GCN_LOGP_SWEEP/sweeps/76kd77r9' target=\"_blank\">https://wandb.ai/rossi22/GCN_LOGP_SWEEP/sweeps/76kd77r9</a>"
            ]
          },
          "metadata": {}
        },
        {
          "output_type": "display_data",
          "data": {
            "text/plain": [
              "<IPython.core.display.HTML object>"
            ],
            "text/html": [
              " View run at <a href='https://wandb.ai/rossi22/GCN_LOGP_SWEEP/runs/qnb4rvwl' target=\"_blank\">https://wandb.ai/rossi22/GCN_LOGP_SWEEP/runs/qnb4rvwl</a>"
            ]
          },
          "metadata": {}
        },
        {
          "output_type": "stream",
          "name": "stdout",
          "text": [
            "hparams : {'device': device(type='cuda', index=0), 'disable_rdkit_warnings': True, 'batch_size': 128, 'learning_rate': 0.001, 'epochs': 20, 'period': 1, 'n_block': 3, 'n_layer': 2, 'in_dim': 30, 'hidden_dim': 128, 'out_dim': 64, 'n_head': 4, 'use_bn': True, 'sc': 'gsc', 'gat_act': 'gelu', 'readout_act': 'gelu', 'gcnnet_act': 'gelu', 'use_scheduler': True, 'schd_factor': 0.5, 'schd_patience': 10, 'schd_min_lr': 5e-06, 'supported_atoms': {'C', 'P', 'O', 'Br', 'F', 'N', 'I', 'S', 'Cl'}}\n"
          ]
        },
        {
          "output_type": "stream",
          "name": "stderr",
          "text": [
            "100%|██████████| 20/20 [05:58<00:00, 17.90s/it]\n"
          ]
        },
        {
          "output_type": "display_data",
          "data": {
            "text/plain": [
              "<IPython.core.display.HTML object>"
            ],
            "text/html": [
              "Waiting for W&B process to finish... <strong style=\"color:green\">(success).</strong>"
            ]
          },
          "metadata": {}
        },
        {
          "output_type": "display_data",
          "data": {
            "text/plain": [
              "<IPython.core.display.HTML object>"
            ],
            "text/html": [
              "<style>\n",
              "    table.wandb td:nth-child(1) { padding: 0 10px; text-align: left ; width: auto;} td:nth-child(2) {text-align: left ; width: 100%}\n",
              "    .wandb-row { display: flex; flex-direction: row; flex-wrap: wrap; justify-content: flex-start; width: 100% }\n",
              "    .wandb-col { display: flex; flex-direction: column; flex-basis: 100%; flex: 1; padding: 10px; }\n",
              "    </style>\n",
              "<div class=\"wandb-row\"><div class=\"wandb-col\"><h3>Run history:</h3><br/><table class=\"wandb\"><tr><td>epoch</td><td>▁▁▂▂▂▃▃▄▄▄▅▅▅▆▆▇▇▇██</td></tr><tr><td>train_loss</td><td>█▄▃▃▃▂▂▂▂▂▂▂▁▁▁▁▁▁▁▁</td></tr><tr><td>val_loss</td><td>█▇▅▄▅▇▃▂▃▂▂▂▂▂▁▃▁▁▂▁</td></tr></table><br/></div><div class=\"wandb-col\"><h3>Run summary:</h3><br/><table class=\"wandb\"><tr><td>epoch</td><td>20</td></tr><tr><td>train_loss</td><td>0.04414</td></tr><tr><td>val_loss</td><td>0.04957</td></tr></table><br/></div></div>"
            ]
          },
          "metadata": {}
        },
        {
          "output_type": "display_data",
          "data": {
            "text/plain": [
              "<IPython.core.display.HTML object>"
            ],
            "text/html": [
              " View run <strong style=\"color:#cdcd00\">hardy-sweep-7</strong> at: <a href='https://wandb.ai/rossi22/GCN_LOGP_SWEEP/runs/qnb4rvwl' target=\"_blank\">https://wandb.ai/rossi22/GCN_LOGP_SWEEP/runs/qnb4rvwl</a><br/>Synced 5 W&B file(s), 0 media file(s), 0 artifact file(s) and 0 other file(s)"
            ]
          },
          "metadata": {}
        },
        {
          "output_type": "display_data",
          "data": {
            "text/plain": [
              "<IPython.core.display.HTML object>"
            ],
            "text/html": [
              "Find logs at: <code>./wandb/run-20230809_105612-qnb4rvwl/logs</code>"
            ]
          },
          "metadata": {}
        },
        {
          "output_type": "stream",
          "name": "stdout",
          "text": [
            "======================================================================================================================================================\n"
          ]
        },
        {
          "output_type": "stream",
          "name": "stderr",
          "text": [
            "\u001b[34m\u001b[1mwandb\u001b[0m: Agent Starting Run: m9ekdgyt with config:\n",
            "\u001b[34m\u001b[1mwandb\u001b[0m: \thidden_dim: 256\n",
            "\u001b[34m\u001b[1mwandb\u001b[0m: \tn_block: 1\n",
            "\u001b[34m\u001b[1mwandb\u001b[0m: \tn_head: 1\n",
            "\u001b[34m\u001b[1mwandb\u001b[0m: \tn_layer: 3\n",
            "\u001b[34m\u001b[1mwandb\u001b[0m: \tout_dim: 64\n"
          ]
        },
        {
          "output_type": "display_data",
          "data": {
            "text/plain": [
              "<IPython.core.display.HTML object>"
            ],
            "text/html": [
              "Tracking run with wandb version 0.15.8"
            ]
          },
          "metadata": {}
        },
        {
          "output_type": "display_data",
          "data": {
            "text/plain": [
              "<IPython.core.display.HTML object>"
            ],
            "text/html": [
              "Run data is saved locally in <code>/content/wandb/run-20230809_110234-m9ekdgyt</code>"
            ]
          },
          "metadata": {}
        },
        {
          "output_type": "display_data",
          "data": {
            "text/plain": [
              "<IPython.core.display.HTML object>"
            ],
            "text/html": [
              "Syncing run <strong><a href='https://wandb.ai/rossi22/GCN_LOGP_SWEEP/runs/m9ekdgyt' target=\"_blank\">wild-sweep-8</a></strong> to <a href='https://wandb.ai/rossi22/GCN_LOGP_SWEEP' target=\"_blank\">Weights & Biases</a> (<a href='https://wandb.me/run' target=\"_blank\">docs</a>)<br/>Sweep page: <a href='https://wandb.ai/rossi22/GCN_LOGP_SWEEP/sweeps/76kd77r9' target=\"_blank\">https://wandb.ai/rossi22/GCN_LOGP_SWEEP/sweeps/76kd77r9</a>"
            ]
          },
          "metadata": {}
        },
        {
          "output_type": "display_data",
          "data": {
            "text/plain": [
              "<IPython.core.display.HTML object>"
            ],
            "text/html": [
              " View project at <a href='https://wandb.ai/rossi22/GCN_LOGP_SWEEP' target=\"_blank\">https://wandb.ai/rossi22/GCN_LOGP_SWEEP</a>"
            ]
          },
          "metadata": {}
        },
        {
          "output_type": "display_data",
          "data": {
            "text/plain": [
              "<IPython.core.display.HTML object>"
            ],
            "text/html": [
              " View sweep at <a href='https://wandb.ai/rossi22/GCN_LOGP_SWEEP/sweeps/76kd77r9' target=\"_blank\">https://wandb.ai/rossi22/GCN_LOGP_SWEEP/sweeps/76kd77r9</a>"
            ]
          },
          "metadata": {}
        },
        {
          "output_type": "display_data",
          "data": {
            "text/plain": [
              "<IPython.core.display.HTML object>"
            ],
            "text/html": [
              " View run at <a href='https://wandb.ai/rossi22/GCN_LOGP_SWEEP/runs/m9ekdgyt' target=\"_blank\">https://wandb.ai/rossi22/GCN_LOGP_SWEEP/runs/m9ekdgyt</a>"
            ]
          },
          "metadata": {}
        },
        {
          "output_type": "stream",
          "name": "stdout",
          "text": [
            "hparams : {'device': device(type='cuda', index=0), 'disable_rdkit_warnings': True, 'batch_size': 128, 'learning_rate': 0.001, 'epochs': 20, 'period': 1, 'n_block': 1, 'n_layer': 3, 'in_dim': 30, 'hidden_dim': 256, 'out_dim': 64, 'n_head': 1, 'use_bn': True, 'sc': 'gsc', 'gat_act': 'gelu', 'readout_act': 'gelu', 'gcnnet_act': 'gelu', 'use_scheduler': True, 'schd_factor': 0.5, 'schd_patience': 10, 'schd_min_lr': 5e-06, 'supported_atoms': {'C', 'P', 'O', 'Br', 'F', 'N', 'I', 'S', 'Cl'}}\n"
          ]
        },
        {
          "output_type": "stream",
          "name": "stderr",
          "text": [
            "100%|██████████| 20/20 [04:17<00:00, 12.86s/it]\n"
          ]
        },
        {
          "output_type": "display_data",
          "data": {
            "text/plain": [
              "<IPython.core.display.HTML object>"
            ],
            "text/html": [
              "Waiting for W&B process to finish... <strong style=\"color:green\">(success).</strong>"
            ]
          },
          "metadata": {}
        },
        {
          "output_type": "display_data",
          "data": {
            "text/plain": [
              "<IPython.core.display.HTML object>"
            ],
            "text/html": [
              "<style>\n",
              "    table.wandb td:nth-child(1) { padding: 0 10px; text-align: left ; width: auto;} td:nth-child(2) {text-align: left ; width: 100%}\n",
              "    .wandb-row { display: flex; flex-direction: row; flex-wrap: wrap; justify-content: flex-start; width: 100% }\n",
              "    .wandb-col { display: flex; flex-direction: column; flex-basis: 100%; flex: 1; padding: 10px; }\n",
              "    </style>\n",
              "<div class=\"wandb-row\"><div class=\"wandb-col\"><h3>Run history:</h3><br/><table class=\"wandb\"><tr><td>epoch</td><td>▁▁▂▂▂▃▃▄▄▄▅▅▅▆▆▇▇▇██</td></tr><tr><td>train_loss</td><td>█▄▃▃▃▂▂▂▂▂▂▁▁▁▁▁▁▁▁▁</td></tr><tr><td>val_loss</td><td>█▇▇▇▅▃▃▃▃▃▂▃▂▁▂▁▁▁▁▁</td></tr></table><br/></div><div class=\"wandb-col\"><h3>Run summary:</h3><br/><table class=\"wandb\"><tr><td>epoch</td><td>20</td></tr><tr><td>train_loss</td><td>0.05483</td></tr><tr><td>val_loss</td><td>0.05843</td></tr></table><br/></div></div>"
            ]
          },
          "metadata": {}
        },
        {
          "output_type": "display_data",
          "data": {
            "text/plain": [
              "<IPython.core.display.HTML object>"
            ],
            "text/html": [
              " View run <strong style=\"color:#cdcd00\">wild-sweep-8</strong> at: <a href='https://wandb.ai/rossi22/GCN_LOGP_SWEEP/runs/m9ekdgyt' target=\"_blank\">https://wandb.ai/rossi22/GCN_LOGP_SWEEP/runs/m9ekdgyt</a><br/>Synced 5 W&B file(s), 0 media file(s), 0 artifact file(s) and 0 other file(s)"
            ]
          },
          "metadata": {}
        },
        {
          "output_type": "display_data",
          "data": {
            "text/plain": [
              "<IPython.core.display.HTML object>"
            ],
            "text/html": [
              "Find logs at: <code>./wandb/run-20230809_110234-m9ekdgyt/logs</code>"
            ]
          },
          "metadata": {}
        },
        {
          "output_type": "stream",
          "name": "stdout",
          "text": [
            "======================================================================================================================================================\n"
          ]
        },
        {
          "output_type": "stream",
          "name": "stderr",
          "text": [
            "\u001b[34m\u001b[1mwandb\u001b[0m: Agent Starting Run: 0nhy88n8 with config:\n",
            "\u001b[34m\u001b[1mwandb\u001b[0m: \thidden_dim: 64\n",
            "\u001b[34m\u001b[1mwandb\u001b[0m: \tn_block: 1\n",
            "\u001b[34m\u001b[1mwandb\u001b[0m: \tn_head: 4\n",
            "\u001b[34m\u001b[1mwandb\u001b[0m: \tn_layer: 2\n",
            "\u001b[34m\u001b[1mwandb\u001b[0m: \tout_dim: 64\n"
          ]
        },
        {
          "output_type": "display_data",
          "data": {
            "text/plain": [
              "<IPython.core.display.HTML object>"
            ],
            "text/html": [
              "Tracking run with wandb version 0.15.8"
            ]
          },
          "metadata": {}
        },
        {
          "output_type": "display_data",
          "data": {
            "text/plain": [
              "<IPython.core.display.HTML object>"
            ],
            "text/html": [
              "Run data is saved locally in <code>/content/wandb/run-20230809_110712-0nhy88n8</code>"
            ]
          },
          "metadata": {}
        },
        {
          "output_type": "display_data",
          "data": {
            "text/plain": [
              "<IPython.core.display.HTML object>"
            ],
            "text/html": [
              "Syncing run <strong><a href='https://wandb.ai/rossi22/GCN_LOGP_SWEEP/runs/0nhy88n8' target=\"_blank\">whole-sweep-9</a></strong> to <a href='https://wandb.ai/rossi22/GCN_LOGP_SWEEP' target=\"_blank\">Weights & Biases</a> (<a href='https://wandb.me/run' target=\"_blank\">docs</a>)<br/>Sweep page: <a href='https://wandb.ai/rossi22/GCN_LOGP_SWEEP/sweeps/76kd77r9' target=\"_blank\">https://wandb.ai/rossi22/GCN_LOGP_SWEEP/sweeps/76kd77r9</a>"
            ]
          },
          "metadata": {}
        },
        {
          "output_type": "display_data",
          "data": {
            "text/plain": [
              "<IPython.core.display.HTML object>"
            ],
            "text/html": [
              " View project at <a href='https://wandb.ai/rossi22/GCN_LOGP_SWEEP' target=\"_blank\">https://wandb.ai/rossi22/GCN_LOGP_SWEEP</a>"
            ]
          },
          "metadata": {}
        },
        {
          "output_type": "display_data",
          "data": {
            "text/plain": [
              "<IPython.core.display.HTML object>"
            ],
            "text/html": [
              " View sweep at <a href='https://wandb.ai/rossi22/GCN_LOGP_SWEEP/sweeps/76kd77r9' target=\"_blank\">https://wandb.ai/rossi22/GCN_LOGP_SWEEP/sweeps/76kd77r9</a>"
            ]
          },
          "metadata": {}
        },
        {
          "output_type": "display_data",
          "data": {
            "text/plain": [
              "<IPython.core.display.HTML object>"
            ],
            "text/html": [
              " View run at <a href='https://wandb.ai/rossi22/GCN_LOGP_SWEEP/runs/0nhy88n8' target=\"_blank\">https://wandb.ai/rossi22/GCN_LOGP_SWEEP/runs/0nhy88n8</a>"
            ]
          },
          "metadata": {}
        },
        {
          "output_type": "stream",
          "name": "stdout",
          "text": [
            "hparams : {'device': device(type='cuda', index=0), 'disable_rdkit_warnings': True, 'batch_size': 128, 'learning_rate': 0.001, 'epochs': 20, 'period': 1, 'n_block': 1, 'n_layer': 2, 'in_dim': 30, 'hidden_dim': 64, 'out_dim': 64, 'n_head': 4, 'use_bn': True, 'sc': 'gsc', 'gat_act': 'gelu', 'readout_act': 'gelu', 'gcnnet_act': 'gelu', 'use_scheduler': True, 'schd_factor': 0.5, 'schd_patience': 10, 'schd_min_lr': 5e-06, 'supported_atoms': {'C', 'P', 'O', 'Br', 'F', 'N', 'I', 'S', 'Cl'}}\n"
          ]
        },
        {
          "output_type": "stream",
          "name": "stderr",
          "text": [
            "100%|██████████| 20/20 [03:25<00:00, 10.27s/it]\n"
          ]
        },
        {
          "output_type": "display_data",
          "data": {
            "text/plain": [
              "<IPython.core.display.HTML object>"
            ],
            "text/html": [
              "Waiting for W&B process to finish... <strong style=\"color:green\">(success).</strong>"
            ]
          },
          "metadata": {}
        },
        {
          "output_type": "display_data",
          "data": {
            "text/plain": [
              "<IPython.core.display.HTML object>"
            ],
            "text/html": [
              "<style>\n",
              "    table.wandb td:nth-child(1) { padding: 0 10px; text-align: left ; width: auto;} td:nth-child(2) {text-align: left ; width: 100%}\n",
              "    .wandb-row { display: flex; flex-direction: row; flex-wrap: wrap; justify-content: flex-start; width: 100% }\n",
              "    .wandb-col { display: flex; flex-direction: column; flex-basis: 100%; flex: 1; padding: 10px; }\n",
              "    </style>\n",
              "<div class=\"wandb-row\"><div class=\"wandb-col\"><h3>Run history:</h3><br/><table class=\"wandb\"><tr><td>epoch</td><td>▁▁▂▂▂▃▃▄▄▄▅▅▅▆▆▇▇▇██</td></tr><tr><td>train_loss</td><td>█▃▂▂▂▂▂▂▂▁▁▁▁▁▁▁▁▁▁▁</td></tr><tr><td>val_loss</td><td>█▄▄▃▃▃▃▄▂▂▂▃▂▂▁▃▁▂▂▁</td></tr></table><br/></div><div class=\"wandb-col\"><h3>Run summary:</h3><br/><table class=\"wandb\"><tr><td>epoch</td><td>20</td></tr><tr><td>train_loss</td><td>0.10616</td></tr><tr><td>val_loss</td><td>0.10645</td></tr></table><br/></div></div>"
            ]
          },
          "metadata": {}
        },
        {
          "output_type": "display_data",
          "data": {
            "text/plain": [
              "<IPython.core.display.HTML object>"
            ],
            "text/html": [
              " View run <strong style=\"color:#cdcd00\">whole-sweep-9</strong> at: <a href='https://wandb.ai/rossi22/GCN_LOGP_SWEEP/runs/0nhy88n8' target=\"_blank\">https://wandb.ai/rossi22/GCN_LOGP_SWEEP/runs/0nhy88n8</a><br/>Synced 5 W&B file(s), 0 media file(s), 0 artifact file(s) and 0 other file(s)"
            ]
          },
          "metadata": {}
        },
        {
          "output_type": "display_data",
          "data": {
            "text/plain": [
              "<IPython.core.display.HTML object>"
            ],
            "text/html": [
              "Find logs at: <code>./wandb/run-20230809_110712-0nhy88n8/logs</code>"
            ]
          },
          "metadata": {}
        },
        {
          "output_type": "stream",
          "name": "stdout",
          "text": [
            "======================================================================================================================================================\n"
          ]
        },
        {
          "output_type": "stream",
          "name": "stderr",
          "text": [
            "\u001b[34m\u001b[1mwandb\u001b[0m: Agent Starting Run: z580qliq with config:\n",
            "\u001b[34m\u001b[1mwandb\u001b[0m: \thidden_dim: 256\n",
            "\u001b[34m\u001b[1mwandb\u001b[0m: \tn_block: 2\n",
            "\u001b[34m\u001b[1mwandb\u001b[0m: \tn_head: 4\n",
            "\u001b[34m\u001b[1mwandb\u001b[0m: \tn_layer: 1\n",
            "\u001b[34m\u001b[1mwandb\u001b[0m: \tout_dim: 64\n"
          ]
        },
        {
          "output_type": "display_data",
          "data": {
            "text/plain": [
              "<IPython.core.display.HTML object>"
            ],
            "text/html": [
              "Tracking run with wandb version 0.15.8"
            ]
          },
          "metadata": {}
        },
        {
          "output_type": "display_data",
          "data": {
            "text/plain": [
              "<IPython.core.display.HTML object>"
            ],
            "text/html": [
              "Run data is saved locally in <code>/content/wandb/run-20230809_111058-z580qliq</code>"
            ]
          },
          "metadata": {}
        },
        {
          "output_type": "display_data",
          "data": {
            "text/plain": [
              "<IPython.core.display.HTML object>"
            ],
            "text/html": [
              "Syncing run <strong><a href='https://wandb.ai/rossi22/GCN_LOGP_SWEEP/runs/z580qliq' target=\"_blank\">dandy-sweep-10</a></strong> to <a href='https://wandb.ai/rossi22/GCN_LOGP_SWEEP' target=\"_blank\">Weights & Biases</a> (<a href='https://wandb.me/run' target=\"_blank\">docs</a>)<br/>Sweep page: <a href='https://wandb.ai/rossi22/GCN_LOGP_SWEEP/sweeps/76kd77r9' target=\"_blank\">https://wandb.ai/rossi22/GCN_LOGP_SWEEP/sweeps/76kd77r9</a>"
            ]
          },
          "metadata": {}
        },
        {
          "output_type": "display_data",
          "data": {
            "text/plain": [
              "<IPython.core.display.HTML object>"
            ],
            "text/html": [
              " View project at <a href='https://wandb.ai/rossi22/GCN_LOGP_SWEEP' target=\"_blank\">https://wandb.ai/rossi22/GCN_LOGP_SWEEP</a>"
            ]
          },
          "metadata": {}
        },
        {
          "output_type": "display_data",
          "data": {
            "text/plain": [
              "<IPython.core.display.HTML object>"
            ],
            "text/html": [
              " View sweep at <a href='https://wandb.ai/rossi22/GCN_LOGP_SWEEP/sweeps/76kd77r9' target=\"_blank\">https://wandb.ai/rossi22/GCN_LOGP_SWEEP/sweeps/76kd77r9</a>"
            ]
          },
          "metadata": {}
        },
        {
          "output_type": "display_data",
          "data": {
            "text/plain": [
              "<IPython.core.display.HTML object>"
            ],
            "text/html": [
              " View run at <a href='https://wandb.ai/rossi22/GCN_LOGP_SWEEP/runs/z580qliq' target=\"_blank\">https://wandb.ai/rossi22/GCN_LOGP_SWEEP/runs/z580qliq</a>"
            ]
          },
          "metadata": {}
        },
        {
          "output_type": "stream",
          "name": "stdout",
          "text": [
            "hparams : {'device': device(type='cuda', index=0), 'disable_rdkit_warnings': True, 'batch_size': 128, 'learning_rate': 0.001, 'epochs': 20, 'period': 1, 'n_block': 2, 'n_layer': 1, 'in_dim': 30, 'hidden_dim': 256, 'out_dim': 64, 'n_head': 4, 'use_bn': True, 'sc': 'gsc', 'gat_act': 'gelu', 'readout_act': 'gelu', 'gcnnet_act': 'gelu', 'use_scheduler': True, 'schd_factor': 0.5, 'schd_patience': 10, 'schd_min_lr': 5e-06, 'supported_atoms': {'C', 'P', 'O', 'Br', 'F', 'N', 'I', 'S', 'Cl'}}\n"
          ]
        },
        {
          "output_type": "stream",
          "name": "stderr",
          "text": [
            "100%|██████████| 20/20 [03:58<00:00, 11.93s/it]\n"
          ]
        },
        {
          "output_type": "display_data",
          "data": {
            "text/plain": [
              "<IPython.core.display.HTML object>"
            ],
            "text/html": [
              "Waiting for W&B process to finish... <strong style=\"color:green\">(success).</strong>"
            ]
          },
          "metadata": {}
        },
        {
          "output_type": "display_data",
          "data": {
            "text/plain": [
              "<IPython.core.display.HTML object>"
            ],
            "text/html": [
              "<style>\n",
              "    table.wandb td:nth-child(1) { padding: 0 10px; text-align: left ; width: auto;} td:nth-child(2) {text-align: left ; width: 100%}\n",
              "    .wandb-row { display: flex; flex-direction: row; flex-wrap: wrap; justify-content: flex-start; width: 100% }\n",
              "    .wandb-col { display: flex; flex-direction: column; flex-basis: 100%; flex: 1; padding: 10px; }\n",
              "    </style>\n",
              "<div class=\"wandb-row\"><div class=\"wandb-col\"><h3>Run history:</h3><br/><table class=\"wandb\"><tr><td>epoch</td><td>▁▁▂▂▂▃▃▄▄▄▅▅▅▆▆▇▇▇██</td></tr><tr><td>train_loss</td><td>█▄▃▃▃▂▂▂▂▂▂▁▁▁▁▁▁▁▁▁</td></tr><tr><td>val_loss</td><td>█▄▅▃▃▃▄▂▂▂▂▁▂▁▁▁▁▁▁▁</td></tr></table><br/></div><div class=\"wandb-col\"><h3>Run summary:</h3><br/><table class=\"wandb\"><tr><td>epoch</td><td>20</td></tr><tr><td>train_loss</td><td>0.05162</td></tr><tr><td>val_loss</td><td>0.05647</td></tr></table><br/></div></div>"
            ]
          },
          "metadata": {}
        },
        {
          "output_type": "display_data",
          "data": {
            "text/plain": [
              "<IPython.core.display.HTML object>"
            ],
            "text/html": [
              " View run <strong style=\"color:#cdcd00\">dandy-sweep-10</strong> at: <a href='https://wandb.ai/rossi22/GCN_LOGP_SWEEP/runs/z580qliq' target=\"_blank\">https://wandb.ai/rossi22/GCN_LOGP_SWEEP/runs/z580qliq</a><br/>Synced 5 W&B file(s), 0 media file(s), 0 artifact file(s) and 0 other file(s)"
            ]
          },
          "metadata": {}
        },
        {
          "output_type": "display_data",
          "data": {
            "text/plain": [
              "<IPython.core.display.HTML object>"
            ],
            "text/html": [
              "Find logs at: <code>./wandb/run-20230809_111058-z580qliq/logs</code>"
            ]
          },
          "metadata": {}
        },
        {
          "output_type": "stream",
          "name": "stdout",
          "text": [
            "======================================================================================================================================================\n"
          ]
        },
        {
          "output_type": "stream",
          "name": "stderr",
          "text": [
            "\u001b[34m\u001b[1mwandb\u001b[0m: Agent Starting Run: d9mg19hg with config:\n",
            "\u001b[34m\u001b[1mwandb\u001b[0m: \thidden_dim: 128\n",
            "\u001b[34m\u001b[1mwandb\u001b[0m: \tn_block: 2\n",
            "\u001b[34m\u001b[1mwandb\u001b[0m: \tn_head: 2\n",
            "\u001b[34m\u001b[1mwandb\u001b[0m: \tn_layer: 3\n",
            "\u001b[34m\u001b[1mwandb\u001b[0m: \tout_dim: 128\n"
          ]
        },
        {
          "output_type": "display_data",
          "data": {
            "text/plain": [
              "<IPython.core.display.HTML object>"
            ],
            "text/html": [
              "Tracking run with wandb version 0.15.8"
            ]
          },
          "metadata": {}
        },
        {
          "output_type": "display_data",
          "data": {
            "text/plain": [
              "<IPython.core.display.HTML object>"
            ],
            "text/html": [
              "Run data is saved locally in <code>/content/wandb/run-20230809_111520-d9mg19hg</code>"
            ]
          },
          "metadata": {}
        },
        {
          "output_type": "display_data",
          "data": {
            "text/plain": [
              "<IPython.core.display.HTML object>"
            ],
            "text/html": [
              "Syncing run <strong><a href='https://wandb.ai/rossi22/GCN_LOGP_SWEEP/runs/d9mg19hg' target=\"_blank\">comfy-sweep-11</a></strong> to <a href='https://wandb.ai/rossi22/GCN_LOGP_SWEEP' target=\"_blank\">Weights & Biases</a> (<a href='https://wandb.me/run' target=\"_blank\">docs</a>)<br/>Sweep page: <a href='https://wandb.ai/rossi22/GCN_LOGP_SWEEP/sweeps/76kd77r9' target=\"_blank\">https://wandb.ai/rossi22/GCN_LOGP_SWEEP/sweeps/76kd77r9</a>"
            ]
          },
          "metadata": {}
        },
        {
          "output_type": "display_data",
          "data": {
            "text/plain": [
              "<IPython.core.display.HTML object>"
            ],
            "text/html": [
              " View project at <a href='https://wandb.ai/rossi22/GCN_LOGP_SWEEP' target=\"_blank\">https://wandb.ai/rossi22/GCN_LOGP_SWEEP</a>"
            ]
          },
          "metadata": {}
        },
        {
          "output_type": "display_data",
          "data": {
            "text/plain": [
              "<IPython.core.display.HTML object>"
            ],
            "text/html": [
              " View sweep at <a href='https://wandb.ai/rossi22/GCN_LOGP_SWEEP/sweeps/76kd77r9' target=\"_blank\">https://wandb.ai/rossi22/GCN_LOGP_SWEEP/sweeps/76kd77r9</a>"
            ]
          },
          "metadata": {}
        },
        {
          "output_type": "display_data",
          "data": {
            "text/plain": [
              "<IPython.core.display.HTML object>"
            ],
            "text/html": [
              " View run at <a href='https://wandb.ai/rossi22/GCN_LOGP_SWEEP/runs/d9mg19hg' target=\"_blank\">https://wandb.ai/rossi22/GCN_LOGP_SWEEP/runs/d9mg19hg</a>"
            ]
          },
          "metadata": {}
        },
        {
          "output_type": "stream",
          "name": "stdout",
          "text": [
            "hparams : {'device': device(type='cuda', index=0), 'disable_rdkit_warnings': True, 'batch_size': 128, 'learning_rate': 0.001, 'epochs': 20, 'period': 1, 'n_block': 2, 'n_layer': 3, 'in_dim': 30, 'hidden_dim': 128, 'out_dim': 128, 'n_head': 2, 'use_bn': True, 'sc': 'gsc', 'gat_act': 'gelu', 'readout_act': 'gelu', 'gcnnet_act': 'gelu', 'use_scheduler': True, 'schd_factor': 0.5, 'schd_patience': 10, 'schd_min_lr': 5e-06, 'supported_atoms': {'C', 'P', 'O', 'Br', 'F', 'N', 'I', 'S', 'Cl'}}\n"
          ]
        },
        {
          "output_type": "stream",
          "name": "stderr",
          "text": [
            "100%|██████████| 20/20 [05:48<00:00, 17.41s/it]\n"
          ]
        },
        {
          "output_type": "display_data",
          "data": {
            "text/plain": [
              "<IPython.core.display.HTML object>"
            ],
            "text/html": [
              "Waiting for W&B process to finish... <strong style=\"color:green\">(success).</strong>"
            ]
          },
          "metadata": {}
        },
        {
          "output_type": "display_data",
          "data": {
            "text/plain": [
              "<IPython.core.display.HTML object>"
            ],
            "text/html": [
              "<style>\n",
              "    table.wandb td:nth-child(1) { padding: 0 10px; text-align: left ; width: auto;} td:nth-child(2) {text-align: left ; width: 100%}\n",
              "    .wandb-row { display: flex; flex-direction: row; flex-wrap: wrap; justify-content: flex-start; width: 100% }\n",
              "    .wandb-col { display: flex; flex-direction: column; flex-basis: 100%; flex: 1; padding: 10px; }\n",
              "    </style>\n",
              "<div class=\"wandb-row\"><div class=\"wandb-col\"><h3>Run history:</h3><br/><table class=\"wandb\"><tr><td>epoch</td><td>▁▁▂▂▂▃▃▄▄▄▅▅▅▆▆▇▇▇██</td></tr><tr><td>train_loss</td><td>█▄▃▃▃▂▂▂▂▂▂▁▁▁▁▁▁▁▁▁</td></tr><tr><td>val_loss</td><td>▇█▅▅▄▄▃▃▂▂▂▂▄▃▁▁▁▁▁▁</td></tr></table><br/></div><div class=\"wandb-col\"><h3>Run summary:</h3><br/><table class=\"wandb\"><tr><td>epoch</td><td>20</td></tr><tr><td>train_loss</td><td>0.0434</td></tr><tr><td>val_loss</td><td>0.04359</td></tr></table><br/></div></div>"
            ]
          },
          "metadata": {}
        },
        {
          "output_type": "display_data",
          "data": {
            "text/plain": [
              "<IPython.core.display.HTML object>"
            ],
            "text/html": [
              " View run <strong style=\"color:#cdcd00\">comfy-sweep-11</strong> at: <a href='https://wandb.ai/rossi22/GCN_LOGP_SWEEP/runs/d9mg19hg' target=\"_blank\">https://wandb.ai/rossi22/GCN_LOGP_SWEEP/runs/d9mg19hg</a><br/>Synced 5 W&B file(s), 0 media file(s), 0 artifact file(s) and 0 other file(s)"
            ]
          },
          "metadata": {}
        },
        {
          "output_type": "display_data",
          "data": {
            "text/plain": [
              "<IPython.core.display.HTML object>"
            ],
            "text/html": [
              "Find logs at: <code>./wandb/run-20230809_111520-d9mg19hg/logs</code>"
            ]
          },
          "metadata": {}
        },
        {
          "output_type": "stream",
          "name": "stdout",
          "text": [
            "======================================================================================================================================================\n"
          ]
        },
        {
          "output_type": "stream",
          "name": "stderr",
          "text": [
            "\u001b[34m\u001b[1mwandb\u001b[0m: Agent Starting Run: p2046v5m with config:\n",
            "\u001b[34m\u001b[1mwandb\u001b[0m: \thidden_dim: 256\n",
            "\u001b[34m\u001b[1mwandb\u001b[0m: \tn_block: 2\n",
            "\u001b[34m\u001b[1mwandb\u001b[0m: \tn_head: 4\n",
            "\u001b[34m\u001b[1mwandb\u001b[0m: \tn_layer: 2\n",
            "\u001b[34m\u001b[1mwandb\u001b[0m: \tout_dim: 64\n"
          ]
        },
        {
          "output_type": "display_data",
          "data": {
            "text/plain": [
              "<IPython.core.display.HTML object>"
            ],
            "text/html": [
              "Tracking run with wandb version 0.15.8"
            ]
          },
          "metadata": {}
        },
        {
          "output_type": "display_data",
          "data": {
            "text/plain": [
              "<IPython.core.display.HTML object>"
            ],
            "text/html": [
              "Run data is saved locally in <code>/content/wandb/run-20230809_112131-p2046v5m</code>"
            ]
          },
          "metadata": {}
        },
        {
          "output_type": "display_data",
          "data": {
            "text/plain": [
              "<IPython.core.display.HTML object>"
            ],
            "text/html": [
              "Syncing run <strong><a href='https://wandb.ai/rossi22/GCN_LOGP_SWEEP/runs/p2046v5m' target=\"_blank\">cool-sweep-12</a></strong> to <a href='https://wandb.ai/rossi22/GCN_LOGP_SWEEP' target=\"_blank\">Weights & Biases</a> (<a href='https://wandb.me/run' target=\"_blank\">docs</a>)<br/>Sweep page: <a href='https://wandb.ai/rossi22/GCN_LOGP_SWEEP/sweeps/76kd77r9' target=\"_blank\">https://wandb.ai/rossi22/GCN_LOGP_SWEEP/sweeps/76kd77r9</a>"
            ]
          },
          "metadata": {}
        },
        {
          "output_type": "display_data",
          "data": {
            "text/plain": [
              "<IPython.core.display.HTML object>"
            ],
            "text/html": [
              " View project at <a href='https://wandb.ai/rossi22/GCN_LOGP_SWEEP' target=\"_blank\">https://wandb.ai/rossi22/GCN_LOGP_SWEEP</a>"
            ]
          },
          "metadata": {}
        },
        {
          "output_type": "display_data",
          "data": {
            "text/plain": [
              "<IPython.core.display.HTML object>"
            ],
            "text/html": [
              " View sweep at <a href='https://wandb.ai/rossi22/GCN_LOGP_SWEEP/sweeps/76kd77r9' target=\"_blank\">https://wandb.ai/rossi22/GCN_LOGP_SWEEP/sweeps/76kd77r9</a>"
            ]
          },
          "metadata": {}
        },
        {
          "output_type": "display_data",
          "data": {
            "text/plain": [
              "<IPython.core.display.HTML object>"
            ],
            "text/html": [
              " View run at <a href='https://wandb.ai/rossi22/GCN_LOGP_SWEEP/runs/p2046v5m' target=\"_blank\">https://wandb.ai/rossi22/GCN_LOGP_SWEEP/runs/p2046v5m</a>"
            ]
          },
          "metadata": {}
        },
        {
          "output_type": "stream",
          "name": "stdout",
          "text": [
            "hparams : {'device': device(type='cuda', index=0), 'disable_rdkit_warnings': True, 'batch_size': 128, 'learning_rate': 0.001, 'epochs': 20, 'period': 1, 'n_block': 2, 'n_layer': 2, 'in_dim': 30, 'hidden_dim': 256, 'out_dim': 64, 'n_head': 4, 'use_bn': True, 'sc': 'gsc', 'gat_act': 'gelu', 'readout_act': 'gelu', 'gcnnet_act': 'gelu', 'use_scheduler': True, 'schd_factor': 0.5, 'schd_patience': 10, 'schd_min_lr': 5e-06, 'supported_atoms': {'C', 'P', 'O', 'Br', 'F', 'N', 'I', 'S', 'Cl'}}\n"
          ]
        },
        {
          "output_type": "stream",
          "name": "stderr",
          "text": [
            "100%|██████████| 20/20 [05:16<00:00, 15.80s/it]\n"
          ]
        },
        {
          "output_type": "display_data",
          "data": {
            "text/plain": [
              "<IPython.core.display.HTML object>"
            ],
            "text/html": [
              "Waiting for W&B process to finish... <strong style=\"color:green\">(success).</strong>"
            ]
          },
          "metadata": {}
        },
        {
          "output_type": "display_data",
          "data": {
            "text/plain": [
              "<IPython.core.display.HTML object>"
            ],
            "text/html": [
              "<style>\n",
              "    table.wandb td:nth-child(1) { padding: 0 10px; text-align: left ; width: auto;} td:nth-child(2) {text-align: left ; width: 100%}\n",
              "    .wandb-row { display: flex; flex-direction: row; flex-wrap: wrap; justify-content: flex-start; width: 100% }\n",
              "    .wandb-col { display: flex; flex-direction: column; flex-basis: 100%; flex: 1; padding: 10px; }\n",
              "    </style>\n",
              "<div class=\"wandb-row\"><div class=\"wandb-col\"><h3>Run history:</h3><br/><table class=\"wandb\"><tr><td>epoch</td><td>▁▁▂▂▂▃▃▄▄▄▅▅▅▆▆▇▇▇██</td></tr><tr><td>train_loss</td><td>█▄▃▃▂▂▂▂▂▂▂▁▁▁▁▁▁▁▁▁</td></tr><tr><td>val_loss</td><td>█▆▅▅▄▄▃▄▂▂▃▂▂▂▂▂▂▁▁▁</td></tr></table><br/></div><div class=\"wandb-col\"><h3>Run summary:</h3><br/><table class=\"wandb\"><tr><td>epoch</td><td>20</td></tr><tr><td>train_loss</td><td>0.04253</td></tr><tr><td>val_loss</td><td>0.05059</td></tr></table><br/></div></div>"
            ]
          },
          "metadata": {}
        },
        {
          "output_type": "display_data",
          "data": {
            "text/plain": [
              "<IPython.core.display.HTML object>"
            ],
            "text/html": [
              " View run <strong style=\"color:#cdcd00\">cool-sweep-12</strong> at: <a href='https://wandb.ai/rossi22/GCN_LOGP_SWEEP/runs/p2046v5m' target=\"_blank\">https://wandb.ai/rossi22/GCN_LOGP_SWEEP/runs/p2046v5m</a><br/>Synced 5 W&B file(s), 0 media file(s), 0 artifact file(s) and 0 other file(s)"
            ]
          },
          "metadata": {}
        },
        {
          "output_type": "display_data",
          "data": {
            "text/plain": [
              "<IPython.core.display.HTML object>"
            ],
            "text/html": [
              "Find logs at: <code>./wandb/run-20230809_112131-p2046v5m/logs</code>"
            ]
          },
          "metadata": {}
        },
        {
          "output_type": "stream",
          "name": "stdout",
          "text": [
            "======================================================================================================================================================\n"
          ]
        },
        {
          "output_type": "stream",
          "name": "stderr",
          "text": [
            "\u001b[34m\u001b[1mwandb\u001b[0m: Sweep Agent: Waiting for job.\n",
            "\u001b[34m\u001b[1mwandb\u001b[0m: Job received.\n",
            "\u001b[34m\u001b[1mwandb\u001b[0m: Agent Starting Run: 4kkp7l6x with config:\n",
            "\u001b[34m\u001b[1mwandb\u001b[0m: \thidden_dim: 128\n",
            "\u001b[34m\u001b[1mwandb\u001b[0m: \tn_block: 3\n",
            "\u001b[34m\u001b[1mwandb\u001b[0m: \tn_head: 4\n",
            "\u001b[34m\u001b[1mwandb\u001b[0m: \tn_layer: 1\n",
            "\u001b[34m\u001b[1mwandb\u001b[0m: \tout_dim: 64\n"
          ]
        },
        {
          "output_type": "display_data",
          "data": {
            "text/plain": [
              "<IPython.core.display.HTML object>"
            ],
            "text/html": [
              "Tracking run with wandb version 0.15.8"
            ]
          },
          "metadata": {}
        },
        {
          "output_type": "display_data",
          "data": {
            "text/plain": [
              "<IPython.core.display.HTML object>"
            ],
            "text/html": [
              "Run data is saved locally in <code>/content/wandb/run-20230809_112716-4kkp7l6x</code>"
            ]
          },
          "metadata": {}
        },
        {
          "output_type": "display_data",
          "data": {
            "text/plain": [
              "<IPython.core.display.HTML object>"
            ],
            "text/html": [
              "Syncing run <strong><a href='https://wandb.ai/rossi22/GCN_LOGP_SWEEP/runs/4kkp7l6x' target=\"_blank\">lyric-sweep-13</a></strong> to <a href='https://wandb.ai/rossi22/GCN_LOGP_SWEEP' target=\"_blank\">Weights & Biases</a> (<a href='https://wandb.me/run' target=\"_blank\">docs</a>)<br/>Sweep page: <a href='https://wandb.ai/rossi22/GCN_LOGP_SWEEP/sweeps/76kd77r9' target=\"_blank\">https://wandb.ai/rossi22/GCN_LOGP_SWEEP/sweeps/76kd77r9</a>"
            ]
          },
          "metadata": {}
        },
        {
          "output_type": "display_data",
          "data": {
            "text/plain": [
              "<IPython.core.display.HTML object>"
            ],
            "text/html": [
              " View project at <a href='https://wandb.ai/rossi22/GCN_LOGP_SWEEP' target=\"_blank\">https://wandb.ai/rossi22/GCN_LOGP_SWEEP</a>"
            ]
          },
          "metadata": {}
        },
        {
          "output_type": "display_data",
          "data": {
            "text/plain": [
              "<IPython.core.display.HTML object>"
            ],
            "text/html": [
              " View sweep at <a href='https://wandb.ai/rossi22/GCN_LOGP_SWEEP/sweeps/76kd77r9' target=\"_blank\">https://wandb.ai/rossi22/GCN_LOGP_SWEEP/sweeps/76kd77r9</a>"
            ]
          },
          "metadata": {}
        },
        {
          "output_type": "display_data",
          "data": {
            "text/plain": [
              "<IPython.core.display.HTML object>"
            ],
            "text/html": [
              " View run at <a href='https://wandb.ai/rossi22/GCN_LOGP_SWEEP/runs/4kkp7l6x' target=\"_blank\">https://wandb.ai/rossi22/GCN_LOGP_SWEEP/runs/4kkp7l6x</a>"
            ]
          },
          "metadata": {}
        },
        {
          "output_type": "stream",
          "name": "stdout",
          "text": [
            "hparams : {'device': device(type='cuda', index=0), 'disable_rdkit_warnings': True, 'batch_size': 128, 'learning_rate': 0.001, 'epochs': 20, 'period': 1, 'n_block': 3, 'n_layer': 1, 'in_dim': 30, 'hidden_dim': 128, 'out_dim': 64, 'n_head': 4, 'use_bn': True, 'sc': 'gsc', 'gat_act': 'gelu', 'readout_act': 'gelu', 'gcnnet_act': 'gelu', 'use_scheduler': True, 'schd_factor': 0.5, 'schd_patience': 10, 'schd_min_lr': 5e-06, 'supported_atoms': {'C', 'P', 'O', 'Br', 'F', 'N', 'I', 'S', 'Cl'}}\n"
          ]
        },
        {
          "output_type": "stream",
          "name": "stderr",
          "text": [
            "100%|██████████| 20/20 [04:28<00:00, 13.43s/it]\n"
          ]
        },
        {
          "output_type": "display_data",
          "data": {
            "text/plain": [
              "<IPython.core.display.HTML object>"
            ],
            "text/html": [
              "Waiting for W&B process to finish... <strong style=\"color:green\">(success).</strong>"
            ]
          },
          "metadata": {}
        },
        {
          "output_type": "display_data",
          "data": {
            "text/plain": [
              "<IPython.core.display.HTML object>"
            ],
            "text/html": [
              "<style>\n",
              "    table.wandb td:nth-child(1) { padding: 0 10px; text-align: left ; width: auto;} td:nth-child(2) {text-align: left ; width: 100%}\n",
              "    .wandb-row { display: flex; flex-direction: row; flex-wrap: wrap; justify-content: flex-start; width: 100% }\n",
              "    .wandb-col { display: flex; flex-direction: column; flex-basis: 100%; flex: 1; padding: 10px; }\n",
              "    </style>\n",
              "<div class=\"wandb-row\"><div class=\"wandb-col\"><h3>Run history:</h3><br/><table class=\"wandb\"><tr><td>epoch</td><td>▁▁▂▂▂▃▃▄▄▄▅▅▅▆▆▇▇▇██</td></tr><tr><td>train_loss</td><td>█▃▃▃▂▂▂▂▂▂▂▁▁▁▁▁▁▁▁▁</td></tr><tr><td>val_loss</td><td>█▄▃▃▃▃▂▃▂▂▂▂▁▁▂▁▁▁▁▁</td></tr></table><br/></div><div class=\"wandb-col\"><h3>Run summary:</h3><br/><table class=\"wandb\"><tr><td>epoch</td><td>20</td></tr><tr><td>train_loss</td><td>0.05609</td></tr><tr><td>val_loss</td><td>0.0593</td></tr></table><br/></div></div>"
            ]
          },
          "metadata": {}
        },
        {
          "output_type": "display_data",
          "data": {
            "text/plain": [
              "<IPython.core.display.HTML object>"
            ],
            "text/html": [
              " View run <strong style=\"color:#cdcd00\">lyric-sweep-13</strong> at: <a href='https://wandb.ai/rossi22/GCN_LOGP_SWEEP/runs/4kkp7l6x' target=\"_blank\">https://wandb.ai/rossi22/GCN_LOGP_SWEEP/runs/4kkp7l6x</a><br/>Synced 5 W&B file(s), 0 media file(s), 0 artifact file(s) and 0 other file(s)"
            ]
          },
          "metadata": {}
        },
        {
          "output_type": "display_data",
          "data": {
            "text/plain": [
              "<IPython.core.display.HTML object>"
            ],
            "text/html": [
              "Find logs at: <code>./wandb/run-20230809_112716-4kkp7l6x/logs</code>"
            ]
          },
          "metadata": {}
        },
        {
          "output_type": "stream",
          "name": "stdout",
          "text": [
            "======================================================================================================================================================\n"
          ]
        },
        {
          "output_type": "stream",
          "name": "stderr",
          "text": [
            "\u001b[34m\u001b[1mwandb\u001b[0m: Agent Starting Run: 7h4h70xx with config:\n",
            "\u001b[34m\u001b[1mwandb\u001b[0m: \thidden_dim: 64\n",
            "\u001b[34m\u001b[1mwandb\u001b[0m: \tn_block: 3\n",
            "\u001b[34m\u001b[1mwandb\u001b[0m: \tn_head: 1\n",
            "\u001b[34m\u001b[1mwandb\u001b[0m: \tn_layer: 2\n",
            "\u001b[34m\u001b[1mwandb\u001b[0m: \tout_dim: 64\n"
          ]
        },
        {
          "output_type": "display_data",
          "data": {
            "text/plain": [
              "<IPython.core.display.HTML object>"
            ],
            "text/html": [
              "Tracking run with wandb version 0.15.8"
            ]
          },
          "metadata": {}
        },
        {
          "output_type": "display_data",
          "data": {
            "text/plain": [
              "<IPython.core.display.HTML object>"
            ],
            "text/html": [
              "Run data is saved locally in <code>/content/wandb/run-20230809_113205-7h4h70xx</code>"
            ]
          },
          "metadata": {}
        },
        {
          "output_type": "display_data",
          "data": {
            "text/plain": [
              "<IPython.core.display.HTML object>"
            ],
            "text/html": [
              "Syncing run <strong><a href='https://wandb.ai/rossi22/GCN_LOGP_SWEEP/runs/7h4h70xx' target=\"_blank\">stoic-sweep-14</a></strong> to <a href='https://wandb.ai/rossi22/GCN_LOGP_SWEEP' target=\"_blank\">Weights & Biases</a> (<a href='https://wandb.me/run' target=\"_blank\">docs</a>)<br/>Sweep page: <a href='https://wandb.ai/rossi22/GCN_LOGP_SWEEP/sweeps/76kd77r9' target=\"_blank\">https://wandb.ai/rossi22/GCN_LOGP_SWEEP/sweeps/76kd77r9</a>"
            ]
          },
          "metadata": {}
        },
        {
          "output_type": "display_data",
          "data": {
            "text/plain": [
              "<IPython.core.display.HTML object>"
            ],
            "text/html": [
              " View project at <a href='https://wandb.ai/rossi22/GCN_LOGP_SWEEP' target=\"_blank\">https://wandb.ai/rossi22/GCN_LOGP_SWEEP</a>"
            ]
          },
          "metadata": {}
        },
        {
          "output_type": "display_data",
          "data": {
            "text/plain": [
              "<IPython.core.display.HTML object>"
            ],
            "text/html": [
              " View sweep at <a href='https://wandb.ai/rossi22/GCN_LOGP_SWEEP/sweeps/76kd77r9' target=\"_blank\">https://wandb.ai/rossi22/GCN_LOGP_SWEEP/sweeps/76kd77r9</a>"
            ]
          },
          "metadata": {}
        },
        {
          "output_type": "display_data",
          "data": {
            "text/plain": [
              "<IPython.core.display.HTML object>"
            ],
            "text/html": [
              " View run at <a href='https://wandb.ai/rossi22/GCN_LOGP_SWEEP/runs/7h4h70xx' target=\"_blank\">https://wandb.ai/rossi22/GCN_LOGP_SWEEP/runs/7h4h70xx</a>"
            ]
          },
          "metadata": {}
        },
        {
          "output_type": "stream",
          "name": "stdout",
          "text": [
            "hparams : {'device': device(type='cuda', index=0), 'disable_rdkit_warnings': True, 'batch_size': 128, 'learning_rate': 0.001, 'epochs': 20, 'period': 1, 'n_block': 3, 'n_layer': 2, 'in_dim': 30, 'hidden_dim': 64, 'out_dim': 64, 'n_head': 1, 'use_bn': True, 'sc': 'gsc', 'gat_act': 'gelu', 'readout_act': 'gelu', 'gcnnet_act': 'gelu', 'use_scheduler': True, 'schd_factor': 0.5, 'schd_patience': 10, 'schd_min_lr': 5e-06, 'supported_atoms': {'C', 'P', 'O', 'Br', 'F', 'N', 'I', 'S', 'Cl'}}\n"
          ]
        },
        {
          "output_type": "stream",
          "name": "stderr",
          "text": [
            "100%|██████████| 20/20 [06:11<00:00, 18.57s/it]\n"
          ]
        },
        {
          "output_type": "display_data",
          "data": {
            "text/plain": [
              "<IPython.core.display.HTML object>"
            ],
            "text/html": [
              "Waiting for W&B process to finish... <strong style=\"color:green\">(success).</strong>"
            ]
          },
          "metadata": {}
        },
        {
          "output_type": "display_data",
          "data": {
            "text/plain": [
              "<IPython.core.display.HTML object>"
            ],
            "text/html": [
              "<style>\n",
              "    table.wandb td:nth-child(1) { padding: 0 10px; text-align: left ; width: auto;} td:nth-child(2) {text-align: left ; width: 100%}\n",
              "    .wandb-row { display: flex; flex-direction: row; flex-wrap: wrap; justify-content: flex-start; width: 100% }\n",
              "    .wandb-col { display: flex; flex-direction: column; flex-basis: 100%; flex: 1; padding: 10px; }\n",
              "    </style>\n",
              "<div class=\"wandb-row\"><div class=\"wandb-col\"><h3>Run history:</h3><br/><table class=\"wandb\"><tr><td>epoch</td><td>▁▁▂▂▂▃▃▄▄▄▅▅▅▆▆▇▇▇██</td></tr><tr><td>train_loss</td><td>█▃▂▂▂▂▂▂▂▁▁▁▁▁▁▁▁▁▁▁</td></tr><tr><td>val_loss</td><td>█▅█▄▄▅▃▄▂▃▃▃▂▂▂▁▂▂▁▁</td></tr></table><br/></div><div class=\"wandb-col\"><h3>Run summary:</h3><br/><table class=\"wandb\"><tr><td>epoch</td><td>20</td></tr><tr><td>train_loss</td><td>0.0633</td></tr><tr><td>val_loss</td><td>0.06811</td></tr></table><br/></div></div>"
            ]
          },
          "metadata": {}
        },
        {
          "output_type": "display_data",
          "data": {
            "text/plain": [
              "<IPython.core.display.HTML object>"
            ],
            "text/html": [
              " View run <strong style=\"color:#cdcd00\">stoic-sweep-14</strong> at: <a href='https://wandb.ai/rossi22/GCN_LOGP_SWEEP/runs/7h4h70xx' target=\"_blank\">https://wandb.ai/rossi22/GCN_LOGP_SWEEP/runs/7h4h70xx</a><br/>Synced 5 W&B file(s), 0 media file(s), 0 artifact file(s) and 0 other file(s)"
            ]
          },
          "metadata": {}
        },
        {
          "output_type": "display_data",
          "data": {
            "text/plain": [
              "<IPython.core.display.HTML object>"
            ],
            "text/html": [
              "Find logs at: <code>./wandb/run-20230809_113205-7h4h70xx/logs</code>"
            ]
          },
          "metadata": {}
        },
        {
          "output_type": "stream",
          "name": "stdout",
          "text": [
            "======================================================================================================================================================\n"
          ]
        },
        {
          "output_type": "stream",
          "name": "stderr",
          "text": [
            "\u001b[34m\u001b[1mwandb\u001b[0m: Agent Starting Run: 15osvvwc with config:\n",
            "\u001b[34m\u001b[1mwandb\u001b[0m: \thidden_dim: 128\n",
            "\u001b[34m\u001b[1mwandb\u001b[0m: \tn_block: 2\n",
            "\u001b[34m\u001b[1mwandb\u001b[0m: \tn_head: 2\n",
            "\u001b[34m\u001b[1mwandb\u001b[0m: \tn_layer: 2\n",
            "\u001b[34m\u001b[1mwandb\u001b[0m: \tout_dim: 64\n"
          ]
        },
        {
          "output_type": "display_data",
          "data": {
            "text/plain": [
              "<IPython.core.display.HTML object>"
            ],
            "text/html": [
              "Tracking run with wandb version 0.15.8"
            ]
          },
          "metadata": {}
        },
        {
          "output_type": "display_data",
          "data": {
            "text/plain": [
              "<IPython.core.display.HTML object>"
            ],
            "text/html": [
              "Run data is saved locally in <code>/content/wandb/run-20230809_113837-15osvvwc</code>"
            ]
          },
          "metadata": {}
        },
        {
          "output_type": "display_data",
          "data": {
            "text/plain": [
              "<IPython.core.display.HTML object>"
            ],
            "text/html": [
              "Syncing run <strong><a href='https://wandb.ai/rossi22/GCN_LOGP_SWEEP/runs/15osvvwc' target=\"_blank\">neat-sweep-15</a></strong> to <a href='https://wandb.ai/rossi22/GCN_LOGP_SWEEP' target=\"_blank\">Weights & Biases</a> (<a href='https://wandb.me/run' target=\"_blank\">docs</a>)<br/>Sweep page: <a href='https://wandb.ai/rossi22/GCN_LOGP_SWEEP/sweeps/76kd77r9' target=\"_blank\">https://wandb.ai/rossi22/GCN_LOGP_SWEEP/sweeps/76kd77r9</a>"
            ]
          },
          "metadata": {}
        },
        {
          "output_type": "display_data",
          "data": {
            "text/plain": [
              "<IPython.core.display.HTML object>"
            ],
            "text/html": [
              " View project at <a href='https://wandb.ai/rossi22/GCN_LOGP_SWEEP' target=\"_blank\">https://wandb.ai/rossi22/GCN_LOGP_SWEEP</a>"
            ]
          },
          "metadata": {}
        },
        {
          "output_type": "display_data",
          "data": {
            "text/plain": [
              "<IPython.core.display.HTML object>"
            ],
            "text/html": [
              " View sweep at <a href='https://wandb.ai/rossi22/GCN_LOGP_SWEEP/sweeps/76kd77r9' target=\"_blank\">https://wandb.ai/rossi22/GCN_LOGP_SWEEP/sweeps/76kd77r9</a>"
            ]
          },
          "metadata": {}
        },
        {
          "output_type": "display_data",
          "data": {
            "text/plain": [
              "<IPython.core.display.HTML object>"
            ],
            "text/html": [
              " View run at <a href='https://wandb.ai/rossi22/GCN_LOGP_SWEEP/runs/15osvvwc' target=\"_blank\">https://wandb.ai/rossi22/GCN_LOGP_SWEEP/runs/15osvvwc</a>"
            ]
          },
          "metadata": {}
        },
        {
          "output_type": "stream",
          "name": "stdout",
          "text": [
            "hparams : {'device': device(type='cuda', index=0), 'disable_rdkit_warnings': True, 'batch_size': 128, 'learning_rate': 0.001, 'epochs': 20, 'period': 1, 'n_block': 2, 'n_layer': 2, 'in_dim': 30, 'hidden_dim': 128, 'out_dim': 64, 'n_head': 2, 'use_bn': True, 'sc': 'gsc', 'gat_act': 'gelu', 'readout_act': 'gelu', 'gcnnet_act': 'gelu', 'use_scheduler': True, 'schd_factor': 0.5, 'schd_patience': 10, 'schd_min_lr': 5e-06, 'supported_atoms': {'C', 'P', 'O', 'Br', 'F', 'N', 'I', 'S', 'Cl'}}\n"
          ]
        },
        {
          "output_type": "stream",
          "name": "stderr",
          "text": [
            "100%|██████████| 20/20 [04:52<00:00, 14.63s/it]\n"
          ]
        },
        {
          "output_type": "display_data",
          "data": {
            "text/plain": [
              "<IPython.core.display.HTML object>"
            ],
            "text/html": [
              "Waiting for W&B process to finish... <strong style=\"color:green\">(success).</strong>"
            ]
          },
          "metadata": {}
        },
        {
          "output_type": "display_data",
          "data": {
            "text/plain": [
              "<IPython.core.display.HTML object>"
            ],
            "text/html": [
              "<style>\n",
              "    table.wandb td:nth-child(1) { padding: 0 10px; text-align: left ; width: auto;} td:nth-child(2) {text-align: left ; width: 100%}\n",
              "    .wandb-row { display: flex; flex-direction: row; flex-wrap: wrap; justify-content: flex-start; width: 100% }\n",
              "    .wandb-col { display: flex; flex-direction: column; flex-basis: 100%; flex: 1; padding: 10px; }\n",
              "    </style>\n",
              "<div class=\"wandb-row\"><div class=\"wandb-col\"><h3>Run history:</h3><br/><table class=\"wandb\"><tr><td>epoch</td><td>▁▁▂▂▂▃▃▄▄▄▅▅▅▆▆▇▇▇██</td></tr><tr><td>train_loss</td><td>█▃▃▃▂▂▂▂▂▂▂▁▁▁▁▁▁▁▁▁</td></tr><tr><td>val_loss</td><td>█▇▇▄▄▄▃▃▂▂▂▂▂▁▁▂▁▁▁▁</td></tr></table><br/></div><div class=\"wandb-col\"><h3>Run summary:</h3><br/><table class=\"wandb\"><tr><td>epoch</td><td>20</td></tr><tr><td>train_loss</td><td>0.05913</td></tr><tr><td>val_loss</td><td>0.05692</td></tr></table><br/></div></div>"
            ]
          },
          "metadata": {}
        },
        {
          "output_type": "display_data",
          "data": {
            "text/plain": [
              "<IPython.core.display.HTML object>"
            ],
            "text/html": [
              " View run <strong style=\"color:#cdcd00\">neat-sweep-15</strong> at: <a href='https://wandb.ai/rossi22/GCN_LOGP_SWEEP/runs/15osvvwc' target=\"_blank\">https://wandb.ai/rossi22/GCN_LOGP_SWEEP/runs/15osvvwc</a><br/>Synced 5 W&B file(s), 0 media file(s), 0 artifact file(s) and 0 other file(s)"
            ]
          },
          "metadata": {}
        },
        {
          "output_type": "display_data",
          "data": {
            "text/plain": [
              "<IPython.core.display.HTML object>"
            ],
            "text/html": [
              "Find logs at: <code>./wandb/run-20230809_113837-15osvvwc/logs</code>"
            ]
          },
          "metadata": {}
        },
        {
          "output_type": "stream",
          "name": "stdout",
          "text": [
            "======================================================================================================================================================\n"
          ]
        },
        {
          "output_type": "stream",
          "name": "stderr",
          "text": [
            "\u001b[34m\u001b[1mwandb\u001b[0m: Agent Starting Run: d3pkpogq with config:\n",
            "\u001b[34m\u001b[1mwandb\u001b[0m: \thidden_dim: 128\n",
            "\u001b[34m\u001b[1mwandb\u001b[0m: \tn_block: 3\n",
            "\u001b[34m\u001b[1mwandb\u001b[0m: \tn_head: 2\n",
            "\u001b[34m\u001b[1mwandb\u001b[0m: \tn_layer: 1\n",
            "\u001b[34m\u001b[1mwandb\u001b[0m: \tout_dim: 32\n"
          ]
        },
        {
          "output_type": "display_data",
          "data": {
            "text/plain": [
              "<IPython.core.display.HTML object>"
            ],
            "text/html": [
              "Tracking run with wandb version 0.15.8"
            ]
          },
          "metadata": {}
        },
        {
          "output_type": "display_data",
          "data": {
            "text/plain": [
              "<IPython.core.display.HTML object>"
            ],
            "text/html": [
              "Run data is saved locally in <code>/content/wandb/run-20230809_114350-d3pkpogq</code>"
            ]
          },
          "metadata": {}
        },
        {
          "output_type": "display_data",
          "data": {
            "text/plain": [
              "<IPython.core.display.HTML object>"
            ],
            "text/html": [
              "Syncing run <strong><a href='https://wandb.ai/rossi22/GCN_LOGP_SWEEP/runs/d3pkpogq' target=\"_blank\">electric-sweep-16</a></strong> to <a href='https://wandb.ai/rossi22/GCN_LOGP_SWEEP' target=\"_blank\">Weights & Biases</a> (<a href='https://wandb.me/run' target=\"_blank\">docs</a>)<br/>Sweep page: <a href='https://wandb.ai/rossi22/GCN_LOGP_SWEEP/sweeps/76kd77r9' target=\"_blank\">https://wandb.ai/rossi22/GCN_LOGP_SWEEP/sweeps/76kd77r9</a>"
            ]
          },
          "metadata": {}
        },
        {
          "output_type": "display_data",
          "data": {
            "text/plain": [
              "<IPython.core.display.HTML object>"
            ],
            "text/html": [
              " View project at <a href='https://wandb.ai/rossi22/GCN_LOGP_SWEEP' target=\"_blank\">https://wandb.ai/rossi22/GCN_LOGP_SWEEP</a>"
            ]
          },
          "metadata": {}
        },
        {
          "output_type": "display_data",
          "data": {
            "text/plain": [
              "<IPython.core.display.HTML object>"
            ],
            "text/html": [
              " View sweep at <a href='https://wandb.ai/rossi22/GCN_LOGP_SWEEP/sweeps/76kd77r9' target=\"_blank\">https://wandb.ai/rossi22/GCN_LOGP_SWEEP/sweeps/76kd77r9</a>"
            ]
          },
          "metadata": {}
        },
        {
          "output_type": "display_data",
          "data": {
            "text/plain": [
              "<IPython.core.display.HTML object>"
            ],
            "text/html": [
              " View run at <a href='https://wandb.ai/rossi22/GCN_LOGP_SWEEP/runs/d3pkpogq' target=\"_blank\">https://wandb.ai/rossi22/GCN_LOGP_SWEEP/runs/d3pkpogq</a>"
            ]
          },
          "metadata": {}
        },
        {
          "output_type": "stream",
          "name": "stdout",
          "text": [
            "hparams : {'device': device(type='cuda', index=0), 'disable_rdkit_warnings': True, 'batch_size': 128, 'learning_rate': 0.001, 'epochs': 20, 'period': 1, 'n_block': 3, 'n_layer': 1, 'in_dim': 30, 'hidden_dim': 128, 'out_dim': 32, 'n_head': 2, 'use_bn': True, 'sc': 'gsc', 'gat_act': 'gelu', 'readout_act': 'gelu', 'gcnnet_act': 'gelu', 'use_scheduler': True, 'schd_factor': 0.5, 'schd_patience': 10, 'schd_min_lr': 5e-06, 'supported_atoms': {'C', 'P', 'O', 'Br', 'F', 'N', 'I', 'S', 'Cl'}}\n"
          ]
        },
        {
          "output_type": "stream",
          "name": "stderr",
          "text": [
            "100%|██████████| 20/20 [04:27<00:00, 13.39s/it]\n"
          ]
        },
        {
          "output_type": "display_data",
          "data": {
            "text/plain": [
              "<IPython.core.display.HTML object>"
            ],
            "text/html": [
              "Waiting for W&B process to finish... <strong style=\"color:green\">(success).</strong>"
            ]
          },
          "metadata": {}
        },
        {
          "output_type": "display_data",
          "data": {
            "text/plain": [
              "<IPython.core.display.HTML object>"
            ],
            "text/html": [
              "<style>\n",
              "    table.wandb td:nth-child(1) { padding: 0 10px; text-align: left ; width: auto;} td:nth-child(2) {text-align: left ; width: 100%}\n",
              "    .wandb-row { display: flex; flex-direction: row; flex-wrap: wrap; justify-content: flex-start; width: 100% }\n",
              "    .wandb-col { display: flex; flex-direction: column; flex-basis: 100%; flex: 1; padding: 10px; }\n",
              "    </style>\n",
              "<div class=\"wandb-row\"><div class=\"wandb-col\"><h3>Run history:</h3><br/><table class=\"wandb\"><tr><td>epoch</td><td>▁▁▂▂▂▃▃▄▄▄▅▅▅▆▆▇▇▇██</td></tr><tr><td>train_loss</td><td>█▃▃▂▂▂▂▂▂▂▁▁▁▁▁▁▁▁▁▁</td></tr><tr><td>val_loss</td><td>█▇▆▆▅▄▃▃▃▃▂▂▂▂▁▂▂▂▁▁</td></tr></table><br/></div><div class=\"wandb-col\"><h3>Run summary:</h3><br/><table class=\"wandb\"><tr><td>epoch</td><td>20</td></tr><tr><td>train_loss</td><td>0.05865</td></tr><tr><td>val_loss</td><td>0.06165</td></tr></table><br/></div></div>"
            ]
          },
          "metadata": {}
        },
        {
          "output_type": "display_data",
          "data": {
            "text/plain": [
              "<IPython.core.display.HTML object>"
            ],
            "text/html": [
              " View run <strong style=\"color:#cdcd00\">electric-sweep-16</strong> at: <a href='https://wandb.ai/rossi22/GCN_LOGP_SWEEP/runs/d3pkpogq' target=\"_blank\">https://wandb.ai/rossi22/GCN_LOGP_SWEEP/runs/d3pkpogq</a><br/>Synced 5 W&B file(s), 0 media file(s), 0 artifact file(s) and 0 other file(s)"
            ]
          },
          "metadata": {}
        },
        {
          "output_type": "display_data",
          "data": {
            "text/plain": [
              "<IPython.core.display.HTML object>"
            ],
            "text/html": [
              "Find logs at: <code>./wandb/run-20230809_114350-d3pkpogq/logs</code>"
            ]
          },
          "metadata": {}
        },
        {
          "output_type": "stream",
          "name": "stdout",
          "text": [
            "======================================================================================================================================================\n"
          ]
        },
        {
          "output_type": "stream",
          "name": "stderr",
          "text": [
            "\u001b[34m\u001b[1mwandb\u001b[0m: Agent Starting Run: vdv8bwld with config:\n",
            "\u001b[34m\u001b[1mwandb\u001b[0m: \thidden_dim: 128\n",
            "\u001b[34m\u001b[1mwandb\u001b[0m: \tn_block: 3\n",
            "\u001b[34m\u001b[1mwandb\u001b[0m: \tn_head: 2\n",
            "\u001b[34m\u001b[1mwandb\u001b[0m: \tn_layer: 3\n",
            "\u001b[34m\u001b[1mwandb\u001b[0m: \tout_dim: 64\n"
          ]
        },
        {
          "output_type": "display_data",
          "data": {
            "text/plain": [
              "<IPython.core.display.HTML object>"
            ],
            "text/html": [
              "Tracking run with wandb version 0.15.8"
            ]
          },
          "metadata": {}
        },
        {
          "output_type": "display_data",
          "data": {
            "text/plain": [
              "<IPython.core.display.HTML object>"
            ],
            "text/html": [
              "Run data is saved locally in <code>/content/wandb/run-20230809_114839-vdv8bwld</code>"
            ]
          },
          "metadata": {}
        },
        {
          "output_type": "display_data",
          "data": {
            "text/plain": [
              "<IPython.core.display.HTML object>"
            ],
            "text/html": [
              "Syncing run <strong><a href='https://wandb.ai/rossi22/GCN_LOGP_SWEEP/runs/vdv8bwld' target=\"_blank\">woven-sweep-17</a></strong> to <a href='https://wandb.ai/rossi22/GCN_LOGP_SWEEP' target=\"_blank\">Weights & Biases</a> (<a href='https://wandb.me/run' target=\"_blank\">docs</a>)<br/>Sweep page: <a href='https://wandb.ai/rossi22/GCN_LOGP_SWEEP/sweeps/76kd77r9' target=\"_blank\">https://wandb.ai/rossi22/GCN_LOGP_SWEEP/sweeps/76kd77r9</a>"
            ]
          },
          "metadata": {}
        },
        {
          "output_type": "display_data",
          "data": {
            "text/plain": [
              "<IPython.core.display.HTML object>"
            ],
            "text/html": [
              " View project at <a href='https://wandb.ai/rossi22/GCN_LOGP_SWEEP' target=\"_blank\">https://wandb.ai/rossi22/GCN_LOGP_SWEEP</a>"
            ]
          },
          "metadata": {}
        },
        {
          "output_type": "display_data",
          "data": {
            "text/plain": [
              "<IPython.core.display.HTML object>"
            ],
            "text/html": [
              " View sweep at <a href='https://wandb.ai/rossi22/GCN_LOGP_SWEEP/sweeps/76kd77r9' target=\"_blank\">https://wandb.ai/rossi22/GCN_LOGP_SWEEP/sweeps/76kd77r9</a>"
            ]
          },
          "metadata": {}
        },
        {
          "output_type": "display_data",
          "data": {
            "text/plain": [
              "<IPython.core.display.HTML object>"
            ],
            "text/html": [
              " View run at <a href='https://wandb.ai/rossi22/GCN_LOGP_SWEEP/runs/vdv8bwld' target=\"_blank\">https://wandb.ai/rossi22/GCN_LOGP_SWEEP/runs/vdv8bwld</a>"
            ]
          },
          "metadata": {}
        },
        {
          "output_type": "stream",
          "name": "stdout",
          "text": [
            "hparams : {'device': device(type='cuda', index=0), 'disable_rdkit_warnings': True, 'batch_size': 128, 'learning_rate': 0.001, 'epochs': 20, 'period': 1, 'n_block': 3, 'n_layer': 3, 'in_dim': 30, 'hidden_dim': 128, 'out_dim': 64, 'n_head': 2, 'use_bn': True, 'sc': 'gsc', 'gat_act': 'gelu', 'readout_act': 'gelu', 'gcnnet_act': 'gelu', 'use_scheduler': True, 'schd_factor': 0.5, 'schd_patience': 10, 'schd_min_lr': 5e-06, 'supported_atoms': {'C', 'P', 'O', 'Br', 'F', 'N', 'I', 'S', 'Cl'}}\n"
          ]
        },
        {
          "output_type": "stream",
          "name": "stderr",
          "text": [
            "100%|██████████| 20/20 [07:40<00:00, 23.05s/it]\n"
          ]
        },
        {
          "output_type": "display_data",
          "data": {
            "text/plain": [
              "<IPython.core.display.HTML object>"
            ],
            "text/html": [
              "Waiting for W&B process to finish... <strong style=\"color:green\">(success).</strong>"
            ]
          },
          "metadata": {}
        },
        {
          "output_type": "display_data",
          "data": {
            "text/plain": [
              "<IPython.core.display.HTML object>"
            ],
            "text/html": [
              "<style>\n",
              "    table.wandb td:nth-child(1) { padding: 0 10px; text-align: left ; width: auto;} td:nth-child(2) {text-align: left ; width: 100%}\n",
              "    .wandb-row { display: flex; flex-direction: row; flex-wrap: wrap; justify-content: flex-start; width: 100% }\n",
              "    .wandb-col { display: flex; flex-direction: column; flex-basis: 100%; flex: 1; padding: 10px; }\n",
              "    </style>\n",
              "<div class=\"wandb-row\"><div class=\"wandb-col\"><h3>Run history:</h3><br/><table class=\"wandb\"><tr><td>epoch</td><td>▁▁▂▂▂▃▃▄▄▄▅▅▅▆▆▇▇▇██</td></tr><tr><td>train_loss</td><td>█▄▃▃▂▂▂▂▂▂▂▁▁▁▁▁▁▁▁▁</td></tr><tr><td>val_loss</td><td>█▅▇▃▃▃▃▃▄▂▂▃▂▂▁▁▁▁▁▁</td></tr></table><br/></div><div class=\"wandb-col\"><h3>Run summary:</h3><br/><table class=\"wandb\"><tr><td>epoch</td><td>20</td></tr><tr><td>train_loss</td><td>0.03295</td></tr><tr><td>val_loss</td><td>0.03272</td></tr></table><br/></div></div>"
            ]
          },
          "metadata": {}
        },
        {
          "output_type": "display_data",
          "data": {
            "text/plain": [
              "<IPython.core.display.HTML object>"
            ],
            "text/html": [
              " View run <strong style=\"color:#cdcd00\">woven-sweep-17</strong> at: <a href='https://wandb.ai/rossi22/GCN_LOGP_SWEEP/runs/vdv8bwld' target=\"_blank\">https://wandb.ai/rossi22/GCN_LOGP_SWEEP/runs/vdv8bwld</a><br/>Synced 5 W&B file(s), 0 media file(s), 0 artifact file(s) and 0 other file(s)"
            ]
          },
          "metadata": {}
        },
        {
          "output_type": "display_data",
          "data": {
            "text/plain": [
              "<IPython.core.display.HTML object>"
            ],
            "text/html": [
              "Find logs at: <code>./wandb/run-20230809_114839-vdv8bwld/logs</code>"
            ]
          },
          "metadata": {}
        },
        {
          "output_type": "stream",
          "name": "stdout",
          "text": [
            "======================================================================================================================================================\n"
          ]
        },
        {
          "output_type": "stream",
          "name": "stderr",
          "text": [
            "\u001b[34m\u001b[1mwandb\u001b[0m: Agent Starting Run: pw54307e with config:\n",
            "\u001b[34m\u001b[1mwandb\u001b[0m: \thidden_dim: 128\n",
            "\u001b[34m\u001b[1mwandb\u001b[0m: \tn_block: 2\n",
            "\u001b[34m\u001b[1mwandb\u001b[0m: \tn_head: 1\n",
            "\u001b[34m\u001b[1mwandb\u001b[0m: \tn_layer: 2\n",
            "\u001b[34m\u001b[1mwandb\u001b[0m: \tout_dim: 32\n"
          ]
        },
        {
          "output_type": "display_data",
          "data": {
            "text/plain": [
              "<IPython.core.display.HTML object>"
            ],
            "text/html": [
              "Tracking run with wandb version 0.15.8"
            ]
          },
          "metadata": {}
        },
        {
          "output_type": "display_data",
          "data": {
            "text/plain": [
              "<IPython.core.display.HTML object>"
            ],
            "text/html": [
              "Run data is saved locally in <code>/content/wandb/run-20230809_115644-pw54307e</code>"
            ]
          },
          "metadata": {}
        },
        {
          "output_type": "display_data",
          "data": {
            "text/plain": [
              "<IPython.core.display.HTML object>"
            ],
            "text/html": [
              "Syncing run <strong><a href='https://wandb.ai/rossi22/GCN_LOGP_SWEEP/runs/pw54307e' target=\"_blank\">neat-sweep-18</a></strong> to <a href='https://wandb.ai/rossi22/GCN_LOGP_SWEEP' target=\"_blank\">Weights & Biases</a> (<a href='https://wandb.me/run' target=\"_blank\">docs</a>)<br/>Sweep page: <a href='https://wandb.ai/rossi22/GCN_LOGP_SWEEP/sweeps/76kd77r9' target=\"_blank\">https://wandb.ai/rossi22/GCN_LOGP_SWEEP/sweeps/76kd77r9</a>"
            ]
          },
          "metadata": {}
        },
        {
          "output_type": "display_data",
          "data": {
            "text/plain": [
              "<IPython.core.display.HTML object>"
            ],
            "text/html": [
              " View project at <a href='https://wandb.ai/rossi22/GCN_LOGP_SWEEP' target=\"_blank\">https://wandb.ai/rossi22/GCN_LOGP_SWEEP</a>"
            ]
          },
          "metadata": {}
        },
        {
          "output_type": "display_data",
          "data": {
            "text/plain": [
              "<IPython.core.display.HTML object>"
            ],
            "text/html": [
              " View sweep at <a href='https://wandb.ai/rossi22/GCN_LOGP_SWEEP/sweeps/76kd77r9' target=\"_blank\">https://wandb.ai/rossi22/GCN_LOGP_SWEEP/sweeps/76kd77r9</a>"
            ]
          },
          "metadata": {}
        },
        {
          "output_type": "display_data",
          "data": {
            "text/plain": [
              "<IPython.core.display.HTML object>"
            ],
            "text/html": [
              " View run at <a href='https://wandb.ai/rossi22/GCN_LOGP_SWEEP/runs/pw54307e' target=\"_blank\">https://wandb.ai/rossi22/GCN_LOGP_SWEEP/runs/pw54307e</a>"
            ]
          },
          "metadata": {}
        },
        {
          "output_type": "stream",
          "name": "stdout",
          "text": [
            "hparams : {'device': device(type='cuda', index=0), 'disable_rdkit_warnings': True, 'batch_size': 128, 'learning_rate': 0.001, 'epochs': 20, 'period': 1, 'n_block': 2, 'n_layer': 2, 'in_dim': 30, 'hidden_dim': 128, 'out_dim': 32, 'n_head': 1, 'use_bn': True, 'sc': 'gsc', 'gat_act': 'gelu', 'readout_act': 'gelu', 'gcnnet_act': 'gelu', 'use_scheduler': True, 'schd_factor': 0.5, 'schd_patience': 10, 'schd_min_lr': 5e-06, 'supported_atoms': {'C', 'P', 'O', 'Br', 'F', 'N', 'I', 'S', 'Cl'}}\n"
          ]
        },
        {
          "output_type": "stream",
          "name": "stderr",
          "text": [
            "100%|██████████| 20/20 [04:45<00:00, 14.25s/it]\n"
          ]
        },
        {
          "output_type": "display_data",
          "data": {
            "text/plain": [
              "<IPython.core.display.HTML object>"
            ],
            "text/html": [
              "Waiting for W&B process to finish... <strong style=\"color:green\">(success).</strong>"
            ]
          },
          "metadata": {}
        },
        {
          "output_type": "display_data",
          "data": {
            "text/plain": [
              "<IPython.core.display.HTML object>"
            ],
            "text/html": [
              "<style>\n",
              "    table.wandb td:nth-child(1) { padding: 0 10px; text-align: left ; width: auto;} td:nth-child(2) {text-align: left ; width: 100%}\n",
              "    .wandb-row { display: flex; flex-direction: row; flex-wrap: wrap; justify-content: flex-start; width: 100% }\n",
              "    .wandb-col { display: flex; flex-direction: column; flex-basis: 100%; flex: 1; padding: 10px; }\n",
              "    </style>\n",
              "<div class=\"wandb-row\"><div class=\"wandb-col\"><h3>Run history:</h3><br/><table class=\"wandb\"><tr><td>epoch</td><td>▁▁▂▂▂▃▃▄▄▄▅▅▅▆▆▇▇▇██</td></tr><tr><td>train_loss</td><td>█▃▃▂▂▂▂▂▂▂▁▁▁▁▁▁▁▁▁▁</td></tr><tr><td>val_loss</td><td>█▆▆▄▃▄▃▂▄▂▂▂▁▂▂▁▁▁▂▁</td></tr></table><br/></div><div class=\"wandb-col\"><h3>Run summary:</h3><br/><table class=\"wandb\"><tr><td>epoch</td><td>20</td></tr><tr><td>train_loss</td><td>0.06102</td></tr><tr><td>val_loss</td><td>0.07271</td></tr></table><br/></div></div>"
            ]
          },
          "metadata": {}
        },
        {
          "output_type": "display_data",
          "data": {
            "text/plain": [
              "<IPython.core.display.HTML object>"
            ],
            "text/html": [
              " View run <strong style=\"color:#cdcd00\">neat-sweep-18</strong> at: <a href='https://wandb.ai/rossi22/GCN_LOGP_SWEEP/runs/pw54307e' target=\"_blank\">https://wandb.ai/rossi22/GCN_LOGP_SWEEP/runs/pw54307e</a><br/>Synced 5 W&B file(s), 0 media file(s), 0 artifact file(s) and 0 other file(s)"
            ]
          },
          "metadata": {}
        },
        {
          "output_type": "display_data",
          "data": {
            "text/plain": [
              "<IPython.core.display.HTML object>"
            ],
            "text/html": [
              "Find logs at: <code>./wandb/run-20230809_115644-pw54307e/logs</code>"
            ]
          },
          "metadata": {}
        },
        {
          "output_type": "stream",
          "name": "stdout",
          "text": [
            "======================================================================================================================================================\n"
          ]
        },
        {
          "output_type": "stream",
          "name": "stderr",
          "text": [
            "\u001b[34m\u001b[1mwandb\u001b[0m: Agent Starting Run: pqzsmo5y with config:\n",
            "\u001b[34m\u001b[1mwandb\u001b[0m: \thidden_dim: 128\n",
            "\u001b[34m\u001b[1mwandb\u001b[0m: \tn_block: 3\n",
            "\u001b[34m\u001b[1mwandb\u001b[0m: \tn_head: 2\n",
            "\u001b[34m\u001b[1mwandb\u001b[0m: \tn_layer: 3\n",
            "\u001b[34m\u001b[1mwandb\u001b[0m: \tout_dim: 128\n"
          ]
        },
        {
          "output_type": "display_data",
          "data": {
            "text/plain": [
              "<IPython.core.display.HTML object>"
            ],
            "text/html": [
              "Tracking run with wandb version 0.15.8"
            ]
          },
          "metadata": {}
        },
        {
          "output_type": "display_data",
          "data": {
            "text/plain": [
              "<IPython.core.display.HTML object>"
            ],
            "text/html": [
              "Run data is saved locally in <code>/content/wandb/run-20230809_120152-pqzsmo5y</code>"
            ]
          },
          "metadata": {}
        },
        {
          "output_type": "display_data",
          "data": {
            "text/plain": [
              "<IPython.core.display.HTML object>"
            ],
            "text/html": [
              "Syncing run <strong><a href='https://wandb.ai/rossi22/GCN_LOGP_SWEEP/runs/pqzsmo5y' target=\"_blank\">dazzling-sweep-19</a></strong> to <a href='https://wandb.ai/rossi22/GCN_LOGP_SWEEP' target=\"_blank\">Weights & Biases</a> (<a href='https://wandb.me/run' target=\"_blank\">docs</a>)<br/>Sweep page: <a href='https://wandb.ai/rossi22/GCN_LOGP_SWEEP/sweeps/76kd77r9' target=\"_blank\">https://wandb.ai/rossi22/GCN_LOGP_SWEEP/sweeps/76kd77r9</a>"
            ]
          },
          "metadata": {}
        },
        {
          "output_type": "display_data",
          "data": {
            "text/plain": [
              "<IPython.core.display.HTML object>"
            ],
            "text/html": [
              " View project at <a href='https://wandb.ai/rossi22/GCN_LOGP_SWEEP' target=\"_blank\">https://wandb.ai/rossi22/GCN_LOGP_SWEEP</a>"
            ]
          },
          "metadata": {}
        },
        {
          "output_type": "display_data",
          "data": {
            "text/plain": [
              "<IPython.core.display.HTML object>"
            ],
            "text/html": [
              " View sweep at <a href='https://wandb.ai/rossi22/GCN_LOGP_SWEEP/sweeps/76kd77r9' target=\"_blank\">https://wandb.ai/rossi22/GCN_LOGP_SWEEP/sweeps/76kd77r9</a>"
            ]
          },
          "metadata": {}
        },
        {
          "output_type": "display_data",
          "data": {
            "text/plain": [
              "<IPython.core.display.HTML object>"
            ],
            "text/html": [
              " View run at <a href='https://wandb.ai/rossi22/GCN_LOGP_SWEEP/runs/pqzsmo5y' target=\"_blank\">https://wandb.ai/rossi22/GCN_LOGP_SWEEP/runs/pqzsmo5y</a>"
            ]
          },
          "metadata": {}
        },
        {
          "output_type": "stream",
          "name": "stdout",
          "text": [
            "hparams : {'device': device(type='cuda', index=0), 'disable_rdkit_warnings': True, 'batch_size': 128, 'learning_rate': 0.001, 'epochs': 20, 'period': 1, 'n_block': 3, 'n_layer': 3, 'in_dim': 30, 'hidden_dim': 128, 'out_dim': 128, 'n_head': 2, 'use_bn': True, 'sc': 'gsc', 'gat_act': 'gelu', 'readout_act': 'gelu', 'gcnnet_act': 'gelu', 'use_scheduler': True, 'schd_factor': 0.5, 'schd_patience': 10, 'schd_min_lr': 5e-06, 'supported_atoms': {'C', 'P', 'O', 'Br', 'F', 'N', 'I', 'S', 'Cl'}}\n"
          ]
        },
        {
          "output_type": "stream",
          "name": "stderr",
          "text": [
            "100%|██████████| 20/20 [07:41<00:00, 23.08s/it]\n"
          ]
        },
        {
          "output_type": "display_data",
          "data": {
            "text/plain": [
              "<IPython.core.display.HTML object>"
            ],
            "text/html": [
              "Waiting for W&B process to finish... <strong style=\"color:green\">(success).</strong>"
            ]
          },
          "metadata": {}
        },
        {
          "output_type": "display_data",
          "data": {
            "text/plain": [
              "<IPython.core.display.HTML object>"
            ],
            "text/html": [
              "<style>\n",
              "    table.wandb td:nth-child(1) { padding: 0 10px; text-align: left ; width: auto;} td:nth-child(2) {text-align: left ; width: 100%}\n",
              "    .wandb-row { display: flex; flex-direction: row; flex-wrap: wrap; justify-content: flex-start; width: 100% }\n",
              "    .wandb-col { display: flex; flex-direction: column; flex-basis: 100%; flex: 1; padding: 10px; }\n",
              "    </style>\n",
              "<div class=\"wandb-row\"><div class=\"wandb-col\"><h3>Run history:</h3><br/><table class=\"wandb\"><tr><td>epoch</td><td>▁▁▂▂▂▃▃▄▄▄▅▅▅▆▆▇▇▇██</td></tr><tr><td>train_loss</td><td>█▄▃▃▂▂▂▂▂▂▁▁▁▁▁▁▁▁▁▁</td></tr><tr><td>val_loss</td><td>█▆▅▅▄█▃▃▃▃▂▂▂▂▂▂▁▁▁▁</td></tr></table><br/></div><div class=\"wandb-col\"><h3>Run summary:</h3><br/><table class=\"wandb\"><tr><td>epoch</td><td>20</td></tr><tr><td>train_loss</td><td>0.03262</td></tr><tr><td>val_loss</td><td>0.0347</td></tr></table><br/></div></div>"
            ]
          },
          "metadata": {}
        },
        {
          "output_type": "display_data",
          "data": {
            "text/plain": [
              "<IPython.core.display.HTML object>"
            ],
            "text/html": [
              " View run <strong style=\"color:#cdcd00\">dazzling-sweep-19</strong> at: <a href='https://wandb.ai/rossi22/GCN_LOGP_SWEEP/runs/pqzsmo5y' target=\"_blank\">https://wandb.ai/rossi22/GCN_LOGP_SWEEP/runs/pqzsmo5y</a><br/>Synced 5 W&B file(s), 0 media file(s), 0 artifact file(s) and 0 other file(s)"
            ]
          },
          "metadata": {}
        },
        {
          "output_type": "display_data",
          "data": {
            "text/plain": [
              "<IPython.core.display.HTML object>"
            ],
            "text/html": [
              "Find logs at: <code>./wandb/run-20230809_120152-pqzsmo5y/logs</code>"
            ]
          },
          "metadata": {}
        },
        {
          "output_type": "stream",
          "name": "stdout",
          "text": [
            "======================================================================================================================================================\n"
          ]
        },
        {
          "output_type": "stream",
          "name": "stderr",
          "text": [
            "\u001b[34m\u001b[1mwandb\u001b[0m: Agent Starting Run: xicr89nz with config:\n",
            "\u001b[34m\u001b[1mwandb\u001b[0m: \thidden_dim: 64\n",
            "\u001b[34m\u001b[1mwandb\u001b[0m: \tn_block: 3\n",
            "\u001b[34m\u001b[1mwandb\u001b[0m: \tn_head: 2\n",
            "\u001b[34m\u001b[1mwandb\u001b[0m: \tn_layer: 3\n",
            "\u001b[34m\u001b[1mwandb\u001b[0m: \tout_dim: 128\n"
          ]
        },
        {
          "output_type": "display_data",
          "data": {
            "text/plain": [
              "<IPython.core.display.HTML object>"
            ],
            "text/html": [
              "Tracking run with wandb version 0.15.8"
            ]
          },
          "metadata": {}
        },
        {
          "output_type": "display_data",
          "data": {
            "text/plain": [
              "<IPython.core.display.HTML object>"
            ],
            "text/html": [
              "Run data is saved locally in <code>/content/wandb/run-20230809_120956-xicr89nz</code>"
            ]
          },
          "metadata": {}
        },
        {
          "output_type": "display_data",
          "data": {
            "text/plain": [
              "<IPython.core.display.HTML object>"
            ],
            "text/html": [
              "Syncing run <strong><a href='https://wandb.ai/rossi22/GCN_LOGP_SWEEP/runs/xicr89nz' target=\"_blank\">bright-sweep-20</a></strong> to <a href='https://wandb.ai/rossi22/GCN_LOGP_SWEEP' target=\"_blank\">Weights & Biases</a> (<a href='https://wandb.me/run' target=\"_blank\">docs</a>)<br/>Sweep page: <a href='https://wandb.ai/rossi22/GCN_LOGP_SWEEP/sweeps/76kd77r9' target=\"_blank\">https://wandb.ai/rossi22/GCN_LOGP_SWEEP/sweeps/76kd77r9</a>"
            ]
          },
          "metadata": {}
        },
        {
          "output_type": "display_data",
          "data": {
            "text/plain": [
              "<IPython.core.display.HTML object>"
            ],
            "text/html": [
              " View project at <a href='https://wandb.ai/rossi22/GCN_LOGP_SWEEP' target=\"_blank\">https://wandb.ai/rossi22/GCN_LOGP_SWEEP</a>"
            ]
          },
          "metadata": {}
        },
        {
          "output_type": "display_data",
          "data": {
            "text/plain": [
              "<IPython.core.display.HTML object>"
            ],
            "text/html": [
              " View sweep at <a href='https://wandb.ai/rossi22/GCN_LOGP_SWEEP/sweeps/76kd77r9' target=\"_blank\">https://wandb.ai/rossi22/GCN_LOGP_SWEEP/sweeps/76kd77r9</a>"
            ]
          },
          "metadata": {}
        },
        {
          "output_type": "display_data",
          "data": {
            "text/plain": [
              "<IPython.core.display.HTML object>"
            ],
            "text/html": [
              " View run at <a href='https://wandb.ai/rossi22/GCN_LOGP_SWEEP/runs/xicr89nz' target=\"_blank\">https://wandb.ai/rossi22/GCN_LOGP_SWEEP/runs/xicr89nz</a>"
            ]
          },
          "metadata": {}
        },
        {
          "output_type": "stream",
          "name": "stdout",
          "text": [
            "hparams : {'device': device(type='cuda', index=0), 'disable_rdkit_warnings': True, 'batch_size': 128, 'learning_rate': 0.001, 'epochs': 20, 'period': 1, 'n_block': 3, 'n_layer': 3, 'in_dim': 30, 'hidden_dim': 64, 'out_dim': 128, 'n_head': 2, 'use_bn': True, 'sc': 'gsc', 'gat_act': 'gelu', 'readout_act': 'gelu', 'gcnnet_act': 'gelu', 'use_scheduler': True, 'schd_factor': 0.5, 'schd_patience': 10, 'schd_min_lr': 5e-06, 'supported_atoms': {'C', 'P', 'O', 'Br', 'F', 'N', 'I', 'S', 'Cl'}}\n"
          ]
        },
        {
          "output_type": "stream",
          "name": "stderr",
          "text": [
            "100%|██████████| 20/20 [07:44<00:00, 23.24s/it]\n"
          ]
        },
        {
          "output_type": "display_data",
          "data": {
            "text/plain": [
              "<IPython.core.display.HTML object>"
            ],
            "text/html": [
              "Waiting for W&B process to finish... <strong style=\"color:green\">(success).</strong>"
            ]
          },
          "metadata": {}
        },
        {
          "output_type": "display_data",
          "data": {
            "text/plain": [
              "<IPython.core.display.HTML object>"
            ],
            "text/html": [
              "<style>\n",
              "    table.wandb td:nth-child(1) { padding: 0 10px; text-align: left ; width: auto;} td:nth-child(2) {text-align: left ; width: 100%}\n",
              "    .wandb-row { display: flex; flex-direction: row; flex-wrap: wrap; justify-content: flex-start; width: 100% }\n",
              "    .wandb-col { display: flex; flex-direction: column; flex-basis: 100%; flex: 1; padding: 10px; }\n",
              "    </style>\n",
              "<div class=\"wandb-row\"><div class=\"wandb-col\"><h3>Run history:</h3><br/><table class=\"wandb\"><tr><td>epoch</td><td>▁▁▂▂▂▃▃▄▄▄▅▅▅▆▆▇▇▇██</td></tr><tr><td>train_loss</td><td>█▃▃▂▂▂▂▂▂▂▁▁▁▁▁▁▁▁▁▁</td></tr><tr><td>val_loss</td><td>█▇▆▃▃▄▃▂▂▂▂▂▃▁▂▁▁▁▁▁</td></tr></table><br/></div><div class=\"wandb-col\"><h3>Run summary:</h3><br/><table class=\"wandb\"><tr><td>epoch</td><td>20</td></tr><tr><td>train_loss</td><td>0.05285</td></tr><tr><td>val_loss</td><td>0.05131</td></tr></table><br/></div></div>"
            ]
          },
          "metadata": {}
        },
        {
          "output_type": "display_data",
          "data": {
            "text/plain": [
              "<IPython.core.display.HTML object>"
            ],
            "text/html": [
              " View run <strong style=\"color:#cdcd00\">bright-sweep-20</strong> at: <a href='https://wandb.ai/rossi22/GCN_LOGP_SWEEP/runs/xicr89nz' target=\"_blank\">https://wandb.ai/rossi22/GCN_LOGP_SWEEP/runs/xicr89nz</a><br/>Synced 5 W&B file(s), 0 media file(s), 0 artifact file(s) and 0 other file(s)"
            ]
          },
          "metadata": {}
        },
        {
          "output_type": "display_data",
          "data": {
            "text/plain": [
              "<IPython.core.display.HTML object>"
            ],
            "text/html": [
              "Find logs at: <code>./wandb/run-20230809_120956-xicr89nz/logs</code>"
            ]
          },
          "metadata": {}
        },
        {
          "output_type": "stream",
          "name": "stdout",
          "text": [
            "======================================================================================================================================================\n",
            "\n",
            "best hyperparameters : {'device': device(type='cuda', index=0), 'disable_rdkit_warnings': True, 'batch_size': 128, 'learning_rate': 0.001, 'epochs': 20, 'period': 1, 'n_block': 3, 'n_layer': 3, 'in_dim': 30, 'hidden_dim': 128, 'out_dim': 64, 'n_head': 2, 'use_bn': True, 'sc': 'gsc', 'gat_act': 'gelu', 'readout_act': 'gelu', 'gcnnet_act': 'gelu', 'use_scheduler': True, 'schd_factor': 0.5, 'schd_patience': 10, 'schd_min_lr': 5e-06, 'supported_atoms': {'C', 'P', 'O', 'Br', 'F', 'N', 'I', 'S', 'Cl'}}\n",
            "\n",
            "------------------------------------------------------------------------------------------------------------------------------------------------------\n",
            "\n",
            "====================================================================== Condition 4 ======================================================================\n",
            "\n",
            "------------------------------------------------------------------------------------------------------------------------------------------------------\n"
          ]
        },
        {
          "output_type": "stream",
          "name": "stderr",
          "text": [
            "\u001b[34m\u001b[1mwandb\u001b[0m: \u001b[33mWARNING\u001b[0m Malformed sweep config detected! This may cause your sweep to behave in unexpected ways.\n",
            "\u001b[34m\u001b[1mwandb\u001b[0m: \u001b[33mWARNING\u001b[0m To avoid this, please fix the sweep config schema violations below:\n",
            "\u001b[34m\u001b[1mwandb\u001b[0m: \u001b[33mWARNING\u001b[0m   Violation 1. Additional properties are not allowed ('count' was unexpected)\n"
          ]
        },
        {
          "output_type": "stream",
          "name": "stdout",
          "text": [
            "Create sweep with ID: 4sqn4a0p\n",
            "Sweep URL: https://wandb.ai/rossi22/GCN_LOGP_SWEEP/sweeps/4sqn4a0p\n"
          ]
        },
        {
          "output_type": "stream",
          "name": "stderr",
          "text": [
            "\u001b[34m\u001b[1mwandb\u001b[0m: Agent Starting Run: gsy7xwni with config:\n",
            "\u001b[34m\u001b[1mwandb\u001b[0m: \tlearning_rate: 0.001367330310241154\n"
          ]
        },
        {
          "output_type": "display_data",
          "data": {
            "text/plain": [
              "<IPython.core.display.HTML object>"
            ],
            "text/html": [
              "Tracking run with wandb version 0.15.8"
            ]
          },
          "metadata": {}
        },
        {
          "output_type": "display_data",
          "data": {
            "text/plain": [
              "<IPython.core.display.HTML object>"
            ],
            "text/html": [
              "Run data is saved locally in <code>/content/wandb/run-20230809_121801-gsy7xwni</code>"
            ]
          },
          "metadata": {}
        },
        {
          "output_type": "display_data",
          "data": {
            "text/plain": [
              "<IPython.core.display.HTML object>"
            ],
            "text/html": [
              "Syncing run <strong><a href='https://wandb.ai/rossi22/GCN_LOGP_SWEEP/runs/gsy7xwni' target=\"_blank\">swift-sweep-1</a></strong> to <a href='https://wandb.ai/rossi22/GCN_LOGP_SWEEP' target=\"_blank\">Weights & Biases</a> (<a href='https://wandb.me/run' target=\"_blank\">docs</a>)<br/>Sweep page: <a href='https://wandb.ai/rossi22/GCN_LOGP_SWEEP/sweeps/4sqn4a0p' target=\"_blank\">https://wandb.ai/rossi22/GCN_LOGP_SWEEP/sweeps/4sqn4a0p</a>"
            ]
          },
          "metadata": {}
        },
        {
          "output_type": "display_data",
          "data": {
            "text/plain": [
              "<IPython.core.display.HTML object>"
            ],
            "text/html": [
              " View project at <a href='https://wandb.ai/rossi22/GCN_LOGP_SWEEP' target=\"_blank\">https://wandb.ai/rossi22/GCN_LOGP_SWEEP</a>"
            ]
          },
          "metadata": {}
        },
        {
          "output_type": "display_data",
          "data": {
            "text/plain": [
              "<IPython.core.display.HTML object>"
            ],
            "text/html": [
              " View sweep at <a href='https://wandb.ai/rossi22/GCN_LOGP_SWEEP/sweeps/4sqn4a0p' target=\"_blank\">https://wandb.ai/rossi22/GCN_LOGP_SWEEP/sweeps/4sqn4a0p</a>"
            ]
          },
          "metadata": {}
        },
        {
          "output_type": "display_data",
          "data": {
            "text/plain": [
              "<IPython.core.display.HTML object>"
            ],
            "text/html": [
              " View run at <a href='https://wandb.ai/rossi22/GCN_LOGP_SWEEP/runs/gsy7xwni' target=\"_blank\">https://wandb.ai/rossi22/GCN_LOGP_SWEEP/runs/gsy7xwni</a>"
            ]
          },
          "metadata": {}
        },
        {
          "output_type": "stream",
          "name": "stdout",
          "text": [
            "hparams : {'device': device(type='cuda', index=0), 'disable_rdkit_warnings': True, 'batch_size': 128, 'learning_rate': 0.001367330310241154, 'epochs': 30, 'period': 1, 'n_block': 3, 'n_layer': 3, 'in_dim': 30, 'hidden_dim': 128, 'out_dim': 64, 'n_head': 2, 'use_bn': True, 'sc': 'gsc', 'gat_act': 'gelu', 'readout_act': 'gelu', 'gcnnet_act': 'gelu', 'use_scheduler': True, 'schd_factor': 0.5, 'schd_patience': 10, 'schd_min_lr': 5e-06, 'supported_atoms': {'C', 'P', 'O', 'Br', 'F', 'N', 'I', 'S', 'Cl'}}\n"
          ]
        },
        {
          "output_type": "stream",
          "name": "stderr",
          "text": [
            "100%|██████████| 30/30 [11:31<00:00, 23.05s/it]\n"
          ]
        },
        {
          "output_type": "display_data",
          "data": {
            "text/plain": [
              "<IPython.core.display.HTML object>"
            ],
            "text/html": [
              "Waiting for W&B process to finish... <strong style=\"color:green\">(success).</strong>"
            ]
          },
          "metadata": {}
        },
        {
          "output_type": "display_data",
          "data": {
            "text/plain": [
              "<IPython.core.display.HTML object>"
            ],
            "text/html": [
              "<style>\n",
              "    table.wandb td:nth-child(1) { padding: 0 10px; text-align: left ; width: auto;} td:nth-child(2) {text-align: left ; width: 100%}\n",
              "    .wandb-row { display: flex; flex-direction: row; flex-wrap: wrap; justify-content: flex-start; width: 100% }\n",
              "    .wandb-col { display: flex; flex-direction: column; flex-basis: 100%; flex: 1; padding: 10px; }\n",
              "    </style>\n",
              "<div class=\"wandb-row\"><div class=\"wandb-col\"><h3>Run history:</h3><br/><table class=\"wandb\"><tr><td>epoch</td><td>▁▁▁▂▂▂▂▃▃▃▃▄▄▄▄▅▅▅▅▆▆▆▆▇▇▇▇███</td></tr><tr><td>train_loss</td><td>█▄▃▃▃▂▂▂▂▂▂▂▁▁▁▁▁▁▁▁▁▁▁▁▁▁▁▁▁▁</td></tr><tr><td>val_loss</td><td>█▆▅▄▄▄▃▃▂▂▂▃▂▂▁▂▂▁▁▁▁▁▁▁▁▁▁▁▁▁</td></tr></table><br/></div><div class=\"wandb-col\"><h3>Run summary:</h3><br/><table class=\"wandb\"><tr><td>epoch</td><td>30</td></tr><tr><td>train_loss</td><td>0.02032</td></tr><tr><td>val_loss</td><td>0.02754</td></tr></table><br/></div></div>"
            ]
          },
          "metadata": {}
        },
        {
          "output_type": "display_data",
          "data": {
            "text/plain": [
              "<IPython.core.display.HTML object>"
            ],
            "text/html": [
              " View run <strong style=\"color:#cdcd00\">swift-sweep-1</strong> at: <a href='https://wandb.ai/rossi22/GCN_LOGP_SWEEP/runs/gsy7xwni' target=\"_blank\">https://wandb.ai/rossi22/GCN_LOGP_SWEEP/runs/gsy7xwni</a><br/>Synced 5 W&B file(s), 0 media file(s), 0 artifact file(s) and 0 other file(s)"
            ]
          },
          "metadata": {}
        },
        {
          "output_type": "display_data",
          "data": {
            "text/plain": [
              "<IPython.core.display.HTML object>"
            ],
            "text/html": [
              "Find logs at: <code>./wandb/run-20230809_121801-gsy7xwni/logs</code>"
            ]
          },
          "metadata": {}
        },
        {
          "output_type": "stream",
          "name": "stdout",
          "text": [
            "======================================================================================================================================================\n"
          ]
        },
        {
          "output_type": "stream",
          "name": "stderr",
          "text": [
            "\u001b[34m\u001b[1mwandb\u001b[0m: Agent Starting Run: j4onns7v with config:\n",
            "\u001b[34m\u001b[1mwandb\u001b[0m: \tlearning_rate: 0.0008689160142796571\n"
          ]
        },
        {
          "output_type": "display_data",
          "data": {
            "text/plain": [
              "<IPython.core.display.HTML object>"
            ],
            "text/html": [
              "Tracking run with wandb version 0.15.8"
            ]
          },
          "metadata": {}
        },
        {
          "output_type": "display_data",
          "data": {
            "text/plain": [
              "<IPython.core.display.HTML object>"
            ],
            "text/html": [
              "Run data is saved locally in <code>/content/wandb/run-20230809_122957-j4onns7v</code>"
            ]
          },
          "metadata": {}
        },
        {
          "output_type": "display_data",
          "data": {
            "text/plain": [
              "<IPython.core.display.HTML object>"
            ],
            "text/html": [
              "Syncing run <strong><a href='https://wandb.ai/rossi22/GCN_LOGP_SWEEP/runs/j4onns7v' target=\"_blank\">daily-sweep-2</a></strong> to <a href='https://wandb.ai/rossi22/GCN_LOGP_SWEEP' target=\"_blank\">Weights & Biases</a> (<a href='https://wandb.me/run' target=\"_blank\">docs</a>)<br/>Sweep page: <a href='https://wandb.ai/rossi22/GCN_LOGP_SWEEP/sweeps/4sqn4a0p' target=\"_blank\">https://wandb.ai/rossi22/GCN_LOGP_SWEEP/sweeps/4sqn4a0p</a>"
            ]
          },
          "metadata": {}
        },
        {
          "output_type": "display_data",
          "data": {
            "text/plain": [
              "<IPython.core.display.HTML object>"
            ],
            "text/html": [
              " View project at <a href='https://wandb.ai/rossi22/GCN_LOGP_SWEEP' target=\"_blank\">https://wandb.ai/rossi22/GCN_LOGP_SWEEP</a>"
            ]
          },
          "metadata": {}
        },
        {
          "output_type": "display_data",
          "data": {
            "text/plain": [
              "<IPython.core.display.HTML object>"
            ],
            "text/html": [
              " View sweep at <a href='https://wandb.ai/rossi22/GCN_LOGP_SWEEP/sweeps/4sqn4a0p' target=\"_blank\">https://wandb.ai/rossi22/GCN_LOGP_SWEEP/sweeps/4sqn4a0p</a>"
            ]
          },
          "metadata": {}
        },
        {
          "output_type": "display_data",
          "data": {
            "text/plain": [
              "<IPython.core.display.HTML object>"
            ],
            "text/html": [
              " View run at <a href='https://wandb.ai/rossi22/GCN_LOGP_SWEEP/runs/j4onns7v' target=\"_blank\">https://wandb.ai/rossi22/GCN_LOGP_SWEEP/runs/j4onns7v</a>"
            ]
          },
          "metadata": {}
        },
        {
          "output_type": "stream",
          "name": "stdout",
          "text": [
            "hparams : {'device': device(type='cuda', index=0), 'disable_rdkit_warnings': True, 'batch_size': 128, 'learning_rate': 0.0008689160142796571, 'epochs': 30, 'period': 1, 'n_block': 3, 'n_layer': 3, 'in_dim': 30, 'hidden_dim': 128, 'out_dim': 64, 'n_head': 2, 'use_bn': True, 'sc': 'gsc', 'gat_act': 'gelu', 'readout_act': 'gelu', 'gcnnet_act': 'gelu', 'use_scheduler': True, 'schd_factor': 0.5, 'schd_patience': 10, 'schd_min_lr': 5e-06, 'supported_atoms': {'C', 'P', 'O', 'Br', 'F', 'N', 'I', 'S', 'Cl'}}\n"
          ]
        },
        {
          "output_type": "stream",
          "name": "stderr",
          "text": [
            "100%|██████████| 30/30 [11:46<00:00, 23.54s/it]\n"
          ]
        },
        {
          "output_type": "display_data",
          "data": {
            "text/plain": [
              "<IPython.core.display.HTML object>"
            ],
            "text/html": [
              "Waiting for W&B process to finish... <strong style=\"color:green\">(success).</strong>"
            ]
          },
          "metadata": {}
        },
        {
          "output_type": "display_data",
          "data": {
            "text/plain": [
              "<IPython.core.display.HTML object>"
            ],
            "text/html": [
              "<style>\n",
              "    table.wandb td:nth-child(1) { padding: 0 10px; text-align: left ; width: auto;} td:nth-child(2) {text-align: left ; width: 100%}\n",
              "    .wandb-row { display: flex; flex-direction: row; flex-wrap: wrap; justify-content: flex-start; width: 100% }\n",
              "    .wandb-col { display: flex; flex-direction: column; flex-basis: 100%; flex: 1; padding: 10px; }\n",
              "    </style>\n",
              "<div class=\"wandb-row\"><div class=\"wandb-col\"><h3>Run history:</h3><br/><table class=\"wandb\"><tr><td>epoch</td><td>▁▁▁▂▂▂▂▃▃▃▃▄▄▄▄▅▅▅▅▆▆▆▆▇▇▇▇███</td></tr><tr><td>train_loss</td><td>█▄▃▃▃▂▂▂▂▂▂▂▂▁▁▁▁▁▁▁▁▁▁▁▁▁▁▁▁▁</td></tr><tr><td>val_loss</td><td>█▆▆▄▄▄▄▃▂▃▂▃▂▂▂▂▁▁▂▂▁▁▁▂▂▁▁▁▁▁</td></tr></table><br/></div><div class=\"wandb-col\"><h3>Run summary:</h3><br/><table class=\"wandb\"><tr><td>epoch</td><td>30</td></tr><tr><td>train_loss</td><td>0.01929</td></tr><tr><td>val_loss</td><td>0.02386</td></tr></table><br/></div></div>"
            ]
          },
          "metadata": {}
        },
        {
          "output_type": "display_data",
          "data": {
            "text/plain": [
              "<IPython.core.display.HTML object>"
            ],
            "text/html": [
              " View run <strong style=\"color:#cdcd00\">daily-sweep-2</strong> at: <a href='https://wandb.ai/rossi22/GCN_LOGP_SWEEP/runs/j4onns7v' target=\"_blank\">https://wandb.ai/rossi22/GCN_LOGP_SWEEP/runs/j4onns7v</a><br/>Synced 5 W&B file(s), 0 media file(s), 0 artifact file(s) and 0 other file(s)"
            ]
          },
          "metadata": {}
        },
        {
          "output_type": "display_data",
          "data": {
            "text/plain": [
              "<IPython.core.display.HTML object>"
            ],
            "text/html": [
              "Find logs at: <code>./wandb/run-20230809_122957-j4onns7v/logs</code>"
            ]
          },
          "metadata": {}
        },
        {
          "output_type": "stream",
          "name": "stdout",
          "text": [
            "======================================================================================================================================================\n"
          ]
        },
        {
          "output_type": "stream",
          "name": "stderr",
          "text": [
            "\u001b[34m\u001b[1mwandb\u001b[0m: Agent Starting Run: axnn9zvk with config:\n",
            "\u001b[34m\u001b[1mwandb\u001b[0m: \tlearning_rate: 0.00029206012053514655\n"
          ]
        },
        {
          "output_type": "display_data",
          "data": {
            "text/plain": [
              "<IPython.core.display.HTML object>"
            ],
            "text/html": [
              "Tracking run with wandb version 0.15.8"
            ]
          },
          "metadata": {}
        },
        {
          "output_type": "display_data",
          "data": {
            "text/plain": [
              "<IPython.core.display.HTML object>"
            ],
            "text/html": [
              "Run data is saved locally in <code>/content/wandb/run-20230809_124203-axnn9zvk</code>"
            ]
          },
          "metadata": {}
        },
        {
          "output_type": "display_data",
          "data": {
            "text/plain": [
              "<IPython.core.display.HTML object>"
            ],
            "text/html": [
              "Syncing run <strong><a href='https://wandb.ai/rossi22/GCN_LOGP_SWEEP/runs/axnn9zvk' target=\"_blank\">lunar-sweep-3</a></strong> to <a href='https://wandb.ai/rossi22/GCN_LOGP_SWEEP' target=\"_blank\">Weights & Biases</a> (<a href='https://wandb.me/run' target=\"_blank\">docs</a>)<br/>Sweep page: <a href='https://wandb.ai/rossi22/GCN_LOGP_SWEEP/sweeps/4sqn4a0p' target=\"_blank\">https://wandb.ai/rossi22/GCN_LOGP_SWEEP/sweeps/4sqn4a0p</a>"
            ]
          },
          "metadata": {}
        },
        {
          "output_type": "display_data",
          "data": {
            "text/plain": [
              "<IPython.core.display.HTML object>"
            ],
            "text/html": [
              " View project at <a href='https://wandb.ai/rossi22/GCN_LOGP_SWEEP' target=\"_blank\">https://wandb.ai/rossi22/GCN_LOGP_SWEEP</a>"
            ]
          },
          "metadata": {}
        },
        {
          "output_type": "display_data",
          "data": {
            "text/plain": [
              "<IPython.core.display.HTML object>"
            ],
            "text/html": [
              " View sweep at <a href='https://wandb.ai/rossi22/GCN_LOGP_SWEEP/sweeps/4sqn4a0p' target=\"_blank\">https://wandb.ai/rossi22/GCN_LOGP_SWEEP/sweeps/4sqn4a0p</a>"
            ]
          },
          "metadata": {}
        },
        {
          "output_type": "display_data",
          "data": {
            "text/plain": [
              "<IPython.core.display.HTML object>"
            ],
            "text/html": [
              " View run at <a href='https://wandb.ai/rossi22/GCN_LOGP_SWEEP/runs/axnn9zvk' target=\"_blank\">https://wandb.ai/rossi22/GCN_LOGP_SWEEP/runs/axnn9zvk</a>"
            ]
          },
          "metadata": {}
        },
        {
          "output_type": "stream",
          "name": "stdout",
          "text": [
            "hparams : {'device': device(type='cuda', index=0), 'disable_rdkit_warnings': True, 'batch_size': 128, 'learning_rate': 0.00029206012053514655, 'epochs': 30, 'period': 1, 'n_block': 3, 'n_layer': 3, 'in_dim': 30, 'hidden_dim': 128, 'out_dim': 64, 'n_head': 2, 'use_bn': True, 'sc': 'gsc', 'gat_act': 'gelu', 'readout_act': 'gelu', 'gcnnet_act': 'gelu', 'use_scheduler': True, 'schd_factor': 0.5, 'schd_patience': 10, 'schd_min_lr': 5e-06, 'supported_atoms': {'C', 'P', 'O', 'Br', 'F', 'N', 'I', 'S', 'Cl'}}\n"
          ]
        },
        {
          "output_type": "stream",
          "name": "stderr",
          "text": [
            "100%|██████████| 30/30 [11:29<00:00, 22.97s/it]\n"
          ]
        },
        {
          "output_type": "display_data",
          "data": {
            "text/plain": [
              "<IPython.core.display.HTML object>"
            ],
            "text/html": [
              "Waiting for W&B process to finish... <strong style=\"color:green\">(success).</strong>"
            ]
          },
          "metadata": {}
        },
        {
          "output_type": "display_data",
          "data": {
            "text/plain": [
              "<IPython.core.display.HTML object>"
            ],
            "text/html": [
              "<style>\n",
              "    table.wandb td:nth-child(1) { padding: 0 10px; text-align: left ; width: auto;} td:nth-child(2) {text-align: left ; width: 100%}\n",
              "    .wandb-row { display: flex; flex-direction: row; flex-wrap: wrap; justify-content: flex-start; width: 100% }\n",
              "    .wandb-col { display: flex; flex-direction: column; flex-basis: 100%; flex: 1; padding: 10px; }\n",
              "    </style>\n",
              "<div class=\"wandb-row\"><div class=\"wandb-col\"><h3>Run history:</h3><br/><table class=\"wandb\"><tr><td>epoch</td><td>▁▁▁▂▂▂▂▃▃▃▃▄▄▄▄▅▅▅▅▆▆▆▆▇▇▇▇███</td></tr><tr><td>train_loss</td><td>█▂▂▂▂▂▂▂▁▁▁▁▁▁▁▁▁▁▁▁▁▁▁▁▁▁▁▁▁▁</td></tr><tr><td>val_loss</td><td>█▇▆▅▄▅▃▃▃▃▃▃▂▂▂▂▂▂▂▂▁▂▂▁▁▁▂▂▁▁</td></tr></table><br/></div><div class=\"wandb-col\"><h3>Run summary:</h3><br/><table class=\"wandb\"><tr><td>epoch</td><td>30</td></tr><tr><td>train_loss</td><td>0.03337</td></tr><tr><td>val_loss</td><td>0.0336</td></tr></table><br/></div></div>"
            ]
          },
          "metadata": {}
        },
        {
          "output_type": "display_data",
          "data": {
            "text/plain": [
              "<IPython.core.display.HTML object>"
            ],
            "text/html": [
              " View run <strong style=\"color:#cdcd00\">lunar-sweep-3</strong> at: <a href='https://wandb.ai/rossi22/GCN_LOGP_SWEEP/runs/axnn9zvk' target=\"_blank\">https://wandb.ai/rossi22/GCN_LOGP_SWEEP/runs/axnn9zvk</a><br/>Synced 5 W&B file(s), 0 media file(s), 0 artifact file(s) and 0 other file(s)"
            ]
          },
          "metadata": {}
        },
        {
          "output_type": "display_data",
          "data": {
            "text/plain": [
              "<IPython.core.display.HTML object>"
            ],
            "text/html": [
              "Find logs at: <code>./wandb/run-20230809_124203-axnn9zvk/logs</code>"
            ]
          },
          "metadata": {}
        },
        {
          "output_type": "stream",
          "name": "stdout",
          "text": [
            "======================================================================================================================================================\n"
          ]
        },
        {
          "output_type": "stream",
          "name": "stderr",
          "text": [
            "\u001b[34m\u001b[1mwandb\u001b[0m: Agent Starting Run: ac3bfk72 with config:\n",
            "\u001b[34m\u001b[1mwandb\u001b[0m: \tlearning_rate: 0.0011628341068250377\n"
          ]
        },
        {
          "output_type": "display_data",
          "data": {
            "text/plain": [
              "<IPython.core.display.HTML object>"
            ],
            "text/html": [
              "Tracking run with wandb version 0.15.8"
            ]
          },
          "metadata": {}
        },
        {
          "output_type": "display_data",
          "data": {
            "text/plain": [
              "<IPython.core.display.HTML object>"
            ],
            "text/html": [
              "Run data is saved locally in <code>/content/wandb/run-20230809_125355-ac3bfk72</code>"
            ]
          },
          "metadata": {}
        },
        {
          "output_type": "display_data",
          "data": {
            "text/plain": [
              "<IPython.core.display.HTML object>"
            ],
            "text/html": [
              "Syncing run <strong><a href='https://wandb.ai/rossi22/GCN_LOGP_SWEEP/runs/ac3bfk72' target=\"_blank\">earthy-sweep-4</a></strong> to <a href='https://wandb.ai/rossi22/GCN_LOGP_SWEEP' target=\"_blank\">Weights & Biases</a> (<a href='https://wandb.me/run' target=\"_blank\">docs</a>)<br/>Sweep page: <a href='https://wandb.ai/rossi22/GCN_LOGP_SWEEP/sweeps/4sqn4a0p' target=\"_blank\">https://wandb.ai/rossi22/GCN_LOGP_SWEEP/sweeps/4sqn4a0p</a>"
            ]
          },
          "metadata": {}
        },
        {
          "output_type": "display_data",
          "data": {
            "text/plain": [
              "<IPython.core.display.HTML object>"
            ],
            "text/html": [
              " View project at <a href='https://wandb.ai/rossi22/GCN_LOGP_SWEEP' target=\"_blank\">https://wandb.ai/rossi22/GCN_LOGP_SWEEP</a>"
            ]
          },
          "metadata": {}
        },
        {
          "output_type": "display_data",
          "data": {
            "text/plain": [
              "<IPython.core.display.HTML object>"
            ],
            "text/html": [
              " View sweep at <a href='https://wandb.ai/rossi22/GCN_LOGP_SWEEP/sweeps/4sqn4a0p' target=\"_blank\">https://wandb.ai/rossi22/GCN_LOGP_SWEEP/sweeps/4sqn4a0p</a>"
            ]
          },
          "metadata": {}
        },
        {
          "output_type": "display_data",
          "data": {
            "text/plain": [
              "<IPython.core.display.HTML object>"
            ],
            "text/html": [
              " View run at <a href='https://wandb.ai/rossi22/GCN_LOGP_SWEEP/runs/ac3bfk72' target=\"_blank\">https://wandb.ai/rossi22/GCN_LOGP_SWEEP/runs/ac3bfk72</a>"
            ]
          },
          "metadata": {}
        },
        {
          "output_type": "stream",
          "name": "stdout",
          "text": [
            "hparams : {'device': device(type='cuda', index=0), 'disable_rdkit_warnings': True, 'batch_size': 128, 'learning_rate': 0.0011628341068250377, 'epochs': 30, 'period': 1, 'n_block': 3, 'n_layer': 3, 'in_dim': 30, 'hidden_dim': 128, 'out_dim': 64, 'n_head': 2, 'use_bn': True, 'sc': 'gsc', 'gat_act': 'gelu', 'readout_act': 'gelu', 'gcnnet_act': 'gelu', 'use_scheduler': True, 'schd_factor': 0.5, 'schd_patience': 10, 'schd_min_lr': 5e-06, 'supported_atoms': {'C', 'P', 'O', 'Br', 'F', 'N', 'I', 'S', 'Cl'}}\n"
          ]
        },
        {
          "output_type": "stream",
          "name": "stderr",
          "text": [
            "100%|██████████| 30/30 [11:20<00:00, 22.67s/it]\n"
          ]
        },
        {
          "output_type": "display_data",
          "data": {
            "text/plain": [
              "<IPython.core.display.HTML object>"
            ],
            "text/html": [
              "Waiting for W&B process to finish... <strong style=\"color:green\">(success).</strong>"
            ]
          },
          "metadata": {}
        },
        {
          "output_type": "display_data",
          "data": {
            "text/plain": [
              "<IPython.core.display.HTML object>"
            ],
            "text/html": [
              "<style>\n",
              "    table.wandb td:nth-child(1) { padding: 0 10px; text-align: left ; width: auto;} td:nth-child(2) {text-align: left ; width: 100%}\n",
              "    .wandb-row { display: flex; flex-direction: row; flex-wrap: wrap; justify-content: flex-start; width: 100% }\n",
              "    .wandb-col { display: flex; flex-direction: column; flex-basis: 100%; flex: 1; padding: 10px; }\n",
              "    </style>\n",
              "<div class=\"wandb-row\"><div class=\"wandb-col\"><h3>Run history:</h3><br/><table class=\"wandb\"><tr><td>epoch</td><td>▁▁▁▂▂▂▂▃▃▃▃▄▄▄▄▅▅▅▅▆▆▆▆▇▇▇▇███</td></tr><tr><td>train_loss</td><td>█▄▃▃▃▃▂▂▂▂▂▂▂▁▁▁▁▁▁▁▁▁▁▁▁▁▁▁▁▁</td></tr><tr><td>val_loss</td><td>█▆▆▅▄▃▃▄▃▃▂▂▂▂▁▁▂▁▁▁▁▁▁▁▁▁▁▁▁▁</td></tr></table><br/></div><div class=\"wandb-col\"><h3>Run summary:</h3><br/><table class=\"wandb\"><tr><td>epoch</td><td>30</td></tr><tr><td>train_loss</td><td>0.0189</td></tr><tr><td>val_loss</td><td>0.03099</td></tr></table><br/></div></div>"
            ]
          },
          "metadata": {}
        },
        {
          "output_type": "display_data",
          "data": {
            "text/plain": [
              "<IPython.core.display.HTML object>"
            ],
            "text/html": [
              " View run <strong style=\"color:#cdcd00\">earthy-sweep-4</strong> at: <a href='https://wandb.ai/rossi22/GCN_LOGP_SWEEP/runs/ac3bfk72' target=\"_blank\">https://wandb.ai/rossi22/GCN_LOGP_SWEEP/runs/ac3bfk72</a><br/>Synced 5 W&B file(s), 0 media file(s), 0 artifact file(s) and 0 other file(s)"
            ]
          },
          "metadata": {}
        },
        {
          "output_type": "display_data",
          "data": {
            "text/plain": [
              "<IPython.core.display.HTML object>"
            ],
            "text/html": [
              "Find logs at: <code>./wandb/run-20230809_125355-ac3bfk72/logs</code>"
            ]
          },
          "metadata": {}
        },
        {
          "output_type": "stream",
          "name": "stdout",
          "text": [
            "======================================================================================================================================================\n"
          ]
        },
        {
          "output_type": "stream",
          "name": "stderr",
          "text": [
            "\u001b[34m\u001b[1mwandb\u001b[0m: Agent Starting Run: eaj3l6wk with config:\n",
            "\u001b[34m\u001b[1mwandb\u001b[0m: \tlearning_rate: 0.000893428482510579\n"
          ]
        },
        {
          "output_type": "display_data",
          "data": {
            "text/plain": [
              "<IPython.core.display.HTML object>"
            ],
            "text/html": [
              "Tracking run with wandb version 0.15.8"
            ]
          },
          "metadata": {}
        },
        {
          "output_type": "display_data",
          "data": {
            "text/plain": [
              "<IPython.core.display.HTML object>"
            ],
            "text/html": [
              "Run data is saved locally in <code>/content/wandb/run-20230809_130537-eaj3l6wk</code>"
            ]
          },
          "metadata": {}
        },
        {
          "output_type": "display_data",
          "data": {
            "text/plain": [
              "<IPython.core.display.HTML object>"
            ],
            "text/html": [
              "Syncing run <strong><a href='https://wandb.ai/rossi22/GCN_LOGP_SWEEP/runs/eaj3l6wk' target=\"_blank\">neat-sweep-5</a></strong> to <a href='https://wandb.ai/rossi22/GCN_LOGP_SWEEP' target=\"_blank\">Weights & Biases</a> (<a href='https://wandb.me/run' target=\"_blank\">docs</a>)<br/>Sweep page: <a href='https://wandb.ai/rossi22/GCN_LOGP_SWEEP/sweeps/4sqn4a0p' target=\"_blank\">https://wandb.ai/rossi22/GCN_LOGP_SWEEP/sweeps/4sqn4a0p</a>"
            ]
          },
          "metadata": {}
        },
        {
          "output_type": "display_data",
          "data": {
            "text/plain": [
              "<IPython.core.display.HTML object>"
            ],
            "text/html": [
              " View project at <a href='https://wandb.ai/rossi22/GCN_LOGP_SWEEP' target=\"_blank\">https://wandb.ai/rossi22/GCN_LOGP_SWEEP</a>"
            ]
          },
          "metadata": {}
        },
        {
          "output_type": "display_data",
          "data": {
            "text/plain": [
              "<IPython.core.display.HTML object>"
            ],
            "text/html": [
              " View sweep at <a href='https://wandb.ai/rossi22/GCN_LOGP_SWEEP/sweeps/4sqn4a0p' target=\"_blank\">https://wandb.ai/rossi22/GCN_LOGP_SWEEP/sweeps/4sqn4a0p</a>"
            ]
          },
          "metadata": {}
        },
        {
          "output_type": "display_data",
          "data": {
            "text/plain": [
              "<IPython.core.display.HTML object>"
            ],
            "text/html": [
              " View run at <a href='https://wandb.ai/rossi22/GCN_LOGP_SWEEP/runs/eaj3l6wk' target=\"_blank\">https://wandb.ai/rossi22/GCN_LOGP_SWEEP/runs/eaj3l6wk</a>"
            ]
          },
          "metadata": {}
        },
        {
          "output_type": "stream",
          "name": "stdout",
          "text": [
            "hparams : {'device': device(type='cuda', index=0), 'disable_rdkit_warnings': True, 'batch_size': 128, 'learning_rate': 0.000893428482510579, 'epochs': 30, 'period': 1, 'n_block': 3, 'n_layer': 3, 'in_dim': 30, 'hidden_dim': 128, 'out_dim': 64, 'n_head': 2, 'use_bn': True, 'sc': 'gsc', 'gat_act': 'gelu', 'readout_act': 'gelu', 'gcnnet_act': 'gelu', 'use_scheduler': True, 'schd_factor': 0.5, 'schd_patience': 10, 'schd_min_lr': 5e-06, 'supported_atoms': {'C', 'P', 'O', 'Br', 'F', 'N', 'I', 'S', 'Cl'}}\n"
          ]
        },
        {
          "output_type": "stream",
          "name": "stderr",
          "text": [
            "100%|██████████| 30/30 [11:25<00:00, 22.83s/it]\n"
          ]
        },
        {
          "output_type": "display_data",
          "data": {
            "text/plain": [
              "<IPython.core.display.HTML object>"
            ],
            "text/html": [
              "Waiting for W&B process to finish... <strong style=\"color:green\">(success).</strong>"
            ]
          },
          "metadata": {}
        },
        {
          "output_type": "display_data",
          "data": {
            "text/plain": [
              "<IPython.core.display.HTML object>"
            ],
            "text/html": [
              "<style>\n",
              "    table.wandb td:nth-child(1) { padding: 0 10px; text-align: left ; width: auto;} td:nth-child(2) {text-align: left ; width: 100%}\n",
              "    .wandb-row { display: flex; flex-direction: row; flex-wrap: wrap; justify-content: flex-start; width: 100% }\n",
              "    .wandb-col { display: flex; flex-direction: column; flex-basis: 100%; flex: 1; padding: 10px; }\n",
              "    </style>\n",
              "<div class=\"wandb-row\"><div class=\"wandb-col\"><h3>Run history:</h3><br/><table class=\"wandb\"><tr><td>epoch</td><td>▁▁▁▂▂▂▂▃▃▃▃▄▄▄▄▅▅▅▅▆▆▆▆▇▇▇▇███</td></tr><tr><td>train_loss</td><td>█▄▃▃▃▂▂▂▂▂▂▂▂▁▁▁▁▁▁▁▁▁▁▁▁▁▁▁▁▁</td></tr><tr><td>val_loss</td><td>█▆▅▄▄▄▃▃▃▃▂▂▂▂▂▁▂▂▁▁▁▂▁▁▁▁▁▁▁▁</td></tr></table><br/></div><div class=\"wandb-col\"><h3>Run summary:</h3><br/><table class=\"wandb\"><tr><td>epoch</td><td>30</td></tr><tr><td>train_loss</td><td>0.02183</td></tr><tr><td>val_loss</td><td>0.02744</td></tr></table><br/></div></div>"
            ]
          },
          "metadata": {}
        },
        {
          "output_type": "display_data",
          "data": {
            "text/plain": [
              "<IPython.core.display.HTML object>"
            ],
            "text/html": [
              " View run <strong style=\"color:#cdcd00\">neat-sweep-5</strong> at: <a href='https://wandb.ai/rossi22/GCN_LOGP_SWEEP/runs/eaj3l6wk' target=\"_blank\">https://wandb.ai/rossi22/GCN_LOGP_SWEEP/runs/eaj3l6wk</a><br/>Synced 5 W&B file(s), 0 media file(s), 0 artifact file(s) and 0 other file(s)"
            ]
          },
          "metadata": {}
        },
        {
          "output_type": "display_data",
          "data": {
            "text/plain": [
              "<IPython.core.display.HTML object>"
            ],
            "text/html": [
              "Find logs at: <code>./wandb/run-20230809_130537-eaj3l6wk/logs</code>"
            ]
          },
          "metadata": {}
        },
        {
          "output_type": "stream",
          "name": "stdout",
          "text": [
            "======================================================================================================================================================\n"
          ]
        },
        {
          "output_type": "stream",
          "name": "stderr",
          "text": [
            "\u001b[34m\u001b[1mwandb\u001b[0m: Agent Starting Run: 2d73vr9g with config:\n",
            "\u001b[34m\u001b[1mwandb\u001b[0m: \tlearning_rate: 0.0013729522836720134\n"
          ]
        },
        {
          "output_type": "display_data",
          "data": {
            "text/plain": [
              "<IPython.core.display.HTML object>"
            ],
            "text/html": [
              "Tracking run with wandb version 0.15.8"
            ]
          },
          "metadata": {}
        },
        {
          "output_type": "display_data",
          "data": {
            "text/plain": [
              "<IPython.core.display.HTML object>"
            ],
            "text/html": [
              "Run data is saved locally in <code>/content/wandb/run-20230809_131724-2d73vr9g</code>"
            ]
          },
          "metadata": {}
        },
        {
          "output_type": "display_data",
          "data": {
            "text/plain": [
              "<IPython.core.display.HTML object>"
            ],
            "text/html": [
              "Syncing run <strong><a href='https://wandb.ai/rossi22/GCN_LOGP_SWEEP/runs/2d73vr9g' target=\"_blank\">breezy-sweep-6</a></strong> to <a href='https://wandb.ai/rossi22/GCN_LOGP_SWEEP' target=\"_blank\">Weights & Biases</a> (<a href='https://wandb.me/run' target=\"_blank\">docs</a>)<br/>Sweep page: <a href='https://wandb.ai/rossi22/GCN_LOGP_SWEEP/sweeps/4sqn4a0p' target=\"_blank\">https://wandb.ai/rossi22/GCN_LOGP_SWEEP/sweeps/4sqn4a0p</a>"
            ]
          },
          "metadata": {}
        },
        {
          "output_type": "display_data",
          "data": {
            "text/plain": [
              "<IPython.core.display.HTML object>"
            ],
            "text/html": [
              " View project at <a href='https://wandb.ai/rossi22/GCN_LOGP_SWEEP' target=\"_blank\">https://wandb.ai/rossi22/GCN_LOGP_SWEEP</a>"
            ]
          },
          "metadata": {}
        },
        {
          "output_type": "display_data",
          "data": {
            "text/plain": [
              "<IPython.core.display.HTML object>"
            ],
            "text/html": [
              " View sweep at <a href='https://wandb.ai/rossi22/GCN_LOGP_SWEEP/sweeps/4sqn4a0p' target=\"_blank\">https://wandb.ai/rossi22/GCN_LOGP_SWEEP/sweeps/4sqn4a0p</a>"
            ]
          },
          "metadata": {}
        },
        {
          "output_type": "display_data",
          "data": {
            "text/plain": [
              "<IPython.core.display.HTML object>"
            ],
            "text/html": [
              " View run at <a href='https://wandb.ai/rossi22/GCN_LOGP_SWEEP/runs/2d73vr9g' target=\"_blank\">https://wandb.ai/rossi22/GCN_LOGP_SWEEP/runs/2d73vr9g</a>"
            ]
          },
          "metadata": {}
        },
        {
          "output_type": "stream",
          "name": "stdout",
          "text": [
            "hparams : {'device': device(type='cuda', index=0), 'disable_rdkit_warnings': True, 'batch_size': 128, 'learning_rate': 0.0013729522836720134, 'epochs': 30, 'period': 1, 'n_block': 3, 'n_layer': 3, 'in_dim': 30, 'hidden_dim': 128, 'out_dim': 64, 'n_head': 2, 'use_bn': True, 'sc': 'gsc', 'gat_act': 'gelu', 'readout_act': 'gelu', 'gcnnet_act': 'gelu', 'use_scheduler': True, 'schd_factor': 0.5, 'schd_patience': 10, 'schd_min_lr': 5e-06, 'supported_atoms': {'C', 'P', 'O', 'Br', 'F', 'N', 'I', 'S', 'Cl'}}\n"
          ]
        },
        {
          "output_type": "stream",
          "name": "stderr",
          "text": [
            "100%|██████████| 30/30 [11:23<00:00, 22.80s/it]\n"
          ]
        },
        {
          "output_type": "display_data",
          "data": {
            "text/plain": [
              "<IPython.core.display.HTML object>"
            ],
            "text/html": [
              "Waiting for W&B process to finish... <strong style=\"color:green\">(success).</strong>"
            ]
          },
          "metadata": {}
        },
        {
          "output_type": "display_data",
          "data": {
            "text/plain": [
              "<IPython.core.display.HTML object>"
            ],
            "text/html": [
              "<style>\n",
              "    table.wandb td:nth-child(1) { padding: 0 10px; text-align: left ; width: auto;} td:nth-child(2) {text-align: left ; width: 100%}\n",
              "    .wandb-row { display: flex; flex-direction: row; flex-wrap: wrap; justify-content: flex-start; width: 100% }\n",
              "    .wandb-col { display: flex; flex-direction: column; flex-basis: 100%; flex: 1; padding: 10px; }\n",
              "    </style>\n",
              "<div class=\"wandb-row\"><div class=\"wandb-col\"><h3>Run history:</h3><br/><table class=\"wandb\"><tr><td>epoch</td><td>▁▁▁▂▂▂▂▃▃▃▃▄▄▄▄▅▅▅▅▆▆▆▆▇▇▇▇███</td></tr><tr><td>train_loss</td><td>█▄▃▃▃▂▂▂▂▂▂▂▂▁▁▁▁▁▁▁▁▁▁▁▁▁▁▁▁▁</td></tr><tr><td>val_loss</td><td>▅█▄▃▃▃▃▃▃▂▂▂▂▂▂▂▂▁▂▁▁▁▂▁▁▁▁▁▁▁</td></tr></table><br/></div><div class=\"wandb-col\"><h3>Run summary:</h3><br/><table class=\"wandb\"><tr><td>epoch</td><td>30</td></tr><tr><td>train_loss</td><td>0.01864</td></tr><tr><td>val_loss</td><td>0.02399</td></tr></table><br/></div></div>"
            ]
          },
          "metadata": {}
        },
        {
          "output_type": "display_data",
          "data": {
            "text/plain": [
              "<IPython.core.display.HTML object>"
            ],
            "text/html": [
              " View run <strong style=\"color:#cdcd00\">breezy-sweep-6</strong> at: <a href='https://wandb.ai/rossi22/GCN_LOGP_SWEEP/runs/2d73vr9g' target=\"_blank\">https://wandb.ai/rossi22/GCN_LOGP_SWEEP/runs/2d73vr9g</a><br/>Synced 5 W&B file(s), 0 media file(s), 0 artifact file(s) and 0 other file(s)"
            ]
          },
          "metadata": {}
        },
        {
          "output_type": "display_data",
          "data": {
            "text/plain": [
              "<IPython.core.display.HTML object>"
            ],
            "text/html": [
              "Find logs at: <code>./wandb/run-20230809_131724-2d73vr9g/logs</code>"
            ]
          },
          "metadata": {}
        },
        {
          "output_type": "stream",
          "name": "stdout",
          "text": [
            "======================================================================================================================================================\n"
          ]
        },
        {
          "output_type": "stream",
          "name": "stderr",
          "text": [
            "\u001b[34m\u001b[1mwandb\u001b[0m: Agent Starting Run: avd2iqca with config:\n",
            "\u001b[34m\u001b[1mwandb\u001b[0m: \tlearning_rate: 0.0019979794903671284\n"
          ]
        },
        {
          "output_type": "display_data",
          "data": {
            "text/plain": [
              "<IPython.core.display.HTML object>"
            ],
            "text/html": [
              "Tracking run with wandb version 0.15.8"
            ]
          },
          "metadata": {}
        },
        {
          "output_type": "display_data",
          "data": {
            "text/plain": [
              "<IPython.core.display.HTML object>"
            ],
            "text/html": [
              "Run data is saved locally in <code>/content/wandb/run-20230809_132909-avd2iqca</code>"
            ]
          },
          "metadata": {}
        },
        {
          "output_type": "display_data",
          "data": {
            "text/plain": [
              "<IPython.core.display.HTML object>"
            ],
            "text/html": [
              "Syncing run <strong><a href='https://wandb.ai/rossi22/GCN_LOGP_SWEEP/runs/avd2iqca' target=\"_blank\">grateful-sweep-7</a></strong> to <a href='https://wandb.ai/rossi22/GCN_LOGP_SWEEP' target=\"_blank\">Weights & Biases</a> (<a href='https://wandb.me/run' target=\"_blank\">docs</a>)<br/>Sweep page: <a href='https://wandb.ai/rossi22/GCN_LOGP_SWEEP/sweeps/4sqn4a0p' target=\"_blank\">https://wandb.ai/rossi22/GCN_LOGP_SWEEP/sweeps/4sqn4a0p</a>"
            ]
          },
          "metadata": {}
        },
        {
          "output_type": "display_data",
          "data": {
            "text/plain": [
              "<IPython.core.display.HTML object>"
            ],
            "text/html": [
              " View project at <a href='https://wandb.ai/rossi22/GCN_LOGP_SWEEP' target=\"_blank\">https://wandb.ai/rossi22/GCN_LOGP_SWEEP</a>"
            ]
          },
          "metadata": {}
        },
        {
          "output_type": "display_data",
          "data": {
            "text/plain": [
              "<IPython.core.display.HTML object>"
            ],
            "text/html": [
              " View sweep at <a href='https://wandb.ai/rossi22/GCN_LOGP_SWEEP/sweeps/4sqn4a0p' target=\"_blank\">https://wandb.ai/rossi22/GCN_LOGP_SWEEP/sweeps/4sqn4a0p</a>"
            ]
          },
          "metadata": {}
        },
        {
          "output_type": "display_data",
          "data": {
            "text/plain": [
              "<IPython.core.display.HTML object>"
            ],
            "text/html": [
              " View run at <a href='https://wandb.ai/rossi22/GCN_LOGP_SWEEP/runs/avd2iqca' target=\"_blank\">https://wandb.ai/rossi22/GCN_LOGP_SWEEP/runs/avd2iqca</a>"
            ]
          },
          "metadata": {}
        },
        {
          "output_type": "stream",
          "name": "stdout",
          "text": [
            "hparams : {'device': device(type='cuda', index=0), 'disable_rdkit_warnings': True, 'batch_size': 128, 'learning_rate': 0.0019979794903671284, 'epochs': 30, 'period': 1, 'n_block': 3, 'n_layer': 3, 'in_dim': 30, 'hidden_dim': 128, 'out_dim': 64, 'n_head': 2, 'use_bn': True, 'sc': 'gsc', 'gat_act': 'gelu', 'readout_act': 'gelu', 'gcnnet_act': 'gelu', 'use_scheduler': True, 'schd_factor': 0.5, 'schd_patience': 10, 'schd_min_lr': 5e-06, 'supported_atoms': {'C', 'P', 'O', 'Br', 'F', 'N', 'I', 'S', 'Cl'}}\n"
          ]
        },
        {
          "output_type": "stream",
          "name": "stderr",
          "text": [
            "100%|██████████| 30/30 [11:23<00:00, 22.79s/it]\n"
          ]
        },
        {
          "output_type": "display_data",
          "data": {
            "text/plain": [
              "<IPython.core.display.HTML object>"
            ],
            "text/html": [
              "Waiting for W&B process to finish... <strong style=\"color:green\">(success).</strong>"
            ]
          },
          "metadata": {}
        },
        {
          "output_type": "display_data",
          "data": {
            "text/plain": [
              "<IPython.core.display.HTML object>"
            ],
            "text/html": [
              "<style>\n",
              "    table.wandb td:nth-child(1) { padding: 0 10px; text-align: left ; width: auto;} td:nth-child(2) {text-align: left ; width: 100%}\n",
              "    .wandb-row { display: flex; flex-direction: row; flex-wrap: wrap; justify-content: flex-start; width: 100% }\n",
              "    .wandb-col { display: flex; flex-direction: column; flex-basis: 100%; flex: 1; padding: 10px; }\n",
              "    </style>\n",
              "<div class=\"wandb-row\"><div class=\"wandb-col\"><h3>Run history:</h3><br/><table class=\"wandb\"><tr><td>epoch</td><td>▁▁▁▂▂▂▂▃▃▃▃▄▄▄▄▅▅▅▅▆▆▆▆▇▇▇▇███</td></tr><tr><td>train_loss</td><td>█▄▄▃▃▃▂▂▂▂▂▂▂▁▁▁▁▁▁▁▁▁▁▁▁▁▁▁▁▁</td></tr><tr><td>val_loss</td><td>█▆▆▄▅▄▃▃▃▂▂▂▂▂▂▁▁▂▂▁▁▁▁▃▁▁▁▁▁▁</td></tr></table><br/></div><div class=\"wandb-col\"><h3>Run summary:</h3><br/><table class=\"wandb\"><tr><td>epoch</td><td>30</td></tr><tr><td>train_loss</td><td>0.02023</td></tr><tr><td>val_loss</td><td>0.02578</td></tr></table><br/></div></div>"
            ]
          },
          "metadata": {}
        },
        {
          "output_type": "display_data",
          "data": {
            "text/plain": [
              "<IPython.core.display.HTML object>"
            ],
            "text/html": [
              " View run <strong style=\"color:#cdcd00\">grateful-sweep-7</strong> at: <a href='https://wandb.ai/rossi22/GCN_LOGP_SWEEP/runs/avd2iqca' target=\"_blank\">https://wandb.ai/rossi22/GCN_LOGP_SWEEP/runs/avd2iqca</a><br/>Synced 5 W&B file(s), 0 media file(s), 0 artifact file(s) and 0 other file(s)"
            ]
          },
          "metadata": {}
        },
        {
          "output_type": "display_data",
          "data": {
            "text/plain": [
              "<IPython.core.display.HTML object>"
            ],
            "text/html": [
              "Find logs at: <code>./wandb/run-20230809_132909-avd2iqca/logs</code>"
            ]
          },
          "metadata": {}
        },
        {
          "output_type": "stream",
          "name": "stdout",
          "text": [
            "======================================================================================================================================================\n"
          ]
        },
        {
          "output_type": "stream",
          "name": "stderr",
          "text": [
            "\u001b[34m\u001b[1mwandb\u001b[0m: Agent Starting Run: 9xgco7ze with config:\n",
            "\u001b[34m\u001b[1mwandb\u001b[0m: \tlearning_rate: 0.0014684283180524322\n"
          ]
        },
        {
          "output_type": "display_data",
          "data": {
            "text/plain": [
              "<IPython.core.display.HTML object>"
            ],
            "text/html": [
              "Tracking run with wandb version 0.15.8"
            ]
          },
          "metadata": {}
        },
        {
          "output_type": "display_data",
          "data": {
            "text/plain": [
              "<IPython.core.display.HTML object>"
            ],
            "text/html": [
              "Run data is saved locally in <code>/content/wandb/run-20230809_134055-9xgco7ze</code>"
            ]
          },
          "metadata": {}
        },
        {
          "output_type": "display_data",
          "data": {
            "text/plain": [
              "<IPython.core.display.HTML object>"
            ],
            "text/html": [
              "Syncing run <strong><a href='https://wandb.ai/rossi22/GCN_LOGP_SWEEP/runs/9xgco7ze' target=\"_blank\">unique-sweep-8</a></strong> to <a href='https://wandb.ai/rossi22/GCN_LOGP_SWEEP' target=\"_blank\">Weights & Biases</a> (<a href='https://wandb.me/run' target=\"_blank\">docs</a>)<br/>Sweep page: <a href='https://wandb.ai/rossi22/GCN_LOGP_SWEEP/sweeps/4sqn4a0p' target=\"_blank\">https://wandb.ai/rossi22/GCN_LOGP_SWEEP/sweeps/4sqn4a0p</a>"
            ]
          },
          "metadata": {}
        },
        {
          "output_type": "display_data",
          "data": {
            "text/plain": [
              "<IPython.core.display.HTML object>"
            ],
            "text/html": [
              " View project at <a href='https://wandb.ai/rossi22/GCN_LOGP_SWEEP' target=\"_blank\">https://wandb.ai/rossi22/GCN_LOGP_SWEEP</a>"
            ]
          },
          "metadata": {}
        },
        {
          "output_type": "display_data",
          "data": {
            "text/plain": [
              "<IPython.core.display.HTML object>"
            ],
            "text/html": [
              " View sweep at <a href='https://wandb.ai/rossi22/GCN_LOGP_SWEEP/sweeps/4sqn4a0p' target=\"_blank\">https://wandb.ai/rossi22/GCN_LOGP_SWEEP/sweeps/4sqn4a0p</a>"
            ]
          },
          "metadata": {}
        },
        {
          "output_type": "display_data",
          "data": {
            "text/plain": [
              "<IPython.core.display.HTML object>"
            ],
            "text/html": [
              " View run at <a href='https://wandb.ai/rossi22/GCN_LOGP_SWEEP/runs/9xgco7ze' target=\"_blank\">https://wandb.ai/rossi22/GCN_LOGP_SWEEP/runs/9xgco7ze</a>"
            ]
          },
          "metadata": {}
        },
        {
          "output_type": "stream",
          "name": "stdout",
          "text": [
            "hparams : {'device': device(type='cuda', index=0), 'disable_rdkit_warnings': True, 'batch_size': 128, 'learning_rate': 0.0014684283180524322, 'epochs': 30, 'period': 1, 'n_block': 3, 'n_layer': 3, 'in_dim': 30, 'hidden_dim': 128, 'out_dim': 64, 'n_head': 2, 'use_bn': True, 'sc': 'gsc', 'gat_act': 'gelu', 'readout_act': 'gelu', 'gcnnet_act': 'gelu', 'use_scheduler': True, 'schd_factor': 0.5, 'schd_patience': 10, 'schd_min_lr': 5e-06, 'supported_atoms': {'C', 'P', 'O', 'Br', 'F', 'N', 'I', 'S', 'Cl'}}\n"
          ]
        },
        {
          "output_type": "stream",
          "name": "stderr",
          "text": [
            "100%|██████████| 30/30 [11:23<00:00, 22.78s/it]\n"
          ]
        },
        {
          "output_type": "display_data",
          "data": {
            "text/plain": [
              "<IPython.core.display.HTML object>"
            ],
            "text/html": [
              "Waiting for W&B process to finish... <strong style=\"color:green\">(success).</strong>"
            ]
          },
          "metadata": {}
        },
        {
          "output_type": "display_data",
          "data": {
            "text/plain": [
              "<IPython.core.display.HTML object>"
            ],
            "text/html": [
              "<style>\n",
              "    table.wandb td:nth-child(1) { padding: 0 10px; text-align: left ; width: auto;} td:nth-child(2) {text-align: left ; width: 100%}\n",
              "    .wandb-row { display: flex; flex-direction: row; flex-wrap: wrap; justify-content: flex-start; width: 100% }\n",
              "    .wandb-col { display: flex; flex-direction: column; flex-basis: 100%; flex: 1; padding: 10px; }\n",
              "    </style>\n",
              "<div class=\"wandb-row\"><div class=\"wandb-col\"><h3>Run history:</h3><br/><table class=\"wandb\"><tr><td>epoch</td><td>▁▁▁▂▂▂▂▃▃▃▃▄▄▄▄▅▅▅▅▆▆▆▆▇▇▇▇███</td></tr><tr><td>train_loss</td><td>█▄▃▃▃▂▂▂▂▂▂▂▂▁▁▁▁▁▁▁▁▁▁▁▁▁▁▁▁▁</td></tr><tr><td>val_loss</td><td>█▅▄▄▄▃▃▃▄▃▂▃▂▂▂▂▁▁▁▁▁▁▁▁▁▁▁▁▁▁</td></tr></table><br/></div><div class=\"wandb-col\"><h3>Run summary:</h3><br/><table class=\"wandb\"><tr><td>epoch</td><td>30</td></tr><tr><td>train_loss</td><td>0.01974</td></tr><tr><td>val_loss</td><td>0.02402</td></tr></table><br/></div></div>"
            ]
          },
          "metadata": {}
        },
        {
          "output_type": "display_data",
          "data": {
            "text/plain": [
              "<IPython.core.display.HTML object>"
            ],
            "text/html": [
              " View run <strong style=\"color:#cdcd00\">unique-sweep-8</strong> at: <a href='https://wandb.ai/rossi22/GCN_LOGP_SWEEP/runs/9xgco7ze' target=\"_blank\">https://wandb.ai/rossi22/GCN_LOGP_SWEEP/runs/9xgco7ze</a><br/>Synced 5 W&B file(s), 0 media file(s), 0 artifact file(s) and 0 other file(s)"
            ]
          },
          "metadata": {}
        },
        {
          "output_type": "display_data",
          "data": {
            "text/plain": [
              "<IPython.core.display.HTML object>"
            ],
            "text/html": [
              "Find logs at: <code>./wandb/run-20230809_134055-9xgco7ze/logs</code>"
            ]
          },
          "metadata": {}
        },
        {
          "output_type": "stream",
          "name": "stdout",
          "text": [
            "======================================================================================================================================================\n"
          ]
        },
        {
          "output_type": "stream",
          "name": "stderr",
          "text": [
            "\u001b[34m\u001b[1mwandb\u001b[0m: Sweep Agent: Waiting for job.\n",
            "\u001b[34m\u001b[1mwandb\u001b[0m: Job received.\n",
            "\u001b[34m\u001b[1mwandb\u001b[0m: Agent Starting Run: x6vchz2f with config:\n",
            "\u001b[34m\u001b[1mwandb\u001b[0m: \tlearning_rate: 0.0003259418456309796\n"
          ]
        },
        {
          "output_type": "display_data",
          "data": {
            "text/plain": [
              "<IPython.core.display.HTML object>"
            ],
            "text/html": [
              "Tracking run with wandb version 0.15.8"
            ]
          },
          "metadata": {}
        },
        {
          "output_type": "display_data",
          "data": {
            "text/plain": [
              "<IPython.core.display.HTML object>"
            ],
            "text/html": [
              "Run data is saved locally in <code>/content/wandb/run-20230809_135248-x6vchz2f</code>"
            ]
          },
          "metadata": {}
        },
        {
          "output_type": "display_data",
          "data": {
            "text/plain": [
              "<IPython.core.display.HTML object>"
            ],
            "text/html": [
              "Syncing run <strong><a href='https://wandb.ai/rossi22/GCN_LOGP_SWEEP/runs/x6vchz2f' target=\"_blank\">proud-sweep-9</a></strong> to <a href='https://wandb.ai/rossi22/GCN_LOGP_SWEEP' target=\"_blank\">Weights & Biases</a> (<a href='https://wandb.me/run' target=\"_blank\">docs</a>)<br/>Sweep page: <a href='https://wandb.ai/rossi22/GCN_LOGP_SWEEP/sweeps/4sqn4a0p' target=\"_blank\">https://wandb.ai/rossi22/GCN_LOGP_SWEEP/sweeps/4sqn4a0p</a>"
            ]
          },
          "metadata": {}
        },
        {
          "output_type": "display_data",
          "data": {
            "text/plain": [
              "<IPython.core.display.HTML object>"
            ],
            "text/html": [
              " View project at <a href='https://wandb.ai/rossi22/GCN_LOGP_SWEEP' target=\"_blank\">https://wandb.ai/rossi22/GCN_LOGP_SWEEP</a>"
            ]
          },
          "metadata": {}
        },
        {
          "output_type": "display_data",
          "data": {
            "text/plain": [
              "<IPython.core.display.HTML object>"
            ],
            "text/html": [
              " View sweep at <a href='https://wandb.ai/rossi22/GCN_LOGP_SWEEP/sweeps/4sqn4a0p' target=\"_blank\">https://wandb.ai/rossi22/GCN_LOGP_SWEEP/sweeps/4sqn4a0p</a>"
            ]
          },
          "metadata": {}
        },
        {
          "output_type": "display_data",
          "data": {
            "text/plain": [
              "<IPython.core.display.HTML object>"
            ],
            "text/html": [
              " View run at <a href='https://wandb.ai/rossi22/GCN_LOGP_SWEEP/runs/x6vchz2f' target=\"_blank\">https://wandb.ai/rossi22/GCN_LOGP_SWEEP/runs/x6vchz2f</a>"
            ]
          },
          "metadata": {}
        },
        {
          "output_type": "stream",
          "name": "stdout",
          "text": [
            "hparams : {'device': device(type='cuda', index=0), 'disable_rdkit_warnings': True, 'batch_size': 128, 'learning_rate': 0.0003259418456309796, 'epochs': 30, 'period': 1, 'n_block': 3, 'n_layer': 3, 'in_dim': 30, 'hidden_dim': 128, 'out_dim': 64, 'n_head': 2, 'use_bn': True, 'sc': 'gsc', 'gat_act': 'gelu', 'readout_act': 'gelu', 'gcnnet_act': 'gelu', 'use_scheduler': True, 'schd_factor': 0.5, 'schd_patience': 10, 'schd_min_lr': 5e-06, 'supported_atoms': {'C', 'P', 'O', 'Br', 'F', 'N', 'I', 'S', 'Cl'}}\n"
          ]
        },
        {
          "output_type": "stream",
          "name": "stderr",
          "text": [
            "100%|██████████| 30/30 [11:24<00:00, 22.81s/it]\n"
          ]
        },
        {
          "output_type": "display_data",
          "data": {
            "text/plain": [
              "<IPython.core.display.HTML object>"
            ],
            "text/html": [
              "Waiting for W&B process to finish... <strong style=\"color:green\">(success).</strong>"
            ]
          },
          "metadata": {}
        },
        {
          "output_type": "display_data",
          "data": {
            "text/plain": [
              "<IPython.core.display.HTML object>"
            ],
            "text/html": [
              "<style>\n",
              "    table.wandb td:nth-child(1) { padding: 0 10px; text-align: left ; width: auto;} td:nth-child(2) {text-align: left ; width: 100%}\n",
              "    .wandb-row { display: flex; flex-direction: row; flex-wrap: wrap; justify-content: flex-start; width: 100% }\n",
              "    .wandb-col { display: flex; flex-direction: column; flex-basis: 100%; flex: 1; padding: 10px; }\n",
              "    </style>\n",
              "<div class=\"wandb-row\"><div class=\"wandb-col\"><h3>Run history:</h3><br/><table class=\"wandb\"><tr><td>epoch</td><td>▁▁▁▂▂▂▂▃▃▃▃▄▄▄▄▅▅▅▅▆▆▆▆▇▇▇▇███</td></tr><tr><td>train_loss</td><td>█▃▂▂▂▂▂▂▂▁▁▁▁▁▁▁▁▁▁▁▁▁▁▁▁▁▁▁▁▁</td></tr><tr><td>val_loss</td><td>█▇▅▄▄▄▃▃▃▃▂▂▃▂▂▂▂▃▂▂▁▁▂▁▁▁▁▂▂▁</td></tr></table><br/></div><div class=\"wandb-col\"><h3>Run summary:</h3><br/><table class=\"wandb\"><tr><td>epoch</td><td>30</td></tr><tr><td>train_loss</td><td>0.0322</td></tr><tr><td>val_loss</td><td>0.03397</td></tr></table><br/></div></div>"
            ]
          },
          "metadata": {}
        },
        {
          "output_type": "display_data",
          "data": {
            "text/plain": [
              "<IPython.core.display.HTML object>"
            ],
            "text/html": [
              " View run <strong style=\"color:#cdcd00\">proud-sweep-9</strong> at: <a href='https://wandb.ai/rossi22/GCN_LOGP_SWEEP/runs/x6vchz2f' target=\"_blank\">https://wandb.ai/rossi22/GCN_LOGP_SWEEP/runs/x6vchz2f</a><br/>Synced 5 W&B file(s), 0 media file(s), 0 artifact file(s) and 0 other file(s)"
            ]
          },
          "metadata": {}
        },
        {
          "output_type": "display_data",
          "data": {
            "text/plain": [
              "<IPython.core.display.HTML object>"
            ],
            "text/html": [
              "Find logs at: <code>./wandb/run-20230809_135248-x6vchz2f/logs</code>"
            ]
          },
          "metadata": {}
        },
        {
          "output_type": "stream",
          "name": "stdout",
          "text": [
            "======================================================================================================================================================\n"
          ]
        },
        {
          "output_type": "stream",
          "name": "stderr",
          "text": [
            "\u001b[34m\u001b[1mwandb\u001b[0m: Agent Starting Run: r8s5a4zc with config:\n",
            "\u001b[34m\u001b[1mwandb\u001b[0m: \tlearning_rate: 0.0019103839131170744\n"
          ]
        },
        {
          "output_type": "display_data",
          "data": {
            "text/plain": [
              "<IPython.core.display.HTML object>"
            ],
            "text/html": [
              "Tracking run with wandb version 0.15.8"
            ]
          },
          "metadata": {}
        },
        {
          "output_type": "display_data",
          "data": {
            "text/plain": [
              "<IPython.core.display.HTML object>"
            ],
            "text/html": [
              "Run data is saved locally in <code>/content/wandb/run-20230809_140435-r8s5a4zc</code>"
            ]
          },
          "metadata": {}
        },
        {
          "output_type": "display_data",
          "data": {
            "text/plain": [
              "<IPython.core.display.HTML object>"
            ],
            "text/html": [
              "Syncing run <strong><a href='https://wandb.ai/rossi22/GCN_LOGP_SWEEP/runs/r8s5a4zc' target=\"_blank\">balmy-sweep-10</a></strong> to <a href='https://wandb.ai/rossi22/GCN_LOGP_SWEEP' target=\"_blank\">Weights & Biases</a> (<a href='https://wandb.me/run' target=\"_blank\">docs</a>)<br/>Sweep page: <a href='https://wandb.ai/rossi22/GCN_LOGP_SWEEP/sweeps/4sqn4a0p' target=\"_blank\">https://wandb.ai/rossi22/GCN_LOGP_SWEEP/sweeps/4sqn4a0p</a>"
            ]
          },
          "metadata": {}
        },
        {
          "output_type": "display_data",
          "data": {
            "text/plain": [
              "<IPython.core.display.HTML object>"
            ],
            "text/html": [
              " View project at <a href='https://wandb.ai/rossi22/GCN_LOGP_SWEEP' target=\"_blank\">https://wandb.ai/rossi22/GCN_LOGP_SWEEP</a>"
            ]
          },
          "metadata": {}
        },
        {
          "output_type": "display_data",
          "data": {
            "text/plain": [
              "<IPython.core.display.HTML object>"
            ],
            "text/html": [
              " View sweep at <a href='https://wandb.ai/rossi22/GCN_LOGP_SWEEP/sweeps/4sqn4a0p' target=\"_blank\">https://wandb.ai/rossi22/GCN_LOGP_SWEEP/sweeps/4sqn4a0p</a>"
            ]
          },
          "metadata": {}
        },
        {
          "output_type": "display_data",
          "data": {
            "text/plain": [
              "<IPython.core.display.HTML object>"
            ],
            "text/html": [
              " View run at <a href='https://wandb.ai/rossi22/GCN_LOGP_SWEEP/runs/r8s5a4zc' target=\"_blank\">https://wandb.ai/rossi22/GCN_LOGP_SWEEP/runs/r8s5a4zc</a>"
            ]
          },
          "metadata": {}
        },
        {
          "output_type": "stream",
          "name": "stdout",
          "text": [
            "hparams : {'device': device(type='cuda', index=0), 'disable_rdkit_warnings': True, 'batch_size': 128, 'learning_rate': 0.0019103839131170744, 'epochs': 30, 'period': 1, 'n_block': 3, 'n_layer': 3, 'in_dim': 30, 'hidden_dim': 128, 'out_dim': 64, 'n_head': 2, 'use_bn': True, 'sc': 'gsc', 'gat_act': 'gelu', 'readout_act': 'gelu', 'gcnnet_act': 'gelu', 'use_scheduler': True, 'schd_factor': 0.5, 'schd_patience': 10, 'schd_min_lr': 5e-06, 'supported_atoms': {'C', 'P', 'O', 'Br', 'F', 'N', 'I', 'S', 'Cl'}}\n"
          ]
        },
        {
          "output_type": "stream",
          "name": "stderr",
          "text": [
            "100%|██████████| 30/30 [11:25<00:00, 22.86s/it]\n"
          ]
        },
        {
          "output_type": "display_data",
          "data": {
            "text/plain": [
              "<IPython.core.display.HTML object>"
            ],
            "text/html": [
              "Waiting for W&B process to finish... <strong style=\"color:green\">(success).</strong>"
            ]
          },
          "metadata": {}
        },
        {
          "output_type": "display_data",
          "data": {
            "text/plain": [
              "<IPython.core.display.HTML object>"
            ],
            "text/html": [
              "<style>\n",
              "    table.wandb td:nth-child(1) { padding: 0 10px; text-align: left ; width: auto;} td:nth-child(2) {text-align: left ; width: 100%}\n",
              "    .wandb-row { display: flex; flex-direction: row; flex-wrap: wrap; justify-content: flex-start; width: 100% }\n",
              "    .wandb-col { display: flex; flex-direction: column; flex-basis: 100%; flex: 1; padding: 10px; }\n",
              "    </style>\n",
              "<div class=\"wandb-row\"><div class=\"wandb-col\"><h3>Run history:</h3><br/><table class=\"wandb\"><tr><td>epoch</td><td>▁▁▁▂▂▂▂▃▃▃▃▄▄▄▄▅▅▅▅▆▆▆▆▇▇▇▇███</td></tr><tr><td>train_loss</td><td>█▄▄▃▃▃▂▂▂▂▂▂▂▁▁▁▁▁▁▁▁▁▁▁▁▁▁▁▁▁</td></tr><tr><td>val_loss</td><td>█▆▅▄▄▄▃▃▃▂▂▂▂▃▂▂▁▂▁▂▁▂▂▁▁▁▁▁▁▁</td></tr></table><br/></div><div class=\"wandb-col\"><h3>Run summary:</h3><br/><table class=\"wandb\"><tr><td>epoch</td><td>30</td></tr><tr><td>train_loss</td><td>0.01861</td></tr><tr><td>val_loss</td><td>0.02049</td></tr></table><br/></div></div>"
            ]
          },
          "metadata": {}
        },
        {
          "output_type": "display_data",
          "data": {
            "text/plain": [
              "<IPython.core.display.HTML object>"
            ],
            "text/html": [
              " View run <strong style=\"color:#cdcd00\">balmy-sweep-10</strong> at: <a href='https://wandb.ai/rossi22/GCN_LOGP_SWEEP/runs/r8s5a4zc' target=\"_blank\">https://wandb.ai/rossi22/GCN_LOGP_SWEEP/runs/r8s5a4zc</a><br/>Synced 5 W&B file(s), 0 media file(s), 0 artifact file(s) and 0 other file(s)"
            ]
          },
          "metadata": {}
        },
        {
          "output_type": "display_data",
          "data": {
            "text/plain": [
              "<IPython.core.display.HTML object>"
            ],
            "text/html": [
              "Find logs at: <code>./wandb/run-20230809_140435-r8s5a4zc/logs</code>"
            ]
          },
          "metadata": {}
        },
        {
          "output_type": "stream",
          "name": "stdout",
          "text": [
            "======================================================================================================================================================\n",
            "\n",
            "best hyperparameters : {'device': device(type='cuda', index=0), 'disable_rdkit_warnings': True, 'batch_size': 128, 'learning_rate': 0.0019103839131170744, 'epochs': 30, 'period': 1, 'n_block': 3, 'n_layer': 3, 'in_dim': 30, 'hidden_dim': 128, 'out_dim': 64, 'n_head': 2, 'use_bn': True, 'sc': 'gsc', 'gat_act': 'gelu', 'readout_act': 'gelu', 'gcnnet_act': 'gelu', 'use_scheduler': True, 'schd_factor': 0.5, 'schd_patience': 10, 'schd_min_lr': 5e-06, 'supported_atoms': {'C', 'P', 'O', 'Br', 'F', 'N', 'I', 'S', 'Cl'}}\n",
            "\n",
            "------------------------------------------------------------------------------------------------------------------------------------------------------\n"
          ]
        },
        {
          "output_type": "error",
          "ename": "OSError",
          "evalue": "ignored",
          "traceback": [
            "\u001b[0;31m---------------------------------------------------------------------------\u001b[0m",
            "\u001b[0;31mOSError\u001b[0m                                   Traceback (most recent call last)",
            "\u001b[0;32m<ipython-input-17-5d38463ab652>\u001b[0m in \u001b[0;36m<cell line: 1>\u001b[0;34m()\u001b[0m\n\u001b[1;32m     10\u001b[0m         \u001b[0mOPT_HPARAMS\u001b[0m\u001b[0;34m[\u001b[0m\u001b[0;34m'epochs'\u001b[0m\u001b[0;34m]\u001b[0m \u001b[0;34m=\u001b[0m \u001b[0;36m20\u001b[0m\u001b[0;34m\u001b[0m\u001b[0;34m\u001b[0m\u001b[0m\n\u001b[1;32m     11\u001b[0m \u001b[0;34m\u001b[0m\u001b[0m\n\u001b[0;32m---> 12\u001b[0;31m     \u001b[0;32mwith\u001b[0m \u001b[0mopen\u001b[0m\u001b[0;34m(\u001b[0m\u001b[0msweep_setting_path\u001b[0m\u001b[0;34m,\u001b[0m \u001b[0;34m'r'\u001b[0m\u001b[0;34m)\u001b[0m \u001b[0;32mas\u001b[0m \u001b[0mf\u001b[0m \u001b[0;34m:\u001b[0m\u001b[0;34m\u001b[0m\u001b[0;34m\u001b[0m\u001b[0m\n\u001b[0m\u001b[1;32m     13\u001b[0m         \u001b[0msweep_setting\u001b[0m \u001b[0;34m=\u001b[0m \u001b[0myaml\u001b[0m\u001b[0;34m.\u001b[0m\u001b[0mload\u001b[0m\u001b[0;34m(\u001b[0m\u001b[0mf\u001b[0m\u001b[0;34m,\u001b[0m \u001b[0mLoader\u001b[0m\u001b[0;34m=\u001b[0m\u001b[0myaml\u001b[0m\u001b[0;34m.\u001b[0m\u001b[0mFullLoader\u001b[0m\u001b[0;34m)\u001b[0m\u001b[0;34m\u001b[0m\u001b[0;34m\u001b[0m\u001b[0m\n\u001b[1;32m     14\u001b[0m         \u001b[0mcurrent_sweep\u001b[0m \u001b[0;34m=\u001b[0m \u001b[0mSweepSetting\u001b[0m\u001b[0;34m(\u001b[0m\u001b[0msweep_setting\u001b[0m\u001b[0;34m,\u001b[0m \u001b[0msweep_setting_name\u001b[0m\u001b[0;34m.\u001b[0m\u001b[0msplit\u001b[0m\u001b[0;34m(\u001b[0m\u001b[0;34m'.'\u001b[0m\u001b[0;34m)\u001b[0m\u001b[0;34m[\u001b[0m\u001b[0;36m0\u001b[0m\u001b[0;34m]\u001b[0m\u001b[0;34m)\u001b[0m\u001b[0;34m\u001b[0m\u001b[0;34m\u001b[0m\u001b[0m\n",
            "\u001b[0;31mOSError\u001b[0m: [Errno 107] Transport endpoint is not connected"
          ]
        }
      ],
      "source": [
        "for idx, yf in enumerate(yaml_files, 1) :\n",
        "    print(f'\\n{\"=\"*70} Condition {idx} {\"=\"*70}\\n')\n",
        "    print('-'*150)\n",
        "    sweep_setting_name = yf\n",
        "    sweep_setting_path = os.path.join(dir_path, 'GCN_LOGP', sweep_setting_name)\n",
        "\n",
        "    if idx == len(yaml_files) :\n",
        "        OPT_PARAMS['epochs'] = 30\n",
        "    else :\n",
        "        OPT_PARAMS['epochs'] = 20\n",
        "\n",
        "    with open(sweep_setting_path, 'r') as f :\n",
        "        sweep_setting = yaml.load(f, Loader=yaml.FullLoader)\n",
        "        current_sweep = SweepSetting(sweep_setting, sweep_setting_name.split('.')[0])\n",
        "        current_sweep.start_agent()\n",
        "\n",
        "        OPT_PARAMS = current_sweep.get_best_params()\n",
        "        print(f'\\nbest hyperparameters : {OPT_PARAMS}\\n')\n",
        "        print('-'*150)\n",
        "\n",
        "        list_sweep.append(current_sweep)"
      ]
    },
    {
      "cell_type": "code",
      "source": [
        "api = wandb.Api()\n",
        "wb_result = []\n",
        "\n",
        "for i in range(len(list_sweep)) :\n",
        "    sweep_url = f'{ENTITY}/{SWEEP_PROJECT}/{list_sweep[i].sweep_id}'\n",
        "    temp = api.sweep(sweep_url)\n",
        "    wb_result.append(temp)"
      ],
      "metadata": {
        "id": "G68Jo6FxqXCK"
      },
      "execution_count": null,
      "outputs": []
    },
    {
      "cell_type": "code",
      "source": [
        "wb_result[0]"
      ],
      "metadata": {
        "colab": {
          "base_uri": "https://localhost:8080/",
          "height": 440
        },
        "id": "0eoMLHwxqfuY",
        "outputId": "729aecb9-c859-4c1a-e0b6-6cd4837de604"
      },
      "execution_count": null,
      "outputs": [
        {
          "output_type": "execute_result",
          "data": {
            "text/plain": [
              "<Sweep rossi22/GCN_LOGP_SWEEP/v5j1lhd9 (RUNNING)>"
            ],
            "text/html": [
              "<iframe src='https://wandb.ai/rossi22/GCN_LOGP_SWEEP/sweeps/v5j1lhd9?jupyter=true' style='border:none;width:100%;height:420px;'></iframe>"
            ]
          },
          "metadata": {},
          "execution_count": 28
        }
      ]
    },
    {
      "cell_type": "code",
      "execution_count": null,
      "metadata": {
        "colab": {
          "base_uri": "https://localhost:8080/",
          "height": 440
        },
        "id": "97_yipmAJH7H",
        "outputId": "9454bb39-7fed-472c-9ae2-934e13782ae2"
      },
      "outputs": [
        {
          "output_type": "execute_result",
          "data": {
            "text/plain": [
              "<Sweep rossi22/GCN_LOGP_SWEEP/grmhllxe (RUNNING)>"
            ],
            "text/html": [
              "<iframe src='https://wandb.ai/rossi22/GCN_LOGP_SWEEP/sweeps/grmhllxe?jupyter=true' style='border:none;width:100%;height:420px;'></iframe>"
            ]
          },
          "metadata": {},
          "execution_count": 29
        }
      ],
      "source": [
        "wb_result[1]"
      ]
    },
    {
      "cell_type": "code",
      "execution_count": null,
      "metadata": {
        "colab": {
          "base_uri": "https://localhost:8080/",
          "height": 440
        },
        "id": "sgZmVyjXJKSQ",
        "outputId": "50b9480e-6f6d-4542-81bd-c930646fedb4"
      },
      "outputs": [
        {
          "output_type": "execute_result",
          "data": {
            "text/plain": [
              "<Sweep rossi22/GCN_LOGP_SWEEP/76kd77r9 (RUNNING)>"
            ],
            "text/html": [
              "<iframe src='https://wandb.ai/rossi22/GCN_LOGP_SWEEP/sweeps/76kd77r9?jupyter=true' style='border:none;width:100%;height:420px;'></iframe>"
            ]
          },
          "metadata": {},
          "execution_count": 30
        }
      ],
      "source": [
        "wb_result[2]"
      ]
    },
    {
      "cell_type": "code",
      "execution_count": null,
      "metadata": {
        "colab": {
          "base_uri": "https://localhost:8080/",
          "height": 440
        },
        "id": "VEh8IPgDLnlX",
        "outputId": "00b5ddb3-4475-4b0f-f157-62d1fdb982a5"
      },
      "outputs": [
        {
          "output_type": "execute_result",
          "data": {
            "text/plain": [
              "<Sweep rossi22/GCN_LOGP_SWEEP/4sqn4a0p (RUNNING)>"
            ],
            "text/html": [
              "<iframe src='https://wandb.ai/rossi22/GCN_LOGP_SWEEP/sweeps/4sqn4a0p?jupyter=true' style='border:none;width:100%;height:420px;'></iframe>"
            ]
          },
          "metadata": {},
          "execution_count": 31
        }
      ],
      "source": [
        "wb_result[3]"
      ]
    },
    {
      "cell_type": "code",
      "execution_count": null,
      "metadata": {
        "id": "cKfZLPGllErM"
      },
      "outputs": [],
      "source": [
        "params_file_name = 'best_params.pt'\n",
        "sweep_save_path = os.path.join(dir_path, params_file_name)\n",
        "torch.save(OPT_PARAMS, sweep_save_path)"
      ]
    },
    {
      "cell_type": "markdown",
      "source": [
        "# Train & Test"
      ],
      "metadata": {
        "id": "4IwZPslhw-em"
      }
    },
    {
      "cell_type": "code",
      "source": [
        "dir_path = '/content/drive/MyDrive/Colab Notebooks/jsons/'\n",
        "login_file_name = 'wandb.json'\n",
        "login_file_path = os.path.join(dir_path, login_file_name)\n",
        "\n",
        "with open(login_file_path, 'r') as f :\n",
        "    json_wandb = json.load(f)\n",
        "\n",
        "wandb.login(key=json_wandb['key'])\n",
        "time.sleep(5)"
      ],
      "metadata": {
        "colab": {
          "base_uri": "https://localhost:8080/"
        },
        "id": "8aeJgbKYxs38",
        "outputId": "387b8585-c5fd-4d22-ae49-440af4be7121"
      },
      "execution_count": null,
      "outputs": [
        {
          "output_type": "stream",
          "name": "stderr",
          "text": [
            "\u001b[34m\u001b[1mwandb\u001b[0m: W&B API key is configured. Use \u001b[1m`wandb login --relogin`\u001b[0m to force relogin\n",
            "\u001b[34m\u001b[1mwandb\u001b[0m: \u001b[33mWARNING\u001b[0m If you're specifying your api key in code, ensure this code is not shared publicly.\n",
            "\u001b[34m\u001b[1mwandb\u001b[0m: \u001b[33mWARNING\u001b[0m Consider setting the WANDB_API_KEY environment variable, or running `wandb login` from the command line.\n",
            "\u001b[34m\u001b[1mwandb\u001b[0m: Appending key for api.wandb.ai to your netrc file: /root/.netrc\n"
          ]
        }
      ]
    },
    {
      "cell_type": "code",
      "source": [
        "params_file_name = 'best_params.pt'\n",
        "sweep_save_path = os.path.join(dir_path, params_file_name)\n",
        "OPT_PARAMS = torch.load(sweep_save_path)\n",
        "OPT_PARAMS"
      ],
      "metadata": {
        "colab": {
          "base_uri": "https://localhost:8080/"
        },
        "id": "N2587U95vumb",
        "outputId": "9c53561b-ef6f-42e9-fb47-6c61ca544b68"
      },
      "execution_count": null,
      "outputs": [
        {
          "output_type": "execute_result",
          "data": {
            "text/plain": [
              "{'device': device(type='cuda', index=0),\n",
              " 'disable_rdkit_warnings': True,\n",
              " 'batch_size': 128,\n",
              " 'learning_rate': 0.0019103839131170744,\n",
              " 'epochs': 30,\n",
              " 'period': 1,\n",
              " 'n_block': 3,\n",
              " 'n_layer': 3,\n",
              " 'in_dim': 30,\n",
              " 'hidden_dim': 128,\n",
              " 'out_dim': 64,\n",
              " 'n_head': 2,\n",
              " 'use_bn': True,\n",
              " 'sc': 'gsc',\n",
              " 'gat_act': 'gelu',\n",
              " 'readout_act': 'gelu',\n",
              " 'gcnnet_act': 'gelu',\n",
              " 'use_scheduler': True,\n",
              " 'schd_factor': 0.5,\n",
              " 'schd_patience': 10,\n",
              " 'schd_min_lr': 5e-06,\n",
              " 'supported_atoms': {'Br', 'C', 'Cl', 'F', 'I', 'N', 'O', 'P', 'S'}}"
            ]
          },
          "metadata": {},
          "execution_count": 17
        }
      ]
    },
    {
      "cell_type": "code",
      "execution_count": null,
      "metadata": {
        "colab": {
          "base_uri": "https://localhost:8080/"
        },
        "id": "75fPK-rJLZSm",
        "outputId": "5a74968f-2c0f-490c-9ce6-0f3dc647db28"
      },
      "outputs": [
        {
          "output_type": "execute_result",
          "data": {
            "text/plain": [
              "{'device': device(type='cuda', index=0),\n",
              " 'disable_rdkit_warnings': True,\n",
              " 'batch_size': 128,\n",
              " 'learning_rate': 0.0019103839131170744,\n",
              " 'epochs': 500,\n",
              " 'period': 5,\n",
              " 'n_block': 3,\n",
              " 'n_layer': 3,\n",
              " 'in_dim': 30,\n",
              " 'hidden_dim': 128,\n",
              " 'out_dim': 64,\n",
              " 'n_head': 2,\n",
              " 'use_bn': True,\n",
              " 'sc': 'gsc',\n",
              " 'gat_act': 'gelu',\n",
              " 'readout_act': 'gelu',\n",
              " 'gcnnet_act': 'gelu',\n",
              " 'use_scheduler': True,\n",
              " 'schd_factor': 0.5,\n",
              " 'schd_patience': 20,\n",
              " 'schd_min_lr': 5e-06,\n",
              " 'supported_atoms': {'Br', 'C', 'Cl', 'F', 'I', 'N', 'O', 'P', 'S'}}"
            ]
          },
          "metadata": {},
          "execution_count": 18
        }
      ],
      "source": [
        "params = copy.copy(OPT_PARAMS)\n",
        "params['epochs'] = 500\n",
        "params['period'] = 5\n",
        "params['schd_patience'] = 20\n",
        "params"
      ]
    },
    {
      "cell_type": "code",
      "execution_count": null,
      "metadata": {
        "id": "9pNoGjJr7d24"
      },
      "outputs": [],
      "source": [
        "model = GCNNet(params).to(params['device'])\n",
        "\n",
        "optimizer = torch.optim.Adam(model.parameters(), lr=params['learning_rate'])\n",
        "criterion = torch.nn.MSELoss()\n",
        "scheduler = ReduceLROnPlateau(optimizer, factor=params['schd_factor'], patience=params['schd_patience'], min_lr=params['schd_min_lr'])"
      ]
    },
    {
      "cell_type": "code",
      "execution_count": null,
      "metadata": {
        "id": "gmkDMowPRN8B"
      },
      "outputs": [],
      "source": [
        "train_loader = DataLoader(TRAIN_SET, batch_size=params['batch_size'], shuffle=True, drop_last = True)\n",
        "val_loader = DataLoader(VAL_SET, batch_size=params['batch_size'], shuffle=False, drop_last = True)\n",
        "test_loader = DataLoader(TEST_SET, batch_size=len(TEST_SET), shuffle=False, drop_last = True)"
      ]
    },
    {
      "cell_type": "code",
      "execution_count": null,
      "metadata": {
        "colab": {
          "base_uri": "https://localhost:8080/"
        },
        "id": "-lWoFa67E_BK",
        "outputId": "c3bf8631-9dbf-4eb5-b2f6-120d2d5c406b"
      },
      "outputs": [
        {
          "output_type": "stream",
          "name": "stdout",
          "text": [
            "+------------------------------------------+------------+\n",
            "|                 Modules                  | Parameters |\n",
            "+------------------------------------------+------------+\n",
            "|    gat_blocks.0.gat_layers.0.att_src     |    128     |\n",
            "|    gat_blocks.0.gat_layers.0.att_dst     |    128     |\n",
            "|      gat_blocks.0.gat_layers.0.bias      |    128     |\n",
            "| gat_blocks.0.gat_layers.0.lin_src.weight |    3840    |\n",
            "|    gat_blocks.0.gat_layers.1.att_src     |    128     |\n",
            "|    gat_blocks.0.gat_layers.1.att_dst     |    128     |\n",
            "|      gat_blocks.0.gat_layers.1.bias      |    128     |\n",
            "| gat_blocks.0.gat_layers.1.lin_src.weight |   16384    |\n",
            "|    gat_blocks.0.gat_layers.2.att_src     |    128     |\n",
            "|    gat_blocks.0.gat_layers.2.att_dst     |    128     |\n",
            "|      gat_blocks.0.gat_layers.2.bias      |    128     |\n",
            "| gat_blocks.0.gat_layers.2.lin_src.weight |   16384    |\n",
            "|     gat_blocks.0.bn_layers.0.weight      |    128     |\n",
            "|      gat_blocks.0.bn_layers.0.bias       |    128     |\n",
            "|     gat_blocks.0.bn_layers.1.weight      |    128     |\n",
            "|      gat_blocks.0.bn_layers.1.bias       |    128     |\n",
            "|     gat_blocks.0.bn_layers.2.weight      |    128     |\n",
            "|      gat_blocks.0.bn_layers.2.bias       |    128     |\n",
            "|    gat_blocks.1.gat_layers.0.att_src     |    128     |\n",
            "|    gat_blocks.1.gat_layers.0.att_dst     |    128     |\n",
            "|      gat_blocks.1.gat_layers.0.bias      |    128     |\n",
            "| gat_blocks.1.gat_layers.0.lin_src.weight |   16384    |\n",
            "|    gat_blocks.1.gat_layers.1.att_src     |    128     |\n",
            "|    gat_blocks.1.gat_layers.1.att_dst     |    128     |\n",
            "|      gat_blocks.1.gat_layers.1.bias      |    128     |\n",
            "| gat_blocks.1.gat_layers.1.lin_src.weight |   16384    |\n",
            "|    gat_blocks.1.gat_layers.2.att_src     |    128     |\n",
            "|    gat_blocks.1.gat_layers.2.att_dst     |    128     |\n",
            "|      gat_blocks.1.gat_layers.2.bias      |    128     |\n",
            "| gat_blocks.1.gat_layers.2.lin_src.weight |   16384    |\n",
            "|     gat_blocks.1.bn_layers.0.weight      |    128     |\n",
            "|      gat_blocks.1.bn_layers.0.bias       |    128     |\n",
            "|     gat_blocks.1.bn_layers.1.weight      |    128     |\n",
            "|      gat_blocks.1.bn_layers.1.bias       |    128     |\n",
            "|     gat_blocks.1.bn_layers.2.weight      |    128     |\n",
            "|      gat_blocks.1.bn_layers.2.bias       |    128     |\n",
            "|    gat_blocks.2.gat_layers.0.att_src     |    128     |\n",
            "|    gat_blocks.2.gat_layers.0.att_dst     |    128     |\n",
            "|      gat_blocks.2.gat_layers.0.bias      |    128     |\n",
            "| gat_blocks.2.gat_layers.0.lin_src.weight |   16384    |\n",
            "|    gat_blocks.2.gat_layers.1.att_src     |    128     |\n",
            "|    gat_blocks.2.gat_layers.1.att_dst     |    128     |\n",
            "|      gat_blocks.2.gat_layers.1.bias      |    128     |\n",
            "| gat_blocks.2.gat_layers.1.lin_src.weight |   16384    |\n",
            "|    gat_blocks.2.gat_layers.2.att_src     |    128     |\n",
            "|    gat_blocks.2.gat_layers.2.att_dst     |    128     |\n",
            "|      gat_blocks.2.gat_layers.2.bias      |    128     |\n",
            "| gat_blocks.2.gat_layers.2.lin_src.weight |   16384    |\n",
            "|     gat_blocks.2.bn_layers.0.weight      |    128     |\n",
            "|      gat_blocks.2.bn_layers.0.bias       |    128     |\n",
            "|     gat_blocks.2.bn_layers.1.weight      |    128     |\n",
            "|      gat_blocks.2.bn_layers.1.bias       |    128     |\n",
            "|     gat_blocks.2.bn_layers.2.weight      |    128     |\n",
            "|      gat_blocks.2.bn_layers.2.bias       |    128     |\n",
            "|        gsc_blocks.0.linear.weight        |    3840    |\n",
            "|    gsc_blocks.0.linear_coef_in.weight    |   16384    |\n",
            "|     gsc_blocks.0.linear_coef_in.bias     |    128     |\n",
            "|   gsc_blocks.0.linear_coef_out.weight    |   16384    |\n",
            "|    gsc_blocks.0.linear_coef_out.bias     |    128     |\n",
            "|        gsc_blocks.1.linear.weight        |   16384    |\n",
            "|    gsc_blocks.1.linear_coef_in.weight    |   16384    |\n",
            "|     gsc_blocks.1.linear_coef_in.bias     |    128     |\n",
            "|   gsc_blocks.1.linear_coef_out.weight    |   16384    |\n",
            "|    gsc_blocks.1.linear_coef_out.bias     |    128     |\n",
            "|        gsc_blocks.2.linear.weight        |   16384    |\n",
            "|    gsc_blocks.2.linear_coef_in.weight    |   16384    |\n",
            "|     gsc_blocks.2.linear_coef_in.bias     |    128     |\n",
            "|   gsc_blocks.2.linear_coef_out.weight    |   16384    |\n",
            "|    gsc_blocks.2.linear_coef_out.bias     |    128     |\n",
            "|          readout.linear.weight           |    8192    |\n",
            "|           readout.linear.bias            |     64     |\n",
            "|          readout.readout.weight          |     64     |\n",
            "|           readout.readout.bias           |     1      |\n",
            "+------------------------------------------+------------+\n",
            "Total Trainable Params : 284673\n"
          ]
        },
        {
          "output_type": "execute_result",
          "data": {
            "text/plain": [
              "284673"
            ]
          },
          "metadata": {},
          "execution_count": 65
        }
      ],
      "source": [
        "trial = Trial(model=model, loss_fn=criterion, optimizer=optimizer, params=params, use_wb=True, scheduler=scheduler)\n",
        "trial.count_parameters()"
      ]
    },
    {
      "cell_type": "code",
      "execution_count": null,
      "metadata": {
        "colab": {
          "base_uri": "https://localhost:8080/",
          "height": 1000
        },
        "id": "ogcpvj5dkRBF",
        "outputId": "d7a81301-039d-4119-a8fc-95e9d8c9d87c"
      },
      "outputs": [
        {
          "output_type": "stream",
          "name": "stderr",
          "text": [
            "\u001b[34m\u001b[1mwandb\u001b[0m: Currently logged in as: \u001b[33mrossi22\u001b[0m. Use \u001b[1m`wandb login --relogin`\u001b[0m to force relogin\n"
          ]
        },
        {
          "output_type": "display_data",
          "data": {
            "text/plain": [
              "<IPython.core.display.HTML object>"
            ],
            "text/html": [
              "Tracking run with wandb version 0.15.8"
            ]
          },
          "metadata": {}
        },
        {
          "output_type": "display_data",
          "data": {
            "text/plain": [
              "<IPython.core.display.HTML object>"
            ],
            "text/html": [
              "Run data is saved locally in <code>/content/wandb/run-20230809_182441-dbxms62k</code>"
            ]
          },
          "metadata": {}
        },
        {
          "output_type": "display_data",
          "data": {
            "text/plain": [
              "<IPython.core.display.HTML object>"
            ],
            "text/html": [
              "Syncing run <strong><a href='https://wandb.ai/rossi22/GCN_LOGP_TRAIN/runs/dbxms62k' target=\"_blank\">trial_1</a></strong> to <a href='https://wandb.ai/rossi22/GCN_LOGP_TRAIN' target=\"_blank\">Weights & Biases</a> (<a href='https://wandb.me/run' target=\"_blank\">docs</a>)<br/>"
            ]
          },
          "metadata": {}
        },
        {
          "output_type": "display_data",
          "data": {
            "text/plain": [
              "<IPython.core.display.HTML object>"
            ],
            "text/html": [
              " View project at <a href='https://wandb.ai/rossi22/GCN_LOGP_TRAIN' target=\"_blank\">https://wandb.ai/rossi22/GCN_LOGP_TRAIN</a>"
            ]
          },
          "metadata": {}
        },
        {
          "output_type": "display_data",
          "data": {
            "text/plain": [
              "<IPython.core.display.HTML object>"
            ],
            "text/html": [
              " View run at <a href='https://wandb.ai/rossi22/GCN_LOGP_TRAIN/runs/dbxms62k' target=\"_blank\">https://wandb.ai/rossi22/GCN_LOGP_TRAIN/runs/dbxms62k</a>"
            ]
          },
          "metadata": {}
        },
        {
          "output_type": "stream",
          "name": "stderr",
          "text": [
            "  0%|          | 1/500 [00:27<3:48:51, 27.52s/it]"
          ]
        },
        {
          "output_type": "stream",
          "name": "stdout",
          "text": [
            "       epoch 1    /  500    [train_loss : 0.38976]  [val_loss : 0.21193]    [lr : 0.00191038]\n"
          ]
        },
        {
          "output_type": "stream",
          "name": "stderr",
          "text": [
            "  1%|          | 5/500 [01:59<3:12:34, 23.34s/it]"
          ]
        },
        {
          "output_type": "stream",
          "name": "stdout",
          "text": [
            "       epoch 5    /  500    [train_loss : 0.11487]  [val_loss : 0.10773]    [lr : 0.00191038]\n"
          ]
        },
        {
          "output_type": "stream",
          "name": "stderr",
          "text": [
            "  2%|▏         | 10/500 [03:54<3:07:17, 22.93s/it]"
          ]
        },
        {
          "output_type": "stream",
          "name": "stdout",
          "text": [
            "       epoch 10   /  500    [train_loss : 0.06474]  [val_loss : 0.06602]    [lr : 0.00191038]\n"
          ]
        },
        {
          "output_type": "stream",
          "name": "stderr",
          "text": [
            "  3%|▎         | 15/500 [05:50<3:06:34, 23.08s/it]"
          ]
        },
        {
          "output_type": "stream",
          "name": "stdout",
          "text": [
            "       epoch 15   /  500    [train_loss : 0.04350]  [val_loss : 0.04949]    [lr : 0.00191038]\n"
          ]
        },
        {
          "output_type": "stream",
          "name": "stderr",
          "text": [
            "  4%|▍         | 20/500 [07:46<3:06:14, 23.28s/it]"
          ]
        },
        {
          "output_type": "stream",
          "name": "stdout",
          "text": [
            "       epoch 20   /  500    [train_loss : 0.03239]  [val_loss : 0.03834]    [lr : 0.00191038]\n"
          ]
        },
        {
          "output_type": "stream",
          "name": "stderr",
          "text": [
            "  5%|▌         | 25/500 [09:41<3:02:12, 23.02s/it]"
          ]
        },
        {
          "output_type": "stream",
          "name": "stdout",
          "text": [
            "       epoch 25   /  500    [train_loss : 0.02597]  [val_loss : 0.02930]    [lr : 0.00191038]\n"
          ]
        },
        {
          "output_type": "stream",
          "name": "stderr",
          "text": [
            "  6%|▌         | 30/500 [11:36<3:00:12, 23.01s/it]"
          ]
        },
        {
          "output_type": "stream",
          "name": "stdout",
          "text": [
            "       epoch 30   /  500    [train_loss : 0.02202]  [val_loss : 0.02752]    [lr : 0.00191038]\n"
          ]
        },
        {
          "output_type": "stream",
          "name": "stderr",
          "text": [
            "  7%|▋         | 35/500 [13:30<2:56:16, 22.74s/it]"
          ]
        },
        {
          "output_type": "stream",
          "name": "stdout",
          "text": [
            "       epoch 35   /  500    [train_loss : 0.01849]  [val_loss : 0.02532]    [lr : 0.00191038]\n"
          ]
        },
        {
          "output_type": "stream",
          "name": "stderr",
          "text": [
            "  8%|▊         | 40/500 [15:19<2:48:29, 21.98s/it]"
          ]
        },
        {
          "output_type": "stream",
          "name": "stdout",
          "text": [
            "       epoch 40   /  500    [train_loss : 0.01624]  [val_loss : 0.01961]    [lr : 0.00191038]\n"
          ]
        },
        {
          "output_type": "stream",
          "name": "stderr",
          "text": [
            "  9%|▉         | 45/500 [17:06<2:42:42, 21.46s/it]"
          ]
        },
        {
          "output_type": "stream",
          "name": "stdout",
          "text": [
            "       epoch 45   /  500    [train_loss : 0.01465]  [val_loss : 0.02054]    [lr : 0.00191038]\n"
          ]
        },
        {
          "output_type": "stream",
          "name": "stderr",
          "text": [
            " 10%|█         | 50/500 [18:53<2:40:44, 21.43s/it]"
          ]
        },
        {
          "output_type": "stream",
          "name": "stdout",
          "text": [
            "       epoch 50   /  500    [train_loss : 0.01321]  [val_loss : 0.02279]    [lr : 0.00191038]\n"
          ]
        },
        {
          "output_type": "stream",
          "name": "stderr",
          "text": [
            " 11%|█         | 55/500 [20:39<2:38:07, 21.32s/it]"
          ]
        },
        {
          "output_type": "stream",
          "name": "stdout",
          "text": [
            "       epoch 55   /  500    [train_loss : 0.01129]  [val_loss : 0.01659]    [lr : 0.00191038]\n"
          ]
        },
        {
          "output_type": "stream",
          "name": "stderr",
          "text": [
            " 12%|█▏        | 60/500 [22:28<2:41:24, 22.01s/it]"
          ]
        },
        {
          "output_type": "stream",
          "name": "stdout",
          "text": [
            "       epoch 60   /  500    [train_loss : 0.01170]  [val_loss : 0.02088]    [lr : 0.00191038]\n"
          ]
        },
        {
          "output_type": "stream",
          "name": "stderr",
          "text": [
            " 13%|█▎        | 65/500 [24:20<2:41:44, 22.31s/it]"
          ]
        },
        {
          "output_type": "stream",
          "name": "stdout",
          "text": [
            "       epoch 65   /  500    [train_loss : 0.01204]  [val_loss : 0.01834]    [lr : 0.00191038]\n"
          ]
        },
        {
          "output_type": "stream",
          "name": "stderr",
          "text": [
            " 14%|█▍        | 70/500 [26:14<2:44:13, 22.92s/it]"
          ]
        },
        {
          "output_type": "stream",
          "name": "stdout",
          "text": [
            "       epoch 70   /  500    [train_loss : 0.00806]  [val_loss : 0.01726]    [lr : 0.00191038]\n"
          ]
        },
        {
          "output_type": "stream",
          "name": "stderr",
          "text": [
            " 15%|█▌        | 75/500 [28:02<2:33:13, 21.63s/it]"
          ]
        },
        {
          "output_type": "stream",
          "name": "stdout",
          "text": [
            "       epoch 75   /  500    [train_loss : 0.00781]  [val_loss : 0.01644]    [lr : 0.00191038]\n"
          ]
        },
        {
          "output_type": "stream",
          "name": "stderr",
          "text": [
            " 16%|█▌        | 80/500 [29:49<2:31:03, 21.58s/it]"
          ]
        },
        {
          "output_type": "stream",
          "name": "stdout",
          "text": [
            "       epoch 80   /  500    [train_loss : 0.01111]  [val_loss : 0.01458]    [lr : 0.00191038]\n"
          ]
        },
        {
          "output_type": "stream",
          "name": "stderr",
          "text": [
            " 17%|█▋        | 85/500 [31:35<2:26:54, 21.24s/it]"
          ]
        },
        {
          "output_type": "stream",
          "name": "stdout",
          "text": [
            "       epoch 85   /  500    [train_loss : 0.00942]  [val_loss : 0.01525]    [lr : 0.00191038]\n"
          ]
        },
        {
          "output_type": "stream",
          "name": "stderr",
          "text": [
            " 18%|█▊        | 90/500 [33:22<2:27:16, 21.55s/it]"
          ]
        },
        {
          "output_type": "stream",
          "name": "stdout",
          "text": [
            "       epoch 90   /  500    [train_loss : 0.00635]  [val_loss : 0.01327]    [lr : 0.00191038]\n"
          ]
        },
        {
          "output_type": "stream",
          "name": "stderr",
          "text": [
            " 19%|█▉        | 95/500 [35:08<2:23:06, 21.20s/it]"
          ]
        },
        {
          "output_type": "stream",
          "name": "stdout",
          "text": [
            "       epoch 95   /  500    [train_loss : 0.00645]  [val_loss : 0.01311]    [lr : 0.00191038]\n"
          ]
        },
        {
          "output_type": "stream",
          "name": "stderr",
          "text": [
            " 20%|██        | 100/500 [36:55<2:22:32, 21.38s/it]"
          ]
        },
        {
          "output_type": "stream",
          "name": "stdout",
          "text": [
            "       epoch 100  /  500    [train_loss : 0.00670]  [val_loss : 0.01545]    [lr : 0.00191038]\n"
          ]
        },
        {
          "output_type": "stream",
          "name": "stderr",
          "text": [
            " 21%|██        | 105/500 [38:40<2:19:42, 21.22s/it]"
          ]
        },
        {
          "output_type": "stream",
          "name": "stdout",
          "text": [
            "       epoch 105  /  500    [train_loss : 0.00512]  [val_loss : 0.01241]    [lr : 0.00191038]\n"
          ]
        },
        {
          "output_type": "stream",
          "name": "stderr",
          "text": [
            " 22%|██▏       | 110/500 [40:27<2:19:38, 21.48s/it]"
          ]
        },
        {
          "output_type": "stream",
          "name": "stdout",
          "text": [
            "       epoch 110  /  500    [train_loss : 0.00539]  [val_loss : 0.01234]    [lr : 0.00191038]\n"
          ]
        },
        {
          "output_type": "stream",
          "name": "stderr",
          "text": [
            " 23%|██▎       | 115/500 [42:14<2:16:25, 21.26s/it]"
          ]
        },
        {
          "output_type": "stream",
          "name": "stdout",
          "text": [
            "       epoch 115  /  500    [train_loss : 0.00564]  [val_loss : 0.02186]    [lr : 0.00191038]\n"
          ]
        },
        {
          "output_type": "stream",
          "name": "stderr",
          "text": [
            " 24%|██▍       | 120/500 [44:00<2:15:58, 21.47s/it]"
          ]
        },
        {
          "output_type": "stream",
          "name": "stdout",
          "text": [
            "       epoch 120  /  500    [train_loss : 0.00547]  [val_loss : 0.01320]    [lr : 0.00191038]\n"
          ]
        },
        {
          "output_type": "stream",
          "name": "stderr",
          "text": [
            " 25%|██▌       | 125/500 [45:47<2:13:21, 21.34s/it]"
          ]
        },
        {
          "output_type": "stream",
          "name": "stdout",
          "text": [
            "       epoch 125  /  500    [train_loss : 0.00588]  [val_loss : 0.01014]    [lr : 0.00191038]\n"
          ]
        },
        {
          "output_type": "stream",
          "name": "stderr",
          "text": [
            " 26%|██▌       | 130/500 [47:35<2:13:45, 21.69s/it]"
          ]
        },
        {
          "output_type": "stream",
          "name": "stdout",
          "text": [
            "       epoch 130  /  500    [train_loss : 0.00508]  [val_loss : 0.01212]    [lr : 0.00191038]\n"
          ]
        },
        {
          "output_type": "stream",
          "name": "stderr",
          "text": [
            " 27%|██▋       | 135/500 [49:20<2:09:12, 21.24s/it]"
          ]
        },
        {
          "output_type": "stream",
          "name": "stdout",
          "text": [
            "       epoch 135  /  500    [train_loss : 0.00413]  [val_loss : 0.01139]    [lr : 0.00191038]\n"
          ]
        },
        {
          "output_type": "stream",
          "name": "stderr",
          "text": [
            " 28%|██▊       | 140/500 [51:06<2:07:09, 21.19s/it]"
          ]
        },
        {
          "output_type": "stream",
          "name": "stdout",
          "text": [
            "       epoch 140  /  500    [train_loss : 0.00424]  [val_loss : 0.01012]    [lr : 0.00191038]\n"
          ]
        },
        {
          "output_type": "stream",
          "name": "stderr",
          "text": [
            " 29%|██▉       | 145/500 [52:55<2:10:45, 22.10s/it]"
          ]
        },
        {
          "output_type": "stream",
          "name": "stdout",
          "text": [
            "       epoch 145  /  500    [train_loss : 0.00657]  [val_loss : 0.01064]    [lr : 0.00191038]\n"
          ]
        },
        {
          "output_type": "stream",
          "name": "stderr",
          "text": [
            " 30%|███       | 150/500 [54:44<2:06:32, 21.69s/it]"
          ]
        },
        {
          "output_type": "stream",
          "name": "stdout",
          "text": [
            "       epoch 150  /  500    [train_loss : 0.00418]  [val_loss : 0.01104]    [lr : 0.00191038]\n"
          ]
        },
        {
          "output_type": "stream",
          "name": "stderr",
          "text": [
            " 31%|███       | 155/500 [56:35<2:05:59, 21.91s/it]"
          ]
        },
        {
          "output_type": "stream",
          "name": "stdout",
          "text": [
            "       epoch 155  /  500    [train_loss : 0.00488]  [val_loss : 0.01261]    [lr : 0.00191038]\n"
          ]
        },
        {
          "output_type": "stream",
          "name": "stderr",
          "text": [
            " 32%|███▏      | 160/500 [58:21<2:01:29, 21.44s/it]"
          ]
        },
        {
          "output_type": "stream",
          "name": "stdout",
          "text": [
            "       epoch 160  /  500    [train_loss : 0.00399]  [val_loss : 0.01019]    [lr : 0.00191038]\n"
          ]
        },
        {
          "output_type": "stream",
          "name": "stderr",
          "text": [
            " 33%|███▎      | 165/500 [1:00:08<1:59:10, 21.34s/it]"
          ]
        },
        {
          "output_type": "stream",
          "name": "stdout",
          "text": [
            "       epoch 165  /  500    [train_loss : 0.00338]  [val_loss : 0.01076]    [lr : 0.00191038]\n"
          ]
        },
        {
          "output_type": "stream",
          "name": "stderr",
          "text": [
            " 34%|███▍      | 170/500 [1:01:56<1:58:21, 21.52s/it]"
          ]
        },
        {
          "output_type": "stream",
          "name": "stdout",
          "text": [
            "       epoch 170  /  500    [train_loss : 0.00320]  [val_loss : 0.00985]    [lr : 0.00191038]\n"
          ]
        },
        {
          "output_type": "stream",
          "name": "stderr",
          "text": [
            " 35%|███▌      | 175/500 [1:03:43<1:56:01, 21.42s/it]"
          ]
        },
        {
          "output_type": "stream",
          "name": "stdout",
          "text": [
            "       epoch 175  /  500    [train_loss : 0.00746]  [val_loss : 0.00983]    [lr : 0.00191038]\n"
          ]
        },
        {
          "output_type": "stream",
          "name": "stderr",
          "text": [
            " 36%|███▌      | 180/500 [1:05:30<1:54:08, 21.40s/it]"
          ]
        },
        {
          "output_type": "stream",
          "name": "stdout",
          "text": [
            "       epoch 180  /  500    [train_loss : 0.00501]  [val_loss : 0.01047]    [lr : 0.00191038]\n"
          ]
        },
        {
          "output_type": "stream",
          "name": "stderr",
          "text": [
            " 37%|███▋      | 185/500 [1:07:17<1:52:09, 21.36s/it]"
          ]
        },
        {
          "output_type": "stream",
          "name": "stdout",
          "text": [
            "       epoch 185  /  500    [train_loss : 0.00335]  [val_loss : 0.00925]    [lr : 0.00191038]\n"
          ]
        },
        {
          "output_type": "stream",
          "name": "stderr",
          "text": [
            " 38%|███▊      | 190/500 [1:09:03<1:49:17, 21.15s/it]"
          ]
        },
        {
          "output_type": "stream",
          "name": "stdout",
          "text": [
            "       epoch 190  /  500    [train_loss : 0.00565]  [val_loss : 0.01073]    [lr : 0.00191038]\n"
          ]
        },
        {
          "output_type": "stream",
          "name": "stderr",
          "text": [
            " 39%|███▉      | 195/500 [1:10:48<1:46:58, 21.04s/it]"
          ]
        },
        {
          "output_type": "stream",
          "name": "stdout",
          "text": [
            "       epoch 195  /  500    [train_loss : 0.00321]  [val_loss : 0.00989]    [lr : 0.00191038]\n"
          ]
        },
        {
          "output_type": "stream",
          "name": "stderr",
          "text": [
            " 40%|████      | 200/500 [1:12:34<1:45:37, 21.13s/it]"
          ]
        },
        {
          "output_type": "stream",
          "name": "stdout",
          "text": [
            "       epoch 200  /  500    [train_loss : 0.00654]  [val_loss : 0.01135]    [lr : 0.00191038]\n"
          ]
        },
        {
          "output_type": "stream",
          "name": "stderr",
          "text": [
            " 41%|████      | 205/500 [1:14:18<1:43:12, 20.99s/it]"
          ]
        },
        {
          "output_type": "stream",
          "name": "stdout",
          "text": [
            "       epoch 205  /  500    [train_loss : 0.00354]  [val_loss : 0.01222]    [lr : 0.00191038]\n"
          ]
        },
        {
          "output_type": "stream",
          "name": "stderr",
          "text": [
            " 42%|████▏     | 210/500 [1:16:03<1:41:15, 20.95s/it]"
          ]
        },
        {
          "output_type": "stream",
          "name": "stdout",
          "text": [
            "       epoch 210  /  500    [train_loss : 0.00338]  [val_loss : 0.01031]    [lr : 0.00191038]\n"
          ]
        },
        {
          "output_type": "stream",
          "name": "stderr",
          "text": [
            " 43%|████▎     | 215/500 [1:17:49<1:40:43, 21.21s/it]"
          ]
        },
        {
          "output_type": "stream",
          "name": "stdout",
          "text": [
            "       epoch 215  /  500    [train_loss : 0.00287]  [val_loss : 0.00956]    [lr : 0.00191038]\n"
          ]
        },
        {
          "output_type": "stream",
          "name": "stderr",
          "text": [
            " 44%|████▍     | 220/500 [1:19:34<1:38:07, 21.03s/it]"
          ]
        },
        {
          "output_type": "stream",
          "name": "stdout",
          "text": [
            "       epoch 220  /  500    [train_loss : 0.00149]  [val_loss : 0.00823]    [lr : 0.00095519]\n"
          ]
        },
        {
          "output_type": "stream",
          "name": "stderr",
          "text": [
            " 45%|████▌     | 225/500 [1:21:19<1:36:31, 21.06s/it]"
          ]
        },
        {
          "output_type": "stream",
          "name": "stdout",
          "text": [
            "       epoch 225  /  500    [train_loss : 0.00155]  [val_loss : 0.00816]    [lr : 0.00095519]\n"
          ]
        },
        {
          "output_type": "stream",
          "name": "stderr",
          "text": [
            " 46%|████▌     | 230/500 [1:23:05<1:34:44, 21.05s/it]"
          ]
        },
        {
          "output_type": "stream",
          "name": "stdout",
          "text": [
            "       epoch 230  /  500    [train_loss : 0.00143]  [val_loss : 0.00830]    [lr : 0.00095519]\n"
          ]
        },
        {
          "output_type": "stream",
          "name": "stderr",
          "text": [
            " 47%|████▋     | 235/500 [1:24:50<1:32:53, 21.03s/it]"
          ]
        },
        {
          "output_type": "stream",
          "name": "stdout",
          "text": [
            "       epoch 235  /  500    [train_loss : 0.00139]  [val_loss : 0.00809]    [lr : 0.00095519]\n"
          ]
        },
        {
          "output_type": "stream",
          "name": "stderr",
          "text": [
            " 48%|████▊     | 240/500 [1:26:35<1:31:07, 21.03s/it]"
          ]
        },
        {
          "output_type": "stream",
          "name": "stdout",
          "text": [
            "       epoch 240  /  500    [train_loss : 0.00135]  [val_loss : 0.00799]    [lr : 0.00095519]\n"
          ]
        },
        {
          "output_type": "stream",
          "name": "stderr",
          "text": [
            " 49%|████▉     | 245/500 [1:28:21<1:29:39, 21.10s/it]"
          ]
        },
        {
          "output_type": "stream",
          "name": "stdout",
          "text": [
            "       epoch 245  /  500    [train_loss : 0.00134]  [val_loss : 0.00744]    [lr : 0.00095519]\n"
          ]
        },
        {
          "output_type": "stream",
          "name": "stderr",
          "text": [
            " 50%|█████     | 250/500 [1:30:06<1:27:56, 21.11s/it]"
          ]
        },
        {
          "output_type": "stream",
          "name": "stdout",
          "text": [
            "       epoch 250  /  500    [train_loss : 0.00133]  [val_loss : 0.00759]    [lr : 0.00095519]\n"
          ]
        },
        {
          "output_type": "stream",
          "name": "stderr",
          "text": [
            " 51%|█████     | 255/500 [1:31:52<1:26:19, 21.14s/it]"
          ]
        },
        {
          "output_type": "stream",
          "name": "stdout",
          "text": [
            "       epoch 255  /  500    [train_loss : 0.00127]  [val_loss : 0.00738]    [lr : 0.00095519]\n"
          ]
        },
        {
          "output_type": "stream",
          "name": "stderr",
          "text": [
            " 52%|█████▏    | 260/500 [1:33:37<1:24:10, 21.05s/it]"
          ]
        },
        {
          "output_type": "stream",
          "name": "stdout",
          "text": [
            "       epoch 260  /  500    [train_loss : 0.00129]  [val_loss : 0.00757]    [lr : 0.00095519]\n"
          ]
        },
        {
          "output_type": "stream",
          "name": "stderr",
          "text": [
            " 53%|█████▎    | 265/500 [1:35:23<1:22:43, 21.12s/it]"
          ]
        },
        {
          "output_type": "stream",
          "name": "stdout",
          "text": [
            "       epoch 265  /  500    [train_loss : 0.00121]  [val_loss : 0.00746]    [lr : 0.00095519]\n"
          ]
        },
        {
          "output_type": "stream",
          "name": "stderr",
          "text": [
            " 54%|█████▍    | 270/500 [1:37:08<1:20:45, 21.07s/it]"
          ]
        },
        {
          "output_type": "stream",
          "name": "stdout",
          "text": [
            "       epoch 270  /  500    [train_loss : 0.00127]  [val_loss : 0.00819]    [lr : 0.00095519]\n"
          ]
        },
        {
          "output_type": "stream",
          "name": "stderr",
          "text": [
            " 55%|█████▌    | 275/500 [1:38:54<1:19:16, 21.14s/it]"
          ]
        },
        {
          "output_type": "stream",
          "name": "stdout",
          "text": [
            "       epoch 275  /  500    [train_loss : 0.00120]  [val_loss : 0.00778]    [lr : 0.00095519]\n"
          ]
        },
        {
          "output_type": "stream",
          "name": "stderr",
          "text": [
            " 56%|█████▌    | 280/500 [1:40:39<1:17:09, 21.04s/it]"
          ]
        },
        {
          "output_type": "stream",
          "name": "stdout",
          "text": [
            "       epoch 280  /  500    [train_loss : 0.00118]  [val_loss : 0.00708]    [lr : 0.00095519]\n"
          ]
        },
        {
          "output_type": "stream",
          "name": "stderr",
          "text": [
            " 57%|█████▋    | 285/500 [1:42:24<1:15:12, 20.99s/it]"
          ]
        },
        {
          "output_type": "stream",
          "name": "stdout",
          "text": [
            "       epoch 285  /  500    [train_loss : 0.00115]  [val_loss : 0.00739]    [lr : 0.00095519]\n"
          ]
        },
        {
          "output_type": "stream",
          "name": "stderr",
          "text": [
            " 58%|█████▊    | 290/500 [1:44:09<1:13:36, 21.03s/it]"
          ]
        },
        {
          "output_type": "stream",
          "name": "stdout",
          "text": [
            "       epoch 290  /  500    [train_loss : 0.00108]  [val_loss : 0.00751]    [lr : 0.00095519]\n"
          ]
        },
        {
          "output_type": "stream",
          "name": "stderr",
          "text": [
            " 59%|█████▉    | 295/500 [1:45:54<1:11:49, 21.02s/it]"
          ]
        },
        {
          "output_type": "stream",
          "name": "stdout",
          "text": [
            "       epoch 295  /  500    [train_loss : 0.00118]  [val_loss : 0.00743]    [lr : 0.00047760]\n"
          ]
        },
        {
          "output_type": "stream",
          "name": "stderr",
          "text": [
            " 60%|██████    | 300/500 [1:47:40<1:10:23, 21.12s/it]"
          ]
        },
        {
          "output_type": "stream",
          "name": "stdout",
          "text": [
            "       epoch 300  /  500    [train_loss : 0.00072]  [val_loss : 0.00684]    [lr : 0.00047760]\n"
          ]
        },
        {
          "output_type": "stream",
          "name": "stderr",
          "text": [
            " 61%|██████    | 305/500 [1:49:25<1:08:27, 21.07s/it]"
          ]
        },
        {
          "output_type": "stream",
          "name": "stdout",
          "text": [
            "       epoch 305  /  500    [train_loss : 0.00070]  [val_loss : 0.00713]    [lr : 0.00047760]\n"
          ]
        },
        {
          "output_type": "stream",
          "name": "stderr",
          "text": [
            " 62%|██████▏   | 310/500 [1:51:11<1:06:38, 21.05s/it]"
          ]
        },
        {
          "output_type": "stream",
          "name": "stdout",
          "text": [
            "       epoch 310  /  500    [train_loss : 0.00069]  [val_loss : 0.00738]    [lr : 0.00047760]\n"
          ]
        },
        {
          "output_type": "stream",
          "name": "stderr",
          "text": [
            " 63%|██████▎   | 315/500 [1:52:56<1:04:52, 21.04s/it]"
          ]
        },
        {
          "output_type": "stream",
          "name": "stdout",
          "text": [
            "       epoch 315  /  500    [train_loss : 0.00070]  [val_loss : 0.00741]    [lr : 0.00047760]\n"
          ]
        },
        {
          "output_type": "stream",
          "name": "stderr",
          "text": [
            " 64%|██████▍   | 320/500 [1:54:42<1:03:15, 21.09s/it]"
          ]
        },
        {
          "output_type": "stream",
          "name": "stdout",
          "text": [
            "       epoch 320  /  500    [train_loss : 0.00068]  [val_loss : 0.00702]    [lr : 0.00047760]\n"
          ]
        },
        {
          "output_type": "stream",
          "name": "stderr",
          "text": [
            " 65%|██████▌   | 325/500 [1:56:26<1:01:18, 21.02s/it]"
          ]
        },
        {
          "output_type": "stream",
          "name": "stdout",
          "text": [
            "       epoch 325  /  500    [train_loss : 0.00052]  [val_loss : 0.00681]    [lr : 0.00023880]\n"
          ]
        },
        {
          "output_type": "stream",
          "name": "stderr",
          "text": [
            " 66%|██████▌   | 330/500 [1:58:12<59:52, 21.13s/it]  "
          ]
        },
        {
          "output_type": "stream",
          "name": "stdout",
          "text": [
            "       epoch 330  /  500    [train_loss : 0.00054]  [val_loss : 0.00700]    [lr : 0.00023880]\n"
          ]
        },
        {
          "output_type": "stream",
          "name": "stderr",
          "text": [
            " 67%|██████▋   | 335/500 [1:59:57<57:40, 20.97s/it]"
          ]
        },
        {
          "output_type": "stream",
          "name": "stdout",
          "text": [
            "       epoch 335  /  500    [train_loss : 0.00051]  [val_loss : 0.00692]    [lr : 0.00023880]\n"
          ]
        },
        {
          "output_type": "stream",
          "name": "stderr",
          "text": [
            " 68%|██████▊   | 340/500 [2:01:42<56:08, 21.05s/it]"
          ]
        },
        {
          "output_type": "stream",
          "name": "stdout",
          "text": [
            "       epoch 340  /  500    [train_loss : 0.00051]  [val_loss : 0.00693]    [lr : 0.00023880]\n"
          ]
        },
        {
          "output_type": "stream",
          "name": "stderr",
          "text": [
            " 69%|██████▉   | 345/500 [2:03:28<54:24, 21.06s/it]"
          ]
        },
        {
          "output_type": "stream",
          "name": "stdout",
          "text": [
            "       epoch 345  /  500    [train_loss : 0.00049]  [val_loss : 0.00700]    [lr : 0.00023880]\n"
          ]
        },
        {
          "output_type": "stream",
          "name": "stderr",
          "text": [
            " 70%|███████   | 350/500 [2:05:13<52:31, 21.01s/it]"
          ]
        },
        {
          "output_type": "stream",
          "name": "stdout",
          "text": [
            "       epoch 350  /  500    [train_loss : 0.00050]  [val_loss : 0.00692]    [lr : 0.00023880]\n"
          ]
        },
        {
          "output_type": "stream",
          "name": "stderr",
          "text": [
            " 71%|███████   | 355/500 [2:06:58<50:55, 21.07s/it]"
          ]
        },
        {
          "output_type": "stream",
          "name": "stdout",
          "text": [
            "       epoch 355  /  500    [train_loss : 0.00050]  [val_loss : 0.00710]    [lr : 0.00023880]\n"
          ]
        },
        {
          "output_type": "stream",
          "name": "stderr",
          "text": [
            " 72%|███████▏  | 360/500 [2:08:44<49:12, 21.09s/it]"
          ]
        },
        {
          "output_type": "stream",
          "name": "stdout",
          "text": [
            "       epoch 360  /  500    [train_loss : 0.00049]  [val_loss : 0.00685]    [lr : 0.00023880]\n"
          ]
        },
        {
          "output_type": "stream",
          "name": "stderr",
          "text": [
            " 73%|███████▎  | 365/500 [2:10:29<47:16, 21.01s/it]"
          ]
        },
        {
          "output_type": "stream",
          "name": "stdout",
          "text": [
            "       epoch 365  /  500    [train_loss : 0.00048]  [val_loss : 0.00683]    [lr : 0.00023880]\n"
          ]
        },
        {
          "output_type": "stream",
          "name": "stderr",
          "text": [
            " 74%|███████▍  | 370/500 [2:12:14<45:52, 21.17s/it]"
          ]
        },
        {
          "output_type": "stream",
          "name": "stdout",
          "text": [
            "       epoch 370  /  500    [train_loss : 0.00049]  [val_loss : 0.00673]    [lr : 0.00023880]\n"
          ]
        },
        {
          "output_type": "stream",
          "name": "stderr",
          "text": [
            " 75%|███████▌  | 375/500 [2:14:00<43:49, 21.04s/it]"
          ]
        },
        {
          "output_type": "stream",
          "name": "stdout",
          "text": [
            "       epoch 375  /  500    [train_loss : 0.00048]  [val_loss : 0.00695]    [lr : 0.00023880]\n"
          ]
        },
        {
          "output_type": "stream",
          "name": "stderr",
          "text": [
            " 76%|███████▌  | 380/500 [2:15:45<42:11, 21.09s/it]"
          ]
        },
        {
          "output_type": "stream",
          "name": "stdout",
          "text": [
            "       epoch 380  /  500    [train_loss : 0.00048]  [val_loss : 0.00684]    [lr : 0.00023880]\n"
          ]
        },
        {
          "output_type": "stream",
          "name": "stderr",
          "text": [
            " 77%|███████▋  | 385/500 [2:17:30<40:20, 21.05s/it]"
          ]
        },
        {
          "output_type": "stream",
          "name": "stdout",
          "text": [
            "       epoch 385  /  500    [train_loss : 0.00047]  [val_loss : 0.00698]    [lr : 0.00023880]\n"
          ]
        },
        {
          "output_type": "stream",
          "name": "stderr",
          "text": [
            " 78%|███████▊  | 390/500 [2:19:15<38:30, 21.00s/it]"
          ]
        },
        {
          "output_type": "stream",
          "name": "stdout",
          "text": [
            "       epoch 390  /  500    [train_loss : 0.00047]  [val_loss : 0.00680]    [lr : 0.00023880]\n"
          ]
        },
        {
          "output_type": "stream",
          "name": "stderr",
          "text": [
            " 79%|███████▉  | 395/500 [2:21:01<36:56, 21.11s/it]"
          ]
        },
        {
          "output_type": "stream",
          "name": "stdout",
          "text": [
            "       epoch 395  /  500    [train_loss : 0.00047]  [val_loss : 0.00686]    [lr : 0.00023880]\n"
          ]
        },
        {
          "output_type": "stream",
          "name": "stderr",
          "text": [
            " 80%|████████  | 400/500 [2:22:46<35:02, 21.03s/it]"
          ]
        },
        {
          "output_type": "stream",
          "name": "stdout",
          "text": [
            "       epoch 400  /  500    [train_loss : 0.00042]  [val_loss : 0.00674]    [lr : 0.00011940]\n"
          ]
        },
        {
          "output_type": "stream",
          "name": "stderr",
          "text": [
            " 81%|████████  | 405/500 [2:24:31<33:14, 21.00s/it]"
          ]
        },
        {
          "output_type": "stream",
          "name": "stdout",
          "text": [
            "       epoch 405  /  500    [train_loss : 0.00041]  [val_loss : 0.00678]    [lr : 0.00011940]\n"
          ]
        },
        {
          "output_type": "stream",
          "name": "stderr",
          "text": [
            " 82%|████████▏ | 410/500 [2:26:16<31:29, 20.99s/it]"
          ]
        },
        {
          "output_type": "stream",
          "name": "stdout",
          "text": [
            "       epoch 410  /  500    [train_loss : 0.00039]  [val_loss : 0.00673]    [lr : 0.00011940]\n"
          ]
        },
        {
          "output_type": "stream",
          "name": "stderr",
          "text": [
            " 83%|████████▎ | 415/500 [2:28:01<29:48, 21.04s/it]"
          ]
        },
        {
          "output_type": "stream",
          "name": "stdout",
          "text": [
            "       epoch 415  /  500    [train_loss : 0.00040]  [val_loss : 0.00675]    [lr : 0.00011940]\n"
          ]
        },
        {
          "output_type": "stream",
          "name": "stderr",
          "text": [
            " 84%|████████▍ | 420/500 [2:29:47<28:07, 21.09s/it]"
          ]
        },
        {
          "output_type": "stream",
          "name": "stdout",
          "text": [
            "       epoch 420  /  500    [train_loss : 0.00039]  [val_loss : 0.00667]    [lr : 0.00011940]\n"
          ]
        },
        {
          "output_type": "stream",
          "name": "stderr",
          "text": [
            " 85%|████████▌ | 425/500 [2:31:32<26:25, 21.15s/it]"
          ]
        },
        {
          "output_type": "stream",
          "name": "stdout",
          "text": [
            "       epoch 425  /  500    [train_loss : 0.00040]  [val_loss : 0.00680]    [lr : 0.00011940]\n"
          ]
        },
        {
          "output_type": "stream",
          "name": "stderr",
          "text": [
            " 86%|████████▌ | 430/500 [2:33:22<25:24, 21.77s/it]"
          ]
        },
        {
          "output_type": "stream",
          "name": "stdout",
          "text": [
            "       epoch 430  /  500    [train_loss : 0.00039]  [val_loss : 0.00677]    [lr : 0.00011940]\n"
          ]
        },
        {
          "output_type": "stream",
          "name": "stderr",
          "text": [
            " 87%|████████▋ | 435/500 [2:35:08<23:14, 21.45s/it]"
          ]
        },
        {
          "output_type": "stream",
          "name": "stdout",
          "text": [
            "       epoch 435  /  500    [train_loss : 0.00037]  [val_loss : 0.00663]    [lr : 0.00005970]\n"
          ]
        },
        {
          "output_type": "stream",
          "name": "stderr",
          "text": [
            " 88%|████████▊ | 440/500 [2:36:56<21:33, 21.56s/it]"
          ]
        },
        {
          "output_type": "stream",
          "name": "stdout",
          "text": [
            "       epoch 440  /  500    [train_loss : 0.00037]  [val_loss : 0.00665]    [lr : 0.00005970]\n"
          ]
        },
        {
          "output_type": "stream",
          "name": "stderr",
          "text": [
            " 89%|████████▉ | 445/500 [2:38:43<19:38, 21.42s/it]"
          ]
        },
        {
          "output_type": "stream",
          "name": "stdout",
          "text": [
            "       epoch 445  /  500    [train_loss : 0.00035]  [val_loss : 0.00669]    [lr : 0.00005970]\n"
          ]
        },
        {
          "output_type": "stream",
          "name": "stderr",
          "text": [
            " 90%|█████████ | 450/500 [2:40:31<17:52, 21.46s/it]"
          ]
        },
        {
          "output_type": "stream",
          "name": "stdout",
          "text": [
            "       epoch 450  /  500    [train_loss : 0.00035]  [val_loss : 0.00669]    [lr : 0.00005970]\n"
          ]
        },
        {
          "output_type": "stream",
          "name": "stderr",
          "text": [
            " 91%|█████████ | 455/500 [2:42:18<16:02, 21.38s/it]"
          ]
        },
        {
          "output_type": "stream",
          "name": "stdout",
          "text": [
            "       epoch 455  /  500    [train_loss : 0.00035]  [val_loss : 0.00662]    [lr : 0.00002985]\n"
          ]
        },
        {
          "output_type": "stream",
          "name": "stderr",
          "text": [
            " 92%|█████████▏| 460/500 [2:44:05<14:15, 21.38s/it]"
          ]
        },
        {
          "output_type": "stream",
          "name": "stdout",
          "text": [
            "       epoch 460  /  500    [train_loss : 0.00034]  [val_loss : 0.00659]    [lr : 0.00002985]\n"
          ]
        },
        {
          "output_type": "stream",
          "name": "stderr",
          "text": [
            " 93%|█████████▎| 465/500 [2:45:52<12:28, 21.37s/it]"
          ]
        },
        {
          "output_type": "stream",
          "name": "stdout",
          "text": [
            "       epoch 465  /  500    [train_loss : 0.00034]  [val_loss : 0.00671]    [lr : 0.00002985]\n"
          ]
        },
        {
          "output_type": "stream",
          "name": "stderr",
          "text": [
            " 94%|█████████▍| 470/500 [2:47:39<10:42, 21.42s/it]"
          ]
        },
        {
          "output_type": "stream",
          "name": "stdout",
          "text": [
            "       epoch 470  /  500    [train_loss : 0.00033]  [val_loss : 0.00660]    [lr : 0.00002985]\n"
          ]
        },
        {
          "output_type": "stream",
          "name": "stderr",
          "text": [
            " 95%|█████████▌| 475/500 [2:49:26<08:53, 21.35s/it]"
          ]
        },
        {
          "output_type": "stream",
          "name": "stdout",
          "text": [
            "       epoch 475  /  500    [train_loss : 0.00034]  [val_loss : 0.00673]    [lr : 0.00002985]\n"
          ]
        },
        {
          "output_type": "stream",
          "name": "stderr",
          "text": [
            " 96%|█████████▌| 480/500 [2:51:12<07:05, 21.27s/it]"
          ]
        },
        {
          "output_type": "stream",
          "name": "stdout",
          "text": [
            "       epoch 480  /  500    [train_loss : 0.00034]  [val_loss : 0.00669]    [lr : 0.00002985]\n"
          ]
        },
        {
          "output_type": "stream",
          "name": "stderr",
          "text": [
            " 97%|█████████▋| 485/500 [2:52:58<05:16, 21.09s/it]"
          ]
        },
        {
          "output_type": "stream",
          "name": "stdout",
          "text": [
            "       epoch 485  /  500    [train_loss : 0.00034]  [val_loss : 0.00659]    [lr : 0.00001492]\n"
          ]
        },
        {
          "output_type": "stream",
          "name": "stderr",
          "text": [
            " 98%|█████████▊| 490/500 [2:54:43<03:30, 21.03s/it]"
          ]
        },
        {
          "output_type": "stream",
          "name": "stdout",
          "text": [
            "       epoch 490  /  500    [train_loss : 0.00034]  [val_loss : 0.00666]    [lr : 0.00001492]\n"
          ]
        },
        {
          "output_type": "stream",
          "name": "stderr",
          "text": [
            " 99%|█████████▉| 495/500 [2:56:28<01:45, 21.04s/it]"
          ]
        },
        {
          "output_type": "stream",
          "name": "stdout",
          "text": [
            "       epoch 495  /  500    [train_loss : 0.00033]  [val_loss : 0.00664]    [lr : 0.00001492]\n"
          ]
        },
        {
          "output_type": "stream",
          "name": "stderr",
          "text": [
            "100%|██████████| 500/500 [2:58:13<00:00, 21.39s/it]"
          ]
        },
        {
          "output_type": "stream",
          "name": "stdout",
          "text": [
            "       epoch 500  /  500    [train_loss : 0.00034]  [val_loss : 0.00658]    [lr : 0.00001492]\n"
          ]
        },
        {
          "output_type": "stream",
          "name": "stderr",
          "text": [
            "\n"
          ]
        }
      ],
      "source": [
        "train_loss_list, val_loss_list = trial.train(train_loader, val_loader)"
      ]
    },
    {
      "cell_type": "code",
      "execution_count": null,
      "metadata": {
        "id": "rb1s24mrQxjN"
      },
      "outputs": [],
      "source": [
        "test_loss, y, pred = trial.test(test_loader)"
      ]
    },
    {
      "cell_type": "code",
      "execution_count": null,
      "metadata": {
        "id": "glv5Cjv8Q2PD",
        "colab": {
          "base_uri": "https://localhost:8080/",
          "height": 495
        },
        "outputId": "0b08c4d0-fbfe-458d-da7d-56cfa70e119b"
      },
      "outputs": [
        {
          "output_type": "stream",
          "name": "stderr",
          "text": [
            "/usr/local/lib/python3.10/dist-packages/IPython/core/display.py:724: UserWarning: Consider using IPython.display.IFrame instead\n",
            "  warnings.warn(\"Consider using IPython.display.IFrame instead\")\n"
          ]
        },
        {
          "output_type": "display_data",
          "data": {
            "text/plain": [
              "<IPython.core.display.HTML object>"
            ],
            "text/html": [
              "<iframe src='https://wandb.ai/rossi22/GCN_LOGP_TRAIN/runs/dbxms62k?jupyter=true' style='border:none;width:100%;height:420px;'></iframe>"
            ]
          },
          "metadata": {}
        },
        {
          "output_type": "execute_result",
          "data": {
            "text/plain": [
              "True"
            ]
          },
          "metadata": {},
          "execution_count": 23
        }
      ],
      "source": [
        "last_run = trial.run\n",
        "last_run.display()"
      ]
    },
    {
      "cell_type": "code",
      "execution_count": null,
      "metadata": {
        "id": "QuGHnFFu8RT0",
        "colab": {
          "base_uri": "https://localhost:8080/",
          "height": 499
        },
        "outputId": "0210f5a8-d891-4f70-fcc0-a18fa231fea1"
      },
      "outputs": [
        {
          "output_type": "display_data",
          "data": {
            "text/plain": [
              "<Figure size 640x480 with 1 Axes>"
            ],
            "image/png": "[encoded data removed]"
          },
          "metadata": {}
        }
      ],
      "source": [
        "loss_graph(train_loss_list, val_loss_list)"
      ]
    },
    {
      "cell_type": "code",
      "execution_count": null,
      "metadata": {
        "id": "jxh8UTe7fF3P",
        "colab": {
          "base_uri": "https://localhost:8080/",
          "height": 628
        },
        "outputId": "3951f74e-d727-4af8-f590-ee969f411552"
      },
      "outputs": [
        {
          "output_type": "stream",
          "name": "stdout",
          "text": [
            "[[1.         0.99724521]\n",
            " [0.99724521 1.        ]]\n"
          ]
        },
        {
          "output_type": "display_data",
          "data": {
            "text/plain": [
              "<Figure size 600x600 with 1 Axes>"
            ],
            "image/png": "[encoded data removed]"
          },
          "metadata": {}
        }
      ],
      "source": [
        "plot_prediction(y, pred)"
      ]
    },
    {
      "cell_type": "code",
      "source": [
        "wandb.finish()"
      ],
      "metadata": {
        "id": "_HNNkTC7IXMP",
        "colab": {
          "base_uri": "https://localhost:8080/",
          "height": 270
        },
        "outputId": "0175caa8-d1bb-496c-a9f6-a70bece5d966"
      },
      "execution_count": null,
      "outputs": [
        {
          "output_type": "display_data",
          "data": {
            "text/plain": [
              "<IPython.core.display.HTML object>"
            ],
            "text/html": [
              "Waiting for W&B process to finish... <strong style=\"color:green\">(success).</strong>"
            ]
          },
          "metadata": {}
        },
        {
          "output_type": "display_data",
          "data": {
            "text/plain": [
              "<IPython.core.display.HTML object>"
            ],
            "text/html": [
              "<style>\n",
              "    table.wandb td:nth-child(1) { padding: 0 10px; text-align: left ; width: auto;} td:nth-child(2) {text-align: left ; width: 100%}\n",
              "    .wandb-row { display: flex; flex-direction: row; flex-wrap: wrap; justify-content: flex-start; width: 100% }\n",
              "    .wandb-col { display: flex; flex-direction: column; flex-basis: 100%; flex: 1; padding: 10px; }\n",
              "    </style>\n",
              "<div class=\"wandb-row\"><div class=\"wandb-col\"><h3>Run history:</h3><br/><table class=\"wandb\"><tr><td>epoch</td><td>▁▁▁▂▂▂▂▂▂▃▃▃▃▃▄▄▄▄▄▄▅▅▅▅▅▅▆▆▆▆▆▇▇▇▇▇▇███</td></tr><tr><td>train_loss</td><td>█▃▂▂▂▁▂▁▁▁▁▁▁▁▁▁▁▁▁▁▁▁▁▁▁▁▁▁▁▁▁▁▁▁▁▁▁▁▁▁</td></tr><tr><td>val_loss</td><td>█▅▃▂▂▂▂▂▁▁▁▁▁▁▁▂▁▁▁▁▁▁▁▁▁▁▁▁▁▁▁▁▁▁▁▁▁▁▁▁</td></tr></table><br/></div><div class=\"wandb-col\"><h3>Run summary:</h3><br/><table class=\"wandb\"><tr><td>epoch</td><td>500</td></tr><tr><td>test_loss</td><td>0.0096</td></tr><tr><td>train_loss</td><td>0.00034</td></tr><tr><td>val_loss</td><td>0.00658</td></tr></table><br/></div></div>"
            ]
          },
          "metadata": {}
        },
        {
          "output_type": "display_data",
          "data": {
            "text/plain": [
              "<IPython.core.display.HTML object>"
            ],
            "text/html": [
              " View run <strong style=\"color:#cdcd00\">trial_1</strong> at: <a href='https://wandb.ai/rossi22/GCN_LOGP_TRAIN/runs/dbxms62k' target=\"_blank\">https://wandb.ai/rossi22/GCN_LOGP_TRAIN/runs/dbxms62k</a><br/>Synced 5 W&B file(s), 0 media file(s), 1 artifact file(s) and 0 other file(s)"
            ]
          },
          "metadata": {}
        },
        {
          "output_type": "display_data",
          "data": {
            "text/plain": [
              "<IPython.core.display.HTML object>"
            ],
            "text/html": [
              "Find logs at: <code>./wandb/run-20230809_182441-dbxms62k/logs</code>"
            ]
          },
          "metadata": {}
        }
      ]
    },
    {
      "cell_type": "markdown",
      "source": [
        "# Load trial"
      ],
      "metadata": {
        "id": "FuChPzPEpiYk"
      }
    },
    {
      "cell_type": "code",
      "source": [
        "trial.wandb_load_run('dbxms62k')"
      ],
      "metadata": {
        "colab": {
          "base_uri": "https://localhost:8080/",
          "height": 169,
          "referenced_widgets": [
            "5e1beb3a69234969bbeb28b9975b3d76",
            "07cd234bdd1a4d75a563a84cd03bdb82",
            "25cbbe5f190f409fbfa4f891d5f98af2",
            "be92a9dcfea647ab8dd49401e3e1e816",
            "6bdd7b46289b42c59223dfb2a720cd6c",
            "94ec6cb927b347109224cd5ec8de1fd2",
            "a504971f3a984f83bf40ec092806635a",
            "55b1a03ab9334395b0d41ca033fd10fb"
          ]
        },
        "id": "cbRkmBVfx57l",
        "outputId": "81b95b06-63fe-4bb0-8864-4ccb56481f65"
      },
      "execution_count": null,
      "outputs": [
        {
          "output_type": "display_data",
          "data": {
            "text/plain": [
              "VBox(children=(Label(value='Waiting for wandb.init()...\\r'), FloatProgress(value=0.016668625449998822, max=1.0…"
            ],
            "application/vnd.jupyter.widget-view+json": {
              "version_major": 2,
              "version_minor": 0,
              "model_id": "5e1beb3a69234969bbeb28b9975b3d76"
            }
          },
          "metadata": {}
        },
        {
          "output_type": "display_data",
          "data": {
            "text/plain": [
              "<IPython.core.display.HTML object>"
            ],
            "text/html": [
              "Tracking run with wandb version 0.15.8"
            ]
          },
          "metadata": {}
        },
        {
          "output_type": "display_data",
          "data": {
            "text/plain": [
              "<IPython.core.display.HTML object>"
            ],
            "text/html": [
              "Run data is saved locally in <code>/content/wandb/run-20230821_062953-dbxms62k</code>"
            ]
          },
          "metadata": {}
        },
        {
          "output_type": "display_data",
          "data": {
            "text/plain": [
              "<IPython.core.display.HTML object>"
            ],
            "text/html": [
              "Resuming run <strong><a href='https://wandb.ai/rossi22/GCN_LOGP_TRAIN/runs/dbxms62k' target=\"_blank\">trial_1</a></strong> to <a href='https://wandb.ai/rossi22/GCN_LOGP_TRAIN' target=\"_blank\">Weights & Biases</a> (<a href='https://wandb.me/run' target=\"_blank\">docs</a>)<br/>"
            ]
          },
          "metadata": {}
        },
        {
          "output_type": "display_data",
          "data": {
            "text/plain": [
              "<IPython.core.display.HTML object>"
            ],
            "text/html": [
              " View project at <a href='https://wandb.ai/rossi22/GCN_LOGP_TRAIN' target=\"_blank\">https://wandb.ai/rossi22/GCN_LOGP_TRAIN</a>"
            ]
          },
          "metadata": {}
        },
        {
          "output_type": "display_data",
          "data": {
            "text/plain": [
              "<IPython.core.display.HTML object>"
            ],
            "text/html": [
              " View run at <a href='https://wandb.ai/rossi22/GCN_LOGP_TRAIN/runs/dbxms62k' target=\"_blank\">https://wandb.ai/rossi22/GCN_LOGP_TRAIN/runs/dbxms62k</a>"
            ]
          },
          "metadata": {}
        }
      ]
    },
    {
      "cell_type": "code",
      "source": [
        "trial.upload('GCN_LOGP_TRAIN_best_model_230809.pth')"
      ],
      "metadata": {
        "id": "ImBSlTUtp7Jc"
      },
      "execution_count": null,
      "outputs": []
    },
    {
      "cell_type": "code",
      "source": [
        "trial.load_model('rossi22/GCN_LOGP_TRAIN/GCN_LOGP_TRAIN_best_model_230809.pth:v0', from_wandb=True)\n",
        "test_loss, y, pred = trial.test(test_loader)\n",
        "plot_prediction(y, pred)"
      ],
      "metadata": {
        "colab": {
          "base_uri": "https://localhost:8080/",
          "height": 646
        },
        "id": "D2-mi2xX_uaD",
        "outputId": "2691203e-9101-463f-b0a6-be3e1aee4641"
      },
      "execution_count": null,
      "outputs": [
        {
          "output_type": "stream",
          "name": "stderr",
          "text": [
            "\u001b[34m\u001b[1mwandb\u001b[0m:   1 of 1 files downloaded.  \n"
          ]
        },
        {
          "output_type": "stream",
          "name": "stdout",
          "text": [
            "[[1.        0.9971663]\n",
            " [0.9971663 1.       ]]\n"
          ]
        },
        {
          "output_type": "display_data",
          "data": {
            "text/plain": [
              "<Figure size 600x600 with 1 Axes>"
            ],
            "image/png": "[encoded data removed]"
          },
          "metadata": {}
        }
      ]
    },
    {
      "cell_type": "code",
      "source": [
        "model_name = 'GCN_LOGP_TRAIN_best_model_230809.pth'\n",
        "trial.load_model(model_name)\n",
        "\n",
        "test_loss, y, pred = trial.test(test_loader)\n",
        "plot_prediction(y, pred)"
      ],
      "metadata": {
        "colab": {
          "base_uri": "https://localhost:8080/",
          "height": 628
        },
        "id": "GTBy65iWBhch",
        "outputId": "f1017295-e74c-45b4-ebf8-a8be28a29426"
      },
      "execution_count": null,
      "outputs": [
        {
          "output_type": "stream",
          "name": "stdout",
          "text": [
            "[[1.        0.9971663]\n",
            " [0.9971663 1.       ]]\n"
          ]
        },
        {
          "output_type": "display_data",
          "data": {
            "text/plain": [
              "<Figure size 600x600 with 1 Axes>"
            ],
            "image/png": "[encoded data removed]"
          },
          "metadata": {}
        }
      ]
    },
    {
      "cell_type": "code",
      "execution_count": null,
      "metadata": {
        "id": "JWDI7S3KIisw",
        "colab": {
          "base_uri": "https://localhost:8080/",
          "height": 270
        },
        "outputId": "68b9df52-34d5-4619-bd49-f36c7f078cdd"
      },
      "outputs": [
        {
          "output_type": "display_data",
          "data": {
            "text/plain": [
              "<IPython.core.display.HTML object>"
            ],
            "text/html": [
              "Waiting for W&B process to finish... <strong style=\"color:green\">(success).</strong>"
            ]
          },
          "metadata": {}
        },
        {
          "output_type": "display_data",
          "data": {
            "text/plain": [
              "<IPython.core.display.HTML object>"
            ],
            "text/html": [
              "<style>\n",
              "    table.wandb td:nth-child(1) { padding: 0 10px; text-align: left ; width: auto;} td:nth-child(2) {text-align: left ; width: 100%}\n",
              "    .wandb-row { display: flex; flex-direction: row; flex-wrap: wrap; justify-content: flex-start; width: 100% }\n",
              "    .wandb-col { display: flex; flex-direction: column; flex-basis: 100%; flex: 1; padding: 10px; }\n",
              "    </style>\n",
              "<div class=\"wandb-row\"><div class=\"wandb-col\"><h3>Run summary:</h3><br/><table class=\"wandb\"><tr><td>epoch</td><td>500</td></tr><tr><td>test_loss</td><td>0.00987</td></tr><tr><td>train_loss</td><td>0.00034</td></tr><tr><td>val_loss</td><td>0.00658</td></tr></table><br/></div></div>"
            ]
          },
          "metadata": {}
        },
        {
          "output_type": "display_data",
          "data": {
            "text/plain": [
              "<IPython.core.display.HTML object>"
            ],
            "text/html": [
              " View run <strong style=\"color:#cdcd00\">trial_1</strong> at: <a href='https://wandb.ai/rossi22/GCN_LOGP_TRAIN/runs/dbxms62k' target=\"_blank\">https://wandb.ai/rossi22/GCN_LOGP_TRAIN/runs/dbxms62k</a><br/>Synced 3 W&B file(s), 0 media file(s), 0 artifact file(s) and 0 other file(s)"
            ]
          },
          "metadata": {}
        },
        {
          "output_type": "display_data",
          "data": {
            "text/plain": [
              "<IPython.core.display.HTML object>"
            ],
            "text/html": [
              "Find logs at: <code>./wandb/run-20230821_062953-dbxms62k/logs</code>"
            ]
          },
          "metadata": {}
        }
      ],
      "source": [
        "wandb.finish()"
      ]
    }
  ],
  "metadata": {
    "colab": {
      "provenance": [],
      "machine_shape": "hm",
      "gpuType": "T4"
    },
    "kernelspec": {
      "display_name": "Python 3",
      "name": "python3"
    },
    "language_info": {
      "name": "python"
    },
    "widgets": {
      "application/vnd.jupyter.widget-state+json": {
        "6d4469e4f2fc4dbf926fd14b2ec5d899": {
          "model_module": "@jupyter-widgets/controls",
          "model_name": "VBoxModel",
          "model_module_version": "1.5.0",
          "state": {
            "_dom_classes": [],
            "_model_module": "@jupyter-widgets/controls",
            "_model_module_version": "1.5.0",
            "_model_name": "VBoxModel",
            "_view_count": null,
            "_view_module": "@jupyter-widgets/controls",
            "_view_module_version": "1.5.0",
            "_view_name": "VBoxView",
            "box_style": "",
            "children": [
              "IPY_MODEL_c484b8a5951440c690d589f23814c25c",
              "IPY_MODEL_1181f3af169549cf849b3881137ad340"
            ],
            "layout": "IPY_MODEL_a13d81e1eb9b43e088d44c69aa9da710"
          }
        },
        "c484b8a5951440c690d589f23814c25c": {
          "model_module": "@jupyter-widgets/controls",
          "model_name": "LabelModel",
          "model_module_version": "1.5.0",
          "state": {
            "_dom_classes": [],
            "_model_module": "@jupyter-widgets/controls",
            "_model_module_version": "1.5.0",
            "_model_name": "LabelModel",
            "_view_count": null,
            "_view_module": "@jupyter-widgets/controls",
            "_view_module_version": "1.5.0",
            "_view_name": "LabelView",
            "description": "",
            "description_tooltip": null,
            "layout": "IPY_MODEL_e47772777f5c4fe49ab0ebbd868f5860",
            "placeholder": "​",
            "style": "IPY_MODEL_a914dbe2bbfe478fbce9b9b3399cdc12",
            "value": "0.001 MB of 0.003 MB uploaded (0.000 MB deduped)\r"
          }
        },
        "1181f3af169549cf849b3881137ad340": {
          "model_module": "@jupyter-widgets/controls",
          "model_name": "FloatProgressModel",
          "model_module_version": "1.5.0",
          "state": {
            "_dom_classes": [],
            "_model_module": "@jupyter-widgets/controls",
            "_model_module_version": "1.5.0",
            "_model_name": "FloatProgressModel",
            "_view_count": null,
            "_view_module": "@jupyter-widgets/controls",
            "_view_module_version": "1.5.0",
            "_view_name": "ProgressView",
            "bar_style": "",
            "description": "",
            "description_tooltip": null,
            "layout": "IPY_MODEL_6ad5edbaebf8499daa9d1af3d87a3959",
            "max": 1,
            "min": 0,
            "orientation": "horizontal",
            "style": "IPY_MODEL_a493cc3d9b434f4b90c0a82f83510c92",
            "value": 0.49892008639308855
          }
        },
        "a13d81e1eb9b43e088d44c69aa9da710": {
          "model_module": "@jupyter-widgets/base",
          "model_name": "LayoutModel",
          "model_module_version": "1.2.0",
          "state": {
            "_model_module": "@jupyter-widgets/base",
            "_model_module_version": "1.2.0",
            "_model_name": "LayoutModel",
            "_view_count": null,
            "_view_module": "@jupyter-widgets/base",
            "_view_module_version": "1.2.0",
            "_view_name": "LayoutView",
            "align_content": null,
            "align_items": null,
            "align_self": null,
            "border": null,
            "bottom": null,
            "display": null,
            "flex": null,
            "flex_flow": null,
            "grid_area": null,
            "grid_auto_columns": null,
            "grid_auto_flow": null,
            "grid_auto_rows": null,
            "grid_column": null,
            "grid_gap": null,
            "grid_row": null,
            "grid_template_areas": null,
            "grid_template_columns": null,
            "grid_template_rows": null,
            "height": null,
            "justify_content": null,
            "justify_items": null,
            "left": null,
            "margin": null,
            "max_height": null,
            "max_width": null,
            "min_height": null,
            "min_width": null,
            "object_fit": null,
            "object_position": null,
            "order": null,
            "overflow": null,
            "overflow_x": null,
            "overflow_y": null,
            "padding": null,
            "right": null,
            "top": null,
            "visibility": null,
            "width": null
          }
        },
        "e47772777f5c4fe49ab0ebbd868f5860": {
          "model_module": "@jupyter-widgets/base",
          "model_name": "LayoutModel",
          "model_module_version": "1.2.0",
          "state": {
            "_model_module": "@jupyter-widgets/base",
            "_model_module_version": "1.2.0",
            "_model_name": "LayoutModel",
            "_view_count": null,
            "_view_module": "@jupyter-widgets/base",
            "_view_module_version": "1.2.0",
            "_view_name": "LayoutView",
            "align_content": null,
            "align_items": null,
            "align_self": null,
            "border": null,
            "bottom": null,
            "display": null,
            "flex": null,
            "flex_flow": null,
            "grid_area": null,
            "grid_auto_columns": null,
            "grid_auto_flow": null,
            "grid_auto_rows": null,
            "grid_column": null,
            "grid_gap": null,
            "grid_row": null,
            "grid_template_areas": null,
            "grid_template_columns": null,
            "grid_template_rows": null,
            "height": null,
            "justify_content": null,
            "justify_items": null,
            "left": null,
            "margin": null,
            "max_height": null,
            "max_width": null,
            "min_height": null,
            "min_width": null,
            "object_fit": null,
            "object_position": null,
            "order": null,
            "overflow": null,
            "overflow_x": null,
            "overflow_y": null,
            "padding": null,
            "right": null,
            "top": null,
            "visibility": null,
            "width": null
          }
        },
        "a914dbe2bbfe478fbce9b9b3399cdc12": {
          "model_module": "@jupyter-widgets/controls",
          "model_name": "DescriptionStyleModel",
          "model_module_version": "1.5.0",
          "state": {
            "_model_module": "@jupyter-widgets/controls",
            "_model_module_version": "1.5.0",
            "_model_name": "DescriptionStyleModel",
            "_view_count": null,
            "_view_module": "@jupyter-widgets/base",
            "_view_module_version": "1.2.0",
            "_view_name": "StyleView",
            "description_width": ""
          }
        },
        "6ad5edbaebf8499daa9d1af3d87a3959": {
          "model_module": "@jupyter-widgets/base",
          "model_name": "LayoutModel",
          "model_module_version": "1.2.0",
          "state": {
            "_model_module": "@jupyter-widgets/base",
            "_model_module_version": "1.2.0",
            "_model_name": "LayoutModel",
            "_view_count": null,
            "_view_module": "@jupyter-widgets/base",
            "_view_module_version": "1.2.0",
            "_view_name": "LayoutView",
            "align_content": null,
            "align_items": null,
            "align_self": null,
            "border": null,
            "bottom": null,
            "display": null,
            "flex": null,
            "flex_flow": null,
            "grid_area": null,
            "grid_auto_columns": null,
            "grid_auto_flow": null,
            "grid_auto_rows": null,
            "grid_column": null,
            "grid_gap": null,
            "grid_row": null,
            "grid_template_areas": null,
            "grid_template_columns": null,
            "grid_template_rows": null,
            "height": null,
            "justify_content": null,
            "justify_items": null,
            "left": null,
            "margin": null,
            "max_height": null,
            "max_width": null,
            "min_height": null,
            "min_width": null,
            "object_fit": null,
            "object_position": null,
            "order": null,
            "overflow": null,
            "overflow_x": null,
            "overflow_y": null,
            "padding": null,
            "right": null,
            "top": null,
            "visibility": null,
            "width": null
          }
        },
        "a493cc3d9b434f4b90c0a82f83510c92": {
          "model_module": "@jupyter-widgets/controls",
          "model_name": "ProgressStyleModel",
          "model_module_version": "1.5.0",
          "state": {
            "_model_module": "@jupyter-widgets/controls",
            "_model_module_version": "1.5.0",
            "_model_name": "ProgressStyleModel",
            "_view_count": null,
            "_view_module": "@jupyter-widgets/base",
            "_view_module_version": "1.2.0",
            "_view_name": "StyleView",
            "bar_color": null,
            "description_width": ""
          }
        },
        "8efa1104c2cc40d39933e5c0635b14aa": {
          "model_module": "@jupyter-widgets/controls",
          "model_name": "VBoxModel",
          "model_module_version": "1.5.0",
          "state": {
            "_dom_classes": [],
            "_model_module": "@jupyter-widgets/controls",
            "_model_module_version": "1.5.0",
            "_model_name": "VBoxModel",
            "_view_count": null,
            "_view_module": "@jupyter-widgets/controls",
            "_view_module_version": "1.5.0",
            "_view_name": "VBoxView",
            "box_style": "",
            "children": [
              "IPY_MODEL_86b4022b1c984dcfbc07286a7a96038e",
              "IPY_MODEL_b44a3d3903ed4ee9b34d08b97f520733"
            ],
            "layout": "IPY_MODEL_e59ad38404fc4476a3d5b036a7751e8a"
          }
        },
        "86b4022b1c984dcfbc07286a7a96038e": {
          "model_module": "@jupyter-widgets/controls",
          "model_name": "LabelModel",
          "model_module_version": "1.5.0",
          "state": {
            "_dom_classes": [],
            "_model_module": "@jupyter-widgets/controls",
            "_model_module_version": "1.5.0",
            "_model_name": "LabelModel",
            "_view_count": null,
            "_view_module": "@jupyter-widgets/controls",
            "_view_module_version": "1.5.0",
            "_view_name": "LabelView",
            "description": "",
            "description_tooltip": null,
            "layout": "IPY_MODEL_fa67028a39d04bd9bc003f6364618526",
            "placeholder": "​",
            "style": "IPY_MODEL_7567b523801249ce8ca4a3c40fbb85d2",
            "value": "0.001 MB of 0.003 MB uploaded (0.000 MB deduped)\r"
          }
        },
        "b44a3d3903ed4ee9b34d08b97f520733": {
          "model_module": "@jupyter-widgets/controls",
          "model_name": "FloatProgressModel",
          "model_module_version": "1.5.0",
          "state": {
            "_dom_classes": [],
            "_model_module": "@jupyter-widgets/controls",
            "_model_module_version": "1.5.0",
            "_model_name": "FloatProgressModel",
            "_view_count": null,
            "_view_module": "@jupyter-widgets/controls",
            "_view_module_version": "1.5.0",
            "_view_name": "ProgressView",
            "bar_style": "",
            "description": "",
            "description_tooltip": null,
            "layout": "IPY_MODEL_33b91c8847744abcb89330d803c576cf",
            "max": 1,
            "min": 0,
            "orientation": "horizontal",
            "style": "IPY_MODEL_d1d419aacbb64d52ae65a98d09b9c333",
            "value": 0.5051020408163265
          }
        },
        "e59ad38404fc4476a3d5b036a7751e8a": {
          "model_module": "@jupyter-widgets/base",
          "model_name": "LayoutModel",
          "model_module_version": "1.2.0",
          "state": {
            "_model_module": "@jupyter-widgets/base",
            "_model_module_version": "1.2.0",
            "_model_name": "LayoutModel",
            "_view_count": null,
            "_view_module": "@jupyter-widgets/base",
            "_view_module_version": "1.2.0",
            "_view_name": "LayoutView",
            "align_content": null,
            "align_items": null,
            "align_self": null,
            "border": null,
            "bottom": null,
            "display": null,
            "flex": null,
            "flex_flow": null,
            "grid_area": null,
            "grid_auto_columns": null,
            "grid_auto_flow": null,
            "grid_auto_rows": null,
            "grid_column": null,
            "grid_gap": null,
            "grid_row": null,
            "grid_template_areas": null,
            "grid_template_columns": null,
            "grid_template_rows": null,
            "height": null,
            "justify_content": null,
            "justify_items": null,
            "left": null,
            "margin": null,
            "max_height": null,
            "max_width": null,
            "min_height": null,
            "min_width": null,
            "object_fit": null,
            "object_position": null,
            "order": null,
            "overflow": null,
            "overflow_x": null,
            "overflow_y": null,
            "padding": null,
            "right": null,
            "top": null,
            "visibility": null,
            "width": null
          }
        },
        "fa67028a39d04bd9bc003f6364618526": {
          "model_module": "@jupyter-widgets/base",
          "model_name": "LayoutModel",
          "model_module_version": "1.2.0",
          "state": {
            "_model_module": "@jupyter-widgets/base",
            "_model_module_version": "1.2.0",
            "_model_name": "LayoutModel",
            "_view_count": null,
            "_view_module": "@jupyter-widgets/base",
            "_view_module_version": "1.2.0",
            "_view_name": "LayoutView",
            "align_content": null,
            "align_items": null,
            "align_self": null,
            "border": null,
            "bottom": null,
            "display": null,
            "flex": null,
            "flex_flow": null,
            "grid_area": null,
            "grid_auto_columns": null,
            "grid_auto_flow": null,
            "grid_auto_rows": null,
            "grid_column": null,
            "grid_gap": null,
            "grid_row": null,
            "grid_template_areas": null,
            "grid_template_columns": null,
            "grid_template_rows": null,
            "height": null,
            "justify_content": null,
            "justify_items": null,
            "left": null,
            "margin": null,
            "max_height": null,
            "max_width": null,
            "min_height": null,
            "min_width": null,
            "object_fit": null,
            "object_position": null,
            "order": null,
            "overflow": null,
            "overflow_x": null,
            "overflow_y": null,
            "padding": null,
            "right": null,
            "top": null,
            "visibility": null,
            "width": null
          }
        },
        "7567b523801249ce8ca4a3c40fbb85d2": {
          "model_module": "@jupyter-widgets/controls",
          "model_name": "DescriptionStyleModel",
          "model_module_version": "1.5.0",
          "state": {
            "_model_module": "@jupyter-widgets/controls",
            "_model_module_version": "1.5.0",
            "_model_name": "DescriptionStyleModel",
            "_view_count": null,
            "_view_module": "@jupyter-widgets/base",
            "_view_module_version": "1.2.0",
            "_view_name": "StyleView",
            "description_width": ""
          }
        },
        "33b91c8847744abcb89330d803c576cf": {
          "model_module": "@jupyter-widgets/base",
          "model_name": "LayoutModel",
          "model_module_version": "1.2.0",
          "state": {
            "_model_module": "@jupyter-widgets/base",
            "_model_module_version": "1.2.0",
            "_model_name": "LayoutModel",
            "_view_count": null,
            "_view_module": "@jupyter-widgets/base",
            "_view_module_version": "1.2.0",
            "_view_name": "LayoutView",
            "align_content": null,
            "align_items": null,
            "align_self": null,
            "border": null,
            "bottom": null,
            "display": null,
            "flex": null,
            "flex_flow": null,
            "grid_area": null,
            "grid_auto_columns": null,
            "grid_auto_flow": null,
            "grid_auto_rows": null,
            "grid_column": null,
            "grid_gap": null,
            "grid_row": null,
            "grid_template_areas": null,
            "grid_template_columns": null,
            "grid_template_rows": null,
            "height": null,
            "justify_content": null,
            "justify_items": null,
            "left": null,
            "margin": null,
            "max_height": null,
            "max_width": null,
            "min_height": null,
            "min_width": null,
            "object_fit": null,
            "object_position": null,
            "order": null,
            "overflow": null,
            "overflow_x": null,
            "overflow_y": null,
            "padding": null,
            "right": null,
            "top": null,
            "visibility": null,
            "width": null
          }
        },
        "d1d419aacbb64d52ae65a98d09b9c333": {
          "model_module": "@jupyter-widgets/controls",
          "model_name": "ProgressStyleModel",
          "model_module_version": "1.5.0",
          "state": {
            "_model_module": "@jupyter-widgets/controls",
            "_model_module_version": "1.5.0",
            "_model_name": "ProgressStyleModel",
            "_view_count": null,
            "_view_module": "@jupyter-widgets/base",
            "_view_module_version": "1.2.0",
            "_view_name": "StyleView",
            "bar_color": null,
            "description_width": ""
          }
        },
        "11c30a72f52f44abad216eff5ba4d816": {
          "model_module": "@jupyter-widgets/controls",
          "model_name": "VBoxModel",
          "model_module_version": "1.5.0",
          "state": {
            "_dom_classes": [],
            "_model_module": "@jupyter-widgets/controls",
            "_model_module_version": "1.5.0",
            "_model_name": "VBoxModel",
            "_view_count": null,
            "_view_module": "@jupyter-widgets/controls",
            "_view_module_version": "1.5.0",
            "_view_name": "VBoxView",
            "box_style": "",
            "children": [
              "IPY_MODEL_dbdc10f0167f4f1581ad3363ba010282",
              "IPY_MODEL_f9ecd9c04ede49daa21b86a126e5faad"
            ],
            "layout": "IPY_MODEL_dc2c9ad35b4e4c75bb36a2b318c9997c"
          }
        },
        "dbdc10f0167f4f1581ad3363ba010282": {
          "model_module": "@jupyter-widgets/controls",
          "model_name": "LabelModel",
          "model_module_version": "1.5.0",
          "state": {
            "_dom_classes": [],
            "_model_module": "@jupyter-widgets/controls",
            "_model_module_version": "1.5.0",
            "_model_name": "LabelModel",
            "_view_count": null,
            "_view_module": "@jupyter-widgets/controls",
            "_view_module_version": "1.5.0",
            "_view_name": "LabelView",
            "description": "",
            "description_tooltip": null,
            "layout": "IPY_MODEL_d606ff930c51425e9eb031eb75bf151d",
            "placeholder": "​",
            "style": "IPY_MODEL_addb05c9ace94338bca7808f3ab70f55",
            "value": "0.001 MB of 0.001 MB uploaded (0.000 MB deduped)\r"
          }
        },
        "f9ecd9c04ede49daa21b86a126e5faad": {
          "model_module": "@jupyter-widgets/controls",
          "model_name": "FloatProgressModel",
          "model_module_version": "1.5.0",
          "state": {
            "_dom_classes": [],
            "_model_module": "@jupyter-widgets/controls",
            "_model_module_version": "1.5.0",
            "_model_name": "FloatProgressModel",
            "_view_count": null,
            "_view_module": "@jupyter-widgets/controls",
            "_view_module_version": "1.5.0",
            "_view_name": "ProgressView",
            "bar_style": "",
            "description": "",
            "description_tooltip": null,
            "layout": "IPY_MODEL_a464faefb6e842708efc162224ebc0f7",
            "max": 1,
            "min": 0,
            "orientation": "horizontal",
            "style": "IPY_MODEL_4f6c2294e04c45f48e08500db5569e94",
            "value": 1
          }
        },
        "dc2c9ad35b4e4c75bb36a2b318c9997c": {
          "model_module": "@jupyter-widgets/base",
          "model_name": "LayoutModel",
          "model_module_version": "1.2.0",
          "state": {
            "_model_module": "@jupyter-widgets/base",
            "_model_module_version": "1.2.0",
            "_model_name": "LayoutModel",
            "_view_count": null,
            "_view_module": "@jupyter-widgets/base",
            "_view_module_version": "1.2.0",
            "_view_name": "LayoutView",
            "align_content": null,
            "align_items": null,
            "align_self": null,
            "border": null,
            "bottom": null,
            "display": null,
            "flex": null,
            "flex_flow": null,
            "grid_area": null,
            "grid_auto_columns": null,
            "grid_auto_flow": null,
            "grid_auto_rows": null,
            "grid_column": null,
            "grid_gap": null,
            "grid_row": null,
            "grid_template_areas": null,
            "grid_template_columns": null,
            "grid_template_rows": null,
            "height": null,
            "justify_content": null,
            "justify_items": null,
            "left": null,
            "margin": null,
            "max_height": null,
            "max_width": null,
            "min_height": null,
            "min_width": null,
            "object_fit": null,
            "object_position": null,
            "order": null,
            "overflow": null,
            "overflow_x": null,
            "overflow_y": null,
            "padding": null,
            "right": null,
            "top": null,
            "visibility": null,
            "width": null
          }
        },
        "d606ff930c51425e9eb031eb75bf151d": {
          "model_module": "@jupyter-widgets/base",
          "model_name": "LayoutModel",
          "model_module_version": "1.2.0",
          "state": {
            "_model_module": "@jupyter-widgets/base",
            "_model_module_version": "1.2.0",
            "_model_name": "LayoutModel",
            "_view_count": null,
            "_view_module": "@jupyter-widgets/base",
            "_view_module_version": "1.2.0",
            "_view_name": "LayoutView",
            "align_content": null,
            "align_items": null,
            "align_self": null,
            "border": null,
            "bottom": null,
            "display": null,
            "flex": null,
            "flex_flow": null,
            "grid_area": null,
            "grid_auto_columns": null,
            "grid_auto_flow": null,
            "grid_auto_rows": null,
            "grid_column": null,
            "grid_gap": null,
            "grid_row": null,
            "grid_template_areas": null,
            "grid_template_columns": null,
            "grid_template_rows": null,
            "height": null,
            "justify_content": null,
            "justify_items": null,
            "left": null,
            "margin": null,
            "max_height": null,
            "max_width": null,
            "min_height": null,
            "min_width": null,
            "object_fit": null,
            "object_position": null,
            "order": null,
            "overflow": null,
            "overflow_x": null,
            "overflow_y": null,
            "padding": null,
            "right": null,
            "top": null,
            "visibility": null,
            "width": null
          }
        },
        "addb05c9ace94338bca7808f3ab70f55": {
          "model_module": "@jupyter-widgets/controls",
          "model_name": "DescriptionStyleModel",
          "model_module_version": "1.5.0",
          "state": {
            "_model_module": "@jupyter-widgets/controls",
            "_model_module_version": "1.5.0",
            "_model_name": "DescriptionStyleModel",
            "_view_count": null,
            "_view_module": "@jupyter-widgets/base",
            "_view_module_version": "1.2.0",
            "_view_name": "StyleView",
            "description_width": ""
          }
        },
        "a464faefb6e842708efc162224ebc0f7": {
          "model_module": "@jupyter-widgets/base",
          "model_name": "LayoutModel",
          "model_module_version": "1.2.0",
          "state": {
            "_model_module": "@jupyter-widgets/base",
            "_model_module_version": "1.2.0",
            "_model_name": "LayoutModel",
            "_view_count": null,
            "_view_module": "@jupyter-widgets/base",
            "_view_module_version": "1.2.0",
            "_view_name": "LayoutView",
            "align_content": null,
            "align_items": null,
            "align_self": null,
            "border": null,
            "bottom": null,
            "display": null,
            "flex": null,
            "flex_flow": null,
            "grid_area": null,
            "grid_auto_columns": null,
            "grid_auto_flow": null,
            "grid_auto_rows": null,
            "grid_column": null,
            "grid_gap": null,
            "grid_row": null,
            "grid_template_areas": null,
            "grid_template_columns": null,
            "grid_template_rows": null,
            "height": null,
            "justify_content": null,
            "justify_items": null,
            "left": null,
            "margin": null,
            "max_height": null,
            "max_width": null,
            "min_height": null,
            "min_width": null,
            "object_fit": null,
            "object_position": null,
            "order": null,
            "overflow": null,
            "overflow_x": null,
            "overflow_y": null,
            "padding": null,
            "right": null,
            "top": null,
            "visibility": null,
            "width": null
          }
        },
        "4f6c2294e04c45f48e08500db5569e94": {
          "model_module": "@jupyter-widgets/controls",
          "model_name": "ProgressStyleModel",
          "model_module_version": "1.5.0",
          "state": {
            "_model_module": "@jupyter-widgets/controls",
            "_model_module_version": "1.5.0",
            "_model_name": "ProgressStyleModel",
            "_view_count": null,
            "_view_module": "@jupyter-widgets/base",
            "_view_module_version": "1.2.0",
            "_view_name": "StyleView",
            "bar_color": null,
            "description_width": ""
          }
        },
        "afd71cd513a74453b719142b280bcd11": {
          "model_module": "@jupyter-widgets/controls",
          "model_name": "VBoxModel",
          "model_module_version": "1.5.0",
          "state": {
            "_dom_classes": [],
            "_model_module": "@jupyter-widgets/controls",
            "_model_module_version": "1.5.0",
            "_model_name": "VBoxModel",
            "_view_count": null,
            "_view_module": "@jupyter-widgets/controls",
            "_view_module_version": "1.5.0",
            "_view_name": "VBoxView",
            "box_style": "",
            "children": [
              "IPY_MODEL_1d0467a44e8a4001a87727acb8563395",
              "IPY_MODEL_744205305ca0430ca8f50372b22653a8"
            ],
            "layout": "IPY_MODEL_90dad7cdc4074f8b8141713fa53d8c52"
          }
        },
        "1d0467a44e8a4001a87727acb8563395": {
          "model_module": "@jupyter-widgets/controls",
          "model_name": "LabelModel",
          "model_module_version": "1.5.0",
          "state": {
            "_dom_classes": [],
            "_model_module": "@jupyter-widgets/controls",
            "_model_module_version": "1.5.0",
            "_model_name": "LabelModel",
            "_view_count": null,
            "_view_module": "@jupyter-widgets/controls",
            "_view_module_version": "1.5.0",
            "_view_name": "LabelView",
            "description": "",
            "description_tooltip": null,
            "layout": "IPY_MODEL_6b8edde1044040faaeaaf8720853b2e8",
            "placeholder": "​",
            "style": "IPY_MODEL_629d783f19054fb49a702a45461870dd",
            "value": "Waiting for wandb.init()...\r"
          }
        },
        "744205305ca0430ca8f50372b22653a8": {
          "model_module": "@jupyter-widgets/controls",
          "model_name": "FloatProgressModel",
          "model_module_version": "1.5.0",
          "state": {
            "_dom_classes": [],
            "_model_module": "@jupyter-widgets/controls",
            "_model_module_version": "1.5.0",
            "_model_name": "FloatProgressModel",
            "_view_count": null,
            "_view_module": "@jupyter-widgets/controls",
            "_view_module_version": "1.5.0",
            "_view_name": "ProgressView",
            "bar_style": "",
            "description": "",
            "description_tooltip": null,
            "layout": "IPY_MODEL_872877894c714040ac70b8596cb11ec5",
            "max": 1,
            "min": 0,
            "orientation": "horizontal",
            "style": "IPY_MODEL_fdc08cb58fb741d49854dd13917c06ca",
            "value": 1
          }
        },
        "90dad7cdc4074f8b8141713fa53d8c52": {
          "model_module": "@jupyter-widgets/base",
          "model_name": "LayoutModel",
          "model_module_version": "1.2.0",
          "state": {
            "_model_module": "@jupyter-widgets/base",
            "_model_module_version": "1.2.0",
            "_model_name": "LayoutModel",
            "_view_count": null,
            "_view_module": "@jupyter-widgets/base",
            "_view_module_version": "1.2.0",
            "_view_name": "LayoutView",
            "align_content": null,
            "align_items": null,
            "align_self": null,
            "border": null,
            "bottom": null,
            "display": null,
            "flex": null,
            "flex_flow": null,
            "grid_area": null,
            "grid_auto_columns": null,
            "grid_auto_flow": null,
            "grid_auto_rows": null,
            "grid_column": null,
            "grid_gap": null,
            "grid_row": null,
            "grid_template_areas": null,
            "grid_template_columns": null,
            "grid_template_rows": null,
            "height": null,
            "justify_content": null,
            "justify_items": null,
            "left": null,
            "margin": null,
            "max_height": null,
            "max_width": null,
            "min_height": null,
            "min_width": null,
            "object_fit": null,
            "object_position": null,
            "order": null,
            "overflow": null,
            "overflow_x": null,
            "overflow_y": null,
            "padding": null,
            "right": null,
            "top": null,
            "visibility": null,
            "width": null
          }
        },
        "6b8edde1044040faaeaaf8720853b2e8": {
          "model_module": "@jupyter-widgets/base",
          "model_name": "LayoutModel",
          "model_module_version": "1.2.0",
          "state": {
            "_model_module": "@jupyter-widgets/base",
            "_model_module_version": "1.2.0",
            "_model_name": "LayoutModel",
            "_view_count": null,
            "_view_module": "@jupyter-widgets/base",
            "_view_module_version": "1.2.0",
            "_view_name": "LayoutView",
            "align_content": null,
            "align_items": null,
            "align_self": null,
            "border": null,
            "bottom": null,
            "display": null,
            "flex": null,
            "flex_flow": null,
            "grid_area": null,
            "grid_auto_columns": null,
            "grid_auto_flow": null,
            "grid_auto_rows": null,
            "grid_column": null,
            "grid_gap": null,
            "grid_row": null,
            "grid_template_areas": null,
            "grid_template_columns": null,
            "grid_template_rows": null,
            "height": null,
            "justify_content": null,
            "justify_items": null,
            "left": null,
            "margin": null,
            "max_height": null,
            "max_width": null,
            "min_height": null,
            "min_width": null,
            "object_fit": null,
            "object_position": null,
            "order": null,
            "overflow": null,
            "overflow_x": null,
            "overflow_y": null,
            "padding": null,
            "right": null,
            "top": null,
            "visibility": null,
            "width": null
          }
        },
        "629d783f19054fb49a702a45461870dd": {
          "model_module": "@jupyter-widgets/controls",
          "model_name": "DescriptionStyleModel",
          "model_module_version": "1.5.0",
          "state": {
            "_model_module": "@jupyter-widgets/controls",
            "_model_module_version": "1.5.0",
            "_model_name": "DescriptionStyleModel",
            "_view_count": null,
            "_view_module": "@jupyter-widgets/base",
            "_view_module_version": "1.2.0",
            "_view_name": "StyleView",
            "description_width": ""
          }
        },
        "872877894c714040ac70b8596cb11ec5": {
          "model_module": "@jupyter-widgets/base",
          "model_name": "LayoutModel",
          "model_module_version": "1.2.0",
          "state": {
            "_model_module": "@jupyter-widgets/base",
            "_model_module_version": "1.2.0",
            "_model_name": "LayoutModel",
            "_view_count": null,
            "_view_module": "@jupyter-widgets/base",
            "_view_module_version": "1.2.0",
            "_view_name": "LayoutView",
            "align_content": null,
            "align_items": null,
            "align_self": null,
            "border": null,
            "bottom": null,
            "display": null,
            "flex": null,
            "flex_flow": null,
            "grid_area": null,
            "grid_auto_columns": null,
            "grid_auto_flow": null,
            "grid_auto_rows": null,
            "grid_column": null,
            "grid_gap": null,
            "grid_row": null,
            "grid_template_areas": null,
            "grid_template_columns": null,
            "grid_template_rows": null,
            "height": null,
            "justify_content": null,
            "justify_items": null,
            "left": null,
            "margin": null,
            "max_height": null,
            "max_width": null,
            "min_height": null,
            "min_width": null,
            "object_fit": null,
            "object_position": null,
            "order": null,
            "overflow": null,
            "overflow_x": null,
            "overflow_y": null,
            "padding": null,
            "right": null,
            "top": null,
            "visibility": null,
            "width": null
          }
        },
        "fdc08cb58fb741d49854dd13917c06ca": {
          "model_module": "@jupyter-widgets/controls",
          "model_name": "ProgressStyleModel",
          "model_module_version": "1.5.0",
          "state": {
            "_model_module": "@jupyter-widgets/controls",
            "_model_module_version": "1.5.0",
            "_model_name": "ProgressStyleModel",
            "_view_count": null,
            "_view_module": "@jupyter-widgets/base",
            "_view_module_version": "1.2.0",
            "_view_name": "StyleView",
            "bar_color": null,
            "description_width": ""
          }
        },
        "5e1beb3a69234969bbeb28b9975b3d76": {
          "model_module": "@jupyter-widgets/controls",
          "model_name": "VBoxModel",
          "model_module_version": "1.5.0",
          "state": {
            "_dom_classes": [],
            "_model_module": "@jupyter-widgets/controls",
            "_model_module_version": "1.5.0",
            "_model_name": "VBoxModel",
            "_view_count": null,
            "_view_module": "@jupyter-widgets/controls",
            "_view_module_version": "1.5.0",
            "_view_name": "VBoxView",
            "box_style": "",
            "children": [
              "IPY_MODEL_07cd234bdd1a4d75a563a84cd03bdb82",
              "IPY_MODEL_25cbbe5f190f409fbfa4f891d5f98af2"
            ],
            "layout": "IPY_MODEL_be92a9dcfea647ab8dd49401e3e1e816"
          }
        },
        "07cd234bdd1a4d75a563a84cd03bdb82": {
          "model_module": "@jupyter-widgets/controls",
          "model_name": "LabelModel",
          "model_module_version": "1.5.0",
          "state": {
            "_dom_classes": [],
            "_model_module": "@jupyter-widgets/controls",
            "_model_module_version": "1.5.0",
            "_model_name": "LabelModel",
            "_view_count": null,
            "_view_module": "@jupyter-widgets/controls",
            "_view_module_version": "1.5.0",
            "_view_name": "LabelView",
            "description": "",
            "description_tooltip": null,
            "layout": "IPY_MODEL_6bdd7b46289b42c59223dfb2a720cd6c",
            "placeholder": "​",
            "style": "IPY_MODEL_94ec6cb927b347109224cd5ec8de1fd2",
            "value": "Waiting for wandb.init()...\r"
          }
        },
        "25cbbe5f190f409fbfa4f891d5f98af2": {
          "model_module": "@jupyter-widgets/controls",
          "model_name": "FloatProgressModel",
          "model_module_version": "1.5.0",
          "state": {
            "_dom_classes": [],
            "_model_module": "@jupyter-widgets/controls",
            "_model_module_version": "1.5.0",
            "_model_name": "FloatProgressModel",
            "_view_count": null,
            "_view_module": "@jupyter-widgets/controls",
            "_view_module_version": "1.5.0",
            "_view_name": "ProgressView",
            "bar_style": "",
            "description": "",
            "description_tooltip": null,
            "layout": "IPY_MODEL_a504971f3a984f83bf40ec092806635a",
            "max": 1,
            "min": 0,
            "orientation": "horizontal",
            "style": "IPY_MODEL_55b1a03ab9334395b0d41ca033fd10fb",
            "value": 1
          }
        },
        "be92a9dcfea647ab8dd49401e3e1e816": {
          "model_module": "@jupyter-widgets/base",
          "model_name": "LayoutModel",
          "model_module_version": "1.2.0",
          "state": {
            "_model_module": "@jupyter-widgets/base",
            "_model_module_version": "1.2.0",
            "_model_name": "LayoutModel",
            "_view_count": null,
            "_view_module": "@jupyter-widgets/base",
            "_view_module_version": "1.2.0",
            "_view_name": "LayoutView",
            "align_content": null,
            "align_items": null,
            "align_self": null,
            "border": null,
            "bottom": null,
            "display": null,
            "flex": null,
            "flex_flow": null,
            "grid_area": null,
            "grid_auto_columns": null,
            "grid_auto_flow": null,
            "grid_auto_rows": null,
            "grid_column": null,
            "grid_gap": null,
            "grid_row": null,
            "grid_template_areas": null,
            "grid_template_columns": null,
            "grid_template_rows": null,
            "height": null,
            "justify_content": null,
            "justify_items": null,
            "left": null,
            "margin": null,
            "max_height": null,
            "max_width": null,
            "min_height": null,
            "min_width": null,
            "object_fit": null,
            "object_position": null,
            "order": null,
            "overflow": null,
            "overflow_x": null,
            "overflow_y": null,
            "padding": null,
            "right": null,
            "top": null,
            "visibility": null,
            "width": null
          }
        },
        "6bdd7b46289b42c59223dfb2a720cd6c": {
          "model_module": "@jupyter-widgets/base",
          "model_name": "LayoutModel",
          "model_module_version": "1.2.0",
          "state": {
            "_model_module": "@jupyter-widgets/base",
            "_model_module_version": "1.2.0",
            "_model_name": "LayoutModel",
            "_view_count": null,
            "_view_module": "@jupyter-widgets/base",
            "_view_module_version": "1.2.0",
            "_view_name": "LayoutView",
            "align_content": null,
            "align_items": null,
            "align_self": null,
            "border": null,
            "bottom": null,
            "display": null,
            "flex": null,
            "flex_flow": null,
            "grid_area": null,
            "grid_auto_columns": null,
            "grid_auto_flow": null,
            "grid_auto_rows": null,
            "grid_column": null,
            "grid_gap": null,
            "grid_row": null,
            "grid_template_areas": null,
            "grid_template_columns": null,
            "grid_template_rows": null,
            "height": null,
            "justify_content": null,
            "justify_items": null,
            "left": null,
            "margin": null,
            "max_height": null,
            "max_width": null,
            "min_height": null,
            "min_width": null,
            "object_fit": null,
            "object_position": null,
            "order": null,
            "overflow": null,
            "overflow_x": null,
            "overflow_y": null,
            "padding": null,
            "right": null,
            "top": null,
            "visibility": null,
            "width": null
          }
        },
        "94ec6cb927b347109224cd5ec8de1fd2": {
          "model_module": "@jupyter-widgets/controls",
          "model_name": "DescriptionStyleModel",
          "model_module_version": "1.5.0",
          "state": {
            "_model_module": "@jupyter-widgets/controls",
            "_model_module_version": "1.5.0",
            "_model_name": "DescriptionStyleModel",
            "_view_count": null,
            "_view_module": "@jupyter-widgets/base",
            "_view_module_version": "1.2.0",
            "_view_name": "StyleView",
            "description_width": ""
          }
        },
        "a504971f3a984f83bf40ec092806635a": {
          "model_module": "@jupyter-widgets/base",
          "model_name": "LayoutModel",
          "model_module_version": "1.2.0",
          "state": {
            "_model_module": "@jupyter-widgets/base",
            "_model_module_version": "1.2.0",
            "_model_name": "LayoutModel",
            "_view_count": null,
            "_view_module": "@jupyter-widgets/base",
            "_view_module_version": "1.2.0",
            "_view_name": "LayoutView",
            "align_content": null,
            "align_items": null,
            "align_self": null,
            "border": null,
            "bottom": null,
            "display": null,
            "flex": null,
            "flex_flow": null,
            "grid_area": null,
            "grid_auto_columns": null,
            "grid_auto_flow": null,
            "grid_auto_rows": null,
            "grid_column": null,
            "grid_gap": null,
            "grid_row": null,
            "grid_template_areas": null,
            "grid_template_columns": null,
            "grid_template_rows": null,
            "height": null,
            "justify_content": null,
            "justify_items": null,
            "left": null,
            "margin": null,
            "max_height": null,
            "max_width": null,
            "min_height": null,
            "min_width": null,
            "object_fit": null,
            "object_position": null,
            "order": null,
            "overflow": null,
            "overflow_x": null,
            "overflow_y": null,
            "padding": null,
            "right": null,
            "top": null,
            "visibility": null,
            "width": null
          }
        },
        "55b1a03ab9334395b0d41ca033fd10fb": {
          "model_module": "@jupyter-widgets/controls",
          "model_name": "ProgressStyleModel",
          "model_module_version": "1.5.0",
          "state": {
            "_model_module": "@jupyter-widgets/controls",
            "_model_module_version": "1.5.0",
            "_model_name": "ProgressStyleModel",
            "_view_count": null,
            "_view_module": "@jupyter-widgets/base",
            "_view_module_version": "1.2.0",
            "_view_name": "StyleView",
            "bar_color": null,
            "description_width": ""
          }
        }
      }
    },
    "accelerator": "GPU"
  },
  "nbformat": 4,
  "nbformat_minor": 0
}